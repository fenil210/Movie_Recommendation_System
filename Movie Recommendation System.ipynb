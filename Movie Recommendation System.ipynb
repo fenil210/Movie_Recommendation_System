{
 "cells": [
  {
   "cell_type": "markdown",
   "id": "78151a5b",
   "metadata": {},
   "source": [
    "# PSC INNOVATIVE\n",
    "# RAJ PARMAR : 21BCE240\n",
    "# FENIL RAMOLIYA : 21BCE244"
   ]
  },
  {
   "cell_type": "markdown",
   "id": "2f07b691",
   "metadata": {},
   "source": [
    "# MOVIE RECOMENDATION SYSTEM"
   ]
  },
  {
   "cell_type": "code",
   "execution_count": 1,
   "id": "c93deb13",
   "metadata": {},
   "outputs": [],
   "source": [
    "import numpy as np\n",
    "import matplotlib.pyplot as plt\n",
    "import pandas as pd\n",
    "import seaborn as sns\n",
    "import matplotlib as mpl\n",
    "import matplotlib.patches as patches\n",
    "from IPython.display import display_html\n",
    "import plotly.graph_objects as go\n",
    "import plotly.express as px\n",
    "import plotly.graph_objs as go\n",
    "from plotly.subplots import make_subplots"
   ]
  },
  {
   "cell_type": "markdown",
   "id": "c6afba66",
   "metadata": {},
   "source": [
    "# FLOW:\n",
    "    1) DATASET DESCRIPTION\n",
    "    2) GRAPH AND PANDAS\n",
    "    3) RECOMMENDATION SYSTEM"
   ]
  },
  {
   "cell_type": "markdown",
   "id": "c4e3a216",
   "metadata": {},
   "source": [
    ">> PART 1"
   ]
  },
  {
   "cell_type": "code",
   "execution_count": 2,
   "id": "e544c729",
   "metadata": {},
   "outputs": [],
   "source": [
    "df = pd.read_csv('psc_innovative.csv')"
   ]
  },
  {
   "cell_type": "code",
   "execution_count": 48,
   "id": "4deed80f",
   "metadata": {},
   "outputs": [
    {
     "data": {
      "text/html": [
       "<div>\n",
       "<style scoped>\n",
       "    .dataframe tbody tr th:only-of-type {\n",
       "        vertical-align: middle;\n",
       "    }\n",
       "\n",
       "    .dataframe tbody tr th {\n",
       "        vertical-align: top;\n",
       "    }\n",
       "\n",
       "    .dataframe thead th {\n",
       "        text-align: right;\n",
       "    }\n",
       "</style>\n",
       "<table border=\"1\" class=\"dataframe\">\n",
       "  <thead>\n",
       "    <tr style=\"text-align: right;\">\n",
       "      <th></th>\n",
       "      <th>rank</th>\n",
       "      <th>name</th>\n",
       "      <th>year</th>\n",
       "      <th>rating</th>\n",
       "      <th>genre</th>\n",
       "      <th>certificate</th>\n",
       "      <th>run_time</th>\n",
       "      <th>tagline</th>\n",
       "      <th>budget</th>\n",
       "      <th>box_office</th>\n",
       "      <th>casts</th>\n",
       "      <th>directors</th>\n",
       "      <th>writers</th>\n",
       "      <th>genre_1</th>\n",
       "      <th>genre_2</th>\n",
       "      <th>genre_3</th>\n",
       "    </tr>\n",
       "  </thead>\n",
       "  <tbody>\n",
       "    <tr>\n",
       "      <th>0</th>\n",
       "      <td>1</td>\n",
       "      <td>The Shawshank Redemption</td>\n",
       "      <td>1994</td>\n",
       "      <td>9.3</td>\n",
       "      <td>Drama</td>\n",
       "      <td>R</td>\n",
       "      <td>2h 22m</td>\n",
       "      <td>Fear can hold you prisoner. Hope can set you f...</td>\n",
       "      <td>25000000</td>\n",
       "      <td>2.888450e+07</td>\n",
       "      <td>Tim Robbins,Morgan Freeman,Bob Gunton,William ...</td>\n",
       "      <td>Frank Darabont</td>\n",
       "      <td>Stephen King,Frank Darabont</td>\n",
       "      <td>Drama</td>\n",
       "      <td>None</td>\n",
       "      <td>None</td>\n",
       "    </tr>\n",
       "    <tr>\n",
       "      <th>1</th>\n",
       "      <td>2</td>\n",
       "      <td>The Godfather</td>\n",
       "      <td>1972</td>\n",
       "      <td>9.2</td>\n",
       "      <td>Crime,Drama</td>\n",
       "      <td>R</td>\n",
       "      <td>2h 55m</td>\n",
       "      <td>An offer you can't refuse.</td>\n",
       "      <td>6000000</td>\n",
       "      <td>2.503418e+08</td>\n",
       "      <td>Marlon Brando,Al Pacino,James Caan,Diane Keato...</td>\n",
       "      <td>Francis Ford Coppola</td>\n",
       "      <td>Mario Puzo,Francis Ford Coppola</td>\n",
       "      <td>Crime</td>\n",
       "      <td>Drama</td>\n",
       "      <td>None</td>\n",
       "    </tr>\n",
       "    <tr>\n",
       "      <th>2</th>\n",
       "      <td>3</td>\n",
       "      <td>The Dark Knight</td>\n",
       "      <td>2008</td>\n",
       "      <td>9.0</td>\n",
       "      <td>Action,Crime,Drama</td>\n",
       "      <td>PG-13</td>\n",
       "      <td>2h 32m</td>\n",
       "      <td>Why So Serious?</td>\n",
       "      <td>185000000</td>\n",
       "      <td>1.006234e+09</td>\n",
       "      <td>Christian Bale,Heath Ledger,Aaron Eckhart,Mich...</td>\n",
       "      <td>Christopher Nolan</td>\n",
       "      <td>Jonathan Nolan,Christopher Nolan,David S. Goyer</td>\n",
       "      <td>Action</td>\n",
       "      <td>Crime</td>\n",
       "      <td>Drama</td>\n",
       "    </tr>\n",
       "    <tr>\n",
       "      <th>3</th>\n",
       "      <td>4</td>\n",
       "      <td>The Godfather Part II</td>\n",
       "      <td>1974</td>\n",
       "      <td>9.0</td>\n",
       "      <td>Crime,Drama</td>\n",
       "      <td>R</td>\n",
       "      <td>3h 22m</td>\n",
       "      <td>All the power on earth can't change destiny.</td>\n",
       "      <td>13000000</td>\n",
       "      <td>4.796192e+07</td>\n",
       "      <td>Al Pacino,Robert De Niro,Robert Duvall,Diane K...</td>\n",
       "      <td>Francis Ford Coppola</td>\n",
       "      <td>Francis Ford Coppola,Mario Puzo</td>\n",
       "      <td>Crime</td>\n",
       "      <td>Drama</td>\n",
       "      <td>None</td>\n",
       "    </tr>\n",
       "    <tr>\n",
       "      <th>4</th>\n",
       "      <td>5</td>\n",
       "      <td>12 Angry Men</td>\n",
       "      <td>1957</td>\n",
       "      <td>9.0</td>\n",
       "      <td>Crime,Drama</td>\n",
       "      <td>Approved</td>\n",
       "      <td>1h 36m</td>\n",
       "      <td>Life Is In Their Hands -- Death Is On Their Mi...</td>\n",
       "      <td>350000</td>\n",
       "      <td>9.550000e+02</td>\n",
       "      <td>Henry Fonda,Lee J. Cobb,Martin Balsam,John Fie...</td>\n",
       "      <td>Sidney Lumet</td>\n",
       "      <td>Reginald Rose</td>\n",
       "      <td>Crime</td>\n",
       "      <td>Drama</td>\n",
       "      <td>None</td>\n",
       "    </tr>\n",
       "    <tr>\n",
       "      <th>5</th>\n",
       "      <td>6</td>\n",
       "      <td>Schindler's List</td>\n",
       "      <td>1993</td>\n",
       "      <td>9.0</td>\n",
       "      <td>Biography,Drama,History</td>\n",
       "      <td>R</td>\n",
       "      <td>3h 15m</td>\n",
       "      <td>Whoever saves one life, saves the world entire.</td>\n",
       "      <td>22000000</td>\n",
       "      <td>3.221612e+08</td>\n",
       "      <td>Liam Neeson,Ralph Fiennes,Ben Kingsley,Carolin...</td>\n",
       "      <td>Steven Spielberg</td>\n",
       "      <td>Thomas Keneally,Steven Zaillian</td>\n",
       "      <td>Biography</td>\n",
       "      <td>Drama</td>\n",
       "      <td>History</td>\n",
       "    </tr>\n",
       "    <tr>\n",
       "      <th>6</th>\n",
       "      <td>7</td>\n",
       "      <td>The Lord of the Rings: The Return of the King</td>\n",
       "      <td>2003</td>\n",
       "      <td>9.0</td>\n",
       "      <td>Action,Adventure,Drama</td>\n",
       "      <td>PG-13</td>\n",
       "      <td>3h 21m</td>\n",
       "      <td>The eye of the enemy is moving.</td>\n",
       "      <td>94000000</td>\n",
       "      <td>1.146458e+09</td>\n",
       "      <td>Elijah Wood,Viggo Mortensen,Ian McKellen,Orlan...</td>\n",
       "      <td>Peter Jackson</td>\n",
       "      <td>J.R.R. Tolkien,Fran Walsh,Philippa Boyens</td>\n",
       "      <td>Action</td>\n",
       "      <td>Adventure</td>\n",
       "      <td>Drama</td>\n",
       "    </tr>\n",
       "    <tr>\n",
       "      <th>7</th>\n",
       "      <td>8</td>\n",
       "      <td>Pulp Fiction</td>\n",
       "      <td>1994</td>\n",
       "      <td>8.9</td>\n",
       "      <td>Crime,Drama</td>\n",
       "      <td>R</td>\n",
       "      <td>2h 34m</td>\n",
       "      <td>Girls like me don't make invitations like this...</td>\n",
       "      <td>8000000</td>\n",
       "      <td>2.139288e+08</td>\n",
       "      <td>John Travolta,Uma Thurman,Samuel L. Jackson,Br...</td>\n",
       "      <td>Quentin Tarantino</td>\n",
       "      <td>Quentin Tarantino,Roger Avary</td>\n",
       "      <td>Crime</td>\n",
       "      <td>Drama</td>\n",
       "      <td>None</td>\n",
       "    </tr>\n",
       "    <tr>\n",
       "      <th>8</th>\n",
       "      <td>9</td>\n",
       "      <td>The Lord of the Rings: The Fellowship of the Ring</td>\n",
       "      <td>2001</td>\n",
       "      <td>8.8</td>\n",
       "      <td>Action,Adventure,Drama</td>\n",
       "      <td>PG-13</td>\n",
       "      <td>2h 58m</td>\n",
       "      <td>The Legend Comes to Life</td>\n",
       "      <td>93000000</td>\n",
       "      <td>8.982044e+08</td>\n",
       "      <td>Elijah Wood,Ian McKellen,Orlando Bloom,Sean Be...</td>\n",
       "      <td>Peter Jackson</td>\n",
       "      <td>J.R.R. Tolkien,Fran Walsh,Philippa Boyens</td>\n",
       "      <td>Action</td>\n",
       "      <td>Adventure</td>\n",
       "      <td>Drama</td>\n",
       "    </tr>\n",
       "    <tr>\n",
       "      <th>9</th>\n",
       "      <td>10</td>\n",
       "      <td>The Good, the Bad and the Ugly</td>\n",
       "      <td>1966</td>\n",
       "      <td>8.8</td>\n",
       "      <td>Adventure,Western</td>\n",
       "      <td>Approved</td>\n",
       "      <td>2h 58m</td>\n",
       "      <td>They formed an alliance of hate to steal a for...</td>\n",
       "      <td>1200000</td>\n",
       "      <td>2.525389e+07</td>\n",
       "      <td>Clint Eastwood,Eli Wallach,Lee Van Cleef,Aldo ...</td>\n",
       "      <td>Sergio Leone</td>\n",
       "      <td>Luciano Vincenzoni,Sergio Leone,Agenore Incrocci</td>\n",
       "      <td>Adventure</td>\n",
       "      <td>Western</td>\n",
       "      <td>None</td>\n",
       "    </tr>\n",
       "  </tbody>\n",
       "</table>\n",
       "</div>"
      ],
      "text/plain": [
       "   rank                                               name  year  rating  \\\n",
       "0     1                           The Shawshank Redemption  1994     9.3   \n",
       "1     2                                      The Godfather  1972     9.2   \n",
       "2     3                                    The Dark Knight  2008     9.0   \n",
       "3     4                              The Godfather Part II  1974     9.0   \n",
       "4     5                                       12 Angry Men  1957     9.0   \n",
       "5     6                                   Schindler's List  1993     9.0   \n",
       "6     7      The Lord of the Rings: The Return of the King  2003     9.0   \n",
       "7     8                                       Pulp Fiction  1994     8.9   \n",
       "8     9  The Lord of the Rings: The Fellowship of the Ring  2001     8.8   \n",
       "9    10                     The Good, the Bad and the Ugly  1966     8.8   \n",
       "\n",
       "                     genre certificate run_time  \\\n",
       "0                    Drama           R   2h 22m   \n",
       "1              Crime,Drama           R   2h 55m   \n",
       "2       Action,Crime,Drama       PG-13   2h 32m   \n",
       "3              Crime,Drama           R   3h 22m   \n",
       "4              Crime,Drama    Approved   1h 36m   \n",
       "5  Biography,Drama,History           R   3h 15m   \n",
       "6   Action,Adventure,Drama       PG-13   3h 21m   \n",
       "7              Crime,Drama           R   2h 34m   \n",
       "8   Action,Adventure,Drama       PG-13   2h 58m   \n",
       "9        Adventure,Western    Approved   2h 58m   \n",
       "\n",
       "                                             tagline     budget    box_office  \\\n",
       "0  Fear can hold you prisoner. Hope can set you f...   25000000  2.888450e+07   \n",
       "1                         An offer you can't refuse.    6000000  2.503418e+08   \n",
       "2                                    Why So Serious?  185000000  1.006234e+09   \n",
       "3       All the power on earth can't change destiny.   13000000  4.796192e+07   \n",
       "4  Life Is In Their Hands -- Death Is On Their Mi...     350000  9.550000e+02   \n",
       "5    Whoever saves one life, saves the world entire.   22000000  3.221612e+08   \n",
       "6                    The eye of the enemy is moving.   94000000  1.146458e+09   \n",
       "7  Girls like me don't make invitations like this...    8000000  2.139288e+08   \n",
       "8                           The Legend Comes to Life   93000000  8.982044e+08   \n",
       "9  They formed an alliance of hate to steal a for...    1200000  2.525389e+07   \n",
       "\n",
       "                                               casts             directors  \\\n",
       "0  Tim Robbins,Morgan Freeman,Bob Gunton,William ...        Frank Darabont   \n",
       "1  Marlon Brando,Al Pacino,James Caan,Diane Keato...  Francis Ford Coppola   \n",
       "2  Christian Bale,Heath Ledger,Aaron Eckhart,Mich...     Christopher Nolan   \n",
       "3  Al Pacino,Robert De Niro,Robert Duvall,Diane K...  Francis Ford Coppola   \n",
       "4  Henry Fonda,Lee J. Cobb,Martin Balsam,John Fie...          Sidney Lumet   \n",
       "5  Liam Neeson,Ralph Fiennes,Ben Kingsley,Carolin...      Steven Spielberg   \n",
       "6  Elijah Wood,Viggo Mortensen,Ian McKellen,Orlan...         Peter Jackson   \n",
       "7  John Travolta,Uma Thurman,Samuel L. Jackson,Br...     Quentin Tarantino   \n",
       "8  Elijah Wood,Ian McKellen,Orlando Bloom,Sean Be...         Peter Jackson   \n",
       "9  Clint Eastwood,Eli Wallach,Lee Van Cleef,Aldo ...          Sergio Leone   \n",
       "\n",
       "                                            writers    genre_1    genre_2  \\\n",
       "0                       Stephen King,Frank Darabont      Drama       None   \n",
       "1                   Mario Puzo,Francis Ford Coppola      Crime      Drama   \n",
       "2   Jonathan Nolan,Christopher Nolan,David S. Goyer     Action      Crime   \n",
       "3                   Francis Ford Coppola,Mario Puzo      Crime      Drama   \n",
       "4                                     Reginald Rose      Crime      Drama   \n",
       "5                   Thomas Keneally,Steven Zaillian  Biography      Drama   \n",
       "6         J.R.R. Tolkien,Fran Walsh,Philippa Boyens     Action  Adventure   \n",
       "7                     Quentin Tarantino,Roger Avary      Crime      Drama   \n",
       "8         J.R.R. Tolkien,Fran Walsh,Philippa Boyens     Action  Adventure   \n",
       "9  Luciano Vincenzoni,Sergio Leone,Agenore Incrocci  Adventure    Western   \n",
       "\n",
       "   genre_3  \n",
       "0     None  \n",
       "1     None  \n",
       "2    Drama  \n",
       "3     None  \n",
       "4     None  \n",
       "5  History  \n",
       "6    Drama  \n",
       "7     None  \n",
       "8    Drama  \n",
       "9     None  "
      ]
     },
     "execution_count": 48,
     "metadata": {},
     "output_type": "execute_result"
    }
   ],
   "source": [
    "df.head(10)"
   ]
  },
  {
   "cell_type": "code",
   "execution_count": 4,
   "id": "ead4d9af",
   "metadata": {},
   "outputs": [
    {
     "data": {
      "text/html": [
       "<div>\n",
       "<style scoped>\n",
       "    .dataframe tbody tr th:only-of-type {\n",
       "        vertical-align: middle;\n",
       "    }\n",
       "\n",
       "    .dataframe tbody tr th {\n",
       "        vertical-align: top;\n",
       "    }\n",
       "\n",
       "    .dataframe thead th {\n",
       "        text-align: right;\n",
       "    }\n",
       "</style>\n",
       "<table border=\"1\" class=\"dataframe\">\n",
       "  <thead>\n",
       "    <tr style=\"text-align: right;\">\n",
       "      <th></th>\n",
       "      <th>rank</th>\n",
       "      <th>year</th>\n",
       "      <th>rating</th>\n",
       "    </tr>\n",
       "  </thead>\n",
       "  <tbody>\n",
       "    <tr>\n",
       "      <th>count</th>\n",
       "      <td>250.000000</td>\n",
       "      <td>250.000000</td>\n",
       "      <td>250.000000</td>\n",
       "    </tr>\n",
       "    <tr>\n",
       "      <th>mean</th>\n",
       "      <td>125.500000</td>\n",
       "      <td>1986.360000</td>\n",
       "      <td>8.307200</td>\n",
       "    </tr>\n",
       "    <tr>\n",
       "      <th>std</th>\n",
       "      <td>72.312977</td>\n",
       "      <td>25.125356</td>\n",
       "      <td>0.229081</td>\n",
       "    </tr>\n",
       "    <tr>\n",
       "      <th>min</th>\n",
       "      <td>1.000000</td>\n",
       "      <td>1921.000000</td>\n",
       "      <td>8.000000</td>\n",
       "    </tr>\n",
       "    <tr>\n",
       "      <th>25%</th>\n",
       "      <td>63.250000</td>\n",
       "      <td>1966.250000</td>\n",
       "      <td>8.100000</td>\n",
       "    </tr>\n",
       "    <tr>\n",
       "      <th>50%</th>\n",
       "      <td>125.500000</td>\n",
       "      <td>1994.000000</td>\n",
       "      <td>8.200000</td>\n",
       "    </tr>\n",
       "    <tr>\n",
       "      <th>75%</th>\n",
       "      <td>187.750000</td>\n",
       "      <td>2006.000000</td>\n",
       "      <td>8.400000</td>\n",
       "    </tr>\n",
       "    <tr>\n",
       "      <th>max</th>\n",
       "      <td>250.000000</td>\n",
       "      <td>2022.000000</td>\n",
       "      <td>9.300000</td>\n",
       "    </tr>\n",
       "  </tbody>\n",
       "</table>\n",
       "</div>"
      ],
      "text/plain": [
       "             rank         year      rating\n",
       "count  250.000000   250.000000  250.000000\n",
       "mean   125.500000  1986.360000    8.307200\n",
       "std     72.312977    25.125356    0.229081\n",
       "min      1.000000  1921.000000    8.000000\n",
       "25%     63.250000  1966.250000    8.100000\n",
       "50%    125.500000  1994.000000    8.200000\n",
       "75%    187.750000  2006.000000    8.400000\n",
       "max    250.000000  2022.000000    9.300000"
      ]
     },
     "execution_count": 4,
     "metadata": {},
     "output_type": "execute_result"
    }
   ],
   "source": [
    "df.describe()"
   ]
  },
  {
   "cell_type": "code",
   "execution_count": 5,
   "id": "845f501c",
   "metadata": {},
   "outputs": [
    {
     "name": "stdout",
     "output_type": "stream",
     "text": [
      "<class 'pandas.core.frame.DataFrame'>\n",
      "RangeIndex: 250 entries, 0 to 249\n",
      "Data columns (total 13 columns):\n",
      " #   Column       Non-Null Count  Dtype  \n",
      "---  ------       --------------  -----  \n",
      " 0   rank         250 non-null    int64  \n",
      " 1   name         250 non-null    object \n",
      " 2   year         250 non-null    int64  \n",
      " 3   rating       250 non-null    float64\n",
      " 4   genre        250 non-null    object \n",
      " 5   certificate  250 non-null    object \n",
      " 6   run_time     250 non-null    object \n",
      " 7   tagline      250 non-null    object \n",
      " 8   budget       250 non-null    object \n",
      " 9   box_office   250 non-null    object \n",
      " 10  casts        250 non-null    object \n",
      " 11  directors    250 non-null    object \n",
      " 12  writers      250 non-null    object \n",
      "dtypes: float64(1), int64(2), object(10)\n",
      "memory usage: 25.5+ KB\n"
     ]
    }
   ],
   "source": [
    "df.info()"
   ]
  },
  {
   "cell_type": "code",
   "execution_count": 6,
   "id": "98ffaba6",
   "metadata": {},
   "outputs": [
    {
     "data": {
      "text/plain": [
       "(250, 13)"
      ]
     },
     "execution_count": 6,
     "metadata": {},
     "output_type": "execute_result"
    }
   ],
   "source": [
    "df.shape"
   ]
  },
  {
   "cell_type": "code",
   "execution_count": 7,
   "id": "b2cae3fe",
   "metadata": {},
   "outputs": [
    {
     "data": {
      "text/plain": [
       "rank           250\n",
       "name           250\n",
       "year           250\n",
       "rating         250\n",
       "genre          250\n",
       "certificate    250\n",
       "run_time       250\n",
       "tagline        250\n",
       "budget         250\n",
       "box_office     250\n",
       "casts          250\n",
       "directors      250\n",
       "writers        250\n",
       "dtype: int64"
      ]
     },
     "execution_count": 7,
     "metadata": {},
     "output_type": "execute_result"
    }
   ],
   "source": [
    "df.count()"
   ]
  },
  {
   "cell_type": "markdown",
   "id": "03dfbac1",
   "metadata": {},
   "source": [
    "1) rank: The movie's standing according to its level of popularity or any other factor.\n",
    "\n",
    "2) name: The film's title.\n",
    "\n",
    "3) year: The year the movie was first shown.\n",
    "\n",
    "4) rating: The film's score out of ten on IMDb's scale of one to ten.\n",
    "\n",
    "5) genre: the classification or style of a film, such as drama, comedy, action, etc.\n",
    "\n",
    "6) Certificate: The rating assigned to the film by the proper certifying body, indicating its suitability for different age groups and perhaps containing details about the content.\n",
    "\n",
    "7) run_time: How long the film is.\n",
    "\n",
    "8) Tagline: The statement or clause used to advertise a film.\n",
    "\n",
    "9) budget: The movie's projected production costs.\n",
    "\n",
    "10) box_office: The sum of money the movie made at the box office.\n",
    "\n",
    "11) cast: a cast is a list of the actors who appear in a film.\n",
    "\n",
    "12) directors: The person who oversaw the film's production.\n",
    "\n",
    "13) writers: The authors of the movie's script.\n"
   ]
  },
  {
   "cell_type": "markdown",
   "id": "2b7c68f0",
   "metadata": {},
   "source": [
    "## SPLITTING THE GENRE COLUMN INTO DIFFERENT COLUMNS"
   ]
  },
  {
   "cell_type": "code",
   "execution_count": 8,
   "id": "5b8b220a",
   "metadata": {},
   "outputs": [],
   "source": [
    "genre_data = df['genre'].str.split(',', expand=True)\n",
    "cols=len(genre_data.columns)\n",
    "genre_data.columns = [f'genre_{i}' for i in range(1,cols+1)]\n",
    "df = pd.concat([df,genre_data],axis=1)"
   ]
  },
  {
   "cell_type": "code",
   "execution_count": 9,
   "id": "030d5535",
   "metadata": {},
   "outputs": [
    {
     "data": {
      "text/html": [
       "<div>\n",
       "<style scoped>\n",
       "    .dataframe tbody tr th:only-of-type {\n",
       "        vertical-align: middle;\n",
       "    }\n",
       "\n",
       "    .dataframe tbody tr th {\n",
       "        vertical-align: top;\n",
       "    }\n",
       "\n",
       "    .dataframe thead th {\n",
       "        text-align: right;\n",
       "    }\n",
       "</style>\n",
       "<table border=\"1\" class=\"dataframe\">\n",
       "  <thead>\n",
       "    <tr style=\"text-align: right;\">\n",
       "      <th></th>\n",
       "      <th>rank</th>\n",
       "      <th>name</th>\n",
       "      <th>year</th>\n",
       "      <th>rating</th>\n",
       "      <th>genre</th>\n",
       "      <th>certificate</th>\n",
       "      <th>run_time</th>\n",
       "      <th>tagline</th>\n",
       "      <th>budget</th>\n",
       "      <th>box_office</th>\n",
       "      <th>casts</th>\n",
       "      <th>directors</th>\n",
       "      <th>writers</th>\n",
       "      <th>genre_1</th>\n",
       "      <th>genre_2</th>\n",
       "      <th>genre_3</th>\n",
       "    </tr>\n",
       "  </thead>\n",
       "  <tbody>\n",
       "    <tr>\n",
       "      <th>0</th>\n",
       "      <td>1</td>\n",
       "      <td>The Shawshank Redemption</td>\n",
       "      <td>1994</td>\n",
       "      <td>9.3</td>\n",
       "      <td>Drama</td>\n",
       "      <td>R</td>\n",
       "      <td>2h 22m</td>\n",
       "      <td>Fear can hold you prisoner. Hope can set you f...</td>\n",
       "      <td>25000000</td>\n",
       "      <td>28884504</td>\n",
       "      <td>Tim Robbins,Morgan Freeman,Bob Gunton,William ...</td>\n",
       "      <td>Frank Darabont</td>\n",
       "      <td>Stephen King,Frank Darabont</td>\n",
       "      <td>Drama</td>\n",
       "      <td>None</td>\n",
       "      <td>None</td>\n",
       "    </tr>\n",
       "    <tr>\n",
       "      <th>1</th>\n",
       "      <td>2</td>\n",
       "      <td>The Godfather</td>\n",
       "      <td>1972</td>\n",
       "      <td>9.2</td>\n",
       "      <td>Crime,Drama</td>\n",
       "      <td>R</td>\n",
       "      <td>2h 55m</td>\n",
       "      <td>An offer you can't refuse.</td>\n",
       "      <td>6000000</td>\n",
       "      <td>250341816</td>\n",
       "      <td>Marlon Brando,Al Pacino,James Caan,Diane Keato...</td>\n",
       "      <td>Francis Ford Coppola</td>\n",
       "      <td>Mario Puzo,Francis Ford Coppola</td>\n",
       "      <td>Crime</td>\n",
       "      <td>Drama</td>\n",
       "      <td>None</td>\n",
       "    </tr>\n",
       "    <tr>\n",
       "      <th>2</th>\n",
       "      <td>3</td>\n",
       "      <td>The Dark Knight</td>\n",
       "      <td>2008</td>\n",
       "      <td>9.0</td>\n",
       "      <td>Action,Crime,Drama</td>\n",
       "      <td>PG-13</td>\n",
       "      <td>2h 32m</td>\n",
       "      <td>Why So Serious?</td>\n",
       "      <td>185000000</td>\n",
       "      <td>1006234167</td>\n",
       "      <td>Christian Bale,Heath Ledger,Aaron Eckhart,Mich...</td>\n",
       "      <td>Christopher Nolan</td>\n",
       "      <td>Jonathan Nolan,Christopher Nolan,David S. Goyer</td>\n",
       "      <td>Action</td>\n",
       "      <td>Crime</td>\n",
       "      <td>Drama</td>\n",
       "    </tr>\n",
       "    <tr>\n",
       "      <th>3</th>\n",
       "      <td>4</td>\n",
       "      <td>The Godfather Part II</td>\n",
       "      <td>1974</td>\n",
       "      <td>9.0</td>\n",
       "      <td>Crime,Drama</td>\n",
       "      <td>R</td>\n",
       "      <td>3h 22m</td>\n",
       "      <td>All the power on earth can't change destiny.</td>\n",
       "      <td>13000000</td>\n",
       "      <td>47961919</td>\n",
       "      <td>Al Pacino,Robert De Niro,Robert Duvall,Diane K...</td>\n",
       "      <td>Francis Ford Coppola</td>\n",
       "      <td>Francis Ford Coppola,Mario Puzo</td>\n",
       "      <td>Crime</td>\n",
       "      <td>Drama</td>\n",
       "      <td>None</td>\n",
       "    </tr>\n",
       "    <tr>\n",
       "      <th>4</th>\n",
       "      <td>5</td>\n",
       "      <td>12 Angry Men</td>\n",
       "      <td>1957</td>\n",
       "      <td>9.0</td>\n",
       "      <td>Crime,Drama</td>\n",
       "      <td>Approved</td>\n",
       "      <td>1h 36m</td>\n",
       "      <td>Life Is In Their Hands -- Death Is On Their Mi...</td>\n",
       "      <td>350000</td>\n",
       "      <td>955</td>\n",
       "      <td>Henry Fonda,Lee J. Cobb,Martin Balsam,John Fie...</td>\n",
       "      <td>Sidney Lumet</td>\n",
       "      <td>Reginald Rose</td>\n",
       "      <td>Crime</td>\n",
       "      <td>Drama</td>\n",
       "      <td>None</td>\n",
       "    </tr>\n",
       "  </tbody>\n",
       "</table>\n",
       "</div>"
      ],
      "text/plain": [
       "   rank                      name  year  rating               genre  \\\n",
       "0     1  The Shawshank Redemption  1994     9.3               Drama   \n",
       "1     2             The Godfather  1972     9.2         Crime,Drama   \n",
       "2     3           The Dark Knight  2008     9.0  Action,Crime,Drama   \n",
       "3     4     The Godfather Part II  1974     9.0         Crime,Drama   \n",
       "4     5              12 Angry Men  1957     9.0         Crime,Drama   \n",
       "\n",
       "  certificate run_time                                            tagline  \\\n",
       "0           R   2h 22m  Fear can hold you prisoner. Hope can set you f...   \n",
       "1           R   2h 55m                         An offer you can't refuse.   \n",
       "2       PG-13   2h 32m                                    Why So Serious?   \n",
       "3           R   3h 22m       All the power on earth can't change destiny.   \n",
       "4    Approved   1h 36m  Life Is In Their Hands -- Death Is On Their Mi...   \n",
       "\n",
       "      budget  box_office                                              casts  \\\n",
       "0   25000000    28884504  Tim Robbins,Morgan Freeman,Bob Gunton,William ...   \n",
       "1    6000000   250341816  Marlon Brando,Al Pacino,James Caan,Diane Keato...   \n",
       "2  185000000  1006234167  Christian Bale,Heath Ledger,Aaron Eckhart,Mich...   \n",
       "3   13000000    47961919  Al Pacino,Robert De Niro,Robert Duvall,Diane K...   \n",
       "4     350000         955  Henry Fonda,Lee J. Cobb,Martin Balsam,John Fie...   \n",
       "\n",
       "              directors                                          writers  \\\n",
       "0        Frank Darabont                      Stephen King,Frank Darabont   \n",
       "1  Francis Ford Coppola                  Mario Puzo,Francis Ford Coppola   \n",
       "2     Christopher Nolan  Jonathan Nolan,Christopher Nolan,David S. Goyer   \n",
       "3  Francis Ford Coppola                  Francis Ford Coppola,Mario Puzo   \n",
       "4          Sidney Lumet                                    Reginald Rose   \n",
       "\n",
       "  genre_1 genre_2 genre_3  \n",
       "0   Drama    None    None  \n",
       "1   Crime   Drama    None  \n",
       "2  Action   Crime   Drama  \n",
       "3   Crime   Drama    None  \n",
       "4   Crime   Drama    None  "
      ]
     },
     "execution_count": 9,
     "metadata": {},
     "output_type": "execute_result"
    }
   ],
   "source": [
    "df.head()"
   ]
  },
  {
   "cell_type": "markdown",
   "id": "11b2bf3f",
   "metadata": {},
   "source": [
    "## average rating sorted by genre"
   ]
  },
  {
   "cell_type": "code",
   "execution_count": 10,
   "id": "be793a31",
   "metadata": {},
   "outputs": [
    {
     "data": {
      "text/html": [
       "<div>\n",
       "<style scoped>\n",
       "    .dataframe tbody tr th:only-of-type {\n",
       "        vertical-align: middle;\n",
       "    }\n",
       "\n",
       "    .dataframe tbody tr th {\n",
       "        vertical-align: top;\n",
       "    }\n",
       "\n",
       "    .dataframe thead th {\n",
       "        text-align: right;\n",
       "    }\n",
       "</style>\n",
       "<table border=\"1\" class=\"dataframe\">\n",
       "  <thead>\n",
       "    <tr style=\"text-align: right;\">\n",
       "      <th></th>\n",
       "      <th>genre</th>\n",
       "      <th>rating</th>\n",
       "    </tr>\n",
       "  </thead>\n",
       "  <tbody>\n",
       "    <tr>\n",
       "      <th>0</th>\n",
       "      <td>Adventure,Western</td>\n",
       "      <td>8.80</td>\n",
       "    </tr>\n",
       "    <tr>\n",
       "      <th>1</th>\n",
       "      <td>Action,Adventure,Drama</td>\n",
       "      <td>8.70</td>\n",
       "    </tr>\n",
       "    <tr>\n",
       "      <th>2</th>\n",
       "      <td>Adventure,Drama,Sci-Fi</td>\n",
       "      <td>8.60</td>\n",
       "    </tr>\n",
       "    <tr>\n",
       "      <th>3</th>\n",
       "      <td>Drama,Family,Fantasy</td>\n",
       "      <td>8.60</td>\n",
       "    </tr>\n",
       "    <tr>\n",
       "      <th>4</th>\n",
       "      <td>Crime,Drama,Fantasy</td>\n",
       "      <td>8.60</td>\n",
       "    </tr>\n",
       "    <tr>\n",
       "      <th>5</th>\n",
       "      <td>Action,Drama,Mystery</td>\n",
       "      <td>8.50</td>\n",
       "    </tr>\n",
       "    <tr>\n",
       "      <th>6</th>\n",
       "      <td>Animation,Adventure,Drama</td>\n",
       "      <td>8.50</td>\n",
       "    </tr>\n",
       "    <tr>\n",
       "      <th>7</th>\n",
       "      <td>Drama,Music</td>\n",
       "      <td>8.50</td>\n",
       "    </tr>\n",
       "    <tr>\n",
       "      <th>8</th>\n",
       "      <td>Drama,Mystery,Sci-Fi</td>\n",
       "      <td>8.50</td>\n",
       "    </tr>\n",
       "    <tr>\n",
       "      <th>9</th>\n",
       "      <td>Drama,Mystery,War</td>\n",
       "      <td>8.50</td>\n",
       "    </tr>\n",
       "    <tr>\n",
       "      <th>10</th>\n",
       "      <td>Animation,Drama,War</td>\n",
       "      <td>8.50</td>\n",
       "    </tr>\n",
       "    <tr>\n",
       "      <th>11</th>\n",
       "      <td>Adventure,Comedy,Sci-Fi</td>\n",
       "      <td>8.50</td>\n",
       "    </tr>\n",
       "    <tr>\n",
       "      <th>12</th>\n",
       "      <td>Horror,Mystery,Thriller</td>\n",
       "      <td>8.50</td>\n",
       "    </tr>\n",
       "    <tr>\n",
       "      <th>13</th>\n",
       "      <td>Horror,Sci-Fi</td>\n",
       "      <td>8.50</td>\n",
       "    </tr>\n",
       "    <tr>\n",
       "      <th>14</th>\n",
       "      <td>Crime,Drama</td>\n",
       "      <td>8.49</td>\n",
       "    </tr>\n",
       "    <tr>\n",
       "      <th>15</th>\n",
       "      <td>Comedy,Drama,Romance</td>\n",
       "      <td>8.48</td>\n",
       "    </tr>\n",
       "    <tr>\n",
       "      <th>16</th>\n",
       "      <td>Action,Sci-Fi</td>\n",
       "      <td>8.47</td>\n",
       "    </tr>\n",
       "    <tr>\n",
       "      <th>17</th>\n",
       "      <td>Biography,Drama,Music</td>\n",
       "      <td>8.45</td>\n",
       "    </tr>\n",
       "    <tr>\n",
       "      <th>18</th>\n",
       "      <td>Action,Crime,Drama</td>\n",
       "      <td>8.44</td>\n",
       "    </tr>\n",
       "    <tr>\n",
       "      <th>19</th>\n",
       "      <td>Action,Drama</td>\n",
       "      <td>8.43</td>\n",
       "    </tr>\n",
       "  </tbody>\n",
       "</table>\n",
       "</div>"
      ],
      "text/plain": [
       "                        genre  rating\n",
       "0           Adventure,Western    8.80\n",
       "1      Action,Adventure,Drama    8.70\n",
       "2      Adventure,Drama,Sci-Fi    8.60\n",
       "3        Drama,Family,Fantasy    8.60\n",
       "4         Crime,Drama,Fantasy    8.60\n",
       "5        Action,Drama,Mystery    8.50\n",
       "6   Animation,Adventure,Drama    8.50\n",
       "7                 Drama,Music    8.50\n",
       "8        Drama,Mystery,Sci-Fi    8.50\n",
       "9           Drama,Mystery,War    8.50\n",
       "10        Animation,Drama,War    8.50\n",
       "11    Adventure,Comedy,Sci-Fi    8.50\n",
       "12    Horror,Mystery,Thriller    8.50\n",
       "13              Horror,Sci-Fi    8.50\n",
       "14                Crime,Drama    8.49\n",
       "15       Comedy,Drama,Romance    8.48\n",
       "16              Action,Sci-Fi    8.47\n",
       "17      Biography,Drama,Music    8.45\n",
       "18         Action,Crime,Drama    8.44\n",
       "19               Action,Drama    8.43"
      ]
     },
     "execution_count": 10,
     "metadata": {},
     "output_type": "execute_result"
    }
   ],
   "source": [
    "top_rate =  df.groupby('genre').mean().sort_values('rating',ascending=False)\n",
    "top_rate =  top_rate[['rating']].round(2)\n",
    "top_rate.reset_index(inplace=True)\n",
    "top_rate.head(20)"
   ]
  },
  {
   "cell_type": "markdown",
   "id": "c34280f5",
   "metadata": {},
   "source": [
    ">> PART 2"
   ]
  },
  {
   "cell_type": "markdown",
   "id": "3271f501",
   "metadata": {},
   "source": [
    "## graph for box office collection vs certificate"
   ]
  },
  {
   "cell_type": "code",
   "execution_count": 12,
   "id": "45befe3b",
   "metadata": {},
   "outputs": [
    {
     "data": {
      "application/vnd.plotly.v1+json": {
       "config": {
        "plotlyServerURL": "https://plot.ly"
       },
       "data": [
        {
         "hovertemplate": "certificate=%{x}<br>box_office=%{y}<extra></extra>",
         "legendgroup": "",
         "marker": {
          "color": "#636efa",
          "symbol": "circle"
         },
         "mode": "markers",
         "name": "",
         "orientation": "v",
         "showlegend": false,
         "type": "scatter",
         "x": [
          "R",
          "R",
          "PG-13",
          "R",
          "Approved",
          "R",
          "PG-13",
          "R",
          "PG-13",
          "Approved",
          "PG-13",
          "R",
          "PG-13",
          "PG-13",
          "PG",
          "R",
          "R",
          "18+",
          "R",
          "Not Rated",
          "PG",
          "R",
          "R",
          "R",
          "PG-13",
          "PG-13",
          "R",
          "PG",
          "R",
          "PG",
          "PG",
          "R",
          "R",
          "R",
          "R",
          "G",
          "R",
          "R",
          "R",
          "R",
          "PG-13",
          "R",
          "PG",
          "Not Rated",
          "Not Rated",
          "R",
          "G",
          "PG-13",
          "PG",
          "PG",
          "R",
          "G",
          "R",
          "R",
          "R",
          "PG",
          "G",
          "R",
          "Passed",
          "Approved",
          "R",
          "G",
          "PG-13",
          "Approved",
          "R",
          "PG",
          "R",
          "PG",
          "PG-13",
          "R",
          "R",
          "PG",
          "PG",
          "G",
          "R",
          "R",
          "Not Available",
          "PG-13",
          "PG-13",
          "R",
          "R",
          "TV-PG",
          "PG-13",
          "G",
          "Unrated",
          "G",
          "Not Rated",
          "R",
          "PG",
          "R",
          "G",
          "R",
          "Not Rated",
          "R",
          "PG",
          "Passed",
          "Approved",
          "Approved",
          "PG",
          "Not Rated",
          "R",
          "Approved",
          "X",
          "Passed",
          "R",
          "PG-13",
          "R",
          "PG-13",
          "R",
          "Approved",
          "R",
          "PG",
          "PG",
          "PG-13",
          "Not Rated",
          "R",
          "R",
          "R",
          "R",
          "PG-13",
          "Not Rated",
          "PG",
          "R",
          "R",
          "Not Rated",
          "R",
          "PG-13",
          "Passed",
          "Passed",
          "PG-13",
          "Passed",
          "R",
          "PG-13",
          "Approved",
          "R",
          "R",
          "R",
          "PG",
          "R",
          "R",
          "PG-13",
          "R",
          "PG-13",
          "PG-13",
          "Not Rated",
          "Passed",
          "PG",
          "Approved",
          "R",
          "PG-13",
          "R",
          "Not Rated",
          "R",
          "G",
          "PG",
          "R",
          "R",
          "R",
          "Passed",
          "R",
          "PG",
          "PG",
          "R",
          "PG",
          "R",
          "PG",
          "R",
          "R",
          "PG-13",
          "R",
          "R",
          "G",
          "PG-13",
          "PG-13",
          "PG",
          "R",
          "Passed",
          "R",
          "R",
          "PG",
          "PG-13",
          "Approved",
          "G",
          "R",
          "R",
          "Not Rated",
          "Passed",
          "Approved",
          "R",
          "R",
          "PG",
          "R",
          "Not Rated",
          "Not Rated",
          "Passed",
          "R",
          "Passed",
          "R",
          "Not Rated",
          "Not Rated",
          "PG",
          "R",
          "G",
          "PG",
          "PG",
          "R",
          "Not Rated",
          "Passed",
          "PG-13",
          "PG-13",
          "PG",
          "R",
          "G",
          "R",
          "R",
          "R",
          "13+",
          "R",
          "R",
          "R",
          "R",
          "G",
          "Not Rated",
          "PG",
          "Approved",
          "R",
          "PG",
          "Passed",
          "Not Rated",
          "Not Rated",
          "PG-13",
          "G",
          "Passed",
          "TV-MA",
          "Not Rated",
          "R",
          "Approved",
          "GP",
          "Not Rated",
          "Not Rated",
          "G",
          "Passed",
          "Not Rated",
          "R",
          "PG",
          "PG-13",
          "G",
          "G",
          "PG",
          "PG-13"
         ],
         "xaxis": "x",
         "y": [
          "28884504",
          "250341816",
          "1006234167",
          "47961919",
          "955",
          "322161245",
          "1146457748",
          "213928762",
          "898204420",
          "25253887",
          "678226465",
          "101209702",
          "947944270",
          "836848102",
          "538375067",
          "467222728",
          "47036784",
          "109114817",
          "327333559",
          "346258",
          "8574081",
          "272742922",
          "30680793",
          "482349603",
          "773867216",
          "230098753",
          "286801374",
          "775398007",
          "520881154",
          "383336762",
          "355822319",
          "120072577",
          "32052925",
          "262676096",
          "19569225",
          "968511805",
          "503162313",
          "23875127",
          "291480452",
          "23341568",
          "109676311",
          "49396747",
          "4626532",
          "516962",
          "Not Available",
          "426588510",
          "463618",
          "5435024",
          "37034579",
          "13019063",
          "106285522",
          "50419",
          "104880868",
          "40047078",
          "426074373",
          "389925971",
          "521311890",
          "77356942",
          "300073",
          "5252",
          "47335804",
          "970263",
          "2052415039",
          "7693",
          "131060248",
          "Not Available",
          "356296601",
          "9523464",
          "1081169825",
          "15421226",
          "321457747",
          "52066791",
          "814337054",
          "394436586",
          "1074458282",
          "213216216",
          "11487676",
          "2799439100",
          "170005875",
          "5473337",
          "Not Available",
          "Not Available",
          "60262836",
          "2000288",
          "7390108",
          "1067316101",
          "Not Available",
          "Not Available",
          "475106177",
          "74036715",
          "65889846",
          "2913644",
          "Not Available",
          "Not Available",
          "1645133",
          "35566",
          "45720631",
          "142319",
          "7798146",
          "96302",
          "174122191",
          "18778738",
          "26960374",
          "14651",
          "46358827",
          "1488732821",
          "65884703",
          "Not Available",
          "6788659",
          "599146",
          "187436818",
          "156000000",
          "735099102",
          "22926076",
          "1349711",
          "28570902",
          "126216940",
          "141603197",
          "83557872",
          "474171806",
          "436655",
          "21897373",
          "384479940",
          "92181574",
          "Not Available",
          "15000000",
          "373672993",
          "41960",
          "195088",
          "24427162",
          "151052",
          "406878233",
          "321752656",
          "12180",
          "116112375",
          "4164283",
          "83862032",
          "264118201",
          "76182388",
          "159167799",
          "672806432",
          "294805697",
          "316791257",
          "1109802321",
          "46808",
          "5014000",
          "1940906",
          "228178",
          "171627434",
          "1921847111",
          "180906076",
          "81379",
          "19632715",
          "941637960",
          "26023860",
          "29225935",
          "23402427",
          "134686457",
          "402382193",
          "3753929",
          "858848019",
          "31207",
          "Not Available",
          "237536126",
          "162861289",
          "27200000",
          "16767475",
          "122126687",
          "23308615",
          "60611975",
          "269958228",
          "Not Available",
          "Not Available",
          "216763646",
          "Not Available",
          "41722424",
          "29328",
          "5987386",
          "187733202",
          "Not Available",
          "1342359942",
          "910000 (estimated)",
          "74437720",
          "Not Available",
          "173082189",
          "60418",
          "750000 (estimated)",
          "1226507",
          "Not Available",
          "49074379",
          "199632",
          "180563636",
          "1098",
          "1166717",
          "Not Available",
          "Not Available",
          "144738",
          "415261382",
          "311212",
          "1740429",
          "494879471",
          "35401758",
          "579707738",
          "476512065",
          "235860116",
          "46969409",
          "Not Available",
          "Not Available",
          "33882243",
          "225508210",
          "117250402",
          "138545632",
          "623726085",
          "98690254",
          "78371200",
          "619179950",
          "52287414",
          "96983009",
          "23690757",
          "56675895",
          "Not Available",
          "25637669",
          "135342",
          "71108591",
          "23661347",
          "441306145",
          "631607053",
          "Not Available",
          "Not Available",
          "962002",
          "654264015",
          "Not Available",
          "800000 (estimated)",
          "Not Available",
          "Not Available",
          "20908467",
          "72275",
          "67",
          "Not Available",
          "127244",
          "159428329",
          "11477",
          "Not Available",
          "20745728",
          "23335817",
          "216639112",
          "14480",
          "Not Available",
          "52767889",
          "424208848"
         ],
         "yaxis": "y"
        }
       ],
       "layout": {
        "legend": {
         "tracegroupgap": 0
        },
        "margin": {
         "t": 60
        },
        "template": {
         "data": {
          "bar": [
           {
            "error_x": {
             "color": "#2a3f5f"
            },
            "error_y": {
             "color": "#2a3f5f"
            },
            "marker": {
             "line": {
              "color": "#E5ECF6",
              "width": 0.5
             },
             "pattern": {
              "fillmode": "overlay",
              "size": 10,
              "solidity": 0.2
             }
            },
            "type": "bar"
           }
          ],
          "barpolar": [
           {
            "marker": {
             "line": {
              "color": "#E5ECF6",
              "width": 0.5
             },
             "pattern": {
              "fillmode": "overlay",
              "size": 10,
              "solidity": 0.2
             }
            },
            "type": "barpolar"
           }
          ],
          "carpet": [
           {
            "aaxis": {
             "endlinecolor": "#2a3f5f",
             "gridcolor": "white",
             "linecolor": "white",
             "minorgridcolor": "white",
             "startlinecolor": "#2a3f5f"
            },
            "baxis": {
             "endlinecolor": "#2a3f5f",
             "gridcolor": "white",
             "linecolor": "white",
             "minorgridcolor": "white",
             "startlinecolor": "#2a3f5f"
            },
            "type": "carpet"
           }
          ],
          "choropleth": [
           {
            "colorbar": {
             "outlinewidth": 0,
             "ticks": ""
            },
            "type": "choropleth"
           }
          ],
          "contour": [
           {
            "colorbar": {
             "outlinewidth": 0,
             "ticks": ""
            },
            "colorscale": [
             [
              0,
              "#0d0887"
             ],
             [
              0.1111111111111111,
              "#46039f"
             ],
             [
              0.2222222222222222,
              "#7201a8"
             ],
             [
              0.3333333333333333,
              "#9c179e"
             ],
             [
              0.4444444444444444,
              "#bd3786"
             ],
             [
              0.5555555555555556,
              "#d8576b"
             ],
             [
              0.6666666666666666,
              "#ed7953"
             ],
             [
              0.7777777777777778,
              "#fb9f3a"
             ],
             [
              0.8888888888888888,
              "#fdca26"
             ],
             [
              1,
              "#f0f921"
             ]
            ],
            "type": "contour"
           }
          ],
          "contourcarpet": [
           {
            "colorbar": {
             "outlinewidth": 0,
             "ticks": ""
            },
            "type": "contourcarpet"
           }
          ],
          "heatmap": [
           {
            "colorbar": {
             "outlinewidth": 0,
             "ticks": ""
            },
            "colorscale": [
             [
              0,
              "#0d0887"
             ],
             [
              0.1111111111111111,
              "#46039f"
             ],
             [
              0.2222222222222222,
              "#7201a8"
             ],
             [
              0.3333333333333333,
              "#9c179e"
             ],
             [
              0.4444444444444444,
              "#bd3786"
             ],
             [
              0.5555555555555556,
              "#d8576b"
             ],
             [
              0.6666666666666666,
              "#ed7953"
             ],
             [
              0.7777777777777778,
              "#fb9f3a"
             ],
             [
              0.8888888888888888,
              "#fdca26"
             ],
             [
              1,
              "#f0f921"
             ]
            ],
            "type": "heatmap"
           }
          ],
          "heatmapgl": [
           {
            "colorbar": {
             "outlinewidth": 0,
             "ticks": ""
            },
            "colorscale": [
             [
              0,
              "#0d0887"
             ],
             [
              0.1111111111111111,
              "#46039f"
             ],
             [
              0.2222222222222222,
              "#7201a8"
             ],
             [
              0.3333333333333333,
              "#9c179e"
             ],
             [
              0.4444444444444444,
              "#bd3786"
             ],
             [
              0.5555555555555556,
              "#d8576b"
             ],
             [
              0.6666666666666666,
              "#ed7953"
             ],
             [
              0.7777777777777778,
              "#fb9f3a"
             ],
             [
              0.8888888888888888,
              "#fdca26"
             ],
             [
              1,
              "#f0f921"
             ]
            ],
            "type": "heatmapgl"
           }
          ],
          "histogram": [
           {
            "marker": {
             "pattern": {
              "fillmode": "overlay",
              "size": 10,
              "solidity": 0.2
             }
            },
            "type": "histogram"
           }
          ],
          "histogram2d": [
           {
            "colorbar": {
             "outlinewidth": 0,
             "ticks": ""
            },
            "colorscale": [
             [
              0,
              "#0d0887"
             ],
             [
              0.1111111111111111,
              "#46039f"
             ],
             [
              0.2222222222222222,
              "#7201a8"
             ],
             [
              0.3333333333333333,
              "#9c179e"
             ],
             [
              0.4444444444444444,
              "#bd3786"
             ],
             [
              0.5555555555555556,
              "#d8576b"
             ],
             [
              0.6666666666666666,
              "#ed7953"
             ],
             [
              0.7777777777777778,
              "#fb9f3a"
             ],
             [
              0.8888888888888888,
              "#fdca26"
             ],
             [
              1,
              "#f0f921"
             ]
            ],
            "type": "histogram2d"
           }
          ],
          "histogram2dcontour": [
           {
            "colorbar": {
             "outlinewidth": 0,
             "ticks": ""
            },
            "colorscale": [
             [
              0,
              "#0d0887"
             ],
             [
              0.1111111111111111,
              "#46039f"
             ],
             [
              0.2222222222222222,
              "#7201a8"
             ],
             [
              0.3333333333333333,
              "#9c179e"
             ],
             [
              0.4444444444444444,
              "#bd3786"
             ],
             [
              0.5555555555555556,
              "#d8576b"
             ],
             [
              0.6666666666666666,
              "#ed7953"
             ],
             [
              0.7777777777777778,
              "#fb9f3a"
             ],
             [
              0.8888888888888888,
              "#fdca26"
             ],
             [
              1,
              "#f0f921"
             ]
            ],
            "type": "histogram2dcontour"
           }
          ],
          "mesh3d": [
           {
            "colorbar": {
             "outlinewidth": 0,
             "ticks": ""
            },
            "type": "mesh3d"
           }
          ],
          "parcoords": [
           {
            "line": {
             "colorbar": {
              "outlinewidth": 0,
              "ticks": ""
             }
            },
            "type": "parcoords"
           }
          ],
          "pie": [
           {
            "automargin": true,
            "type": "pie"
           }
          ],
          "scatter": [
           {
            "fillpattern": {
             "fillmode": "overlay",
             "size": 10,
             "solidity": 0.2
            },
            "type": "scatter"
           }
          ],
          "scatter3d": [
           {
            "line": {
             "colorbar": {
              "outlinewidth": 0,
              "ticks": ""
             }
            },
            "marker": {
             "colorbar": {
              "outlinewidth": 0,
              "ticks": ""
             }
            },
            "type": "scatter3d"
           }
          ],
          "scattercarpet": [
           {
            "marker": {
             "colorbar": {
              "outlinewidth": 0,
              "ticks": ""
             }
            },
            "type": "scattercarpet"
           }
          ],
          "scattergeo": [
           {
            "marker": {
             "colorbar": {
              "outlinewidth": 0,
              "ticks": ""
             }
            },
            "type": "scattergeo"
           }
          ],
          "scattergl": [
           {
            "marker": {
             "colorbar": {
              "outlinewidth": 0,
              "ticks": ""
             }
            },
            "type": "scattergl"
           }
          ],
          "scattermapbox": [
           {
            "marker": {
             "colorbar": {
              "outlinewidth": 0,
              "ticks": ""
             }
            },
            "type": "scattermapbox"
           }
          ],
          "scatterpolar": [
           {
            "marker": {
             "colorbar": {
              "outlinewidth": 0,
              "ticks": ""
             }
            },
            "type": "scatterpolar"
           }
          ],
          "scatterpolargl": [
           {
            "marker": {
             "colorbar": {
              "outlinewidth": 0,
              "ticks": ""
             }
            },
            "type": "scatterpolargl"
           }
          ],
          "scatterternary": [
           {
            "marker": {
             "colorbar": {
              "outlinewidth": 0,
              "ticks": ""
             }
            },
            "type": "scatterternary"
           }
          ],
          "surface": [
           {
            "colorbar": {
             "outlinewidth": 0,
             "ticks": ""
            },
            "colorscale": [
             [
              0,
              "#0d0887"
             ],
             [
              0.1111111111111111,
              "#46039f"
             ],
             [
              0.2222222222222222,
              "#7201a8"
             ],
             [
              0.3333333333333333,
              "#9c179e"
             ],
             [
              0.4444444444444444,
              "#bd3786"
             ],
             [
              0.5555555555555556,
              "#d8576b"
             ],
             [
              0.6666666666666666,
              "#ed7953"
             ],
             [
              0.7777777777777778,
              "#fb9f3a"
             ],
             [
              0.8888888888888888,
              "#fdca26"
             ],
             [
              1,
              "#f0f921"
             ]
            ],
            "type": "surface"
           }
          ],
          "table": [
           {
            "cells": {
             "fill": {
              "color": "#EBF0F8"
             },
             "line": {
              "color": "white"
             }
            },
            "header": {
             "fill": {
              "color": "#C8D4E3"
             },
             "line": {
              "color": "white"
             }
            },
            "type": "table"
           }
          ]
         },
         "layout": {
          "annotationdefaults": {
           "arrowcolor": "#2a3f5f",
           "arrowhead": 0,
           "arrowwidth": 1
          },
          "autotypenumbers": "strict",
          "coloraxis": {
           "colorbar": {
            "outlinewidth": 0,
            "ticks": ""
           }
          },
          "colorscale": {
           "diverging": [
            [
             0,
             "#8e0152"
            ],
            [
             0.1,
             "#c51b7d"
            ],
            [
             0.2,
             "#de77ae"
            ],
            [
             0.3,
             "#f1b6da"
            ],
            [
             0.4,
             "#fde0ef"
            ],
            [
             0.5,
             "#f7f7f7"
            ],
            [
             0.6,
             "#e6f5d0"
            ],
            [
             0.7,
             "#b8e186"
            ],
            [
             0.8,
             "#7fbc41"
            ],
            [
             0.9,
             "#4d9221"
            ],
            [
             1,
             "#276419"
            ]
           ],
           "sequential": [
            [
             0,
             "#0d0887"
            ],
            [
             0.1111111111111111,
             "#46039f"
            ],
            [
             0.2222222222222222,
             "#7201a8"
            ],
            [
             0.3333333333333333,
             "#9c179e"
            ],
            [
             0.4444444444444444,
             "#bd3786"
            ],
            [
             0.5555555555555556,
             "#d8576b"
            ],
            [
             0.6666666666666666,
             "#ed7953"
            ],
            [
             0.7777777777777778,
             "#fb9f3a"
            ],
            [
             0.8888888888888888,
             "#fdca26"
            ],
            [
             1,
             "#f0f921"
            ]
           ],
           "sequentialminus": [
            [
             0,
             "#0d0887"
            ],
            [
             0.1111111111111111,
             "#46039f"
            ],
            [
             0.2222222222222222,
             "#7201a8"
            ],
            [
             0.3333333333333333,
             "#9c179e"
            ],
            [
             0.4444444444444444,
             "#bd3786"
            ],
            [
             0.5555555555555556,
             "#d8576b"
            ],
            [
             0.6666666666666666,
             "#ed7953"
            ],
            [
             0.7777777777777778,
             "#fb9f3a"
            ],
            [
             0.8888888888888888,
             "#fdca26"
            ],
            [
             1,
             "#f0f921"
            ]
           ]
          },
          "colorway": [
           "#636efa",
           "#EF553B",
           "#00cc96",
           "#ab63fa",
           "#FFA15A",
           "#19d3f3",
           "#FF6692",
           "#B6E880",
           "#FF97FF",
           "#FECB52"
          ],
          "font": {
           "color": "#2a3f5f"
          },
          "geo": {
           "bgcolor": "white",
           "lakecolor": "white",
           "landcolor": "#E5ECF6",
           "showlakes": true,
           "showland": true,
           "subunitcolor": "white"
          },
          "hoverlabel": {
           "align": "left"
          },
          "hovermode": "closest",
          "mapbox": {
           "style": "light"
          },
          "paper_bgcolor": "white",
          "plot_bgcolor": "#E5ECF6",
          "polar": {
           "angularaxis": {
            "gridcolor": "white",
            "linecolor": "white",
            "ticks": ""
           },
           "bgcolor": "#E5ECF6",
           "radialaxis": {
            "gridcolor": "white",
            "linecolor": "white",
            "ticks": ""
           }
          },
          "scene": {
           "xaxis": {
            "backgroundcolor": "#E5ECF6",
            "gridcolor": "white",
            "gridwidth": 2,
            "linecolor": "white",
            "showbackground": true,
            "ticks": "",
            "zerolinecolor": "white"
           },
           "yaxis": {
            "backgroundcolor": "#E5ECF6",
            "gridcolor": "white",
            "gridwidth": 2,
            "linecolor": "white",
            "showbackground": true,
            "ticks": "",
            "zerolinecolor": "white"
           },
           "zaxis": {
            "backgroundcolor": "#E5ECF6",
            "gridcolor": "white",
            "gridwidth": 2,
            "linecolor": "white",
            "showbackground": true,
            "ticks": "",
            "zerolinecolor": "white"
           }
          },
          "shapedefaults": {
           "line": {
            "color": "#2a3f5f"
           }
          },
          "ternary": {
           "aaxis": {
            "gridcolor": "white",
            "linecolor": "white",
            "ticks": ""
           },
           "baxis": {
            "gridcolor": "white",
            "linecolor": "white",
            "ticks": ""
           },
           "bgcolor": "#E5ECF6",
           "caxis": {
            "gridcolor": "white",
            "linecolor": "white",
            "ticks": ""
           }
          },
          "title": {
           "x": 0.05
          },
          "xaxis": {
           "automargin": true,
           "gridcolor": "white",
           "linecolor": "white",
           "ticks": "",
           "title": {
            "standoff": 15
           },
           "zerolinecolor": "white",
           "zerolinewidth": 2
          },
          "yaxis": {
           "automargin": true,
           "gridcolor": "white",
           "linecolor": "white",
           "ticks": "",
           "title": {
            "standoff": 15
           },
           "zerolinecolor": "white",
           "zerolinewidth": 2
          }
         }
        },
        "xaxis": {
         "anchor": "y",
         "domain": [
          0,
          1
         ],
         "title": {
          "text": "certificate"
         }
        },
        "yaxis": {
         "anchor": "x",
         "domain": [
          0,
          1
         ],
         "title": {
          "text": "box_office"
         }
        }
       }
      },
      "text/html": [
       "<div>                            <div id=\"639dcbfa-7f48-4fc5-b0f5-a0c045b0f85c\" class=\"plotly-graph-div\" style=\"height:525px; width:100%;\"></div>            <script type=\"text/javascript\">                require([\"plotly\"], function(Plotly) {                    window.PLOTLYENV=window.PLOTLYENV || {};                                    if (document.getElementById(\"639dcbfa-7f48-4fc5-b0f5-a0c045b0f85c\")) {                    Plotly.newPlot(                        \"639dcbfa-7f48-4fc5-b0f5-a0c045b0f85c\",                        [{\"hovertemplate\":\"certificate=%{x}<br>box_office=%{y}<extra></extra>\",\"legendgroup\":\"\",\"marker\":{\"color\":\"#636efa\",\"symbol\":\"circle\"},\"mode\":\"markers\",\"name\":\"\",\"orientation\":\"v\",\"showlegend\":false,\"x\":[\"R\",\"R\",\"PG-13\",\"R\",\"Approved\",\"R\",\"PG-13\",\"R\",\"PG-13\",\"Approved\",\"PG-13\",\"R\",\"PG-13\",\"PG-13\",\"PG\",\"R\",\"R\",\"18+\",\"R\",\"Not Rated\",\"PG\",\"R\",\"R\",\"R\",\"PG-13\",\"PG-13\",\"R\",\"PG\",\"R\",\"PG\",\"PG\",\"R\",\"R\",\"R\",\"R\",\"G\",\"R\",\"R\",\"R\",\"R\",\"PG-13\",\"R\",\"PG\",\"Not Rated\",\"Not Rated\",\"R\",\"G\",\"PG-13\",\"PG\",\"PG\",\"R\",\"G\",\"R\",\"R\",\"R\",\"PG\",\"G\",\"R\",\"Passed\",\"Approved\",\"R\",\"G\",\"PG-13\",\"Approved\",\"R\",\"PG\",\"R\",\"PG\",\"PG-13\",\"R\",\"R\",\"PG\",\"PG\",\"G\",\"R\",\"R\",\"Not Available\",\"PG-13\",\"PG-13\",\"R\",\"R\",\"TV-PG\",\"PG-13\",\"G\",\"Unrated\",\"G\",\"Not Rated\",\"R\",\"PG\",\"R\",\"G\",\"R\",\"Not Rated\",\"R\",\"PG\",\"Passed\",\"Approved\",\"Approved\",\"PG\",\"Not Rated\",\"R\",\"Approved\",\"X\",\"Passed\",\"R\",\"PG-13\",\"R\",\"PG-13\",\"R\",\"Approved\",\"R\",\"PG\",\"PG\",\"PG-13\",\"Not Rated\",\"R\",\"R\",\"R\",\"R\",\"PG-13\",\"Not Rated\",\"PG\",\"R\",\"R\",\"Not Rated\",\"R\",\"PG-13\",\"Passed\",\"Passed\",\"PG-13\",\"Passed\",\"R\",\"PG-13\",\"Approved\",\"R\",\"R\",\"R\",\"PG\",\"R\",\"R\",\"PG-13\",\"R\",\"PG-13\",\"PG-13\",\"Not Rated\",\"Passed\",\"PG\",\"Approved\",\"R\",\"PG-13\",\"R\",\"Not Rated\",\"R\",\"G\",\"PG\",\"R\",\"R\",\"R\",\"Passed\",\"R\",\"PG\",\"PG\",\"R\",\"PG\",\"R\",\"PG\",\"R\",\"R\",\"PG-13\",\"R\",\"R\",\"G\",\"PG-13\",\"PG-13\",\"PG\",\"R\",\"Passed\",\"R\",\"R\",\"PG\",\"PG-13\",\"Approved\",\"G\",\"R\",\"R\",\"Not Rated\",\"Passed\",\"Approved\",\"R\",\"R\",\"PG\",\"R\",\"Not Rated\",\"Not Rated\",\"Passed\",\"R\",\"Passed\",\"R\",\"Not Rated\",\"Not Rated\",\"PG\",\"R\",\"G\",\"PG\",\"PG\",\"R\",\"Not Rated\",\"Passed\",\"PG-13\",\"PG-13\",\"PG\",\"R\",\"G\",\"R\",\"R\",\"R\",\"13+\",\"R\",\"R\",\"R\",\"R\",\"G\",\"Not Rated\",\"PG\",\"Approved\",\"R\",\"PG\",\"Passed\",\"Not Rated\",\"Not Rated\",\"PG-13\",\"G\",\"Passed\",\"TV-MA\",\"Not Rated\",\"R\",\"Approved\",\"GP\",\"Not Rated\",\"Not Rated\",\"G\",\"Passed\",\"Not Rated\",\"R\",\"PG\",\"PG-13\",\"G\",\"G\",\"PG\",\"PG-13\"],\"xaxis\":\"x\",\"y\":[\"28884504\",\"250341816\",\"1006234167\",\"47961919\",\"955\",\"322161245\",\"1146457748\",\"213928762\",\"898204420\",\"25253887\",\"678226465\",\"101209702\",\"947944270\",\"836848102\",\"538375067\",\"467222728\",\"47036784\",\"109114817\",\"327333559\",\"346258\",\"8574081\",\"272742922\",\"30680793\",\"482349603\",\"773867216\",\"230098753\",\"286801374\",\"775398007\",\"520881154\",\"383336762\",\"355822319\",\"120072577\",\"32052925\",\"262676096\",\"19569225\",\"968511805\",\"503162313\",\"23875127\",\"291480452\",\"23341568\",\"109676311\",\"49396747\",\"4626532\",\"516962\",\"Not Available\",\"426588510\",\"463618\",\"5435024\",\"37034579\",\"13019063\",\"106285522\",\"50419\",\"104880868\",\"40047078\",\"426074373\",\"389925971\",\"521311890\",\"77356942\",\"300073\",\"5252\",\"47335804\",\"970263\",\"2052415039\",\"7693\",\"131060248\",\"Not Available\",\"356296601\",\"9523464\",\"1081169825\",\"15421226\",\"321457747\",\"52066791\",\"814337054\",\"394436586\",\"1074458282\",\"213216216\",\"11487676\",\"2799439100\",\"170005875\",\"5473337\",\"Not Available\",\"Not Available\",\"60262836\",\"2000288\",\"7390108\",\"1067316101\",\"Not Available\",\"Not Available\",\"475106177\",\"74036715\",\"65889846\",\"2913644\",\"Not Available\",\"Not Available\",\"1645133\",\"35566\",\"45720631\",\"142319\",\"7798146\",\"96302\",\"174122191\",\"18778738\",\"26960374\",\"14651\",\"46358827\",\"1488732821\",\"65884703\",\"Not Available\",\"6788659\",\"599146\",\"187436818\",\"156000000\",\"735099102\",\"22926076\",\"1349711\",\"28570902\",\"126216940\",\"141603197\",\"83557872\",\"474171806\",\"436655\",\"21897373\",\"384479940\",\"92181574\",\"Not Available\",\"15000000\",\"373672993\",\"41960\",\"195088\",\"24427162\",\"151052\",\"406878233\",\"321752656\",\"12180\",\"116112375\",\"4164283\",\"83862032\",\"264118201\",\"76182388\",\"159167799\",\"672806432\",\"294805697\",\"316791257\",\"1109802321\",\"46808\",\"5014000\",\"1940906\",\"228178\",\"171627434\",\"1921847111\",\"180906076\",\"81379\",\"19632715\",\"941637960\",\"26023860\",\"29225935\",\"23402427\",\"134686457\",\"402382193\",\"3753929\",\"858848019\",\"31207\",\"Not Available\",\"237536126\",\"162861289\",\"27200000\",\"16767475\",\"122126687\",\"23308615\",\"60611975\",\"269958228\",\"Not Available\",\"Not Available\",\"216763646\",\"Not Available\",\"41722424\",\"29328\",\"5987386\",\"187733202\",\"Not Available\",\"1342359942\",\"910000 (estimated)\",\"74437720\",\"Not Available\",\"173082189\",\"60418\",\"750000 (estimated)\",\"1226507\",\"Not Available\",\"49074379\",\"199632\",\"180563636\",\"1098\",\"1166717\",\"Not Available\",\"Not Available\",\"144738\",\"415261382\",\"311212\",\"1740429\",\"494879471\",\"35401758\",\"579707738\",\"476512065\",\"235860116\",\"46969409\",\"Not Available\",\"Not Available\",\"33882243\",\"225508210\",\"117250402\",\"138545632\",\"623726085\",\"98690254\",\"78371200\",\"619179950\",\"52287414\",\"96983009\",\"23690757\",\"56675895\",\"Not Available\",\"25637669\",\"135342\",\"71108591\",\"23661347\",\"441306145\",\"631607053\",\"Not Available\",\"Not Available\",\"962002\",\"654264015\",\"Not Available\",\"800000 (estimated)\",\"Not Available\",\"Not Available\",\"20908467\",\"72275\",\"67\",\"Not Available\",\"127244\",\"159428329\",\"11477\",\"Not Available\",\"20745728\",\"23335817\",\"216639112\",\"14480\",\"Not Available\",\"52767889\",\"424208848\"],\"yaxis\":\"y\",\"type\":\"scatter\"}],                        {\"template\":{\"data\":{\"histogram2dcontour\":[{\"type\":\"histogram2dcontour\",\"colorbar\":{\"outlinewidth\":0,\"ticks\":\"\"},\"colorscale\":[[0.0,\"#0d0887\"],[0.1111111111111111,\"#46039f\"],[0.2222222222222222,\"#7201a8\"],[0.3333333333333333,\"#9c179e\"],[0.4444444444444444,\"#bd3786\"],[0.5555555555555556,\"#d8576b\"],[0.6666666666666666,\"#ed7953\"],[0.7777777777777778,\"#fb9f3a\"],[0.8888888888888888,\"#fdca26\"],[1.0,\"#f0f921\"]]}],\"choropleth\":[{\"type\":\"choropleth\",\"colorbar\":{\"outlinewidth\":0,\"ticks\":\"\"}}],\"histogram2d\":[{\"type\":\"histogram2d\",\"colorbar\":{\"outlinewidth\":0,\"ticks\":\"\"},\"colorscale\":[[0.0,\"#0d0887\"],[0.1111111111111111,\"#46039f\"],[0.2222222222222222,\"#7201a8\"],[0.3333333333333333,\"#9c179e\"],[0.4444444444444444,\"#bd3786\"],[0.5555555555555556,\"#d8576b\"],[0.6666666666666666,\"#ed7953\"],[0.7777777777777778,\"#fb9f3a\"],[0.8888888888888888,\"#fdca26\"],[1.0,\"#f0f921\"]]}],\"heatmap\":[{\"type\":\"heatmap\",\"colorbar\":{\"outlinewidth\":0,\"ticks\":\"\"},\"colorscale\":[[0.0,\"#0d0887\"],[0.1111111111111111,\"#46039f\"],[0.2222222222222222,\"#7201a8\"],[0.3333333333333333,\"#9c179e\"],[0.4444444444444444,\"#bd3786\"],[0.5555555555555556,\"#d8576b\"],[0.6666666666666666,\"#ed7953\"],[0.7777777777777778,\"#fb9f3a\"],[0.8888888888888888,\"#fdca26\"],[1.0,\"#f0f921\"]]}],\"heatmapgl\":[{\"type\":\"heatmapgl\",\"colorbar\":{\"outlinewidth\":0,\"ticks\":\"\"},\"colorscale\":[[0.0,\"#0d0887\"],[0.1111111111111111,\"#46039f\"],[0.2222222222222222,\"#7201a8\"],[0.3333333333333333,\"#9c179e\"],[0.4444444444444444,\"#bd3786\"],[0.5555555555555556,\"#d8576b\"],[0.6666666666666666,\"#ed7953\"],[0.7777777777777778,\"#fb9f3a\"],[0.8888888888888888,\"#fdca26\"],[1.0,\"#f0f921\"]]}],\"contourcarpet\":[{\"type\":\"contourcarpet\",\"colorbar\":{\"outlinewidth\":0,\"ticks\":\"\"}}],\"contour\":[{\"type\":\"contour\",\"colorbar\":{\"outlinewidth\":0,\"ticks\":\"\"},\"colorscale\":[[0.0,\"#0d0887\"],[0.1111111111111111,\"#46039f\"],[0.2222222222222222,\"#7201a8\"],[0.3333333333333333,\"#9c179e\"],[0.4444444444444444,\"#bd3786\"],[0.5555555555555556,\"#d8576b\"],[0.6666666666666666,\"#ed7953\"],[0.7777777777777778,\"#fb9f3a\"],[0.8888888888888888,\"#fdca26\"],[1.0,\"#f0f921\"]]}],\"surface\":[{\"type\":\"surface\",\"colorbar\":{\"outlinewidth\":0,\"ticks\":\"\"},\"colorscale\":[[0.0,\"#0d0887\"],[0.1111111111111111,\"#46039f\"],[0.2222222222222222,\"#7201a8\"],[0.3333333333333333,\"#9c179e\"],[0.4444444444444444,\"#bd3786\"],[0.5555555555555556,\"#d8576b\"],[0.6666666666666666,\"#ed7953\"],[0.7777777777777778,\"#fb9f3a\"],[0.8888888888888888,\"#fdca26\"],[1.0,\"#f0f921\"]]}],\"mesh3d\":[{\"type\":\"mesh3d\",\"colorbar\":{\"outlinewidth\":0,\"ticks\":\"\"}}],\"scatter\":[{\"fillpattern\":{\"fillmode\":\"overlay\",\"size\":10,\"solidity\":0.2},\"type\":\"scatter\"}],\"parcoords\":[{\"type\":\"parcoords\",\"line\":{\"colorbar\":{\"outlinewidth\":0,\"ticks\":\"\"}}}],\"scatterpolargl\":[{\"type\":\"scatterpolargl\",\"marker\":{\"colorbar\":{\"outlinewidth\":0,\"ticks\":\"\"}}}],\"bar\":[{\"error_x\":{\"color\":\"#2a3f5f\"},\"error_y\":{\"color\":\"#2a3f5f\"},\"marker\":{\"line\":{\"color\":\"#E5ECF6\",\"width\":0.5},\"pattern\":{\"fillmode\":\"overlay\",\"size\":10,\"solidity\":0.2}},\"type\":\"bar\"}],\"scattergeo\":[{\"type\":\"scattergeo\",\"marker\":{\"colorbar\":{\"outlinewidth\":0,\"ticks\":\"\"}}}],\"scatterpolar\":[{\"type\":\"scatterpolar\",\"marker\":{\"colorbar\":{\"outlinewidth\":0,\"ticks\":\"\"}}}],\"histogram\":[{\"marker\":{\"pattern\":{\"fillmode\":\"overlay\",\"size\":10,\"solidity\":0.2}},\"type\":\"histogram\"}],\"scattergl\":[{\"type\":\"scattergl\",\"marker\":{\"colorbar\":{\"outlinewidth\":0,\"ticks\":\"\"}}}],\"scatter3d\":[{\"type\":\"scatter3d\",\"line\":{\"colorbar\":{\"outlinewidth\":0,\"ticks\":\"\"}},\"marker\":{\"colorbar\":{\"outlinewidth\":0,\"ticks\":\"\"}}}],\"scattermapbox\":[{\"type\":\"scattermapbox\",\"marker\":{\"colorbar\":{\"outlinewidth\":0,\"ticks\":\"\"}}}],\"scatterternary\":[{\"type\":\"scatterternary\",\"marker\":{\"colorbar\":{\"outlinewidth\":0,\"ticks\":\"\"}}}],\"scattercarpet\":[{\"type\":\"scattercarpet\",\"marker\":{\"colorbar\":{\"outlinewidth\":0,\"ticks\":\"\"}}}],\"carpet\":[{\"aaxis\":{\"endlinecolor\":\"#2a3f5f\",\"gridcolor\":\"white\",\"linecolor\":\"white\",\"minorgridcolor\":\"white\",\"startlinecolor\":\"#2a3f5f\"},\"baxis\":{\"endlinecolor\":\"#2a3f5f\",\"gridcolor\":\"white\",\"linecolor\":\"white\",\"minorgridcolor\":\"white\",\"startlinecolor\":\"#2a3f5f\"},\"type\":\"carpet\"}],\"table\":[{\"cells\":{\"fill\":{\"color\":\"#EBF0F8\"},\"line\":{\"color\":\"white\"}},\"header\":{\"fill\":{\"color\":\"#C8D4E3\"},\"line\":{\"color\":\"white\"}},\"type\":\"table\"}],\"barpolar\":[{\"marker\":{\"line\":{\"color\":\"#E5ECF6\",\"width\":0.5},\"pattern\":{\"fillmode\":\"overlay\",\"size\":10,\"solidity\":0.2}},\"type\":\"barpolar\"}],\"pie\":[{\"automargin\":true,\"type\":\"pie\"}]},\"layout\":{\"autotypenumbers\":\"strict\",\"colorway\":[\"#636efa\",\"#EF553B\",\"#00cc96\",\"#ab63fa\",\"#FFA15A\",\"#19d3f3\",\"#FF6692\",\"#B6E880\",\"#FF97FF\",\"#FECB52\"],\"font\":{\"color\":\"#2a3f5f\"},\"hovermode\":\"closest\",\"hoverlabel\":{\"align\":\"left\"},\"paper_bgcolor\":\"white\",\"plot_bgcolor\":\"#E5ECF6\",\"polar\":{\"bgcolor\":\"#E5ECF6\",\"angularaxis\":{\"gridcolor\":\"white\",\"linecolor\":\"white\",\"ticks\":\"\"},\"radialaxis\":{\"gridcolor\":\"white\",\"linecolor\":\"white\",\"ticks\":\"\"}},\"ternary\":{\"bgcolor\":\"#E5ECF6\",\"aaxis\":{\"gridcolor\":\"white\",\"linecolor\":\"white\",\"ticks\":\"\"},\"baxis\":{\"gridcolor\":\"white\",\"linecolor\":\"white\",\"ticks\":\"\"},\"caxis\":{\"gridcolor\":\"white\",\"linecolor\":\"white\",\"ticks\":\"\"}},\"coloraxis\":{\"colorbar\":{\"outlinewidth\":0,\"ticks\":\"\"}},\"colorscale\":{\"sequential\":[[0.0,\"#0d0887\"],[0.1111111111111111,\"#46039f\"],[0.2222222222222222,\"#7201a8\"],[0.3333333333333333,\"#9c179e\"],[0.4444444444444444,\"#bd3786\"],[0.5555555555555556,\"#d8576b\"],[0.6666666666666666,\"#ed7953\"],[0.7777777777777778,\"#fb9f3a\"],[0.8888888888888888,\"#fdca26\"],[1.0,\"#f0f921\"]],\"sequentialminus\":[[0.0,\"#0d0887\"],[0.1111111111111111,\"#46039f\"],[0.2222222222222222,\"#7201a8\"],[0.3333333333333333,\"#9c179e\"],[0.4444444444444444,\"#bd3786\"],[0.5555555555555556,\"#d8576b\"],[0.6666666666666666,\"#ed7953\"],[0.7777777777777778,\"#fb9f3a\"],[0.8888888888888888,\"#fdca26\"],[1.0,\"#f0f921\"]],\"diverging\":[[0,\"#8e0152\"],[0.1,\"#c51b7d\"],[0.2,\"#de77ae\"],[0.3,\"#f1b6da\"],[0.4,\"#fde0ef\"],[0.5,\"#f7f7f7\"],[0.6,\"#e6f5d0\"],[0.7,\"#b8e186\"],[0.8,\"#7fbc41\"],[0.9,\"#4d9221\"],[1,\"#276419\"]]},\"xaxis\":{\"gridcolor\":\"white\",\"linecolor\":\"white\",\"ticks\":\"\",\"title\":{\"standoff\":15},\"zerolinecolor\":\"white\",\"automargin\":true,\"zerolinewidth\":2},\"yaxis\":{\"gridcolor\":\"white\",\"linecolor\":\"white\",\"ticks\":\"\",\"title\":{\"standoff\":15},\"zerolinecolor\":\"white\",\"automargin\":true,\"zerolinewidth\":2},\"scene\":{\"xaxis\":{\"backgroundcolor\":\"#E5ECF6\",\"gridcolor\":\"white\",\"linecolor\":\"white\",\"showbackground\":true,\"ticks\":\"\",\"zerolinecolor\":\"white\",\"gridwidth\":2},\"yaxis\":{\"backgroundcolor\":\"#E5ECF6\",\"gridcolor\":\"white\",\"linecolor\":\"white\",\"showbackground\":true,\"ticks\":\"\",\"zerolinecolor\":\"white\",\"gridwidth\":2},\"zaxis\":{\"backgroundcolor\":\"#E5ECF6\",\"gridcolor\":\"white\",\"linecolor\":\"white\",\"showbackground\":true,\"ticks\":\"\",\"zerolinecolor\":\"white\",\"gridwidth\":2}},\"shapedefaults\":{\"line\":{\"color\":\"#2a3f5f\"}},\"annotationdefaults\":{\"arrowcolor\":\"#2a3f5f\",\"arrowhead\":0,\"arrowwidth\":1},\"geo\":{\"bgcolor\":\"white\",\"landcolor\":\"#E5ECF6\",\"subunitcolor\":\"white\",\"showland\":true,\"showlakes\":true,\"lakecolor\":\"white\"},\"title\":{\"x\":0.05},\"mapbox\":{\"style\":\"light\"}}},\"xaxis\":{\"anchor\":\"y\",\"domain\":[0.0,1.0],\"title\":{\"text\":\"certificate\"}},\"yaxis\":{\"anchor\":\"x\",\"domain\":[0.0,1.0],\"title\":{\"text\":\"box_office\"}},\"legend\":{\"tracegroupgap\":0},\"margin\":{\"t\":60}},                        {\"responsive\": true}                    ).then(function(){\n",
       "                            \n",
       "var gd = document.getElementById('639dcbfa-7f48-4fc5-b0f5-a0c045b0f85c');\n",
       "var x = new MutationObserver(function (mutations, observer) {{\n",
       "        var display = window.getComputedStyle(gd).display;\n",
       "        if (!display || display === 'none') {{\n",
       "            console.log([gd, 'removed!']);\n",
       "            Plotly.purge(gd);\n",
       "            observer.disconnect();\n",
       "        }}\n",
       "}});\n",
       "\n",
       "// Listen for the removal of the full notebook cells\n",
       "var notebookContainer = gd.closest('#notebook-container');\n",
       "if (notebookContainer) {{\n",
       "    x.observe(notebookContainer, {childList: true});\n",
       "}}\n",
       "\n",
       "// Listen for the clearing of the current output cell\n",
       "var outputEl = gd.closest('.output');\n",
       "if (outputEl) {{\n",
       "    x.observe(outputEl, {childList: true});\n",
       "}}\n",
       "\n",
       "                        })                };                });            </script>        </div>"
      ]
     },
     "metadata": {},
     "output_type": "display_data"
    }
   ],
   "source": [
    "fig = px.scatter(df,x='certificate', y='box_office')\n",
    "fig.show()"
   ]
  },
  {
   "cell_type": "markdown",
   "id": "221db9ac",
   "metadata": {},
   "source": [
    "## count of certificate"
   ]
  },
  {
   "cell_type": "code",
   "execution_count": 13,
   "id": "8b2f05de",
   "metadata": {},
   "outputs": [
    {
     "data": {
      "text/plain": [
       "R                97\n",
       "PG               37\n",
       "PG-13            35\n",
       "Not Rated        24\n",
       "G                19\n",
       "Passed           16\n",
       "Approved         14\n",
       "18+               1\n",
       "Not Available     1\n",
       "TV-PG             1\n",
       "Unrated           1\n",
       "X                 1\n",
       "13+               1\n",
       "TV-MA             1\n",
       "GP                1\n",
       "Name: certificate, dtype: int64"
      ]
     },
     "execution_count": 13,
     "metadata": {},
     "output_type": "execute_result"
    }
   ],
   "source": [
    "df['box_office'] = df['box_office'].replace(\"Not Available\",0)\n",
    "cert_cnt =  df['certificate'].value_counts()\n",
    "cert_cnt"
   ]
  },
  {
   "cell_type": "markdown",
   "id": "4eeffc81",
   "metadata": {},
   "source": [
    "## graph for box office collection vs genre"
   ]
  },
  {
   "cell_type": "code",
   "execution_count": 14,
   "id": "bcc619b4",
   "metadata": {},
   "outputs": [
    {
     "data": {
      "application/vnd.plotly.v1+json": {
       "config": {
        "plotlyServerURL": "https://plot.ly"
       },
       "data": [
        {
         "alignmentgroup": "True",
         "box": {
          "visible": false
         },
         "hovertemplate": "genre=%{x}<br>box_office=%{y}<extra></extra>",
         "legendgroup": "Drama",
         "marker": {
          "color": "#636efa"
         },
         "name": "Drama",
         "offsetgroup": "Drama",
         "orientation": "v",
         "scalegroup": "True",
         "showlegend": true,
         "type": "violin",
         "x": [
          "Drama",
          "Drama",
          "Drama",
          "Drama",
          "Drama",
          "Drama",
          "Drama",
          "Drama",
          "Drama",
          "Drama",
          "Drama",
          "Drama",
          "Drama",
          "Drama",
          "Drama",
          "Drama",
          "Drama",
          "Drama",
          "Drama"
         ],
         "x0": " ",
         "xaxis": "x",
         "y": [
          "28884504",
          "101209702",
          "109114817",
          "356296601",
          "7390108",
          0,
          0,
          "96302",
          "22926076",
          "436655",
          "151052",
          "76182388",
          "16767475",
          "269958228",
          0,
          "23690757",
          "135342",
          "800000 (estimated)",
          "216639112"
         ],
         "y0": " ",
         "yaxis": "y"
        },
        {
         "alignmentgroup": "True",
         "box": {
          "visible": false
         },
         "hovertemplate": "genre=%{x}<br>box_office=%{y}<extra></extra>",
         "legendgroup": "Crime,Drama",
         "marker": {
          "color": "#EF553B"
         },
         "name": "Crime,Drama",
         "offsetgroup": "Crime,Drama",
         "orientation": "v",
         "scalegroup": "True",
         "showlegend": true,
         "type": "violin",
         "x": [
          "Crime,Drama",
          "Crime,Drama",
          "Crime,Drama",
          "Crime,Drama",
          "Crime,Drama",
          "Crime,Drama",
          "Crime,Drama",
          "Crime,Drama",
          "Crime,Drama",
          "Crime,Drama",
          "Crime,Drama",
          "Crime,Drama",
          "Crime,Drama",
          "Crime,Drama"
         ],
         "x0": " ",
         "xaxis": "x",
         "y": [
          "250341816",
          "47961919",
          "955",
          "213928762",
          "30680793",
          "23875127",
          "5473337",
          "65884703",
          "599146",
          "28570902",
          "116112375",
          0,
          "67",
          "127244"
         ],
         "y0": " ",
         "yaxis": "y"
        },
        {
         "alignmentgroup": "True",
         "box": {
          "visible": false
         },
         "hovertemplate": "genre=%{x}<br>box_office=%{y}<extra></extra>",
         "legendgroup": "Action,Crime,Drama",
         "marker": {
          "color": "#00cc96"
         },
         "name": "Action,Crime,Drama",
         "offsetgroup": "Action,Crime,Drama",
         "orientation": "v",
         "scalegroup": "True",
         "showlegend": true,
         "type": "violin",
         "x": [
          "Action,Crime,Drama",
          "Action,Crime,Drama",
          "Action,Crime,Drama",
          "Action,Crime,Drama",
          "Action,Crime,Drama"
         ],
         "x0": " ",
         "xaxis": "x",
         "y": [
          "1006234167",
          "19569225",
          "187436818",
          "373672993",
          "180906076"
         ],
         "y0": " ",
         "yaxis": "y"
        },
        {
         "alignmentgroup": "True",
         "box": {
          "visible": false
         },
         "hovertemplate": "genre=%{x}<br>box_office=%{y}<extra></extra>",
         "legendgroup": "Biography,Drama,History",
         "marker": {
          "color": "#ab63fa"
         },
         "name": "Biography,Drama,History",
         "offsetgroup": "Biography,Drama,History",
         "orientation": "v",
         "scalegroup": "True",
         "showlegend": true,
         "type": "violin",
         "x": [
          "Biography,Drama,History",
          "Biography,Drama,History",
          "Biography,Drama,History",
          "Biography,Drama,History",
          "Biography,Drama,History",
          "Biography,Drama,History",
          "Biography,Drama,History",
          "Biography,Drama,History",
          "Biography,Drama,History"
         ],
         "x0": " ",
         "xaxis": "x",
         "y": [
          "322161245",
          "213216216",
          0,
          "92181574",
          "187733202",
          "180563636",
          0,
          "33882243",
          "52767889"
         ],
         "y0": " ",
         "yaxis": "y"
        },
        {
         "alignmentgroup": "True",
         "box": {
          "visible": false
         },
         "hovertemplate": "genre=%{x}<br>box_office=%{y}<extra></extra>",
         "legendgroup": "Action,Adventure,Drama",
         "marker": {
          "color": "#FFA15A"
         },
         "name": "Action,Adventure,Drama",
         "offsetgroup": "Action,Adventure,Drama",
         "orientation": "v",
         "scalegroup": "True",
         "showlegend": true,
         "type": "violin",
         "x": [
          "Action,Adventure,Drama",
          "Action,Adventure,Drama",
          "Action,Adventure,Drama",
          "Action,Adventure,Drama",
          "Action,Adventure,Drama"
         ],
         "x0": " ",
         "xaxis": "x",
         "y": [
          "1146457748",
          "898204420",
          "947944270",
          "503162313",
          "2799439100"
         ],
         "y0": " ",
         "yaxis": "y"
        },
        {
         "alignmentgroup": "True",
         "box": {
          "visible": false
         },
         "hovertemplate": "genre=%{x}<br>box_office=%{y}<extra></extra>",
         "legendgroup": "Adventure,Western",
         "marker": {
          "color": "#19d3f3"
         },
         "name": "Adventure,Western",
         "offsetgroup": "Adventure,Western",
         "orientation": "v",
         "scalegroup": "True",
         "showlegend": true,
         "type": "violin",
         "x": [
          "Adventure,Western"
         ],
         "x0": " ",
         "xaxis": "x",
         "y": [
          "25253887"
         ],
         "y0": " ",
         "yaxis": "y"
        },
        {
         "alignmentgroup": "True",
         "box": {
          "visible": false
         },
         "hovertemplate": "genre=%{x}<br>box_office=%{y}<extra></extra>",
         "legendgroup": "Drama,Romance",
         "marker": {
          "color": "#FF6692"
         },
         "name": "Drama,Romance",
         "offsetgroup": "Drama,Romance",
         "orientation": "v",
         "scalegroup": "True",
         "showlegend": true,
         "type": "violin",
         "x": [
          "Drama,Romance",
          "Drama,Romance",
          "Drama,Romance",
          "Drama,Romance",
          "Drama,Romance",
          "Drama,Romance"
         ],
         "x0": " ",
         "xaxis": "x",
         "y": [
          "678226465",
          "13019063",
          0,
          "5987386",
          "60418",
          0
         ],
         "y0": " ",
         "yaxis": "y"
        },
        {
         "alignmentgroup": "True",
         "box": {
          "visible": false
         },
         "hovertemplate": "genre=%{x}<br>box_office=%{y}<extra></extra>",
         "legendgroup": "Action,Adventure,Sci-Fi",
         "marker": {
          "color": "#B6E880"
         },
         "name": "Action,Adventure,Sci-Fi",
         "offsetgroup": "Action,Adventure,Sci-Fi",
         "orientation": "v",
         "scalegroup": "True",
         "showlegend": true,
         "type": "violin",
         "x": [
          "Action,Adventure,Sci-Fi",
          "Action,Adventure,Sci-Fi",
          "Action,Adventure,Sci-Fi",
          "Action,Adventure,Sci-Fi",
          "Action,Adventure,Sci-Fi"
         ],
         "x0": " ",
         "xaxis": "x",
         "y": [
          "836848102",
          "2052415039",
          "131060248",
          "1109802321",
          "415261382"
         ],
         "y0": " ",
         "yaxis": "y"
        },
        {
         "alignmentgroup": "True",
         "box": {
          "visible": false
         },
         "hovertemplate": "genre=%{x}<br>box_office=%{y}<extra></extra>",
         "legendgroup": "Action,Adventure,Fantasy",
         "marker": {
          "color": "#FF97FF"
         },
         "name": "Action,Adventure,Fantasy",
         "offsetgroup": "Action,Adventure,Fantasy",
         "orientation": "v",
         "scalegroup": "True",
         "showlegend": true,
         "type": "violin",
         "x": [
          "Action,Adventure,Fantasy",
          "Action,Adventure,Fantasy",
          "Action,Adventure,Fantasy",
          "Action,Adventure,Fantasy",
          "Action,Adventure,Fantasy"
         ],
         "x0": " ",
         "xaxis": "x",
         "y": [
          "538375067",
          "775398007",
          "475106177",
          "1921847111",
          "654264015"
         ],
         "y0": " ",
         "yaxis": "y"
        },
        {
         "alignmentgroup": "True",
         "box": {
          "visible": false
         },
         "hovertemplate": "genre=%{x}<br>box_office=%{y}<extra></extra>",
         "legendgroup": "Action,Sci-Fi",
         "marker": {
          "color": "#FECB52"
         },
         "name": "Action,Sci-Fi",
         "offsetgroup": "Action,Sci-Fi",
         "orientation": "v",
         "scalegroup": "True",
         "showlegend": true,
         "type": "violin",
         "x": [
          "Action,Sci-Fi",
          "Action,Sci-Fi",
          "Action,Sci-Fi"
         ],
         "x0": " ",
         "xaxis": "x",
         "y": [
          "467222728",
          "520881154",
          "78371200"
         ],
         "y0": " ",
         "yaxis": "y"
        },
        {
         "alignmentgroup": "True",
         "box": {
          "visible": false
         },
         "hovertemplate": "genre=%{x}<br>box_office=%{y}<extra></extra>",
         "legendgroup": "Biography,Crime,Drama",
         "marker": {
          "color": "#636efa"
         },
         "name": "Biography,Crime,Drama",
         "offsetgroup": "Biography,Crime,Drama",
         "orientation": "v",
         "scalegroup": "True",
         "showlegend": true,
         "type": "violin",
         "x": [
          "Biography,Crime,Drama",
          "Biography,Crime,Drama",
          "Biography,Crime,Drama",
          "Biography,Crime,Drama"
         ],
         "x0": " ",
         "xaxis": "x",
         "y": [
          "47036784",
          0,
          0,
          "98690254"
         ],
         "y0": " ",
         "yaxis": "y"
        },
        {
         "alignmentgroup": "True",
         "box": {
          "visible": false
         },
         "hovertemplate": "genre=%{x}<br>box_office=%{y}<extra></extra>",
         "legendgroup": "Crime,Drama,Mystery",
         "marker": {
          "color": "#EF553B"
         },
         "name": "Crime,Drama,Mystery",
         "offsetgroup": "Crime,Drama,Mystery",
         "orientation": "v",
         "scalegroup": "True",
         "showlegend": true,
         "type": "violin",
         "x": [
          "Crime,Drama,Mystery",
          "Crime,Drama,Mystery",
          "Crime,Drama,Mystery",
          "Crime,Drama,Mystery",
          "Crime,Drama,Mystery",
          "Crime,Drama,Mystery",
          "Crime,Drama,Mystery",
          "Crime,Drama,Mystery",
          "Crime,Drama,Mystery"
         ],
         "x0": " ",
         "xaxis": "x",
         "y": [
          "327333559",
          "23341568",
          "7693",
          0,
          "126216940",
          "81379",
          "122126687",
          "1166717",
          0
         ],
         "y0": " ",
         "yaxis": "y"
        },
        {
         "alignmentgroup": "True",
         "box": {
          "visible": false
         },
         "hovertemplate": "genre=%{x}<br>box_office=%{y}<extra></extra>",
         "legendgroup": "Action,Drama",
         "marker": {
          "color": "#00cc96"
         },
         "name": "Action,Drama",
         "offsetgroup": "Action,Drama",
         "orientation": "v",
         "scalegroup": "True",
         "showlegend": true,
         "type": "violin",
         "x": [
          "Action,Drama",
          "Action,Drama",
          "Action,Drama"
         ],
         "x0": " ",
         "xaxis": "x",
         "y": [
          "346258",
          "1081169825",
          "1488732821"
         ],
         "y0": " ",
         "yaxis": "y"
        },
        {
         "alignmentgroup": "True",
         "box": {
          "visible": false
         },
         "hovertemplate": "genre=%{x}<br>box_office=%{y}<extra></extra>",
         "legendgroup": "Drama,Family,Fantasy",
         "marker": {
          "color": "#ab63fa"
         },
         "name": "Drama,Family,Fantasy",
         "offsetgroup": "Drama,Family,Fantasy",
         "orientation": "v",
         "scalegroup": "True",
         "showlegend": true,
         "type": "violin",
         "x": [
          "Drama,Family,Fantasy"
         ],
         "x0": " ",
         "xaxis": "x",
         "y": [
          "8574081"
         ],
         "y0": " ",
         "yaxis": "y"
        },
        {
         "alignmentgroup": "True",
         "box": {
          "visible": false
         },
         "hovertemplate": "genre=%{x}<br>box_office=%{y}<extra></extra>",
         "legendgroup": "Crime,Drama,Thriller",
         "marker": {
          "color": "#FFA15A"
         },
         "name": "Crime,Drama,Thriller",
         "offsetgroup": "Crime,Drama,Thriller",
         "orientation": "v",
         "scalegroup": "True",
         "showlegend": true,
         "type": "violin",
         "x": [
          "Crime,Drama,Thriller",
          "Crime,Drama,Thriller",
          "Crime,Drama,Thriller",
          "Crime,Drama,Thriller",
          "Crime,Drama,Thriller"
         ],
         "x0": " ",
         "xaxis": "x",
         "y": [
          "272742922",
          "291480452",
          "1074458282",
          "171627434",
          "910000 (estimated)"
         ],
         "y0": " ",
         "yaxis": "y"
        },
        {
         "alignmentgroup": "True",
         "box": {
          "visible": false
         },
         "hovertemplate": "genre=%{x}<br>box_office=%{y}<extra></extra>",
         "legendgroup": "Drama,War",
         "marker": {
          "color": "#19d3f3"
         },
         "name": "Drama,War",
         "offsetgroup": "Drama,War",
         "orientation": "v",
         "scalegroup": "True",
         "showlegend": true,
         "type": "violin",
         "x": [
          "Drama,War",
          "Drama,War",
          "Drama,War",
          "Drama,War",
          "Drama,War",
          "Drama,War",
          "Drama,War",
          "Drama,War"
         ],
         "x0": " ",
         "xaxis": "x",
         "y": [
          "482349603",
          "5252",
          "11487676",
          "46358827",
          "12180",
          "49074379",
          "138545632",
          "962002"
         ],
         "y0": " ",
         "yaxis": "y"
        },
        {
         "alignmentgroup": "True",
         "box": {
          "visible": false
         },
         "hovertemplate": "genre=%{x}<br>box_office=%{y}<extra></extra>",
         "legendgroup": "Adventure,Drama,Sci-Fi",
         "marker": {
          "color": "#FF6692"
         },
         "name": "Adventure,Drama,Sci-Fi",
         "offsetgroup": "Adventure,Drama,Sci-Fi",
         "orientation": "v",
         "scalegroup": "True",
         "showlegend": true,
         "type": "violin",
         "x": [
          "Adventure,Drama,Sci-Fi"
         ],
         "x0": " ",
         "xaxis": "x",
         "y": [
          "773867216"
         ],
         "y0": " ",
         "yaxis": "y"
        },
        {
         "alignmentgroup": "True",
         "box": {
          "visible": false
         },
         "hovertemplate": "genre=%{x}<br>box_office=%{y}<extra></extra>",
         "legendgroup": "Comedy,Drama,Romance",
         "marker": {
          "color": "#B6E880"
         },
         "name": "Comedy,Drama,Romance",
         "offsetgroup": "Comedy,Drama,Romance",
         "orientation": "v",
         "scalegroup": "True",
         "showlegend": true,
         "type": "violin",
         "x": [
          "Comedy,Drama,Romance",
          "Comedy,Drama,Romance",
          "Comedy,Drama,Romance",
          "Comedy,Drama,Romance"
         ],
         "x0": " ",
         "xaxis": "x",
         "y": [
          "230098753",
          "463618",
          "50419",
          "18778738"
         ],
         "y0": " ",
         "yaxis": "y"
        },
        {
         "alignmentgroup": "True",
         "box": {
          "visible": false
         },
         "hovertemplate": "genre=%{x}<br>box_office=%{y}<extra></extra>",
         "legendgroup": "Crime,Drama,Fantasy",
         "marker": {
          "color": "#FF97FF"
         },
         "name": "Crime,Drama,Fantasy",
         "offsetgroup": "Crime,Drama,Fantasy",
         "orientation": "v",
         "scalegroup": "True",
         "showlegend": true,
         "type": "violin",
         "x": [
          "Crime,Drama,Fantasy"
         ],
         "x0": " ",
         "xaxis": "x",
         "y": [
          "286801374"
         ],
         "y0": " ",
         "yaxis": "y"
        },
        {
         "alignmentgroup": "True",
         "box": {
          "visible": false
         },
         "hovertemplate": "genre=%{x}<br>box_office=%{y}<extra></extra>",
         "legendgroup": "Adventure,Comedy,Sci-Fi",
         "marker": {
          "color": "#FECB52"
         },
         "name": "Adventure,Comedy,Sci-Fi",
         "offsetgroup": "Adventure,Comedy,Sci-Fi",
         "orientation": "v",
         "scalegroup": "True",
         "showlegend": true,
         "type": "violin",
         "x": [
          "Adventure,Comedy,Sci-Fi"
         ],
         "x0": " ",
         "xaxis": "x",
         "y": [
          "383336762"
         ],
         "y0": " ",
         "yaxis": "y"
        },
        {
         "alignmentgroup": "True",
         "box": {
          "visible": false
         },
         "hovertemplate": "genre=%{x}<br>box_office=%{y}<extra></extra>",
         "legendgroup": "Animation,Adventure,Family",
         "marker": {
          "color": "#636efa"
         },
         "name": "Animation,Adventure,Family",
         "offsetgroup": "Animation,Adventure,Family",
         "orientation": "v",
         "scalegroup": "True",
         "showlegend": true,
         "type": "violin",
         "x": [
          "Animation,Adventure,Family",
          "Animation,Adventure,Family",
          "Animation,Adventure,Family"
         ],
         "x0": " ",
         "xaxis": "x",
         "y": [
          "355822319",
          "521311890",
          "237536126"
         ],
         "y0": " ",
         "yaxis": "y"
        },
        {
         "alignmentgroup": "True",
         "box": {
          "visible": false
         },
         "hovertemplate": "genre=%{x}<br>box_office=%{y}<extra></extra>",
         "legendgroup": "Biography,Drama,Music",
         "marker": {
          "color": "#EF553B"
         },
         "name": "Biography,Drama,Music",
         "offsetgroup": "Biography,Drama,Music",
         "orientation": "v",
         "scalegroup": "True",
         "showlegend": true,
         "type": "violin",
         "x": [
          "Biography,Drama,Music",
          "Biography,Drama,Music"
         ],
         "x0": " ",
         "xaxis": "x",
         "y": [
          "120072577",
          "52066791"
         ],
         "y0": " ",
         "yaxis": "y"
        },
        {
         "alignmentgroup": "True",
         "box": {
          "visible": false
         },
         "hovertemplate": "genre=%{x}<br>box_office=%{y}<extra></extra>",
         "legendgroup": "Horror,Mystery,Thriller",
         "marker": {
          "color": "#00cc96"
         },
         "name": "Horror,Mystery,Thriller",
         "offsetgroup": "Horror,Mystery,Thriller",
         "orientation": "v",
         "scalegroup": "True",
         "showlegend": true,
         "type": "violin",
         "x": [
          "Horror,Mystery,Thriller"
         ],
         "x0": " ",
         "xaxis": "x",
         "y": [
          "32052925"
         ],
         "y0": " ",
         "yaxis": "y"
        },
        {
         "alignmentgroup": "True",
         "box": {
          "visible": false
         },
         "hovertemplate": "genre=%{x}<br>box_office=%{y}<extra></extra>",
         "legendgroup": "Drama,Thriller",
         "marker": {
          "color": "#ab63fa"
         },
         "name": "Drama,Thriller",
         "offsetgroup": "Drama,Thriller",
         "orientation": "v",
         "scalegroup": "True",
         "showlegend": true,
         "type": "violin",
         "x": [
          "Drama,Thriller",
          "Drama,Thriller",
          "Drama,Thriller",
          "Drama,Thriller"
         ],
         "x0": " ",
         "xaxis": "x",
         "y": [
          "262676096",
          "35401758",
          "20908467",
          0
         ],
         "y0": " ",
         "yaxis": "y"
        },
        {
         "alignmentgroup": "True",
         "box": {
          "visible": false
         },
         "hovertemplate": "genre=%{x}<br>box_office=%{y}<extra></extra>",
         "legendgroup": "Animation,Adventure,Drama",
         "marker": {
          "color": "#FFA15A"
         },
         "name": "Animation,Adventure,Drama",
         "offsetgroup": "Animation,Adventure,Drama",
         "orientation": "v",
         "scalegroup": "True",
         "showlegend": true,
         "type": "violin",
         "x": [
          "Animation,Adventure,Drama"
         ],
         "x0": " ",
         "xaxis": "x",
         "y": [
          "968511805"
         ],
         "y0": " ",
         "yaxis": "y"
        },
        {
         "alignmentgroup": "True",
         "box": {
          "visible": false
         },
         "hovertemplate": "genre=%{x}<br>box_office=%{y}<extra></extra>",
         "legendgroup": "Drama,Mystery,Sci-Fi",
         "marker": {
          "color": "#19d3f3"
         },
         "name": "Drama,Mystery,Sci-Fi",
         "offsetgroup": "Drama,Mystery,Sci-Fi",
         "orientation": "v",
         "scalegroup": "True",
         "showlegend": true,
         "type": "violin",
         "x": [
          "Drama,Mystery,Sci-Fi"
         ],
         "x0": " ",
         "xaxis": "x",
         "y": [
          "109676311"
         ],
         "y0": " ",
         "yaxis": "y"
        },
        {
         "alignmentgroup": "True",
         "box": {
          "visible": false
         },
         "hovertemplate": "genre=%{x}<br>box_office=%{y}<extra></extra>",
         "legendgroup": "Drama,Music",
         "marker": {
          "color": "#FF6692"
         },
         "name": "Drama,Music",
         "offsetgroup": "Drama,Music",
         "orientation": "v",
         "scalegroup": "True",
         "showlegend": true,
         "type": "violin",
         "x": [
          "Drama,Music"
         ],
         "x0": " ",
         "xaxis": "x",
         "y": [
          "49396747"
         ],
         "y0": " ",
         "yaxis": "y"
        },
        {
         "alignmentgroup": "True",
         "box": {
          "visible": false
         },
         "hovertemplate": "genre=%{x}<br>box_office=%{y}<extra></extra>",
         "legendgroup": "Drama,Romance,War",
         "marker": {
          "color": "#B6E880"
         },
         "name": "Drama,Romance,War",
         "offsetgroup": "Drama,Romance,War",
         "orientation": "v",
         "scalegroup": "True",
         "showlegend": true,
         "type": "violin",
         "x": [
          "Drama,Romance,War",
          "Drama,Romance,War",
          "Drama,Romance,War"
         ],
         "x0": " ",
         "xaxis": "x",
         "y": [
          "4626532",
          "402382193",
          "23661347"
         ],
         "y0": " ",
         "yaxis": "y"
        },
        {
         "alignmentgroup": "True",
         "box": {
          "visible": false
         },
         "hovertemplate": "genre=%{x}<br>box_office=%{y}<extra></extra>",
         "legendgroup": "Animation,Drama,War",
         "marker": {
          "color": "#FF97FF"
         },
         "name": "Animation,Drama,War",
         "offsetgroup": "Animation,Drama,War",
         "orientation": "v",
         "scalegroup": "True",
         "showlegend": true,
         "type": "violin",
         "x": [
          "Animation,Drama,War"
         ],
         "x0": " ",
         "xaxis": "x",
         "y": [
          "516962"
         ],
         "y0": " ",
         "yaxis": "y"
        },
        {
         "alignmentgroup": "True",
         "box": {
          "visible": false
         },
         "hovertemplate": "genre=%{x}<br>box_office=%{y}<extra></extra>",
         "legendgroup": "Action,Drama,Mystery",
         "marker": {
          "color": "#FECB52"
         },
         "name": "Action,Drama,Mystery",
         "offsetgroup": "Action,Drama,Mystery",
         "orientation": "v",
         "scalegroup": "True",
         "showlegend": true,
         "type": "violin",
         "x": [
          "Action,Drama,Mystery",
          "Action,Drama,Mystery"
         ],
         "x0": " ",
         "xaxis": "x",
         "y": [
          0,
          "15421226"
         ],
         "y0": " ",
         "yaxis": "y"
        },
        {
         "alignmentgroup": "True",
         "box": {
          "visible": false
         },
         "hovertemplate": "genre=%{x}<br>box_office=%{y}<extra></extra>",
         "legendgroup": "Biography,Comedy,Drama",
         "marker": {
          "color": "#636efa"
         },
         "name": "Biography,Comedy,Drama",
         "offsetgroup": "Biography,Comedy,Drama",
         "orientation": "v",
         "scalegroup": "True",
         "showlegend": true,
         "type": "violin",
         "x": [
          "Biography,Comedy,Drama",
          "Biography,Comedy,Drama"
         ],
         "x0": " ",
         "xaxis": "x",
         "y": [
          "426588510",
          "321752656"
         ],
         "y0": " ",
         "yaxis": "y"
        },
        {
         "alignmentgroup": "True",
         "box": {
          "visible": false
         },
         "hovertemplate": "genre=%{x}<br>box_office=%{y}<extra></extra>",
         "legendgroup": "Western",
         "marker": {
          "color": "#EF553B"
         },
         "name": "Western",
         "offsetgroup": "Western",
         "orientation": "v",
         "scalegroup": "True",
         "showlegend": true,
         "type": "violin",
         "x": [
          "Western",
          "Western"
         ],
         "x0": " ",
         "xaxis": "x",
         "y": [
          "5435024",
          "15000000"
         ],
         "y0": " ",
         "yaxis": "y"
        },
        {
         "alignmentgroup": "True",
         "box": {
          "visible": false
         },
         "hovertemplate": "genre=%{x}<br>box_office=%{y}<extra></extra>",
         "legendgroup": "Mystery,Thriller",
         "marker": {
          "color": "#00cc96"
         },
         "name": "Mystery,Thriller",
         "offsetgroup": "Mystery,Thriller",
         "orientation": "v",
         "scalegroup": "True",
         "showlegend": true,
         "type": "violin",
         "x": [
          "Mystery,Thriller",
          "Mystery,Thriller",
          "Mystery,Thriller"
         ],
         "x0": " ",
         "xaxis": "x",
         "y": [
          "37034579",
          "40047078",
          "294805697"
         ],
         "y0": " ",
         "yaxis": "y"
        },
        {
         "alignmentgroup": "True",
         "box": {
          "visible": false
         },
         "hovertemplate": "genre=%{x}<br>box_office=%{y}<extra></extra>",
         "legendgroup": "Horror,Sci-Fi",
         "marker": {
          "color": "#ab63fa"
         },
         "name": "Horror,Sci-Fi",
         "offsetgroup": "Horror,Sci-Fi",
         "orientation": "v",
         "scalegroup": "True",
         "showlegend": true,
         "type": "violin",
         "x": [
          "Horror,Sci-Fi"
         ],
         "x0": " ",
         "xaxis": "x",
         "y": [
          "106285522"
         ],
         "y0": " ",
         "yaxis": "y"
        },
        {
         "alignmentgroup": "True",
         "box": {
          "visible": false
         },
         "hovertemplate": "genre=%{x}<br>box_office=%{y}<extra></extra>",
         "legendgroup": "Drama,Mystery,War",
         "marker": {
          "color": "#FFA15A"
         },
         "name": "Drama,Mystery,War",
         "offsetgroup": "Drama,Mystery,War",
         "orientation": "v",
         "scalegroup": "True",
         "showlegend": true,
         "type": "violin",
         "x": [
          "Drama,Mystery,War"
         ],
         "x0": " ",
         "xaxis": "x",
         "y": [
          "104880868"
         ],
         "y0": " ",
         "yaxis": "y"
        },
        {
         "alignmentgroup": "True",
         "box": {
          "visible": false
         },
         "hovertemplate": "genre=%{x}<br>box_office=%{y}<extra></extra>",
         "legendgroup": "Drama,Western",
         "marker": {
          "color": "#19d3f3"
         },
         "name": "Drama,Western",
         "offsetgroup": "Drama,Western",
         "orientation": "v",
         "scalegroup": "True",
         "showlegend": true,
         "type": "violin",
         "x": [
          "Drama,Western",
          "Drama,Western"
         ],
         "x0": " ",
         "xaxis": "x",
         "y": [
          "426074373",
          "159167799"
         ],
         "y0": " ",
         "yaxis": "y"
        },
        {
         "alignmentgroup": "True",
         "box": {
          "visible": false
         },
         "hovertemplate": "genre=%{x}<br>box_office=%{y}<extra></extra>",
         "legendgroup": "Action,Adventure",
         "marker": {
          "color": "#FF6692"
         },
         "name": "Action,Adventure",
         "offsetgroup": "Action,Adventure",
         "orientation": "v",
         "scalegroup": "True",
         "showlegend": true,
         "type": "violin",
         "x": [
          "Action,Adventure",
          "Action,Adventure"
         ],
         "x0": " ",
         "xaxis": "x",
         "y": [
          "389925971",
          "474171806"
         ],
         "y0": " ",
         "yaxis": "y"
        },
        {
         "alignmentgroup": "True",
         "box": {
          "visible": false
         },
         "hovertemplate": "genre=%{x}<br>box_office=%{y}<extra></extra>",
         "legendgroup": "Drama,Mystery,Thriller",
         "marker": {
          "color": "#B6E880"
         },
         "name": "Drama,Mystery,Thriller",
         "offsetgroup": "Drama,Mystery,Thriller",
         "orientation": "v",
         "scalegroup": "True",
         "showlegend": true,
         "type": "violin",
         "x": [
          "Drama,Mystery,Thriller",
          "Drama,Mystery,Thriller",
          "Drama,Mystery,Thriller",
          "Drama,Mystery,Thriller"
         ],
         "x0": " ",
         "xaxis": "x",
         "y": [
          "77356942",
          "672806432",
          "29225935",
          0
         ],
         "y0": " ",
         "yaxis": "y"
        },
        {
         "alignmentgroup": "True",
         "box": {
          "visible": false
         },
         "hovertemplate": "genre=%{x}<br>box_office=%{y}<extra></extra>",
         "legendgroup": "Drama,Film-Noir",
         "marker": {
          "color": "#FF97FF"
         },
         "name": "Drama,Film-Noir",
         "offsetgroup": "Drama,Film-Noir",
         "orientation": "v",
         "scalegroup": "True",
         "showlegend": true,
         "type": "violin",
         "x": [
          "Drama,Film-Noir"
         ],
         "x0": " ",
         "xaxis": "x",
         "y": [
          "300073"
         ],
         "y0": " ",
         "yaxis": "y"
        },
        {
         "alignmentgroup": "True",
         "box": {
          "visible": false
         },
         "hovertemplate": "genre=%{x}<br>box_office=%{y}<extra></extra>",
         "legendgroup": "Drama,Horror",
         "marker": {
          "color": "#FECB52"
         },
         "name": "Drama,Horror",
         "offsetgroup": "Drama,Horror",
         "orientation": "v",
         "scalegroup": "True",
         "showlegend": true,
         "type": "violin",
         "x": [
          "Drama,Horror"
         ],
         "x0": " ",
         "xaxis": "x",
         "y": [
          "47335804"
         ],
         "y0": " ",
         "yaxis": "y"
        },
        {
         "alignmentgroup": "True",
         "box": {
          "visible": false
         },
         "hovertemplate": "genre=%{x}<br>box_office=%{y}<extra></extra>",
         "legendgroup": "Comedy,Drama,War",
         "marker": {
          "color": "#636efa"
         },
         "name": "Comedy,Drama,War",
         "offsetgroup": "Comedy,Drama,War",
         "orientation": "v",
         "scalegroup": "True",
         "showlegend": true,
         "type": "violin",
         "x": [
          "Comedy,Drama,War"
         ],
         "x0": " ",
         "xaxis": "x",
         "y": [
          "970263"
         ],
         "y0": " ",
         "yaxis": "y"
        },
        {
         "alignmentgroup": "True",
         "box": {
          "visible": false
         },
         "hovertemplate": "genre=%{x}<br>box_office=%{y}<extra></extra>",
         "legendgroup": "Animation,Action,Adventure",
         "marker": {
          "color": "#EF553B"
         },
         "name": "Animation,Action,Adventure",
         "offsetgroup": "Animation,Action,Adventure",
         "orientation": "v",
         "scalegroup": "True",
         "showlegend": true,
         "type": "violin",
         "x": [
          "Animation,Action,Adventure",
          "Animation,Action,Adventure",
          "Animation,Action,Adventure",
          "Animation,Action,Adventure",
          "Animation,Action,Adventure"
         ],
         "x0": " ",
         "xaxis": "x",
         "y": [
          0,
          "170005875",
          "494879471",
          "631607053",
          "23335817"
         ],
         "y0": " ",
         "yaxis": "y"
        },
        {
         "alignmentgroup": "True",
         "box": {
          "visible": false
         },
         "hovertemplate": "genre=%{x}<br>box_office=%{y}<extra></extra>",
         "legendgroup": "Comedy,War",
         "marker": {
          "color": "#00cc96"
         },
         "name": "Comedy,War",
         "offsetgroup": "Comedy,War",
         "orientation": "v",
         "scalegroup": "True",
         "showlegend": true,
         "type": "violin",
         "x": [
          "Comedy,War"
         ],
         "x0": " ",
         "xaxis": "x",
         "y": [
          "9523464"
         ],
         "y0": " ",
         "yaxis": "y"
        },
        {
         "alignmentgroup": "True",
         "box": {
          "visible": false
         },
         "hovertemplate": "genre=%{x}<br>box_office=%{y}<extra></extra>",
         "legendgroup": "Adventure,Drama,War",
         "marker": {
          "color": "#ab63fa"
         },
         "name": "Adventure,Drama,War",
         "offsetgroup": "Adventure,Drama,War",
         "orientation": "v",
         "scalegroup": "True",
         "showlegend": true,
         "type": "violin",
         "x": [
          "Adventure,Drama,War",
          "Adventure,Drama,War",
          "Adventure,Drama,War"
         ],
         "x0": " ",
         "xaxis": "x",
         "y": [
          "321457747",
          "27200000",
          "199632"
         ],
         "y0": " ",
         "yaxis": "y"
        },
        {
         "alignmentgroup": "True",
         "box": {
          "visible": false
         },
         "hovertemplate": "genre=%{x}<br>box_office=%{y}<extra></extra>",
         "legendgroup": "Animation,Adventure,Comedy",
         "marker": {
          "color": "#FFA15A"
         },
         "name": "Animation,Adventure,Comedy",
         "offsetgroup": "Animation,Adventure,Comedy",
         "orientation": "v",
         "scalegroup": "True",
         "showlegend": true,
         "type": "violin",
         "x": [
          "Animation,Adventure,Comedy",
          "Animation,Adventure,Comedy",
          "Animation,Adventure,Comedy",
          "Animation,Adventure,Comedy",
          "Animation,Adventure,Comedy",
          "Animation,Adventure,Comedy",
          "Animation,Adventure,Comedy",
          "Animation,Adventure,Comedy",
          "Animation,Adventure,Comedy",
          "Animation,Adventure,Comedy"
         ],
         "x0": " ",
         "xaxis": "x",
         "y": [
          "814337054",
          "394436586",
          "1067316101",
          "735099102",
          "941637960",
          "858848019",
          0,
          "579707738",
          "623726085",
          0
         ],
         "y0": " ",
         "yaxis": "y"
        },
        {
         "alignmentgroup": "True",
         "box": {
          "visible": false
         },
         "hovertemplate": "genre=%{x}<br>box_office=%{y}<extra></extra>",
         "legendgroup": "Animation,Drama,Fantasy",
         "marker": {
          "color": "#19d3f3"
         },
         "name": "Animation,Drama,Fantasy",
         "offsetgroup": "Animation,Drama,Fantasy",
         "orientation": "v",
         "scalegroup": "True",
         "showlegend": true,
         "type": "violin",
         "x": [
          "Animation,Drama,Fantasy"
         ],
         "x0": " ",
         "xaxis": "x",
         "y": [
          0
         ],
         "y0": " ",
         "yaxis": "y"
        },
        {
         "alignmentgroup": "True",
         "box": {
          "visible": false
         },
         "hovertemplate": "genre=%{x}<br>box_office=%{y}<extra></extra>",
         "legendgroup": "Comedy,Drama",
         "marker": {
          "color": "#FF6692"
         },
         "name": "Comedy,Drama",
         "offsetgroup": "Comedy,Drama",
         "orientation": "v",
         "scalegroup": "True",
         "showlegend": true,
         "type": "violin",
         "x": [
          "Comedy,Drama",
          "Comedy,Drama",
          "Comedy,Drama",
          "Comedy,Drama"
         ],
         "x0": " ",
         "xaxis": "x",
         "y": [
          "60262836",
          "264118201",
          "144738",
          "235860116"
         ],
         "y0": " ",
         "yaxis": "y"
        },
        {
         "alignmentgroup": "True",
         "box": {
          "visible": false
         },
         "hovertemplate": "genre=%{x}<br>box_office=%{y}<extra></extra>",
         "legendgroup": "Comedy,Musical,Romance",
         "marker": {
          "color": "#B6E880"
         },
         "name": "Comedy,Musical,Romance",
         "offsetgroup": "Comedy,Musical,Romance",
         "orientation": "v",
         "scalegroup": "True",
         "showlegend": true,
         "type": "violin",
         "x": [
          "Comedy,Musical,Romance"
         ],
         "x0": " ",
         "xaxis": "x",
         "y": [
          "2000288"
         ],
         "y0": " ",
         "yaxis": "y"
        },
        {
         "alignmentgroup": "True",
         "box": {
          "visible": false
         },
         "hovertemplate": "genre=%{x}<br>box_office=%{y}<extra></extra>",
         "legendgroup": "Drama,Romance,Sci-Fi",
         "marker": {
          "color": "#FF97FF"
         },
         "name": "Drama,Romance,Sci-Fi",
         "offsetgroup": "Drama,Romance,Sci-Fi",
         "orientation": "v",
         "scalegroup": "True",
         "showlegend": true,
         "type": "violin",
         "x": [
          "Drama,Romance,Sci-Fi"
         ],
         "x0": " ",
         "xaxis": "x",
         "y": [
          "74036715"
         ],
         "y0": " ",
         "yaxis": "y"
        },
        {
         "alignmentgroup": "True",
         "box": {
          "visible": false
         },
         "hovertemplate": "genre=%{x}<br>box_office=%{y}<extra></extra>",
         "legendgroup": "Adventure,Sci-Fi",
         "marker": {
          "color": "#FECB52"
         },
         "name": "Adventure,Sci-Fi",
         "offsetgroup": "Adventure,Sci-Fi",
         "orientation": "v",
         "scalegroup": "True",
         "showlegend": true,
         "type": "violin",
         "x": [
          "Adventure,Sci-Fi"
         ],
         "x0": " ",
         "xaxis": "x",
         "y": [
          "65889846"
         ],
         "y0": " ",
         "yaxis": "y"
        },
        {
         "alignmentgroup": "True",
         "box": {
          "visible": false
         },
         "hovertemplate": "genre=%{x}<br>box_office=%{y}<extra></extra>",
         "legendgroup": "Crime,Thriller",
         "marker": {
          "color": "#636efa"
         },
         "name": "Crime,Thriller",
         "offsetgroup": "Crime,Thriller",
         "orientation": "v",
         "scalegroup": "True",
         "showlegend": true,
         "type": "violin",
         "x": [
          "Crime,Thriller",
          "Crime,Thriller",
          "Crime,Thriller"
         ],
         "x0": " ",
         "xaxis": "x",
         "y": [
          "2913644",
          "31207",
          "60611975"
         ],
         "y0": " ",
         "yaxis": "y"
        },
        {
         "alignmentgroup": "True",
         "box": {
          "visible": false
         },
         "hovertemplate": "genre=%{x}<br>box_office=%{y}<extra></extra>",
         "legendgroup": "Drama,Thriller,War",
         "marker": {
          "color": "#EF553B"
         },
         "name": "Drama,Thriller,War",
         "offsetgroup": "Drama,Thriller,War",
         "orientation": "v",
         "scalegroup": "True",
         "showlegend": true,
         "type": "violin",
         "x": [
          "Drama,Thriller,War"
         ],
         "x0": " ",
         "xaxis": "x",
         "y": [
          0
         ],
         "y0": " ",
         "yaxis": "y"
        },
        {
         "alignmentgroup": "True",
         "box": {
          "visible": false
         },
         "hovertemplate": "genre=%{x}<br>box_office=%{y}<extra></extra>",
         "legendgroup": "Drama,Mystery",
         "marker": {
          "color": "#00cc96"
         },
         "name": "Drama,Mystery",
         "offsetgroup": "Drama,Mystery",
         "orientation": "v",
         "scalegroup": "True",
         "showlegend": true,
         "type": "violin",
         "x": [
          "Drama,Mystery",
          "Drama,Mystery",
          "Drama,Mystery"
         ],
         "x0": " ",
         "xaxis": "x",
         "y": [
          "1645133",
          "6788659",
          "24427162"
         ],
         "y0": " ",
         "yaxis": "y"
        },
        {
         "alignmentgroup": "True",
         "box": {
          "visible": false
         },
         "hovertemplate": "genre=%{x}<br>box_office=%{y}<extra></extra>",
         "legendgroup": "Crime,Mystery,Thriller",
         "marker": {
          "color": "#ab63fa"
         },
         "name": "Crime,Mystery,Thriller",
         "offsetgroup": "Crime,Mystery,Thriller",
         "orientation": "v",
         "scalegroup": "True",
         "showlegend": true,
         "type": "violin",
         "x": [
          "Crime,Mystery,Thriller"
         ],
         "x0": " ",
         "xaxis": "x",
         "y": [
          "35566"
         ],
         "y0": " ",
         "yaxis": "y"
        },
        {
         "alignmentgroup": "True",
         "box": {
          "visible": false
         },
         "hovertemplate": "genre=%{x}<br>box_office=%{y}<extra></extra>",
         "legendgroup": "Adventure,Biography,Drama",
         "marker": {
          "color": "#FFA15A"
         },
         "name": "Adventure,Biography,Drama",
         "offsetgroup": "Adventure,Biography,Drama",
         "orientation": "v",
         "scalegroup": "True",
         "showlegend": true,
         "type": "violin",
         "x": [
          "Adventure,Biography,Drama",
          "Adventure,Biography,Drama",
          "Adventure,Biography,Drama"
         ],
         "x0": " ",
         "xaxis": "x",
         "y": [
          "45720631",
          "56675895",
          "14480"
         ],
         "y0": " ",
         "yaxis": "y"
        },
        {
         "alignmentgroup": "True",
         "box": {
          "visible": false
         },
         "hovertemplate": "genre=%{x}<br>box_office=%{y}<extra></extra>",
         "legendgroup": "Action,Adventure,Mystery",
         "marker": {
          "color": "#19d3f3"
         },
         "name": "Action,Adventure,Mystery",
         "offsetgroup": "Action,Adventure,Mystery",
         "orientation": "v",
         "scalegroup": "True",
         "showlegend": true,
         "type": "violin",
         "x": [
          "Action,Adventure,Mystery"
         ],
         "x0": " ",
         "xaxis": "x",
         "y": [
          "142319"
         ],
         "y0": " ",
         "yaxis": "y"
        },
        {
         "alignmentgroup": "True",
         "box": {
          "visible": false
         },
         "hovertemplate": "genre=%{x}<br>box_office=%{y}<extra></extra>",
         "legendgroup": "Mystery,Romance,Thriller",
         "marker": {
          "color": "#FF6692"
         },
         "name": "Mystery,Romance,Thriller",
         "offsetgroup": "Mystery,Romance,Thriller",
         "orientation": "v",
         "scalegroup": "True",
         "showlegend": true,
         "type": "violin",
         "x": [
          "Mystery,Romance,Thriller"
         ],
         "x0": " ",
         "xaxis": "x",
         "y": [
          "7798146"
         ],
         "y0": " ",
         "yaxis": "y"
        },
        {
         "alignmentgroup": "True",
         "box": {
          "visible": false
         },
         "hovertemplate": "genre=%{x}<br>box_office=%{y}<extra></extra>",
         "legendgroup": "Comedy,Romance",
         "marker": {
          "color": "#B6E880"
         },
         "name": "Comedy,Romance",
         "offsetgroup": "Comedy,Romance",
         "orientation": "v",
         "scalegroup": "True",
         "showlegend": true,
         "type": "violin",
         "x": [
          "Comedy,Romance",
          "Comedy,Romance"
         ],
         "x0": " ",
         "xaxis": "x",
         "y": [
          "174122191",
          "11477"
         ],
         "y0": " ",
         "yaxis": "y"
        },
        {
         "alignmentgroup": "True",
         "box": {
          "visible": false
         },
         "hovertemplate": "genre=%{x}<br>box_office=%{y}<extra></extra>",
         "legendgroup": "Crime,Sci-Fi",
         "marker": {
          "color": "#FF97FF"
         },
         "name": "Crime,Sci-Fi",
         "offsetgroup": "Crime,Sci-Fi",
         "orientation": "v",
         "scalegroup": "True",
         "showlegend": true,
         "type": "violin",
         "x": [
          "Crime,Sci-Fi"
         ],
         "x0": " ",
         "xaxis": "x",
         "y": [
          "26960374"
         ],
         "y0": " ",
         "yaxis": "y"
        },
        {
         "alignmentgroup": "True",
         "box": {
          "visible": false
         },
         "hovertemplate": "genre=%{x}<br>box_office=%{y}<extra></extra>",
         "legendgroup": "Crime,Drama,Film-Noir",
         "marker": {
          "color": "#FECB52"
         },
         "name": "Crime,Drama,Film-Noir",
         "offsetgroup": "Crime,Drama,Film-Noir",
         "orientation": "v",
         "scalegroup": "True",
         "showlegend": true,
         "type": "violin",
         "x": [
          "Crime,Drama,Film-Noir"
         ],
         "x0": " ",
         "xaxis": "x",
         "y": [
          "14651"
         ],
         "y0": " ",
         "yaxis": "y"
        },
        {
         "alignmentgroup": "True",
         "box": {
          "visible": false
         },
         "hovertemplate": "genre=%{x}<br>box_office=%{y}<extra></extra>",
         "legendgroup": "Comedy,Crime,Drama",
         "marker": {
          "color": "#636efa"
         },
         "name": "Comedy,Crime,Drama",
         "offsetgroup": "Comedy,Crime,Drama",
         "orientation": "v",
         "scalegroup": "True",
         "showlegend": true,
         "type": "violin",
         "x": [
          "Comedy,Crime,Drama",
          "Comedy,Crime,Drama"
         ],
         "x0": " ",
         "xaxis": "x",
         "y": [
          "156000000",
          "162861289"
         ],
         "y0": " ",
         "yaxis": "y"
        },
        {
         "alignmentgroup": "True",
         "box": {
          "visible": false
         },
         "hovertemplate": "genre=%{x}<br>box_office=%{y}<extra></extra>",
         "legendgroup": "Drama,Sci-Fi",
         "marker": {
          "color": "#EF553B"
         },
         "name": "Drama,Sci-Fi",
         "offsetgroup": "Drama,Sci-Fi",
         "orientation": "v",
         "scalegroup": "True",
         "showlegend": true,
         "type": "violin",
         "x": [
          "Drama,Sci-Fi"
         ],
         "x0": " ",
         "xaxis": "x",
         "y": [
          "1349711"
         ],
         "y0": " ",
         "yaxis": "y"
        },
        {
         "alignmentgroup": "True",
         "box": {
          "visible": false
         },
         "hovertemplate": "genre=%{x}<br>box_office=%{y}<extra></extra>",
         "legendgroup": "Action,Thriller",
         "marker": {
          "color": "#00cc96"
         },
         "name": "Action,Thriller",
         "offsetgroup": "Action,Thriller",
         "orientation": "v",
         "scalegroup": "True",
         "showlegend": true,
         "type": "violin",
         "x": [
          "Action,Thriller"
         ],
         "x0": " ",
         "xaxis": "x",
         "y": [
          "141603197"
         ],
         "y0": " ",
         "yaxis": "y"
        },
        {
         "alignmentgroup": "True",
         "box": {
          "visible": false
         },
         "hovertemplate": "genre=%{x}<br>box_office=%{y}<extra></extra>",
         "legendgroup": "Comedy,Crime",
         "marker": {
          "color": "#ab63fa"
         },
         "name": "Comedy,Crime",
         "offsetgroup": "Comedy,Crime",
         "orientation": "v",
         "scalegroup": "True",
         "showlegend": true,
         "type": "violin",
         "x": [
          "Comedy,Crime",
          "Comedy,Crime"
         ],
         "x0": " ",
         "xaxis": "x",
         "y": [
          "83557872",
          "46969409"
         ],
         "y0": " ",
         "yaxis": "y"
        },
        {
         "alignmentgroup": "True",
         "box": {
          "visible": false
         },
         "hovertemplate": "genre=%{x}<br>box_office=%{y}<extra></extra>",
         "legendgroup": "Drama,Family",
         "marker": {
          "color": "#FFA15A"
         },
         "name": "Drama,Family",
         "offsetgroup": "Drama,Family",
         "orientation": "v",
         "scalegroup": "True",
         "showlegend": true,
         "type": "violin",
         "x": [
          "Drama,Family",
          "Drama,Family"
         ],
         "x0": " ",
         "xaxis": "x",
         "y": [
          "21897373",
          0
         ],
         "y0": " ",
         "yaxis": "y"
        },
        {
         "alignmentgroup": "True",
         "box": {
          "visible": false
         },
         "hovertemplate": "genre=%{x}<br>box_office=%{y}<extra></extra>",
         "legendgroup": "Action,Drama,War",
         "marker": {
          "color": "#19d3f3"
         },
         "name": "Action,Drama,War",
         "offsetgroup": "Action,Drama,War",
         "orientation": "v",
         "scalegroup": "True",
         "showlegend": true,
         "type": "violin",
         "x": [
          "Action,Drama,War",
          "Action,Drama,War"
         ],
         "x0": " ",
         "xaxis": "x",
         "y": [
          "384479940",
          "4164283"
         ],
         "y0": " ",
         "yaxis": "y"
        },
        {
         "alignmentgroup": "True",
         "box": {
          "visible": false
         },
         "hovertemplate": "genre=%{x}<br>box_office=%{y}<extra></extra>",
         "legendgroup": "Action,Biography,Drama",
         "marker": {
          "color": "#FF6692"
         },
         "name": "Action,Biography,Drama",
         "offsetgroup": "Action,Biography,Drama",
         "orientation": "v",
         "scalegroup": "True",
         "showlegend": true,
         "type": "violin",
         "x": [
          "Action,Biography,Drama",
          "Action,Biography,Drama",
          "Action,Biography,Drama"
         ],
         "x0": " ",
         "xaxis": "x",
         "y": [
          0,
          "225508210",
          "96983009"
         ],
         "y0": " ",
         "yaxis": "y"
        },
        {
         "alignmentgroup": "True",
         "box": {
          "visible": false
         },
         "hovertemplate": "genre=%{x}<br>box_office=%{y}<extra></extra>",
         "legendgroup": "Comedy,Drama,Family",
         "marker": {
          "color": "#B6E880"
         },
         "name": "Comedy,Drama,Family",
         "offsetgroup": "Comedy,Drama,Family",
         "orientation": "v",
         "scalegroup": "True",
         "showlegend": true,
         "type": "violin",
         "x": [
          "Comedy,Drama,Family"
         ],
         "x0": " ",
         "xaxis": "x",
         "y": [
          "41960"
         ],
         "y0": " ",
         "yaxis": "y"
        },
        {
         "alignmentgroup": "True",
         "box": {
          "visible": false
         },
         "hovertemplate": "genre=%{x}<br>box_office=%{y}<extra></extra>",
         "legendgroup": "Comedy,Music,Romance",
         "marker": {
          "color": "#FF97FF"
         },
         "name": "Comedy,Music,Romance",
         "offsetgroup": "Comedy,Music,Romance",
         "orientation": "v",
         "scalegroup": "True",
         "showlegend": true,
         "type": "violin",
         "x": [
          "Comedy,Music,Romance"
         ],
         "x0": " ",
         "xaxis": "x",
         "y": [
          "195088"
         ],
         "y0": " ",
         "yaxis": "y"
        },
        {
         "alignmentgroup": "True",
         "box": {
          "visible": false
         },
         "hovertemplate": "genre=%{x}<br>box_office=%{y}<extra></extra>",
         "legendgroup": "Biography,Comedy,Crime",
         "marker": {
          "color": "#FECB52"
         },
         "name": "Biography,Comedy,Crime",
         "offsetgroup": "Biography,Comedy,Crime",
         "orientation": "v",
         "scalegroup": "True",
         "showlegend": true,
         "type": "violin",
         "x": [
          "Biography,Comedy,Crime"
         ],
         "x0": " ",
         "xaxis": "x",
         "y": [
          "406878233"
         ],
         "y0": " ",
         "yaxis": "y"
        },
        {
         "alignmentgroup": "True",
         "box": {
          "visible": false
         },
         "hovertemplate": "genre=%{x}<br>box_office=%{y}<extra></extra>",
         "legendgroup": "Drama,Fantasy,War",
         "marker": {
          "color": "#636efa"
         },
         "name": "Drama,Fantasy,War",
         "offsetgroup": "Drama,Fantasy,War",
         "orientation": "v",
         "scalegroup": "True",
         "showlegend": true,
         "type": "violin",
         "x": [
          "Drama,Fantasy,War"
         ],
         "x0": " ",
         "xaxis": "x",
         "y": [
          "83862032"
         ],
         "y0": " ",
         "yaxis": "y"
        },
        {
         "alignmentgroup": "True",
         "box": {
          "visible": false
         },
         "hovertemplate": "genre=%{x}<br>box_office=%{y}<extra></extra>",
         "legendgroup": "Biography,Drama",
         "marker": {
          "color": "#EF553B"
         },
         "name": "Biography,Drama",
         "offsetgroup": "Biography,Drama",
         "orientation": "v",
         "scalegroup": "True",
         "showlegend": true,
         "type": "violin",
         "x": [
          "Biography,Drama",
          "Biography,Drama"
         ],
         "x0": " ",
         "xaxis": "x",
         "y": [
          "316791257",
          "26023860"
         ],
         "y0": " ",
         "yaxis": "y"
        },
        {
         "alignmentgroup": "True",
         "box": {
          "visible": false
         },
         "hovertemplate": "genre=%{x}<br>box_office=%{y}<extra></extra>",
         "legendgroup": "Action,Drama,Thriller",
         "marker": {
          "color": "#00cc96"
         },
         "name": "Action,Drama,Thriller",
         "offsetgroup": "Action,Drama,Thriller",
         "orientation": "v",
         "scalegroup": "True",
         "showlegend": true,
         "type": "violin",
         "x": [
          "Action,Drama,Thriller"
         ],
         "x0": " ",
         "xaxis": "x",
         "y": [
          "46808"
         ],
         "y0": " ",
         "yaxis": "y"
        },
        {
         "alignmentgroup": "True",
         "box": {
          "visible": false
         },
         "hovertemplate": "genre=%{x}<br>box_office=%{y}<extra></extra>",
         "legendgroup": "Adventure,Drama,Western",
         "marker": {
          "color": "#ab63fa"
         },
         "name": "Adventure,Drama,Western",
         "offsetgroup": "Adventure,Drama,Western",
         "orientation": "v",
         "scalegroup": "True",
         "showlegend": true,
         "type": "violin",
         "x": [
          "Adventure,Drama,Western",
          "Adventure,Drama,Western"
         ],
         "x0": " ",
         "xaxis": "x",
         "y": [
          "5014000",
          "424208848"
         ],
         "y0": " ",
         "yaxis": "y"
        },
        {
         "alignmentgroup": "True",
         "box": {
          "visible": false
         },
         "hovertemplate": "genre=%{x}<br>box_office=%{y}<extra></extra>",
         "legendgroup": "Adventure,Comedy,Fantasy",
         "marker": {
          "color": "#FFA15A"
         },
         "name": "Adventure,Comedy,Fantasy",
         "offsetgroup": "Adventure,Comedy,Fantasy",
         "orientation": "v",
         "scalegroup": "True",
         "showlegend": true,
         "type": "violin",
         "x": [
          "Adventure,Comedy,Fantasy"
         ],
         "x0": " ",
         "xaxis": "x",
         "y": [
          "1940906"
         ],
         "y0": " ",
         "yaxis": "y"
        },
        {
         "alignmentgroup": "True",
         "box": {
          "visible": false
         },
         "hovertemplate": "genre=%{x}<br>box_office=%{y}<extra></extra>",
         "legendgroup": "Adventure,Drama,History",
         "marker": {
          "color": "#19d3f3"
         },
         "name": "Adventure,Drama,History",
         "offsetgroup": "Adventure,Drama,History",
         "orientation": "v",
         "scalegroup": "True",
         "showlegend": true,
         "type": "violin",
         "x": [
          "Adventure,Drama,History"
         ],
         "x0": " ",
         "xaxis": "x",
         "y": [
          "228178"
         ],
         "y0": " ",
         "yaxis": "y"
        },
        {
         "alignmentgroup": "True",
         "box": {
          "visible": false
         },
         "hovertemplate": "genre=%{x}<br>box_office=%{y}<extra></extra>",
         "legendgroup": "Horror,Mystery,Sci-Fi",
         "marker": {
          "color": "#FF6692"
         },
         "name": "Horror,Mystery,Sci-Fi",
         "offsetgroup": "Horror,Mystery,Sci-Fi",
         "orientation": "v",
         "scalegroup": "True",
         "showlegend": true,
         "type": "violin",
         "x": [
          "Horror,Mystery,Sci-Fi"
         ],
         "x0": " ",
         "xaxis": "x",
         "y": [
          "19632715"
         ],
         "y0": " ",
         "yaxis": "y"
        },
        {
         "alignmentgroup": "True",
         "box": {
          "visible": false
         },
         "hovertemplate": "genre=%{x}<br>box_office=%{y}<extra></extra>",
         "legendgroup": "Biography,Drama,Sport",
         "marker": {
          "color": "#B6E880"
         },
         "name": "Biography,Drama,Sport",
         "offsetgroup": "Biography,Drama,Sport",
         "orientation": "v",
         "scalegroup": "True",
         "showlegend": true,
         "type": "violin",
         "x": [
          "Biography,Drama,Sport"
         ],
         "x0": " ",
         "xaxis": "x",
         "y": [
          "23402427"
         ],
         "y0": " ",
         "yaxis": "y"
        },
        {
         "alignmentgroup": "True",
         "box": {
          "visible": false
         },
         "hovertemplate": "genre=%{x}<br>box_office=%{y}<extra></extra>",
         "legendgroup": "Action,Drama,Sci-Fi",
         "marker": {
          "color": "#FF97FF"
         },
         "name": "Action,Drama,Sci-Fi",
         "offsetgroup": "Action,Drama,Sci-Fi",
         "orientation": "v",
         "scalegroup": "True",
         "showlegend": true,
         "type": "violin",
         "x": [
          "Action,Drama,Sci-Fi",
          "Action,Drama,Sci-Fi",
          "Action,Drama,Sci-Fi"
         ],
         "x0": " ",
         "xaxis": "x",
         "y": [
          "134686457",
          "41722424",
          "619179950"
         ],
         "y0": " ",
         "yaxis": "y"
        },
        {
         "alignmentgroup": "True",
         "box": {
          "visible": false
         },
         "hovertemplate": "genre=%{x}<br>box_office=%{y}<extra></extra>",
         "legendgroup": "Action,Comedy,Crime",
         "marker": {
          "color": "#FECB52"
         },
         "name": "Action,Comedy,Crime",
         "offsetgroup": "Action,Comedy,Crime",
         "orientation": "v",
         "scalegroup": "True",
         "showlegend": true,
         "type": "violin",
         "x": [
          "Action,Comedy,Crime"
         ],
         "x0": " ",
         "xaxis": "x",
         "y": [
          "3753929"
         ],
         "y0": " ",
         "yaxis": "y"
        },
        {
         "alignmentgroup": "True",
         "box": {
          "visible": false
         },
         "hovertemplate": "genre=%{x}<br>box_office=%{y}<extra></extra>",
         "legendgroup": "Drama,Mystery,Romance",
         "marker": {
          "color": "#636efa"
         },
         "name": "Drama,Mystery,Romance",
         "offsetgroup": "Drama,Mystery,Romance",
         "orientation": "v",
         "scalegroup": "True",
         "showlegend": true,
         "type": "violin",
         "x": [
          "Drama,Mystery,Romance"
         ],
         "x0": " ",
         "xaxis": "x",
         "y": [
          0
         ],
         "y0": " ",
         "yaxis": "y"
        },
        {
         "alignmentgroup": "True",
         "box": {
          "visible": false
         },
         "hovertemplate": "genre=%{x}<br>box_office=%{y}<extra></extra>",
         "legendgroup": "Action,Drama,Sport",
         "marker": {
          "color": "#EF553B"
         },
         "name": "Action,Drama,Sport",
         "offsetgroup": "Action,Drama,Sport",
         "orientation": "v",
         "scalegroup": "True",
         "showlegend": true,
         "type": "violin",
         "x": [
          "Action,Drama,Sport"
         ],
         "x0": " ",
         "xaxis": "x",
         "y": [
          "23308615"
         ],
         "y0": " ",
         "yaxis": "y"
        },
        {
         "alignmentgroup": "True",
         "box": {
          "visible": false
         },
         "hovertemplate": "genre=%{x}<br>box_office=%{y}<extra></extra>",
         "legendgroup": "Animation,Comedy,Family",
         "marker": {
          "color": "#00cc96"
         },
         "name": "Animation,Comedy,Family",
         "offsetgroup": "Animation,Comedy,Family",
         "orientation": "v",
         "scalegroup": "True",
         "showlegend": true,
         "type": "violin",
         "x": [
          "Animation,Comedy,Family"
         ],
         "x0": " ",
         "xaxis": "x",
         "y": [
          0
         ],
         "y0": " ",
         "yaxis": "y"
        },
        {
         "alignmentgroup": "True",
         "box": {
          "visible": false
         },
         "hovertemplate": "genre=%{x}<br>box_office=%{y}<extra></extra>",
         "legendgroup": "Drama,Sport",
         "marker": {
          "color": "#ab63fa"
         },
         "name": "Drama,Sport",
         "offsetgroup": "Drama,Sport",
         "orientation": "v",
         "scalegroup": "True",
         "showlegend": true,
         "type": "violin",
         "x": [
          "Drama,Sport",
          "Drama,Sport"
         ],
         "x0": " ",
         "xaxis": "x",
         "y": [
          "216763646",
          "117250402"
         ],
         "y0": " ",
         "yaxis": "y"
        },
        {
         "alignmentgroup": "True",
         "box": {
          "visible": false
         },
         "hovertemplate": "genre=%{x}<br>box_office=%{y}<extra></extra>",
         "legendgroup": "Drama,Family,Sport",
         "marker": {
          "color": "#FFA15A"
         },
         "name": "Drama,Family,Sport",
         "offsetgroup": "Drama,Family,Sport",
         "orientation": "v",
         "scalegroup": "True",
         "showlegend": true,
         "type": "violin",
         "x": [
          "Drama,Family,Sport"
         ],
         "x0": " ",
         "xaxis": "x",
         "y": [
          0
         ],
         "y0": " ",
         "yaxis": "y"
        },
        {
         "alignmentgroup": "True",
         "box": {
          "visible": false
         },
         "hovertemplate": "genre=%{x}<br>box_office=%{y}<extra></extra>",
         "legendgroup": "Adventure,Comedy,Drama",
         "marker": {
          "color": "#19d3f3"
         },
         "name": "Adventure,Comedy,Drama",
         "offsetgroup": "Adventure,Comedy,Drama",
         "orientation": "v",
         "scalegroup": "True",
         "showlegend": true,
         "type": "violin",
         "x": [
          "Adventure,Comedy,Drama"
         ],
         "x0": " ",
         "xaxis": "x",
         "y": [
          "29328"
         ],
         "y0": " ",
         "yaxis": "y"
        },
        {
         "alignmentgroup": "True",
         "box": {
          "visible": false
         },
         "hovertemplate": "genre=%{x}<br>box_office=%{y}<extra></extra>",
         "legendgroup": "Adventure,Family,Fantasy",
         "marker": {
          "color": "#FF6692"
         },
         "name": "Adventure,Family,Fantasy",
         "offsetgroup": "Adventure,Family,Fantasy",
         "orientation": "v",
         "scalegroup": "True",
         "showlegend": true,
         "type": "violin",
         "x": [
          "Adventure,Family,Fantasy",
          "Adventure,Family,Fantasy"
         ],
         "x0": " ",
         "xaxis": "x",
         "y": [
          "1342359942",
          "25637669"
         ],
         "y0": " ",
         "yaxis": "y"
        },
        {
         "alignmentgroup": "True",
         "box": {
          "visible": false
         },
         "hovertemplate": "genre=%{x}<br>box_office=%{y}<extra></extra>",
         "legendgroup": "Adventure,Drama",
         "marker": {
          "color": "#B6E880"
         },
         "name": "Adventure,Drama",
         "offsetgroup": "Adventure,Drama",
         "orientation": "v",
         "scalegroup": "True",
         "showlegend": true,
         "type": "violin",
         "x": [
          "Adventure,Drama",
          "Adventure,Drama"
         ],
         "x0": " ",
         "xaxis": "x",
         "y": [
          "74437720",
          "52287414"
         ],
         "y0": " ",
         "yaxis": "y"
        },
        {
         "alignmentgroup": "True",
         "box": {
          "visible": false
         },
         "hovertemplate": "genre=%{x}<br>box_office=%{y}<extra></extra>",
         "legendgroup": "Adventure,Comedy,Crime",
         "marker": {
          "color": "#FF97FF"
         },
         "name": "Adventure,Comedy,Crime",
         "offsetgroup": "Adventure,Comedy,Crime",
         "orientation": "v",
         "scalegroup": "True",
         "showlegend": true,
         "type": "violin",
         "x": [
          "Adventure,Comedy,Crime"
         ],
         "x0": " ",
         "xaxis": "x",
         "y": [
          "173082189"
         ],
         "y0": " ",
         "yaxis": "y"
        },
        {
         "alignmentgroup": "True",
         "box": {
          "visible": false
         },
         "hovertemplate": "genre=%{x}<br>box_office=%{y}<extra></extra>",
         "legendgroup": "Action,Adventure,Comedy",
         "marker": {
          "color": "#FECB52"
         },
         "name": "Action,Adventure,Comedy",
         "offsetgroup": "Action,Adventure,Comedy",
         "orientation": "v",
         "scalegroup": "True",
         "showlegend": true,
         "type": "violin",
         "x": [
          "Action,Adventure,Comedy"
         ],
         "x0": " ",
         "xaxis": "x",
         "y": [
          "750000 (estimated)"
         ],
         "y0": " ",
         "yaxis": "y"
        },
        {
         "alignmentgroup": "True",
         "box": {
          "visible": false
         },
         "hovertemplate": "genre=%{x}<br>box_office=%{y}<extra></extra>",
         "legendgroup": "Film-Noir,Mystery,Thriller",
         "marker": {
          "color": "#636efa"
         },
         "name": "Film-Noir,Mystery,Thriller",
         "offsetgroup": "Film-Noir,Mystery,Thriller",
         "orientation": "v",
         "scalegroup": "True",
         "showlegend": true,
         "type": "violin",
         "x": [
          "Film-Noir,Mystery,Thriller"
         ],
         "x0": " ",
         "xaxis": "x",
         "y": [
          "1226507"
         ],
         "y0": " ",
         "yaxis": "y"
        },
        {
         "alignmentgroup": "True",
         "box": {
          "visible": false
         },
         "hovertemplate": "genre=%{x}<br>box_office=%{y}<extra></extra>",
         "legendgroup": "Adventure,Drama,Thriller",
         "marker": {
          "color": "#EF553B"
         },
         "name": "Adventure,Drama,Thriller",
         "offsetgroup": "Adventure,Drama,Thriller",
         "orientation": "v",
         "scalegroup": "True",
         "showlegend": true,
         "type": "violin",
         "x": [
          "Adventure,Drama,Thriller"
         ],
         "x0": " ",
         "xaxis": "x",
         "y": [
          "1098"
         ],
         "y0": " ",
         "yaxis": "y"
        },
        {
         "alignmentgroup": "True",
         "box": {
          "visible": false
         },
         "hovertemplate": "genre=%{x}<br>box_office=%{y}<extra></extra>",
         "legendgroup": "Action,Comedy,Romance",
         "marker": {
          "color": "#00cc96"
         },
         "name": "Action,Comedy,Romance",
         "offsetgroup": "Action,Comedy,Romance",
         "orientation": "v",
         "scalegroup": "True",
         "showlegend": true,
         "type": "violin",
         "x": [
          "Action,Comedy,Romance"
         ],
         "x0": " ",
         "xaxis": "x",
         "y": [
          0
         ],
         "y0": " ",
         "yaxis": "y"
        },
        {
         "alignmentgroup": "True",
         "box": {
          "visible": false
         },
         "hovertemplate": "genre=%{x}<br>box_office=%{y}<extra></extra>",
         "legendgroup": "Comedy,Drama,Thriller",
         "marker": {
          "color": "#ab63fa"
         },
         "name": "Comedy,Drama,Thriller",
         "offsetgroup": "Comedy,Drama,Thriller",
         "orientation": "v",
         "scalegroup": "True",
         "showlegend": true,
         "type": "violin",
         "x": [
          "Comedy,Drama,Thriller"
         ],
         "x0": " ",
         "xaxis": "x",
         "y": [
          0
         ],
         "y0": " ",
         "yaxis": "y"
        },
        {
         "alignmentgroup": "True",
         "box": {
          "visible": false
         },
         "hovertemplate": "genre=%{x}<br>box_office=%{y}<extra></extra>",
         "legendgroup": "Drama,Fantasy",
         "marker": {
          "color": "#FFA15A"
         },
         "name": "Drama,Fantasy",
         "offsetgroup": "Drama,Fantasy",
         "orientation": "v",
         "scalegroup": "True",
         "showlegend": true,
         "type": "violin",
         "x": [
          "Drama,Fantasy"
         ],
         "x0": " ",
         "xaxis": "x",
         "y": [
          "311212"
         ],
         "y0": " ",
         "yaxis": "y"
        },
        {
         "alignmentgroup": "True",
         "box": {
          "visible": false
         },
         "hovertemplate": "genre=%{x}<br>box_office=%{y}<extra></extra>",
         "legendgroup": "Animation,Comedy,Drama",
         "marker": {
          "color": "#19d3f3"
         },
         "name": "Animation,Comedy,Drama",
         "offsetgroup": "Animation,Comedy,Drama",
         "orientation": "v",
         "scalegroup": "True",
         "showlegend": true,
         "type": "violin",
         "x": [
          "Animation,Comedy,Drama"
         ],
         "x0": " ",
         "xaxis": "x",
         "y": [
          "1740429"
         ],
         "y0": " ",
         "yaxis": "y"
        },
        {
         "alignmentgroup": "True",
         "box": {
          "visible": false
         },
         "hovertemplate": "genre=%{x}<br>box_office=%{y}<extra></extra>",
         "legendgroup": "Adventure,Thriller",
         "marker": {
          "color": "#FF6692"
         },
         "name": "Adventure,Thriller",
         "offsetgroup": "Adventure,Thriller",
         "orientation": "v",
         "scalegroup": "True",
         "showlegend": true,
         "type": "violin",
         "x": [
          "Adventure,Thriller"
         ],
         "x0": " ",
         "xaxis": "x",
         "y": [
          "476512065"
         ],
         "y0": " ",
         "yaxis": "y"
        },
        {
         "alignmentgroup": "True",
         "box": {
          "visible": false
         },
         "hovertemplate": "genre=%{x}<br>box_office=%{y}<extra></extra>",
         "legendgroup": "Comedy,Drama,Fantasy",
         "marker": {
          "color": "#B6E880"
         },
         "name": "Comedy,Drama,Fantasy",
         "offsetgroup": "Comedy,Drama,Fantasy",
         "orientation": "v",
         "scalegroup": "True",
         "showlegend": true,
         "type": "violin",
         "x": [
          "Comedy,Drama,Fantasy"
         ],
         "x0": " ",
         "xaxis": "x",
         "y": [
          "71108591"
         ],
         "y0": " ",
         "yaxis": "y"
        },
        {
         "alignmentgroup": "True",
         "box": {
          "visible": false
         },
         "hovertemplate": "genre=%{x}<br>box_office=%{y}<extra></extra>",
         "legendgroup": "Horror",
         "marker": {
          "color": "#FF97FF"
         },
         "name": "Horror",
         "offsetgroup": "Horror",
         "orientation": "v",
         "scalegroup": "True",
         "showlegend": true,
         "type": "violin",
         "x": [
          "Horror"
         ],
         "x0": " ",
         "xaxis": "x",
         "y": [
          "441306145"
         ],
         "y0": " ",
         "yaxis": "y"
        },
        {
         "alignmentgroup": "True",
         "box": {
          "visible": false
         },
         "hovertemplate": "genre=%{x}<br>box_office=%{y}<extra></extra>",
         "legendgroup": "Comedy,Romance,War",
         "marker": {
          "color": "#FECB52"
         },
         "name": "Comedy,Romance,War",
         "offsetgroup": "Comedy,Romance,War",
         "orientation": "v",
         "scalegroup": "True",
         "showlegend": true,
         "type": "violin",
         "x": [
          "Comedy,Romance,War"
         ],
         "x0": " ",
         "xaxis": "x",
         "y": [
          0
         ],
         "y0": " ",
         "yaxis": "y"
        },
        {
         "alignmentgroup": "True",
         "box": {
          "visible": false
         },
         "hovertemplate": "genre=%{x}<br>box_office=%{y}<extra></extra>",
         "legendgroup": "Biography,Drama,Family",
         "marker": {
          "color": "#636efa"
         },
         "name": "Biography,Drama,Family",
         "offsetgroup": "Biography,Drama,Family",
         "orientation": "v",
         "scalegroup": "True",
         "showlegend": true,
         "type": "violin",
         "x": [
          "Biography,Drama,Family",
          "Biography,Drama,Family"
         ],
         "x0": " ",
         "xaxis": "x",
         "y": [
          0,
          "159428329"
         ],
         "y0": " ",
         "yaxis": "y"
        },
        {
         "alignmentgroup": "True",
         "box": {
          "visible": false
         },
         "hovertemplate": "genre=%{x}<br>box_office=%{y}<extra></extra>",
         "legendgroup": "Drama,Film-Noir,Mystery",
         "marker": {
          "color": "#EF553B"
         },
         "name": "Drama,Film-Noir,Mystery",
         "offsetgroup": "Drama,Film-Noir,Mystery",
         "orientation": "v",
         "scalegroup": "True",
         "showlegend": true,
         "type": "violin",
         "x": [
          "Drama,Film-Noir,Mystery"
         ],
         "x0": " ",
         "xaxis": "x",
         "y": [
          "72275"
         ],
         "y0": " ",
         "yaxis": "y"
        },
        {
         "alignmentgroup": "True",
         "box": {
          "visible": false
         },
         "hovertemplate": "genre=%{x}<br>box_office=%{y}<extra></extra>",
         "legendgroup": "Drama,Romance,Thriller",
         "marker": {
          "color": "#00cc96"
         },
         "name": "Drama,Romance,Thriller",
         "offsetgroup": "Drama,Romance,Thriller",
         "orientation": "v",
         "scalegroup": "True",
         "showlegend": true,
         "type": "violin",
         "x": [
          "Drama,Romance,Thriller"
         ],
         "x0": " ",
         "xaxis": "x",
         "y": [
          0
         ],
         "y0": " ",
         "yaxis": "y"
        },
        {
         "alignmentgroup": "True",
         "box": {
          "visible": false
         },
         "hovertemplate": "genre=%{x}<br>box_office=%{y}<extra></extra>",
         "legendgroup": "Comedy",
         "marker": {
          "color": "#ab63fa"
         },
         "name": "Comedy",
         "offsetgroup": "Comedy",
         "orientation": "v",
         "scalegroup": "True",
         "showlegend": true,
         "type": "violin",
         "x": [
          "Comedy"
         ],
         "x0": " ",
         "xaxis": "x",
         "y": [
          "20745728"
         ],
         "y0": " ",
         "yaxis": "y"
        }
       ],
       "layout": {
        "legend": {
         "title": {
          "text": "genre"
         },
         "tracegroupgap": 0
        },
        "template": {
         "data": {
          "bar": [
           {
            "error_x": {
             "color": "#2a3f5f"
            },
            "error_y": {
             "color": "#2a3f5f"
            },
            "marker": {
             "line": {
              "color": "#E5ECF6",
              "width": 0.5
             },
             "pattern": {
              "fillmode": "overlay",
              "size": 10,
              "solidity": 0.2
             }
            },
            "type": "bar"
           }
          ],
          "barpolar": [
           {
            "marker": {
             "line": {
              "color": "#E5ECF6",
              "width": 0.5
             },
             "pattern": {
              "fillmode": "overlay",
              "size": 10,
              "solidity": 0.2
             }
            },
            "type": "barpolar"
           }
          ],
          "carpet": [
           {
            "aaxis": {
             "endlinecolor": "#2a3f5f",
             "gridcolor": "white",
             "linecolor": "white",
             "minorgridcolor": "white",
             "startlinecolor": "#2a3f5f"
            },
            "baxis": {
             "endlinecolor": "#2a3f5f",
             "gridcolor": "white",
             "linecolor": "white",
             "minorgridcolor": "white",
             "startlinecolor": "#2a3f5f"
            },
            "type": "carpet"
           }
          ],
          "choropleth": [
           {
            "colorbar": {
             "outlinewidth": 0,
             "ticks": ""
            },
            "type": "choropleth"
           }
          ],
          "contour": [
           {
            "colorbar": {
             "outlinewidth": 0,
             "ticks": ""
            },
            "colorscale": [
             [
              0,
              "#0d0887"
             ],
             [
              0.1111111111111111,
              "#46039f"
             ],
             [
              0.2222222222222222,
              "#7201a8"
             ],
             [
              0.3333333333333333,
              "#9c179e"
             ],
             [
              0.4444444444444444,
              "#bd3786"
             ],
             [
              0.5555555555555556,
              "#d8576b"
             ],
             [
              0.6666666666666666,
              "#ed7953"
             ],
             [
              0.7777777777777778,
              "#fb9f3a"
             ],
             [
              0.8888888888888888,
              "#fdca26"
             ],
             [
              1,
              "#f0f921"
             ]
            ],
            "type": "contour"
           }
          ],
          "contourcarpet": [
           {
            "colorbar": {
             "outlinewidth": 0,
             "ticks": ""
            },
            "type": "contourcarpet"
           }
          ],
          "heatmap": [
           {
            "colorbar": {
             "outlinewidth": 0,
             "ticks": ""
            },
            "colorscale": [
             [
              0,
              "#0d0887"
             ],
             [
              0.1111111111111111,
              "#46039f"
             ],
             [
              0.2222222222222222,
              "#7201a8"
             ],
             [
              0.3333333333333333,
              "#9c179e"
             ],
             [
              0.4444444444444444,
              "#bd3786"
             ],
             [
              0.5555555555555556,
              "#d8576b"
             ],
             [
              0.6666666666666666,
              "#ed7953"
             ],
             [
              0.7777777777777778,
              "#fb9f3a"
             ],
             [
              0.8888888888888888,
              "#fdca26"
             ],
             [
              1,
              "#f0f921"
             ]
            ],
            "type": "heatmap"
           }
          ],
          "heatmapgl": [
           {
            "colorbar": {
             "outlinewidth": 0,
             "ticks": ""
            },
            "colorscale": [
             [
              0,
              "#0d0887"
             ],
             [
              0.1111111111111111,
              "#46039f"
             ],
             [
              0.2222222222222222,
              "#7201a8"
             ],
             [
              0.3333333333333333,
              "#9c179e"
             ],
             [
              0.4444444444444444,
              "#bd3786"
             ],
             [
              0.5555555555555556,
              "#d8576b"
             ],
             [
              0.6666666666666666,
              "#ed7953"
             ],
             [
              0.7777777777777778,
              "#fb9f3a"
             ],
             [
              0.8888888888888888,
              "#fdca26"
             ],
             [
              1,
              "#f0f921"
             ]
            ],
            "type": "heatmapgl"
           }
          ],
          "histogram": [
           {
            "marker": {
             "pattern": {
              "fillmode": "overlay",
              "size": 10,
              "solidity": 0.2
             }
            },
            "type": "histogram"
           }
          ],
          "histogram2d": [
           {
            "colorbar": {
             "outlinewidth": 0,
             "ticks": ""
            },
            "colorscale": [
             [
              0,
              "#0d0887"
             ],
             [
              0.1111111111111111,
              "#46039f"
             ],
             [
              0.2222222222222222,
              "#7201a8"
             ],
             [
              0.3333333333333333,
              "#9c179e"
             ],
             [
              0.4444444444444444,
              "#bd3786"
             ],
             [
              0.5555555555555556,
              "#d8576b"
             ],
             [
              0.6666666666666666,
              "#ed7953"
             ],
             [
              0.7777777777777778,
              "#fb9f3a"
             ],
             [
              0.8888888888888888,
              "#fdca26"
             ],
             [
              1,
              "#f0f921"
             ]
            ],
            "type": "histogram2d"
           }
          ],
          "histogram2dcontour": [
           {
            "colorbar": {
             "outlinewidth": 0,
             "ticks": ""
            },
            "colorscale": [
             [
              0,
              "#0d0887"
             ],
             [
              0.1111111111111111,
              "#46039f"
             ],
             [
              0.2222222222222222,
              "#7201a8"
             ],
             [
              0.3333333333333333,
              "#9c179e"
             ],
             [
              0.4444444444444444,
              "#bd3786"
             ],
             [
              0.5555555555555556,
              "#d8576b"
             ],
             [
              0.6666666666666666,
              "#ed7953"
             ],
             [
              0.7777777777777778,
              "#fb9f3a"
             ],
             [
              0.8888888888888888,
              "#fdca26"
             ],
             [
              1,
              "#f0f921"
             ]
            ],
            "type": "histogram2dcontour"
           }
          ],
          "mesh3d": [
           {
            "colorbar": {
             "outlinewidth": 0,
             "ticks": ""
            },
            "type": "mesh3d"
           }
          ],
          "parcoords": [
           {
            "line": {
             "colorbar": {
              "outlinewidth": 0,
              "ticks": ""
             }
            },
            "type": "parcoords"
           }
          ],
          "pie": [
           {
            "automargin": true,
            "type": "pie"
           }
          ],
          "scatter": [
           {
            "fillpattern": {
             "fillmode": "overlay",
             "size": 10,
             "solidity": 0.2
            },
            "type": "scatter"
           }
          ],
          "scatter3d": [
           {
            "line": {
             "colorbar": {
              "outlinewidth": 0,
              "ticks": ""
             }
            },
            "marker": {
             "colorbar": {
              "outlinewidth": 0,
              "ticks": ""
             }
            },
            "type": "scatter3d"
           }
          ],
          "scattercarpet": [
           {
            "marker": {
             "colorbar": {
              "outlinewidth": 0,
              "ticks": ""
             }
            },
            "type": "scattercarpet"
           }
          ],
          "scattergeo": [
           {
            "marker": {
             "colorbar": {
              "outlinewidth": 0,
              "ticks": ""
             }
            },
            "type": "scattergeo"
           }
          ],
          "scattergl": [
           {
            "marker": {
             "colorbar": {
              "outlinewidth": 0,
              "ticks": ""
             }
            },
            "type": "scattergl"
           }
          ],
          "scattermapbox": [
           {
            "marker": {
             "colorbar": {
              "outlinewidth": 0,
              "ticks": ""
             }
            },
            "type": "scattermapbox"
           }
          ],
          "scatterpolar": [
           {
            "marker": {
             "colorbar": {
              "outlinewidth": 0,
              "ticks": ""
             }
            },
            "type": "scatterpolar"
           }
          ],
          "scatterpolargl": [
           {
            "marker": {
             "colorbar": {
              "outlinewidth": 0,
              "ticks": ""
             }
            },
            "type": "scatterpolargl"
           }
          ],
          "scatterternary": [
           {
            "marker": {
             "colorbar": {
              "outlinewidth": 0,
              "ticks": ""
             }
            },
            "type": "scatterternary"
           }
          ],
          "surface": [
           {
            "colorbar": {
             "outlinewidth": 0,
             "ticks": ""
            },
            "colorscale": [
             [
              0,
              "#0d0887"
             ],
             [
              0.1111111111111111,
              "#46039f"
             ],
             [
              0.2222222222222222,
              "#7201a8"
             ],
             [
              0.3333333333333333,
              "#9c179e"
             ],
             [
              0.4444444444444444,
              "#bd3786"
             ],
             [
              0.5555555555555556,
              "#d8576b"
             ],
             [
              0.6666666666666666,
              "#ed7953"
             ],
             [
              0.7777777777777778,
              "#fb9f3a"
             ],
             [
              0.8888888888888888,
              "#fdca26"
             ],
             [
              1,
              "#f0f921"
             ]
            ],
            "type": "surface"
           }
          ],
          "table": [
           {
            "cells": {
             "fill": {
              "color": "#EBF0F8"
             },
             "line": {
              "color": "white"
             }
            },
            "header": {
             "fill": {
              "color": "#C8D4E3"
             },
             "line": {
              "color": "white"
             }
            },
            "type": "table"
           }
          ]
         },
         "layout": {
          "annotationdefaults": {
           "arrowcolor": "#2a3f5f",
           "arrowhead": 0,
           "arrowwidth": 1
          },
          "autotypenumbers": "strict",
          "coloraxis": {
           "colorbar": {
            "outlinewidth": 0,
            "ticks": ""
           }
          },
          "colorscale": {
           "diverging": [
            [
             0,
             "#8e0152"
            ],
            [
             0.1,
             "#c51b7d"
            ],
            [
             0.2,
             "#de77ae"
            ],
            [
             0.3,
             "#f1b6da"
            ],
            [
             0.4,
             "#fde0ef"
            ],
            [
             0.5,
             "#f7f7f7"
            ],
            [
             0.6,
             "#e6f5d0"
            ],
            [
             0.7,
             "#b8e186"
            ],
            [
             0.8,
             "#7fbc41"
            ],
            [
             0.9,
             "#4d9221"
            ],
            [
             1,
             "#276419"
            ]
           ],
           "sequential": [
            [
             0,
             "#0d0887"
            ],
            [
             0.1111111111111111,
             "#46039f"
            ],
            [
             0.2222222222222222,
             "#7201a8"
            ],
            [
             0.3333333333333333,
             "#9c179e"
            ],
            [
             0.4444444444444444,
             "#bd3786"
            ],
            [
             0.5555555555555556,
             "#d8576b"
            ],
            [
             0.6666666666666666,
             "#ed7953"
            ],
            [
             0.7777777777777778,
             "#fb9f3a"
            ],
            [
             0.8888888888888888,
             "#fdca26"
            ],
            [
             1,
             "#f0f921"
            ]
           ],
           "sequentialminus": [
            [
             0,
             "#0d0887"
            ],
            [
             0.1111111111111111,
             "#46039f"
            ],
            [
             0.2222222222222222,
             "#7201a8"
            ],
            [
             0.3333333333333333,
             "#9c179e"
            ],
            [
             0.4444444444444444,
             "#bd3786"
            ],
            [
             0.5555555555555556,
             "#d8576b"
            ],
            [
             0.6666666666666666,
             "#ed7953"
            ],
            [
             0.7777777777777778,
             "#fb9f3a"
            ],
            [
             0.8888888888888888,
             "#fdca26"
            ],
            [
             1,
             "#f0f921"
            ]
           ]
          },
          "colorway": [
           "#636efa",
           "#EF553B",
           "#00cc96",
           "#ab63fa",
           "#FFA15A",
           "#19d3f3",
           "#FF6692",
           "#B6E880",
           "#FF97FF",
           "#FECB52"
          ],
          "font": {
           "color": "#2a3f5f"
          },
          "geo": {
           "bgcolor": "white",
           "lakecolor": "white",
           "landcolor": "#E5ECF6",
           "showlakes": true,
           "showland": true,
           "subunitcolor": "white"
          },
          "hoverlabel": {
           "align": "left"
          },
          "hovermode": "closest",
          "mapbox": {
           "style": "light"
          },
          "paper_bgcolor": "white",
          "plot_bgcolor": "#E5ECF6",
          "polar": {
           "angularaxis": {
            "gridcolor": "white",
            "linecolor": "white",
            "ticks": ""
           },
           "bgcolor": "#E5ECF6",
           "radialaxis": {
            "gridcolor": "white",
            "linecolor": "white",
            "ticks": ""
           }
          },
          "scene": {
           "xaxis": {
            "backgroundcolor": "#E5ECF6",
            "gridcolor": "white",
            "gridwidth": 2,
            "linecolor": "white",
            "showbackground": true,
            "ticks": "",
            "zerolinecolor": "white"
           },
           "yaxis": {
            "backgroundcolor": "#E5ECF6",
            "gridcolor": "white",
            "gridwidth": 2,
            "linecolor": "white",
            "showbackground": true,
            "ticks": "",
            "zerolinecolor": "white"
           },
           "zaxis": {
            "backgroundcolor": "#E5ECF6",
            "gridcolor": "white",
            "gridwidth": 2,
            "linecolor": "white",
            "showbackground": true,
            "ticks": "",
            "zerolinecolor": "white"
           }
          },
          "shapedefaults": {
           "line": {
            "color": "#2a3f5f"
           }
          },
          "ternary": {
           "aaxis": {
            "gridcolor": "white",
            "linecolor": "white",
            "ticks": ""
           },
           "baxis": {
            "gridcolor": "white",
            "linecolor": "white",
            "ticks": ""
           },
           "bgcolor": "#E5ECF6",
           "caxis": {
            "gridcolor": "white",
            "linecolor": "white",
            "ticks": ""
           }
          },
          "title": {
           "x": 0.05
          },
          "xaxis": {
           "automargin": true,
           "gridcolor": "white",
           "linecolor": "white",
           "ticks": "",
           "title": {
            "standoff": 15
           },
           "zerolinecolor": "white",
           "zerolinewidth": 2
          },
          "yaxis": {
           "automargin": true,
           "gridcolor": "white",
           "linecolor": "white",
           "ticks": "",
           "title": {
            "standoff": 15
           },
           "zerolinecolor": "white",
           "zerolinewidth": 2
          }
         }
        },
        "title": {
         "text": "Box Office by Genre"
        },
        "violinmode": "overlay",
        "xaxis": {
         "anchor": "y",
         "categoryarray": [
          "Drama",
          "Crime,Drama",
          "Action,Crime,Drama",
          "Biography,Drama,History",
          "Action,Adventure,Drama",
          "Adventure,Western",
          "Drama,Romance",
          "Action,Adventure,Sci-Fi",
          "Action,Adventure,Fantasy",
          "Action,Sci-Fi",
          "Biography,Crime,Drama",
          "Crime,Drama,Mystery",
          "Action,Drama",
          "Drama,Family,Fantasy",
          "Crime,Drama,Thriller",
          "Drama,War",
          "Adventure,Drama,Sci-Fi",
          "Comedy,Drama,Romance",
          "Crime,Drama,Fantasy",
          "Adventure,Comedy,Sci-Fi",
          "Animation,Adventure,Family",
          "Biography,Drama,Music",
          "Horror,Mystery,Thriller",
          "Drama,Thriller",
          "Animation,Adventure,Drama",
          "Drama,Mystery,Sci-Fi",
          "Drama,Music",
          "Drama,Romance,War",
          "Animation,Drama,War",
          "Action,Drama,Mystery",
          "Biography,Comedy,Drama",
          "Western",
          "Mystery,Thriller",
          "Horror,Sci-Fi",
          "Drama,Mystery,War",
          "Drama,Western",
          "Action,Adventure",
          "Drama,Mystery,Thriller",
          "Drama,Film-Noir",
          "Drama,Horror",
          "Comedy,Drama,War",
          "Animation,Action,Adventure",
          "Comedy,War",
          "Adventure,Drama,War",
          "Animation,Adventure,Comedy",
          "Animation,Drama,Fantasy",
          "Comedy,Drama",
          "Comedy,Musical,Romance",
          "Drama,Romance,Sci-Fi",
          "Adventure,Sci-Fi",
          "Crime,Thriller",
          "Drama,Thriller,War",
          "Drama,Mystery",
          "Crime,Mystery,Thriller",
          "Adventure,Biography,Drama",
          "Action,Adventure,Mystery",
          "Mystery,Romance,Thriller",
          "Comedy,Romance",
          "Crime,Sci-Fi",
          "Crime,Drama,Film-Noir",
          "Comedy,Crime,Drama",
          "Drama,Sci-Fi",
          "Action,Thriller",
          "Comedy,Crime",
          "Drama,Family",
          "Action,Drama,War",
          "Action,Biography,Drama",
          "Comedy,Drama,Family",
          "Comedy,Music,Romance",
          "Biography,Comedy,Crime",
          "Drama,Fantasy,War",
          "Biography,Drama",
          "Action,Drama,Thriller",
          "Adventure,Drama,Western",
          "Adventure,Comedy,Fantasy",
          "Adventure,Drama,History",
          "Horror,Mystery,Sci-Fi",
          "Biography,Drama,Sport",
          "Action,Drama,Sci-Fi",
          "Action,Comedy,Crime",
          "Drama,Mystery,Romance",
          "Action,Drama,Sport",
          "Animation,Comedy,Family",
          "Drama,Sport",
          "Drama,Family,Sport",
          "Adventure,Comedy,Drama",
          "Adventure,Family,Fantasy",
          "Adventure,Drama",
          "Adventure,Comedy,Crime",
          "Action,Adventure,Comedy",
          "Film-Noir,Mystery,Thriller",
          "Adventure,Drama,Thriller",
          "Action,Comedy,Romance",
          "Comedy,Drama,Thriller",
          "Drama,Fantasy",
          "Animation,Comedy,Drama",
          "Adventure,Thriller",
          "Comedy,Drama,Fantasy",
          "Horror",
          "Comedy,Romance,War",
          "Biography,Drama,Family",
          "Drama,Film-Noir,Mystery",
          "Drama,Romance,Thriller",
          "Comedy"
         ],
         "categoryorder": "array",
         "domain": [
          0,
          1
         ],
         "title": {
          "text": "genre"
         }
        },
        "yaxis": {
         "anchor": "x",
         "domain": [
          0,
          1
         ],
         "title": {
          "text": "box_office"
         }
        }
       }
      },
      "text/html": [
       "<div>                            <div id=\"042f6088-dab5-495e-98aa-1434966b69dc\" class=\"plotly-graph-div\" style=\"height:525px; width:100%;\"></div>            <script type=\"text/javascript\">                require([\"plotly\"], function(Plotly) {                    window.PLOTLYENV=window.PLOTLYENV || {};                                    if (document.getElementById(\"042f6088-dab5-495e-98aa-1434966b69dc\")) {                    Plotly.newPlot(                        \"042f6088-dab5-495e-98aa-1434966b69dc\",                        [{\"alignmentgroup\":\"True\",\"box\":{\"visible\":false},\"hovertemplate\":\"genre=%{x}<br>box_office=%{y}<extra></extra>\",\"legendgroup\":\"Drama\",\"marker\":{\"color\":\"#636efa\"},\"name\":\"Drama\",\"offsetgroup\":\"Drama\",\"orientation\":\"v\",\"scalegroup\":\"True\",\"showlegend\":true,\"x\":[\"Drama\",\"Drama\",\"Drama\",\"Drama\",\"Drama\",\"Drama\",\"Drama\",\"Drama\",\"Drama\",\"Drama\",\"Drama\",\"Drama\",\"Drama\",\"Drama\",\"Drama\",\"Drama\",\"Drama\",\"Drama\",\"Drama\"],\"x0\":\" \",\"xaxis\":\"x\",\"y\":[\"28884504\",\"101209702\",\"109114817\",\"356296601\",\"7390108\",0,0,\"96302\",\"22926076\",\"436655\",\"151052\",\"76182388\",\"16767475\",\"269958228\",0,\"23690757\",\"135342\",\"800000 (estimated)\",\"216639112\"],\"y0\":\" \",\"yaxis\":\"y\",\"type\":\"violin\"},{\"alignmentgroup\":\"True\",\"box\":{\"visible\":false},\"hovertemplate\":\"genre=%{x}<br>box_office=%{y}<extra></extra>\",\"legendgroup\":\"Crime,Drama\",\"marker\":{\"color\":\"#EF553B\"},\"name\":\"Crime,Drama\",\"offsetgroup\":\"Crime,Drama\",\"orientation\":\"v\",\"scalegroup\":\"True\",\"showlegend\":true,\"x\":[\"Crime,Drama\",\"Crime,Drama\",\"Crime,Drama\",\"Crime,Drama\",\"Crime,Drama\",\"Crime,Drama\",\"Crime,Drama\",\"Crime,Drama\",\"Crime,Drama\",\"Crime,Drama\",\"Crime,Drama\",\"Crime,Drama\",\"Crime,Drama\",\"Crime,Drama\"],\"x0\":\" \",\"xaxis\":\"x\",\"y\":[\"250341816\",\"47961919\",\"955\",\"213928762\",\"30680793\",\"23875127\",\"5473337\",\"65884703\",\"599146\",\"28570902\",\"116112375\",0,\"67\",\"127244\"],\"y0\":\" \",\"yaxis\":\"y\",\"type\":\"violin\"},{\"alignmentgroup\":\"True\",\"box\":{\"visible\":false},\"hovertemplate\":\"genre=%{x}<br>box_office=%{y}<extra></extra>\",\"legendgroup\":\"Action,Crime,Drama\",\"marker\":{\"color\":\"#00cc96\"},\"name\":\"Action,Crime,Drama\",\"offsetgroup\":\"Action,Crime,Drama\",\"orientation\":\"v\",\"scalegroup\":\"True\",\"showlegend\":true,\"x\":[\"Action,Crime,Drama\",\"Action,Crime,Drama\",\"Action,Crime,Drama\",\"Action,Crime,Drama\",\"Action,Crime,Drama\"],\"x0\":\" \",\"xaxis\":\"x\",\"y\":[\"1006234167\",\"19569225\",\"187436818\",\"373672993\",\"180906076\"],\"y0\":\" \",\"yaxis\":\"y\",\"type\":\"violin\"},{\"alignmentgroup\":\"True\",\"box\":{\"visible\":false},\"hovertemplate\":\"genre=%{x}<br>box_office=%{y}<extra></extra>\",\"legendgroup\":\"Biography,Drama,History\",\"marker\":{\"color\":\"#ab63fa\"},\"name\":\"Biography,Drama,History\",\"offsetgroup\":\"Biography,Drama,History\",\"orientation\":\"v\",\"scalegroup\":\"True\",\"showlegend\":true,\"x\":[\"Biography,Drama,History\",\"Biography,Drama,History\",\"Biography,Drama,History\",\"Biography,Drama,History\",\"Biography,Drama,History\",\"Biography,Drama,History\",\"Biography,Drama,History\",\"Biography,Drama,History\",\"Biography,Drama,History\"],\"x0\":\" \",\"xaxis\":\"x\",\"y\":[\"322161245\",\"213216216\",0,\"92181574\",\"187733202\",\"180563636\",0,\"33882243\",\"52767889\"],\"y0\":\" \",\"yaxis\":\"y\",\"type\":\"violin\"},{\"alignmentgroup\":\"True\",\"box\":{\"visible\":false},\"hovertemplate\":\"genre=%{x}<br>box_office=%{y}<extra></extra>\",\"legendgroup\":\"Action,Adventure,Drama\",\"marker\":{\"color\":\"#FFA15A\"},\"name\":\"Action,Adventure,Drama\",\"offsetgroup\":\"Action,Adventure,Drama\",\"orientation\":\"v\",\"scalegroup\":\"True\",\"showlegend\":true,\"x\":[\"Action,Adventure,Drama\",\"Action,Adventure,Drama\",\"Action,Adventure,Drama\",\"Action,Adventure,Drama\",\"Action,Adventure,Drama\"],\"x0\":\" \",\"xaxis\":\"x\",\"y\":[\"1146457748\",\"898204420\",\"947944270\",\"503162313\",\"2799439100\"],\"y0\":\" \",\"yaxis\":\"y\",\"type\":\"violin\"},{\"alignmentgroup\":\"True\",\"box\":{\"visible\":false},\"hovertemplate\":\"genre=%{x}<br>box_office=%{y}<extra></extra>\",\"legendgroup\":\"Adventure,Western\",\"marker\":{\"color\":\"#19d3f3\"},\"name\":\"Adventure,Western\",\"offsetgroup\":\"Adventure,Western\",\"orientation\":\"v\",\"scalegroup\":\"True\",\"showlegend\":true,\"x\":[\"Adventure,Western\"],\"x0\":\" \",\"xaxis\":\"x\",\"y\":[\"25253887\"],\"y0\":\" \",\"yaxis\":\"y\",\"type\":\"violin\"},{\"alignmentgroup\":\"True\",\"box\":{\"visible\":false},\"hovertemplate\":\"genre=%{x}<br>box_office=%{y}<extra></extra>\",\"legendgroup\":\"Drama,Romance\",\"marker\":{\"color\":\"#FF6692\"},\"name\":\"Drama,Romance\",\"offsetgroup\":\"Drama,Romance\",\"orientation\":\"v\",\"scalegroup\":\"True\",\"showlegend\":true,\"x\":[\"Drama,Romance\",\"Drama,Romance\",\"Drama,Romance\",\"Drama,Romance\",\"Drama,Romance\",\"Drama,Romance\"],\"x0\":\" \",\"xaxis\":\"x\",\"y\":[\"678226465\",\"13019063\",0,\"5987386\",\"60418\",0],\"y0\":\" \",\"yaxis\":\"y\",\"type\":\"violin\"},{\"alignmentgroup\":\"True\",\"box\":{\"visible\":false},\"hovertemplate\":\"genre=%{x}<br>box_office=%{y}<extra></extra>\",\"legendgroup\":\"Action,Adventure,Sci-Fi\",\"marker\":{\"color\":\"#B6E880\"},\"name\":\"Action,Adventure,Sci-Fi\",\"offsetgroup\":\"Action,Adventure,Sci-Fi\",\"orientation\":\"v\",\"scalegroup\":\"True\",\"showlegend\":true,\"x\":[\"Action,Adventure,Sci-Fi\",\"Action,Adventure,Sci-Fi\",\"Action,Adventure,Sci-Fi\",\"Action,Adventure,Sci-Fi\",\"Action,Adventure,Sci-Fi\"],\"x0\":\" \",\"xaxis\":\"x\",\"y\":[\"836848102\",\"2052415039\",\"131060248\",\"1109802321\",\"415261382\"],\"y0\":\" \",\"yaxis\":\"y\",\"type\":\"violin\"},{\"alignmentgroup\":\"True\",\"box\":{\"visible\":false},\"hovertemplate\":\"genre=%{x}<br>box_office=%{y}<extra></extra>\",\"legendgroup\":\"Action,Adventure,Fantasy\",\"marker\":{\"color\":\"#FF97FF\"},\"name\":\"Action,Adventure,Fantasy\",\"offsetgroup\":\"Action,Adventure,Fantasy\",\"orientation\":\"v\",\"scalegroup\":\"True\",\"showlegend\":true,\"x\":[\"Action,Adventure,Fantasy\",\"Action,Adventure,Fantasy\",\"Action,Adventure,Fantasy\",\"Action,Adventure,Fantasy\",\"Action,Adventure,Fantasy\"],\"x0\":\" \",\"xaxis\":\"x\",\"y\":[\"538375067\",\"775398007\",\"475106177\",\"1921847111\",\"654264015\"],\"y0\":\" \",\"yaxis\":\"y\",\"type\":\"violin\"},{\"alignmentgroup\":\"True\",\"box\":{\"visible\":false},\"hovertemplate\":\"genre=%{x}<br>box_office=%{y}<extra></extra>\",\"legendgroup\":\"Action,Sci-Fi\",\"marker\":{\"color\":\"#FECB52\"},\"name\":\"Action,Sci-Fi\",\"offsetgroup\":\"Action,Sci-Fi\",\"orientation\":\"v\",\"scalegroup\":\"True\",\"showlegend\":true,\"x\":[\"Action,Sci-Fi\",\"Action,Sci-Fi\",\"Action,Sci-Fi\"],\"x0\":\" \",\"xaxis\":\"x\",\"y\":[\"467222728\",\"520881154\",\"78371200\"],\"y0\":\" \",\"yaxis\":\"y\",\"type\":\"violin\"},{\"alignmentgroup\":\"True\",\"box\":{\"visible\":false},\"hovertemplate\":\"genre=%{x}<br>box_office=%{y}<extra></extra>\",\"legendgroup\":\"Biography,Crime,Drama\",\"marker\":{\"color\":\"#636efa\"},\"name\":\"Biography,Crime,Drama\",\"offsetgroup\":\"Biography,Crime,Drama\",\"orientation\":\"v\",\"scalegroup\":\"True\",\"showlegend\":true,\"x\":[\"Biography,Crime,Drama\",\"Biography,Crime,Drama\",\"Biography,Crime,Drama\",\"Biography,Crime,Drama\"],\"x0\":\" \",\"xaxis\":\"x\",\"y\":[\"47036784\",0,0,\"98690254\"],\"y0\":\" \",\"yaxis\":\"y\",\"type\":\"violin\"},{\"alignmentgroup\":\"True\",\"box\":{\"visible\":false},\"hovertemplate\":\"genre=%{x}<br>box_office=%{y}<extra></extra>\",\"legendgroup\":\"Crime,Drama,Mystery\",\"marker\":{\"color\":\"#EF553B\"},\"name\":\"Crime,Drama,Mystery\",\"offsetgroup\":\"Crime,Drama,Mystery\",\"orientation\":\"v\",\"scalegroup\":\"True\",\"showlegend\":true,\"x\":[\"Crime,Drama,Mystery\",\"Crime,Drama,Mystery\",\"Crime,Drama,Mystery\",\"Crime,Drama,Mystery\",\"Crime,Drama,Mystery\",\"Crime,Drama,Mystery\",\"Crime,Drama,Mystery\",\"Crime,Drama,Mystery\",\"Crime,Drama,Mystery\"],\"x0\":\" \",\"xaxis\":\"x\",\"y\":[\"327333559\",\"23341568\",\"7693\",0,\"126216940\",\"81379\",\"122126687\",\"1166717\",0],\"y0\":\" \",\"yaxis\":\"y\",\"type\":\"violin\"},{\"alignmentgroup\":\"True\",\"box\":{\"visible\":false},\"hovertemplate\":\"genre=%{x}<br>box_office=%{y}<extra></extra>\",\"legendgroup\":\"Action,Drama\",\"marker\":{\"color\":\"#00cc96\"},\"name\":\"Action,Drama\",\"offsetgroup\":\"Action,Drama\",\"orientation\":\"v\",\"scalegroup\":\"True\",\"showlegend\":true,\"x\":[\"Action,Drama\",\"Action,Drama\",\"Action,Drama\"],\"x0\":\" \",\"xaxis\":\"x\",\"y\":[\"346258\",\"1081169825\",\"1488732821\"],\"y0\":\" \",\"yaxis\":\"y\",\"type\":\"violin\"},{\"alignmentgroup\":\"True\",\"box\":{\"visible\":false},\"hovertemplate\":\"genre=%{x}<br>box_office=%{y}<extra></extra>\",\"legendgroup\":\"Drama,Family,Fantasy\",\"marker\":{\"color\":\"#ab63fa\"},\"name\":\"Drama,Family,Fantasy\",\"offsetgroup\":\"Drama,Family,Fantasy\",\"orientation\":\"v\",\"scalegroup\":\"True\",\"showlegend\":true,\"x\":[\"Drama,Family,Fantasy\"],\"x0\":\" \",\"xaxis\":\"x\",\"y\":[\"8574081\"],\"y0\":\" \",\"yaxis\":\"y\",\"type\":\"violin\"},{\"alignmentgroup\":\"True\",\"box\":{\"visible\":false},\"hovertemplate\":\"genre=%{x}<br>box_office=%{y}<extra></extra>\",\"legendgroup\":\"Crime,Drama,Thriller\",\"marker\":{\"color\":\"#FFA15A\"},\"name\":\"Crime,Drama,Thriller\",\"offsetgroup\":\"Crime,Drama,Thriller\",\"orientation\":\"v\",\"scalegroup\":\"True\",\"showlegend\":true,\"x\":[\"Crime,Drama,Thriller\",\"Crime,Drama,Thriller\",\"Crime,Drama,Thriller\",\"Crime,Drama,Thriller\",\"Crime,Drama,Thriller\"],\"x0\":\" \",\"xaxis\":\"x\",\"y\":[\"272742922\",\"291480452\",\"1074458282\",\"171627434\",\"910000 (estimated)\"],\"y0\":\" \",\"yaxis\":\"y\",\"type\":\"violin\"},{\"alignmentgroup\":\"True\",\"box\":{\"visible\":false},\"hovertemplate\":\"genre=%{x}<br>box_office=%{y}<extra></extra>\",\"legendgroup\":\"Drama,War\",\"marker\":{\"color\":\"#19d3f3\"},\"name\":\"Drama,War\",\"offsetgroup\":\"Drama,War\",\"orientation\":\"v\",\"scalegroup\":\"True\",\"showlegend\":true,\"x\":[\"Drama,War\",\"Drama,War\",\"Drama,War\",\"Drama,War\",\"Drama,War\",\"Drama,War\",\"Drama,War\",\"Drama,War\"],\"x0\":\" \",\"xaxis\":\"x\",\"y\":[\"482349603\",\"5252\",\"11487676\",\"46358827\",\"12180\",\"49074379\",\"138545632\",\"962002\"],\"y0\":\" \",\"yaxis\":\"y\",\"type\":\"violin\"},{\"alignmentgroup\":\"True\",\"box\":{\"visible\":false},\"hovertemplate\":\"genre=%{x}<br>box_office=%{y}<extra></extra>\",\"legendgroup\":\"Adventure,Drama,Sci-Fi\",\"marker\":{\"color\":\"#FF6692\"},\"name\":\"Adventure,Drama,Sci-Fi\",\"offsetgroup\":\"Adventure,Drama,Sci-Fi\",\"orientation\":\"v\",\"scalegroup\":\"True\",\"showlegend\":true,\"x\":[\"Adventure,Drama,Sci-Fi\"],\"x0\":\" \",\"xaxis\":\"x\",\"y\":[\"773867216\"],\"y0\":\" \",\"yaxis\":\"y\",\"type\":\"violin\"},{\"alignmentgroup\":\"True\",\"box\":{\"visible\":false},\"hovertemplate\":\"genre=%{x}<br>box_office=%{y}<extra></extra>\",\"legendgroup\":\"Comedy,Drama,Romance\",\"marker\":{\"color\":\"#B6E880\"},\"name\":\"Comedy,Drama,Romance\",\"offsetgroup\":\"Comedy,Drama,Romance\",\"orientation\":\"v\",\"scalegroup\":\"True\",\"showlegend\":true,\"x\":[\"Comedy,Drama,Romance\",\"Comedy,Drama,Romance\",\"Comedy,Drama,Romance\",\"Comedy,Drama,Romance\"],\"x0\":\" \",\"xaxis\":\"x\",\"y\":[\"230098753\",\"463618\",\"50419\",\"18778738\"],\"y0\":\" \",\"yaxis\":\"y\",\"type\":\"violin\"},{\"alignmentgroup\":\"True\",\"box\":{\"visible\":false},\"hovertemplate\":\"genre=%{x}<br>box_office=%{y}<extra></extra>\",\"legendgroup\":\"Crime,Drama,Fantasy\",\"marker\":{\"color\":\"#FF97FF\"},\"name\":\"Crime,Drama,Fantasy\",\"offsetgroup\":\"Crime,Drama,Fantasy\",\"orientation\":\"v\",\"scalegroup\":\"True\",\"showlegend\":true,\"x\":[\"Crime,Drama,Fantasy\"],\"x0\":\" \",\"xaxis\":\"x\",\"y\":[\"286801374\"],\"y0\":\" \",\"yaxis\":\"y\",\"type\":\"violin\"},{\"alignmentgroup\":\"True\",\"box\":{\"visible\":false},\"hovertemplate\":\"genre=%{x}<br>box_office=%{y}<extra></extra>\",\"legendgroup\":\"Adventure,Comedy,Sci-Fi\",\"marker\":{\"color\":\"#FECB52\"},\"name\":\"Adventure,Comedy,Sci-Fi\",\"offsetgroup\":\"Adventure,Comedy,Sci-Fi\",\"orientation\":\"v\",\"scalegroup\":\"True\",\"showlegend\":true,\"x\":[\"Adventure,Comedy,Sci-Fi\"],\"x0\":\" \",\"xaxis\":\"x\",\"y\":[\"383336762\"],\"y0\":\" \",\"yaxis\":\"y\",\"type\":\"violin\"},{\"alignmentgroup\":\"True\",\"box\":{\"visible\":false},\"hovertemplate\":\"genre=%{x}<br>box_office=%{y}<extra></extra>\",\"legendgroup\":\"Animation,Adventure,Family\",\"marker\":{\"color\":\"#636efa\"},\"name\":\"Animation,Adventure,Family\",\"offsetgroup\":\"Animation,Adventure,Family\",\"orientation\":\"v\",\"scalegroup\":\"True\",\"showlegend\":true,\"x\":[\"Animation,Adventure,Family\",\"Animation,Adventure,Family\",\"Animation,Adventure,Family\"],\"x0\":\" \",\"xaxis\":\"x\",\"y\":[\"355822319\",\"521311890\",\"237536126\"],\"y0\":\" \",\"yaxis\":\"y\",\"type\":\"violin\"},{\"alignmentgroup\":\"True\",\"box\":{\"visible\":false},\"hovertemplate\":\"genre=%{x}<br>box_office=%{y}<extra></extra>\",\"legendgroup\":\"Biography,Drama,Music\",\"marker\":{\"color\":\"#EF553B\"},\"name\":\"Biography,Drama,Music\",\"offsetgroup\":\"Biography,Drama,Music\",\"orientation\":\"v\",\"scalegroup\":\"True\",\"showlegend\":true,\"x\":[\"Biography,Drama,Music\",\"Biography,Drama,Music\"],\"x0\":\" \",\"xaxis\":\"x\",\"y\":[\"120072577\",\"52066791\"],\"y0\":\" \",\"yaxis\":\"y\",\"type\":\"violin\"},{\"alignmentgroup\":\"True\",\"box\":{\"visible\":false},\"hovertemplate\":\"genre=%{x}<br>box_office=%{y}<extra></extra>\",\"legendgroup\":\"Horror,Mystery,Thriller\",\"marker\":{\"color\":\"#00cc96\"},\"name\":\"Horror,Mystery,Thriller\",\"offsetgroup\":\"Horror,Mystery,Thriller\",\"orientation\":\"v\",\"scalegroup\":\"True\",\"showlegend\":true,\"x\":[\"Horror,Mystery,Thriller\"],\"x0\":\" \",\"xaxis\":\"x\",\"y\":[\"32052925\"],\"y0\":\" \",\"yaxis\":\"y\",\"type\":\"violin\"},{\"alignmentgroup\":\"True\",\"box\":{\"visible\":false},\"hovertemplate\":\"genre=%{x}<br>box_office=%{y}<extra></extra>\",\"legendgroup\":\"Drama,Thriller\",\"marker\":{\"color\":\"#ab63fa\"},\"name\":\"Drama,Thriller\",\"offsetgroup\":\"Drama,Thriller\",\"orientation\":\"v\",\"scalegroup\":\"True\",\"showlegend\":true,\"x\":[\"Drama,Thriller\",\"Drama,Thriller\",\"Drama,Thriller\",\"Drama,Thriller\"],\"x0\":\" \",\"xaxis\":\"x\",\"y\":[\"262676096\",\"35401758\",\"20908467\",0],\"y0\":\" \",\"yaxis\":\"y\",\"type\":\"violin\"},{\"alignmentgroup\":\"True\",\"box\":{\"visible\":false},\"hovertemplate\":\"genre=%{x}<br>box_office=%{y}<extra></extra>\",\"legendgroup\":\"Animation,Adventure,Drama\",\"marker\":{\"color\":\"#FFA15A\"},\"name\":\"Animation,Adventure,Drama\",\"offsetgroup\":\"Animation,Adventure,Drama\",\"orientation\":\"v\",\"scalegroup\":\"True\",\"showlegend\":true,\"x\":[\"Animation,Adventure,Drama\"],\"x0\":\" \",\"xaxis\":\"x\",\"y\":[\"968511805\"],\"y0\":\" \",\"yaxis\":\"y\",\"type\":\"violin\"},{\"alignmentgroup\":\"True\",\"box\":{\"visible\":false},\"hovertemplate\":\"genre=%{x}<br>box_office=%{y}<extra></extra>\",\"legendgroup\":\"Drama,Mystery,Sci-Fi\",\"marker\":{\"color\":\"#19d3f3\"},\"name\":\"Drama,Mystery,Sci-Fi\",\"offsetgroup\":\"Drama,Mystery,Sci-Fi\",\"orientation\":\"v\",\"scalegroup\":\"True\",\"showlegend\":true,\"x\":[\"Drama,Mystery,Sci-Fi\"],\"x0\":\" \",\"xaxis\":\"x\",\"y\":[\"109676311\"],\"y0\":\" \",\"yaxis\":\"y\",\"type\":\"violin\"},{\"alignmentgroup\":\"True\",\"box\":{\"visible\":false},\"hovertemplate\":\"genre=%{x}<br>box_office=%{y}<extra></extra>\",\"legendgroup\":\"Drama,Music\",\"marker\":{\"color\":\"#FF6692\"},\"name\":\"Drama,Music\",\"offsetgroup\":\"Drama,Music\",\"orientation\":\"v\",\"scalegroup\":\"True\",\"showlegend\":true,\"x\":[\"Drama,Music\"],\"x0\":\" \",\"xaxis\":\"x\",\"y\":[\"49396747\"],\"y0\":\" \",\"yaxis\":\"y\",\"type\":\"violin\"},{\"alignmentgroup\":\"True\",\"box\":{\"visible\":false},\"hovertemplate\":\"genre=%{x}<br>box_office=%{y}<extra></extra>\",\"legendgroup\":\"Drama,Romance,War\",\"marker\":{\"color\":\"#B6E880\"},\"name\":\"Drama,Romance,War\",\"offsetgroup\":\"Drama,Romance,War\",\"orientation\":\"v\",\"scalegroup\":\"True\",\"showlegend\":true,\"x\":[\"Drama,Romance,War\",\"Drama,Romance,War\",\"Drama,Romance,War\"],\"x0\":\" \",\"xaxis\":\"x\",\"y\":[\"4626532\",\"402382193\",\"23661347\"],\"y0\":\" \",\"yaxis\":\"y\",\"type\":\"violin\"},{\"alignmentgroup\":\"True\",\"box\":{\"visible\":false},\"hovertemplate\":\"genre=%{x}<br>box_office=%{y}<extra></extra>\",\"legendgroup\":\"Animation,Drama,War\",\"marker\":{\"color\":\"#FF97FF\"},\"name\":\"Animation,Drama,War\",\"offsetgroup\":\"Animation,Drama,War\",\"orientation\":\"v\",\"scalegroup\":\"True\",\"showlegend\":true,\"x\":[\"Animation,Drama,War\"],\"x0\":\" \",\"xaxis\":\"x\",\"y\":[\"516962\"],\"y0\":\" \",\"yaxis\":\"y\",\"type\":\"violin\"},{\"alignmentgroup\":\"True\",\"box\":{\"visible\":false},\"hovertemplate\":\"genre=%{x}<br>box_office=%{y}<extra></extra>\",\"legendgroup\":\"Action,Drama,Mystery\",\"marker\":{\"color\":\"#FECB52\"},\"name\":\"Action,Drama,Mystery\",\"offsetgroup\":\"Action,Drama,Mystery\",\"orientation\":\"v\",\"scalegroup\":\"True\",\"showlegend\":true,\"x\":[\"Action,Drama,Mystery\",\"Action,Drama,Mystery\"],\"x0\":\" \",\"xaxis\":\"x\",\"y\":[0,\"15421226\"],\"y0\":\" \",\"yaxis\":\"y\",\"type\":\"violin\"},{\"alignmentgroup\":\"True\",\"box\":{\"visible\":false},\"hovertemplate\":\"genre=%{x}<br>box_office=%{y}<extra></extra>\",\"legendgroup\":\"Biography,Comedy,Drama\",\"marker\":{\"color\":\"#636efa\"},\"name\":\"Biography,Comedy,Drama\",\"offsetgroup\":\"Biography,Comedy,Drama\",\"orientation\":\"v\",\"scalegroup\":\"True\",\"showlegend\":true,\"x\":[\"Biography,Comedy,Drama\",\"Biography,Comedy,Drama\"],\"x0\":\" \",\"xaxis\":\"x\",\"y\":[\"426588510\",\"321752656\"],\"y0\":\" \",\"yaxis\":\"y\",\"type\":\"violin\"},{\"alignmentgroup\":\"True\",\"box\":{\"visible\":false},\"hovertemplate\":\"genre=%{x}<br>box_office=%{y}<extra></extra>\",\"legendgroup\":\"Western\",\"marker\":{\"color\":\"#EF553B\"},\"name\":\"Western\",\"offsetgroup\":\"Western\",\"orientation\":\"v\",\"scalegroup\":\"True\",\"showlegend\":true,\"x\":[\"Western\",\"Western\"],\"x0\":\" \",\"xaxis\":\"x\",\"y\":[\"5435024\",\"15000000\"],\"y0\":\" \",\"yaxis\":\"y\",\"type\":\"violin\"},{\"alignmentgroup\":\"True\",\"box\":{\"visible\":false},\"hovertemplate\":\"genre=%{x}<br>box_office=%{y}<extra></extra>\",\"legendgroup\":\"Mystery,Thriller\",\"marker\":{\"color\":\"#00cc96\"},\"name\":\"Mystery,Thriller\",\"offsetgroup\":\"Mystery,Thriller\",\"orientation\":\"v\",\"scalegroup\":\"True\",\"showlegend\":true,\"x\":[\"Mystery,Thriller\",\"Mystery,Thriller\",\"Mystery,Thriller\"],\"x0\":\" \",\"xaxis\":\"x\",\"y\":[\"37034579\",\"40047078\",\"294805697\"],\"y0\":\" \",\"yaxis\":\"y\",\"type\":\"violin\"},{\"alignmentgroup\":\"True\",\"box\":{\"visible\":false},\"hovertemplate\":\"genre=%{x}<br>box_office=%{y}<extra></extra>\",\"legendgroup\":\"Horror,Sci-Fi\",\"marker\":{\"color\":\"#ab63fa\"},\"name\":\"Horror,Sci-Fi\",\"offsetgroup\":\"Horror,Sci-Fi\",\"orientation\":\"v\",\"scalegroup\":\"True\",\"showlegend\":true,\"x\":[\"Horror,Sci-Fi\"],\"x0\":\" \",\"xaxis\":\"x\",\"y\":[\"106285522\"],\"y0\":\" \",\"yaxis\":\"y\",\"type\":\"violin\"},{\"alignmentgroup\":\"True\",\"box\":{\"visible\":false},\"hovertemplate\":\"genre=%{x}<br>box_office=%{y}<extra></extra>\",\"legendgroup\":\"Drama,Mystery,War\",\"marker\":{\"color\":\"#FFA15A\"},\"name\":\"Drama,Mystery,War\",\"offsetgroup\":\"Drama,Mystery,War\",\"orientation\":\"v\",\"scalegroup\":\"True\",\"showlegend\":true,\"x\":[\"Drama,Mystery,War\"],\"x0\":\" \",\"xaxis\":\"x\",\"y\":[\"104880868\"],\"y0\":\" \",\"yaxis\":\"y\",\"type\":\"violin\"},{\"alignmentgroup\":\"True\",\"box\":{\"visible\":false},\"hovertemplate\":\"genre=%{x}<br>box_office=%{y}<extra></extra>\",\"legendgroup\":\"Drama,Western\",\"marker\":{\"color\":\"#19d3f3\"},\"name\":\"Drama,Western\",\"offsetgroup\":\"Drama,Western\",\"orientation\":\"v\",\"scalegroup\":\"True\",\"showlegend\":true,\"x\":[\"Drama,Western\",\"Drama,Western\"],\"x0\":\" \",\"xaxis\":\"x\",\"y\":[\"426074373\",\"159167799\"],\"y0\":\" \",\"yaxis\":\"y\",\"type\":\"violin\"},{\"alignmentgroup\":\"True\",\"box\":{\"visible\":false},\"hovertemplate\":\"genre=%{x}<br>box_office=%{y}<extra></extra>\",\"legendgroup\":\"Action,Adventure\",\"marker\":{\"color\":\"#FF6692\"},\"name\":\"Action,Adventure\",\"offsetgroup\":\"Action,Adventure\",\"orientation\":\"v\",\"scalegroup\":\"True\",\"showlegend\":true,\"x\":[\"Action,Adventure\",\"Action,Adventure\"],\"x0\":\" \",\"xaxis\":\"x\",\"y\":[\"389925971\",\"474171806\"],\"y0\":\" \",\"yaxis\":\"y\",\"type\":\"violin\"},{\"alignmentgroup\":\"True\",\"box\":{\"visible\":false},\"hovertemplate\":\"genre=%{x}<br>box_office=%{y}<extra></extra>\",\"legendgroup\":\"Drama,Mystery,Thriller\",\"marker\":{\"color\":\"#B6E880\"},\"name\":\"Drama,Mystery,Thriller\",\"offsetgroup\":\"Drama,Mystery,Thriller\",\"orientation\":\"v\",\"scalegroup\":\"True\",\"showlegend\":true,\"x\":[\"Drama,Mystery,Thriller\",\"Drama,Mystery,Thriller\",\"Drama,Mystery,Thriller\",\"Drama,Mystery,Thriller\"],\"x0\":\" \",\"xaxis\":\"x\",\"y\":[\"77356942\",\"672806432\",\"29225935\",0],\"y0\":\" \",\"yaxis\":\"y\",\"type\":\"violin\"},{\"alignmentgroup\":\"True\",\"box\":{\"visible\":false},\"hovertemplate\":\"genre=%{x}<br>box_office=%{y}<extra></extra>\",\"legendgroup\":\"Drama,Film-Noir\",\"marker\":{\"color\":\"#FF97FF\"},\"name\":\"Drama,Film-Noir\",\"offsetgroup\":\"Drama,Film-Noir\",\"orientation\":\"v\",\"scalegroup\":\"True\",\"showlegend\":true,\"x\":[\"Drama,Film-Noir\"],\"x0\":\" \",\"xaxis\":\"x\",\"y\":[\"300073\"],\"y0\":\" \",\"yaxis\":\"y\",\"type\":\"violin\"},{\"alignmentgroup\":\"True\",\"box\":{\"visible\":false},\"hovertemplate\":\"genre=%{x}<br>box_office=%{y}<extra></extra>\",\"legendgroup\":\"Drama,Horror\",\"marker\":{\"color\":\"#FECB52\"},\"name\":\"Drama,Horror\",\"offsetgroup\":\"Drama,Horror\",\"orientation\":\"v\",\"scalegroup\":\"True\",\"showlegend\":true,\"x\":[\"Drama,Horror\"],\"x0\":\" \",\"xaxis\":\"x\",\"y\":[\"47335804\"],\"y0\":\" \",\"yaxis\":\"y\",\"type\":\"violin\"},{\"alignmentgroup\":\"True\",\"box\":{\"visible\":false},\"hovertemplate\":\"genre=%{x}<br>box_office=%{y}<extra></extra>\",\"legendgroup\":\"Comedy,Drama,War\",\"marker\":{\"color\":\"#636efa\"},\"name\":\"Comedy,Drama,War\",\"offsetgroup\":\"Comedy,Drama,War\",\"orientation\":\"v\",\"scalegroup\":\"True\",\"showlegend\":true,\"x\":[\"Comedy,Drama,War\"],\"x0\":\" \",\"xaxis\":\"x\",\"y\":[\"970263\"],\"y0\":\" \",\"yaxis\":\"y\",\"type\":\"violin\"},{\"alignmentgroup\":\"True\",\"box\":{\"visible\":false},\"hovertemplate\":\"genre=%{x}<br>box_office=%{y}<extra></extra>\",\"legendgroup\":\"Animation,Action,Adventure\",\"marker\":{\"color\":\"#EF553B\"},\"name\":\"Animation,Action,Adventure\",\"offsetgroup\":\"Animation,Action,Adventure\",\"orientation\":\"v\",\"scalegroup\":\"True\",\"showlegend\":true,\"x\":[\"Animation,Action,Adventure\",\"Animation,Action,Adventure\",\"Animation,Action,Adventure\",\"Animation,Action,Adventure\",\"Animation,Action,Adventure\"],\"x0\":\" \",\"xaxis\":\"x\",\"y\":[0,\"170005875\",\"494879471\",\"631607053\",\"23335817\"],\"y0\":\" \",\"yaxis\":\"y\",\"type\":\"violin\"},{\"alignmentgroup\":\"True\",\"box\":{\"visible\":false},\"hovertemplate\":\"genre=%{x}<br>box_office=%{y}<extra></extra>\",\"legendgroup\":\"Comedy,War\",\"marker\":{\"color\":\"#00cc96\"},\"name\":\"Comedy,War\",\"offsetgroup\":\"Comedy,War\",\"orientation\":\"v\",\"scalegroup\":\"True\",\"showlegend\":true,\"x\":[\"Comedy,War\"],\"x0\":\" \",\"xaxis\":\"x\",\"y\":[\"9523464\"],\"y0\":\" \",\"yaxis\":\"y\",\"type\":\"violin\"},{\"alignmentgroup\":\"True\",\"box\":{\"visible\":false},\"hovertemplate\":\"genre=%{x}<br>box_office=%{y}<extra></extra>\",\"legendgroup\":\"Adventure,Drama,War\",\"marker\":{\"color\":\"#ab63fa\"},\"name\":\"Adventure,Drama,War\",\"offsetgroup\":\"Adventure,Drama,War\",\"orientation\":\"v\",\"scalegroup\":\"True\",\"showlegend\":true,\"x\":[\"Adventure,Drama,War\",\"Adventure,Drama,War\",\"Adventure,Drama,War\"],\"x0\":\" \",\"xaxis\":\"x\",\"y\":[\"321457747\",\"27200000\",\"199632\"],\"y0\":\" \",\"yaxis\":\"y\",\"type\":\"violin\"},{\"alignmentgroup\":\"True\",\"box\":{\"visible\":false},\"hovertemplate\":\"genre=%{x}<br>box_office=%{y}<extra></extra>\",\"legendgroup\":\"Animation,Adventure,Comedy\",\"marker\":{\"color\":\"#FFA15A\"},\"name\":\"Animation,Adventure,Comedy\",\"offsetgroup\":\"Animation,Adventure,Comedy\",\"orientation\":\"v\",\"scalegroup\":\"True\",\"showlegend\":true,\"x\":[\"Animation,Adventure,Comedy\",\"Animation,Adventure,Comedy\",\"Animation,Adventure,Comedy\",\"Animation,Adventure,Comedy\",\"Animation,Adventure,Comedy\",\"Animation,Adventure,Comedy\",\"Animation,Adventure,Comedy\",\"Animation,Adventure,Comedy\",\"Animation,Adventure,Comedy\",\"Animation,Adventure,Comedy\"],\"x0\":\" \",\"xaxis\":\"x\",\"y\":[\"814337054\",\"394436586\",\"1067316101\",\"735099102\",\"941637960\",\"858848019\",0,\"579707738\",\"623726085\",0],\"y0\":\" \",\"yaxis\":\"y\",\"type\":\"violin\"},{\"alignmentgroup\":\"True\",\"box\":{\"visible\":false},\"hovertemplate\":\"genre=%{x}<br>box_office=%{y}<extra></extra>\",\"legendgroup\":\"Animation,Drama,Fantasy\",\"marker\":{\"color\":\"#19d3f3\"},\"name\":\"Animation,Drama,Fantasy\",\"offsetgroup\":\"Animation,Drama,Fantasy\",\"orientation\":\"v\",\"scalegroup\":\"True\",\"showlegend\":true,\"x\":[\"Animation,Drama,Fantasy\"],\"x0\":\" \",\"xaxis\":\"x\",\"y\":[0],\"y0\":\" \",\"yaxis\":\"y\",\"type\":\"violin\"},{\"alignmentgroup\":\"True\",\"box\":{\"visible\":false},\"hovertemplate\":\"genre=%{x}<br>box_office=%{y}<extra></extra>\",\"legendgroup\":\"Comedy,Drama\",\"marker\":{\"color\":\"#FF6692\"},\"name\":\"Comedy,Drama\",\"offsetgroup\":\"Comedy,Drama\",\"orientation\":\"v\",\"scalegroup\":\"True\",\"showlegend\":true,\"x\":[\"Comedy,Drama\",\"Comedy,Drama\",\"Comedy,Drama\",\"Comedy,Drama\"],\"x0\":\" \",\"xaxis\":\"x\",\"y\":[\"60262836\",\"264118201\",\"144738\",\"235860116\"],\"y0\":\" \",\"yaxis\":\"y\",\"type\":\"violin\"},{\"alignmentgroup\":\"True\",\"box\":{\"visible\":false},\"hovertemplate\":\"genre=%{x}<br>box_office=%{y}<extra></extra>\",\"legendgroup\":\"Comedy,Musical,Romance\",\"marker\":{\"color\":\"#B6E880\"},\"name\":\"Comedy,Musical,Romance\",\"offsetgroup\":\"Comedy,Musical,Romance\",\"orientation\":\"v\",\"scalegroup\":\"True\",\"showlegend\":true,\"x\":[\"Comedy,Musical,Romance\"],\"x0\":\" \",\"xaxis\":\"x\",\"y\":[\"2000288\"],\"y0\":\" \",\"yaxis\":\"y\",\"type\":\"violin\"},{\"alignmentgroup\":\"True\",\"box\":{\"visible\":false},\"hovertemplate\":\"genre=%{x}<br>box_office=%{y}<extra></extra>\",\"legendgroup\":\"Drama,Romance,Sci-Fi\",\"marker\":{\"color\":\"#FF97FF\"},\"name\":\"Drama,Romance,Sci-Fi\",\"offsetgroup\":\"Drama,Romance,Sci-Fi\",\"orientation\":\"v\",\"scalegroup\":\"True\",\"showlegend\":true,\"x\":[\"Drama,Romance,Sci-Fi\"],\"x0\":\" \",\"xaxis\":\"x\",\"y\":[\"74036715\"],\"y0\":\" \",\"yaxis\":\"y\",\"type\":\"violin\"},{\"alignmentgroup\":\"True\",\"box\":{\"visible\":false},\"hovertemplate\":\"genre=%{x}<br>box_office=%{y}<extra></extra>\",\"legendgroup\":\"Adventure,Sci-Fi\",\"marker\":{\"color\":\"#FECB52\"},\"name\":\"Adventure,Sci-Fi\",\"offsetgroup\":\"Adventure,Sci-Fi\",\"orientation\":\"v\",\"scalegroup\":\"True\",\"showlegend\":true,\"x\":[\"Adventure,Sci-Fi\"],\"x0\":\" \",\"xaxis\":\"x\",\"y\":[\"65889846\"],\"y0\":\" \",\"yaxis\":\"y\",\"type\":\"violin\"},{\"alignmentgroup\":\"True\",\"box\":{\"visible\":false},\"hovertemplate\":\"genre=%{x}<br>box_office=%{y}<extra></extra>\",\"legendgroup\":\"Crime,Thriller\",\"marker\":{\"color\":\"#636efa\"},\"name\":\"Crime,Thriller\",\"offsetgroup\":\"Crime,Thriller\",\"orientation\":\"v\",\"scalegroup\":\"True\",\"showlegend\":true,\"x\":[\"Crime,Thriller\",\"Crime,Thriller\",\"Crime,Thriller\"],\"x0\":\" \",\"xaxis\":\"x\",\"y\":[\"2913644\",\"31207\",\"60611975\"],\"y0\":\" \",\"yaxis\":\"y\",\"type\":\"violin\"},{\"alignmentgroup\":\"True\",\"box\":{\"visible\":false},\"hovertemplate\":\"genre=%{x}<br>box_office=%{y}<extra></extra>\",\"legendgroup\":\"Drama,Thriller,War\",\"marker\":{\"color\":\"#EF553B\"},\"name\":\"Drama,Thriller,War\",\"offsetgroup\":\"Drama,Thriller,War\",\"orientation\":\"v\",\"scalegroup\":\"True\",\"showlegend\":true,\"x\":[\"Drama,Thriller,War\"],\"x0\":\" \",\"xaxis\":\"x\",\"y\":[0],\"y0\":\" \",\"yaxis\":\"y\",\"type\":\"violin\"},{\"alignmentgroup\":\"True\",\"box\":{\"visible\":false},\"hovertemplate\":\"genre=%{x}<br>box_office=%{y}<extra></extra>\",\"legendgroup\":\"Drama,Mystery\",\"marker\":{\"color\":\"#00cc96\"},\"name\":\"Drama,Mystery\",\"offsetgroup\":\"Drama,Mystery\",\"orientation\":\"v\",\"scalegroup\":\"True\",\"showlegend\":true,\"x\":[\"Drama,Mystery\",\"Drama,Mystery\",\"Drama,Mystery\"],\"x0\":\" \",\"xaxis\":\"x\",\"y\":[\"1645133\",\"6788659\",\"24427162\"],\"y0\":\" \",\"yaxis\":\"y\",\"type\":\"violin\"},{\"alignmentgroup\":\"True\",\"box\":{\"visible\":false},\"hovertemplate\":\"genre=%{x}<br>box_office=%{y}<extra></extra>\",\"legendgroup\":\"Crime,Mystery,Thriller\",\"marker\":{\"color\":\"#ab63fa\"},\"name\":\"Crime,Mystery,Thriller\",\"offsetgroup\":\"Crime,Mystery,Thriller\",\"orientation\":\"v\",\"scalegroup\":\"True\",\"showlegend\":true,\"x\":[\"Crime,Mystery,Thriller\"],\"x0\":\" \",\"xaxis\":\"x\",\"y\":[\"35566\"],\"y0\":\" \",\"yaxis\":\"y\",\"type\":\"violin\"},{\"alignmentgroup\":\"True\",\"box\":{\"visible\":false},\"hovertemplate\":\"genre=%{x}<br>box_office=%{y}<extra></extra>\",\"legendgroup\":\"Adventure,Biography,Drama\",\"marker\":{\"color\":\"#FFA15A\"},\"name\":\"Adventure,Biography,Drama\",\"offsetgroup\":\"Adventure,Biography,Drama\",\"orientation\":\"v\",\"scalegroup\":\"True\",\"showlegend\":true,\"x\":[\"Adventure,Biography,Drama\",\"Adventure,Biography,Drama\",\"Adventure,Biography,Drama\"],\"x0\":\" \",\"xaxis\":\"x\",\"y\":[\"45720631\",\"56675895\",\"14480\"],\"y0\":\" \",\"yaxis\":\"y\",\"type\":\"violin\"},{\"alignmentgroup\":\"True\",\"box\":{\"visible\":false},\"hovertemplate\":\"genre=%{x}<br>box_office=%{y}<extra></extra>\",\"legendgroup\":\"Action,Adventure,Mystery\",\"marker\":{\"color\":\"#19d3f3\"},\"name\":\"Action,Adventure,Mystery\",\"offsetgroup\":\"Action,Adventure,Mystery\",\"orientation\":\"v\",\"scalegroup\":\"True\",\"showlegend\":true,\"x\":[\"Action,Adventure,Mystery\"],\"x0\":\" \",\"xaxis\":\"x\",\"y\":[\"142319\"],\"y0\":\" \",\"yaxis\":\"y\",\"type\":\"violin\"},{\"alignmentgroup\":\"True\",\"box\":{\"visible\":false},\"hovertemplate\":\"genre=%{x}<br>box_office=%{y}<extra></extra>\",\"legendgroup\":\"Mystery,Romance,Thriller\",\"marker\":{\"color\":\"#FF6692\"},\"name\":\"Mystery,Romance,Thriller\",\"offsetgroup\":\"Mystery,Romance,Thriller\",\"orientation\":\"v\",\"scalegroup\":\"True\",\"showlegend\":true,\"x\":[\"Mystery,Romance,Thriller\"],\"x0\":\" \",\"xaxis\":\"x\",\"y\":[\"7798146\"],\"y0\":\" \",\"yaxis\":\"y\",\"type\":\"violin\"},{\"alignmentgroup\":\"True\",\"box\":{\"visible\":false},\"hovertemplate\":\"genre=%{x}<br>box_office=%{y}<extra></extra>\",\"legendgroup\":\"Comedy,Romance\",\"marker\":{\"color\":\"#B6E880\"},\"name\":\"Comedy,Romance\",\"offsetgroup\":\"Comedy,Romance\",\"orientation\":\"v\",\"scalegroup\":\"True\",\"showlegend\":true,\"x\":[\"Comedy,Romance\",\"Comedy,Romance\"],\"x0\":\" \",\"xaxis\":\"x\",\"y\":[\"174122191\",\"11477\"],\"y0\":\" \",\"yaxis\":\"y\",\"type\":\"violin\"},{\"alignmentgroup\":\"True\",\"box\":{\"visible\":false},\"hovertemplate\":\"genre=%{x}<br>box_office=%{y}<extra></extra>\",\"legendgroup\":\"Crime,Sci-Fi\",\"marker\":{\"color\":\"#FF97FF\"},\"name\":\"Crime,Sci-Fi\",\"offsetgroup\":\"Crime,Sci-Fi\",\"orientation\":\"v\",\"scalegroup\":\"True\",\"showlegend\":true,\"x\":[\"Crime,Sci-Fi\"],\"x0\":\" \",\"xaxis\":\"x\",\"y\":[\"26960374\"],\"y0\":\" \",\"yaxis\":\"y\",\"type\":\"violin\"},{\"alignmentgroup\":\"True\",\"box\":{\"visible\":false},\"hovertemplate\":\"genre=%{x}<br>box_office=%{y}<extra></extra>\",\"legendgroup\":\"Crime,Drama,Film-Noir\",\"marker\":{\"color\":\"#FECB52\"},\"name\":\"Crime,Drama,Film-Noir\",\"offsetgroup\":\"Crime,Drama,Film-Noir\",\"orientation\":\"v\",\"scalegroup\":\"True\",\"showlegend\":true,\"x\":[\"Crime,Drama,Film-Noir\"],\"x0\":\" \",\"xaxis\":\"x\",\"y\":[\"14651\"],\"y0\":\" \",\"yaxis\":\"y\",\"type\":\"violin\"},{\"alignmentgroup\":\"True\",\"box\":{\"visible\":false},\"hovertemplate\":\"genre=%{x}<br>box_office=%{y}<extra></extra>\",\"legendgroup\":\"Comedy,Crime,Drama\",\"marker\":{\"color\":\"#636efa\"},\"name\":\"Comedy,Crime,Drama\",\"offsetgroup\":\"Comedy,Crime,Drama\",\"orientation\":\"v\",\"scalegroup\":\"True\",\"showlegend\":true,\"x\":[\"Comedy,Crime,Drama\",\"Comedy,Crime,Drama\"],\"x0\":\" \",\"xaxis\":\"x\",\"y\":[\"156000000\",\"162861289\"],\"y0\":\" \",\"yaxis\":\"y\",\"type\":\"violin\"},{\"alignmentgroup\":\"True\",\"box\":{\"visible\":false},\"hovertemplate\":\"genre=%{x}<br>box_office=%{y}<extra></extra>\",\"legendgroup\":\"Drama,Sci-Fi\",\"marker\":{\"color\":\"#EF553B\"},\"name\":\"Drama,Sci-Fi\",\"offsetgroup\":\"Drama,Sci-Fi\",\"orientation\":\"v\",\"scalegroup\":\"True\",\"showlegend\":true,\"x\":[\"Drama,Sci-Fi\"],\"x0\":\" \",\"xaxis\":\"x\",\"y\":[\"1349711\"],\"y0\":\" \",\"yaxis\":\"y\",\"type\":\"violin\"},{\"alignmentgroup\":\"True\",\"box\":{\"visible\":false},\"hovertemplate\":\"genre=%{x}<br>box_office=%{y}<extra></extra>\",\"legendgroup\":\"Action,Thriller\",\"marker\":{\"color\":\"#00cc96\"},\"name\":\"Action,Thriller\",\"offsetgroup\":\"Action,Thriller\",\"orientation\":\"v\",\"scalegroup\":\"True\",\"showlegend\":true,\"x\":[\"Action,Thriller\"],\"x0\":\" \",\"xaxis\":\"x\",\"y\":[\"141603197\"],\"y0\":\" \",\"yaxis\":\"y\",\"type\":\"violin\"},{\"alignmentgroup\":\"True\",\"box\":{\"visible\":false},\"hovertemplate\":\"genre=%{x}<br>box_office=%{y}<extra></extra>\",\"legendgroup\":\"Comedy,Crime\",\"marker\":{\"color\":\"#ab63fa\"},\"name\":\"Comedy,Crime\",\"offsetgroup\":\"Comedy,Crime\",\"orientation\":\"v\",\"scalegroup\":\"True\",\"showlegend\":true,\"x\":[\"Comedy,Crime\",\"Comedy,Crime\"],\"x0\":\" \",\"xaxis\":\"x\",\"y\":[\"83557872\",\"46969409\"],\"y0\":\" \",\"yaxis\":\"y\",\"type\":\"violin\"},{\"alignmentgroup\":\"True\",\"box\":{\"visible\":false},\"hovertemplate\":\"genre=%{x}<br>box_office=%{y}<extra></extra>\",\"legendgroup\":\"Drama,Family\",\"marker\":{\"color\":\"#FFA15A\"},\"name\":\"Drama,Family\",\"offsetgroup\":\"Drama,Family\",\"orientation\":\"v\",\"scalegroup\":\"True\",\"showlegend\":true,\"x\":[\"Drama,Family\",\"Drama,Family\"],\"x0\":\" \",\"xaxis\":\"x\",\"y\":[\"21897373\",0],\"y0\":\" \",\"yaxis\":\"y\",\"type\":\"violin\"},{\"alignmentgroup\":\"True\",\"box\":{\"visible\":false},\"hovertemplate\":\"genre=%{x}<br>box_office=%{y}<extra></extra>\",\"legendgroup\":\"Action,Drama,War\",\"marker\":{\"color\":\"#19d3f3\"},\"name\":\"Action,Drama,War\",\"offsetgroup\":\"Action,Drama,War\",\"orientation\":\"v\",\"scalegroup\":\"True\",\"showlegend\":true,\"x\":[\"Action,Drama,War\",\"Action,Drama,War\"],\"x0\":\" \",\"xaxis\":\"x\",\"y\":[\"384479940\",\"4164283\"],\"y0\":\" \",\"yaxis\":\"y\",\"type\":\"violin\"},{\"alignmentgroup\":\"True\",\"box\":{\"visible\":false},\"hovertemplate\":\"genre=%{x}<br>box_office=%{y}<extra></extra>\",\"legendgroup\":\"Action,Biography,Drama\",\"marker\":{\"color\":\"#FF6692\"},\"name\":\"Action,Biography,Drama\",\"offsetgroup\":\"Action,Biography,Drama\",\"orientation\":\"v\",\"scalegroup\":\"True\",\"showlegend\":true,\"x\":[\"Action,Biography,Drama\",\"Action,Biography,Drama\",\"Action,Biography,Drama\"],\"x0\":\" \",\"xaxis\":\"x\",\"y\":[0,\"225508210\",\"96983009\"],\"y0\":\" \",\"yaxis\":\"y\",\"type\":\"violin\"},{\"alignmentgroup\":\"True\",\"box\":{\"visible\":false},\"hovertemplate\":\"genre=%{x}<br>box_office=%{y}<extra></extra>\",\"legendgroup\":\"Comedy,Drama,Family\",\"marker\":{\"color\":\"#B6E880\"},\"name\":\"Comedy,Drama,Family\",\"offsetgroup\":\"Comedy,Drama,Family\",\"orientation\":\"v\",\"scalegroup\":\"True\",\"showlegend\":true,\"x\":[\"Comedy,Drama,Family\"],\"x0\":\" \",\"xaxis\":\"x\",\"y\":[\"41960\"],\"y0\":\" \",\"yaxis\":\"y\",\"type\":\"violin\"},{\"alignmentgroup\":\"True\",\"box\":{\"visible\":false},\"hovertemplate\":\"genre=%{x}<br>box_office=%{y}<extra></extra>\",\"legendgroup\":\"Comedy,Music,Romance\",\"marker\":{\"color\":\"#FF97FF\"},\"name\":\"Comedy,Music,Romance\",\"offsetgroup\":\"Comedy,Music,Romance\",\"orientation\":\"v\",\"scalegroup\":\"True\",\"showlegend\":true,\"x\":[\"Comedy,Music,Romance\"],\"x0\":\" \",\"xaxis\":\"x\",\"y\":[\"195088\"],\"y0\":\" \",\"yaxis\":\"y\",\"type\":\"violin\"},{\"alignmentgroup\":\"True\",\"box\":{\"visible\":false},\"hovertemplate\":\"genre=%{x}<br>box_office=%{y}<extra></extra>\",\"legendgroup\":\"Biography,Comedy,Crime\",\"marker\":{\"color\":\"#FECB52\"},\"name\":\"Biography,Comedy,Crime\",\"offsetgroup\":\"Biography,Comedy,Crime\",\"orientation\":\"v\",\"scalegroup\":\"True\",\"showlegend\":true,\"x\":[\"Biography,Comedy,Crime\"],\"x0\":\" \",\"xaxis\":\"x\",\"y\":[\"406878233\"],\"y0\":\" \",\"yaxis\":\"y\",\"type\":\"violin\"},{\"alignmentgroup\":\"True\",\"box\":{\"visible\":false},\"hovertemplate\":\"genre=%{x}<br>box_office=%{y}<extra></extra>\",\"legendgroup\":\"Drama,Fantasy,War\",\"marker\":{\"color\":\"#636efa\"},\"name\":\"Drama,Fantasy,War\",\"offsetgroup\":\"Drama,Fantasy,War\",\"orientation\":\"v\",\"scalegroup\":\"True\",\"showlegend\":true,\"x\":[\"Drama,Fantasy,War\"],\"x0\":\" \",\"xaxis\":\"x\",\"y\":[\"83862032\"],\"y0\":\" \",\"yaxis\":\"y\",\"type\":\"violin\"},{\"alignmentgroup\":\"True\",\"box\":{\"visible\":false},\"hovertemplate\":\"genre=%{x}<br>box_office=%{y}<extra></extra>\",\"legendgroup\":\"Biography,Drama\",\"marker\":{\"color\":\"#EF553B\"},\"name\":\"Biography,Drama\",\"offsetgroup\":\"Biography,Drama\",\"orientation\":\"v\",\"scalegroup\":\"True\",\"showlegend\":true,\"x\":[\"Biography,Drama\",\"Biography,Drama\"],\"x0\":\" \",\"xaxis\":\"x\",\"y\":[\"316791257\",\"26023860\"],\"y0\":\" \",\"yaxis\":\"y\",\"type\":\"violin\"},{\"alignmentgroup\":\"True\",\"box\":{\"visible\":false},\"hovertemplate\":\"genre=%{x}<br>box_office=%{y}<extra></extra>\",\"legendgroup\":\"Action,Drama,Thriller\",\"marker\":{\"color\":\"#00cc96\"},\"name\":\"Action,Drama,Thriller\",\"offsetgroup\":\"Action,Drama,Thriller\",\"orientation\":\"v\",\"scalegroup\":\"True\",\"showlegend\":true,\"x\":[\"Action,Drama,Thriller\"],\"x0\":\" \",\"xaxis\":\"x\",\"y\":[\"46808\"],\"y0\":\" \",\"yaxis\":\"y\",\"type\":\"violin\"},{\"alignmentgroup\":\"True\",\"box\":{\"visible\":false},\"hovertemplate\":\"genre=%{x}<br>box_office=%{y}<extra></extra>\",\"legendgroup\":\"Adventure,Drama,Western\",\"marker\":{\"color\":\"#ab63fa\"},\"name\":\"Adventure,Drama,Western\",\"offsetgroup\":\"Adventure,Drama,Western\",\"orientation\":\"v\",\"scalegroup\":\"True\",\"showlegend\":true,\"x\":[\"Adventure,Drama,Western\",\"Adventure,Drama,Western\"],\"x0\":\" \",\"xaxis\":\"x\",\"y\":[\"5014000\",\"424208848\"],\"y0\":\" \",\"yaxis\":\"y\",\"type\":\"violin\"},{\"alignmentgroup\":\"True\",\"box\":{\"visible\":false},\"hovertemplate\":\"genre=%{x}<br>box_office=%{y}<extra></extra>\",\"legendgroup\":\"Adventure,Comedy,Fantasy\",\"marker\":{\"color\":\"#FFA15A\"},\"name\":\"Adventure,Comedy,Fantasy\",\"offsetgroup\":\"Adventure,Comedy,Fantasy\",\"orientation\":\"v\",\"scalegroup\":\"True\",\"showlegend\":true,\"x\":[\"Adventure,Comedy,Fantasy\"],\"x0\":\" \",\"xaxis\":\"x\",\"y\":[\"1940906\"],\"y0\":\" \",\"yaxis\":\"y\",\"type\":\"violin\"},{\"alignmentgroup\":\"True\",\"box\":{\"visible\":false},\"hovertemplate\":\"genre=%{x}<br>box_office=%{y}<extra></extra>\",\"legendgroup\":\"Adventure,Drama,History\",\"marker\":{\"color\":\"#19d3f3\"},\"name\":\"Adventure,Drama,History\",\"offsetgroup\":\"Adventure,Drama,History\",\"orientation\":\"v\",\"scalegroup\":\"True\",\"showlegend\":true,\"x\":[\"Adventure,Drama,History\"],\"x0\":\" \",\"xaxis\":\"x\",\"y\":[\"228178\"],\"y0\":\" \",\"yaxis\":\"y\",\"type\":\"violin\"},{\"alignmentgroup\":\"True\",\"box\":{\"visible\":false},\"hovertemplate\":\"genre=%{x}<br>box_office=%{y}<extra></extra>\",\"legendgroup\":\"Horror,Mystery,Sci-Fi\",\"marker\":{\"color\":\"#FF6692\"},\"name\":\"Horror,Mystery,Sci-Fi\",\"offsetgroup\":\"Horror,Mystery,Sci-Fi\",\"orientation\":\"v\",\"scalegroup\":\"True\",\"showlegend\":true,\"x\":[\"Horror,Mystery,Sci-Fi\"],\"x0\":\" \",\"xaxis\":\"x\",\"y\":[\"19632715\"],\"y0\":\" \",\"yaxis\":\"y\",\"type\":\"violin\"},{\"alignmentgroup\":\"True\",\"box\":{\"visible\":false},\"hovertemplate\":\"genre=%{x}<br>box_office=%{y}<extra></extra>\",\"legendgroup\":\"Biography,Drama,Sport\",\"marker\":{\"color\":\"#B6E880\"},\"name\":\"Biography,Drama,Sport\",\"offsetgroup\":\"Biography,Drama,Sport\",\"orientation\":\"v\",\"scalegroup\":\"True\",\"showlegend\":true,\"x\":[\"Biography,Drama,Sport\"],\"x0\":\" \",\"xaxis\":\"x\",\"y\":[\"23402427\"],\"y0\":\" \",\"yaxis\":\"y\",\"type\":\"violin\"},{\"alignmentgroup\":\"True\",\"box\":{\"visible\":false},\"hovertemplate\":\"genre=%{x}<br>box_office=%{y}<extra></extra>\",\"legendgroup\":\"Action,Drama,Sci-Fi\",\"marker\":{\"color\":\"#FF97FF\"},\"name\":\"Action,Drama,Sci-Fi\",\"offsetgroup\":\"Action,Drama,Sci-Fi\",\"orientation\":\"v\",\"scalegroup\":\"True\",\"showlegend\":true,\"x\":[\"Action,Drama,Sci-Fi\",\"Action,Drama,Sci-Fi\",\"Action,Drama,Sci-Fi\"],\"x0\":\" \",\"xaxis\":\"x\",\"y\":[\"134686457\",\"41722424\",\"619179950\"],\"y0\":\" \",\"yaxis\":\"y\",\"type\":\"violin\"},{\"alignmentgroup\":\"True\",\"box\":{\"visible\":false},\"hovertemplate\":\"genre=%{x}<br>box_office=%{y}<extra></extra>\",\"legendgroup\":\"Action,Comedy,Crime\",\"marker\":{\"color\":\"#FECB52\"},\"name\":\"Action,Comedy,Crime\",\"offsetgroup\":\"Action,Comedy,Crime\",\"orientation\":\"v\",\"scalegroup\":\"True\",\"showlegend\":true,\"x\":[\"Action,Comedy,Crime\"],\"x0\":\" \",\"xaxis\":\"x\",\"y\":[\"3753929\"],\"y0\":\" \",\"yaxis\":\"y\",\"type\":\"violin\"},{\"alignmentgroup\":\"True\",\"box\":{\"visible\":false},\"hovertemplate\":\"genre=%{x}<br>box_office=%{y}<extra></extra>\",\"legendgroup\":\"Drama,Mystery,Romance\",\"marker\":{\"color\":\"#636efa\"},\"name\":\"Drama,Mystery,Romance\",\"offsetgroup\":\"Drama,Mystery,Romance\",\"orientation\":\"v\",\"scalegroup\":\"True\",\"showlegend\":true,\"x\":[\"Drama,Mystery,Romance\"],\"x0\":\" \",\"xaxis\":\"x\",\"y\":[0],\"y0\":\" \",\"yaxis\":\"y\",\"type\":\"violin\"},{\"alignmentgroup\":\"True\",\"box\":{\"visible\":false},\"hovertemplate\":\"genre=%{x}<br>box_office=%{y}<extra></extra>\",\"legendgroup\":\"Action,Drama,Sport\",\"marker\":{\"color\":\"#EF553B\"},\"name\":\"Action,Drama,Sport\",\"offsetgroup\":\"Action,Drama,Sport\",\"orientation\":\"v\",\"scalegroup\":\"True\",\"showlegend\":true,\"x\":[\"Action,Drama,Sport\"],\"x0\":\" \",\"xaxis\":\"x\",\"y\":[\"23308615\"],\"y0\":\" \",\"yaxis\":\"y\",\"type\":\"violin\"},{\"alignmentgroup\":\"True\",\"box\":{\"visible\":false},\"hovertemplate\":\"genre=%{x}<br>box_office=%{y}<extra></extra>\",\"legendgroup\":\"Animation,Comedy,Family\",\"marker\":{\"color\":\"#00cc96\"},\"name\":\"Animation,Comedy,Family\",\"offsetgroup\":\"Animation,Comedy,Family\",\"orientation\":\"v\",\"scalegroup\":\"True\",\"showlegend\":true,\"x\":[\"Animation,Comedy,Family\"],\"x0\":\" \",\"xaxis\":\"x\",\"y\":[0],\"y0\":\" \",\"yaxis\":\"y\",\"type\":\"violin\"},{\"alignmentgroup\":\"True\",\"box\":{\"visible\":false},\"hovertemplate\":\"genre=%{x}<br>box_office=%{y}<extra></extra>\",\"legendgroup\":\"Drama,Sport\",\"marker\":{\"color\":\"#ab63fa\"},\"name\":\"Drama,Sport\",\"offsetgroup\":\"Drama,Sport\",\"orientation\":\"v\",\"scalegroup\":\"True\",\"showlegend\":true,\"x\":[\"Drama,Sport\",\"Drama,Sport\"],\"x0\":\" \",\"xaxis\":\"x\",\"y\":[\"216763646\",\"117250402\"],\"y0\":\" \",\"yaxis\":\"y\",\"type\":\"violin\"},{\"alignmentgroup\":\"True\",\"box\":{\"visible\":false},\"hovertemplate\":\"genre=%{x}<br>box_office=%{y}<extra></extra>\",\"legendgroup\":\"Drama,Family,Sport\",\"marker\":{\"color\":\"#FFA15A\"},\"name\":\"Drama,Family,Sport\",\"offsetgroup\":\"Drama,Family,Sport\",\"orientation\":\"v\",\"scalegroup\":\"True\",\"showlegend\":true,\"x\":[\"Drama,Family,Sport\"],\"x0\":\" \",\"xaxis\":\"x\",\"y\":[0],\"y0\":\" \",\"yaxis\":\"y\",\"type\":\"violin\"},{\"alignmentgroup\":\"True\",\"box\":{\"visible\":false},\"hovertemplate\":\"genre=%{x}<br>box_office=%{y}<extra></extra>\",\"legendgroup\":\"Adventure,Comedy,Drama\",\"marker\":{\"color\":\"#19d3f3\"},\"name\":\"Adventure,Comedy,Drama\",\"offsetgroup\":\"Adventure,Comedy,Drama\",\"orientation\":\"v\",\"scalegroup\":\"True\",\"showlegend\":true,\"x\":[\"Adventure,Comedy,Drama\"],\"x0\":\" \",\"xaxis\":\"x\",\"y\":[\"29328\"],\"y0\":\" \",\"yaxis\":\"y\",\"type\":\"violin\"},{\"alignmentgroup\":\"True\",\"box\":{\"visible\":false},\"hovertemplate\":\"genre=%{x}<br>box_office=%{y}<extra></extra>\",\"legendgroup\":\"Adventure,Family,Fantasy\",\"marker\":{\"color\":\"#FF6692\"},\"name\":\"Adventure,Family,Fantasy\",\"offsetgroup\":\"Adventure,Family,Fantasy\",\"orientation\":\"v\",\"scalegroup\":\"True\",\"showlegend\":true,\"x\":[\"Adventure,Family,Fantasy\",\"Adventure,Family,Fantasy\"],\"x0\":\" \",\"xaxis\":\"x\",\"y\":[\"1342359942\",\"25637669\"],\"y0\":\" \",\"yaxis\":\"y\",\"type\":\"violin\"},{\"alignmentgroup\":\"True\",\"box\":{\"visible\":false},\"hovertemplate\":\"genre=%{x}<br>box_office=%{y}<extra></extra>\",\"legendgroup\":\"Adventure,Drama\",\"marker\":{\"color\":\"#B6E880\"},\"name\":\"Adventure,Drama\",\"offsetgroup\":\"Adventure,Drama\",\"orientation\":\"v\",\"scalegroup\":\"True\",\"showlegend\":true,\"x\":[\"Adventure,Drama\",\"Adventure,Drama\"],\"x0\":\" \",\"xaxis\":\"x\",\"y\":[\"74437720\",\"52287414\"],\"y0\":\" \",\"yaxis\":\"y\",\"type\":\"violin\"},{\"alignmentgroup\":\"True\",\"box\":{\"visible\":false},\"hovertemplate\":\"genre=%{x}<br>box_office=%{y}<extra></extra>\",\"legendgroup\":\"Adventure,Comedy,Crime\",\"marker\":{\"color\":\"#FF97FF\"},\"name\":\"Adventure,Comedy,Crime\",\"offsetgroup\":\"Adventure,Comedy,Crime\",\"orientation\":\"v\",\"scalegroup\":\"True\",\"showlegend\":true,\"x\":[\"Adventure,Comedy,Crime\"],\"x0\":\" \",\"xaxis\":\"x\",\"y\":[\"173082189\"],\"y0\":\" \",\"yaxis\":\"y\",\"type\":\"violin\"},{\"alignmentgroup\":\"True\",\"box\":{\"visible\":false},\"hovertemplate\":\"genre=%{x}<br>box_office=%{y}<extra></extra>\",\"legendgroup\":\"Action,Adventure,Comedy\",\"marker\":{\"color\":\"#FECB52\"},\"name\":\"Action,Adventure,Comedy\",\"offsetgroup\":\"Action,Adventure,Comedy\",\"orientation\":\"v\",\"scalegroup\":\"True\",\"showlegend\":true,\"x\":[\"Action,Adventure,Comedy\"],\"x0\":\" \",\"xaxis\":\"x\",\"y\":[\"750000 (estimated)\"],\"y0\":\" \",\"yaxis\":\"y\",\"type\":\"violin\"},{\"alignmentgroup\":\"True\",\"box\":{\"visible\":false},\"hovertemplate\":\"genre=%{x}<br>box_office=%{y}<extra></extra>\",\"legendgroup\":\"Film-Noir,Mystery,Thriller\",\"marker\":{\"color\":\"#636efa\"},\"name\":\"Film-Noir,Mystery,Thriller\",\"offsetgroup\":\"Film-Noir,Mystery,Thriller\",\"orientation\":\"v\",\"scalegroup\":\"True\",\"showlegend\":true,\"x\":[\"Film-Noir,Mystery,Thriller\"],\"x0\":\" \",\"xaxis\":\"x\",\"y\":[\"1226507\"],\"y0\":\" \",\"yaxis\":\"y\",\"type\":\"violin\"},{\"alignmentgroup\":\"True\",\"box\":{\"visible\":false},\"hovertemplate\":\"genre=%{x}<br>box_office=%{y}<extra></extra>\",\"legendgroup\":\"Adventure,Drama,Thriller\",\"marker\":{\"color\":\"#EF553B\"},\"name\":\"Adventure,Drama,Thriller\",\"offsetgroup\":\"Adventure,Drama,Thriller\",\"orientation\":\"v\",\"scalegroup\":\"True\",\"showlegend\":true,\"x\":[\"Adventure,Drama,Thriller\"],\"x0\":\" \",\"xaxis\":\"x\",\"y\":[\"1098\"],\"y0\":\" \",\"yaxis\":\"y\",\"type\":\"violin\"},{\"alignmentgroup\":\"True\",\"box\":{\"visible\":false},\"hovertemplate\":\"genre=%{x}<br>box_office=%{y}<extra></extra>\",\"legendgroup\":\"Action,Comedy,Romance\",\"marker\":{\"color\":\"#00cc96\"},\"name\":\"Action,Comedy,Romance\",\"offsetgroup\":\"Action,Comedy,Romance\",\"orientation\":\"v\",\"scalegroup\":\"True\",\"showlegend\":true,\"x\":[\"Action,Comedy,Romance\"],\"x0\":\" \",\"xaxis\":\"x\",\"y\":[0],\"y0\":\" \",\"yaxis\":\"y\",\"type\":\"violin\"},{\"alignmentgroup\":\"True\",\"box\":{\"visible\":false},\"hovertemplate\":\"genre=%{x}<br>box_office=%{y}<extra></extra>\",\"legendgroup\":\"Comedy,Drama,Thriller\",\"marker\":{\"color\":\"#ab63fa\"},\"name\":\"Comedy,Drama,Thriller\",\"offsetgroup\":\"Comedy,Drama,Thriller\",\"orientation\":\"v\",\"scalegroup\":\"True\",\"showlegend\":true,\"x\":[\"Comedy,Drama,Thriller\"],\"x0\":\" \",\"xaxis\":\"x\",\"y\":[0],\"y0\":\" \",\"yaxis\":\"y\",\"type\":\"violin\"},{\"alignmentgroup\":\"True\",\"box\":{\"visible\":false},\"hovertemplate\":\"genre=%{x}<br>box_office=%{y}<extra></extra>\",\"legendgroup\":\"Drama,Fantasy\",\"marker\":{\"color\":\"#FFA15A\"},\"name\":\"Drama,Fantasy\",\"offsetgroup\":\"Drama,Fantasy\",\"orientation\":\"v\",\"scalegroup\":\"True\",\"showlegend\":true,\"x\":[\"Drama,Fantasy\"],\"x0\":\" \",\"xaxis\":\"x\",\"y\":[\"311212\"],\"y0\":\" \",\"yaxis\":\"y\",\"type\":\"violin\"},{\"alignmentgroup\":\"True\",\"box\":{\"visible\":false},\"hovertemplate\":\"genre=%{x}<br>box_office=%{y}<extra></extra>\",\"legendgroup\":\"Animation,Comedy,Drama\",\"marker\":{\"color\":\"#19d3f3\"},\"name\":\"Animation,Comedy,Drama\",\"offsetgroup\":\"Animation,Comedy,Drama\",\"orientation\":\"v\",\"scalegroup\":\"True\",\"showlegend\":true,\"x\":[\"Animation,Comedy,Drama\"],\"x0\":\" \",\"xaxis\":\"x\",\"y\":[\"1740429\"],\"y0\":\" \",\"yaxis\":\"y\",\"type\":\"violin\"},{\"alignmentgroup\":\"True\",\"box\":{\"visible\":false},\"hovertemplate\":\"genre=%{x}<br>box_office=%{y}<extra></extra>\",\"legendgroup\":\"Adventure,Thriller\",\"marker\":{\"color\":\"#FF6692\"},\"name\":\"Adventure,Thriller\",\"offsetgroup\":\"Adventure,Thriller\",\"orientation\":\"v\",\"scalegroup\":\"True\",\"showlegend\":true,\"x\":[\"Adventure,Thriller\"],\"x0\":\" \",\"xaxis\":\"x\",\"y\":[\"476512065\"],\"y0\":\" \",\"yaxis\":\"y\",\"type\":\"violin\"},{\"alignmentgroup\":\"True\",\"box\":{\"visible\":false},\"hovertemplate\":\"genre=%{x}<br>box_office=%{y}<extra></extra>\",\"legendgroup\":\"Comedy,Drama,Fantasy\",\"marker\":{\"color\":\"#B6E880\"},\"name\":\"Comedy,Drama,Fantasy\",\"offsetgroup\":\"Comedy,Drama,Fantasy\",\"orientation\":\"v\",\"scalegroup\":\"True\",\"showlegend\":true,\"x\":[\"Comedy,Drama,Fantasy\"],\"x0\":\" \",\"xaxis\":\"x\",\"y\":[\"71108591\"],\"y0\":\" \",\"yaxis\":\"y\",\"type\":\"violin\"},{\"alignmentgroup\":\"True\",\"box\":{\"visible\":false},\"hovertemplate\":\"genre=%{x}<br>box_office=%{y}<extra></extra>\",\"legendgroup\":\"Horror\",\"marker\":{\"color\":\"#FF97FF\"},\"name\":\"Horror\",\"offsetgroup\":\"Horror\",\"orientation\":\"v\",\"scalegroup\":\"True\",\"showlegend\":true,\"x\":[\"Horror\"],\"x0\":\" \",\"xaxis\":\"x\",\"y\":[\"441306145\"],\"y0\":\" \",\"yaxis\":\"y\",\"type\":\"violin\"},{\"alignmentgroup\":\"True\",\"box\":{\"visible\":false},\"hovertemplate\":\"genre=%{x}<br>box_office=%{y}<extra></extra>\",\"legendgroup\":\"Comedy,Romance,War\",\"marker\":{\"color\":\"#FECB52\"},\"name\":\"Comedy,Romance,War\",\"offsetgroup\":\"Comedy,Romance,War\",\"orientation\":\"v\",\"scalegroup\":\"True\",\"showlegend\":true,\"x\":[\"Comedy,Romance,War\"],\"x0\":\" \",\"xaxis\":\"x\",\"y\":[0],\"y0\":\" \",\"yaxis\":\"y\",\"type\":\"violin\"},{\"alignmentgroup\":\"True\",\"box\":{\"visible\":false},\"hovertemplate\":\"genre=%{x}<br>box_office=%{y}<extra></extra>\",\"legendgroup\":\"Biography,Drama,Family\",\"marker\":{\"color\":\"#636efa\"},\"name\":\"Biography,Drama,Family\",\"offsetgroup\":\"Biography,Drama,Family\",\"orientation\":\"v\",\"scalegroup\":\"True\",\"showlegend\":true,\"x\":[\"Biography,Drama,Family\",\"Biography,Drama,Family\"],\"x0\":\" \",\"xaxis\":\"x\",\"y\":[0,\"159428329\"],\"y0\":\" \",\"yaxis\":\"y\",\"type\":\"violin\"},{\"alignmentgroup\":\"True\",\"box\":{\"visible\":false},\"hovertemplate\":\"genre=%{x}<br>box_office=%{y}<extra></extra>\",\"legendgroup\":\"Drama,Film-Noir,Mystery\",\"marker\":{\"color\":\"#EF553B\"},\"name\":\"Drama,Film-Noir,Mystery\",\"offsetgroup\":\"Drama,Film-Noir,Mystery\",\"orientation\":\"v\",\"scalegroup\":\"True\",\"showlegend\":true,\"x\":[\"Drama,Film-Noir,Mystery\"],\"x0\":\" \",\"xaxis\":\"x\",\"y\":[\"72275\"],\"y0\":\" \",\"yaxis\":\"y\",\"type\":\"violin\"},{\"alignmentgroup\":\"True\",\"box\":{\"visible\":false},\"hovertemplate\":\"genre=%{x}<br>box_office=%{y}<extra></extra>\",\"legendgroup\":\"Drama,Romance,Thriller\",\"marker\":{\"color\":\"#00cc96\"},\"name\":\"Drama,Romance,Thriller\",\"offsetgroup\":\"Drama,Romance,Thriller\",\"orientation\":\"v\",\"scalegroup\":\"True\",\"showlegend\":true,\"x\":[\"Drama,Romance,Thriller\"],\"x0\":\" \",\"xaxis\":\"x\",\"y\":[0],\"y0\":\" \",\"yaxis\":\"y\",\"type\":\"violin\"},{\"alignmentgroup\":\"True\",\"box\":{\"visible\":false},\"hovertemplate\":\"genre=%{x}<br>box_office=%{y}<extra></extra>\",\"legendgroup\":\"Comedy\",\"marker\":{\"color\":\"#ab63fa\"},\"name\":\"Comedy\",\"offsetgroup\":\"Comedy\",\"orientation\":\"v\",\"scalegroup\":\"True\",\"showlegend\":true,\"x\":[\"Comedy\"],\"x0\":\" \",\"xaxis\":\"x\",\"y\":[\"20745728\"],\"y0\":\" \",\"yaxis\":\"y\",\"type\":\"violin\"}],                        {\"template\":{\"data\":{\"histogram2dcontour\":[{\"type\":\"histogram2dcontour\",\"colorbar\":{\"outlinewidth\":0,\"ticks\":\"\"},\"colorscale\":[[0.0,\"#0d0887\"],[0.1111111111111111,\"#46039f\"],[0.2222222222222222,\"#7201a8\"],[0.3333333333333333,\"#9c179e\"],[0.4444444444444444,\"#bd3786\"],[0.5555555555555556,\"#d8576b\"],[0.6666666666666666,\"#ed7953\"],[0.7777777777777778,\"#fb9f3a\"],[0.8888888888888888,\"#fdca26\"],[1.0,\"#f0f921\"]]}],\"choropleth\":[{\"type\":\"choropleth\",\"colorbar\":{\"outlinewidth\":0,\"ticks\":\"\"}}],\"histogram2d\":[{\"type\":\"histogram2d\",\"colorbar\":{\"outlinewidth\":0,\"ticks\":\"\"},\"colorscale\":[[0.0,\"#0d0887\"],[0.1111111111111111,\"#46039f\"],[0.2222222222222222,\"#7201a8\"],[0.3333333333333333,\"#9c179e\"],[0.4444444444444444,\"#bd3786\"],[0.5555555555555556,\"#d8576b\"],[0.6666666666666666,\"#ed7953\"],[0.7777777777777778,\"#fb9f3a\"],[0.8888888888888888,\"#fdca26\"],[1.0,\"#f0f921\"]]}],\"heatmap\":[{\"type\":\"heatmap\",\"colorbar\":{\"outlinewidth\":0,\"ticks\":\"\"},\"colorscale\":[[0.0,\"#0d0887\"],[0.1111111111111111,\"#46039f\"],[0.2222222222222222,\"#7201a8\"],[0.3333333333333333,\"#9c179e\"],[0.4444444444444444,\"#bd3786\"],[0.5555555555555556,\"#d8576b\"],[0.6666666666666666,\"#ed7953\"],[0.7777777777777778,\"#fb9f3a\"],[0.8888888888888888,\"#fdca26\"],[1.0,\"#f0f921\"]]}],\"heatmapgl\":[{\"type\":\"heatmapgl\",\"colorbar\":{\"outlinewidth\":0,\"ticks\":\"\"},\"colorscale\":[[0.0,\"#0d0887\"],[0.1111111111111111,\"#46039f\"],[0.2222222222222222,\"#7201a8\"],[0.3333333333333333,\"#9c179e\"],[0.4444444444444444,\"#bd3786\"],[0.5555555555555556,\"#d8576b\"],[0.6666666666666666,\"#ed7953\"],[0.7777777777777778,\"#fb9f3a\"],[0.8888888888888888,\"#fdca26\"],[1.0,\"#f0f921\"]]}],\"contourcarpet\":[{\"type\":\"contourcarpet\",\"colorbar\":{\"outlinewidth\":0,\"ticks\":\"\"}}],\"contour\":[{\"type\":\"contour\",\"colorbar\":{\"outlinewidth\":0,\"ticks\":\"\"},\"colorscale\":[[0.0,\"#0d0887\"],[0.1111111111111111,\"#46039f\"],[0.2222222222222222,\"#7201a8\"],[0.3333333333333333,\"#9c179e\"],[0.4444444444444444,\"#bd3786\"],[0.5555555555555556,\"#d8576b\"],[0.6666666666666666,\"#ed7953\"],[0.7777777777777778,\"#fb9f3a\"],[0.8888888888888888,\"#fdca26\"],[1.0,\"#f0f921\"]]}],\"surface\":[{\"type\":\"surface\",\"colorbar\":{\"outlinewidth\":0,\"ticks\":\"\"},\"colorscale\":[[0.0,\"#0d0887\"],[0.1111111111111111,\"#46039f\"],[0.2222222222222222,\"#7201a8\"],[0.3333333333333333,\"#9c179e\"],[0.4444444444444444,\"#bd3786\"],[0.5555555555555556,\"#d8576b\"],[0.6666666666666666,\"#ed7953\"],[0.7777777777777778,\"#fb9f3a\"],[0.8888888888888888,\"#fdca26\"],[1.0,\"#f0f921\"]]}],\"mesh3d\":[{\"type\":\"mesh3d\",\"colorbar\":{\"outlinewidth\":0,\"ticks\":\"\"}}],\"scatter\":[{\"fillpattern\":{\"fillmode\":\"overlay\",\"size\":10,\"solidity\":0.2},\"type\":\"scatter\"}],\"parcoords\":[{\"type\":\"parcoords\",\"line\":{\"colorbar\":{\"outlinewidth\":0,\"ticks\":\"\"}}}],\"scatterpolargl\":[{\"type\":\"scatterpolargl\",\"marker\":{\"colorbar\":{\"outlinewidth\":0,\"ticks\":\"\"}}}],\"bar\":[{\"error_x\":{\"color\":\"#2a3f5f\"},\"error_y\":{\"color\":\"#2a3f5f\"},\"marker\":{\"line\":{\"color\":\"#E5ECF6\",\"width\":0.5},\"pattern\":{\"fillmode\":\"overlay\",\"size\":10,\"solidity\":0.2}},\"type\":\"bar\"}],\"scattergeo\":[{\"type\":\"scattergeo\",\"marker\":{\"colorbar\":{\"outlinewidth\":0,\"ticks\":\"\"}}}],\"scatterpolar\":[{\"type\":\"scatterpolar\",\"marker\":{\"colorbar\":{\"outlinewidth\":0,\"ticks\":\"\"}}}],\"histogram\":[{\"marker\":{\"pattern\":{\"fillmode\":\"overlay\",\"size\":10,\"solidity\":0.2}},\"type\":\"histogram\"}],\"scattergl\":[{\"type\":\"scattergl\",\"marker\":{\"colorbar\":{\"outlinewidth\":0,\"ticks\":\"\"}}}],\"scatter3d\":[{\"type\":\"scatter3d\",\"line\":{\"colorbar\":{\"outlinewidth\":0,\"ticks\":\"\"}},\"marker\":{\"colorbar\":{\"outlinewidth\":0,\"ticks\":\"\"}}}],\"scattermapbox\":[{\"type\":\"scattermapbox\",\"marker\":{\"colorbar\":{\"outlinewidth\":0,\"ticks\":\"\"}}}],\"scatterternary\":[{\"type\":\"scatterternary\",\"marker\":{\"colorbar\":{\"outlinewidth\":0,\"ticks\":\"\"}}}],\"scattercarpet\":[{\"type\":\"scattercarpet\",\"marker\":{\"colorbar\":{\"outlinewidth\":0,\"ticks\":\"\"}}}],\"carpet\":[{\"aaxis\":{\"endlinecolor\":\"#2a3f5f\",\"gridcolor\":\"white\",\"linecolor\":\"white\",\"minorgridcolor\":\"white\",\"startlinecolor\":\"#2a3f5f\"},\"baxis\":{\"endlinecolor\":\"#2a3f5f\",\"gridcolor\":\"white\",\"linecolor\":\"white\",\"minorgridcolor\":\"white\",\"startlinecolor\":\"#2a3f5f\"},\"type\":\"carpet\"}],\"table\":[{\"cells\":{\"fill\":{\"color\":\"#EBF0F8\"},\"line\":{\"color\":\"white\"}},\"header\":{\"fill\":{\"color\":\"#C8D4E3\"},\"line\":{\"color\":\"white\"}},\"type\":\"table\"}],\"barpolar\":[{\"marker\":{\"line\":{\"color\":\"#E5ECF6\",\"width\":0.5},\"pattern\":{\"fillmode\":\"overlay\",\"size\":10,\"solidity\":0.2}},\"type\":\"barpolar\"}],\"pie\":[{\"automargin\":true,\"type\":\"pie\"}]},\"layout\":{\"autotypenumbers\":\"strict\",\"colorway\":[\"#636efa\",\"#EF553B\",\"#00cc96\",\"#ab63fa\",\"#FFA15A\",\"#19d3f3\",\"#FF6692\",\"#B6E880\",\"#FF97FF\",\"#FECB52\"],\"font\":{\"color\":\"#2a3f5f\"},\"hovermode\":\"closest\",\"hoverlabel\":{\"align\":\"left\"},\"paper_bgcolor\":\"white\",\"plot_bgcolor\":\"#E5ECF6\",\"polar\":{\"bgcolor\":\"#E5ECF6\",\"angularaxis\":{\"gridcolor\":\"white\",\"linecolor\":\"white\",\"ticks\":\"\"},\"radialaxis\":{\"gridcolor\":\"white\",\"linecolor\":\"white\",\"ticks\":\"\"}},\"ternary\":{\"bgcolor\":\"#E5ECF6\",\"aaxis\":{\"gridcolor\":\"white\",\"linecolor\":\"white\",\"ticks\":\"\"},\"baxis\":{\"gridcolor\":\"white\",\"linecolor\":\"white\",\"ticks\":\"\"},\"caxis\":{\"gridcolor\":\"white\",\"linecolor\":\"white\",\"ticks\":\"\"}},\"coloraxis\":{\"colorbar\":{\"outlinewidth\":0,\"ticks\":\"\"}},\"colorscale\":{\"sequential\":[[0.0,\"#0d0887\"],[0.1111111111111111,\"#46039f\"],[0.2222222222222222,\"#7201a8\"],[0.3333333333333333,\"#9c179e\"],[0.4444444444444444,\"#bd3786\"],[0.5555555555555556,\"#d8576b\"],[0.6666666666666666,\"#ed7953\"],[0.7777777777777778,\"#fb9f3a\"],[0.8888888888888888,\"#fdca26\"],[1.0,\"#f0f921\"]],\"sequentialminus\":[[0.0,\"#0d0887\"],[0.1111111111111111,\"#46039f\"],[0.2222222222222222,\"#7201a8\"],[0.3333333333333333,\"#9c179e\"],[0.4444444444444444,\"#bd3786\"],[0.5555555555555556,\"#d8576b\"],[0.6666666666666666,\"#ed7953\"],[0.7777777777777778,\"#fb9f3a\"],[0.8888888888888888,\"#fdca26\"],[1.0,\"#f0f921\"]],\"diverging\":[[0,\"#8e0152\"],[0.1,\"#c51b7d\"],[0.2,\"#de77ae\"],[0.3,\"#f1b6da\"],[0.4,\"#fde0ef\"],[0.5,\"#f7f7f7\"],[0.6,\"#e6f5d0\"],[0.7,\"#b8e186\"],[0.8,\"#7fbc41\"],[0.9,\"#4d9221\"],[1,\"#276419\"]]},\"xaxis\":{\"gridcolor\":\"white\",\"linecolor\":\"white\",\"ticks\":\"\",\"title\":{\"standoff\":15},\"zerolinecolor\":\"white\",\"automargin\":true,\"zerolinewidth\":2},\"yaxis\":{\"gridcolor\":\"white\",\"linecolor\":\"white\",\"ticks\":\"\",\"title\":{\"standoff\":15},\"zerolinecolor\":\"white\",\"automargin\":true,\"zerolinewidth\":2},\"scene\":{\"xaxis\":{\"backgroundcolor\":\"#E5ECF6\",\"gridcolor\":\"white\",\"linecolor\":\"white\",\"showbackground\":true,\"ticks\":\"\",\"zerolinecolor\":\"white\",\"gridwidth\":2},\"yaxis\":{\"backgroundcolor\":\"#E5ECF6\",\"gridcolor\":\"white\",\"linecolor\":\"white\",\"showbackground\":true,\"ticks\":\"\",\"zerolinecolor\":\"white\",\"gridwidth\":2},\"zaxis\":{\"backgroundcolor\":\"#E5ECF6\",\"gridcolor\":\"white\",\"linecolor\":\"white\",\"showbackground\":true,\"ticks\":\"\",\"zerolinecolor\":\"white\",\"gridwidth\":2}},\"shapedefaults\":{\"line\":{\"color\":\"#2a3f5f\"}},\"annotationdefaults\":{\"arrowcolor\":\"#2a3f5f\",\"arrowhead\":0,\"arrowwidth\":1},\"geo\":{\"bgcolor\":\"white\",\"landcolor\":\"#E5ECF6\",\"subunitcolor\":\"white\",\"showland\":true,\"showlakes\":true,\"lakecolor\":\"white\"},\"title\":{\"x\":0.05},\"mapbox\":{\"style\":\"light\"}}},\"xaxis\":{\"anchor\":\"y\",\"domain\":[0.0,1.0],\"title\":{\"text\":\"genre\"},\"categoryorder\":\"array\",\"categoryarray\":[\"Drama\",\"Crime,Drama\",\"Action,Crime,Drama\",\"Biography,Drama,History\",\"Action,Adventure,Drama\",\"Adventure,Western\",\"Drama,Romance\",\"Action,Adventure,Sci-Fi\",\"Action,Adventure,Fantasy\",\"Action,Sci-Fi\",\"Biography,Crime,Drama\",\"Crime,Drama,Mystery\",\"Action,Drama\",\"Drama,Family,Fantasy\",\"Crime,Drama,Thriller\",\"Drama,War\",\"Adventure,Drama,Sci-Fi\",\"Comedy,Drama,Romance\",\"Crime,Drama,Fantasy\",\"Adventure,Comedy,Sci-Fi\",\"Animation,Adventure,Family\",\"Biography,Drama,Music\",\"Horror,Mystery,Thriller\",\"Drama,Thriller\",\"Animation,Adventure,Drama\",\"Drama,Mystery,Sci-Fi\",\"Drama,Music\",\"Drama,Romance,War\",\"Animation,Drama,War\",\"Action,Drama,Mystery\",\"Biography,Comedy,Drama\",\"Western\",\"Mystery,Thriller\",\"Horror,Sci-Fi\",\"Drama,Mystery,War\",\"Drama,Western\",\"Action,Adventure\",\"Drama,Mystery,Thriller\",\"Drama,Film-Noir\",\"Drama,Horror\",\"Comedy,Drama,War\",\"Animation,Action,Adventure\",\"Comedy,War\",\"Adventure,Drama,War\",\"Animation,Adventure,Comedy\",\"Animation,Drama,Fantasy\",\"Comedy,Drama\",\"Comedy,Musical,Romance\",\"Drama,Romance,Sci-Fi\",\"Adventure,Sci-Fi\",\"Crime,Thriller\",\"Drama,Thriller,War\",\"Drama,Mystery\",\"Crime,Mystery,Thriller\",\"Adventure,Biography,Drama\",\"Action,Adventure,Mystery\",\"Mystery,Romance,Thriller\",\"Comedy,Romance\",\"Crime,Sci-Fi\",\"Crime,Drama,Film-Noir\",\"Comedy,Crime,Drama\",\"Drama,Sci-Fi\",\"Action,Thriller\",\"Comedy,Crime\",\"Drama,Family\",\"Action,Drama,War\",\"Action,Biography,Drama\",\"Comedy,Drama,Family\",\"Comedy,Music,Romance\",\"Biography,Comedy,Crime\",\"Drama,Fantasy,War\",\"Biography,Drama\",\"Action,Drama,Thriller\",\"Adventure,Drama,Western\",\"Adventure,Comedy,Fantasy\",\"Adventure,Drama,History\",\"Horror,Mystery,Sci-Fi\",\"Biography,Drama,Sport\",\"Action,Drama,Sci-Fi\",\"Action,Comedy,Crime\",\"Drama,Mystery,Romance\",\"Action,Drama,Sport\",\"Animation,Comedy,Family\",\"Drama,Sport\",\"Drama,Family,Sport\",\"Adventure,Comedy,Drama\",\"Adventure,Family,Fantasy\",\"Adventure,Drama\",\"Adventure,Comedy,Crime\",\"Action,Adventure,Comedy\",\"Film-Noir,Mystery,Thriller\",\"Adventure,Drama,Thriller\",\"Action,Comedy,Romance\",\"Comedy,Drama,Thriller\",\"Drama,Fantasy\",\"Animation,Comedy,Drama\",\"Adventure,Thriller\",\"Comedy,Drama,Fantasy\",\"Horror\",\"Comedy,Romance,War\",\"Biography,Drama,Family\",\"Drama,Film-Noir,Mystery\",\"Drama,Romance,Thriller\",\"Comedy\"]},\"yaxis\":{\"anchor\":\"x\",\"domain\":[0.0,1.0],\"title\":{\"text\":\"box_office\"}},\"legend\":{\"title\":{\"text\":\"genre\"},\"tracegroupgap\":0},\"title\":{\"text\":\"Box Office by Genre\"},\"violinmode\":\"overlay\"},                        {\"responsive\": true}                    ).then(function(){\n",
       "                            \n",
       "var gd = document.getElementById('042f6088-dab5-495e-98aa-1434966b69dc');\n",
       "var x = new MutationObserver(function (mutations, observer) {{\n",
       "        var display = window.getComputedStyle(gd).display;\n",
       "        if (!display || display === 'none') {{\n",
       "            console.log([gd, 'removed!']);\n",
       "            Plotly.purge(gd);\n",
       "            observer.disconnect();\n",
       "        }}\n",
       "}});\n",
       "\n",
       "// Listen for the removal of the full notebook cells\n",
       "var notebookContainer = gd.closest('#notebook-container');\n",
       "if (notebookContainer) {{\n",
       "    x.observe(notebookContainer, {childList: true});\n",
       "}}\n",
       "\n",
       "// Listen for the clearing of the current output cell\n",
       "var outputEl = gd.closest('.output');\n",
       "if (outputEl) {{\n",
       "    x.observe(outputEl, {childList: true});\n",
       "}}\n",
       "\n",
       "                        })                };                });            </script>        </div>"
      ]
     },
     "metadata": {},
     "output_type": "display_data"
    }
   ],
   "source": [
    "fig = px.violin(df, x='genre', y='box_office', color='genre', title='Box Office by Genre')\n",
    "fig.show()"
   ]
  },
  {
   "cell_type": "markdown",
   "id": "92f292ea",
   "metadata": {},
   "source": [
    "## Top 10 movies by rating"
   ]
  },
  {
   "cell_type": "code",
   "execution_count": 15,
   "id": "96838976",
   "metadata": {},
   "outputs": [
    {
     "data": {
      "image/png": "[encoded data removed]",
      "text/plain": [
       "<Figure size 640x480 with 1 Axes>"
      ]
     },
     "metadata": {},
     "output_type": "display_data"
    },
    {
     "data": {
      "text/html": [
       "<div>\n",
       "<style scoped>\n",
       "    .dataframe tbody tr th:only-of-type {\n",
       "        vertical-align: middle;\n",
       "    }\n",
       "\n",
       "    .dataframe tbody tr th {\n",
       "        vertical-align: top;\n",
       "    }\n",
       "\n",
       "    .dataframe thead th {\n",
       "        text-align: right;\n",
       "    }\n",
       "</style>\n",
       "<table border=\"1\" class=\"dataframe\">\n",
       "  <thead>\n",
       "    <tr style=\"text-align: right;\">\n",
       "      <th></th>\n",
       "      <th>rank</th>\n",
       "      <th>name</th>\n",
       "      <th>year</th>\n",
       "      <th>rating</th>\n",
       "      <th>genre</th>\n",
       "      <th>certificate</th>\n",
       "      <th>run_time</th>\n",
       "      <th>tagline</th>\n",
       "      <th>budget</th>\n",
       "      <th>box_office</th>\n",
       "      <th>casts</th>\n",
       "      <th>directors</th>\n",
       "      <th>writers</th>\n",
       "      <th>genre_1</th>\n",
       "      <th>genre_2</th>\n",
       "      <th>genre_3</th>\n",
       "    </tr>\n",
       "  </thead>\n",
       "  <tbody>\n",
       "    <tr>\n",
       "      <th>0</th>\n",
       "      <td>1</td>\n",
       "      <td>The Shawshank Redemption</td>\n",
       "      <td>1994</td>\n",
       "      <td>9.3</td>\n",
       "      <td>Drama</td>\n",
       "      <td>R</td>\n",
       "      <td>2h 22m</td>\n",
       "      <td>Fear can hold you prisoner. Hope can set you f...</td>\n",
       "      <td>25000000</td>\n",
       "      <td>28884504</td>\n",
       "      <td>Tim Robbins,Morgan Freeman,Bob Gunton,William ...</td>\n",
       "      <td>Frank Darabont</td>\n",
       "      <td>Stephen King,Frank Darabont</td>\n",
       "      <td>Drama</td>\n",
       "      <td>None</td>\n",
       "      <td>None</td>\n",
       "    </tr>\n",
       "    <tr>\n",
       "      <th>1</th>\n",
       "      <td>2</td>\n",
       "      <td>The Godfather</td>\n",
       "      <td>1972</td>\n",
       "      <td>9.2</td>\n",
       "      <td>Crime,Drama</td>\n",
       "      <td>R</td>\n",
       "      <td>2h 55m</td>\n",
       "      <td>An offer you can't refuse.</td>\n",
       "      <td>6000000</td>\n",
       "      <td>250341816</td>\n",
       "      <td>Marlon Brando,Al Pacino,James Caan,Diane Keato...</td>\n",
       "      <td>Francis Ford Coppola</td>\n",
       "      <td>Mario Puzo,Francis Ford Coppola</td>\n",
       "      <td>Crime</td>\n",
       "      <td>Drama</td>\n",
       "      <td>None</td>\n",
       "    </tr>\n",
       "    <tr>\n",
       "      <th>2</th>\n",
       "      <td>3</td>\n",
       "      <td>The Dark Knight</td>\n",
       "      <td>2008</td>\n",
       "      <td>9.0</td>\n",
       "      <td>Action,Crime,Drama</td>\n",
       "      <td>PG-13</td>\n",
       "      <td>2h 32m</td>\n",
       "      <td>Why So Serious?</td>\n",
       "      <td>185000000</td>\n",
       "      <td>1006234167</td>\n",
       "      <td>Christian Bale,Heath Ledger,Aaron Eckhart,Mich...</td>\n",
       "      <td>Christopher Nolan</td>\n",
       "      <td>Jonathan Nolan,Christopher Nolan,David S. Goyer</td>\n",
       "      <td>Action</td>\n",
       "      <td>Crime</td>\n",
       "      <td>Drama</td>\n",
       "    </tr>\n",
       "    <tr>\n",
       "      <th>3</th>\n",
       "      <td>4</td>\n",
       "      <td>The Godfather Part II</td>\n",
       "      <td>1974</td>\n",
       "      <td>9.0</td>\n",
       "      <td>Crime,Drama</td>\n",
       "      <td>R</td>\n",
       "      <td>3h 22m</td>\n",
       "      <td>All the power on earth can't change destiny.</td>\n",
       "      <td>13000000</td>\n",
       "      <td>47961919</td>\n",
       "      <td>Al Pacino,Robert De Niro,Robert Duvall,Diane K...</td>\n",
       "      <td>Francis Ford Coppola</td>\n",
       "      <td>Francis Ford Coppola,Mario Puzo</td>\n",
       "      <td>Crime</td>\n",
       "      <td>Drama</td>\n",
       "      <td>None</td>\n",
       "    </tr>\n",
       "    <tr>\n",
       "      <th>4</th>\n",
       "      <td>5</td>\n",
       "      <td>12 Angry Men</td>\n",
       "      <td>1957</td>\n",
       "      <td>9.0</td>\n",
       "      <td>Crime,Drama</td>\n",
       "      <td>Approved</td>\n",
       "      <td>1h 36m</td>\n",
       "      <td>Life Is In Their Hands -- Death Is On Their Mi...</td>\n",
       "      <td>350000</td>\n",
       "      <td>955</td>\n",
       "      <td>Henry Fonda,Lee J. Cobb,Martin Balsam,John Fie...</td>\n",
       "      <td>Sidney Lumet</td>\n",
       "      <td>Reginald Rose</td>\n",
       "      <td>Crime</td>\n",
       "      <td>Drama</td>\n",
       "      <td>None</td>\n",
       "    </tr>\n",
       "    <tr>\n",
       "      <th>5</th>\n",
       "      <td>6</td>\n",
       "      <td>Schindler's List</td>\n",
       "      <td>1993</td>\n",
       "      <td>9.0</td>\n",
       "      <td>Biography,Drama,History</td>\n",
       "      <td>R</td>\n",
       "      <td>3h 15m</td>\n",
       "      <td>Whoever saves one life, saves the world entire.</td>\n",
       "      <td>22000000</td>\n",
       "      <td>322161245</td>\n",
       "      <td>Liam Neeson,Ralph Fiennes,Ben Kingsley,Carolin...</td>\n",
       "      <td>Steven Spielberg</td>\n",
       "      <td>Thomas Keneally,Steven Zaillian</td>\n",
       "      <td>Biography</td>\n",
       "      <td>Drama</td>\n",
       "      <td>History</td>\n",
       "    </tr>\n",
       "    <tr>\n",
       "      <th>6</th>\n",
       "      <td>7</td>\n",
       "      <td>The Lord of the Rings: The Return of the King</td>\n",
       "      <td>2003</td>\n",
       "      <td>9.0</td>\n",
       "      <td>Action,Adventure,Drama</td>\n",
       "      <td>PG-13</td>\n",
       "      <td>3h 21m</td>\n",
       "      <td>The eye of the enemy is moving.</td>\n",
       "      <td>94000000</td>\n",
       "      <td>1146457748</td>\n",
       "      <td>Elijah Wood,Viggo Mortensen,Ian McKellen,Orlan...</td>\n",
       "      <td>Peter Jackson</td>\n",
       "      <td>J.R.R. Tolkien,Fran Walsh,Philippa Boyens</td>\n",
       "      <td>Action</td>\n",
       "      <td>Adventure</td>\n",
       "      <td>Drama</td>\n",
       "    </tr>\n",
       "    <tr>\n",
       "      <th>7</th>\n",
       "      <td>8</td>\n",
       "      <td>Pulp Fiction</td>\n",
       "      <td>1994</td>\n",
       "      <td>8.9</td>\n",
       "      <td>Crime,Drama</td>\n",
       "      <td>R</td>\n",
       "      <td>2h 34m</td>\n",
       "      <td>Girls like me don't make invitations like this...</td>\n",
       "      <td>8000000</td>\n",
       "      <td>213928762</td>\n",
       "      <td>John Travolta,Uma Thurman,Samuel L. Jackson,Br...</td>\n",
       "      <td>Quentin Tarantino</td>\n",
       "      <td>Quentin Tarantino,Roger Avary</td>\n",
       "      <td>Crime</td>\n",
       "      <td>Drama</td>\n",
       "      <td>None</td>\n",
       "    </tr>\n",
       "    <tr>\n",
       "      <th>11</th>\n",
       "      <td>12</td>\n",
       "      <td>Fight Club</td>\n",
       "      <td>1999</td>\n",
       "      <td>8.8</td>\n",
       "      <td>Drama</td>\n",
       "      <td>R</td>\n",
       "      <td>2h 19m</td>\n",
       "      <td>How much can you know about yourself if you've...</td>\n",
       "      <td>63000000</td>\n",
       "      <td>101209702</td>\n",
       "      <td>Brad Pitt,Edward Norton,Meat Loaf,Zach Grenier...</td>\n",
       "      <td>David Fincher</td>\n",
       "      <td>Chuck Palahniuk,Jim Uhls</td>\n",
       "      <td>Drama</td>\n",
       "      <td>None</td>\n",
       "      <td>None</td>\n",
       "    </tr>\n",
       "    <tr>\n",
       "      <th>233</th>\n",
       "      <td>234</td>\n",
       "      <td>Jai Bhim</td>\n",
       "      <td>2021</td>\n",
       "      <td>8.8</td>\n",
       "      <td>Crime,Drama,Mystery</td>\n",
       "      <td>TV-MA</td>\n",
       "      <td>2h 44m</td>\n",
       "      <td>imeDramaMystery</td>\n",
       "      <td>Not Available</td>\n",
       "      <td>0</td>\n",
       "      <td>Suriya,Lijo Mol Jose,Manikandan K.,Rajisha Vij...</td>\n",
       "      <td>T.J. Gnanavel</td>\n",
       "      <td>T.J. Gnanavel,Rajendra Sapre</td>\n",
       "      <td>Crime</td>\n",
       "      <td>Drama</td>\n",
       "      <td>Mystery</td>\n",
       "    </tr>\n",
       "  </tbody>\n",
       "</table>\n",
       "</div>"
      ],
      "text/plain": [
       "     rank                                           name  year  rating  \\\n",
       "0       1                       The Shawshank Redemption  1994     9.3   \n",
       "1       2                                  The Godfather  1972     9.2   \n",
       "2       3                                The Dark Knight  2008     9.0   \n",
       "3       4                          The Godfather Part II  1974     9.0   \n",
       "4       5                                   12 Angry Men  1957     9.0   \n",
       "5       6                               Schindler's List  1993     9.0   \n",
       "6       7  The Lord of the Rings: The Return of the King  2003     9.0   \n",
       "7       8                                   Pulp Fiction  1994     8.9   \n",
       "11     12                                     Fight Club  1999     8.8   \n",
       "233   234                                       Jai Bhim  2021     8.8   \n",
       "\n",
       "                       genre certificate run_time  \\\n",
       "0                      Drama           R   2h 22m   \n",
       "1                Crime,Drama           R   2h 55m   \n",
       "2         Action,Crime,Drama       PG-13   2h 32m   \n",
       "3                Crime,Drama           R   3h 22m   \n",
       "4                Crime,Drama    Approved   1h 36m   \n",
       "5    Biography,Drama,History           R   3h 15m   \n",
       "6     Action,Adventure,Drama       PG-13   3h 21m   \n",
       "7                Crime,Drama           R   2h 34m   \n",
       "11                     Drama           R   2h 19m   \n",
       "233      Crime,Drama,Mystery       TV-MA   2h 44m   \n",
       "\n",
       "                                               tagline         budget  \\\n",
       "0    Fear can hold you prisoner. Hope can set you f...       25000000   \n",
       "1                           An offer you can't refuse.        6000000   \n",
       "2                                      Why So Serious?      185000000   \n",
       "3         All the power on earth can't change destiny.       13000000   \n",
       "4    Life Is In Their Hands -- Death Is On Their Mi...         350000   \n",
       "5      Whoever saves one life, saves the world entire.       22000000   \n",
       "6                      The eye of the enemy is moving.       94000000   \n",
       "7    Girls like me don't make invitations like this...        8000000   \n",
       "11   How much can you know about yourself if you've...       63000000   \n",
       "233                                    imeDramaMystery  Not Available   \n",
       "\n",
       "     box_office                                              casts  \\\n",
       "0      28884504  Tim Robbins,Morgan Freeman,Bob Gunton,William ...   \n",
       "1     250341816  Marlon Brando,Al Pacino,James Caan,Diane Keato...   \n",
       "2    1006234167  Christian Bale,Heath Ledger,Aaron Eckhart,Mich...   \n",
       "3      47961919  Al Pacino,Robert De Niro,Robert Duvall,Diane K...   \n",
       "4           955  Henry Fonda,Lee J. Cobb,Martin Balsam,John Fie...   \n",
       "5     322161245  Liam Neeson,Ralph Fiennes,Ben Kingsley,Carolin...   \n",
       "6    1146457748  Elijah Wood,Viggo Mortensen,Ian McKellen,Orlan...   \n",
       "7     213928762  John Travolta,Uma Thurman,Samuel L. Jackson,Br...   \n",
       "11    101209702  Brad Pitt,Edward Norton,Meat Loaf,Zach Grenier...   \n",
       "233           0  Suriya,Lijo Mol Jose,Manikandan K.,Rajisha Vij...   \n",
       "\n",
       "                directors                                          writers  \\\n",
       "0          Frank Darabont                      Stephen King,Frank Darabont   \n",
       "1    Francis Ford Coppola                  Mario Puzo,Francis Ford Coppola   \n",
       "2       Christopher Nolan  Jonathan Nolan,Christopher Nolan,David S. Goyer   \n",
       "3    Francis Ford Coppola                  Francis Ford Coppola,Mario Puzo   \n",
       "4            Sidney Lumet                                    Reginald Rose   \n",
       "5        Steven Spielberg                  Thomas Keneally,Steven Zaillian   \n",
       "6           Peter Jackson        J.R.R. Tolkien,Fran Walsh,Philippa Boyens   \n",
       "7       Quentin Tarantino                    Quentin Tarantino,Roger Avary   \n",
       "11          David Fincher                         Chuck Palahniuk,Jim Uhls   \n",
       "233         T.J. Gnanavel                     T.J. Gnanavel,Rajendra Sapre   \n",
       "\n",
       "       genre_1    genre_2  genre_3  \n",
       "0        Drama       None     None  \n",
       "1        Crime      Drama     None  \n",
       "2       Action      Crime    Drama  \n",
       "3        Crime      Drama     None  \n",
       "4        Crime      Drama     None  \n",
       "5    Biography      Drama  History  \n",
       "6       Action  Adventure    Drama  \n",
       "7        Crime      Drama     None  \n",
       "11       Drama       None     None  \n",
       "233      Crime      Drama  Mystery  "
      ]
     },
     "execution_count": 15,
     "metadata": {},
     "output_type": "execute_result"
    }
   ],
   "source": [
    "top_10 = df.sort_values(by='rating',ascending=False)\n",
    "top10=top_10.head(10)\n",
    "plt.barh(top10['name'],top10['rating'])\n",
    "plt.xlabel('Rating')\n",
    "plt.ylabel('Movie')\n",
    "plt.title('Top 10 Movies by Rating')\n",
    "plt.show()\n",
    "top10"
   ]
  },
  {
   "cell_type": "markdown",
   "id": "a206bddd",
   "metadata": {},
   "source": [
    "## Top 10 movie writers"
   ]
  },
  {
   "cell_type": "code",
   "execution_count": 16,
   "id": "dde27639",
   "metadata": {},
   "outputs": [
    {
     "data": {
      "application/vnd.plotly.v1+json": {
       "config": {
        "plotlyServerURL": "https://plot.ly"
       },
       "data": [
        {
         "marker": {
          "color": "darkmagenta"
         },
         "type": "bar",
         "x": [
          "Stephen King,Frank Darabont",
          "Mario Puzo,Francis Ford Coppola",
          "Jonathan Nolan,Christopher Nolan,David S. Goyer",
          "Francis Ford Coppola,Mario Puzo",
          "Reginald Rose",
          "Thomas Keneally,Steven Zaillian",
          "J.R.R. Tolkien,Fran Walsh,Philippa Boyens",
          "Quentin Tarantino,Roger Avary",
          "J.R.R. Tolkien,Fran Walsh,Philippa Boyens",
          "Luciano Vincenzoni,Sergio Leone,Agenore Incrocci"
         ],
         "y": [
          9.3,
          9.2,
          9,
          9,
          9,
          9,
          9,
          8.9,
          8.8,
          8.8
         ]
        }
       ],
       "layout": {
        "template": {
         "data": {
          "bar": [
           {
            "error_x": {
             "color": "#2a3f5f"
            },
            "error_y": {
             "color": "#2a3f5f"
            },
            "marker": {
             "line": {
              "color": "#E5ECF6",
              "width": 0.5
             },
             "pattern": {
              "fillmode": "overlay",
              "size": 10,
              "solidity": 0.2
             }
            },
            "type": "bar"
           }
          ],
          "barpolar": [
           {
            "marker": {
             "line": {
              "color": "#E5ECF6",
              "width": 0.5
             },
             "pattern": {
              "fillmode": "overlay",
              "size": 10,
              "solidity": 0.2
             }
            },
            "type": "barpolar"
           }
          ],
          "carpet": [
           {
            "aaxis": {
             "endlinecolor": "#2a3f5f",
             "gridcolor": "white",
             "linecolor": "white",
             "minorgridcolor": "white",
             "startlinecolor": "#2a3f5f"
            },
            "baxis": {
             "endlinecolor": "#2a3f5f",
             "gridcolor": "white",
             "linecolor": "white",
             "minorgridcolor": "white",
             "startlinecolor": "#2a3f5f"
            },
            "type": "carpet"
           }
          ],
          "choropleth": [
           {
            "colorbar": {
             "outlinewidth": 0,
             "ticks": ""
            },
            "type": "choropleth"
           }
          ],
          "contour": [
           {
            "colorbar": {
             "outlinewidth": 0,
             "ticks": ""
            },
            "colorscale": [
             [
              0,
              "#0d0887"
             ],
             [
              0.1111111111111111,
              "#46039f"
             ],
             [
              0.2222222222222222,
              "#7201a8"
             ],
             [
              0.3333333333333333,
              "#9c179e"
             ],
             [
              0.4444444444444444,
              "#bd3786"
             ],
             [
              0.5555555555555556,
              "#d8576b"
             ],
             [
              0.6666666666666666,
              "#ed7953"
             ],
             [
              0.7777777777777778,
              "#fb9f3a"
             ],
             [
              0.8888888888888888,
              "#fdca26"
             ],
             [
              1,
              "#f0f921"
             ]
            ],
            "type": "contour"
           }
          ],
          "contourcarpet": [
           {
            "colorbar": {
             "outlinewidth": 0,
             "ticks": ""
            },
            "type": "contourcarpet"
           }
          ],
          "heatmap": [
           {
            "colorbar": {
             "outlinewidth": 0,
             "ticks": ""
            },
            "colorscale": [
             [
              0,
              "#0d0887"
             ],
             [
              0.1111111111111111,
              "#46039f"
             ],
             [
              0.2222222222222222,
              "#7201a8"
             ],
             [
              0.3333333333333333,
              "#9c179e"
             ],
             [
              0.4444444444444444,
              "#bd3786"
             ],
             [
              0.5555555555555556,
              "#d8576b"
             ],
             [
              0.6666666666666666,
              "#ed7953"
             ],
             [
              0.7777777777777778,
              "#fb9f3a"
             ],
             [
              0.8888888888888888,
              "#fdca26"
             ],
             [
              1,
              "#f0f921"
             ]
            ],
            "type": "heatmap"
           }
          ],
          "heatmapgl": [
           {
            "colorbar": {
             "outlinewidth": 0,
             "ticks": ""
            },
            "colorscale": [
             [
              0,
              "#0d0887"
             ],
             [
              0.1111111111111111,
              "#46039f"
             ],
             [
              0.2222222222222222,
              "#7201a8"
             ],
             [
              0.3333333333333333,
              "#9c179e"
             ],
             [
              0.4444444444444444,
              "#bd3786"
             ],
             [
              0.5555555555555556,
              "#d8576b"
             ],
             [
              0.6666666666666666,
              "#ed7953"
             ],
             [
              0.7777777777777778,
              "#fb9f3a"
             ],
             [
              0.8888888888888888,
              "#fdca26"
             ],
             [
              1,
              "#f0f921"
             ]
            ],
            "type": "heatmapgl"
           }
          ],
          "histogram": [
           {
            "marker": {
             "pattern": {
              "fillmode": "overlay",
              "size": 10,
              "solidity": 0.2
             }
            },
            "type": "histogram"
           }
          ],
          "histogram2d": [
           {
            "colorbar": {
             "outlinewidth": 0,
             "ticks": ""
            },
            "colorscale": [
             [
              0,
              "#0d0887"
             ],
             [
              0.1111111111111111,
              "#46039f"
             ],
             [
              0.2222222222222222,
              "#7201a8"
             ],
             [
              0.3333333333333333,
              "#9c179e"
             ],
             [
              0.4444444444444444,
              "#bd3786"
             ],
             [
              0.5555555555555556,
              "#d8576b"
             ],
             [
              0.6666666666666666,
              "#ed7953"
             ],
             [
              0.7777777777777778,
              "#fb9f3a"
             ],
             [
              0.8888888888888888,
              "#fdca26"
             ],
             [
              1,
              "#f0f921"
             ]
            ],
            "type": "histogram2d"
           }
          ],
          "histogram2dcontour": [
           {
            "colorbar": {
             "outlinewidth": 0,
             "ticks": ""
            },
            "colorscale": [
             [
              0,
              "#0d0887"
             ],
             [
              0.1111111111111111,
              "#46039f"
             ],
             [
              0.2222222222222222,
              "#7201a8"
             ],
             [
              0.3333333333333333,
              "#9c179e"
             ],
             [
              0.4444444444444444,
              "#bd3786"
             ],
             [
              0.5555555555555556,
              "#d8576b"
             ],
             [
              0.6666666666666666,
              "#ed7953"
             ],
             [
              0.7777777777777778,
              "#fb9f3a"
             ],
             [
              0.8888888888888888,
              "#fdca26"
             ],
             [
              1,
              "#f0f921"
             ]
            ],
            "type": "histogram2dcontour"
           }
          ],
          "mesh3d": [
           {
            "colorbar": {
             "outlinewidth": 0,
             "ticks": ""
            },
            "type": "mesh3d"
           }
          ],
          "parcoords": [
           {
            "line": {
             "colorbar": {
              "outlinewidth": 0,
              "ticks": ""
             }
            },
            "type": "parcoords"
           }
          ],
          "pie": [
           {
            "automargin": true,
            "type": "pie"
           }
          ],
          "scatter": [
           {
            "fillpattern": {
             "fillmode": "overlay",
             "size": 10,
             "solidity": 0.2
            },
            "type": "scatter"
           }
          ],
          "scatter3d": [
           {
            "line": {
             "colorbar": {
              "outlinewidth": 0,
              "ticks": ""
             }
            },
            "marker": {
             "colorbar": {
              "outlinewidth": 0,
              "ticks": ""
             }
            },
            "type": "scatter3d"
           }
          ],
          "scattercarpet": [
           {
            "marker": {
             "colorbar": {
              "outlinewidth": 0,
              "ticks": ""
             }
            },
            "type": "scattercarpet"
           }
          ],
          "scattergeo": [
           {
            "marker": {
             "colorbar": {
              "outlinewidth": 0,
              "ticks": ""
             }
            },
            "type": "scattergeo"
           }
          ],
          "scattergl": [
           {
            "marker": {
             "colorbar": {
              "outlinewidth": 0,
              "ticks": ""
             }
            },
            "type": "scattergl"
           }
          ],
          "scattermapbox": [
           {
            "marker": {
             "colorbar": {
              "outlinewidth": 0,
              "ticks": ""
             }
            },
            "type": "scattermapbox"
           }
          ],
          "scatterpolar": [
           {
            "marker": {
             "colorbar": {
              "outlinewidth": 0,
              "ticks": ""
             }
            },
            "type": "scatterpolar"
           }
          ],
          "scatterpolargl": [
           {
            "marker": {
             "colorbar": {
              "outlinewidth": 0,
              "ticks": ""
             }
            },
            "type": "scatterpolargl"
           }
          ],
          "scatterternary": [
           {
            "marker": {
             "colorbar": {
              "outlinewidth": 0,
              "ticks": ""
             }
            },
            "type": "scatterternary"
           }
          ],
          "surface": [
           {
            "colorbar": {
             "outlinewidth": 0,
             "ticks": ""
            },
            "colorscale": [
             [
              0,
              "#0d0887"
             ],
             [
              0.1111111111111111,
              "#46039f"
             ],
             [
              0.2222222222222222,
              "#7201a8"
             ],
             [
              0.3333333333333333,
              "#9c179e"
             ],
             [
              0.4444444444444444,
              "#bd3786"
             ],
             [
              0.5555555555555556,
              "#d8576b"
             ],
             [
              0.6666666666666666,
              "#ed7953"
             ],
             [
              0.7777777777777778,
              "#fb9f3a"
             ],
             [
              0.8888888888888888,
              "#fdca26"
             ],
             [
              1,
              "#f0f921"
             ]
            ],
            "type": "surface"
           }
          ],
          "table": [
           {
            "cells": {
             "fill": {
              "color": "#EBF0F8"
             },
             "line": {
              "color": "white"
             }
            },
            "header": {
             "fill": {
              "color": "#C8D4E3"
             },
             "line": {
              "color": "white"
             }
            },
            "type": "table"
           }
          ]
         },
         "layout": {
          "annotationdefaults": {
           "arrowcolor": "#2a3f5f",
           "arrowhead": 0,
           "arrowwidth": 1
          },
          "autotypenumbers": "strict",
          "coloraxis": {
           "colorbar": {
            "outlinewidth": 0,
            "ticks": ""
           }
          },
          "colorscale": {
           "diverging": [
            [
             0,
             "#8e0152"
            ],
            [
             0.1,
             "#c51b7d"
            ],
            [
             0.2,
             "#de77ae"
            ],
            [
             0.3,
             "#f1b6da"
            ],
            [
             0.4,
             "#fde0ef"
            ],
            [
             0.5,
             "#f7f7f7"
            ],
            [
             0.6,
             "#e6f5d0"
            ],
            [
             0.7,
             "#b8e186"
            ],
            [
             0.8,
             "#7fbc41"
            ],
            [
             0.9,
             "#4d9221"
            ],
            [
             1,
             "#276419"
            ]
           ],
           "sequential": [
            [
             0,
             "#0d0887"
            ],
            [
             0.1111111111111111,
             "#46039f"
            ],
            [
             0.2222222222222222,
             "#7201a8"
            ],
            [
             0.3333333333333333,
             "#9c179e"
            ],
            [
             0.4444444444444444,
             "#bd3786"
            ],
            [
             0.5555555555555556,
             "#d8576b"
            ],
            [
             0.6666666666666666,
             "#ed7953"
            ],
            [
             0.7777777777777778,
             "#fb9f3a"
            ],
            [
             0.8888888888888888,
             "#fdca26"
            ],
            [
             1,
             "#f0f921"
            ]
           ],
           "sequentialminus": [
            [
             0,
             "#0d0887"
            ],
            [
             0.1111111111111111,
             "#46039f"
            ],
            [
             0.2222222222222222,
             "#7201a8"
            ],
            [
             0.3333333333333333,
             "#9c179e"
            ],
            [
             0.4444444444444444,
             "#bd3786"
            ],
            [
             0.5555555555555556,
             "#d8576b"
            ],
            [
             0.6666666666666666,
             "#ed7953"
            ],
            [
             0.7777777777777778,
             "#fb9f3a"
            ],
            [
             0.8888888888888888,
             "#fdca26"
            ],
            [
             1,
             "#f0f921"
            ]
           ]
          },
          "colorway": [
           "#636efa",
           "#EF553B",
           "#00cc96",
           "#ab63fa",
           "#FFA15A",
           "#19d3f3",
           "#FF6692",
           "#B6E880",
           "#FF97FF",
           "#FECB52"
          ],
          "font": {
           "color": "#2a3f5f"
          },
          "geo": {
           "bgcolor": "white",
           "lakecolor": "white",
           "landcolor": "#E5ECF6",
           "showlakes": true,
           "showland": true,
           "subunitcolor": "white"
          },
          "hoverlabel": {
           "align": "left"
          },
          "hovermode": "closest",
          "mapbox": {
           "style": "light"
          },
          "paper_bgcolor": "white",
          "plot_bgcolor": "#E5ECF6",
          "polar": {
           "angularaxis": {
            "gridcolor": "white",
            "linecolor": "white",
            "ticks": ""
           },
           "bgcolor": "#E5ECF6",
           "radialaxis": {
            "gridcolor": "white",
            "linecolor": "white",
            "ticks": ""
           }
          },
          "scene": {
           "xaxis": {
            "backgroundcolor": "#E5ECF6",
            "gridcolor": "white",
            "gridwidth": 2,
            "linecolor": "white",
            "showbackground": true,
            "ticks": "",
            "zerolinecolor": "white"
           },
           "yaxis": {
            "backgroundcolor": "#E5ECF6",
            "gridcolor": "white",
            "gridwidth": 2,
            "linecolor": "white",
            "showbackground": true,
            "ticks": "",
            "zerolinecolor": "white"
           },
           "zaxis": {
            "backgroundcolor": "#E5ECF6",
            "gridcolor": "white",
            "gridwidth": 2,
            "linecolor": "white",
            "showbackground": true,
            "ticks": "",
            "zerolinecolor": "white"
           }
          },
          "shapedefaults": {
           "line": {
            "color": "#2a3f5f"
           }
          },
          "ternary": {
           "aaxis": {
            "gridcolor": "white",
            "linecolor": "white",
            "ticks": ""
           },
           "baxis": {
            "gridcolor": "white",
            "linecolor": "white",
            "ticks": ""
           },
           "bgcolor": "#E5ECF6",
           "caxis": {
            "gridcolor": "white",
            "linecolor": "white",
            "ticks": ""
           }
          },
          "title": {
           "x": 0.05
          },
          "xaxis": {
           "automargin": true,
           "gridcolor": "white",
           "linecolor": "white",
           "ticks": "",
           "title": {
            "standoff": 15
           },
           "zerolinecolor": "white",
           "zerolinewidth": 2
          },
          "yaxis": {
           "automargin": true,
           "gridcolor": "white",
           "linecolor": "white",
           "ticks": "",
           "title": {
            "standoff": 15
           },
           "zerolinecolor": "white",
           "zerolinewidth": 2
          }
         }
        },
        "title": {
         "text": "Top 10 Movies by Writers"
        }
       }
      },
      "text/html": [
       "<div>                            <div id=\"14fac263-fed5-42bf-a1b6-811efaacd606\" class=\"plotly-graph-div\" style=\"height:525px; width:100%;\"></div>            <script type=\"text/javascript\">                require([\"plotly\"], function(Plotly) {                    window.PLOTLYENV=window.PLOTLYENV || {};                                    if (document.getElementById(\"14fac263-fed5-42bf-a1b6-811efaacd606\")) {                    Plotly.newPlot(                        \"14fac263-fed5-42bf-a1b6-811efaacd606\",                        [{\"marker\":{\"color\":\"darkmagenta\"},\"x\":[\"Stephen King,Frank Darabont\",\"Mario Puzo,Francis Ford Coppola\",\"Jonathan Nolan,Christopher Nolan,David S. Goyer\",\"Francis Ford Coppola,Mario Puzo\",\"Reginald Rose\",\"Thomas Keneally,Steven Zaillian\",\"J.R.R. Tolkien,Fran Walsh,Philippa Boyens\",\"Quentin Tarantino,Roger Avary\",\"J.R.R. Tolkien,Fran Walsh,Philippa Boyens\",\"Luciano Vincenzoni,Sergio Leone,Agenore Incrocci\"],\"y\":[9.3,9.2,9.0,9.0,9.0,9.0,9.0,8.9,8.8,8.8],\"type\":\"bar\"}],                        {\"template\":{\"data\":{\"histogram2dcontour\":[{\"type\":\"histogram2dcontour\",\"colorbar\":{\"outlinewidth\":0,\"ticks\":\"\"},\"colorscale\":[[0.0,\"#0d0887\"],[0.1111111111111111,\"#46039f\"],[0.2222222222222222,\"#7201a8\"],[0.3333333333333333,\"#9c179e\"],[0.4444444444444444,\"#bd3786\"],[0.5555555555555556,\"#d8576b\"],[0.6666666666666666,\"#ed7953\"],[0.7777777777777778,\"#fb9f3a\"],[0.8888888888888888,\"#fdca26\"],[1.0,\"#f0f921\"]]}],\"choropleth\":[{\"type\":\"choropleth\",\"colorbar\":{\"outlinewidth\":0,\"ticks\":\"\"}}],\"histogram2d\":[{\"type\":\"histogram2d\",\"colorbar\":{\"outlinewidth\":0,\"ticks\":\"\"},\"colorscale\":[[0.0,\"#0d0887\"],[0.1111111111111111,\"#46039f\"],[0.2222222222222222,\"#7201a8\"],[0.3333333333333333,\"#9c179e\"],[0.4444444444444444,\"#bd3786\"],[0.5555555555555556,\"#d8576b\"],[0.6666666666666666,\"#ed7953\"],[0.7777777777777778,\"#fb9f3a\"],[0.8888888888888888,\"#fdca26\"],[1.0,\"#f0f921\"]]}],\"heatmap\":[{\"type\":\"heatmap\",\"colorbar\":{\"outlinewidth\":0,\"ticks\":\"\"},\"colorscale\":[[0.0,\"#0d0887\"],[0.1111111111111111,\"#46039f\"],[0.2222222222222222,\"#7201a8\"],[0.3333333333333333,\"#9c179e\"],[0.4444444444444444,\"#bd3786\"],[0.5555555555555556,\"#d8576b\"],[0.6666666666666666,\"#ed7953\"],[0.7777777777777778,\"#fb9f3a\"],[0.8888888888888888,\"#fdca26\"],[1.0,\"#f0f921\"]]}],\"heatmapgl\":[{\"type\":\"heatmapgl\",\"colorbar\":{\"outlinewidth\":0,\"ticks\":\"\"},\"colorscale\":[[0.0,\"#0d0887\"],[0.1111111111111111,\"#46039f\"],[0.2222222222222222,\"#7201a8\"],[0.3333333333333333,\"#9c179e\"],[0.4444444444444444,\"#bd3786\"],[0.5555555555555556,\"#d8576b\"],[0.6666666666666666,\"#ed7953\"],[0.7777777777777778,\"#fb9f3a\"],[0.8888888888888888,\"#fdca26\"],[1.0,\"#f0f921\"]]}],\"contourcarpet\":[{\"type\":\"contourcarpet\",\"colorbar\":{\"outlinewidth\":0,\"ticks\":\"\"}}],\"contour\":[{\"type\":\"contour\",\"colorbar\":{\"outlinewidth\":0,\"ticks\":\"\"},\"colorscale\":[[0.0,\"#0d0887\"],[0.1111111111111111,\"#46039f\"],[0.2222222222222222,\"#7201a8\"],[0.3333333333333333,\"#9c179e\"],[0.4444444444444444,\"#bd3786\"],[0.5555555555555556,\"#d8576b\"],[0.6666666666666666,\"#ed7953\"],[0.7777777777777778,\"#fb9f3a\"],[0.8888888888888888,\"#fdca26\"],[1.0,\"#f0f921\"]]}],\"surface\":[{\"type\":\"surface\",\"colorbar\":{\"outlinewidth\":0,\"ticks\":\"\"},\"colorscale\":[[0.0,\"#0d0887\"],[0.1111111111111111,\"#46039f\"],[0.2222222222222222,\"#7201a8\"],[0.3333333333333333,\"#9c179e\"],[0.4444444444444444,\"#bd3786\"],[0.5555555555555556,\"#d8576b\"],[0.6666666666666666,\"#ed7953\"],[0.7777777777777778,\"#fb9f3a\"],[0.8888888888888888,\"#fdca26\"],[1.0,\"#f0f921\"]]}],\"mesh3d\":[{\"type\":\"mesh3d\",\"colorbar\":{\"outlinewidth\":0,\"ticks\":\"\"}}],\"scatter\":[{\"fillpattern\":{\"fillmode\":\"overlay\",\"size\":10,\"solidity\":0.2},\"type\":\"scatter\"}],\"parcoords\":[{\"type\":\"parcoords\",\"line\":{\"colorbar\":{\"outlinewidth\":0,\"ticks\":\"\"}}}],\"scatterpolargl\":[{\"type\":\"scatterpolargl\",\"marker\":{\"colorbar\":{\"outlinewidth\":0,\"ticks\":\"\"}}}],\"bar\":[{\"error_x\":{\"color\":\"#2a3f5f\"},\"error_y\":{\"color\":\"#2a3f5f\"},\"marker\":{\"line\":{\"color\":\"#E5ECF6\",\"width\":0.5},\"pattern\":{\"fillmode\":\"overlay\",\"size\":10,\"solidity\":0.2}},\"type\":\"bar\"}],\"scattergeo\":[{\"type\":\"scattergeo\",\"marker\":{\"colorbar\":{\"outlinewidth\":0,\"ticks\":\"\"}}}],\"scatterpolar\":[{\"type\":\"scatterpolar\",\"marker\":{\"colorbar\":{\"outlinewidth\":0,\"ticks\":\"\"}}}],\"histogram\":[{\"marker\":{\"pattern\":{\"fillmode\":\"overlay\",\"size\":10,\"solidity\":0.2}},\"type\":\"histogram\"}],\"scattergl\":[{\"type\":\"scattergl\",\"marker\":{\"colorbar\":{\"outlinewidth\":0,\"ticks\":\"\"}}}],\"scatter3d\":[{\"type\":\"scatter3d\",\"line\":{\"colorbar\":{\"outlinewidth\":0,\"ticks\":\"\"}},\"marker\":{\"colorbar\":{\"outlinewidth\":0,\"ticks\":\"\"}}}],\"scattermapbox\":[{\"type\":\"scattermapbox\",\"marker\":{\"colorbar\":{\"outlinewidth\":0,\"ticks\":\"\"}}}],\"scatterternary\":[{\"type\":\"scatterternary\",\"marker\":{\"colorbar\":{\"outlinewidth\":0,\"ticks\":\"\"}}}],\"scattercarpet\":[{\"type\":\"scattercarpet\",\"marker\":{\"colorbar\":{\"outlinewidth\":0,\"ticks\":\"\"}}}],\"carpet\":[{\"aaxis\":{\"endlinecolor\":\"#2a3f5f\",\"gridcolor\":\"white\",\"linecolor\":\"white\",\"minorgridcolor\":\"white\",\"startlinecolor\":\"#2a3f5f\"},\"baxis\":{\"endlinecolor\":\"#2a3f5f\",\"gridcolor\":\"white\",\"linecolor\":\"white\",\"minorgridcolor\":\"white\",\"startlinecolor\":\"#2a3f5f\"},\"type\":\"carpet\"}],\"table\":[{\"cells\":{\"fill\":{\"color\":\"#EBF0F8\"},\"line\":{\"color\":\"white\"}},\"header\":{\"fill\":{\"color\":\"#C8D4E3\"},\"line\":{\"color\":\"white\"}},\"type\":\"table\"}],\"barpolar\":[{\"marker\":{\"line\":{\"color\":\"#E5ECF6\",\"width\":0.5},\"pattern\":{\"fillmode\":\"overlay\",\"size\":10,\"solidity\":0.2}},\"type\":\"barpolar\"}],\"pie\":[{\"automargin\":true,\"type\":\"pie\"}]},\"layout\":{\"autotypenumbers\":\"strict\",\"colorway\":[\"#636efa\",\"#EF553B\",\"#00cc96\",\"#ab63fa\",\"#FFA15A\",\"#19d3f3\",\"#FF6692\",\"#B6E880\",\"#FF97FF\",\"#FECB52\"],\"font\":{\"color\":\"#2a3f5f\"},\"hovermode\":\"closest\",\"hoverlabel\":{\"align\":\"left\"},\"paper_bgcolor\":\"white\",\"plot_bgcolor\":\"#E5ECF6\",\"polar\":{\"bgcolor\":\"#E5ECF6\",\"angularaxis\":{\"gridcolor\":\"white\",\"linecolor\":\"white\",\"ticks\":\"\"},\"radialaxis\":{\"gridcolor\":\"white\",\"linecolor\":\"white\",\"ticks\":\"\"}},\"ternary\":{\"bgcolor\":\"#E5ECF6\",\"aaxis\":{\"gridcolor\":\"white\",\"linecolor\":\"white\",\"ticks\":\"\"},\"baxis\":{\"gridcolor\":\"white\",\"linecolor\":\"white\",\"ticks\":\"\"},\"caxis\":{\"gridcolor\":\"white\",\"linecolor\":\"white\",\"ticks\":\"\"}},\"coloraxis\":{\"colorbar\":{\"outlinewidth\":0,\"ticks\":\"\"}},\"colorscale\":{\"sequential\":[[0.0,\"#0d0887\"],[0.1111111111111111,\"#46039f\"],[0.2222222222222222,\"#7201a8\"],[0.3333333333333333,\"#9c179e\"],[0.4444444444444444,\"#bd3786\"],[0.5555555555555556,\"#d8576b\"],[0.6666666666666666,\"#ed7953\"],[0.7777777777777778,\"#fb9f3a\"],[0.8888888888888888,\"#fdca26\"],[1.0,\"#f0f921\"]],\"sequentialminus\":[[0.0,\"#0d0887\"],[0.1111111111111111,\"#46039f\"],[0.2222222222222222,\"#7201a8\"],[0.3333333333333333,\"#9c179e\"],[0.4444444444444444,\"#bd3786\"],[0.5555555555555556,\"#d8576b\"],[0.6666666666666666,\"#ed7953\"],[0.7777777777777778,\"#fb9f3a\"],[0.8888888888888888,\"#fdca26\"],[1.0,\"#f0f921\"]],\"diverging\":[[0,\"#8e0152\"],[0.1,\"#c51b7d\"],[0.2,\"#de77ae\"],[0.3,\"#f1b6da\"],[0.4,\"#fde0ef\"],[0.5,\"#f7f7f7\"],[0.6,\"#e6f5d0\"],[0.7,\"#b8e186\"],[0.8,\"#7fbc41\"],[0.9,\"#4d9221\"],[1,\"#276419\"]]},\"xaxis\":{\"gridcolor\":\"white\",\"linecolor\":\"white\",\"ticks\":\"\",\"title\":{\"standoff\":15},\"zerolinecolor\":\"white\",\"automargin\":true,\"zerolinewidth\":2},\"yaxis\":{\"gridcolor\":\"white\",\"linecolor\":\"white\",\"ticks\":\"\",\"title\":{\"standoff\":15},\"zerolinecolor\":\"white\",\"automargin\":true,\"zerolinewidth\":2},\"scene\":{\"xaxis\":{\"backgroundcolor\":\"#E5ECF6\",\"gridcolor\":\"white\",\"linecolor\":\"white\",\"showbackground\":true,\"ticks\":\"\",\"zerolinecolor\":\"white\",\"gridwidth\":2},\"yaxis\":{\"backgroundcolor\":\"#E5ECF6\",\"gridcolor\":\"white\",\"linecolor\":\"white\",\"showbackground\":true,\"ticks\":\"\",\"zerolinecolor\":\"white\",\"gridwidth\":2},\"zaxis\":{\"backgroundcolor\":\"#E5ECF6\",\"gridcolor\":\"white\",\"linecolor\":\"white\",\"showbackground\":true,\"ticks\":\"\",\"zerolinecolor\":\"white\",\"gridwidth\":2}},\"shapedefaults\":{\"line\":{\"color\":\"#2a3f5f\"}},\"annotationdefaults\":{\"arrowcolor\":\"#2a3f5f\",\"arrowhead\":0,\"arrowwidth\":1},\"geo\":{\"bgcolor\":\"white\",\"landcolor\":\"#E5ECF6\",\"subunitcolor\":\"white\",\"showland\":true,\"showlakes\":true,\"lakecolor\":\"white\"},\"title\":{\"x\":0.05},\"mapbox\":{\"style\":\"light\"}}},\"title\":{\"text\":\"Top 10 Movies by Writers\"}},                        {\"responsive\": true}                    ).then(function(){\n",
       "                            \n",
       "var gd = document.getElementById('14fac263-fed5-42bf-a1b6-811efaacd606');\n",
       "var x = new MutationObserver(function (mutations, observer) {{\n",
       "        var display = window.getComputedStyle(gd).display;\n",
       "        if (!display || display === 'none') {{\n",
       "            console.log([gd, 'removed!']);\n",
       "            Plotly.purge(gd);\n",
       "            observer.disconnect();\n",
       "        }}\n",
       "}});\n",
       "\n",
       "// Listen for the removal of the full notebook cells\n",
       "var notebookContainer = gd.closest('#notebook-container');\n",
       "if (notebookContainer) {{\n",
       "    x.observe(notebookContainer, {childList: true});\n",
       "}}\n",
       "\n",
       "// Listen for the clearing of the current output cell\n",
       "var outputEl = gd.closest('.output');\n",
       "if (outputEl) {{\n",
       "    x.observe(outputEl, {childList: true});\n",
       "}}\n",
       "\n",
       "                        })                };                });            </script>        </div>"
      ]
     },
     "metadata": {},
     "output_type": "display_data"
    }
   ],
   "source": [
    "top_movies_w = df.nlargest(10, 'rating')\n",
    "fig = go.Figure(data=[go.Bar(x=top_movies_w['writers'], y=top_movies_w['rating'], marker={'color': 'darkmagenta'})])\n",
    "fig.update_layout(title='Top 10 Movies by Writers')\n",
    "fig.show()"
   ]
  },
  {
   "cell_type": "markdown",
   "id": "e2946689",
   "metadata": {},
   "source": [
    "## Top 10 movie director"
   ]
  },
  {
   "cell_type": "code",
   "execution_count": 17,
   "id": "b6bfc353",
   "metadata": {},
   "outputs": [
    {
     "data": {
      "application/vnd.plotly.v1+json": {
       "config": {
        "plotlyServerURL": "https://plot.ly"
       },
       "data": [
        {
         "marker": {
          "color": "darkslateblue"
         },
         "type": "bar",
         "x": [
          "Frank Darabont",
          "Francis Ford Coppola",
          "Christopher Nolan",
          "Francis Ford Coppola",
          "Sidney Lumet",
          "Steven Spielberg",
          "Peter Jackson",
          "Quentin Tarantino",
          "Peter Jackson",
          "Sergio Leone"
         ],
         "y": [
          9.3,
          9.2,
          9,
          9,
          9,
          9,
          9,
          8.9,
          8.8,
          8.8
         ]
        }
       ],
       "layout": {
        "template": {
         "data": {
          "bar": [
           {
            "error_x": {
             "color": "#2a3f5f"
            },
            "error_y": {
             "color": "#2a3f5f"
            },
            "marker": {
             "line": {
              "color": "#E5ECF6",
              "width": 0.5
             },
             "pattern": {
              "fillmode": "overlay",
              "size": 10,
              "solidity": 0.2
             }
            },
            "type": "bar"
           }
          ],
          "barpolar": [
           {
            "marker": {
             "line": {
              "color": "#E5ECF6",
              "width": 0.5
             },
             "pattern": {
              "fillmode": "overlay",
              "size": 10,
              "solidity": 0.2
             }
            },
            "type": "barpolar"
           }
          ],
          "carpet": [
           {
            "aaxis": {
             "endlinecolor": "#2a3f5f",
             "gridcolor": "white",
             "linecolor": "white",
             "minorgridcolor": "white",
             "startlinecolor": "#2a3f5f"
            },
            "baxis": {
             "endlinecolor": "#2a3f5f",
             "gridcolor": "white",
             "linecolor": "white",
             "minorgridcolor": "white",
             "startlinecolor": "#2a3f5f"
            },
            "type": "carpet"
           }
          ],
          "choropleth": [
           {
            "colorbar": {
             "outlinewidth": 0,
             "ticks": ""
            },
            "type": "choropleth"
           }
          ],
          "contour": [
           {
            "colorbar": {
             "outlinewidth": 0,
             "ticks": ""
            },
            "colorscale": [
             [
              0,
              "#0d0887"
             ],
             [
              0.1111111111111111,
              "#46039f"
             ],
             [
              0.2222222222222222,
              "#7201a8"
             ],
             [
              0.3333333333333333,
              "#9c179e"
             ],
             [
              0.4444444444444444,
              "#bd3786"
             ],
             [
              0.5555555555555556,
              "#d8576b"
             ],
             [
              0.6666666666666666,
              "#ed7953"
             ],
             [
              0.7777777777777778,
              "#fb9f3a"
             ],
             [
              0.8888888888888888,
              "#fdca26"
             ],
             [
              1,
              "#f0f921"
             ]
            ],
            "type": "contour"
           }
          ],
          "contourcarpet": [
           {
            "colorbar": {
             "outlinewidth": 0,
             "ticks": ""
            },
            "type": "contourcarpet"
           }
          ],
          "heatmap": [
           {
            "colorbar": {
             "outlinewidth": 0,
             "ticks": ""
            },
            "colorscale": [
             [
              0,
              "#0d0887"
             ],
             [
              0.1111111111111111,
              "#46039f"
             ],
             [
              0.2222222222222222,
              "#7201a8"
             ],
             [
              0.3333333333333333,
              "#9c179e"
             ],
             [
              0.4444444444444444,
              "#bd3786"
             ],
             [
              0.5555555555555556,
              "#d8576b"
             ],
             [
              0.6666666666666666,
              "#ed7953"
             ],
             [
              0.7777777777777778,
              "#fb9f3a"
             ],
             [
              0.8888888888888888,
              "#fdca26"
             ],
             [
              1,
              "#f0f921"
             ]
            ],
            "type": "heatmap"
           }
          ],
          "heatmapgl": [
           {
            "colorbar": {
             "outlinewidth": 0,
             "ticks": ""
            },
            "colorscale": [
             [
              0,
              "#0d0887"
             ],
             [
              0.1111111111111111,
              "#46039f"
             ],
             [
              0.2222222222222222,
              "#7201a8"
             ],
             [
              0.3333333333333333,
              "#9c179e"
             ],
             [
              0.4444444444444444,
              "#bd3786"
             ],
             [
              0.5555555555555556,
              "#d8576b"
             ],
             [
              0.6666666666666666,
              "#ed7953"
             ],
             [
              0.7777777777777778,
              "#fb9f3a"
             ],
             [
              0.8888888888888888,
              "#fdca26"
             ],
             [
              1,
              "#f0f921"
             ]
            ],
            "type": "heatmapgl"
           }
          ],
          "histogram": [
           {
            "marker": {
             "pattern": {
              "fillmode": "overlay",
              "size": 10,
              "solidity": 0.2
             }
            },
            "type": "histogram"
           }
          ],
          "histogram2d": [
           {
            "colorbar": {
             "outlinewidth": 0,
             "ticks": ""
            },
            "colorscale": [
             [
              0,
              "#0d0887"
             ],
             [
              0.1111111111111111,
              "#46039f"
             ],
             [
              0.2222222222222222,
              "#7201a8"
             ],
             [
              0.3333333333333333,
              "#9c179e"
             ],
             [
              0.4444444444444444,
              "#bd3786"
             ],
             [
              0.5555555555555556,
              "#d8576b"
             ],
             [
              0.6666666666666666,
              "#ed7953"
             ],
             [
              0.7777777777777778,
              "#fb9f3a"
             ],
             [
              0.8888888888888888,
              "#fdca26"
             ],
             [
              1,
              "#f0f921"
             ]
            ],
            "type": "histogram2d"
           }
          ],
          "histogram2dcontour": [
           {
            "colorbar": {
             "outlinewidth": 0,
             "ticks": ""
            },
            "colorscale": [
             [
              0,
              "#0d0887"
             ],
             [
              0.1111111111111111,
              "#46039f"
             ],
             [
              0.2222222222222222,
              "#7201a8"
             ],
             [
              0.3333333333333333,
              "#9c179e"
             ],
             [
              0.4444444444444444,
              "#bd3786"
             ],
             [
              0.5555555555555556,
              "#d8576b"
             ],
             [
              0.6666666666666666,
              "#ed7953"
             ],
             [
              0.7777777777777778,
              "#fb9f3a"
             ],
             [
              0.8888888888888888,
              "#fdca26"
             ],
             [
              1,
              "#f0f921"
             ]
            ],
            "type": "histogram2dcontour"
           }
          ],
          "mesh3d": [
           {
            "colorbar": {
             "outlinewidth": 0,
             "ticks": ""
            },
            "type": "mesh3d"
           }
          ],
          "parcoords": [
           {
            "line": {
             "colorbar": {
              "outlinewidth": 0,
              "ticks": ""
             }
            },
            "type": "parcoords"
           }
          ],
          "pie": [
           {
            "automargin": true,
            "type": "pie"
           }
          ],
          "scatter": [
           {
            "fillpattern": {
             "fillmode": "overlay",
             "size": 10,
             "solidity": 0.2
            },
            "type": "scatter"
           }
          ],
          "scatter3d": [
           {
            "line": {
             "colorbar": {
              "outlinewidth": 0,
              "ticks": ""
             }
            },
            "marker": {
             "colorbar": {
              "outlinewidth": 0,
              "ticks": ""
             }
            },
            "type": "scatter3d"
           }
          ],
          "scattercarpet": [
           {
            "marker": {
             "colorbar": {
              "outlinewidth": 0,
              "ticks": ""
             }
            },
            "type": "scattercarpet"
           }
          ],
          "scattergeo": [
           {
            "marker": {
             "colorbar": {
              "outlinewidth": 0,
              "ticks": ""
             }
            },
            "type": "scattergeo"
           }
          ],
          "scattergl": [
           {
            "marker": {
             "colorbar": {
              "outlinewidth": 0,
              "ticks": ""
             }
            },
            "type": "scattergl"
           }
          ],
          "scattermapbox": [
           {
            "marker": {
             "colorbar": {
              "outlinewidth": 0,
              "ticks": ""
             }
            },
            "type": "scattermapbox"
           }
          ],
          "scatterpolar": [
           {
            "marker": {
             "colorbar": {
              "outlinewidth": 0,
              "ticks": ""
             }
            },
            "type": "scatterpolar"
           }
          ],
          "scatterpolargl": [
           {
            "marker": {
             "colorbar": {
              "outlinewidth": 0,
              "ticks": ""
             }
            },
            "type": "scatterpolargl"
           }
          ],
          "scatterternary": [
           {
            "marker": {
             "colorbar": {
              "outlinewidth": 0,
              "ticks": ""
             }
            },
            "type": "scatterternary"
           }
          ],
          "surface": [
           {
            "colorbar": {
             "outlinewidth": 0,
             "ticks": ""
            },
            "colorscale": [
             [
              0,
              "#0d0887"
             ],
             [
              0.1111111111111111,
              "#46039f"
             ],
             [
              0.2222222222222222,
              "#7201a8"
             ],
             [
              0.3333333333333333,
              "#9c179e"
             ],
             [
              0.4444444444444444,
              "#bd3786"
             ],
             [
              0.5555555555555556,
              "#d8576b"
             ],
             [
              0.6666666666666666,
              "#ed7953"
             ],
             [
              0.7777777777777778,
              "#fb9f3a"
             ],
             [
              0.8888888888888888,
              "#fdca26"
             ],
             [
              1,
              "#f0f921"
             ]
            ],
            "type": "surface"
           }
          ],
          "table": [
           {
            "cells": {
             "fill": {
              "color": "#EBF0F8"
             },
             "line": {
              "color": "white"
             }
            },
            "header": {
             "fill": {
              "color": "#C8D4E3"
             },
             "line": {
              "color": "white"
             }
            },
            "type": "table"
           }
          ]
         },
         "layout": {
          "annotationdefaults": {
           "arrowcolor": "#2a3f5f",
           "arrowhead": 0,
           "arrowwidth": 1
          },
          "autotypenumbers": "strict",
          "coloraxis": {
           "colorbar": {
            "outlinewidth": 0,
            "ticks": ""
           }
          },
          "colorscale": {
           "diverging": [
            [
             0,
             "#8e0152"
            ],
            [
             0.1,
             "#c51b7d"
            ],
            [
             0.2,
             "#de77ae"
            ],
            [
             0.3,
             "#f1b6da"
            ],
            [
             0.4,
             "#fde0ef"
            ],
            [
             0.5,
             "#f7f7f7"
            ],
            [
             0.6,
             "#e6f5d0"
            ],
            [
             0.7,
             "#b8e186"
            ],
            [
             0.8,
             "#7fbc41"
            ],
            [
             0.9,
             "#4d9221"
            ],
            [
             1,
             "#276419"
            ]
           ],
           "sequential": [
            [
             0,
             "#0d0887"
            ],
            [
             0.1111111111111111,
             "#46039f"
            ],
            [
             0.2222222222222222,
             "#7201a8"
            ],
            [
             0.3333333333333333,
             "#9c179e"
            ],
            [
             0.4444444444444444,
             "#bd3786"
            ],
            [
             0.5555555555555556,
             "#d8576b"
            ],
            [
             0.6666666666666666,
             "#ed7953"
            ],
            [
             0.7777777777777778,
             "#fb9f3a"
            ],
            [
             0.8888888888888888,
             "#fdca26"
            ],
            [
             1,
             "#f0f921"
            ]
           ],
           "sequentialminus": [
            [
             0,
             "#0d0887"
            ],
            [
             0.1111111111111111,
             "#46039f"
            ],
            [
             0.2222222222222222,
             "#7201a8"
            ],
            [
             0.3333333333333333,
             "#9c179e"
            ],
            [
             0.4444444444444444,
             "#bd3786"
            ],
            [
             0.5555555555555556,
             "#d8576b"
            ],
            [
             0.6666666666666666,
             "#ed7953"
            ],
            [
             0.7777777777777778,
             "#fb9f3a"
            ],
            [
             0.8888888888888888,
             "#fdca26"
            ],
            [
             1,
             "#f0f921"
            ]
           ]
          },
          "colorway": [
           "#636efa",
           "#EF553B",
           "#00cc96",
           "#ab63fa",
           "#FFA15A",
           "#19d3f3",
           "#FF6692",
           "#B6E880",
           "#FF97FF",
           "#FECB52"
          ],
          "font": {
           "color": "#2a3f5f"
          },
          "geo": {
           "bgcolor": "white",
           "lakecolor": "white",
           "landcolor": "#E5ECF6",
           "showlakes": true,
           "showland": true,
           "subunitcolor": "white"
          },
          "hoverlabel": {
           "align": "left"
          },
          "hovermode": "closest",
          "mapbox": {
           "style": "light"
          },
          "paper_bgcolor": "white",
          "plot_bgcolor": "#E5ECF6",
          "polar": {
           "angularaxis": {
            "gridcolor": "white",
            "linecolor": "white",
            "ticks": ""
           },
           "bgcolor": "#E5ECF6",
           "radialaxis": {
            "gridcolor": "white",
            "linecolor": "white",
            "ticks": ""
           }
          },
          "scene": {
           "xaxis": {
            "backgroundcolor": "#E5ECF6",
            "gridcolor": "white",
            "gridwidth": 2,
            "linecolor": "white",
            "showbackground": true,
            "ticks": "",
            "zerolinecolor": "white"
           },
           "yaxis": {
            "backgroundcolor": "#E5ECF6",
            "gridcolor": "white",
            "gridwidth": 2,
            "linecolor": "white",
            "showbackground": true,
            "ticks": "",
            "zerolinecolor": "white"
           },
           "zaxis": {
            "backgroundcolor": "#E5ECF6",
            "gridcolor": "white",
            "gridwidth": 2,
            "linecolor": "white",
            "showbackground": true,
            "ticks": "",
            "zerolinecolor": "white"
           }
          },
          "shapedefaults": {
           "line": {
            "color": "#2a3f5f"
           }
          },
          "ternary": {
           "aaxis": {
            "gridcolor": "white",
            "linecolor": "white",
            "ticks": ""
           },
           "baxis": {
            "gridcolor": "white",
            "linecolor": "white",
            "ticks": ""
           },
           "bgcolor": "#E5ECF6",
           "caxis": {
            "gridcolor": "white",
            "linecolor": "white",
            "ticks": ""
           }
          },
          "title": {
           "x": 0.05
          },
          "xaxis": {
           "automargin": true,
           "gridcolor": "white",
           "linecolor": "white",
           "ticks": "",
           "title": {
            "standoff": 15
           },
           "zerolinecolor": "white",
           "zerolinewidth": 2
          },
          "yaxis": {
           "automargin": true,
           "gridcolor": "white",
           "linecolor": "white",
           "ticks": "",
           "title": {
            "standoff": 15
           },
           "zerolinecolor": "white",
           "zerolinewidth": 2
          }
         }
        },
        "title": {
         "text": "Top 10 Movies by Directors"
        }
       }
      },
      "text/html": [
       "<div>                            <div id=\"7d0d0a25-6d57-438d-aa00-adaed834cef6\" class=\"plotly-graph-div\" style=\"height:525px; width:100%;\"></div>            <script type=\"text/javascript\">                require([\"plotly\"], function(Plotly) {                    window.PLOTLYENV=window.PLOTLYENV || {};                                    if (document.getElementById(\"7d0d0a25-6d57-438d-aa00-adaed834cef6\")) {                    Plotly.newPlot(                        \"7d0d0a25-6d57-438d-aa00-adaed834cef6\",                        [{\"marker\":{\"color\":\"darkslateblue\"},\"x\":[\"Frank Darabont\",\"Francis Ford Coppola\",\"Christopher Nolan\",\"Francis Ford Coppola\",\"Sidney Lumet\",\"Steven Spielberg\",\"Peter Jackson\",\"Quentin Tarantino\",\"Peter Jackson\",\"Sergio Leone\"],\"y\":[9.3,9.2,9.0,9.0,9.0,9.0,9.0,8.9,8.8,8.8],\"type\":\"bar\"}],                        {\"template\":{\"data\":{\"histogram2dcontour\":[{\"type\":\"histogram2dcontour\",\"colorbar\":{\"outlinewidth\":0,\"ticks\":\"\"},\"colorscale\":[[0.0,\"#0d0887\"],[0.1111111111111111,\"#46039f\"],[0.2222222222222222,\"#7201a8\"],[0.3333333333333333,\"#9c179e\"],[0.4444444444444444,\"#bd3786\"],[0.5555555555555556,\"#d8576b\"],[0.6666666666666666,\"#ed7953\"],[0.7777777777777778,\"#fb9f3a\"],[0.8888888888888888,\"#fdca26\"],[1.0,\"#f0f921\"]]}],\"choropleth\":[{\"type\":\"choropleth\",\"colorbar\":{\"outlinewidth\":0,\"ticks\":\"\"}}],\"histogram2d\":[{\"type\":\"histogram2d\",\"colorbar\":{\"outlinewidth\":0,\"ticks\":\"\"},\"colorscale\":[[0.0,\"#0d0887\"],[0.1111111111111111,\"#46039f\"],[0.2222222222222222,\"#7201a8\"],[0.3333333333333333,\"#9c179e\"],[0.4444444444444444,\"#bd3786\"],[0.5555555555555556,\"#d8576b\"],[0.6666666666666666,\"#ed7953\"],[0.7777777777777778,\"#fb9f3a\"],[0.8888888888888888,\"#fdca26\"],[1.0,\"#f0f921\"]]}],\"heatmap\":[{\"type\":\"heatmap\",\"colorbar\":{\"outlinewidth\":0,\"ticks\":\"\"},\"colorscale\":[[0.0,\"#0d0887\"],[0.1111111111111111,\"#46039f\"],[0.2222222222222222,\"#7201a8\"],[0.3333333333333333,\"#9c179e\"],[0.4444444444444444,\"#bd3786\"],[0.5555555555555556,\"#d8576b\"],[0.6666666666666666,\"#ed7953\"],[0.7777777777777778,\"#fb9f3a\"],[0.8888888888888888,\"#fdca26\"],[1.0,\"#f0f921\"]]}],\"heatmapgl\":[{\"type\":\"heatmapgl\",\"colorbar\":{\"outlinewidth\":0,\"ticks\":\"\"},\"colorscale\":[[0.0,\"#0d0887\"],[0.1111111111111111,\"#46039f\"],[0.2222222222222222,\"#7201a8\"],[0.3333333333333333,\"#9c179e\"],[0.4444444444444444,\"#bd3786\"],[0.5555555555555556,\"#d8576b\"],[0.6666666666666666,\"#ed7953\"],[0.7777777777777778,\"#fb9f3a\"],[0.8888888888888888,\"#fdca26\"],[1.0,\"#f0f921\"]]}],\"contourcarpet\":[{\"type\":\"contourcarpet\",\"colorbar\":{\"outlinewidth\":0,\"ticks\":\"\"}}],\"contour\":[{\"type\":\"contour\",\"colorbar\":{\"outlinewidth\":0,\"ticks\":\"\"},\"colorscale\":[[0.0,\"#0d0887\"],[0.1111111111111111,\"#46039f\"],[0.2222222222222222,\"#7201a8\"],[0.3333333333333333,\"#9c179e\"],[0.4444444444444444,\"#bd3786\"],[0.5555555555555556,\"#d8576b\"],[0.6666666666666666,\"#ed7953\"],[0.7777777777777778,\"#fb9f3a\"],[0.8888888888888888,\"#fdca26\"],[1.0,\"#f0f921\"]]}],\"surface\":[{\"type\":\"surface\",\"colorbar\":{\"outlinewidth\":0,\"ticks\":\"\"},\"colorscale\":[[0.0,\"#0d0887\"],[0.1111111111111111,\"#46039f\"],[0.2222222222222222,\"#7201a8\"],[0.3333333333333333,\"#9c179e\"],[0.4444444444444444,\"#bd3786\"],[0.5555555555555556,\"#d8576b\"],[0.6666666666666666,\"#ed7953\"],[0.7777777777777778,\"#fb9f3a\"],[0.8888888888888888,\"#fdca26\"],[1.0,\"#f0f921\"]]}],\"mesh3d\":[{\"type\":\"mesh3d\",\"colorbar\":{\"outlinewidth\":0,\"ticks\":\"\"}}],\"scatter\":[{\"fillpattern\":{\"fillmode\":\"overlay\",\"size\":10,\"solidity\":0.2},\"type\":\"scatter\"}],\"parcoords\":[{\"type\":\"parcoords\",\"line\":{\"colorbar\":{\"outlinewidth\":0,\"ticks\":\"\"}}}],\"scatterpolargl\":[{\"type\":\"scatterpolargl\",\"marker\":{\"colorbar\":{\"outlinewidth\":0,\"ticks\":\"\"}}}],\"bar\":[{\"error_x\":{\"color\":\"#2a3f5f\"},\"error_y\":{\"color\":\"#2a3f5f\"},\"marker\":{\"line\":{\"color\":\"#E5ECF6\",\"width\":0.5},\"pattern\":{\"fillmode\":\"overlay\",\"size\":10,\"solidity\":0.2}},\"type\":\"bar\"}],\"scattergeo\":[{\"type\":\"scattergeo\",\"marker\":{\"colorbar\":{\"outlinewidth\":0,\"ticks\":\"\"}}}],\"scatterpolar\":[{\"type\":\"scatterpolar\",\"marker\":{\"colorbar\":{\"outlinewidth\":0,\"ticks\":\"\"}}}],\"histogram\":[{\"marker\":{\"pattern\":{\"fillmode\":\"overlay\",\"size\":10,\"solidity\":0.2}},\"type\":\"histogram\"}],\"scattergl\":[{\"type\":\"scattergl\",\"marker\":{\"colorbar\":{\"outlinewidth\":0,\"ticks\":\"\"}}}],\"scatter3d\":[{\"type\":\"scatter3d\",\"line\":{\"colorbar\":{\"outlinewidth\":0,\"ticks\":\"\"}},\"marker\":{\"colorbar\":{\"outlinewidth\":0,\"ticks\":\"\"}}}],\"scattermapbox\":[{\"type\":\"scattermapbox\",\"marker\":{\"colorbar\":{\"outlinewidth\":0,\"ticks\":\"\"}}}],\"scatterternary\":[{\"type\":\"scatterternary\",\"marker\":{\"colorbar\":{\"outlinewidth\":0,\"ticks\":\"\"}}}],\"scattercarpet\":[{\"type\":\"scattercarpet\",\"marker\":{\"colorbar\":{\"outlinewidth\":0,\"ticks\":\"\"}}}],\"carpet\":[{\"aaxis\":{\"endlinecolor\":\"#2a3f5f\",\"gridcolor\":\"white\",\"linecolor\":\"white\",\"minorgridcolor\":\"white\",\"startlinecolor\":\"#2a3f5f\"},\"baxis\":{\"endlinecolor\":\"#2a3f5f\",\"gridcolor\":\"white\",\"linecolor\":\"white\",\"minorgridcolor\":\"white\",\"startlinecolor\":\"#2a3f5f\"},\"type\":\"carpet\"}],\"table\":[{\"cells\":{\"fill\":{\"color\":\"#EBF0F8\"},\"line\":{\"color\":\"white\"}},\"header\":{\"fill\":{\"color\":\"#C8D4E3\"},\"line\":{\"color\":\"white\"}},\"type\":\"table\"}],\"barpolar\":[{\"marker\":{\"line\":{\"color\":\"#E5ECF6\",\"width\":0.5},\"pattern\":{\"fillmode\":\"overlay\",\"size\":10,\"solidity\":0.2}},\"type\":\"barpolar\"}],\"pie\":[{\"automargin\":true,\"type\":\"pie\"}]},\"layout\":{\"autotypenumbers\":\"strict\",\"colorway\":[\"#636efa\",\"#EF553B\",\"#00cc96\",\"#ab63fa\",\"#FFA15A\",\"#19d3f3\",\"#FF6692\",\"#B6E880\",\"#FF97FF\",\"#FECB52\"],\"font\":{\"color\":\"#2a3f5f\"},\"hovermode\":\"closest\",\"hoverlabel\":{\"align\":\"left\"},\"paper_bgcolor\":\"white\",\"plot_bgcolor\":\"#E5ECF6\",\"polar\":{\"bgcolor\":\"#E5ECF6\",\"angularaxis\":{\"gridcolor\":\"white\",\"linecolor\":\"white\",\"ticks\":\"\"},\"radialaxis\":{\"gridcolor\":\"white\",\"linecolor\":\"white\",\"ticks\":\"\"}},\"ternary\":{\"bgcolor\":\"#E5ECF6\",\"aaxis\":{\"gridcolor\":\"white\",\"linecolor\":\"white\",\"ticks\":\"\"},\"baxis\":{\"gridcolor\":\"white\",\"linecolor\":\"white\",\"ticks\":\"\"},\"caxis\":{\"gridcolor\":\"white\",\"linecolor\":\"white\",\"ticks\":\"\"}},\"coloraxis\":{\"colorbar\":{\"outlinewidth\":0,\"ticks\":\"\"}},\"colorscale\":{\"sequential\":[[0.0,\"#0d0887\"],[0.1111111111111111,\"#46039f\"],[0.2222222222222222,\"#7201a8\"],[0.3333333333333333,\"#9c179e\"],[0.4444444444444444,\"#bd3786\"],[0.5555555555555556,\"#d8576b\"],[0.6666666666666666,\"#ed7953\"],[0.7777777777777778,\"#fb9f3a\"],[0.8888888888888888,\"#fdca26\"],[1.0,\"#f0f921\"]],\"sequentialminus\":[[0.0,\"#0d0887\"],[0.1111111111111111,\"#46039f\"],[0.2222222222222222,\"#7201a8\"],[0.3333333333333333,\"#9c179e\"],[0.4444444444444444,\"#bd3786\"],[0.5555555555555556,\"#d8576b\"],[0.6666666666666666,\"#ed7953\"],[0.7777777777777778,\"#fb9f3a\"],[0.8888888888888888,\"#fdca26\"],[1.0,\"#f0f921\"]],\"diverging\":[[0,\"#8e0152\"],[0.1,\"#c51b7d\"],[0.2,\"#de77ae\"],[0.3,\"#f1b6da\"],[0.4,\"#fde0ef\"],[0.5,\"#f7f7f7\"],[0.6,\"#e6f5d0\"],[0.7,\"#b8e186\"],[0.8,\"#7fbc41\"],[0.9,\"#4d9221\"],[1,\"#276419\"]]},\"xaxis\":{\"gridcolor\":\"white\",\"linecolor\":\"white\",\"ticks\":\"\",\"title\":{\"standoff\":15},\"zerolinecolor\":\"white\",\"automargin\":true,\"zerolinewidth\":2},\"yaxis\":{\"gridcolor\":\"white\",\"linecolor\":\"white\",\"ticks\":\"\",\"title\":{\"standoff\":15},\"zerolinecolor\":\"white\",\"automargin\":true,\"zerolinewidth\":2},\"scene\":{\"xaxis\":{\"backgroundcolor\":\"#E5ECF6\",\"gridcolor\":\"white\",\"linecolor\":\"white\",\"showbackground\":true,\"ticks\":\"\",\"zerolinecolor\":\"white\",\"gridwidth\":2},\"yaxis\":{\"backgroundcolor\":\"#E5ECF6\",\"gridcolor\":\"white\",\"linecolor\":\"white\",\"showbackground\":true,\"ticks\":\"\",\"zerolinecolor\":\"white\",\"gridwidth\":2},\"zaxis\":{\"backgroundcolor\":\"#E5ECF6\",\"gridcolor\":\"white\",\"linecolor\":\"white\",\"showbackground\":true,\"ticks\":\"\",\"zerolinecolor\":\"white\",\"gridwidth\":2}},\"shapedefaults\":{\"line\":{\"color\":\"#2a3f5f\"}},\"annotationdefaults\":{\"arrowcolor\":\"#2a3f5f\",\"arrowhead\":0,\"arrowwidth\":1},\"geo\":{\"bgcolor\":\"white\",\"landcolor\":\"#E5ECF6\",\"subunitcolor\":\"white\",\"showland\":true,\"showlakes\":true,\"lakecolor\":\"white\"},\"title\":{\"x\":0.05},\"mapbox\":{\"style\":\"light\"}}},\"title\":{\"text\":\"Top 10 Movies by Directors\"}},                        {\"responsive\": true}                    ).then(function(){\n",
       "                            \n",
       "var gd = document.getElementById('7d0d0a25-6d57-438d-aa00-adaed834cef6');\n",
       "var x = new MutationObserver(function (mutations, observer) {{\n",
       "        var display = window.getComputedStyle(gd).display;\n",
       "        if (!display || display === 'none') {{\n",
       "            console.log([gd, 'removed!']);\n",
       "            Plotly.purge(gd);\n",
       "            observer.disconnect();\n",
       "        }}\n",
       "}});\n",
       "\n",
       "// Listen for the removal of the full notebook cells\n",
       "var notebookContainer = gd.closest('#notebook-container');\n",
       "if (notebookContainer) {{\n",
       "    x.observe(notebookContainer, {childList: true});\n",
       "}}\n",
       "\n",
       "// Listen for the clearing of the current output cell\n",
       "var outputEl = gd.closest('.output');\n",
       "if (outputEl) {{\n",
       "    x.observe(outputEl, {childList: true});\n",
       "}}\n",
       "\n",
       "                        })                };                });            </script>        </div>"
      ]
     },
     "metadata": {},
     "output_type": "display_data"
    }
   ],
   "source": [
    "top_movies_d = df.nlargest(10, 'rating')\n",
    "fig = go.Figure(data=[go.Bar(x=top_movies_d['directors'], y=top_movies_d['rating'], marker={'color': 'darkslateblue'})])\n",
    "fig.update_layout(title='Top 10 Movies by Directors')\n",
    "fig.show()"
   ]
  },
  {
   "cell_type": "markdown",
   "id": "bd215f32",
   "metadata": {},
   "source": [
    "## histogram for rating"
   ]
  },
  {
   "cell_type": "code",
   "execution_count": 18,
   "id": "2930332d",
   "metadata": {},
   "outputs": [
    {
     "data": {
      "image/png": "[encoded data removed]",
      "text/plain": [
       "<Figure size 640x480 with 1 Axes>"
      ]
     },
     "metadata": {},
     "output_type": "display_data"
    }
   ],
   "source": [
    "# create a histogram of the \"rating\" column\n",
    "plt.hist(df['rating'], bins=10)\n",
    "\n",
    "# set the title and labels\n",
    "plt.title(\"Histogram of Movie Ratings\")\n",
    "plt.xlabel(\"Rating\")\n",
    "plt.ylabel(\"Count\")\n",
    "\n",
    "# display the plot\n",
    "plt.show()"
   ]
  },
  {
   "cell_type": "markdown",
   "id": "caaed358",
   "metadata": {},
   "source": [
    "## using sunburst for [genre,year,rating]"
   ]
  },
  {
   "cell_type": "code",
   "execution_count": 19,
   "id": "7d7029b4",
   "metadata": {},
   "outputs": [
    {
     "data": {
      "application/vnd.plotly.v1+json": {
       "config": {
        "plotlyServerURL": "https://plot.ly"
       },
       "data": [
        {
         "branchvalues": "total",
         "domain": {
          "x": [
           0,
           1
          ],
          "y": [
           0,
           1
          ]
         },
         "hovertemplate": "labels=%{label}<br>count=%{value}<br>parent=%{parent}<br>id=%{id}<extra></extra>",
         "ids": [
          "Comedy/1979/8.0",
          "Biography,Drama,History/1982/8.0",
          "Adventure,Drama,Western/1990/8.0",
          "Animation,Adventure,Comedy/1992/8.0",
          "Animation,Action,Adventure/2004/8.0",
          "Adventure,Comedy,Drama/1925/8.1",
          "Action,Adventure,Comedy/1926/8.1",
          "Comedy,Romance/1934/8.1",
          "Adventure,Family,Fantasy/1939/8.1",
          "Comedy,Drama/1939/8.1",
          "Drama/1940/8.1",
          "Drama,Film-Noir,Mystery/1940/8.1",
          "Drama,Romance,War/1946/8.1",
          "Film-Noir,Mystery,Thriller/1949/8.1",
          "Crime,Drama,Thriller/1954/8.1",
          "Drama,Fantasy/1957/8.1",
          "Drama,Romance/1957/8.1",
          "Adventure,Drama/1959/8.1",
          "Crime,Drama/1959/8.1",
          "Biography,Drama,Family/1965/8.1",
          "Drama,Thriller/1966/8.1",
          "Drama,War/1966/8.1",
          "Crime,Drama/1967/8.1",
          "Horror/1973/8.1",
          "Adventure,Drama,War/1975/8.1",
          "Adventure,Thriller/1975/8.1",
          "Drama/1976/8.1",
          "Drama,Sport/1976/8.1",
          "Drama,War/1978/8.1",
          "Action,Drama,Sci-Fi/1982/8.1",
          "Action,Sci-Fi/1984/8.1",
          "Adventure,Drama/1986/8.1",
          "Drama,War/1986/8.1",
          "Animation,Comedy,Family/1988/8.1",
          "Comedy,Drama/1989/8.1",
          "Biography,Crime,Drama/1993/8.1",
          "Comedy,Drama,Fantasy/1993/8.1",
          "Crime,Drama/1995/8.1",
          "Drama,Romance/1995/8.1",
          "Crime,Thriller/1996/8.1",
          "Drama/1996/8.1",
          "Comedy,Crime/1998/8.1",
          "Animation,Action,Adventure/1999/8.1",
          "Drama,Thriller/2000/8.1",
          "Animation,Adventure,Comedy/2001/8.1",
          "Biography,Crime,Drama/2002/8.1",
          "Action,Adventure,Fantasy/2003/8.1",
          "Crime,Drama,Mystery/2003/8.1",
          "Biography,Drama,History/2004/8.1",
          "Drama,Romance/2004/8.1",
          "Drama,Sport/2004/8.1",
          "Adventure,Biography,Drama/2007/8.1",
          "Animation,Adventure,Comedy/2007/8.1",
          "Drama/2008/8.1",
          "Animation,Comedy,Drama/2009/8.1",
          "Biography,Drama,Family/2009/8.1",
          "Animation,Action,Adventure/2010/8.1",
          "Adventure,Family,Fantasy/2011/8.1",
          "Drama/2011/8.1",
          "Action,Biography,Drama/2013/8.1",
          "Biography,Drama,History/2013/8.1",
          "Crime,Drama,Mystery/2013/8.1",
          "Adventure,Comedy,Crime/2014/8.1",
          "Comedy,Drama,Thriller/2014/8.1",
          "Drama,Mystery,Thriller/2014/8.1",
          "Action,Adventure,Sci-Fi/2015/8.1",
          "Biography,Crime,Drama/2015/8.1",
          "Drama,Thriller/2015/8.1",
          "Biography,Drama,History/2016/8.1",
          "Drama,Romance,Thriller/2016/8.1",
          "Action,Drama,Sci-Fi/2017/8.1",
          "Comedy,Crime,Drama/2017/8.1",
          "Action,Biography,Drama/2019/8.1",
          "Action,Comedy,Romance/1924/8.2",
          "Biography,Drama,History/1928/8.2",
          "Drama,Romance,War/1939/8.2",
          "Comedy,Romance,War/1942/8.2",
          "Adventure,Drama,Western/1948/8.2",
          "Crime,Drama,Mystery/1950/8.2",
          "Drama/1950/8.2",
          "Adventure,Drama,Thriller/1953/8.2",
          "Drama/1953/8.2",
          "Crime,Thriller/1954/8.2",
          "Adventure,Drama,War/1957/8.2",
          "Comedy,Music,Romance/1959/8.2",
          "Action,Drama,Thriller/1961/8.2",
          "Adventure,Drama,History/1963/8.2",
          "Western/1965/8.2",
          "Drama,Mystery,Thriller/1974/8.2",
          "Adventure,Biography,Drama/1975/8.2",
          "Adventure,Comedy,Fantasy/1975/8.2",
          "Crime,Drama/1976/8.2",
          "Biography,Drama/1980/8.2",
          "Biography,Drama,Sport/1980/8.2",
          "Horror,Mystery,Sci-Fi/1982/8.2",
          "Action,Drama,War/1985/8.2",
          "Action,Thriller/1988/8.2",
          "Action,Adventure/1989/8.2",
          "Drama,Western/1992/8.2",
          "Action,Adventure,Sci-Fi/1993/8.2",
          "Crime,Drama/1995/8.2",
          "Crime,Drama,Mystery/1997/8.2",
          "Drama,Family,Sport/1997/8.2",
          "Action,Comedy,Crime/1998/8.2",
          "Comedy,Drama/1998/8.2",
          "Drama,Mystery,Thriller/1999/8.2",
          "Comedy,Crime/2000/8.2",
          "Biography,Drama/2001/8.2",
          "Action,Crime,Drama/2003/8.2",
          "Animation,Adventure,Comedy/2003/8.2",
          "Animation,Adventure,Family/2004/8.2",
          "Biography,Drama,History/2004/8.2",
          "Action,Crime,Drama/2005/8.2",
          "Action,Drama,Sci-Fi/2005/8.2",
          "Drama,Family/2005/8.2",
          "Drama,Fantasy,War/2006/8.2",
          "Crime,Drama,Thriller/2007/8.2",
          "Drama/2007/8.2",
          "Drama,Mystery,Romance/2009/8.2",
          "Mystery,Thriller/2010/8.2",
          "Action,Drama,Sport/2011/8.2",
          "Biography,Comedy,Crime/2013/8.2",
          "Animation,Adventure,Comedy/2015/8.2",
          "Biography,Comedy,Drama/2018/8.2",
          "Action,Drama,War/2019/8.2",
          "Animation,Adventure,Comedy/2019/8.2",
          "Drama,Mystery/2020/8.2",
          "Action,Adventure,Fantasy/2021/8.2",
          "Comedy,Drama,Family/1921/8.3",
          "Drama,Sci-Fi/1927/8.3",
          "Crime,Mystery,Thriller/1931/8.3",
          "Drama,Mystery/1941/8.3",
          "Crime,Drama,Film-Noir/1944/8.3",
          "Drama/1948/8.3",
          "Comedy,Musical,Romance/1952/8.3",
          "Drama/1952/8.3",
          "Drama/1955/8.3",
          "Mystery,Romance,Thriller/1958/8.3",
          "Action,Adventure,Mystery/1959/8.3",
          "Comedy,Drama,Romance/1960/8.3",
          "Drama,War/1961/8.3",
          "Adventure,Biography,Drama/1962/8.3",
          "Crime,Drama/1962/8.3",
          "Adventure,Sci-Fi/1968/8.3",
          "Crime,Sci-Fi/1971/8.3",
          "Comedy,Crime,Drama/1973/8.3",
          "Action,Adventure,Fantasy/1983/8.3",
          "Crime,Drama/1983/8.3",
          "Crime,Drama/1984/8.3",
          "Drama,War/1987/8.3",
          "Crime,Thriller/1992/8.3",
          "Action,Crime,Drama/1995/8.3",
          "Animation,Adventure,Comedy/1995/8.3",
          "Drama,Romance/1997/8.3",
          "Drama/2000/8.3",
          "Comedy,Romance/2001/8.3",
          "Drama,Romance,Sci-Fi/2004/8.3",
          "Drama,Family/2007/8.3",
          "Adventure,Drama,War/2009/8.3",
          "Animation,Adventure,Comedy/2009/8.3",
          "Animation,Adventure,Comedy/2010/8.3",
          "Drama,Mystery/2010/8.3",
          "Drama/2011/8.3",
          "Drama/2012/8.3",
          "Action,Biography,Drama/2016/8.3",
          "Action,Drama/2022/8.3",
          "Comedy,Drama,War/1940/8.4",
          "Drama,Film-Noir/1950/8.4",
          "Crime,Drama,Mystery/1957/8.4",
          "Drama,War/1957/8.4",
          "Crime,Drama,Mystery/1963/8.4",
          "Comedy,War/1964/8.4",
          "Drama,Horror/1980/8.4",
          "Action,Adventure/1981/8.4",
          "Drama,War/1981/8.4",
          "Biography,Drama,Music/1984/8.4",
          "Drama,Thriller,War/1985/8.4",
          "Action,Adventure,Sci-Fi/1986/8.4",
          "Biography,Drama,History/1995/8.4",
          "Animation,Action,Adventure/1997/8.4",
          "Drama/1999/8.4",
          "Mystery,Thriller/2000/8.4",
          "Action,Drama,Mystery/2003/8.4",
          "Drama,Mystery,Thriller/2006/8.4",
          "Animation,Adventure,Family/2008/8.4",
          "Comedy,Drama/2009/8.4",
          "Action,Drama/2012/8.4",
          "Drama,Western/2012/8.4",
          "Animation,Drama,Fantasy/2016/8.4",
          "Animation,Adventure,Comedy/2017/8.4",
          "Action,Adventure,Sci-Fi/2018/8.4",
          "Animation,Action,Adventure/2018/8.4",
          "Drama/2018/8.4",
          "Action,Adventure,Drama/2019/8.4",
          "Crime,Drama,Thriller/2019/8.4",
          "Biography,Drama,History/2020/8.4",
          "Comedy,Drama,Romance/1931/8.5",
          "Comedy,Drama,Romance/1936/8.5",
          "Drama,Romance,War/1942/8.5",
          "Mystery,Thriller/1954/8.5",
          "Horror,Mystery,Thriller/1960/8.5",
          "Western/1968/8.5",
          "Drama,Mystery,War/1979/8.5",
          "Horror,Sci-Fi/1979/8.5",
          "Adventure,Comedy,Sci-Fi/1985/8.5",
          "Animation,Drama,War/1988/8.5",
          "Drama,Romance/1988/8.5",
          "Action,Crime,Drama/1994/8.5",
          "Animation,Adventure,Drama/1994/8.5",
          "Crime,Drama,Mystery/1995/8.5",
          "Crime,Drama/1998/8.5",
          "Action,Adventure,Drama/2000/8.5",
          "Biography,Drama,Music/2002/8.5",
          "Crime,Drama,Thriller/2006/8.5",
          "Drama,Mystery,Sci-Fi/2006/8.5",
          "Biography,Comedy,Drama/2011/8.5",
          "Drama,Music/2014/8.5",
          "Drama,Thriller/2019/8.5",
          "Drama,Family,Fantasy/1946/8.6",
          "Action,Drama/1954/8.6",
          "Action,Drama,Mystery/1962/8.6",
          "Action,Adventure,Fantasy/1977/8.6",
          "Action,Sci-Fi/1991/8.6",
          "Crime,Drama,Thriller/1991/8.6",
          "Crime,Drama,Mystery/1995/8.6",
          "Comedy,Drama,Romance/1997/8.6",
          "Drama,War/1998/8.6",
          "Crime,Drama,Fantasy/1999/8.6",
          "Animation,Adventure,Family/2001/8.6",
          "Crime,Drama/2002/8.6",
          "Adventure,Drama,Sci-Fi/2014/8.6",
          "Drama/1975/8.7",
          "Action,Adventure,Fantasy/1980/8.7",
          "Biography,Crime,Drama/1990/8.7",
          "Action,Sci-Fi/1999/8.7",
          "Adventure,Western/1966/8.8",
          "Drama,Romance/1994/8.8",
          "Drama/1999/8.8",
          "Action,Adventure,Drama/2001/8.8",
          "Action,Adventure,Drama/2002/8.8",
          "Action,Adventure,Sci-Fi/2010/8.8",
          "Crime,Drama,Mystery/2021/8.8",
          "Crime,Drama/1994/8.9",
          "Crime,Drama/1957/9.0",
          "Crime,Drama/1974/9.0",
          "Biography,Drama,History/1993/9.0",
          "Action,Adventure,Drama/2003/9.0",
          "Action,Crime,Drama/2008/9.0",
          "Crime,Drama/1972/9.2",
          "Drama/1994/9.3",
          "Comedy,Drama,Family/1921",
          "Action,Comedy,Romance/1924",
          "Adventure,Comedy,Drama/1925",
          "Action,Adventure,Comedy/1926",
          "Drama,Sci-Fi/1927",
          "Biography,Drama,History/1928",
          "Comedy,Drama,Romance/1931",
          "Crime,Mystery,Thriller/1931",
          "Comedy,Romance/1934",
          "Comedy,Drama,Romance/1936",
          "Adventure,Family,Fantasy/1939",
          "Comedy,Drama/1939",
          "Drama,Romance,War/1939",
          "Comedy,Drama,War/1940",
          "Drama/1940",
          "Drama,Film-Noir,Mystery/1940",
          "Drama,Mystery/1941",
          "Comedy,Romance,War/1942",
          "Drama,Romance,War/1942",
          "Crime,Drama,Film-Noir/1944",
          "Drama,Family,Fantasy/1946",
          "Drama,Romance,War/1946",
          "Adventure,Drama,Western/1948",
          "Drama/1948",
          "Film-Noir,Mystery,Thriller/1949",
          "Crime,Drama,Mystery/1950",
          "Drama/1950",
          "Drama,Film-Noir/1950",
          "Comedy,Musical,Romance/1952",
          "Drama/1952",
          "Adventure,Drama,Thriller/1953",
          "Drama/1953",
          "Action,Drama/1954",
          "Crime,Drama,Thriller/1954",
          "Crime,Thriller/1954",
          "Mystery,Thriller/1954",
          "Drama/1955",
          "Adventure,Drama,War/1957",
          "Crime,Drama/1957",
          "Crime,Drama,Mystery/1957",
          "Drama,Fantasy/1957",
          "Drama,Romance/1957",
          "Drama,War/1957",
          "Mystery,Romance,Thriller/1958",
          "Action,Adventure,Mystery/1959",
          "Adventure,Drama/1959",
          "Comedy,Music,Romance/1959",
          "Crime,Drama/1959",
          "Comedy,Drama,Romance/1960",
          "Horror,Mystery,Thriller/1960",
          "Action,Drama,Thriller/1961",
          "Drama,War/1961",
          "Action,Drama,Mystery/1962",
          "Adventure,Biography,Drama/1962",
          "Crime,Drama/1962",
          "Adventure,Drama,History/1963",
          "Crime,Drama,Mystery/1963",
          "Comedy,War/1964",
          "Biography,Drama,Family/1965",
          "Western/1965",
          "Adventure,Western/1966",
          "Drama,Thriller/1966",
          "Drama,War/1966",
          "Crime,Drama/1967",
          "Adventure,Sci-Fi/1968",
          "Western/1968",
          "Crime,Sci-Fi/1971",
          "Crime,Drama/1972",
          "Comedy,Crime,Drama/1973",
          "Horror/1973",
          "Crime,Drama/1974",
          "Drama,Mystery,Thriller/1974",
          "Adventure,Biography,Drama/1975",
          "Adventure,Comedy,Fantasy/1975",
          "Adventure,Drama,War/1975",
          "Adventure,Thriller/1975",
          "Drama/1975",
          "Crime,Drama/1976",
          "Drama/1976",
          "Drama,Sport/1976",
          "Action,Adventure,Fantasy/1977",
          "Drama,War/1978",
          "Comedy/1979",
          "Drama,Mystery,War/1979",
          "Horror,Sci-Fi/1979",
          "Action,Adventure,Fantasy/1980",
          "Biography,Drama/1980",
          "Biography,Drama,Sport/1980",
          "Drama,Horror/1980",
          "Action,Adventure/1981",
          "Drama,War/1981",
          "Action,Drama,Sci-Fi/1982",
          "Biography,Drama,History/1982",
          "Horror,Mystery,Sci-Fi/1982",
          "Action,Adventure,Fantasy/1983",
          "Crime,Drama/1983",
          "Action,Sci-Fi/1984",
          "Biography,Drama,Music/1984",
          "Crime,Drama/1984",
          "Action,Drama,War/1985",
          "Adventure,Comedy,Sci-Fi/1985",
          "Drama,Thriller,War/1985",
          "Action,Adventure,Sci-Fi/1986",
          "Adventure,Drama/1986",
          "Drama,War/1986",
          "Drama,War/1987",
          "Action,Thriller/1988",
          "Animation,Comedy,Family/1988",
          "Animation,Drama,War/1988",
          "Drama,Romance/1988",
          "Action,Adventure/1989",
          "Comedy,Drama/1989",
          "Adventure,Drama,Western/1990",
          "Biography,Crime,Drama/1990",
          "Action,Sci-Fi/1991",
          "Crime,Drama,Thriller/1991",
          "Animation,Adventure,Comedy/1992",
          "Crime,Thriller/1992",
          "Drama,Western/1992",
          "Action,Adventure,Sci-Fi/1993",
          "Biography,Crime,Drama/1993",
          "Biography,Drama,History/1993",
          "Comedy,Drama,Fantasy/1993",
          "Action,Crime,Drama/1994",
          "Animation,Adventure,Drama/1994",
          "Crime,Drama/1994",
          "Drama/1994",
          "Drama,Romance/1994",
          "Action,Crime,Drama/1995",
          "Animation,Adventure,Comedy/1995",
          "Biography,Drama,History/1995",
          "Crime,Drama/1995",
          "Crime,Drama,Mystery/1995",
          "Drama,Romance/1995",
          "Crime,Thriller/1996",
          "Drama/1996",
          "Animation,Action,Adventure/1997",
          "Comedy,Drama,Romance/1997",
          "Crime,Drama,Mystery/1997",
          "Drama,Family,Sport/1997",
          "Drama,Romance/1997",
          "Action,Comedy,Crime/1998",
          "Comedy,Crime/1998",
          "Comedy,Drama/1998",
          "Crime,Drama/1998",
          "Drama,War/1998",
          "Action,Sci-Fi/1999",
          "Animation,Action,Adventure/1999",
          "Crime,Drama,Fantasy/1999",
          "Drama/1999",
          "Drama,Mystery,Thriller/1999",
          "Action,Adventure,Drama/2000",
          "Comedy,Crime/2000",
          "Drama/2000",
          "Drama,Thriller/2000",
          "Mystery,Thriller/2000",
          "Action,Adventure,Drama/2001",
          "Animation,Adventure,Comedy/2001",
          "Animation,Adventure,Family/2001",
          "Biography,Drama/2001",
          "Comedy,Romance/2001",
          "Action,Adventure,Drama/2002",
          "Biography,Crime,Drama/2002",
          "Biography,Drama,Music/2002",
          "Crime,Drama/2002",
          "Action,Adventure,Drama/2003",
          "Action,Adventure,Fantasy/2003",
          "Action,Crime,Drama/2003",
          "Action,Drama,Mystery/2003",
          "Animation,Adventure,Comedy/2003",
          "Crime,Drama,Mystery/2003",
          "Animation,Action,Adventure/2004",
          "Animation,Adventure,Family/2004",
          "Biography,Drama,History/2004",
          "Drama,Romance/2004",
          "Drama,Romance,Sci-Fi/2004",
          "Drama,Sport/2004",
          "Action,Crime,Drama/2005",
          "Action,Drama,Sci-Fi/2005",
          "Drama,Family/2005",
          "Crime,Drama,Thriller/2006",
          "Drama,Fantasy,War/2006",
          "Drama,Mystery,Sci-Fi/2006",
          "Drama,Mystery,Thriller/2006",
          "Adventure,Biography,Drama/2007",
          "Animation,Adventure,Comedy/2007",
          "Crime,Drama,Thriller/2007",
          "Drama/2007",
          "Drama,Family/2007",
          "Action,Crime,Drama/2008",
          "Animation,Adventure,Family/2008",
          "Drama/2008",
          "Adventure,Drama,War/2009",
          "Animation,Adventure,Comedy/2009",
          "Animation,Comedy,Drama/2009",
          "Biography,Drama,Family/2009",
          "Comedy,Drama/2009",
          "Drama,Mystery,Romance/2009",
          "Action,Adventure,Sci-Fi/2010",
          "Animation,Action,Adventure/2010",
          "Animation,Adventure,Comedy/2010",
          "Drama,Mystery/2010",
          "Mystery,Thriller/2010",
          "Action,Drama,Sport/2011",
          "Adventure,Family,Fantasy/2011",
          "Biography,Comedy,Drama/2011",
          "Drama/2011",
          "Action,Drama/2012",
          "Drama/2012",
          "Drama,Western/2012",
          "Action,Biography,Drama/2013",
          "Biography,Comedy,Crime/2013",
          "Biography,Drama,History/2013",
          "Crime,Drama,Mystery/2013",
          "Adventure,Comedy,Crime/2014",
          "Adventure,Drama,Sci-Fi/2014",
          "Comedy,Drama,Thriller/2014",
          "Drama,Music/2014",
          "Drama,Mystery,Thriller/2014",
          "Action,Adventure,Sci-Fi/2015",
          "Animation,Adventure,Comedy/2015",
          "Biography,Crime,Drama/2015",
          "Drama,Thriller/2015",
          "Action,Biography,Drama/2016",
          "Animation,Drama,Fantasy/2016",
          "Biography,Drama,History/2016",
          "Drama,Romance,Thriller/2016",
          "Action,Drama,Sci-Fi/2017",
          "Animation,Adventure,Comedy/2017",
          "Comedy,Crime,Drama/2017",
          "Action,Adventure,Sci-Fi/2018",
          "Animation,Action,Adventure/2018",
          "Biography,Comedy,Drama/2018",
          "Drama/2018",
          "Action,Adventure,Drama/2019",
          "Action,Biography,Drama/2019",
          "Action,Drama,War/2019",
          "Animation,Adventure,Comedy/2019",
          "Crime,Drama,Thriller/2019",
          "Drama,Thriller/2019",
          "Biography,Drama,History/2020",
          "Drama,Mystery/2020",
          "Action,Adventure,Fantasy/2021",
          "Crime,Drama,Mystery/2021",
          "Action,Drama/2022",
          "Action,Adventure",
          "Action,Adventure,Comedy",
          "Action,Adventure,Drama",
          "Action,Adventure,Fantasy",
          "Action,Adventure,Mystery",
          "Action,Adventure,Sci-Fi",
          "Action,Biography,Drama",
          "Action,Comedy,Crime",
          "Action,Comedy,Romance",
          "Action,Crime,Drama",
          "Action,Drama",
          "Action,Drama,Mystery",
          "Action,Drama,Sci-Fi",
          "Action,Drama,Sport",
          "Action,Drama,Thriller",
          "Action,Drama,War",
          "Action,Sci-Fi",
          "Action,Thriller",
          "Adventure,Biography,Drama",
          "Adventure,Comedy,Crime",
          "Adventure,Comedy,Drama",
          "Adventure,Comedy,Fantasy",
          "Adventure,Comedy,Sci-Fi",
          "Adventure,Drama",
          "Adventure,Drama,History",
          "Adventure,Drama,Sci-Fi",
          "Adventure,Drama,Thriller",
          "Adventure,Drama,War",
          "Adventure,Drama,Western",
          "Adventure,Family,Fantasy",
          "Adventure,Sci-Fi",
          "Adventure,Thriller",
          "Adventure,Western",
          "Animation,Action,Adventure",
          "Animation,Adventure,Comedy",
          "Animation,Adventure,Drama",
          "Animation,Adventure,Family",
          "Animation,Comedy,Drama",
          "Animation,Comedy,Family",
          "Animation,Drama,Fantasy",
          "Animation,Drama,War",
          "Biography,Comedy,Crime",
          "Biography,Comedy,Drama",
          "Biography,Crime,Drama",
          "Biography,Drama",
          "Biography,Drama,Family",
          "Biography,Drama,History",
          "Biography,Drama,Music",
          "Biography,Drama,Sport",
          "Comedy",
          "Comedy,Crime",
          "Comedy,Crime,Drama",
          "Comedy,Drama",
          "Comedy,Drama,Family",
          "Comedy,Drama,Fantasy",
          "Comedy,Drama,Romance",
          "Comedy,Drama,Thriller",
          "Comedy,Drama,War",
          "Comedy,Music,Romance",
          "Comedy,Musical,Romance",
          "Comedy,Romance",
          "Comedy,Romance,War",
          "Comedy,War",
          "Crime,Drama",
          "Crime,Drama,Fantasy",
          "Crime,Drama,Film-Noir",
          "Crime,Drama,Mystery",
          "Crime,Drama,Thriller",
          "Crime,Mystery,Thriller",
          "Crime,Sci-Fi",
          "Crime,Thriller",
          "Drama",
          "Drama,Family",
          "Drama,Family,Fantasy",
          "Drama,Family,Sport",
          "Drama,Fantasy",
          "Drama,Fantasy,War",
          "Drama,Film-Noir",
          "Drama,Film-Noir,Mystery",
          "Drama,Horror",
          "Drama,Music",
          "Drama,Mystery",
          "Drama,Mystery,Romance",
          "Drama,Mystery,Sci-Fi",
          "Drama,Mystery,Thriller",
          "Drama,Mystery,War",
          "Drama,Romance",
          "Drama,Romance,Sci-Fi",
          "Drama,Romance,Thriller",
          "Drama,Romance,War",
          "Drama,Sci-Fi",
          "Drama,Sport",
          "Drama,Thriller",
          "Drama,Thriller,War",
          "Drama,War",
          "Drama,Western",
          "Film-Noir,Mystery,Thriller",
          "Horror",
          "Horror,Mystery,Sci-Fi",
          "Horror,Mystery,Thriller",
          "Horror,Sci-Fi",
          "Mystery,Romance,Thriller",
          "Mystery,Thriller",
          "Western"
         ],
         "labels": [
          "8.0",
          "8.0",
          "8.0",
          "8.0",
          "8.0",
          "8.1",
          "8.1",
          "8.1",
          "8.1",
          "8.1",
          "8.1",
          "8.1",
          "8.1",
          "8.1",
          "8.1",
          "8.1",
          "8.1",
          "8.1",
          "8.1",
          "8.1",
          "8.1",
          "8.1",
          "8.1",
          "8.1",
          "8.1",
          "8.1",
          "8.1",
          "8.1",
          "8.1",
          "8.1",
          "8.1",
          "8.1",
          "8.1",
          "8.1",
          "8.1",
          "8.1",
          "8.1",
          "8.1",
          "8.1",
          "8.1",
          "8.1",
          "8.1",
          "8.1",
          "8.1",
          "8.1",
          "8.1",
          "8.1",
          "8.1",
          "8.1",
          "8.1",
          "8.1",
          "8.1",
          "8.1",
          "8.1",
          "8.1",
          "8.1",
          "8.1",
          "8.1",
          "8.1",
          "8.1",
          "8.1",
          "8.1",
          "8.1",
          "8.1",
          "8.1",
          "8.1",
          "8.1",
          "8.1",
          "8.1",
          "8.1",
          "8.1",
          "8.1",
          "8.1",
          "8.2",
          "8.2",
          "8.2",
          "8.2",
          "8.2",
          "8.2",
          "8.2",
          "8.2",
          "8.2",
          "8.2",
          "8.2",
          "8.2",
          "8.2",
          "8.2",
          "8.2",
          "8.2",
          "8.2",
          "8.2",
          "8.2",
          "8.2",
          "8.2",
          "8.2",
          "8.2",
          "8.2",
          "8.2",
          "8.2",
          "8.2",
          "8.2",
          "8.2",
          "8.2",
          "8.2",
          "8.2",
          "8.2",
          "8.2",
          "8.2",
          "8.2",
          "8.2",
          "8.2",
          "8.2",
          "8.2",
          "8.2",
          "8.2",
          "8.2",
          "8.2",
          "8.2",
          "8.2",
          "8.2",
          "8.2",
          "8.2",
          "8.2",
          "8.2",
          "8.2",
          "8.2",
          "8.2",
          "8.2",
          "8.3",
          "8.3",
          "8.3",
          "8.3",
          "8.3",
          "8.3",
          "8.3",
          "8.3",
          "8.3",
          "8.3",
          "8.3",
          "8.3",
          "8.3",
          "8.3",
          "8.3",
          "8.3",
          "8.3",
          "8.3",
          "8.3",
          "8.3",
          "8.3",
          "8.3",
          "8.3",
          "8.3",
          "8.3",
          "8.3",
          "8.3",
          "8.3",
          "8.3",
          "8.3",
          "8.3",
          "8.3",
          "8.3",
          "8.3",
          "8.3",
          "8.3",
          "8.3",
          "8.3",
          "8.4",
          "8.4",
          "8.4",
          "8.4",
          "8.4",
          "8.4",
          "8.4",
          "8.4",
          "8.4",
          "8.4",
          "8.4",
          "8.4",
          "8.4",
          "8.4",
          "8.4",
          "8.4",
          "8.4",
          "8.4",
          "8.4",
          "8.4",
          "8.4",
          "8.4",
          "8.4",
          "8.4",
          "8.4",
          "8.4",
          "8.4",
          "8.4",
          "8.4",
          "8.4",
          "8.5",
          "8.5",
          "8.5",
          "8.5",
          "8.5",
          "8.5",
          "8.5",
          "8.5",
          "8.5",
          "8.5",
          "8.5",
          "8.5",
          "8.5",
          "8.5",
          "8.5",
          "8.5",
          "8.5",
          "8.5",
          "8.5",
          "8.5",
          "8.5",
          "8.5",
          "8.6",
          "8.6",
          "8.6",
          "8.6",
          "8.6",
          "8.6",
          "8.6",
          "8.6",
          "8.6",
          "8.6",
          "8.6",
          "8.6",
          "8.6",
          "8.7",
          "8.7",
          "8.7",
          "8.7",
          "8.8",
          "8.8",
          "8.8",
          "8.8",
          "8.8",
          "8.8",
          "8.8",
          "8.9",
          "9.0",
          "9.0",
          "9.0",
          "9.0",
          "9.0",
          "9.2",
          "9.3",
          "1921",
          "1924",
          "1925",
          "1926",
          "1927",
          "1928",
          "1931",
          "1931",
          "1934",
          "1936",
          "1939",
          "1939",
          "1939",
          "1940",
          "1940",
          "1940",
          "1941",
          "1942",
          "1942",
          "1944",
          "1946",
          "1946",
          "1948",
          "1948",
          "1949",
          "1950",
          "1950",
          "1950",
          "1952",
          "1952",
          "1953",
          "1953",
          "1954",
          "1954",
          "1954",
          "1954",
          "1955",
          "1957",
          "1957",
          "1957",
          "1957",
          "1957",
          "1957",
          "1958",
          "1959",
          "1959",
          "1959",
          "1959",
          "1960",
          "1960",
          "1961",
          "1961",
          "1962",
          "1962",
          "1962",
          "1963",
          "1963",
          "1964",
          "1965",
          "1965",
          "1966",
          "1966",
          "1966",
          "1967",
          "1968",
          "1968",
          "1971",
          "1972",
          "1973",
          "1973",
          "1974",
          "1974",
          "1975",
          "1975",
          "1975",
          "1975",
          "1975",
          "1976",
          "1976",
          "1976",
          "1977",
          "1978",
          "1979",
          "1979",
          "1979",
          "1980",
          "1980",
          "1980",
          "1980",
          "1981",
          "1981",
          "1982",
          "1982",
          "1982",
          "1983",
          "1983",
          "1984",
          "1984",
          "1984",
          "1985",
          "1985",
          "1985",
          "1986",
          "1986",
          "1986",
          "1987",
          "1988",
          "1988",
          "1988",
          "1988",
          "1989",
          "1989",
          "1990",
          "1990",
          "1991",
          "1991",
          "1992",
          "1992",
          "1992",
          "1993",
          "1993",
          "1993",
          "1993",
          "1994",
          "1994",
          "1994",
          "1994",
          "1994",
          "1995",
          "1995",
          "1995",
          "1995",
          "1995",
          "1995",
          "1996",
          "1996",
          "1997",
          "1997",
          "1997",
          "1997",
          "1997",
          "1998",
          "1998",
          "1998",
          "1998",
          "1998",
          "1999",
          "1999",
          "1999",
          "1999",
          "1999",
          "2000",
          "2000",
          "2000",
          "2000",
          "2000",
          "2001",
          "2001",
          "2001",
          "2001",
          "2001",
          "2002",
          "2002",
          "2002",
          "2002",
          "2003",
          "2003",
          "2003",
          "2003",
          "2003",
          "2003",
          "2004",
          "2004",
          "2004",
          "2004",
          "2004",
          "2004",
          "2005",
          "2005",
          "2005",
          "2006",
          "2006",
          "2006",
          "2006",
          "2007",
          "2007",
          "2007",
          "2007",
          "2007",
          "2008",
          "2008",
          "2008",
          "2009",
          "2009",
          "2009",
          "2009",
          "2009",
          "2009",
          "2010",
          "2010",
          "2010",
          "2010",
          "2010",
          "2011",
          "2011",
          "2011",
          "2011",
          "2012",
          "2012",
          "2012",
          "2013",
          "2013",
          "2013",
          "2013",
          "2014",
          "2014",
          "2014",
          "2014",
          "2014",
          "2015",
          "2015",
          "2015",
          "2015",
          "2016",
          "2016",
          "2016",
          "2016",
          "2017",
          "2017",
          "2017",
          "2018",
          "2018",
          "2018",
          "2018",
          "2019",
          "2019",
          "2019",
          "2019",
          "2019",
          "2019",
          "2020",
          "2020",
          "2021",
          "2021",
          "2022",
          "Action,Adventure",
          "Action,Adventure,Comedy",
          "Action,Adventure,Drama",
          "Action,Adventure,Fantasy",
          "Action,Adventure,Mystery",
          "Action,Adventure,Sci-Fi",
          "Action,Biography,Drama",
          "Action,Comedy,Crime",
          "Action,Comedy,Romance",
          "Action,Crime,Drama",
          "Action,Drama",
          "Action,Drama,Mystery",
          "Action,Drama,Sci-Fi",
          "Action,Drama,Sport",
          "Action,Drama,Thriller",
          "Action,Drama,War",
          "Action,Sci-Fi",
          "Action,Thriller",
          "Adventure,Biography,Drama",
          "Adventure,Comedy,Crime",
          "Adventure,Comedy,Drama",
          "Adventure,Comedy,Fantasy",
          "Adventure,Comedy,Sci-Fi",
          "Adventure,Drama",
          "Adventure,Drama,History",
          "Adventure,Drama,Sci-Fi",
          "Adventure,Drama,Thriller",
          "Adventure,Drama,War",
          "Adventure,Drama,Western",
          "Adventure,Family,Fantasy",
          "Adventure,Sci-Fi",
          "Adventure,Thriller",
          "Adventure,Western",
          "Animation,Action,Adventure",
          "Animation,Adventure,Comedy",
          "Animation,Adventure,Drama",
          "Animation,Adventure,Family",
          "Animation,Comedy,Drama",
          "Animation,Comedy,Family",
          "Animation,Drama,Fantasy",
          "Animation,Drama,War",
          "Biography,Comedy,Crime",
          "Biography,Comedy,Drama",
          "Biography,Crime,Drama",
          "Biography,Drama",
          "Biography,Drama,Family",
          "Biography,Drama,History",
          "Biography,Drama,Music",
          "Biography,Drama,Sport",
          "Comedy",
          "Comedy,Crime",
          "Comedy,Crime,Drama",
          "Comedy,Drama",
          "Comedy,Drama,Family",
          "Comedy,Drama,Fantasy",
          "Comedy,Drama,Romance",
          "Comedy,Drama,Thriller",
          "Comedy,Drama,War",
          "Comedy,Music,Romance",
          "Comedy,Musical,Romance",
          "Comedy,Romance",
          "Comedy,Romance,War",
          "Comedy,War",
          "Crime,Drama",
          "Crime,Drama,Fantasy",
          "Crime,Drama,Film-Noir",
          "Crime,Drama,Mystery",
          "Crime,Drama,Thriller",
          "Crime,Mystery,Thriller",
          "Crime,Sci-Fi",
          "Crime,Thriller",
          "Drama",
          "Drama,Family",
          "Drama,Family,Fantasy",
          "Drama,Family,Sport",
          "Drama,Fantasy",
          "Drama,Fantasy,War",
          "Drama,Film-Noir",
          "Drama,Film-Noir,Mystery",
          "Drama,Horror",
          "Drama,Music",
          "Drama,Mystery",
          "Drama,Mystery,Romance",
          "Drama,Mystery,Sci-Fi",
          "Drama,Mystery,Thriller",
          "Drama,Mystery,War",
          "Drama,Romance",
          "Drama,Romance,Sci-Fi",
          "Drama,Romance,Thriller",
          "Drama,Romance,War",
          "Drama,Sci-Fi",
          "Drama,Sport",
          "Drama,Thriller",
          "Drama,Thriller,War",
          "Drama,War",
          "Drama,Western",
          "Film-Noir,Mystery,Thriller",
          "Horror",
          "Horror,Mystery,Sci-Fi",
          "Horror,Mystery,Thriller",
          "Horror,Sci-Fi",
          "Mystery,Romance,Thriller",
          "Mystery,Thriller",
          "Western"
         ],
         "name": "",
         "parents": [
          "Comedy/1979",
          "Biography,Drama,History/1982",
          "Adventure,Drama,Western/1990",
          "Animation,Adventure,Comedy/1992",
          "Animation,Action,Adventure/2004",
          "Adventure,Comedy,Drama/1925",
          "Action,Adventure,Comedy/1926",
          "Comedy,Romance/1934",
          "Adventure,Family,Fantasy/1939",
          "Comedy,Drama/1939",
          "Drama/1940",
          "Drama,Film-Noir,Mystery/1940",
          "Drama,Romance,War/1946",
          "Film-Noir,Mystery,Thriller/1949",
          "Crime,Drama,Thriller/1954",
          "Drama,Fantasy/1957",
          "Drama,Romance/1957",
          "Adventure,Drama/1959",
          "Crime,Drama/1959",
          "Biography,Drama,Family/1965",
          "Drama,Thriller/1966",
          "Drama,War/1966",
          "Crime,Drama/1967",
          "Horror/1973",
          "Adventure,Drama,War/1975",
          "Adventure,Thriller/1975",
          "Drama/1976",
          "Drama,Sport/1976",
          "Drama,War/1978",
          "Action,Drama,Sci-Fi/1982",
          "Action,Sci-Fi/1984",
          "Adventure,Drama/1986",
          "Drama,War/1986",
          "Animation,Comedy,Family/1988",
          "Comedy,Drama/1989",
          "Biography,Crime,Drama/1993",
          "Comedy,Drama,Fantasy/1993",
          "Crime,Drama/1995",
          "Drama,Romance/1995",
          "Crime,Thriller/1996",
          "Drama/1996",
          "Comedy,Crime/1998",
          "Animation,Action,Adventure/1999",
          "Drama,Thriller/2000",
          "Animation,Adventure,Comedy/2001",
          "Biography,Crime,Drama/2002",
          "Action,Adventure,Fantasy/2003",
          "Crime,Drama,Mystery/2003",
          "Biography,Drama,History/2004",
          "Drama,Romance/2004",
          "Drama,Sport/2004",
          "Adventure,Biography,Drama/2007",
          "Animation,Adventure,Comedy/2007",
          "Drama/2008",
          "Animation,Comedy,Drama/2009",
          "Biography,Drama,Family/2009",
          "Animation,Action,Adventure/2010",
          "Adventure,Family,Fantasy/2011",
          "Drama/2011",
          "Action,Biography,Drama/2013",
          "Biography,Drama,History/2013",
          "Crime,Drama,Mystery/2013",
          "Adventure,Comedy,Crime/2014",
          "Comedy,Drama,Thriller/2014",
          "Drama,Mystery,Thriller/2014",
          "Action,Adventure,Sci-Fi/2015",
          "Biography,Crime,Drama/2015",
          "Drama,Thriller/2015",
          "Biography,Drama,History/2016",
          "Drama,Romance,Thriller/2016",
          "Action,Drama,Sci-Fi/2017",
          "Comedy,Crime,Drama/2017",
          "Action,Biography,Drama/2019",
          "Action,Comedy,Romance/1924",
          "Biography,Drama,History/1928",
          "Drama,Romance,War/1939",
          "Comedy,Romance,War/1942",
          "Adventure,Drama,Western/1948",
          "Crime,Drama,Mystery/1950",
          "Drama/1950",
          "Adventure,Drama,Thriller/1953",
          "Drama/1953",
          "Crime,Thriller/1954",
          "Adventure,Drama,War/1957",
          "Comedy,Music,Romance/1959",
          "Action,Drama,Thriller/1961",
          "Adventure,Drama,History/1963",
          "Western/1965",
          "Drama,Mystery,Thriller/1974",
          "Adventure,Biography,Drama/1975",
          "Adventure,Comedy,Fantasy/1975",
          "Crime,Drama/1976",
          "Biography,Drama/1980",
          "Biography,Drama,Sport/1980",
          "Horror,Mystery,Sci-Fi/1982",
          "Action,Drama,War/1985",
          "Action,Thriller/1988",
          "Action,Adventure/1989",
          "Drama,Western/1992",
          "Action,Adventure,Sci-Fi/1993",
          "Crime,Drama/1995",
          "Crime,Drama,Mystery/1997",
          "Drama,Family,Sport/1997",
          "Action,Comedy,Crime/1998",
          "Comedy,Drama/1998",
          "Drama,Mystery,Thriller/1999",
          "Comedy,Crime/2000",
          "Biography,Drama/2001",
          "Action,Crime,Drama/2003",
          "Animation,Adventure,Comedy/2003",
          "Animation,Adventure,Family/2004",
          "Biography,Drama,History/2004",
          "Action,Crime,Drama/2005",
          "Action,Drama,Sci-Fi/2005",
          "Drama,Family/2005",
          "Drama,Fantasy,War/2006",
          "Crime,Drama,Thriller/2007",
          "Drama/2007",
          "Drama,Mystery,Romance/2009",
          "Mystery,Thriller/2010",
          "Action,Drama,Sport/2011",
          "Biography,Comedy,Crime/2013",
          "Animation,Adventure,Comedy/2015",
          "Biography,Comedy,Drama/2018",
          "Action,Drama,War/2019",
          "Animation,Adventure,Comedy/2019",
          "Drama,Mystery/2020",
          "Action,Adventure,Fantasy/2021",
          "Comedy,Drama,Family/1921",
          "Drama,Sci-Fi/1927",
          "Crime,Mystery,Thriller/1931",
          "Drama,Mystery/1941",
          "Crime,Drama,Film-Noir/1944",
          "Drama/1948",
          "Comedy,Musical,Romance/1952",
          "Drama/1952",
          "Drama/1955",
          "Mystery,Romance,Thriller/1958",
          "Action,Adventure,Mystery/1959",
          "Comedy,Drama,Romance/1960",
          "Drama,War/1961",
          "Adventure,Biography,Drama/1962",
          "Crime,Drama/1962",
          "Adventure,Sci-Fi/1968",
          "Crime,Sci-Fi/1971",
          "Comedy,Crime,Drama/1973",
          "Action,Adventure,Fantasy/1983",
          "Crime,Drama/1983",
          "Crime,Drama/1984",
          "Drama,War/1987",
          "Crime,Thriller/1992",
          "Action,Crime,Drama/1995",
          "Animation,Adventure,Comedy/1995",
          "Drama,Romance/1997",
          "Drama/2000",
          "Comedy,Romance/2001",
          "Drama,Romance,Sci-Fi/2004",
          "Drama,Family/2007",
          "Adventure,Drama,War/2009",
          "Animation,Adventure,Comedy/2009",
          "Animation,Adventure,Comedy/2010",
          "Drama,Mystery/2010",
          "Drama/2011",
          "Drama/2012",
          "Action,Biography,Drama/2016",
          "Action,Drama/2022",
          "Comedy,Drama,War/1940",
          "Drama,Film-Noir/1950",
          "Crime,Drama,Mystery/1957",
          "Drama,War/1957",
          "Crime,Drama,Mystery/1963",
          "Comedy,War/1964",
          "Drama,Horror/1980",
          "Action,Adventure/1981",
          "Drama,War/1981",
          "Biography,Drama,Music/1984",
          "Drama,Thriller,War/1985",
          "Action,Adventure,Sci-Fi/1986",
          "Biography,Drama,History/1995",
          "Animation,Action,Adventure/1997",
          "Drama/1999",
          "Mystery,Thriller/2000",
          "Action,Drama,Mystery/2003",
          "Drama,Mystery,Thriller/2006",
          "Animation,Adventure,Family/2008",
          "Comedy,Drama/2009",
          "Action,Drama/2012",
          "Drama,Western/2012",
          "Animation,Drama,Fantasy/2016",
          "Animation,Adventure,Comedy/2017",
          "Action,Adventure,Sci-Fi/2018",
          "Animation,Action,Adventure/2018",
          "Drama/2018",
          "Action,Adventure,Drama/2019",
          "Crime,Drama,Thriller/2019",
          "Biography,Drama,History/2020",
          "Comedy,Drama,Romance/1931",
          "Comedy,Drama,Romance/1936",
          "Drama,Romance,War/1942",
          "Mystery,Thriller/1954",
          "Horror,Mystery,Thriller/1960",
          "Western/1968",
          "Drama,Mystery,War/1979",
          "Horror,Sci-Fi/1979",
          "Adventure,Comedy,Sci-Fi/1985",
          "Animation,Drama,War/1988",
          "Drama,Romance/1988",
          "Action,Crime,Drama/1994",
          "Animation,Adventure,Drama/1994",
          "Crime,Drama,Mystery/1995",
          "Crime,Drama/1998",
          "Action,Adventure,Drama/2000",
          "Biography,Drama,Music/2002",
          "Crime,Drama,Thriller/2006",
          "Drama,Mystery,Sci-Fi/2006",
          "Biography,Comedy,Drama/2011",
          "Drama,Music/2014",
          "Drama,Thriller/2019",
          "Drama,Family,Fantasy/1946",
          "Action,Drama/1954",
          "Action,Drama,Mystery/1962",
          "Action,Adventure,Fantasy/1977",
          "Action,Sci-Fi/1991",
          "Crime,Drama,Thriller/1991",
          "Crime,Drama,Mystery/1995",
          "Comedy,Drama,Romance/1997",
          "Drama,War/1998",
          "Crime,Drama,Fantasy/1999",
          "Animation,Adventure,Family/2001",
          "Crime,Drama/2002",
          "Adventure,Drama,Sci-Fi/2014",
          "Drama/1975",
          "Action,Adventure,Fantasy/1980",
          "Biography,Crime,Drama/1990",
          "Action,Sci-Fi/1999",
          "Adventure,Western/1966",
          "Drama,Romance/1994",
          "Drama/1999",
          "Action,Adventure,Drama/2001",
          "Action,Adventure,Drama/2002",
          "Action,Adventure,Sci-Fi/2010",
          "Crime,Drama,Mystery/2021",
          "Crime,Drama/1994",
          "Crime,Drama/1957",
          "Crime,Drama/1974",
          "Biography,Drama,History/1993",
          "Action,Adventure,Drama/2003",
          "Action,Crime,Drama/2008",
          "Crime,Drama/1972",
          "Drama/1994",
          "Comedy,Drama,Family",
          "Action,Comedy,Romance",
          "Adventure,Comedy,Drama",
          "Action,Adventure,Comedy",
          "Drama,Sci-Fi",
          "Biography,Drama,History",
          "Comedy,Drama,Romance",
          "Crime,Mystery,Thriller",
          "Comedy,Romance",
          "Comedy,Drama,Romance",
          "Adventure,Family,Fantasy",
          "Comedy,Drama",
          "Drama,Romance,War",
          "Comedy,Drama,War",
          "Drama",
          "Drama,Film-Noir,Mystery",
          "Drama,Mystery",
          "Comedy,Romance,War",
          "Drama,Romance,War",
          "Crime,Drama,Film-Noir",
          "Drama,Family,Fantasy",
          "Drama,Romance,War",
          "Adventure,Drama,Western",
          "Drama",
          "Film-Noir,Mystery,Thriller",
          "Crime,Drama,Mystery",
          "Drama",
          "Drama,Film-Noir",
          "Comedy,Musical,Romance",
          "Drama",
          "Adventure,Drama,Thriller",
          "Drama",
          "Action,Drama",
          "Crime,Drama,Thriller",
          "Crime,Thriller",
          "Mystery,Thriller",
          "Drama",
          "Adventure,Drama,War",
          "Crime,Drama",
          "Crime,Drama,Mystery",
          "Drama,Fantasy",
          "Drama,Romance",
          "Drama,War",
          "Mystery,Romance,Thriller",
          "Action,Adventure,Mystery",
          "Adventure,Drama",
          "Comedy,Music,Romance",
          "Crime,Drama",
          "Comedy,Drama,Romance",
          "Horror,Mystery,Thriller",
          "Action,Drama,Thriller",
          "Drama,War",
          "Action,Drama,Mystery",
          "Adventure,Biography,Drama",
          "Crime,Drama",
          "Adventure,Drama,History",
          "Crime,Drama,Mystery",
          "Comedy,War",
          "Biography,Drama,Family",
          "Western",
          "Adventure,Western",
          "Drama,Thriller",
          "Drama,War",
          "Crime,Drama",
          "Adventure,Sci-Fi",
          "Western",
          "Crime,Sci-Fi",
          "Crime,Drama",
          "Comedy,Crime,Drama",
          "Horror",
          "Crime,Drama",
          "Drama,Mystery,Thriller",
          "Adventure,Biography,Drama",
          "Adventure,Comedy,Fantasy",
          "Adventure,Drama,War",
          "Adventure,Thriller",
          "Drama",
          "Crime,Drama",
          "Drama",
          "Drama,Sport",
          "Action,Adventure,Fantasy",
          "Drama,War",
          "Comedy",
          "Drama,Mystery,War",
          "Horror,Sci-Fi",
          "Action,Adventure,Fantasy",
          "Biography,Drama",
          "Biography,Drama,Sport",
          "Drama,Horror",
          "Action,Adventure",
          "Drama,War",
          "Action,Drama,Sci-Fi",
          "Biography,Drama,History",
          "Horror,Mystery,Sci-Fi",
          "Action,Adventure,Fantasy",
          "Crime,Drama",
          "Action,Sci-Fi",
          "Biography,Drama,Music",
          "Crime,Drama",
          "Action,Drama,War",
          "Adventure,Comedy,Sci-Fi",
          "Drama,Thriller,War",
          "Action,Adventure,Sci-Fi",
          "Adventure,Drama",
          "Drama,War",
          "Drama,War",
          "Action,Thriller",
          "Animation,Comedy,Family",
          "Animation,Drama,War",
          "Drama,Romance",
          "Action,Adventure",
          "Comedy,Drama",
          "Adventure,Drama,Western",
          "Biography,Crime,Drama",
          "Action,Sci-Fi",
          "Crime,Drama,Thriller",
          "Animation,Adventure,Comedy",
          "Crime,Thriller",
          "Drama,Western",
          "Action,Adventure,Sci-Fi",
          "Biography,Crime,Drama",
          "Biography,Drama,History",
          "Comedy,Drama,Fantasy",
          "Action,Crime,Drama",
          "Animation,Adventure,Drama",
          "Crime,Drama",
          "Drama",
          "Drama,Romance",
          "Action,Crime,Drama",
          "Animation,Adventure,Comedy",
          "Biography,Drama,History",
          "Crime,Drama",
          "Crime,Drama,Mystery",
          "Drama,Romance",
          "Crime,Thriller",
          "Drama",
          "Animation,Action,Adventure",
          "Comedy,Drama,Romance",
          "Crime,Drama,Mystery",
          "Drama,Family,Sport",
          "Drama,Romance",
          "Action,Comedy,Crime",
          "Comedy,Crime",
          "Comedy,Drama",
          "Crime,Drama",
          "Drama,War",
          "Action,Sci-Fi",
          "Animation,Action,Adventure",
          "Crime,Drama,Fantasy",
          "Drama",
          "Drama,Mystery,Thriller",
          "Action,Adventure,Drama",
          "Comedy,Crime",
          "Drama",
          "Drama,Thriller",
          "Mystery,Thriller",
          "Action,Adventure,Drama",
          "Animation,Adventure,Comedy",
          "Animation,Adventure,Family",
          "Biography,Drama",
          "Comedy,Romance",
          "Action,Adventure,Drama",
          "Biography,Crime,Drama",
          "Biography,Drama,Music",
          "Crime,Drama",
          "Action,Adventure,Drama",
          "Action,Adventure,Fantasy",
          "Action,Crime,Drama",
          "Action,Drama,Mystery",
          "Animation,Adventure,Comedy",
          "Crime,Drama,Mystery",
          "Animation,Action,Adventure",
          "Animation,Adventure,Family",
          "Biography,Drama,History",
          "Drama,Romance",
          "Drama,Romance,Sci-Fi",
          "Drama,Sport",
          "Action,Crime,Drama",
          "Action,Drama,Sci-Fi",
          "Drama,Family",
          "Crime,Drama,Thriller",
          "Drama,Fantasy,War",
          "Drama,Mystery,Sci-Fi",
          "Drama,Mystery,Thriller",
          "Adventure,Biography,Drama",
          "Animation,Adventure,Comedy",
          "Crime,Drama,Thriller",
          "Drama",
          "Drama,Family",
          "Action,Crime,Drama",
          "Animation,Adventure,Family",
          "Drama",
          "Adventure,Drama,War",
          "Animation,Adventure,Comedy",
          "Animation,Comedy,Drama",
          "Biography,Drama,Family",
          "Comedy,Drama",
          "Drama,Mystery,Romance",
          "Action,Adventure,Sci-Fi",
          "Animation,Action,Adventure",
          "Animation,Adventure,Comedy",
          "Drama,Mystery",
          "Mystery,Thriller",
          "Action,Drama,Sport",
          "Adventure,Family,Fantasy",
          "Biography,Comedy,Drama",
          "Drama",
          "Action,Drama",
          "Drama",
          "Drama,Western",
          "Action,Biography,Drama",
          "Biography,Comedy,Crime",
          "Biography,Drama,History",
          "Crime,Drama,Mystery",
          "Adventure,Comedy,Crime",
          "Adventure,Drama,Sci-Fi",
          "Comedy,Drama,Thriller",
          "Drama,Music",
          "Drama,Mystery,Thriller",
          "Action,Adventure,Sci-Fi",
          "Animation,Adventure,Comedy",
          "Biography,Crime,Drama",
          "Drama,Thriller",
          "Action,Biography,Drama",
          "Animation,Drama,Fantasy",
          "Biography,Drama,History",
          "Drama,Romance,Thriller",
          "Action,Drama,Sci-Fi",
          "Animation,Adventure,Comedy",
          "Comedy,Crime,Drama",
          "Action,Adventure,Sci-Fi",
          "Animation,Action,Adventure",
          "Biography,Comedy,Drama",
          "Drama",
          "Action,Adventure,Drama",
          "Action,Biography,Drama",
          "Action,Drama,War",
          "Animation,Adventure,Comedy",
          "Crime,Drama,Thriller",
          "Drama,Thriller",
          "Biography,Drama,History",
          "Drama,Mystery",
          "Action,Adventure,Fantasy",
          "Crime,Drama,Mystery",
          "Action,Drama",
          "",
          "",
          "",
          "",
          "",
          "",
          "",
          "",
          "",
          "",
          "",
          "",
          "",
          "",
          "",
          "",
          "",
          "",
          "",
          "",
          "",
          "",
          "",
          "",
          "",
          "",
          "",
          "",
          "",
          "",
          "",
          "",
          "",
          "",
          "",
          "",
          "",
          "",
          "",
          "",
          "",
          "",
          "",
          "",
          "",
          "",
          "",
          "",
          "",
          "",
          "",
          "",
          "",
          "",
          "",
          "",
          "",
          "",
          "",
          "",
          "",
          "",
          "",
          "",
          "",
          "",
          "",
          "",
          "",
          "",
          "",
          "",
          "",
          "",
          "",
          "",
          "",
          "",
          "",
          "",
          "",
          "",
          "",
          "",
          "",
          "",
          "",
          "",
          "",
          "",
          "",
          "",
          "",
          "",
          "",
          "",
          "",
          "",
          "",
          "",
          "",
          "",
          "",
          ""
         ],
         "type": "sunburst",
         "values": [
          1,
          1,
          1,
          1,
          1,
          1,
          1,
          1,
          1,
          1,
          1,
          1,
          1,
          1,
          1,
          1,
          1,
          1,
          1,
          1,
          1,
          1,
          1,
          1,
          1,
          1,
          1,
          1,
          1,
          1,
          1,
          1,
          1,
          1,
          1,
          1,
          1,
          1,
          1,
          1,
          1,
          1,
          1,
          1,
          1,
          1,
          1,
          1,
          1,
          1,
          1,
          1,
          1,
          1,
          1,
          1,
          1,
          1,
          1,
          1,
          1,
          1,
          1,
          1,
          1,
          1,
          1,
          1,
          1,
          1,
          1,
          1,
          1,
          1,
          1,
          1,
          1,
          1,
          1,
          1,
          1,
          1,
          1,
          1,
          1,
          1,
          1,
          1,
          1,
          1,
          1,
          1,
          1,
          1,
          1,
          1,
          1,
          1,
          1,
          1,
          1,
          1,
          1,
          1,
          1,
          1,
          1,
          1,
          1,
          1,
          1,
          1,
          1,
          1,
          1,
          1,
          1,
          1,
          1,
          1,
          1,
          1,
          1,
          1,
          1,
          1,
          1,
          1,
          1,
          1,
          1,
          1,
          1,
          1,
          1,
          1,
          1,
          1,
          1,
          1,
          1,
          1,
          1,
          1,
          1,
          1,
          1,
          1,
          1,
          1,
          1,
          1,
          1,
          1,
          1,
          1,
          1,
          1,
          1,
          1,
          1,
          1,
          1,
          1,
          1,
          1,
          1,
          1,
          1,
          1,
          1,
          1,
          1,
          1,
          1,
          1,
          1,
          1,
          1,
          1,
          1,
          1,
          1,
          1,
          1,
          1,
          1,
          1,
          1,
          1,
          1,
          1,
          1,
          1,
          1,
          1,
          1,
          1,
          1,
          1,
          1,
          1,
          1,
          1,
          1,
          1,
          1,
          1,
          1,
          1,
          1,
          1,
          1,
          1,
          1,
          1,
          1,
          1,
          1,
          1,
          1,
          1,
          1,
          1,
          1,
          1,
          1,
          1,
          1,
          1,
          1,
          1,
          1,
          1,
          1,
          1,
          1,
          1,
          1,
          1,
          1,
          1,
          1,
          1,
          1,
          1,
          1,
          1,
          1,
          1,
          1,
          1,
          1,
          1,
          1,
          1,
          1,
          1,
          1,
          1,
          1,
          1,
          1,
          1,
          1,
          1,
          1,
          1,
          1,
          1,
          1,
          1,
          1,
          1,
          1,
          1,
          1,
          1,
          1,
          1,
          1,
          1,
          1,
          1,
          1,
          1,
          1,
          1,
          1,
          1,
          1,
          1,
          1,
          1,
          1,
          1,
          1,
          1,
          1,
          1,
          1,
          1,
          1,
          1,
          1,
          1,
          1,
          1,
          1,
          1,
          1,
          1,
          1,
          1,
          1,
          1,
          1,
          1,
          1,
          1,
          1,
          1,
          1,
          1,
          1,
          1,
          1,
          1,
          1,
          1,
          1,
          1,
          1,
          1,
          1,
          1,
          1,
          1,
          1,
          1,
          1,
          1,
          1,
          1,
          1,
          1,
          1,
          1,
          1,
          1,
          1,
          1,
          1,
          1,
          1,
          1,
          1,
          1,
          1,
          1,
          1,
          1,
          1,
          1,
          1,
          1,
          1,
          1,
          1,
          1,
          1,
          1,
          1,
          1,
          1,
          1,
          1,
          1,
          1,
          1,
          1,
          2,
          2,
          1,
          1,
          1,
          1,
          1,
          1,
          1,
          1,
          1,
          1,
          1,
          1,
          1,
          1,
          1,
          1,
          2,
          1,
          1,
          1,
          1,
          1,
          1,
          1,
          1,
          1,
          1,
          1,
          1,
          1,
          1,
          1,
          1,
          1,
          1,
          1,
          1,
          1,
          1,
          1,
          2,
          1,
          1,
          1,
          1,
          1,
          1,
          1,
          1,
          1,
          1,
          1,
          1,
          1,
          1,
          1,
          1,
          1,
          1,
          1,
          1,
          1,
          1,
          1,
          1,
          1,
          1,
          1,
          1,
          1,
          1,
          1,
          1,
          2,
          1,
          1,
          1,
          1,
          1,
          1,
          1,
          1,
          1,
          1,
          1,
          1,
          1,
          1,
          1,
          1,
          1,
          1,
          1,
          1,
          1,
          1,
          1,
          1,
          1,
          1,
          1,
          1,
          1,
          1,
          1,
          1,
          1,
          1,
          1,
          1,
          1,
          1,
          2,
          1,
          5,
          5,
          1,
          5,
          3,
          1,
          1,
          5,
          3,
          2,
          3,
          1,
          1,
          2,
          3,
          1,
          3,
          1,
          1,
          1,
          1,
          2,
          1,
          1,
          1,
          3,
          2,
          2,
          1,
          1,
          1,
          5,
          10,
          1,
          3,
          1,
          1,
          1,
          1,
          1,
          2,
          4,
          2,
          2,
          9,
          2,
          1,
          1,
          2,
          2,
          4,
          1,
          1,
          4,
          1,
          1,
          1,
          1,
          2,
          1,
          1,
          14,
          1,
          1,
          9,
          5,
          1,
          1,
          3,
          19,
          2,
          1,
          1,
          1,
          1,
          1,
          1,
          1,
          1,
          3,
          1,
          1,
          4,
          1,
          6,
          1,
          1,
          3,
          1,
          2,
          4,
          1,
          8,
          2,
          1,
          1,
          1,
          1,
          1,
          1,
          3,
          2
         ]
        }
       ],
       "layout": {
        "height": 1200,
        "legend": {
         "tracegroupgap": 0
        },
        "margin": {
         "t": 60
        },
        "template": {
         "data": {
          "bar": [
           {
            "error_x": {
             "color": "#2a3f5f"
            },
            "error_y": {
             "color": "#2a3f5f"
            },
            "marker": {
             "line": {
              "color": "#E5ECF6",
              "width": 0.5
             },
             "pattern": {
              "fillmode": "overlay",
              "size": 10,
              "solidity": 0.2
             }
            },
            "type": "bar"
           }
          ],
          "barpolar": [
           {
            "marker": {
             "line": {
              "color": "#E5ECF6",
              "width": 0.5
             },
             "pattern": {
              "fillmode": "overlay",
              "size": 10,
              "solidity": 0.2
             }
            },
            "type": "barpolar"
           }
          ],
          "carpet": [
           {
            "aaxis": {
             "endlinecolor": "#2a3f5f",
             "gridcolor": "white",
             "linecolor": "white",
             "minorgridcolor": "white",
             "startlinecolor": "#2a3f5f"
            },
            "baxis": {
             "endlinecolor": "#2a3f5f",
             "gridcolor": "white",
             "linecolor": "white",
             "minorgridcolor": "white",
             "startlinecolor": "#2a3f5f"
            },
            "type": "carpet"
           }
          ],
          "choropleth": [
           {
            "colorbar": {
             "outlinewidth": 0,
             "ticks": ""
            },
            "type": "choropleth"
           }
          ],
          "contour": [
           {
            "colorbar": {
             "outlinewidth": 0,
             "ticks": ""
            },
            "colorscale": [
             [
              0,
              "#0d0887"
             ],
             [
              0.1111111111111111,
              "#46039f"
             ],
             [
              0.2222222222222222,
              "#7201a8"
             ],
             [
              0.3333333333333333,
              "#9c179e"
             ],
             [
              0.4444444444444444,
              "#bd3786"
             ],
             [
              0.5555555555555556,
              "#d8576b"
             ],
             [
              0.6666666666666666,
              "#ed7953"
             ],
             [
              0.7777777777777778,
              "#fb9f3a"
             ],
             [
              0.8888888888888888,
              "#fdca26"
             ],
             [
              1,
              "#f0f921"
             ]
            ],
            "type": "contour"
           }
          ],
          "contourcarpet": [
           {
            "colorbar": {
             "outlinewidth": 0,
             "ticks": ""
            },
            "type": "contourcarpet"
           }
          ],
          "heatmap": [
           {
            "colorbar": {
             "outlinewidth": 0,
             "ticks": ""
            },
            "colorscale": [
             [
              0,
              "#0d0887"
             ],
             [
              0.1111111111111111,
              "#46039f"
             ],
             [
              0.2222222222222222,
              "#7201a8"
             ],
             [
              0.3333333333333333,
              "#9c179e"
             ],
             [
              0.4444444444444444,
              "#bd3786"
             ],
             [
              0.5555555555555556,
              "#d8576b"
             ],
             [
              0.6666666666666666,
              "#ed7953"
             ],
             [
              0.7777777777777778,
              "#fb9f3a"
             ],
             [
              0.8888888888888888,
              "#fdca26"
             ],
             [
              1,
              "#f0f921"
             ]
            ],
            "type": "heatmap"
           }
          ],
          "heatmapgl": [
           {
            "colorbar": {
             "outlinewidth": 0,
             "ticks": ""
            },
            "colorscale": [
             [
              0,
              "#0d0887"
             ],
             [
              0.1111111111111111,
              "#46039f"
             ],
             [
              0.2222222222222222,
              "#7201a8"
             ],
             [
              0.3333333333333333,
              "#9c179e"
             ],
             [
              0.4444444444444444,
              "#bd3786"
             ],
             [
              0.5555555555555556,
              "#d8576b"
             ],
             [
              0.6666666666666666,
              "#ed7953"
             ],
             [
              0.7777777777777778,
              "#fb9f3a"
             ],
             [
              0.8888888888888888,
              "#fdca26"
             ],
             [
              1,
              "#f0f921"
             ]
            ],
            "type": "heatmapgl"
           }
          ],
          "histogram": [
           {
            "marker": {
             "pattern": {
              "fillmode": "overlay",
              "size": 10,
              "solidity": 0.2
             }
            },
            "type": "histogram"
           }
          ],
          "histogram2d": [
           {
            "colorbar": {
             "outlinewidth": 0,
             "ticks": ""
            },
            "colorscale": [
             [
              0,
              "#0d0887"
             ],
             [
              0.1111111111111111,
              "#46039f"
             ],
             [
              0.2222222222222222,
              "#7201a8"
             ],
             [
              0.3333333333333333,
              "#9c179e"
             ],
             [
              0.4444444444444444,
              "#bd3786"
             ],
             [
              0.5555555555555556,
              "#d8576b"
             ],
             [
              0.6666666666666666,
              "#ed7953"
             ],
             [
              0.7777777777777778,
              "#fb9f3a"
             ],
             [
              0.8888888888888888,
              "#fdca26"
             ],
             [
              1,
              "#f0f921"
             ]
            ],
            "type": "histogram2d"
           }
          ],
          "histogram2dcontour": [
           {
            "colorbar": {
             "outlinewidth": 0,
             "ticks": ""
            },
            "colorscale": [
             [
              0,
              "#0d0887"
             ],
             [
              0.1111111111111111,
              "#46039f"
             ],
             [
              0.2222222222222222,
              "#7201a8"
             ],
             [
              0.3333333333333333,
              "#9c179e"
             ],
             [
              0.4444444444444444,
              "#bd3786"
             ],
             [
              0.5555555555555556,
              "#d8576b"
             ],
             [
              0.6666666666666666,
              "#ed7953"
             ],
             [
              0.7777777777777778,
              "#fb9f3a"
             ],
             [
              0.8888888888888888,
              "#fdca26"
             ],
             [
              1,
              "#f0f921"
             ]
            ],
            "type": "histogram2dcontour"
           }
          ],
          "mesh3d": [
           {
            "colorbar": {
             "outlinewidth": 0,
             "ticks": ""
            },
            "type": "mesh3d"
           }
          ],
          "parcoords": [
           {
            "line": {
             "colorbar": {
              "outlinewidth": 0,
              "ticks": ""
             }
            },
            "type": "parcoords"
           }
          ],
          "pie": [
           {
            "automargin": true,
            "type": "pie"
           }
          ],
          "scatter": [
           {
            "fillpattern": {
             "fillmode": "overlay",
             "size": 10,
             "solidity": 0.2
            },
            "type": "scatter"
           }
          ],
          "scatter3d": [
           {
            "line": {
             "colorbar": {
              "outlinewidth": 0,
              "ticks": ""
             }
            },
            "marker": {
             "colorbar": {
              "outlinewidth": 0,
              "ticks": ""
             }
            },
            "type": "scatter3d"
           }
          ],
          "scattercarpet": [
           {
            "marker": {
             "colorbar": {
              "outlinewidth": 0,
              "ticks": ""
             }
            },
            "type": "scattercarpet"
           }
          ],
          "scattergeo": [
           {
            "marker": {
             "colorbar": {
              "outlinewidth": 0,
              "ticks": ""
             }
            },
            "type": "scattergeo"
           }
          ],
          "scattergl": [
           {
            "marker": {
             "colorbar": {
              "outlinewidth": 0,
              "ticks": ""
             }
            },
            "type": "scattergl"
           }
          ],
          "scattermapbox": [
           {
            "marker": {
             "colorbar": {
              "outlinewidth": 0,
              "ticks": ""
             }
            },
            "type": "scattermapbox"
           }
          ],
          "scatterpolar": [
           {
            "marker": {
             "colorbar": {
              "outlinewidth": 0,
              "ticks": ""
             }
            },
            "type": "scatterpolar"
           }
          ],
          "scatterpolargl": [
           {
            "marker": {
             "colorbar": {
              "outlinewidth": 0,
              "ticks": ""
             }
            },
            "type": "scatterpolargl"
           }
          ],
          "scatterternary": [
           {
            "marker": {
             "colorbar": {
              "outlinewidth": 0,
              "ticks": ""
             }
            },
            "type": "scatterternary"
           }
          ],
          "surface": [
           {
            "colorbar": {
             "outlinewidth": 0,
             "ticks": ""
            },
            "colorscale": [
             [
              0,
              "#0d0887"
             ],
             [
              0.1111111111111111,
              "#46039f"
             ],
             [
              0.2222222222222222,
              "#7201a8"
             ],
             [
              0.3333333333333333,
              "#9c179e"
             ],
             [
              0.4444444444444444,
              "#bd3786"
             ],
             [
              0.5555555555555556,
              "#d8576b"
             ],
             [
              0.6666666666666666,
              "#ed7953"
             ],
             [
              0.7777777777777778,
              "#fb9f3a"
             ],
             [
              0.8888888888888888,
              "#fdca26"
             ],
             [
              1,
              "#f0f921"
             ]
            ],
            "type": "surface"
           }
          ],
          "table": [
           {
            "cells": {
             "fill": {
              "color": "#EBF0F8"
             },
             "line": {
              "color": "white"
             }
            },
            "header": {
             "fill": {
              "color": "#C8D4E3"
             },
             "line": {
              "color": "white"
             }
            },
            "type": "table"
           }
          ]
         },
         "layout": {
          "annotationdefaults": {
           "arrowcolor": "#2a3f5f",
           "arrowhead": 0,
           "arrowwidth": 1
          },
          "autotypenumbers": "strict",
          "coloraxis": {
           "colorbar": {
            "outlinewidth": 0,
            "ticks": ""
           }
          },
          "colorscale": {
           "diverging": [
            [
             0,
             "#8e0152"
            ],
            [
             0.1,
             "#c51b7d"
            ],
            [
             0.2,
             "#de77ae"
            ],
            [
             0.3,
             "#f1b6da"
            ],
            [
             0.4,
             "#fde0ef"
            ],
            [
             0.5,
             "#f7f7f7"
            ],
            [
             0.6,
             "#e6f5d0"
            ],
            [
             0.7,
             "#b8e186"
            ],
            [
             0.8,
             "#7fbc41"
            ],
            [
             0.9,
             "#4d9221"
            ],
            [
             1,
             "#276419"
            ]
           ],
           "sequential": [
            [
             0,
             "#0d0887"
            ],
            [
             0.1111111111111111,
             "#46039f"
            ],
            [
             0.2222222222222222,
             "#7201a8"
            ],
            [
             0.3333333333333333,
             "#9c179e"
            ],
            [
             0.4444444444444444,
             "#bd3786"
            ],
            [
             0.5555555555555556,
             "#d8576b"
            ],
            [
             0.6666666666666666,
             "#ed7953"
            ],
            [
             0.7777777777777778,
             "#fb9f3a"
            ],
            [
             0.8888888888888888,
             "#fdca26"
            ],
            [
             1,
             "#f0f921"
            ]
           ],
           "sequentialminus": [
            [
             0,
             "#0d0887"
            ],
            [
             0.1111111111111111,
             "#46039f"
            ],
            [
             0.2222222222222222,
             "#7201a8"
            ],
            [
             0.3333333333333333,
             "#9c179e"
            ],
            [
             0.4444444444444444,
             "#bd3786"
            ],
            [
             0.5555555555555556,
             "#d8576b"
            ],
            [
             0.6666666666666666,
             "#ed7953"
            ],
            [
             0.7777777777777778,
             "#fb9f3a"
            ],
            [
             0.8888888888888888,
             "#fdca26"
            ],
            [
             1,
             "#f0f921"
            ]
           ]
          },
          "colorway": [
           "#636efa",
           "#EF553B",
           "#00cc96",
           "#ab63fa",
           "#FFA15A",
           "#19d3f3",
           "#FF6692",
           "#B6E880",
           "#FF97FF",
           "#FECB52"
          ],
          "font": {
           "color": "#2a3f5f"
          },
          "geo": {
           "bgcolor": "white",
           "lakecolor": "white",
           "landcolor": "#E5ECF6",
           "showlakes": true,
           "showland": true,
           "subunitcolor": "white"
          },
          "hoverlabel": {
           "align": "left"
          },
          "hovermode": "closest",
          "mapbox": {
           "style": "light"
          },
          "paper_bgcolor": "white",
          "plot_bgcolor": "#E5ECF6",
          "polar": {
           "angularaxis": {
            "gridcolor": "white",
            "linecolor": "white",
            "ticks": ""
           },
           "bgcolor": "#E5ECF6",
           "radialaxis": {
            "gridcolor": "white",
            "linecolor": "white",
            "ticks": ""
           }
          },
          "scene": {
           "xaxis": {
            "backgroundcolor": "#E5ECF6",
            "gridcolor": "white",
            "gridwidth": 2,
            "linecolor": "white",
            "showbackground": true,
            "ticks": "",
            "zerolinecolor": "white"
           },
           "yaxis": {
            "backgroundcolor": "#E5ECF6",
            "gridcolor": "white",
            "gridwidth": 2,
            "linecolor": "white",
            "showbackground": true,
            "ticks": "",
            "zerolinecolor": "white"
           },
           "zaxis": {
            "backgroundcolor": "#E5ECF6",
            "gridcolor": "white",
            "gridwidth": 2,
            "linecolor": "white",
            "showbackground": true,
            "ticks": "",
            "zerolinecolor": "white"
           }
          },
          "shapedefaults": {
           "line": {
            "color": "#2a3f5f"
           }
          },
          "ternary": {
           "aaxis": {
            "gridcolor": "white",
            "linecolor": "white",
            "ticks": ""
           },
           "baxis": {
            "gridcolor": "white",
            "linecolor": "white",
            "ticks": ""
           },
           "bgcolor": "#E5ECF6",
           "caxis": {
            "gridcolor": "white",
            "linecolor": "white",
            "ticks": ""
           }
          },
          "title": {
           "x": 0.05
          },
          "xaxis": {
           "automargin": true,
           "gridcolor": "white",
           "linecolor": "white",
           "ticks": "",
           "title": {
            "standoff": 15
           },
           "zerolinecolor": "white",
           "zerolinewidth": 2
          },
          "yaxis": {
           "automargin": true,
           "gridcolor": "white",
           "linecolor": "white",
           "ticks": "",
           "title": {
            "standoff": 15
           },
           "zerolinecolor": "white",
           "zerolinewidth": 2
          }
         }
        },
        "title": {
         "text": "Movie Ratings by Genre and Year"
        },
        "width": 1200
       }
      },
      "text/html": [
       "<div>                            <div id=\"9d89b34a-d4f8-412c-944d-93b355b4a6f2\" class=\"plotly-graph-div\" style=\"height:1200px; width:1200px;\"></div>            <script type=\"text/javascript\">                require([\"plotly\"], function(Plotly) {                    window.PLOTLYENV=window.PLOTLYENV || {};                                    if (document.getElementById(\"9d89b34a-d4f8-412c-944d-93b355b4a6f2\")) {                    Plotly.newPlot(                        \"9d89b34a-d4f8-412c-944d-93b355b4a6f2\",                        [{\"branchvalues\":\"total\",\"domain\":{\"x\":[0.0,1.0],\"y\":[0.0,1.0]},\"hovertemplate\":\"labels=%{label}<br>count=%{value}<br>parent=%{parent}<br>id=%{id}<extra></extra>\",\"ids\":[\"Comedy/1979/8.0\",\"Biography,Drama,History/1982/8.0\",\"Adventure,Drama,Western/1990/8.0\",\"Animation,Adventure,Comedy/1992/8.0\",\"Animation,Action,Adventure/2004/8.0\",\"Adventure,Comedy,Drama/1925/8.1\",\"Action,Adventure,Comedy/1926/8.1\",\"Comedy,Romance/1934/8.1\",\"Adventure,Family,Fantasy/1939/8.1\",\"Comedy,Drama/1939/8.1\",\"Drama/1940/8.1\",\"Drama,Film-Noir,Mystery/1940/8.1\",\"Drama,Romance,War/1946/8.1\",\"Film-Noir,Mystery,Thriller/1949/8.1\",\"Crime,Drama,Thriller/1954/8.1\",\"Drama,Fantasy/1957/8.1\",\"Drama,Romance/1957/8.1\",\"Adventure,Drama/1959/8.1\",\"Crime,Drama/1959/8.1\",\"Biography,Drama,Family/1965/8.1\",\"Drama,Thriller/1966/8.1\",\"Drama,War/1966/8.1\",\"Crime,Drama/1967/8.1\",\"Horror/1973/8.1\",\"Adventure,Drama,War/1975/8.1\",\"Adventure,Thriller/1975/8.1\",\"Drama/1976/8.1\",\"Drama,Sport/1976/8.1\",\"Drama,War/1978/8.1\",\"Action,Drama,Sci-Fi/1982/8.1\",\"Action,Sci-Fi/1984/8.1\",\"Adventure,Drama/1986/8.1\",\"Drama,War/1986/8.1\",\"Animation,Comedy,Family/1988/8.1\",\"Comedy,Drama/1989/8.1\",\"Biography,Crime,Drama/1993/8.1\",\"Comedy,Drama,Fantasy/1993/8.1\",\"Crime,Drama/1995/8.1\",\"Drama,Romance/1995/8.1\",\"Crime,Thriller/1996/8.1\",\"Drama/1996/8.1\",\"Comedy,Crime/1998/8.1\",\"Animation,Action,Adventure/1999/8.1\",\"Drama,Thriller/2000/8.1\",\"Animation,Adventure,Comedy/2001/8.1\",\"Biography,Crime,Drama/2002/8.1\",\"Action,Adventure,Fantasy/2003/8.1\",\"Crime,Drama,Mystery/2003/8.1\",\"Biography,Drama,History/2004/8.1\",\"Drama,Romance/2004/8.1\",\"Drama,Sport/2004/8.1\",\"Adventure,Biography,Drama/2007/8.1\",\"Animation,Adventure,Comedy/2007/8.1\",\"Drama/2008/8.1\",\"Animation,Comedy,Drama/2009/8.1\",\"Biography,Drama,Family/2009/8.1\",\"Animation,Action,Adventure/2010/8.1\",\"Adventure,Family,Fantasy/2011/8.1\",\"Drama/2011/8.1\",\"Action,Biography,Drama/2013/8.1\",\"Biography,Drama,History/2013/8.1\",\"Crime,Drama,Mystery/2013/8.1\",\"Adventure,Comedy,Crime/2014/8.1\",\"Comedy,Drama,Thriller/2014/8.1\",\"Drama,Mystery,Thriller/2014/8.1\",\"Action,Adventure,Sci-Fi/2015/8.1\",\"Biography,Crime,Drama/2015/8.1\",\"Drama,Thriller/2015/8.1\",\"Biography,Drama,History/2016/8.1\",\"Drama,Romance,Thriller/2016/8.1\",\"Action,Drama,Sci-Fi/2017/8.1\",\"Comedy,Crime,Drama/2017/8.1\",\"Action,Biography,Drama/2019/8.1\",\"Action,Comedy,Romance/1924/8.2\",\"Biography,Drama,History/1928/8.2\",\"Drama,Romance,War/1939/8.2\",\"Comedy,Romance,War/1942/8.2\",\"Adventure,Drama,Western/1948/8.2\",\"Crime,Drama,Mystery/1950/8.2\",\"Drama/1950/8.2\",\"Adventure,Drama,Thriller/1953/8.2\",\"Drama/1953/8.2\",\"Crime,Thriller/1954/8.2\",\"Adventure,Drama,War/1957/8.2\",\"Comedy,Music,Romance/1959/8.2\",\"Action,Drama,Thriller/1961/8.2\",\"Adventure,Drama,History/1963/8.2\",\"Western/1965/8.2\",\"Drama,Mystery,Thriller/1974/8.2\",\"Adventure,Biography,Drama/1975/8.2\",\"Adventure,Comedy,Fantasy/1975/8.2\",\"Crime,Drama/1976/8.2\",\"Biography,Drama/1980/8.2\",\"Biography,Drama,Sport/1980/8.2\",\"Horror,Mystery,Sci-Fi/1982/8.2\",\"Action,Drama,War/1985/8.2\",\"Action,Thriller/1988/8.2\",\"Action,Adventure/1989/8.2\",\"Drama,Western/1992/8.2\",\"Action,Adventure,Sci-Fi/1993/8.2\",\"Crime,Drama/1995/8.2\",\"Crime,Drama,Mystery/1997/8.2\",\"Drama,Family,Sport/1997/8.2\",\"Action,Comedy,Crime/1998/8.2\",\"Comedy,Drama/1998/8.2\",\"Drama,Mystery,Thriller/1999/8.2\",\"Comedy,Crime/2000/8.2\",\"Biography,Drama/2001/8.2\",\"Action,Crime,Drama/2003/8.2\",\"Animation,Adventure,Comedy/2003/8.2\",\"Animation,Adventure,Family/2004/8.2\",\"Biography,Drama,History/2004/8.2\",\"Action,Crime,Drama/2005/8.2\",\"Action,Drama,Sci-Fi/2005/8.2\",\"Drama,Family/2005/8.2\",\"Drama,Fantasy,War/2006/8.2\",\"Crime,Drama,Thriller/2007/8.2\",\"Drama/2007/8.2\",\"Drama,Mystery,Romance/2009/8.2\",\"Mystery,Thriller/2010/8.2\",\"Action,Drama,Sport/2011/8.2\",\"Biography,Comedy,Crime/2013/8.2\",\"Animation,Adventure,Comedy/2015/8.2\",\"Biography,Comedy,Drama/2018/8.2\",\"Action,Drama,War/2019/8.2\",\"Animation,Adventure,Comedy/2019/8.2\",\"Drama,Mystery/2020/8.2\",\"Action,Adventure,Fantasy/2021/8.2\",\"Comedy,Drama,Family/1921/8.3\",\"Drama,Sci-Fi/1927/8.3\",\"Crime,Mystery,Thriller/1931/8.3\",\"Drama,Mystery/1941/8.3\",\"Crime,Drama,Film-Noir/1944/8.3\",\"Drama/1948/8.3\",\"Comedy,Musical,Romance/1952/8.3\",\"Drama/1952/8.3\",\"Drama/1955/8.3\",\"Mystery,Romance,Thriller/1958/8.3\",\"Action,Adventure,Mystery/1959/8.3\",\"Comedy,Drama,Romance/1960/8.3\",\"Drama,War/1961/8.3\",\"Adventure,Biography,Drama/1962/8.3\",\"Crime,Drama/1962/8.3\",\"Adventure,Sci-Fi/1968/8.3\",\"Crime,Sci-Fi/1971/8.3\",\"Comedy,Crime,Drama/1973/8.3\",\"Action,Adventure,Fantasy/1983/8.3\",\"Crime,Drama/1983/8.3\",\"Crime,Drama/1984/8.3\",\"Drama,War/1987/8.3\",\"Crime,Thriller/1992/8.3\",\"Action,Crime,Drama/1995/8.3\",\"Animation,Adventure,Comedy/1995/8.3\",\"Drama,Romance/1997/8.3\",\"Drama/2000/8.3\",\"Comedy,Romance/2001/8.3\",\"Drama,Romance,Sci-Fi/2004/8.3\",\"Drama,Family/2007/8.3\",\"Adventure,Drama,War/2009/8.3\",\"Animation,Adventure,Comedy/2009/8.3\",\"Animation,Adventure,Comedy/2010/8.3\",\"Drama,Mystery/2010/8.3\",\"Drama/2011/8.3\",\"Drama/2012/8.3\",\"Action,Biography,Drama/2016/8.3\",\"Action,Drama/2022/8.3\",\"Comedy,Drama,War/1940/8.4\",\"Drama,Film-Noir/1950/8.4\",\"Crime,Drama,Mystery/1957/8.4\",\"Drama,War/1957/8.4\",\"Crime,Drama,Mystery/1963/8.4\",\"Comedy,War/1964/8.4\",\"Drama,Horror/1980/8.4\",\"Action,Adventure/1981/8.4\",\"Drama,War/1981/8.4\",\"Biography,Drama,Music/1984/8.4\",\"Drama,Thriller,War/1985/8.4\",\"Action,Adventure,Sci-Fi/1986/8.4\",\"Biography,Drama,History/1995/8.4\",\"Animation,Action,Adventure/1997/8.4\",\"Drama/1999/8.4\",\"Mystery,Thriller/2000/8.4\",\"Action,Drama,Mystery/2003/8.4\",\"Drama,Mystery,Thriller/2006/8.4\",\"Animation,Adventure,Family/2008/8.4\",\"Comedy,Drama/2009/8.4\",\"Action,Drama/2012/8.4\",\"Drama,Western/2012/8.4\",\"Animation,Drama,Fantasy/2016/8.4\",\"Animation,Adventure,Comedy/2017/8.4\",\"Action,Adventure,Sci-Fi/2018/8.4\",\"Animation,Action,Adventure/2018/8.4\",\"Drama/2018/8.4\",\"Action,Adventure,Drama/2019/8.4\",\"Crime,Drama,Thriller/2019/8.4\",\"Biography,Drama,History/2020/8.4\",\"Comedy,Drama,Romance/1931/8.5\",\"Comedy,Drama,Romance/1936/8.5\",\"Drama,Romance,War/1942/8.5\",\"Mystery,Thriller/1954/8.5\",\"Horror,Mystery,Thriller/1960/8.5\",\"Western/1968/8.5\",\"Drama,Mystery,War/1979/8.5\",\"Horror,Sci-Fi/1979/8.5\",\"Adventure,Comedy,Sci-Fi/1985/8.5\",\"Animation,Drama,War/1988/8.5\",\"Drama,Romance/1988/8.5\",\"Action,Crime,Drama/1994/8.5\",\"Animation,Adventure,Drama/1994/8.5\",\"Crime,Drama,Mystery/1995/8.5\",\"Crime,Drama/1998/8.5\",\"Action,Adventure,Drama/2000/8.5\",\"Biography,Drama,Music/2002/8.5\",\"Crime,Drama,Thriller/2006/8.5\",\"Drama,Mystery,Sci-Fi/2006/8.5\",\"Biography,Comedy,Drama/2011/8.5\",\"Drama,Music/2014/8.5\",\"Drama,Thriller/2019/8.5\",\"Drama,Family,Fantasy/1946/8.6\",\"Action,Drama/1954/8.6\",\"Action,Drama,Mystery/1962/8.6\",\"Action,Adventure,Fantasy/1977/8.6\",\"Action,Sci-Fi/1991/8.6\",\"Crime,Drama,Thriller/1991/8.6\",\"Crime,Drama,Mystery/1995/8.6\",\"Comedy,Drama,Romance/1997/8.6\",\"Drama,War/1998/8.6\",\"Crime,Drama,Fantasy/1999/8.6\",\"Animation,Adventure,Family/2001/8.6\",\"Crime,Drama/2002/8.6\",\"Adventure,Drama,Sci-Fi/2014/8.6\",\"Drama/1975/8.7\",\"Action,Adventure,Fantasy/1980/8.7\",\"Biography,Crime,Drama/1990/8.7\",\"Action,Sci-Fi/1999/8.7\",\"Adventure,Western/1966/8.8\",\"Drama,Romance/1994/8.8\",\"Drama/1999/8.8\",\"Action,Adventure,Drama/2001/8.8\",\"Action,Adventure,Drama/2002/8.8\",\"Action,Adventure,Sci-Fi/2010/8.8\",\"Crime,Drama,Mystery/2021/8.8\",\"Crime,Drama/1994/8.9\",\"Crime,Drama/1957/9.0\",\"Crime,Drama/1974/9.0\",\"Biography,Drama,History/1993/9.0\",\"Action,Adventure,Drama/2003/9.0\",\"Action,Crime,Drama/2008/9.0\",\"Crime,Drama/1972/9.2\",\"Drama/1994/9.3\",\"Comedy,Drama,Family/1921\",\"Action,Comedy,Romance/1924\",\"Adventure,Comedy,Drama/1925\",\"Action,Adventure,Comedy/1926\",\"Drama,Sci-Fi/1927\",\"Biography,Drama,History/1928\",\"Comedy,Drama,Romance/1931\",\"Crime,Mystery,Thriller/1931\",\"Comedy,Romance/1934\",\"Comedy,Drama,Romance/1936\",\"Adventure,Family,Fantasy/1939\",\"Comedy,Drama/1939\",\"Drama,Romance,War/1939\",\"Comedy,Drama,War/1940\",\"Drama/1940\",\"Drama,Film-Noir,Mystery/1940\",\"Drama,Mystery/1941\",\"Comedy,Romance,War/1942\",\"Drama,Romance,War/1942\",\"Crime,Drama,Film-Noir/1944\",\"Drama,Family,Fantasy/1946\",\"Drama,Romance,War/1946\",\"Adventure,Drama,Western/1948\",\"Drama/1948\",\"Film-Noir,Mystery,Thriller/1949\",\"Crime,Drama,Mystery/1950\",\"Drama/1950\",\"Drama,Film-Noir/1950\",\"Comedy,Musical,Romance/1952\",\"Drama/1952\",\"Adventure,Drama,Thriller/1953\",\"Drama/1953\",\"Action,Drama/1954\",\"Crime,Drama,Thriller/1954\",\"Crime,Thriller/1954\",\"Mystery,Thriller/1954\",\"Drama/1955\",\"Adventure,Drama,War/1957\",\"Crime,Drama/1957\",\"Crime,Drama,Mystery/1957\",\"Drama,Fantasy/1957\",\"Drama,Romance/1957\",\"Drama,War/1957\",\"Mystery,Romance,Thriller/1958\",\"Action,Adventure,Mystery/1959\",\"Adventure,Drama/1959\",\"Comedy,Music,Romance/1959\",\"Crime,Drama/1959\",\"Comedy,Drama,Romance/1960\",\"Horror,Mystery,Thriller/1960\",\"Action,Drama,Thriller/1961\",\"Drama,War/1961\",\"Action,Drama,Mystery/1962\",\"Adventure,Biography,Drama/1962\",\"Crime,Drama/1962\",\"Adventure,Drama,History/1963\",\"Crime,Drama,Mystery/1963\",\"Comedy,War/1964\",\"Biography,Drama,Family/1965\",\"Western/1965\",\"Adventure,Western/1966\",\"Drama,Thriller/1966\",\"Drama,War/1966\",\"Crime,Drama/1967\",\"Adventure,Sci-Fi/1968\",\"Western/1968\",\"Crime,Sci-Fi/1971\",\"Crime,Drama/1972\",\"Comedy,Crime,Drama/1973\",\"Horror/1973\",\"Crime,Drama/1974\",\"Drama,Mystery,Thriller/1974\",\"Adventure,Biography,Drama/1975\",\"Adventure,Comedy,Fantasy/1975\",\"Adventure,Drama,War/1975\",\"Adventure,Thriller/1975\",\"Drama/1975\",\"Crime,Drama/1976\",\"Drama/1976\",\"Drama,Sport/1976\",\"Action,Adventure,Fantasy/1977\",\"Drama,War/1978\",\"Comedy/1979\",\"Drama,Mystery,War/1979\",\"Horror,Sci-Fi/1979\",\"Action,Adventure,Fantasy/1980\",\"Biography,Drama/1980\",\"Biography,Drama,Sport/1980\",\"Drama,Horror/1980\",\"Action,Adventure/1981\",\"Drama,War/1981\",\"Action,Drama,Sci-Fi/1982\",\"Biography,Drama,History/1982\",\"Horror,Mystery,Sci-Fi/1982\",\"Action,Adventure,Fantasy/1983\",\"Crime,Drama/1983\",\"Action,Sci-Fi/1984\",\"Biography,Drama,Music/1984\",\"Crime,Drama/1984\",\"Action,Drama,War/1985\",\"Adventure,Comedy,Sci-Fi/1985\",\"Drama,Thriller,War/1985\",\"Action,Adventure,Sci-Fi/1986\",\"Adventure,Drama/1986\",\"Drama,War/1986\",\"Drama,War/1987\",\"Action,Thriller/1988\",\"Animation,Comedy,Family/1988\",\"Animation,Drama,War/1988\",\"Drama,Romance/1988\",\"Action,Adventure/1989\",\"Comedy,Drama/1989\",\"Adventure,Drama,Western/1990\",\"Biography,Crime,Drama/1990\",\"Action,Sci-Fi/1991\",\"Crime,Drama,Thriller/1991\",\"Animation,Adventure,Comedy/1992\",\"Crime,Thriller/1992\",\"Drama,Western/1992\",\"Action,Adventure,Sci-Fi/1993\",\"Biography,Crime,Drama/1993\",\"Biography,Drama,History/1993\",\"Comedy,Drama,Fantasy/1993\",\"Action,Crime,Drama/1994\",\"Animation,Adventure,Drama/1994\",\"Crime,Drama/1994\",\"Drama/1994\",\"Drama,Romance/1994\",\"Action,Crime,Drama/1995\",\"Animation,Adventure,Comedy/1995\",\"Biography,Drama,History/1995\",\"Crime,Drama/1995\",\"Crime,Drama,Mystery/1995\",\"Drama,Romance/1995\",\"Crime,Thriller/1996\",\"Drama/1996\",\"Animation,Action,Adventure/1997\",\"Comedy,Drama,Romance/1997\",\"Crime,Drama,Mystery/1997\",\"Drama,Family,Sport/1997\",\"Drama,Romance/1997\",\"Action,Comedy,Crime/1998\",\"Comedy,Crime/1998\",\"Comedy,Drama/1998\",\"Crime,Drama/1998\",\"Drama,War/1998\",\"Action,Sci-Fi/1999\",\"Animation,Action,Adventure/1999\",\"Crime,Drama,Fantasy/1999\",\"Drama/1999\",\"Drama,Mystery,Thriller/1999\",\"Action,Adventure,Drama/2000\",\"Comedy,Crime/2000\",\"Drama/2000\",\"Drama,Thriller/2000\",\"Mystery,Thriller/2000\",\"Action,Adventure,Drama/2001\",\"Animation,Adventure,Comedy/2001\",\"Animation,Adventure,Family/2001\",\"Biography,Drama/2001\",\"Comedy,Romance/2001\",\"Action,Adventure,Drama/2002\",\"Biography,Crime,Drama/2002\",\"Biography,Drama,Music/2002\",\"Crime,Drama/2002\",\"Action,Adventure,Drama/2003\",\"Action,Adventure,Fantasy/2003\",\"Action,Crime,Drama/2003\",\"Action,Drama,Mystery/2003\",\"Animation,Adventure,Comedy/2003\",\"Crime,Drama,Mystery/2003\",\"Animation,Action,Adventure/2004\",\"Animation,Adventure,Family/2004\",\"Biography,Drama,History/2004\",\"Drama,Romance/2004\",\"Drama,Romance,Sci-Fi/2004\",\"Drama,Sport/2004\",\"Action,Crime,Drama/2005\",\"Action,Drama,Sci-Fi/2005\",\"Drama,Family/2005\",\"Crime,Drama,Thriller/2006\",\"Drama,Fantasy,War/2006\",\"Drama,Mystery,Sci-Fi/2006\",\"Drama,Mystery,Thriller/2006\",\"Adventure,Biography,Drama/2007\",\"Animation,Adventure,Comedy/2007\",\"Crime,Drama,Thriller/2007\",\"Drama/2007\",\"Drama,Family/2007\",\"Action,Crime,Drama/2008\",\"Animation,Adventure,Family/2008\",\"Drama/2008\",\"Adventure,Drama,War/2009\",\"Animation,Adventure,Comedy/2009\",\"Animation,Comedy,Drama/2009\",\"Biography,Drama,Family/2009\",\"Comedy,Drama/2009\",\"Drama,Mystery,Romance/2009\",\"Action,Adventure,Sci-Fi/2010\",\"Animation,Action,Adventure/2010\",\"Animation,Adventure,Comedy/2010\",\"Drama,Mystery/2010\",\"Mystery,Thriller/2010\",\"Action,Drama,Sport/2011\",\"Adventure,Family,Fantasy/2011\",\"Biography,Comedy,Drama/2011\",\"Drama/2011\",\"Action,Drama/2012\",\"Drama/2012\",\"Drama,Western/2012\",\"Action,Biography,Drama/2013\",\"Biography,Comedy,Crime/2013\",\"Biography,Drama,History/2013\",\"Crime,Drama,Mystery/2013\",\"Adventure,Comedy,Crime/2014\",\"Adventure,Drama,Sci-Fi/2014\",\"Comedy,Drama,Thriller/2014\",\"Drama,Music/2014\",\"Drama,Mystery,Thriller/2014\",\"Action,Adventure,Sci-Fi/2015\",\"Animation,Adventure,Comedy/2015\",\"Biography,Crime,Drama/2015\",\"Drama,Thriller/2015\",\"Action,Biography,Drama/2016\",\"Animation,Drama,Fantasy/2016\",\"Biography,Drama,History/2016\",\"Drama,Romance,Thriller/2016\",\"Action,Drama,Sci-Fi/2017\",\"Animation,Adventure,Comedy/2017\",\"Comedy,Crime,Drama/2017\",\"Action,Adventure,Sci-Fi/2018\",\"Animation,Action,Adventure/2018\",\"Biography,Comedy,Drama/2018\",\"Drama/2018\",\"Action,Adventure,Drama/2019\",\"Action,Biography,Drama/2019\",\"Action,Drama,War/2019\",\"Animation,Adventure,Comedy/2019\",\"Crime,Drama,Thriller/2019\",\"Drama,Thriller/2019\",\"Biography,Drama,History/2020\",\"Drama,Mystery/2020\",\"Action,Adventure,Fantasy/2021\",\"Crime,Drama,Mystery/2021\",\"Action,Drama/2022\",\"Action,Adventure\",\"Action,Adventure,Comedy\",\"Action,Adventure,Drama\",\"Action,Adventure,Fantasy\",\"Action,Adventure,Mystery\",\"Action,Adventure,Sci-Fi\",\"Action,Biography,Drama\",\"Action,Comedy,Crime\",\"Action,Comedy,Romance\",\"Action,Crime,Drama\",\"Action,Drama\",\"Action,Drama,Mystery\",\"Action,Drama,Sci-Fi\",\"Action,Drama,Sport\",\"Action,Drama,Thriller\",\"Action,Drama,War\",\"Action,Sci-Fi\",\"Action,Thriller\",\"Adventure,Biography,Drama\",\"Adventure,Comedy,Crime\",\"Adventure,Comedy,Drama\",\"Adventure,Comedy,Fantasy\",\"Adventure,Comedy,Sci-Fi\",\"Adventure,Drama\",\"Adventure,Drama,History\",\"Adventure,Drama,Sci-Fi\",\"Adventure,Drama,Thriller\",\"Adventure,Drama,War\",\"Adventure,Drama,Western\",\"Adventure,Family,Fantasy\",\"Adventure,Sci-Fi\",\"Adventure,Thriller\",\"Adventure,Western\",\"Animation,Action,Adventure\",\"Animation,Adventure,Comedy\",\"Animation,Adventure,Drama\",\"Animation,Adventure,Family\",\"Animation,Comedy,Drama\",\"Animation,Comedy,Family\",\"Animation,Drama,Fantasy\",\"Animation,Drama,War\",\"Biography,Comedy,Crime\",\"Biography,Comedy,Drama\",\"Biography,Crime,Drama\",\"Biography,Drama\",\"Biography,Drama,Family\",\"Biography,Drama,History\",\"Biography,Drama,Music\",\"Biography,Drama,Sport\",\"Comedy\",\"Comedy,Crime\",\"Comedy,Crime,Drama\",\"Comedy,Drama\",\"Comedy,Drama,Family\",\"Comedy,Drama,Fantasy\",\"Comedy,Drama,Romance\",\"Comedy,Drama,Thriller\",\"Comedy,Drama,War\",\"Comedy,Music,Romance\",\"Comedy,Musical,Romance\",\"Comedy,Romance\",\"Comedy,Romance,War\",\"Comedy,War\",\"Crime,Drama\",\"Crime,Drama,Fantasy\",\"Crime,Drama,Film-Noir\",\"Crime,Drama,Mystery\",\"Crime,Drama,Thriller\",\"Crime,Mystery,Thriller\",\"Crime,Sci-Fi\",\"Crime,Thriller\",\"Drama\",\"Drama,Family\",\"Drama,Family,Fantasy\",\"Drama,Family,Sport\",\"Drama,Fantasy\",\"Drama,Fantasy,War\",\"Drama,Film-Noir\",\"Drama,Film-Noir,Mystery\",\"Drama,Horror\",\"Drama,Music\",\"Drama,Mystery\",\"Drama,Mystery,Romance\",\"Drama,Mystery,Sci-Fi\",\"Drama,Mystery,Thriller\",\"Drama,Mystery,War\",\"Drama,Romance\",\"Drama,Romance,Sci-Fi\",\"Drama,Romance,Thriller\",\"Drama,Romance,War\",\"Drama,Sci-Fi\",\"Drama,Sport\",\"Drama,Thriller\",\"Drama,Thriller,War\",\"Drama,War\",\"Drama,Western\",\"Film-Noir,Mystery,Thriller\",\"Horror\",\"Horror,Mystery,Sci-Fi\",\"Horror,Mystery,Thriller\",\"Horror,Sci-Fi\",\"Mystery,Romance,Thriller\",\"Mystery,Thriller\",\"Western\"],\"labels\":[\"8.0\",\"8.0\",\"8.0\",\"8.0\",\"8.0\",\"8.1\",\"8.1\",\"8.1\",\"8.1\",\"8.1\",\"8.1\",\"8.1\",\"8.1\",\"8.1\",\"8.1\",\"8.1\",\"8.1\",\"8.1\",\"8.1\",\"8.1\",\"8.1\",\"8.1\",\"8.1\",\"8.1\",\"8.1\",\"8.1\",\"8.1\",\"8.1\",\"8.1\",\"8.1\",\"8.1\",\"8.1\",\"8.1\",\"8.1\",\"8.1\",\"8.1\",\"8.1\",\"8.1\",\"8.1\",\"8.1\",\"8.1\",\"8.1\",\"8.1\",\"8.1\",\"8.1\",\"8.1\",\"8.1\",\"8.1\",\"8.1\",\"8.1\",\"8.1\",\"8.1\",\"8.1\",\"8.1\",\"8.1\",\"8.1\",\"8.1\",\"8.1\",\"8.1\",\"8.1\",\"8.1\",\"8.1\",\"8.1\",\"8.1\",\"8.1\",\"8.1\",\"8.1\",\"8.1\",\"8.1\",\"8.1\",\"8.1\",\"8.1\",\"8.1\",\"8.2\",\"8.2\",\"8.2\",\"8.2\",\"8.2\",\"8.2\",\"8.2\",\"8.2\",\"8.2\",\"8.2\",\"8.2\",\"8.2\",\"8.2\",\"8.2\",\"8.2\",\"8.2\",\"8.2\",\"8.2\",\"8.2\",\"8.2\",\"8.2\",\"8.2\",\"8.2\",\"8.2\",\"8.2\",\"8.2\",\"8.2\",\"8.2\",\"8.2\",\"8.2\",\"8.2\",\"8.2\",\"8.2\",\"8.2\",\"8.2\",\"8.2\",\"8.2\",\"8.2\",\"8.2\",\"8.2\",\"8.2\",\"8.2\",\"8.2\",\"8.2\",\"8.2\",\"8.2\",\"8.2\",\"8.2\",\"8.2\",\"8.2\",\"8.2\",\"8.2\",\"8.2\",\"8.2\",\"8.2\",\"8.3\",\"8.3\",\"8.3\",\"8.3\",\"8.3\",\"8.3\",\"8.3\",\"8.3\",\"8.3\",\"8.3\",\"8.3\",\"8.3\",\"8.3\",\"8.3\",\"8.3\",\"8.3\",\"8.3\",\"8.3\",\"8.3\",\"8.3\",\"8.3\",\"8.3\",\"8.3\",\"8.3\",\"8.3\",\"8.3\",\"8.3\",\"8.3\",\"8.3\",\"8.3\",\"8.3\",\"8.3\",\"8.3\",\"8.3\",\"8.3\",\"8.3\",\"8.3\",\"8.3\",\"8.4\",\"8.4\",\"8.4\",\"8.4\",\"8.4\",\"8.4\",\"8.4\",\"8.4\",\"8.4\",\"8.4\",\"8.4\",\"8.4\",\"8.4\",\"8.4\",\"8.4\",\"8.4\",\"8.4\",\"8.4\",\"8.4\",\"8.4\",\"8.4\",\"8.4\",\"8.4\",\"8.4\",\"8.4\",\"8.4\",\"8.4\",\"8.4\",\"8.4\",\"8.4\",\"8.5\",\"8.5\",\"8.5\",\"8.5\",\"8.5\",\"8.5\",\"8.5\",\"8.5\",\"8.5\",\"8.5\",\"8.5\",\"8.5\",\"8.5\",\"8.5\",\"8.5\",\"8.5\",\"8.5\",\"8.5\",\"8.5\",\"8.5\",\"8.5\",\"8.5\",\"8.6\",\"8.6\",\"8.6\",\"8.6\",\"8.6\",\"8.6\",\"8.6\",\"8.6\",\"8.6\",\"8.6\",\"8.6\",\"8.6\",\"8.6\",\"8.7\",\"8.7\",\"8.7\",\"8.7\",\"8.8\",\"8.8\",\"8.8\",\"8.8\",\"8.8\",\"8.8\",\"8.8\",\"8.9\",\"9.0\",\"9.0\",\"9.0\",\"9.0\",\"9.0\",\"9.2\",\"9.3\",\"1921\",\"1924\",\"1925\",\"1926\",\"1927\",\"1928\",\"1931\",\"1931\",\"1934\",\"1936\",\"1939\",\"1939\",\"1939\",\"1940\",\"1940\",\"1940\",\"1941\",\"1942\",\"1942\",\"1944\",\"1946\",\"1946\",\"1948\",\"1948\",\"1949\",\"1950\",\"1950\",\"1950\",\"1952\",\"1952\",\"1953\",\"1953\",\"1954\",\"1954\",\"1954\",\"1954\",\"1955\",\"1957\",\"1957\",\"1957\",\"1957\",\"1957\",\"1957\",\"1958\",\"1959\",\"1959\",\"1959\",\"1959\",\"1960\",\"1960\",\"1961\",\"1961\",\"1962\",\"1962\",\"1962\",\"1963\",\"1963\",\"1964\",\"1965\",\"1965\",\"1966\",\"1966\",\"1966\",\"1967\",\"1968\",\"1968\",\"1971\",\"1972\",\"1973\",\"1973\",\"1974\",\"1974\",\"1975\",\"1975\",\"1975\",\"1975\",\"1975\",\"1976\",\"1976\",\"1976\",\"1977\",\"1978\",\"1979\",\"1979\",\"1979\",\"1980\",\"1980\",\"1980\",\"1980\",\"1981\",\"1981\",\"1982\",\"1982\",\"1982\",\"1983\",\"1983\",\"1984\",\"1984\",\"1984\",\"1985\",\"1985\",\"1985\",\"1986\",\"1986\",\"1986\",\"1987\",\"1988\",\"1988\",\"1988\",\"1988\",\"1989\",\"1989\",\"1990\",\"1990\",\"1991\",\"1991\",\"1992\",\"1992\",\"1992\",\"1993\",\"1993\",\"1993\",\"1993\",\"1994\",\"1994\",\"1994\",\"1994\",\"1994\",\"1995\",\"1995\",\"1995\",\"1995\",\"1995\",\"1995\",\"1996\",\"1996\",\"1997\",\"1997\",\"1997\",\"1997\",\"1997\",\"1998\",\"1998\",\"1998\",\"1998\",\"1998\",\"1999\",\"1999\",\"1999\",\"1999\",\"1999\",\"2000\",\"2000\",\"2000\",\"2000\",\"2000\",\"2001\",\"2001\",\"2001\",\"2001\",\"2001\",\"2002\",\"2002\",\"2002\",\"2002\",\"2003\",\"2003\",\"2003\",\"2003\",\"2003\",\"2003\",\"2004\",\"2004\",\"2004\",\"2004\",\"2004\",\"2004\",\"2005\",\"2005\",\"2005\",\"2006\",\"2006\",\"2006\",\"2006\",\"2007\",\"2007\",\"2007\",\"2007\",\"2007\",\"2008\",\"2008\",\"2008\",\"2009\",\"2009\",\"2009\",\"2009\",\"2009\",\"2009\",\"2010\",\"2010\",\"2010\",\"2010\",\"2010\",\"2011\",\"2011\",\"2011\",\"2011\",\"2012\",\"2012\",\"2012\",\"2013\",\"2013\",\"2013\",\"2013\",\"2014\",\"2014\",\"2014\",\"2014\",\"2014\",\"2015\",\"2015\",\"2015\",\"2015\",\"2016\",\"2016\",\"2016\",\"2016\",\"2017\",\"2017\",\"2017\",\"2018\",\"2018\",\"2018\",\"2018\",\"2019\",\"2019\",\"2019\",\"2019\",\"2019\",\"2019\",\"2020\",\"2020\",\"2021\",\"2021\",\"2022\",\"Action,Adventure\",\"Action,Adventure,Comedy\",\"Action,Adventure,Drama\",\"Action,Adventure,Fantasy\",\"Action,Adventure,Mystery\",\"Action,Adventure,Sci-Fi\",\"Action,Biography,Drama\",\"Action,Comedy,Crime\",\"Action,Comedy,Romance\",\"Action,Crime,Drama\",\"Action,Drama\",\"Action,Drama,Mystery\",\"Action,Drama,Sci-Fi\",\"Action,Drama,Sport\",\"Action,Drama,Thriller\",\"Action,Drama,War\",\"Action,Sci-Fi\",\"Action,Thriller\",\"Adventure,Biography,Drama\",\"Adventure,Comedy,Crime\",\"Adventure,Comedy,Drama\",\"Adventure,Comedy,Fantasy\",\"Adventure,Comedy,Sci-Fi\",\"Adventure,Drama\",\"Adventure,Drama,History\",\"Adventure,Drama,Sci-Fi\",\"Adventure,Drama,Thriller\",\"Adventure,Drama,War\",\"Adventure,Drama,Western\",\"Adventure,Family,Fantasy\",\"Adventure,Sci-Fi\",\"Adventure,Thriller\",\"Adventure,Western\",\"Animation,Action,Adventure\",\"Animation,Adventure,Comedy\",\"Animation,Adventure,Drama\",\"Animation,Adventure,Family\",\"Animation,Comedy,Drama\",\"Animation,Comedy,Family\",\"Animation,Drama,Fantasy\",\"Animation,Drama,War\",\"Biography,Comedy,Crime\",\"Biography,Comedy,Drama\",\"Biography,Crime,Drama\",\"Biography,Drama\",\"Biography,Drama,Family\",\"Biography,Drama,History\",\"Biography,Drama,Music\",\"Biography,Drama,Sport\",\"Comedy\",\"Comedy,Crime\",\"Comedy,Crime,Drama\",\"Comedy,Drama\",\"Comedy,Drama,Family\",\"Comedy,Drama,Fantasy\",\"Comedy,Drama,Romance\",\"Comedy,Drama,Thriller\",\"Comedy,Drama,War\",\"Comedy,Music,Romance\",\"Comedy,Musical,Romance\",\"Comedy,Romance\",\"Comedy,Romance,War\",\"Comedy,War\",\"Crime,Drama\",\"Crime,Drama,Fantasy\",\"Crime,Drama,Film-Noir\",\"Crime,Drama,Mystery\",\"Crime,Drama,Thriller\",\"Crime,Mystery,Thriller\",\"Crime,Sci-Fi\",\"Crime,Thriller\",\"Drama\",\"Drama,Family\",\"Drama,Family,Fantasy\",\"Drama,Family,Sport\",\"Drama,Fantasy\",\"Drama,Fantasy,War\",\"Drama,Film-Noir\",\"Drama,Film-Noir,Mystery\",\"Drama,Horror\",\"Drama,Music\",\"Drama,Mystery\",\"Drama,Mystery,Romance\",\"Drama,Mystery,Sci-Fi\",\"Drama,Mystery,Thriller\",\"Drama,Mystery,War\",\"Drama,Romance\",\"Drama,Romance,Sci-Fi\",\"Drama,Romance,Thriller\",\"Drama,Romance,War\",\"Drama,Sci-Fi\",\"Drama,Sport\",\"Drama,Thriller\",\"Drama,Thriller,War\",\"Drama,War\",\"Drama,Western\",\"Film-Noir,Mystery,Thriller\",\"Horror\",\"Horror,Mystery,Sci-Fi\",\"Horror,Mystery,Thriller\",\"Horror,Sci-Fi\",\"Mystery,Romance,Thriller\",\"Mystery,Thriller\",\"Western\"],\"name\":\"\",\"parents\":[\"Comedy/1979\",\"Biography,Drama,History/1982\",\"Adventure,Drama,Western/1990\",\"Animation,Adventure,Comedy/1992\",\"Animation,Action,Adventure/2004\",\"Adventure,Comedy,Drama/1925\",\"Action,Adventure,Comedy/1926\",\"Comedy,Romance/1934\",\"Adventure,Family,Fantasy/1939\",\"Comedy,Drama/1939\",\"Drama/1940\",\"Drama,Film-Noir,Mystery/1940\",\"Drama,Romance,War/1946\",\"Film-Noir,Mystery,Thriller/1949\",\"Crime,Drama,Thriller/1954\",\"Drama,Fantasy/1957\",\"Drama,Romance/1957\",\"Adventure,Drama/1959\",\"Crime,Drama/1959\",\"Biography,Drama,Family/1965\",\"Drama,Thriller/1966\",\"Drama,War/1966\",\"Crime,Drama/1967\",\"Horror/1973\",\"Adventure,Drama,War/1975\",\"Adventure,Thriller/1975\",\"Drama/1976\",\"Drama,Sport/1976\",\"Drama,War/1978\",\"Action,Drama,Sci-Fi/1982\",\"Action,Sci-Fi/1984\",\"Adventure,Drama/1986\",\"Drama,War/1986\",\"Animation,Comedy,Family/1988\",\"Comedy,Drama/1989\",\"Biography,Crime,Drama/1993\",\"Comedy,Drama,Fantasy/1993\",\"Crime,Drama/1995\",\"Drama,Romance/1995\",\"Crime,Thriller/1996\",\"Drama/1996\",\"Comedy,Crime/1998\",\"Animation,Action,Adventure/1999\",\"Drama,Thriller/2000\",\"Animation,Adventure,Comedy/2001\",\"Biography,Crime,Drama/2002\",\"Action,Adventure,Fantasy/2003\",\"Crime,Drama,Mystery/2003\",\"Biography,Drama,History/2004\",\"Drama,Romance/2004\",\"Drama,Sport/2004\",\"Adventure,Biography,Drama/2007\",\"Animation,Adventure,Comedy/2007\",\"Drama/2008\",\"Animation,Comedy,Drama/2009\",\"Biography,Drama,Family/2009\",\"Animation,Action,Adventure/2010\",\"Adventure,Family,Fantasy/2011\",\"Drama/2011\",\"Action,Biography,Drama/2013\",\"Biography,Drama,History/2013\",\"Crime,Drama,Mystery/2013\",\"Adventure,Comedy,Crime/2014\",\"Comedy,Drama,Thriller/2014\",\"Drama,Mystery,Thriller/2014\",\"Action,Adventure,Sci-Fi/2015\",\"Biography,Crime,Drama/2015\",\"Drama,Thriller/2015\",\"Biography,Drama,History/2016\",\"Drama,Romance,Thriller/2016\",\"Action,Drama,Sci-Fi/2017\",\"Comedy,Crime,Drama/2017\",\"Action,Biography,Drama/2019\",\"Action,Comedy,Romance/1924\",\"Biography,Drama,History/1928\",\"Drama,Romance,War/1939\",\"Comedy,Romance,War/1942\",\"Adventure,Drama,Western/1948\",\"Crime,Drama,Mystery/1950\",\"Drama/1950\",\"Adventure,Drama,Thriller/1953\",\"Drama/1953\",\"Crime,Thriller/1954\",\"Adventure,Drama,War/1957\",\"Comedy,Music,Romance/1959\",\"Action,Drama,Thriller/1961\",\"Adventure,Drama,History/1963\",\"Western/1965\",\"Drama,Mystery,Thriller/1974\",\"Adventure,Biography,Drama/1975\",\"Adventure,Comedy,Fantasy/1975\",\"Crime,Drama/1976\",\"Biography,Drama/1980\",\"Biography,Drama,Sport/1980\",\"Horror,Mystery,Sci-Fi/1982\",\"Action,Drama,War/1985\",\"Action,Thriller/1988\",\"Action,Adventure/1989\",\"Drama,Western/1992\",\"Action,Adventure,Sci-Fi/1993\",\"Crime,Drama/1995\",\"Crime,Drama,Mystery/1997\",\"Drama,Family,Sport/1997\",\"Action,Comedy,Crime/1998\",\"Comedy,Drama/1998\",\"Drama,Mystery,Thriller/1999\",\"Comedy,Crime/2000\",\"Biography,Drama/2001\",\"Action,Crime,Drama/2003\",\"Animation,Adventure,Comedy/2003\",\"Animation,Adventure,Family/2004\",\"Biography,Drama,History/2004\",\"Action,Crime,Drama/2005\",\"Action,Drama,Sci-Fi/2005\",\"Drama,Family/2005\",\"Drama,Fantasy,War/2006\",\"Crime,Drama,Thriller/2007\",\"Drama/2007\",\"Drama,Mystery,Romance/2009\",\"Mystery,Thriller/2010\",\"Action,Drama,Sport/2011\",\"Biography,Comedy,Crime/2013\",\"Animation,Adventure,Comedy/2015\",\"Biography,Comedy,Drama/2018\",\"Action,Drama,War/2019\",\"Animation,Adventure,Comedy/2019\",\"Drama,Mystery/2020\",\"Action,Adventure,Fantasy/2021\",\"Comedy,Drama,Family/1921\",\"Drama,Sci-Fi/1927\",\"Crime,Mystery,Thriller/1931\",\"Drama,Mystery/1941\",\"Crime,Drama,Film-Noir/1944\",\"Drama/1948\",\"Comedy,Musical,Romance/1952\",\"Drama/1952\",\"Drama/1955\",\"Mystery,Romance,Thriller/1958\",\"Action,Adventure,Mystery/1959\",\"Comedy,Drama,Romance/1960\",\"Drama,War/1961\",\"Adventure,Biography,Drama/1962\",\"Crime,Drama/1962\",\"Adventure,Sci-Fi/1968\",\"Crime,Sci-Fi/1971\",\"Comedy,Crime,Drama/1973\",\"Action,Adventure,Fantasy/1983\",\"Crime,Drama/1983\",\"Crime,Drama/1984\",\"Drama,War/1987\",\"Crime,Thriller/1992\",\"Action,Crime,Drama/1995\",\"Animation,Adventure,Comedy/1995\",\"Drama,Romance/1997\",\"Drama/2000\",\"Comedy,Romance/2001\",\"Drama,Romance,Sci-Fi/2004\",\"Drama,Family/2007\",\"Adventure,Drama,War/2009\",\"Animation,Adventure,Comedy/2009\",\"Animation,Adventure,Comedy/2010\",\"Drama,Mystery/2010\",\"Drama/2011\",\"Drama/2012\",\"Action,Biography,Drama/2016\",\"Action,Drama/2022\",\"Comedy,Drama,War/1940\",\"Drama,Film-Noir/1950\",\"Crime,Drama,Mystery/1957\",\"Drama,War/1957\",\"Crime,Drama,Mystery/1963\",\"Comedy,War/1964\",\"Drama,Horror/1980\",\"Action,Adventure/1981\",\"Drama,War/1981\",\"Biography,Drama,Music/1984\",\"Drama,Thriller,War/1985\",\"Action,Adventure,Sci-Fi/1986\",\"Biography,Drama,History/1995\",\"Animation,Action,Adventure/1997\",\"Drama/1999\",\"Mystery,Thriller/2000\",\"Action,Drama,Mystery/2003\",\"Drama,Mystery,Thriller/2006\",\"Animation,Adventure,Family/2008\",\"Comedy,Drama/2009\",\"Action,Drama/2012\",\"Drama,Western/2012\",\"Animation,Drama,Fantasy/2016\",\"Animation,Adventure,Comedy/2017\",\"Action,Adventure,Sci-Fi/2018\",\"Animation,Action,Adventure/2018\",\"Drama/2018\",\"Action,Adventure,Drama/2019\",\"Crime,Drama,Thriller/2019\",\"Biography,Drama,History/2020\",\"Comedy,Drama,Romance/1931\",\"Comedy,Drama,Romance/1936\",\"Drama,Romance,War/1942\",\"Mystery,Thriller/1954\",\"Horror,Mystery,Thriller/1960\",\"Western/1968\",\"Drama,Mystery,War/1979\",\"Horror,Sci-Fi/1979\",\"Adventure,Comedy,Sci-Fi/1985\",\"Animation,Drama,War/1988\",\"Drama,Romance/1988\",\"Action,Crime,Drama/1994\",\"Animation,Adventure,Drama/1994\",\"Crime,Drama,Mystery/1995\",\"Crime,Drama/1998\",\"Action,Adventure,Drama/2000\",\"Biography,Drama,Music/2002\",\"Crime,Drama,Thriller/2006\",\"Drama,Mystery,Sci-Fi/2006\",\"Biography,Comedy,Drama/2011\",\"Drama,Music/2014\",\"Drama,Thriller/2019\",\"Drama,Family,Fantasy/1946\",\"Action,Drama/1954\",\"Action,Drama,Mystery/1962\",\"Action,Adventure,Fantasy/1977\",\"Action,Sci-Fi/1991\",\"Crime,Drama,Thriller/1991\",\"Crime,Drama,Mystery/1995\",\"Comedy,Drama,Romance/1997\",\"Drama,War/1998\",\"Crime,Drama,Fantasy/1999\",\"Animation,Adventure,Family/2001\",\"Crime,Drama/2002\",\"Adventure,Drama,Sci-Fi/2014\",\"Drama/1975\",\"Action,Adventure,Fantasy/1980\",\"Biography,Crime,Drama/1990\",\"Action,Sci-Fi/1999\",\"Adventure,Western/1966\",\"Drama,Romance/1994\",\"Drama/1999\",\"Action,Adventure,Drama/2001\",\"Action,Adventure,Drama/2002\",\"Action,Adventure,Sci-Fi/2010\",\"Crime,Drama,Mystery/2021\",\"Crime,Drama/1994\",\"Crime,Drama/1957\",\"Crime,Drama/1974\",\"Biography,Drama,History/1993\",\"Action,Adventure,Drama/2003\",\"Action,Crime,Drama/2008\",\"Crime,Drama/1972\",\"Drama/1994\",\"Comedy,Drama,Family\",\"Action,Comedy,Romance\",\"Adventure,Comedy,Drama\",\"Action,Adventure,Comedy\",\"Drama,Sci-Fi\",\"Biography,Drama,History\",\"Comedy,Drama,Romance\",\"Crime,Mystery,Thriller\",\"Comedy,Romance\",\"Comedy,Drama,Romance\",\"Adventure,Family,Fantasy\",\"Comedy,Drama\",\"Drama,Romance,War\",\"Comedy,Drama,War\",\"Drama\",\"Drama,Film-Noir,Mystery\",\"Drama,Mystery\",\"Comedy,Romance,War\",\"Drama,Romance,War\",\"Crime,Drama,Film-Noir\",\"Drama,Family,Fantasy\",\"Drama,Romance,War\",\"Adventure,Drama,Western\",\"Drama\",\"Film-Noir,Mystery,Thriller\",\"Crime,Drama,Mystery\",\"Drama\",\"Drama,Film-Noir\",\"Comedy,Musical,Romance\",\"Drama\",\"Adventure,Drama,Thriller\",\"Drama\",\"Action,Drama\",\"Crime,Drama,Thriller\",\"Crime,Thriller\",\"Mystery,Thriller\",\"Drama\",\"Adventure,Drama,War\",\"Crime,Drama\",\"Crime,Drama,Mystery\",\"Drama,Fantasy\",\"Drama,Romance\",\"Drama,War\",\"Mystery,Romance,Thriller\",\"Action,Adventure,Mystery\",\"Adventure,Drama\",\"Comedy,Music,Romance\",\"Crime,Drama\",\"Comedy,Drama,Romance\",\"Horror,Mystery,Thriller\",\"Action,Drama,Thriller\",\"Drama,War\",\"Action,Drama,Mystery\",\"Adventure,Biography,Drama\",\"Crime,Drama\",\"Adventure,Drama,History\",\"Crime,Drama,Mystery\",\"Comedy,War\",\"Biography,Drama,Family\",\"Western\",\"Adventure,Western\",\"Drama,Thriller\",\"Drama,War\",\"Crime,Drama\",\"Adventure,Sci-Fi\",\"Western\",\"Crime,Sci-Fi\",\"Crime,Drama\",\"Comedy,Crime,Drama\",\"Horror\",\"Crime,Drama\",\"Drama,Mystery,Thriller\",\"Adventure,Biography,Drama\",\"Adventure,Comedy,Fantasy\",\"Adventure,Drama,War\",\"Adventure,Thriller\",\"Drama\",\"Crime,Drama\",\"Drama\",\"Drama,Sport\",\"Action,Adventure,Fantasy\",\"Drama,War\",\"Comedy\",\"Drama,Mystery,War\",\"Horror,Sci-Fi\",\"Action,Adventure,Fantasy\",\"Biography,Drama\",\"Biography,Drama,Sport\",\"Drama,Horror\",\"Action,Adventure\",\"Drama,War\",\"Action,Drama,Sci-Fi\",\"Biography,Drama,History\",\"Horror,Mystery,Sci-Fi\",\"Action,Adventure,Fantasy\",\"Crime,Drama\",\"Action,Sci-Fi\",\"Biography,Drama,Music\",\"Crime,Drama\",\"Action,Drama,War\",\"Adventure,Comedy,Sci-Fi\",\"Drama,Thriller,War\",\"Action,Adventure,Sci-Fi\",\"Adventure,Drama\",\"Drama,War\",\"Drama,War\",\"Action,Thriller\",\"Animation,Comedy,Family\",\"Animation,Drama,War\",\"Drama,Romance\",\"Action,Adventure\",\"Comedy,Drama\",\"Adventure,Drama,Western\",\"Biography,Crime,Drama\",\"Action,Sci-Fi\",\"Crime,Drama,Thriller\",\"Animation,Adventure,Comedy\",\"Crime,Thriller\",\"Drama,Western\",\"Action,Adventure,Sci-Fi\",\"Biography,Crime,Drama\",\"Biography,Drama,History\",\"Comedy,Drama,Fantasy\",\"Action,Crime,Drama\",\"Animation,Adventure,Drama\",\"Crime,Drama\",\"Drama\",\"Drama,Romance\",\"Action,Crime,Drama\",\"Animation,Adventure,Comedy\",\"Biography,Drama,History\",\"Crime,Drama\",\"Crime,Drama,Mystery\",\"Drama,Romance\",\"Crime,Thriller\",\"Drama\",\"Animation,Action,Adventure\",\"Comedy,Drama,Romance\",\"Crime,Drama,Mystery\",\"Drama,Family,Sport\",\"Drama,Romance\",\"Action,Comedy,Crime\",\"Comedy,Crime\",\"Comedy,Drama\",\"Crime,Drama\",\"Drama,War\",\"Action,Sci-Fi\",\"Animation,Action,Adventure\",\"Crime,Drama,Fantasy\",\"Drama\",\"Drama,Mystery,Thriller\",\"Action,Adventure,Drama\",\"Comedy,Crime\",\"Drama\",\"Drama,Thriller\",\"Mystery,Thriller\",\"Action,Adventure,Drama\",\"Animation,Adventure,Comedy\",\"Animation,Adventure,Family\",\"Biography,Drama\",\"Comedy,Romance\",\"Action,Adventure,Drama\",\"Biography,Crime,Drama\",\"Biography,Drama,Music\",\"Crime,Drama\",\"Action,Adventure,Drama\",\"Action,Adventure,Fantasy\",\"Action,Crime,Drama\",\"Action,Drama,Mystery\",\"Animation,Adventure,Comedy\",\"Crime,Drama,Mystery\",\"Animation,Action,Adventure\",\"Animation,Adventure,Family\",\"Biography,Drama,History\",\"Drama,Romance\",\"Drama,Romance,Sci-Fi\",\"Drama,Sport\",\"Action,Crime,Drama\",\"Action,Drama,Sci-Fi\",\"Drama,Family\",\"Crime,Drama,Thriller\",\"Drama,Fantasy,War\",\"Drama,Mystery,Sci-Fi\",\"Drama,Mystery,Thriller\",\"Adventure,Biography,Drama\",\"Animation,Adventure,Comedy\",\"Crime,Drama,Thriller\",\"Drama\",\"Drama,Family\",\"Action,Crime,Drama\",\"Animation,Adventure,Family\",\"Drama\",\"Adventure,Drama,War\",\"Animation,Adventure,Comedy\",\"Animation,Comedy,Drama\",\"Biography,Drama,Family\",\"Comedy,Drama\",\"Drama,Mystery,Romance\",\"Action,Adventure,Sci-Fi\",\"Animation,Action,Adventure\",\"Animation,Adventure,Comedy\",\"Drama,Mystery\",\"Mystery,Thriller\",\"Action,Drama,Sport\",\"Adventure,Family,Fantasy\",\"Biography,Comedy,Drama\",\"Drama\",\"Action,Drama\",\"Drama\",\"Drama,Western\",\"Action,Biography,Drama\",\"Biography,Comedy,Crime\",\"Biography,Drama,History\",\"Crime,Drama,Mystery\",\"Adventure,Comedy,Crime\",\"Adventure,Drama,Sci-Fi\",\"Comedy,Drama,Thriller\",\"Drama,Music\",\"Drama,Mystery,Thriller\",\"Action,Adventure,Sci-Fi\",\"Animation,Adventure,Comedy\",\"Biography,Crime,Drama\",\"Drama,Thriller\",\"Action,Biography,Drama\",\"Animation,Drama,Fantasy\",\"Biography,Drama,History\",\"Drama,Romance,Thriller\",\"Action,Drama,Sci-Fi\",\"Animation,Adventure,Comedy\",\"Comedy,Crime,Drama\",\"Action,Adventure,Sci-Fi\",\"Animation,Action,Adventure\",\"Biography,Comedy,Drama\",\"Drama\",\"Action,Adventure,Drama\",\"Action,Biography,Drama\",\"Action,Drama,War\",\"Animation,Adventure,Comedy\",\"Crime,Drama,Thriller\",\"Drama,Thriller\",\"Biography,Drama,History\",\"Drama,Mystery\",\"Action,Adventure,Fantasy\",\"Crime,Drama,Mystery\",\"Action,Drama\",\"\",\"\",\"\",\"\",\"\",\"\",\"\",\"\",\"\",\"\",\"\",\"\",\"\",\"\",\"\",\"\",\"\",\"\",\"\",\"\",\"\",\"\",\"\",\"\",\"\",\"\",\"\",\"\",\"\",\"\",\"\",\"\",\"\",\"\",\"\",\"\",\"\",\"\",\"\",\"\",\"\",\"\",\"\",\"\",\"\",\"\",\"\",\"\",\"\",\"\",\"\",\"\",\"\",\"\",\"\",\"\",\"\",\"\",\"\",\"\",\"\",\"\",\"\",\"\",\"\",\"\",\"\",\"\",\"\",\"\",\"\",\"\",\"\",\"\",\"\",\"\",\"\",\"\",\"\",\"\",\"\",\"\",\"\",\"\",\"\",\"\",\"\",\"\",\"\",\"\",\"\",\"\",\"\",\"\",\"\",\"\",\"\",\"\",\"\",\"\",\"\",\"\",\"\",\"\"],\"values\":[1,1,1,1,1,1,1,1,1,1,1,1,1,1,1,1,1,1,1,1,1,1,1,1,1,1,1,1,1,1,1,1,1,1,1,1,1,1,1,1,1,1,1,1,1,1,1,1,1,1,1,1,1,1,1,1,1,1,1,1,1,1,1,1,1,1,1,1,1,1,1,1,1,1,1,1,1,1,1,1,1,1,1,1,1,1,1,1,1,1,1,1,1,1,1,1,1,1,1,1,1,1,1,1,1,1,1,1,1,1,1,1,1,1,1,1,1,1,1,1,1,1,1,1,1,1,1,1,1,1,1,1,1,1,1,1,1,1,1,1,1,1,1,1,1,1,1,1,1,1,1,1,1,1,1,1,1,1,1,1,1,1,1,1,1,1,1,1,1,1,1,1,1,1,1,1,1,1,1,1,1,1,1,1,1,1,1,1,1,1,1,1,1,1,1,1,1,1,1,1,1,1,1,1,1,1,1,1,1,1,1,1,1,1,1,1,1,1,1,1,1,1,1,1,1,1,1,1,1,1,1,1,1,1,1,1,1,1,1,1,1,1,1,1,1,1,1,1,1,1,1,1,1,1,1,1,1,1,1,1,1,1,1,1,1,1,1,1,1,1,1,1,1,1,1,1,1,1,1,1,1,1,1,1,1,1,1,1,1,1,1,1,1,1,1,1,1,1,1,1,1,1,1,1,1,1,1,1,1,1,1,1,1,1,1,1,1,1,1,1,1,1,1,1,1,1,1,1,1,1,1,1,1,1,1,1,1,1,1,1,1,1,1,1,1,1,1,1,1,1,1,1,1,1,1,1,1,1,1,1,1,1,1,1,1,1,1,1,1,1,1,1,1,1,1,1,1,1,1,1,1,2,2,1,1,1,1,1,1,1,1,1,1,1,1,1,1,1,1,2,1,1,1,1,1,1,1,1,1,1,1,1,1,1,1,1,1,1,1,1,1,1,1,2,1,1,1,1,1,1,1,1,1,1,1,1,1,1,1,1,1,1,1,1,1,1,1,1,1,1,1,1,1,1,1,1,2,1,1,1,1,1,1,1,1,1,1,1,1,1,1,1,1,1,1,1,1,1,1,1,1,1,1,1,1,1,1,1,1,1,1,1,1,1,1,2,1,5,5,1,5,3,1,1,5,3,2,3,1,1,2,3,1,3,1,1,1,1,2,1,1,1,3,2,2,1,1,1,5,10,1,3,1,1,1,1,1,2,4,2,2,9,2,1,1,2,2,4,1,1,4,1,1,1,1,2,1,1,14,1,1,9,5,1,1,3,19,2,1,1,1,1,1,1,1,1,3,1,1,4,1,6,1,1,3,1,2,4,1,8,2,1,1,1,1,1,1,3,2],\"type\":\"sunburst\"}],                        {\"template\":{\"data\":{\"histogram2dcontour\":[{\"type\":\"histogram2dcontour\",\"colorbar\":{\"outlinewidth\":0,\"ticks\":\"\"},\"colorscale\":[[0.0,\"#0d0887\"],[0.1111111111111111,\"#46039f\"],[0.2222222222222222,\"#7201a8\"],[0.3333333333333333,\"#9c179e\"],[0.4444444444444444,\"#bd3786\"],[0.5555555555555556,\"#d8576b\"],[0.6666666666666666,\"#ed7953\"],[0.7777777777777778,\"#fb9f3a\"],[0.8888888888888888,\"#fdca26\"],[1.0,\"#f0f921\"]]}],\"choropleth\":[{\"type\":\"choropleth\",\"colorbar\":{\"outlinewidth\":0,\"ticks\":\"\"}}],\"histogram2d\":[{\"type\":\"histogram2d\",\"colorbar\":{\"outlinewidth\":0,\"ticks\":\"\"},\"colorscale\":[[0.0,\"#0d0887\"],[0.1111111111111111,\"#46039f\"],[0.2222222222222222,\"#7201a8\"],[0.3333333333333333,\"#9c179e\"],[0.4444444444444444,\"#bd3786\"],[0.5555555555555556,\"#d8576b\"],[0.6666666666666666,\"#ed7953\"],[0.7777777777777778,\"#fb9f3a\"],[0.8888888888888888,\"#fdca26\"],[1.0,\"#f0f921\"]]}],\"heatmap\":[{\"type\":\"heatmap\",\"colorbar\":{\"outlinewidth\":0,\"ticks\":\"\"},\"colorscale\":[[0.0,\"#0d0887\"],[0.1111111111111111,\"#46039f\"],[0.2222222222222222,\"#7201a8\"],[0.3333333333333333,\"#9c179e\"],[0.4444444444444444,\"#bd3786\"],[0.5555555555555556,\"#d8576b\"],[0.6666666666666666,\"#ed7953\"],[0.7777777777777778,\"#fb9f3a\"],[0.8888888888888888,\"#fdca26\"],[1.0,\"#f0f921\"]]}],\"heatmapgl\":[{\"type\":\"heatmapgl\",\"colorbar\":{\"outlinewidth\":0,\"ticks\":\"\"},\"colorscale\":[[0.0,\"#0d0887\"],[0.1111111111111111,\"#46039f\"],[0.2222222222222222,\"#7201a8\"],[0.3333333333333333,\"#9c179e\"],[0.4444444444444444,\"#bd3786\"],[0.5555555555555556,\"#d8576b\"],[0.6666666666666666,\"#ed7953\"],[0.7777777777777778,\"#fb9f3a\"],[0.8888888888888888,\"#fdca26\"],[1.0,\"#f0f921\"]]}],\"contourcarpet\":[{\"type\":\"contourcarpet\",\"colorbar\":{\"outlinewidth\":0,\"ticks\":\"\"}}],\"contour\":[{\"type\":\"contour\",\"colorbar\":{\"outlinewidth\":0,\"ticks\":\"\"},\"colorscale\":[[0.0,\"#0d0887\"],[0.1111111111111111,\"#46039f\"],[0.2222222222222222,\"#7201a8\"],[0.3333333333333333,\"#9c179e\"],[0.4444444444444444,\"#bd3786\"],[0.5555555555555556,\"#d8576b\"],[0.6666666666666666,\"#ed7953\"],[0.7777777777777778,\"#fb9f3a\"],[0.8888888888888888,\"#fdca26\"],[1.0,\"#f0f921\"]]}],\"surface\":[{\"type\":\"surface\",\"colorbar\":{\"outlinewidth\":0,\"ticks\":\"\"},\"colorscale\":[[0.0,\"#0d0887\"],[0.1111111111111111,\"#46039f\"],[0.2222222222222222,\"#7201a8\"],[0.3333333333333333,\"#9c179e\"],[0.4444444444444444,\"#bd3786\"],[0.5555555555555556,\"#d8576b\"],[0.6666666666666666,\"#ed7953\"],[0.7777777777777778,\"#fb9f3a\"],[0.8888888888888888,\"#fdca26\"],[1.0,\"#f0f921\"]]}],\"mesh3d\":[{\"type\":\"mesh3d\",\"colorbar\":{\"outlinewidth\":0,\"ticks\":\"\"}}],\"scatter\":[{\"fillpattern\":{\"fillmode\":\"overlay\",\"size\":10,\"solidity\":0.2},\"type\":\"scatter\"}],\"parcoords\":[{\"type\":\"parcoords\",\"line\":{\"colorbar\":{\"outlinewidth\":0,\"ticks\":\"\"}}}],\"scatterpolargl\":[{\"type\":\"scatterpolargl\",\"marker\":{\"colorbar\":{\"outlinewidth\":0,\"ticks\":\"\"}}}],\"bar\":[{\"error_x\":{\"color\":\"#2a3f5f\"},\"error_y\":{\"color\":\"#2a3f5f\"},\"marker\":{\"line\":{\"color\":\"#E5ECF6\",\"width\":0.5},\"pattern\":{\"fillmode\":\"overlay\",\"size\":10,\"solidity\":0.2}},\"type\":\"bar\"}],\"scattergeo\":[{\"type\":\"scattergeo\",\"marker\":{\"colorbar\":{\"outlinewidth\":0,\"ticks\":\"\"}}}],\"scatterpolar\":[{\"type\":\"scatterpolar\",\"marker\":{\"colorbar\":{\"outlinewidth\":0,\"ticks\":\"\"}}}],\"histogram\":[{\"marker\":{\"pattern\":{\"fillmode\":\"overlay\",\"size\":10,\"solidity\":0.2}},\"type\":\"histogram\"}],\"scattergl\":[{\"type\":\"scattergl\",\"marker\":{\"colorbar\":{\"outlinewidth\":0,\"ticks\":\"\"}}}],\"scatter3d\":[{\"type\":\"scatter3d\",\"line\":{\"colorbar\":{\"outlinewidth\":0,\"ticks\":\"\"}},\"marker\":{\"colorbar\":{\"outlinewidth\":0,\"ticks\":\"\"}}}],\"scattermapbox\":[{\"type\":\"scattermapbox\",\"marker\":{\"colorbar\":{\"outlinewidth\":0,\"ticks\":\"\"}}}],\"scatterternary\":[{\"type\":\"scatterternary\",\"marker\":{\"colorbar\":{\"outlinewidth\":0,\"ticks\":\"\"}}}],\"scattercarpet\":[{\"type\":\"scattercarpet\",\"marker\":{\"colorbar\":{\"outlinewidth\":0,\"ticks\":\"\"}}}],\"carpet\":[{\"aaxis\":{\"endlinecolor\":\"#2a3f5f\",\"gridcolor\":\"white\",\"linecolor\":\"white\",\"minorgridcolor\":\"white\",\"startlinecolor\":\"#2a3f5f\"},\"baxis\":{\"endlinecolor\":\"#2a3f5f\",\"gridcolor\":\"white\",\"linecolor\":\"white\",\"minorgridcolor\":\"white\",\"startlinecolor\":\"#2a3f5f\"},\"type\":\"carpet\"}],\"table\":[{\"cells\":{\"fill\":{\"color\":\"#EBF0F8\"},\"line\":{\"color\":\"white\"}},\"header\":{\"fill\":{\"color\":\"#C8D4E3\"},\"line\":{\"color\":\"white\"}},\"type\":\"table\"}],\"barpolar\":[{\"marker\":{\"line\":{\"color\":\"#E5ECF6\",\"width\":0.5},\"pattern\":{\"fillmode\":\"overlay\",\"size\":10,\"solidity\":0.2}},\"type\":\"barpolar\"}],\"pie\":[{\"automargin\":true,\"type\":\"pie\"}]},\"layout\":{\"autotypenumbers\":\"strict\",\"colorway\":[\"#636efa\",\"#EF553B\",\"#00cc96\",\"#ab63fa\",\"#FFA15A\",\"#19d3f3\",\"#FF6692\",\"#B6E880\",\"#FF97FF\",\"#FECB52\"],\"font\":{\"color\":\"#2a3f5f\"},\"hovermode\":\"closest\",\"hoverlabel\":{\"align\":\"left\"},\"paper_bgcolor\":\"white\",\"plot_bgcolor\":\"#E5ECF6\",\"polar\":{\"bgcolor\":\"#E5ECF6\",\"angularaxis\":{\"gridcolor\":\"white\",\"linecolor\":\"white\",\"ticks\":\"\"},\"radialaxis\":{\"gridcolor\":\"white\",\"linecolor\":\"white\",\"ticks\":\"\"}},\"ternary\":{\"bgcolor\":\"#E5ECF6\",\"aaxis\":{\"gridcolor\":\"white\",\"linecolor\":\"white\",\"ticks\":\"\"},\"baxis\":{\"gridcolor\":\"white\",\"linecolor\":\"white\",\"ticks\":\"\"},\"caxis\":{\"gridcolor\":\"white\",\"linecolor\":\"white\",\"ticks\":\"\"}},\"coloraxis\":{\"colorbar\":{\"outlinewidth\":0,\"ticks\":\"\"}},\"colorscale\":{\"sequential\":[[0.0,\"#0d0887\"],[0.1111111111111111,\"#46039f\"],[0.2222222222222222,\"#7201a8\"],[0.3333333333333333,\"#9c179e\"],[0.4444444444444444,\"#bd3786\"],[0.5555555555555556,\"#d8576b\"],[0.6666666666666666,\"#ed7953\"],[0.7777777777777778,\"#fb9f3a\"],[0.8888888888888888,\"#fdca26\"],[1.0,\"#f0f921\"]],\"sequentialminus\":[[0.0,\"#0d0887\"],[0.1111111111111111,\"#46039f\"],[0.2222222222222222,\"#7201a8\"],[0.3333333333333333,\"#9c179e\"],[0.4444444444444444,\"#bd3786\"],[0.5555555555555556,\"#d8576b\"],[0.6666666666666666,\"#ed7953\"],[0.7777777777777778,\"#fb9f3a\"],[0.8888888888888888,\"#fdca26\"],[1.0,\"#f0f921\"]],\"diverging\":[[0,\"#8e0152\"],[0.1,\"#c51b7d\"],[0.2,\"#de77ae\"],[0.3,\"#f1b6da\"],[0.4,\"#fde0ef\"],[0.5,\"#f7f7f7\"],[0.6,\"#e6f5d0\"],[0.7,\"#b8e186\"],[0.8,\"#7fbc41\"],[0.9,\"#4d9221\"],[1,\"#276419\"]]},\"xaxis\":{\"gridcolor\":\"white\",\"linecolor\":\"white\",\"ticks\":\"\",\"title\":{\"standoff\":15},\"zerolinecolor\":\"white\",\"automargin\":true,\"zerolinewidth\":2},\"yaxis\":{\"gridcolor\":\"white\",\"linecolor\":\"white\",\"ticks\":\"\",\"title\":{\"standoff\":15},\"zerolinecolor\":\"white\",\"automargin\":true,\"zerolinewidth\":2},\"scene\":{\"xaxis\":{\"backgroundcolor\":\"#E5ECF6\",\"gridcolor\":\"white\",\"linecolor\":\"white\",\"showbackground\":true,\"ticks\":\"\",\"zerolinecolor\":\"white\",\"gridwidth\":2},\"yaxis\":{\"backgroundcolor\":\"#E5ECF6\",\"gridcolor\":\"white\",\"linecolor\":\"white\",\"showbackground\":true,\"ticks\":\"\",\"zerolinecolor\":\"white\",\"gridwidth\":2},\"zaxis\":{\"backgroundcolor\":\"#E5ECF6\",\"gridcolor\":\"white\",\"linecolor\":\"white\",\"showbackground\":true,\"ticks\":\"\",\"zerolinecolor\":\"white\",\"gridwidth\":2}},\"shapedefaults\":{\"line\":{\"color\":\"#2a3f5f\"}},\"annotationdefaults\":{\"arrowcolor\":\"#2a3f5f\",\"arrowhead\":0,\"arrowwidth\":1},\"geo\":{\"bgcolor\":\"white\",\"landcolor\":\"#E5ECF6\",\"subunitcolor\":\"white\",\"showland\":true,\"showlakes\":true,\"lakecolor\":\"white\"},\"title\":{\"x\":0.05},\"mapbox\":{\"style\":\"light\"}}},\"legend\":{\"tracegroupgap\":0},\"margin\":{\"t\":60},\"title\":{\"text\":\"Movie Ratings by Genre and Year\"},\"height\":1200,\"width\":1200},                        {\"responsive\": true}                    ).then(function(){\n",
       "                            \n",
       "var gd = document.getElementById('9d89b34a-d4f8-412c-944d-93b355b4a6f2');\n",
       "var x = new MutationObserver(function (mutations, observer) {{\n",
       "        var display = window.getComputedStyle(gd).display;\n",
       "        if (!display || display === 'none') {{\n",
       "            console.log([gd, 'removed!']);\n",
       "            Plotly.purge(gd);\n",
       "            observer.disconnect();\n",
       "        }}\n",
       "}});\n",
       "\n",
       "// Listen for the removal of the full notebook cells\n",
       "var notebookContainer = gd.closest('#notebook-container');\n",
       "if (notebookContainer) {{\n",
       "    x.observe(notebookContainer, {childList: true});\n",
       "}}\n",
       "\n",
       "// Listen for the clearing of the current output cell\n",
       "var outputEl = gd.closest('.output');\n",
       "if (outputEl) {{\n",
       "    x.observe(outputEl, {childList: true});\n",
       "}}\n",
       "\n",
       "                        })                };                });            </script>        </div>"
      ]
     },
     "metadata": {},
     "output_type": "display_data"
    }
   ],
   "source": [
    "grouped_df = df.groupby(['genre', 'year', 'rating']).size().reset_index(name='count')\n",
    "fig = px.sunburst(grouped_df, path=['genre', 'year', 'rating'], values='count')\n",
    "fig.update_layout(title='Movie Ratings by Genre and Year', height = 1200, width = 1200)\n",
    "fig.show()"
   ]
  },
  {
   "cell_type": "markdown",
   "id": "77b86bd0",
   "metadata": {},
   "source": [
    "## writer with most movies on the dataset"
   ]
  },
  {
   "cell_type": "code",
   "execution_count": 20,
   "id": "e113cabc",
   "metadata": {},
   "outputs": [
    {
     "data": {
      "application/vnd.plotly.v1+json": {
       "config": {
        "plotlyServerURL": "https://plot.ly"
       },
       "data": [
        {
         "domain": {
          "x": [
           0,
           1
          ],
          "y": [
           0,
           1
          ]
         },
         "hovertemplate": "index=%{label}<br>writer=%{value}<extra></extra>",
         "labels": [
          "Stanley Kubrick",
          "Christopher Nolan",
          "Akira Kurosawa",
          "Billy Wilder",
          "George Lucas",
          "Charles Chaplin",
          "Quentin Tarantino",
          "Pete Docter",
          "Jonathan Nolan",
          "Andrew Stanton"
         ],
         "legendgroup": "",
         "name": "",
         "showlegend": true,
         "type": "pie",
         "values": [
          7,
          7,
          6,
          5,
          5,
          5,
          5,
          5,
          5,
          4
         ]
        }
       ],
       "layout": {
        "legend": {
         "tracegroupgap": 0
        },
        "template": {
         "data": {
          "bar": [
           {
            "error_x": {
             "color": "#2a3f5f"
            },
            "error_y": {
             "color": "#2a3f5f"
            },
            "marker": {
             "line": {
              "color": "#E5ECF6",
              "width": 0.5
             },
             "pattern": {
              "fillmode": "overlay",
              "size": 10,
              "solidity": 0.2
             }
            },
            "type": "bar"
           }
          ],
          "barpolar": [
           {
            "marker": {
             "line": {
              "color": "#E5ECF6",
              "width": 0.5
             },
             "pattern": {
              "fillmode": "overlay",
              "size": 10,
              "solidity": 0.2
             }
            },
            "type": "barpolar"
           }
          ],
          "carpet": [
           {
            "aaxis": {
             "endlinecolor": "#2a3f5f",
             "gridcolor": "white",
             "linecolor": "white",
             "minorgridcolor": "white",
             "startlinecolor": "#2a3f5f"
            },
            "baxis": {
             "endlinecolor": "#2a3f5f",
             "gridcolor": "white",
             "linecolor": "white",
             "minorgridcolor": "white",
             "startlinecolor": "#2a3f5f"
            },
            "type": "carpet"
           }
          ],
          "choropleth": [
           {
            "colorbar": {
             "outlinewidth": 0,
             "ticks": ""
            },
            "type": "choropleth"
           }
          ],
          "contour": [
           {
            "colorbar": {
             "outlinewidth": 0,
             "ticks": ""
            },
            "colorscale": [
             [
              0,
              "#0d0887"
             ],
             [
              0.1111111111111111,
              "#46039f"
             ],
             [
              0.2222222222222222,
              "#7201a8"
             ],
             [
              0.3333333333333333,
              "#9c179e"
             ],
             [
              0.4444444444444444,
              "#bd3786"
             ],
             [
              0.5555555555555556,
              "#d8576b"
             ],
             [
              0.6666666666666666,
              "#ed7953"
             ],
             [
              0.7777777777777778,
              "#fb9f3a"
             ],
             [
              0.8888888888888888,
              "#fdca26"
             ],
             [
              1,
              "#f0f921"
             ]
            ],
            "type": "contour"
           }
          ],
          "contourcarpet": [
           {
            "colorbar": {
             "outlinewidth": 0,
             "ticks": ""
            },
            "type": "contourcarpet"
           }
          ],
          "heatmap": [
           {
            "colorbar": {
             "outlinewidth": 0,
             "ticks": ""
            },
            "colorscale": [
             [
              0,
              "#0d0887"
             ],
             [
              0.1111111111111111,
              "#46039f"
             ],
             [
              0.2222222222222222,
              "#7201a8"
             ],
             [
              0.3333333333333333,
              "#9c179e"
             ],
             [
              0.4444444444444444,
              "#bd3786"
             ],
             [
              0.5555555555555556,
              "#d8576b"
             ],
             [
              0.6666666666666666,
              "#ed7953"
             ],
             [
              0.7777777777777778,
              "#fb9f3a"
             ],
             [
              0.8888888888888888,
              "#fdca26"
             ],
             [
              1,
              "#f0f921"
             ]
            ],
            "type": "heatmap"
           }
          ],
          "heatmapgl": [
           {
            "colorbar": {
             "outlinewidth": 0,
             "ticks": ""
            },
            "colorscale": [
             [
              0,
              "#0d0887"
             ],
             [
              0.1111111111111111,
              "#46039f"
             ],
             [
              0.2222222222222222,
              "#7201a8"
             ],
             [
              0.3333333333333333,
              "#9c179e"
             ],
             [
              0.4444444444444444,
              "#bd3786"
             ],
             [
              0.5555555555555556,
              "#d8576b"
             ],
             [
              0.6666666666666666,
              "#ed7953"
             ],
             [
              0.7777777777777778,
              "#fb9f3a"
             ],
             [
              0.8888888888888888,
              "#fdca26"
             ],
             [
              1,
              "#f0f921"
             ]
            ],
            "type": "heatmapgl"
           }
          ],
          "histogram": [
           {
            "marker": {
             "pattern": {
              "fillmode": "overlay",
              "size": 10,
              "solidity": 0.2
             }
            },
            "type": "histogram"
           }
          ],
          "histogram2d": [
           {
            "colorbar": {
             "outlinewidth": 0,
             "ticks": ""
            },
            "colorscale": [
             [
              0,
              "#0d0887"
             ],
             [
              0.1111111111111111,
              "#46039f"
             ],
             [
              0.2222222222222222,
              "#7201a8"
             ],
             [
              0.3333333333333333,
              "#9c179e"
             ],
             [
              0.4444444444444444,
              "#bd3786"
             ],
             [
              0.5555555555555556,
              "#d8576b"
             ],
             [
              0.6666666666666666,
              "#ed7953"
             ],
             [
              0.7777777777777778,
              "#fb9f3a"
             ],
             [
              0.8888888888888888,
              "#fdca26"
             ],
             [
              1,
              "#f0f921"
             ]
            ],
            "type": "histogram2d"
           }
          ],
          "histogram2dcontour": [
           {
            "colorbar": {
             "outlinewidth": 0,
             "ticks": ""
            },
            "colorscale": [
             [
              0,
              "#0d0887"
             ],
             [
              0.1111111111111111,
              "#46039f"
             ],
             [
              0.2222222222222222,
              "#7201a8"
             ],
             [
              0.3333333333333333,
              "#9c179e"
             ],
             [
              0.4444444444444444,
              "#bd3786"
             ],
             [
              0.5555555555555556,
              "#d8576b"
             ],
             [
              0.6666666666666666,
              "#ed7953"
             ],
             [
              0.7777777777777778,
              "#fb9f3a"
             ],
             [
              0.8888888888888888,
              "#fdca26"
             ],
             [
              1,
              "#f0f921"
             ]
            ],
            "type": "histogram2dcontour"
           }
          ],
          "mesh3d": [
           {
            "colorbar": {
             "outlinewidth": 0,
             "ticks": ""
            },
            "type": "mesh3d"
           }
          ],
          "parcoords": [
           {
            "line": {
             "colorbar": {
              "outlinewidth": 0,
              "ticks": ""
             }
            },
            "type": "parcoords"
           }
          ],
          "pie": [
           {
            "automargin": true,
            "type": "pie"
           }
          ],
          "scatter": [
           {
            "fillpattern": {
             "fillmode": "overlay",
             "size": 10,
             "solidity": 0.2
            },
            "type": "scatter"
           }
          ],
          "scatter3d": [
           {
            "line": {
             "colorbar": {
              "outlinewidth": 0,
              "ticks": ""
             }
            },
            "marker": {
             "colorbar": {
              "outlinewidth": 0,
              "ticks": ""
             }
            },
            "type": "scatter3d"
           }
          ],
          "scattercarpet": [
           {
            "marker": {
             "colorbar": {
              "outlinewidth": 0,
              "ticks": ""
             }
            },
            "type": "scattercarpet"
           }
          ],
          "scattergeo": [
           {
            "marker": {
             "colorbar": {
              "outlinewidth": 0,
              "ticks": ""
             }
            },
            "type": "scattergeo"
           }
          ],
          "scattergl": [
           {
            "marker": {
             "colorbar": {
              "outlinewidth": 0,
              "ticks": ""
             }
            },
            "type": "scattergl"
           }
          ],
          "scattermapbox": [
           {
            "marker": {
             "colorbar": {
              "outlinewidth": 0,
              "ticks": ""
             }
            },
            "type": "scattermapbox"
           }
          ],
          "scatterpolar": [
           {
            "marker": {
             "colorbar": {
              "outlinewidth": 0,
              "ticks": ""
             }
            },
            "type": "scatterpolar"
           }
          ],
          "scatterpolargl": [
           {
            "marker": {
             "colorbar": {
              "outlinewidth": 0,
              "ticks": ""
             }
            },
            "type": "scatterpolargl"
           }
          ],
          "scatterternary": [
           {
            "marker": {
             "colorbar": {
              "outlinewidth": 0,
              "ticks": ""
             }
            },
            "type": "scatterternary"
           }
          ],
          "surface": [
           {
            "colorbar": {
             "outlinewidth": 0,
             "ticks": ""
            },
            "colorscale": [
             [
              0,
              "#0d0887"
             ],
             [
              0.1111111111111111,
              "#46039f"
             ],
             [
              0.2222222222222222,
              "#7201a8"
             ],
             [
              0.3333333333333333,
              "#9c179e"
             ],
             [
              0.4444444444444444,
              "#bd3786"
             ],
             [
              0.5555555555555556,
              "#d8576b"
             ],
             [
              0.6666666666666666,
              "#ed7953"
             ],
             [
              0.7777777777777778,
              "#fb9f3a"
             ],
             [
              0.8888888888888888,
              "#fdca26"
             ],
             [
              1,
              "#f0f921"
             ]
            ],
            "type": "surface"
           }
          ],
          "table": [
           {
            "cells": {
             "fill": {
              "color": "#EBF0F8"
             },
             "line": {
              "color": "white"
             }
            },
            "header": {
             "fill": {
              "color": "#C8D4E3"
             },
             "line": {
              "color": "white"
             }
            },
            "type": "table"
           }
          ]
         },
         "layout": {
          "annotationdefaults": {
           "arrowcolor": "#2a3f5f",
           "arrowhead": 0,
           "arrowwidth": 1
          },
          "autotypenumbers": "strict",
          "coloraxis": {
           "colorbar": {
            "outlinewidth": 0,
            "ticks": ""
           }
          },
          "colorscale": {
           "diverging": [
            [
             0,
             "#8e0152"
            ],
            [
             0.1,
             "#c51b7d"
            ],
            [
             0.2,
             "#de77ae"
            ],
            [
             0.3,
             "#f1b6da"
            ],
            [
             0.4,
             "#fde0ef"
            ],
            [
             0.5,
             "#f7f7f7"
            ],
            [
             0.6,
             "#e6f5d0"
            ],
            [
             0.7,
             "#b8e186"
            ],
            [
             0.8,
             "#7fbc41"
            ],
            [
             0.9,
             "#4d9221"
            ],
            [
             1,
             "#276419"
            ]
           ],
           "sequential": [
            [
             0,
             "#0d0887"
            ],
            [
             0.1111111111111111,
             "#46039f"
            ],
            [
             0.2222222222222222,
             "#7201a8"
            ],
            [
             0.3333333333333333,
             "#9c179e"
            ],
            [
             0.4444444444444444,
             "#bd3786"
            ],
            [
             0.5555555555555556,
             "#d8576b"
            ],
            [
             0.6666666666666666,
             "#ed7953"
            ],
            [
             0.7777777777777778,
             "#fb9f3a"
            ],
            [
             0.8888888888888888,
             "#fdca26"
            ],
            [
             1,
             "#f0f921"
            ]
           ],
           "sequentialminus": [
            [
             0,
             "#0d0887"
            ],
            [
             0.1111111111111111,
             "#46039f"
            ],
            [
             0.2222222222222222,
             "#7201a8"
            ],
            [
             0.3333333333333333,
             "#9c179e"
            ],
            [
             0.4444444444444444,
             "#bd3786"
            ],
            [
             0.5555555555555556,
             "#d8576b"
            ],
            [
             0.6666666666666666,
             "#ed7953"
            ],
            [
             0.7777777777777778,
             "#fb9f3a"
            ],
            [
             0.8888888888888888,
             "#fdca26"
            ],
            [
             1,
             "#f0f921"
            ]
           ]
          },
          "colorway": [
           "#636efa",
           "#EF553B",
           "#00cc96",
           "#ab63fa",
           "#FFA15A",
           "#19d3f3",
           "#FF6692",
           "#B6E880",
           "#FF97FF",
           "#FECB52"
          ],
          "font": {
           "color": "#2a3f5f"
          },
          "geo": {
           "bgcolor": "white",
           "lakecolor": "white",
           "landcolor": "#E5ECF6",
           "showlakes": true,
           "showland": true,
           "subunitcolor": "white"
          },
          "hoverlabel": {
           "align": "left"
          },
          "hovermode": "closest",
          "mapbox": {
           "style": "light"
          },
          "paper_bgcolor": "white",
          "plot_bgcolor": "#E5ECF6",
          "polar": {
           "angularaxis": {
            "gridcolor": "white",
            "linecolor": "white",
            "ticks": ""
           },
           "bgcolor": "#E5ECF6",
           "radialaxis": {
            "gridcolor": "white",
            "linecolor": "white",
            "ticks": ""
           }
          },
          "scene": {
           "xaxis": {
            "backgroundcolor": "#E5ECF6",
            "gridcolor": "white",
            "gridwidth": 2,
            "linecolor": "white",
            "showbackground": true,
            "ticks": "",
            "zerolinecolor": "white"
           },
           "yaxis": {
            "backgroundcolor": "#E5ECF6",
            "gridcolor": "white",
            "gridwidth": 2,
            "linecolor": "white",
            "showbackground": true,
            "ticks": "",
            "zerolinecolor": "white"
           },
           "zaxis": {
            "backgroundcolor": "#E5ECF6",
            "gridcolor": "white",
            "gridwidth": 2,
            "linecolor": "white",
            "showbackground": true,
            "ticks": "",
            "zerolinecolor": "white"
           }
          },
          "shapedefaults": {
           "line": {
            "color": "#2a3f5f"
           }
          },
          "ternary": {
           "aaxis": {
            "gridcolor": "white",
            "linecolor": "white",
            "ticks": ""
           },
           "baxis": {
            "gridcolor": "white",
            "linecolor": "white",
            "ticks": ""
           },
           "bgcolor": "#E5ECF6",
           "caxis": {
            "gridcolor": "white",
            "linecolor": "white",
            "ticks": ""
           }
          },
          "title": {
           "x": 0.05
          },
          "xaxis": {
           "automargin": true,
           "gridcolor": "white",
           "linecolor": "white",
           "ticks": "",
           "title": {
            "standoff": 15
           },
           "zerolinecolor": "white",
           "zerolinewidth": 2
          },
          "yaxis": {
           "automargin": true,
           "gridcolor": "white",
           "linecolor": "white",
           "ticks": "",
           "title": {
            "standoff": 15
           },
           "zerolinecolor": "white",
           "zerolinewidth": 2
          }
         }
        },
        "title": {
         "text": "Top 10 Writers"
        }
       }
      },
      "text/html": [
       "<div>                            <div id=\"acfe6d26-b72b-42ee-9914-bd4ec1938885\" class=\"plotly-graph-div\" style=\"height:525px; width:100%;\"></div>            <script type=\"text/javascript\">                require([\"plotly\"], function(Plotly) {                    window.PLOTLYENV=window.PLOTLYENV || {};                                    if (document.getElementById(\"acfe6d26-b72b-42ee-9914-bd4ec1938885\")) {                    Plotly.newPlot(                        \"acfe6d26-b72b-42ee-9914-bd4ec1938885\",                        [{\"domain\":{\"x\":[0.0,1.0],\"y\":[0.0,1.0]},\"hovertemplate\":\"index=%{label}<br>writer=%{value}<extra></extra>\",\"labels\":[\"Stanley Kubrick\",\"Christopher Nolan\",\"Akira Kurosawa\",\"Billy Wilder\",\"George Lucas\",\"Charles Chaplin\",\"Quentin Tarantino\",\"Pete Docter\",\"Jonathan Nolan\",\"Andrew Stanton\"],\"legendgroup\":\"\",\"name\":\"\",\"showlegend\":true,\"values\":[7,7,6,5,5,5,5,5,5,4],\"type\":\"pie\"}],                        {\"template\":{\"data\":{\"histogram2dcontour\":[{\"type\":\"histogram2dcontour\",\"colorbar\":{\"outlinewidth\":0,\"ticks\":\"\"},\"colorscale\":[[0.0,\"#0d0887\"],[0.1111111111111111,\"#46039f\"],[0.2222222222222222,\"#7201a8\"],[0.3333333333333333,\"#9c179e\"],[0.4444444444444444,\"#bd3786\"],[0.5555555555555556,\"#d8576b\"],[0.6666666666666666,\"#ed7953\"],[0.7777777777777778,\"#fb9f3a\"],[0.8888888888888888,\"#fdca26\"],[1.0,\"#f0f921\"]]}],\"choropleth\":[{\"type\":\"choropleth\",\"colorbar\":{\"outlinewidth\":0,\"ticks\":\"\"}}],\"histogram2d\":[{\"type\":\"histogram2d\",\"colorbar\":{\"outlinewidth\":0,\"ticks\":\"\"},\"colorscale\":[[0.0,\"#0d0887\"],[0.1111111111111111,\"#46039f\"],[0.2222222222222222,\"#7201a8\"],[0.3333333333333333,\"#9c179e\"],[0.4444444444444444,\"#bd3786\"],[0.5555555555555556,\"#d8576b\"],[0.6666666666666666,\"#ed7953\"],[0.7777777777777778,\"#fb9f3a\"],[0.8888888888888888,\"#fdca26\"],[1.0,\"#f0f921\"]]}],\"heatmap\":[{\"type\":\"heatmap\",\"colorbar\":{\"outlinewidth\":0,\"ticks\":\"\"},\"colorscale\":[[0.0,\"#0d0887\"],[0.1111111111111111,\"#46039f\"],[0.2222222222222222,\"#7201a8\"],[0.3333333333333333,\"#9c179e\"],[0.4444444444444444,\"#bd3786\"],[0.5555555555555556,\"#d8576b\"],[0.6666666666666666,\"#ed7953\"],[0.7777777777777778,\"#fb9f3a\"],[0.8888888888888888,\"#fdca26\"],[1.0,\"#f0f921\"]]}],\"heatmapgl\":[{\"type\":\"heatmapgl\",\"colorbar\":{\"outlinewidth\":0,\"ticks\":\"\"},\"colorscale\":[[0.0,\"#0d0887\"],[0.1111111111111111,\"#46039f\"],[0.2222222222222222,\"#7201a8\"],[0.3333333333333333,\"#9c179e\"],[0.4444444444444444,\"#bd3786\"],[0.5555555555555556,\"#d8576b\"],[0.6666666666666666,\"#ed7953\"],[0.7777777777777778,\"#fb9f3a\"],[0.8888888888888888,\"#fdca26\"],[1.0,\"#f0f921\"]]}],\"contourcarpet\":[{\"type\":\"contourcarpet\",\"colorbar\":{\"outlinewidth\":0,\"ticks\":\"\"}}],\"contour\":[{\"type\":\"contour\",\"colorbar\":{\"outlinewidth\":0,\"ticks\":\"\"},\"colorscale\":[[0.0,\"#0d0887\"],[0.1111111111111111,\"#46039f\"],[0.2222222222222222,\"#7201a8\"],[0.3333333333333333,\"#9c179e\"],[0.4444444444444444,\"#bd3786\"],[0.5555555555555556,\"#d8576b\"],[0.6666666666666666,\"#ed7953\"],[0.7777777777777778,\"#fb9f3a\"],[0.8888888888888888,\"#fdca26\"],[1.0,\"#f0f921\"]]}],\"surface\":[{\"type\":\"surface\",\"colorbar\":{\"outlinewidth\":0,\"ticks\":\"\"},\"colorscale\":[[0.0,\"#0d0887\"],[0.1111111111111111,\"#46039f\"],[0.2222222222222222,\"#7201a8\"],[0.3333333333333333,\"#9c179e\"],[0.4444444444444444,\"#bd3786\"],[0.5555555555555556,\"#d8576b\"],[0.6666666666666666,\"#ed7953\"],[0.7777777777777778,\"#fb9f3a\"],[0.8888888888888888,\"#fdca26\"],[1.0,\"#f0f921\"]]}],\"mesh3d\":[{\"type\":\"mesh3d\",\"colorbar\":{\"outlinewidth\":0,\"ticks\":\"\"}}],\"scatter\":[{\"fillpattern\":{\"fillmode\":\"overlay\",\"size\":10,\"solidity\":0.2},\"type\":\"scatter\"}],\"parcoords\":[{\"type\":\"parcoords\",\"line\":{\"colorbar\":{\"outlinewidth\":0,\"ticks\":\"\"}}}],\"scatterpolargl\":[{\"type\":\"scatterpolargl\",\"marker\":{\"colorbar\":{\"outlinewidth\":0,\"ticks\":\"\"}}}],\"bar\":[{\"error_x\":{\"color\":\"#2a3f5f\"},\"error_y\":{\"color\":\"#2a3f5f\"},\"marker\":{\"line\":{\"color\":\"#E5ECF6\",\"width\":0.5},\"pattern\":{\"fillmode\":\"overlay\",\"size\":10,\"solidity\":0.2}},\"type\":\"bar\"}],\"scattergeo\":[{\"type\":\"scattergeo\",\"marker\":{\"colorbar\":{\"outlinewidth\":0,\"ticks\":\"\"}}}],\"scatterpolar\":[{\"type\":\"scatterpolar\",\"marker\":{\"colorbar\":{\"outlinewidth\":0,\"ticks\":\"\"}}}],\"histogram\":[{\"marker\":{\"pattern\":{\"fillmode\":\"overlay\",\"size\":10,\"solidity\":0.2}},\"type\":\"histogram\"}],\"scattergl\":[{\"type\":\"scattergl\",\"marker\":{\"colorbar\":{\"outlinewidth\":0,\"ticks\":\"\"}}}],\"scatter3d\":[{\"type\":\"scatter3d\",\"line\":{\"colorbar\":{\"outlinewidth\":0,\"ticks\":\"\"}},\"marker\":{\"colorbar\":{\"outlinewidth\":0,\"ticks\":\"\"}}}],\"scattermapbox\":[{\"type\":\"scattermapbox\",\"marker\":{\"colorbar\":{\"outlinewidth\":0,\"ticks\":\"\"}}}],\"scatterternary\":[{\"type\":\"scatterternary\",\"marker\":{\"colorbar\":{\"outlinewidth\":0,\"ticks\":\"\"}}}],\"scattercarpet\":[{\"type\":\"scattercarpet\",\"marker\":{\"colorbar\":{\"outlinewidth\":0,\"ticks\":\"\"}}}],\"carpet\":[{\"aaxis\":{\"endlinecolor\":\"#2a3f5f\",\"gridcolor\":\"white\",\"linecolor\":\"white\",\"minorgridcolor\":\"white\",\"startlinecolor\":\"#2a3f5f\"},\"baxis\":{\"endlinecolor\":\"#2a3f5f\",\"gridcolor\":\"white\",\"linecolor\":\"white\",\"minorgridcolor\":\"white\",\"startlinecolor\":\"#2a3f5f\"},\"type\":\"carpet\"}],\"table\":[{\"cells\":{\"fill\":{\"color\":\"#EBF0F8\"},\"line\":{\"color\":\"white\"}},\"header\":{\"fill\":{\"color\":\"#C8D4E3\"},\"line\":{\"color\":\"white\"}},\"type\":\"table\"}],\"barpolar\":[{\"marker\":{\"line\":{\"color\":\"#E5ECF6\",\"width\":0.5},\"pattern\":{\"fillmode\":\"overlay\",\"size\":10,\"solidity\":0.2}},\"type\":\"barpolar\"}],\"pie\":[{\"automargin\":true,\"type\":\"pie\"}]},\"layout\":{\"autotypenumbers\":\"strict\",\"colorway\":[\"#636efa\",\"#EF553B\",\"#00cc96\",\"#ab63fa\",\"#FFA15A\",\"#19d3f3\",\"#FF6692\",\"#B6E880\",\"#FF97FF\",\"#FECB52\"],\"font\":{\"color\":\"#2a3f5f\"},\"hovermode\":\"closest\",\"hoverlabel\":{\"align\":\"left\"},\"paper_bgcolor\":\"white\",\"plot_bgcolor\":\"#E5ECF6\",\"polar\":{\"bgcolor\":\"#E5ECF6\",\"angularaxis\":{\"gridcolor\":\"white\",\"linecolor\":\"white\",\"ticks\":\"\"},\"radialaxis\":{\"gridcolor\":\"white\",\"linecolor\":\"white\",\"ticks\":\"\"}},\"ternary\":{\"bgcolor\":\"#E5ECF6\",\"aaxis\":{\"gridcolor\":\"white\",\"linecolor\":\"white\",\"ticks\":\"\"},\"baxis\":{\"gridcolor\":\"white\",\"linecolor\":\"white\",\"ticks\":\"\"},\"caxis\":{\"gridcolor\":\"white\",\"linecolor\":\"white\",\"ticks\":\"\"}},\"coloraxis\":{\"colorbar\":{\"outlinewidth\":0,\"ticks\":\"\"}},\"colorscale\":{\"sequential\":[[0.0,\"#0d0887\"],[0.1111111111111111,\"#46039f\"],[0.2222222222222222,\"#7201a8\"],[0.3333333333333333,\"#9c179e\"],[0.4444444444444444,\"#bd3786\"],[0.5555555555555556,\"#d8576b\"],[0.6666666666666666,\"#ed7953\"],[0.7777777777777778,\"#fb9f3a\"],[0.8888888888888888,\"#fdca26\"],[1.0,\"#f0f921\"]],\"sequentialminus\":[[0.0,\"#0d0887\"],[0.1111111111111111,\"#46039f\"],[0.2222222222222222,\"#7201a8\"],[0.3333333333333333,\"#9c179e\"],[0.4444444444444444,\"#bd3786\"],[0.5555555555555556,\"#d8576b\"],[0.6666666666666666,\"#ed7953\"],[0.7777777777777778,\"#fb9f3a\"],[0.8888888888888888,\"#fdca26\"],[1.0,\"#f0f921\"]],\"diverging\":[[0,\"#8e0152\"],[0.1,\"#c51b7d\"],[0.2,\"#de77ae\"],[0.3,\"#f1b6da\"],[0.4,\"#fde0ef\"],[0.5,\"#f7f7f7\"],[0.6,\"#e6f5d0\"],[0.7,\"#b8e186\"],[0.8,\"#7fbc41\"],[0.9,\"#4d9221\"],[1,\"#276419\"]]},\"xaxis\":{\"gridcolor\":\"white\",\"linecolor\":\"white\",\"ticks\":\"\",\"title\":{\"standoff\":15},\"zerolinecolor\":\"white\",\"automargin\":true,\"zerolinewidth\":2},\"yaxis\":{\"gridcolor\":\"white\",\"linecolor\":\"white\",\"ticks\":\"\",\"title\":{\"standoff\":15},\"zerolinecolor\":\"white\",\"automargin\":true,\"zerolinewidth\":2},\"scene\":{\"xaxis\":{\"backgroundcolor\":\"#E5ECF6\",\"gridcolor\":\"white\",\"linecolor\":\"white\",\"showbackground\":true,\"ticks\":\"\",\"zerolinecolor\":\"white\",\"gridwidth\":2},\"yaxis\":{\"backgroundcolor\":\"#E5ECF6\",\"gridcolor\":\"white\",\"linecolor\":\"white\",\"showbackground\":true,\"ticks\":\"\",\"zerolinecolor\":\"white\",\"gridwidth\":2},\"zaxis\":{\"backgroundcolor\":\"#E5ECF6\",\"gridcolor\":\"white\",\"linecolor\":\"white\",\"showbackground\":true,\"ticks\":\"\",\"zerolinecolor\":\"white\",\"gridwidth\":2}},\"shapedefaults\":{\"line\":{\"color\":\"#2a3f5f\"}},\"annotationdefaults\":{\"arrowcolor\":\"#2a3f5f\",\"arrowhead\":0,\"arrowwidth\":1},\"geo\":{\"bgcolor\":\"white\",\"landcolor\":\"#E5ECF6\",\"subunitcolor\":\"white\",\"showland\":true,\"showlakes\":true,\"lakecolor\":\"white\"},\"title\":{\"x\":0.05},\"mapbox\":{\"style\":\"light\"}}},\"legend\":{\"tracegroupgap\":0},\"title\":{\"text\":\"Top 10 Writers\"}},                        {\"responsive\": true}                    ).then(function(){\n",
       "                            \n",
       "var gd = document.getElementById('acfe6d26-b72b-42ee-9914-bd4ec1938885');\n",
       "var x = new MutationObserver(function (mutations, observer) {{\n",
       "        var display = window.getComputedStyle(gd).display;\n",
       "        if (!display || display === 'none') {{\n",
       "            console.log([gd, 'removed!']);\n",
       "            Plotly.purge(gd);\n",
       "            observer.disconnect();\n",
       "        }}\n",
       "}});\n",
       "\n",
       "// Listen for the removal of the full notebook cells\n",
       "var notebookContainer = gd.closest('#notebook-container');\n",
       "if (notebookContainer) {{\n",
       "    x.observe(notebookContainer, {childList: true});\n",
       "}}\n",
       "\n",
       "// Listen for the clearing of the current output cell\n",
       "var outputEl = gd.closest('.output');\n",
       "if (outputEl) {{\n",
       "    x.observe(outputEl, {childList: true});\n",
       "}}\n",
       "\n",
       "                        })                };                });            </script>        </div>"
      ]
     },
     "metadata": {},
     "output_type": "display_data"
    }
   ],
   "source": [
    "df_writers =  df['writers'].str.split(',',expand=True).stack().reset_index(level=1,drop=True).rename('writer')\n",
    "df_top_writers = df_writers.value_counts().nlargest(10) \n",
    "fig = px.pie(df_top_writers, values='writer', names=df_top_writers.index, title='Top 10 Writers')\n",
    "fig.show()"
   ]
  },
  {
   "cell_type": "markdown",
   "id": "318cba7f",
   "metadata": {},
   "source": [
    "## director with most movies on the dataset"
   ]
  },
  {
   "cell_type": "code",
   "execution_count": 21,
   "id": "9bec51d7",
   "metadata": {},
   "outputs": [
    {
     "data": {
      "application/vnd.plotly.v1+json": {
       "config": {
        "plotlyServerURL": "https://plot.ly"
       },
       "data": [
        {
         "domain": {
          "x": [
           0,
           1
          ],
          "y": [
           0,
           1
          ]
         },
         "hovertemplate": "index=%{label}<br>directors=%{value}<extra></extra>",
         "labels": [
          "Christopher Nolan",
          "Steven Spielberg",
          "Akira Kurosawa",
          "Martin Scorsese",
          "Stanley Kubrick",
          "Alfred Hitchcock",
          "Charles Chaplin",
          "Quentin Tarantino",
          "Billy Wilder",
          "Hayao Miyazaki"
         ],
         "legendgroup": "",
         "name": "",
         "showlegend": true,
         "type": "pie",
         "values": [
          7,
          7,
          7,
          7,
          7,
          6,
          5,
          5,
          5,
          4
         ]
        }
       ],
       "layout": {
        "legend": {
         "tracegroupgap": 0
        },
        "template": {
         "data": {
          "bar": [
           {
            "error_x": {
             "color": "#2a3f5f"
            },
            "error_y": {
             "color": "#2a3f5f"
            },
            "marker": {
             "line": {
              "color": "#E5ECF6",
              "width": 0.5
             },
             "pattern": {
              "fillmode": "overlay",
              "size": 10,
              "solidity": 0.2
             }
            },
            "type": "bar"
           }
          ],
          "barpolar": [
           {
            "marker": {
             "line": {
              "color": "#E5ECF6",
              "width": 0.5
             },
             "pattern": {
              "fillmode": "overlay",
              "size": 10,
              "solidity": 0.2
             }
            },
            "type": "barpolar"
           }
          ],
          "carpet": [
           {
            "aaxis": {
             "endlinecolor": "#2a3f5f",
             "gridcolor": "white",
             "linecolor": "white",
             "minorgridcolor": "white",
             "startlinecolor": "#2a3f5f"
            },
            "baxis": {
             "endlinecolor": "#2a3f5f",
             "gridcolor": "white",
             "linecolor": "white",
             "minorgridcolor": "white",
             "startlinecolor": "#2a3f5f"
            },
            "type": "carpet"
           }
          ],
          "choropleth": [
           {
            "colorbar": {
             "outlinewidth": 0,
             "ticks": ""
            },
            "type": "choropleth"
           }
          ],
          "contour": [
           {
            "colorbar": {
             "outlinewidth": 0,
             "ticks": ""
            },
            "colorscale": [
             [
              0,
              "#0d0887"
             ],
             [
              0.1111111111111111,
              "#46039f"
             ],
             [
              0.2222222222222222,
              "#7201a8"
             ],
             [
              0.3333333333333333,
              "#9c179e"
             ],
             [
              0.4444444444444444,
              "#bd3786"
             ],
             [
              0.5555555555555556,
              "#d8576b"
             ],
             [
              0.6666666666666666,
              "#ed7953"
             ],
             [
              0.7777777777777778,
              "#fb9f3a"
             ],
             [
              0.8888888888888888,
              "#fdca26"
             ],
             [
              1,
              "#f0f921"
             ]
            ],
            "type": "contour"
           }
          ],
          "contourcarpet": [
           {
            "colorbar": {
             "outlinewidth": 0,
             "ticks": ""
            },
            "type": "contourcarpet"
           }
          ],
          "heatmap": [
           {
            "colorbar": {
             "outlinewidth": 0,
             "ticks": ""
            },
            "colorscale": [
             [
              0,
              "#0d0887"
             ],
             [
              0.1111111111111111,
              "#46039f"
             ],
             [
              0.2222222222222222,
              "#7201a8"
             ],
             [
              0.3333333333333333,
              "#9c179e"
             ],
             [
              0.4444444444444444,
              "#bd3786"
             ],
             [
              0.5555555555555556,
              "#d8576b"
             ],
             [
              0.6666666666666666,
              "#ed7953"
             ],
             [
              0.7777777777777778,
              "#fb9f3a"
             ],
             [
              0.8888888888888888,
              "#fdca26"
             ],
             [
              1,
              "#f0f921"
             ]
            ],
            "type": "heatmap"
           }
          ],
          "heatmapgl": [
           {
            "colorbar": {
             "outlinewidth": 0,
             "ticks": ""
            },
            "colorscale": [
             [
              0,
              "#0d0887"
             ],
             [
              0.1111111111111111,
              "#46039f"
             ],
             [
              0.2222222222222222,
              "#7201a8"
             ],
             [
              0.3333333333333333,
              "#9c179e"
             ],
             [
              0.4444444444444444,
              "#bd3786"
             ],
             [
              0.5555555555555556,
              "#d8576b"
             ],
             [
              0.6666666666666666,
              "#ed7953"
             ],
             [
              0.7777777777777778,
              "#fb9f3a"
             ],
             [
              0.8888888888888888,
              "#fdca26"
             ],
             [
              1,
              "#f0f921"
             ]
            ],
            "type": "heatmapgl"
           }
          ],
          "histogram": [
           {
            "marker": {
             "pattern": {
              "fillmode": "overlay",
              "size": 10,
              "solidity": 0.2
             }
            },
            "type": "histogram"
           }
          ],
          "histogram2d": [
           {
            "colorbar": {
             "outlinewidth": 0,
             "ticks": ""
            },
            "colorscale": [
             [
              0,
              "#0d0887"
             ],
             [
              0.1111111111111111,
              "#46039f"
             ],
             [
              0.2222222222222222,
              "#7201a8"
             ],
             [
              0.3333333333333333,
              "#9c179e"
             ],
             [
              0.4444444444444444,
              "#bd3786"
             ],
             [
              0.5555555555555556,
              "#d8576b"
             ],
             [
              0.6666666666666666,
              "#ed7953"
             ],
             [
              0.7777777777777778,
              "#fb9f3a"
             ],
             [
              0.8888888888888888,
              "#fdca26"
             ],
             [
              1,
              "#f0f921"
             ]
            ],
            "type": "histogram2d"
           }
          ],
          "histogram2dcontour": [
           {
            "colorbar": {
             "outlinewidth": 0,
             "ticks": ""
            },
            "colorscale": [
             [
              0,
              "#0d0887"
             ],
             [
              0.1111111111111111,
              "#46039f"
             ],
             [
              0.2222222222222222,
              "#7201a8"
             ],
             [
              0.3333333333333333,
              "#9c179e"
             ],
             [
              0.4444444444444444,
              "#bd3786"
             ],
             [
              0.5555555555555556,
              "#d8576b"
             ],
             [
              0.6666666666666666,
              "#ed7953"
             ],
             [
              0.7777777777777778,
              "#fb9f3a"
             ],
             [
              0.8888888888888888,
              "#fdca26"
             ],
             [
              1,
              "#f0f921"
             ]
            ],
            "type": "histogram2dcontour"
           }
          ],
          "mesh3d": [
           {
            "colorbar": {
             "outlinewidth": 0,
             "ticks": ""
            },
            "type": "mesh3d"
           }
          ],
          "parcoords": [
           {
            "line": {
             "colorbar": {
              "outlinewidth": 0,
              "ticks": ""
             }
            },
            "type": "parcoords"
           }
          ],
          "pie": [
           {
            "automargin": true,
            "type": "pie"
           }
          ],
          "scatter": [
           {
            "fillpattern": {
             "fillmode": "overlay",
             "size": 10,
             "solidity": 0.2
            },
            "type": "scatter"
           }
          ],
          "scatter3d": [
           {
            "line": {
             "colorbar": {
              "outlinewidth": 0,
              "ticks": ""
             }
            },
            "marker": {
             "colorbar": {
              "outlinewidth": 0,
              "ticks": ""
             }
            },
            "type": "scatter3d"
           }
          ],
          "scattercarpet": [
           {
            "marker": {
             "colorbar": {
              "outlinewidth": 0,
              "ticks": ""
             }
            },
            "type": "scattercarpet"
           }
          ],
          "scattergeo": [
           {
            "marker": {
             "colorbar": {
              "outlinewidth": 0,
              "ticks": ""
             }
            },
            "type": "scattergeo"
           }
          ],
          "scattergl": [
           {
            "marker": {
             "colorbar": {
              "outlinewidth": 0,
              "ticks": ""
             }
            },
            "type": "scattergl"
           }
          ],
          "scattermapbox": [
           {
            "marker": {
             "colorbar": {
              "outlinewidth": 0,
              "ticks": ""
             }
            },
            "type": "scattermapbox"
           }
          ],
          "scatterpolar": [
           {
            "marker": {
             "colorbar": {
              "outlinewidth": 0,
              "ticks": ""
             }
            },
            "type": "scatterpolar"
           }
          ],
          "scatterpolargl": [
           {
            "marker": {
             "colorbar": {
              "outlinewidth": 0,
              "ticks": ""
             }
            },
            "type": "scatterpolargl"
           }
          ],
          "scatterternary": [
           {
            "marker": {
             "colorbar": {
              "outlinewidth": 0,
              "ticks": ""
             }
            },
            "type": "scatterternary"
           }
          ],
          "surface": [
           {
            "colorbar": {
             "outlinewidth": 0,
             "ticks": ""
            },
            "colorscale": [
             [
              0,
              "#0d0887"
             ],
             [
              0.1111111111111111,
              "#46039f"
             ],
             [
              0.2222222222222222,
              "#7201a8"
             ],
             [
              0.3333333333333333,
              "#9c179e"
             ],
             [
              0.4444444444444444,
              "#bd3786"
             ],
             [
              0.5555555555555556,
              "#d8576b"
             ],
             [
              0.6666666666666666,
              "#ed7953"
             ],
             [
              0.7777777777777778,
              "#fb9f3a"
             ],
             [
              0.8888888888888888,
              "#fdca26"
             ],
             [
              1,
              "#f0f921"
             ]
            ],
            "type": "surface"
           }
          ],
          "table": [
           {
            "cells": {
             "fill": {
              "color": "#EBF0F8"
             },
             "line": {
              "color": "white"
             }
            },
            "header": {
             "fill": {
              "color": "#C8D4E3"
             },
             "line": {
              "color": "white"
             }
            },
            "type": "table"
           }
          ]
         },
         "layout": {
          "annotationdefaults": {
           "arrowcolor": "#2a3f5f",
           "arrowhead": 0,
           "arrowwidth": 1
          },
          "autotypenumbers": "strict",
          "coloraxis": {
           "colorbar": {
            "outlinewidth": 0,
            "ticks": ""
           }
          },
          "colorscale": {
           "diverging": [
            [
             0,
             "#8e0152"
            ],
            [
             0.1,
             "#c51b7d"
            ],
            [
             0.2,
             "#de77ae"
            ],
            [
             0.3,
             "#f1b6da"
            ],
            [
             0.4,
             "#fde0ef"
            ],
            [
             0.5,
             "#f7f7f7"
            ],
            [
             0.6,
             "#e6f5d0"
            ],
            [
             0.7,
             "#b8e186"
            ],
            [
             0.8,
             "#7fbc41"
            ],
            [
             0.9,
             "#4d9221"
            ],
            [
             1,
             "#276419"
            ]
           ],
           "sequential": [
            [
             0,
             "#0d0887"
            ],
            [
             0.1111111111111111,
             "#46039f"
            ],
            [
             0.2222222222222222,
             "#7201a8"
            ],
            [
             0.3333333333333333,
             "#9c179e"
            ],
            [
             0.4444444444444444,
             "#bd3786"
            ],
            [
             0.5555555555555556,
             "#d8576b"
            ],
            [
             0.6666666666666666,
             "#ed7953"
            ],
            [
             0.7777777777777778,
             "#fb9f3a"
            ],
            [
             0.8888888888888888,
             "#fdca26"
            ],
            [
             1,
             "#f0f921"
            ]
           ],
           "sequentialminus": [
            [
             0,
             "#0d0887"
            ],
            [
             0.1111111111111111,
             "#46039f"
            ],
            [
             0.2222222222222222,
             "#7201a8"
            ],
            [
             0.3333333333333333,
             "#9c179e"
            ],
            [
             0.4444444444444444,
             "#bd3786"
            ],
            [
             0.5555555555555556,
             "#d8576b"
            ],
            [
             0.6666666666666666,
             "#ed7953"
            ],
            [
             0.7777777777777778,
             "#fb9f3a"
            ],
            [
             0.8888888888888888,
             "#fdca26"
            ],
            [
             1,
             "#f0f921"
            ]
           ]
          },
          "colorway": [
           "#636efa",
           "#EF553B",
           "#00cc96",
           "#ab63fa",
           "#FFA15A",
           "#19d3f3",
           "#FF6692",
           "#B6E880",
           "#FF97FF",
           "#FECB52"
          ],
          "font": {
           "color": "#2a3f5f"
          },
          "geo": {
           "bgcolor": "white",
           "lakecolor": "white",
           "landcolor": "#E5ECF6",
           "showlakes": true,
           "showland": true,
           "subunitcolor": "white"
          },
          "hoverlabel": {
           "align": "left"
          },
          "hovermode": "closest",
          "mapbox": {
           "style": "light"
          },
          "paper_bgcolor": "white",
          "plot_bgcolor": "#E5ECF6",
          "polar": {
           "angularaxis": {
            "gridcolor": "white",
            "linecolor": "white",
            "ticks": ""
           },
           "bgcolor": "#E5ECF6",
           "radialaxis": {
            "gridcolor": "white",
            "linecolor": "white",
            "ticks": ""
           }
          },
          "scene": {
           "xaxis": {
            "backgroundcolor": "#E5ECF6",
            "gridcolor": "white",
            "gridwidth": 2,
            "linecolor": "white",
            "showbackground": true,
            "ticks": "",
            "zerolinecolor": "white"
           },
           "yaxis": {
            "backgroundcolor": "#E5ECF6",
            "gridcolor": "white",
            "gridwidth": 2,
            "linecolor": "white",
            "showbackground": true,
            "ticks": "",
            "zerolinecolor": "white"
           },
           "zaxis": {
            "backgroundcolor": "#E5ECF6",
            "gridcolor": "white",
            "gridwidth": 2,
            "linecolor": "white",
            "showbackground": true,
            "ticks": "",
            "zerolinecolor": "white"
           }
          },
          "shapedefaults": {
           "line": {
            "color": "#2a3f5f"
           }
          },
          "ternary": {
           "aaxis": {
            "gridcolor": "white",
            "linecolor": "white",
            "ticks": ""
           },
           "baxis": {
            "gridcolor": "white",
            "linecolor": "white",
            "ticks": ""
           },
           "bgcolor": "#E5ECF6",
           "caxis": {
            "gridcolor": "white",
            "linecolor": "white",
            "ticks": ""
           }
          },
          "title": {
           "x": 0.05
          },
          "xaxis": {
           "automargin": true,
           "gridcolor": "white",
           "linecolor": "white",
           "ticks": "",
           "title": {
            "standoff": 15
           },
           "zerolinecolor": "white",
           "zerolinewidth": 2
          },
          "yaxis": {
           "automargin": true,
           "gridcolor": "white",
           "linecolor": "white",
           "ticks": "",
           "title": {
            "standoff": 15
           },
           "zerolinecolor": "white",
           "zerolinewidth": 2
          }
         }
        },
        "title": {
         "text": "Top 10 Directors"
        }
       }
      },
      "text/html": [
       "<div>                            <div id=\"b8fb27ad-e82c-493d-9f47-24dc11df78b8\" class=\"plotly-graph-div\" style=\"height:525px; width:100%;\"></div>            <script type=\"text/javascript\">                require([\"plotly\"], function(Plotly) {                    window.PLOTLYENV=window.PLOTLYENV || {};                                    if (document.getElementById(\"b8fb27ad-e82c-493d-9f47-24dc11df78b8\")) {                    Plotly.newPlot(                        \"b8fb27ad-e82c-493d-9f47-24dc11df78b8\",                        [{\"domain\":{\"x\":[0.0,1.0],\"y\":[0.0,1.0]},\"hovertemplate\":\"index=%{label}<br>directors=%{value}<extra></extra>\",\"labels\":[\"Christopher Nolan\",\"Steven Spielberg\",\"Akira Kurosawa\",\"Martin Scorsese\",\"Stanley Kubrick\",\"Alfred Hitchcock\",\"Charles Chaplin\",\"Quentin Tarantino\",\"Billy Wilder\",\"Hayao Miyazaki\"],\"legendgroup\":\"\",\"name\":\"\",\"showlegend\":true,\"values\":[7,7,7,7,7,6,5,5,5,4],\"type\":\"pie\"}],                        {\"template\":{\"data\":{\"histogram2dcontour\":[{\"type\":\"histogram2dcontour\",\"colorbar\":{\"outlinewidth\":0,\"ticks\":\"\"},\"colorscale\":[[0.0,\"#0d0887\"],[0.1111111111111111,\"#46039f\"],[0.2222222222222222,\"#7201a8\"],[0.3333333333333333,\"#9c179e\"],[0.4444444444444444,\"#bd3786\"],[0.5555555555555556,\"#d8576b\"],[0.6666666666666666,\"#ed7953\"],[0.7777777777777778,\"#fb9f3a\"],[0.8888888888888888,\"#fdca26\"],[1.0,\"#f0f921\"]]}],\"choropleth\":[{\"type\":\"choropleth\",\"colorbar\":{\"outlinewidth\":0,\"ticks\":\"\"}}],\"histogram2d\":[{\"type\":\"histogram2d\",\"colorbar\":{\"outlinewidth\":0,\"ticks\":\"\"},\"colorscale\":[[0.0,\"#0d0887\"],[0.1111111111111111,\"#46039f\"],[0.2222222222222222,\"#7201a8\"],[0.3333333333333333,\"#9c179e\"],[0.4444444444444444,\"#bd3786\"],[0.5555555555555556,\"#d8576b\"],[0.6666666666666666,\"#ed7953\"],[0.7777777777777778,\"#fb9f3a\"],[0.8888888888888888,\"#fdca26\"],[1.0,\"#f0f921\"]]}],\"heatmap\":[{\"type\":\"heatmap\",\"colorbar\":{\"outlinewidth\":0,\"ticks\":\"\"},\"colorscale\":[[0.0,\"#0d0887\"],[0.1111111111111111,\"#46039f\"],[0.2222222222222222,\"#7201a8\"],[0.3333333333333333,\"#9c179e\"],[0.4444444444444444,\"#bd3786\"],[0.5555555555555556,\"#d8576b\"],[0.6666666666666666,\"#ed7953\"],[0.7777777777777778,\"#fb9f3a\"],[0.8888888888888888,\"#fdca26\"],[1.0,\"#f0f921\"]]}],\"heatmapgl\":[{\"type\":\"heatmapgl\",\"colorbar\":{\"outlinewidth\":0,\"ticks\":\"\"},\"colorscale\":[[0.0,\"#0d0887\"],[0.1111111111111111,\"#46039f\"],[0.2222222222222222,\"#7201a8\"],[0.3333333333333333,\"#9c179e\"],[0.4444444444444444,\"#bd3786\"],[0.5555555555555556,\"#d8576b\"],[0.6666666666666666,\"#ed7953\"],[0.7777777777777778,\"#fb9f3a\"],[0.8888888888888888,\"#fdca26\"],[1.0,\"#f0f921\"]]}],\"contourcarpet\":[{\"type\":\"contourcarpet\",\"colorbar\":{\"outlinewidth\":0,\"ticks\":\"\"}}],\"contour\":[{\"type\":\"contour\",\"colorbar\":{\"outlinewidth\":0,\"ticks\":\"\"},\"colorscale\":[[0.0,\"#0d0887\"],[0.1111111111111111,\"#46039f\"],[0.2222222222222222,\"#7201a8\"],[0.3333333333333333,\"#9c179e\"],[0.4444444444444444,\"#bd3786\"],[0.5555555555555556,\"#d8576b\"],[0.6666666666666666,\"#ed7953\"],[0.7777777777777778,\"#fb9f3a\"],[0.8888888888888888,\"#fdca26\"],[1.0,\"#f0f921\"]]}],\"surface\":[{\"type\":\"surface\",\"colorbar\":{\"outlinewidth\":0,\"ticks\":\"\"},\"colorscale\":[[0.0,\"#0d0887\"],[0.1111111111111111,\"#46039f\"],[0.2222222222222222,\"#7201a8\"],[0.3333333333333333,\"#9c179e\"],[0.4444444444444444,\"#bd3786\"],[0.5555555555555556,\"#d8576b\"],[0.6666666666666666,\"#ed7953\"],[0.7777777777777778,\"#fb9f3a\"],[0.8888888888888888,\"#fdca26\"],[1.0,\"#f0f921\"]]}],\"mesh3d\":[{\"type\":\"mesh3d\",\"colorbar\":{\"outlinewidth\":0,\"ticks\":\"\"}}],\"scatter\":[{\"fillpattern\":{\"fillmode\":\"overlay\",\"size\":10,\"solidity\":0.2},\"type\":\"scatter\"}],\"parcoords\":[{\"type\":\"parcoords\",\"line\":{\"colorbar\":{\"outlinewidth\":0,\"ticks\":\"\"}}}],\"scatterpolargl\":[{\"type\":\"scatterpolargl\",\"marker\":{\"colorbar\":{\"outlinewidth\":0,\"ticks\":\"\"}}}],\"bar\":[{\"error_x\":{\"color\":\"#2a3f5f\"},\"error_y\":{\"color\":\"#2a3f5f\"},\"marker\":{\"line\":{\"color\":\"#E5ECF6\",\"width\":0.5},\"pattern\":{\"fillmode\":\"overlay\",\"size\":10,\"solidity\":0.2}},\"type\":\"bar\"}],\"scattergeo\":[{\"type\":\"scattergeo\",\"marker\":{\"colorbar\":{\"outlinewidth\":0,\"ticks\":\"\"}}}],\"scatterpolar\":[{\"type\":\"scatterpolar\",\"marker\":{\"colorbar\":{\"outlinewidth\":0,\"ticks\":\"\"}}}],\"histogram\":[{\"marker\":{\"pattern\":{\"fillmode\":\"overlay\",\"size\":10,\"solidity\":0.2}},\"type\":\"histogram\"}],\"scattergl\":[{\"type\":\"scattergl\",\"marker\":{\"colorbar\":{\"outlinewidth\":0,\"ticks\":\"\"}}}],\"scatter3d\":[{\"type\":\"scatter3d\",\"line\":{\"colorbar\":{\"outlinewidth\":0,\"ticks\":\"\"}},\"marker\":{\"colorbar\":{\"outlinewidth\":0,\"ticks\":\"\"}}}],\"scattermapbox\":[{\"type\":\"scattermapbox\",\"marker\":{\"colorbar\":{\"outlinewidth\":0,\"ticks\":\"\"}}}],\"scatterternary\":[{\"type\":\"scatterternary\",\"marker\":{\"colorbar\":{\"outlinewidth\":0,\"ticks\":\"\"}}}],\"scattercarpet\":[{\"type\":\"scattercarpet\",\"marker\":{\"colorbar\":{\"outlinewidth\":0,\"ticks\":\"\"}}}],\"carpet\":[{\"aaxis\":{\"endlinecolor\":\"#2a3f5f\",\"gridcolor\":\"white\",\"linecolor\":\"white\",\"minorgridcolor\":\"white\",\"startlinecolor\":\"#2a3f5f\"},\"baxis\":{\"endlinecolor\":\"#2a3f5f\",\"gridcolor\":\"white\",\"linecolor\":\"white\",\"minorgridcolor\":\"white\",\"startlinecolor\":\"#2a3f5f\"},\"type\":\"carpet\"}],\"table\":[{\"cells\":{\"fill\":{\"color\":\"#EBF0F8\"},\"line\":{\"color\":\"white\"}},\"header\":{\"fill\":{\"color\":\"#C8D4E3\"},\"line\":{\"color\":\"white\"}},\"type\":\"table\"}],\"barpolar\":[{\"marker\":{\"line\":{\"color\":\"#E5ECF6\",\"width\":0.5},\"pattern\":{\"fillmode\":\"overlay\",\"size\":10,\"solidity\":0.2}},\"type\":\"barpolar\"}],\"pie\":[{\"automargin\":true,\"type\":\"pie\"}]},\"layout\":{\"autotypenumbers\":\"strict\",\"colorway\":[\"#636efa\",\"#EF553B\",\"#00cc96\",\"#ab63fa\",\"#FFA15A\",\"#19d3f3\",\"#FF6692\",\"#B6E880\",\"#FF97FF\",\"#FECB52\"],\"font\":{\"color\":\"#2a3f5f\"},\"hovermode\":\"closest\",\"hoverlabel\":{\"align\":\"left\"},\"paper_bgcolor\":\"white\",\"plot_bgcolor\":\"#E5ECF6\",\"polar\":{\"bgcolor\":\"#E5ECF6\",\"angularaxis\":{\"gridcolor\":\"white\",\"linecolor\":\"white\",\"ticks\":\"\"},\"radialaxis\":{\"gridcolor\":\"white\",\"linecolor\":\"white\",\"ticks\":\"\"}},\"ternary\":{\"bgcolor\":\"#E5ECF6\",\"aaxis\":{\"gridcolor\":\"white\",\"linecolor\":\"white\",\"ticks\":\"\"},\"baxis\":{\"gridcolor\":\"white\",\"linecolor\":\"white\",\"ticks\":\"\"},\"caxis\":{\"gridcolor\":\"white\",\"linecolor\":\"white\",\"ticks\":\"\"}},\"coloraxis\":{\"colorbar\":{\"outlinewidth\":0,\"ticks\":\"\"}},\"colorscale\":{\"sequential\":[[0.0,\"#0d0887\"],[0.1111111111111111,\"#46039f\"],[0.2222222222222222,\"#7201a8\"],[0.3333333333333333,\"#9c179e\"],[0.4444444444444444,\"#bd3786\"],[0.5555555555555556,\"#d8576b\"],[0.6666666666666666,\"#ed7953\"],[0.7777777777777778,\"#fb9f3a\"],[0.8888888888888888,\"#fdca26\"],[1.0,\"#f0f921\"]],\"sequentialminus\":[[0.0,\"#0d0887\"],[0.1111111111111111,\"#46039f\"],[0.2222222222222222,\"#7201a8\"],[0.3333333333333333,\"#9c179e\"],[0.4444444444444444,\"#bd3786\"],[0.5555555555555556,\"#d8576b\"],[0.6666666666666666,\"#ed7953\"],[0.7777777777777778,\"#fb9f3a\"],[0.8888888888888888,\"#fdca26\"],[1.0,\"#f0f921\"]],\"diverging\":[[0,\"#8e0152\"],[0.1,\"#c51b7d\"],[0.2,\"#de77ae\"],[0.3,\"#f1b6da\"],[0.4,\"#fde0ef\"],[0.5,\"#f7f7f7\"],[0.6,\"#e6f5d0\"],[0.7,\"#b8e186\"],[0.8,\"#7fbc41\"],[0.9,\"#4d9221\"],[1,\"#276419\"]]},\"xaxis\":{\"gridcolor\":\"white\",\"linecolor\":\"white\",\"ticks\":\"\",\"title\":{\"standoff\":15},\"zerolinecolor\":\"white\",\"automargin\":true,\"zerolinewidth\":2},\"yaxis\":{\"gridcolor\":\"white\",\"linecolor\":\"white\",\"ticks\":\"\",\"title\":{\"standoff\":15},\"zerolinecolor\":\"white\",\"automargin\":true,\"zerolinewidth\":2},\"scene\":{\"xaxis\":{\"backgroundcolor\":\"#E5ECF6\",\"gridcolor\":\"white\",\"linecolor\":\"white\",\"showbackground\":true,\"ticks\":\"\",\"zerolinecolor\":\"white\",\"gridwidth\":2},\"yaxis\":{\"backgroundcolor\":\"#E5ECF6\",\"gridcolor\":\"white\",\"linecolor\":\"white\",\"showbackground\":true,\"ticks\":\"\",\"zerolinecolor\":\"white\",\"gridwidth\":2},\"zaxis\":{\"backgroundcolor\":\"#E5ECF6\",\"gridcolor\":\"white\",\"linecolor\":\"white\",\"showbackground\":true,\"ticks\":\"\",\"zerolinecolor\":\"white\",\"gridwidth\":2}},\"shapedefaults\":{\"line\":{\"color\":\"#2a3f5f\"}},\"annotationdefaults\":{\"arrowcolor\":\"#2a3f5f\",\"arrowhead\":0,\"arrowwidth\":1},\"geo\":{\"bgcolor\":\"white\",\"landcolor\":\"#E5ECF6\",\"subunitcolor\":\"white\",\"showland\":true,\"showlakes\":true,\"lakecolor\":\"white\"},\"title\":{\"x\":0.05},\"mapbox\":{\"style\":\"light\"}}},\"legend\":{\"tracegroupgap\":0},\"title\":{\"text\":\"Top 10 Directors\"}},                        {\"responsive\": true}                    ).then(function(){\n",
       "                            \n",
       "var gd = document.getElementById('b8fb27ad-e82c-493d-9f47-24dc11df78b8');\n",
       "var x = new MutationObserver(function (mutations, observer) {{\n",
       "        var display = window.getComputedStyle(gd).display;\n",
       "        if (!display || display === 'none') {{\n",
       "            console.log([gd, 'removed!']);\n",
       "            Plotly.purge(gd);\n",
       "            observer.disconnect();\n",
       "        }}\n",
       "}});\n",
       "\n",
       "// Listen for the removal of the full notebook cells\n",
       "var notebookContainer = gd.closest('#notebook-container');\n",
       "if (notebookContainer) {{\n",
       "    x.observe(notebookContainer, {childList: true});\n",
       "}}\n",
       "\n",
       "// Listen for the clearing of the current output cell\n",
       "var outputEl = gd.closest('.output');\n",
       "if (outputEl) {{\n",
       "    x.observe(outputEl, {childList: true});\n",
       "}}\n",
       "\n",
       "                        })                };                });            </script>        </div>"
      ]
     },
     "metadata": {},
     "output_type": "display_data"
    }
   ],
   "source": [
    "df_directors =  df['directors'].str.split(',',expand=True).stack().reset_index(level=1,drop=True).rename('directors')\n",
    "df_top_directors = df_directors.value_counts().nlargest(10)\n",
    "df_top_directors\n",
    "fig = px.pie(df_top_directors, values='directors', names=df_top_directors.index, title='Top 10 Directors')\n",
    "fig.show()"
   ]
  },
  {
   "cell_type": "markdown",
   "id": "f0c09db4",
   "metadata": {},
   "source": [
    "# Genre wise rating, which has highest"
   ]
  },
  {
   "cell_type": "code",
   "execution_count": 22,
   "id": "f76eba0e",
   "metadata": {},
   "outputs": [
    {
     "name": "stdout",
     "output_type": "stream",
     "text": [
      "The genre with the highest average rating is Crime\n"
     ]
    },
    {
     "data": {
      "image/png": "[encoded data removed]",
      "text/plain": [
       "<Figure size 1000x600 with 1 Axes>"
      ]
     },
     "metadata": {},
     "output_type": "display_data"
    },
    {
     "data": {
      "text/html": [
       "<div>\n",
       "<style scoped>\n",
       "    .dataframe tbody tr th:only-of-type {\n",
       "        vertical-align: middle;\n",
       "    }\n",
       "\n",
       "    .dataframe tbody tr th {\n",
       "        vertical-align: top;\n",
       "    }\n",
       "\n",
       "    .dataframe thead th {\n",
       "        text-align: right;\n",
       "    }\n",
       "</style>\n",
       "<table border=\"1\" class=\"dataframe\">\n",
       "  <thead>\n",
       "    <tr style=\"text-align: right;\">\n",
       "      <th></th>\n",
       "      <th>genre_1</th>\n",
       "      <th>rating</th>\n",
       "    </tr>\n",
       "  </thead>\n",
       "  <tbody>\n",
       "    <tr>\n",
       "      <th>5</th>\n",
       "      <td>Crime</td>\n",
       "      <td>8.400000</td>\n",
       "    </tr>\n",
       "    <tr>\n",
       "      <th>0</th>\n",
       "      <td>Action</td>\n",
       "      <td>8.366667</td>\n",
       "    </tr>\n",
       "    <tr>\n",
       "      <th>9</th>\n",
       "      <td>Mystery</td>\n",
       "      <td>8.350000</td>\n",
       "    </tr>\n",
       "    <tr>\n",
       "      <th>10</th>\n",
       "      <td>Western</td>\n",
       "      <td>8.350000</td>\n",
       "    </tr>\n",
       "    <tr>\n",
       "      <th>8</th>\n",
       "      <td>Horror</td>\n",
       "      <td>8.325000</td>\n",
       "    </tr>\n",
       "    <tr>\n",
       "      <th>6</th>\n",
       "      <td>Drama</td>\n",
       "      <td>8.295588</td>\n",
       "    </tr>\n",
       "    <tr>\n",
       "      <th>3</th>\n",
       "      <td>Biography</td>\n",
       "      <td>8.265217</td>\n",
       "    </tr>\n",
       "    <tr>\n",
       "      <th>2</th>\n",
       "      <td>Animation</td>\n",
       "      <td>8.256522</td>\n",
       "    </tr>\n",
       "    <tr>\n",
       "      <th>4</th>\n",
       "      <td>Comedy</td>\n",
       "      <td>8.252174</td>\n",
       "    </tr>\n",
       "    <tr>\n",
       "      <th>1</th>\n",
       "      <td>Adventure</td>\n",
       "      <td>8.222727</td>\n",
       "    </tr>\n",
       "    <tr>\n",
       "      <th>7</th>\n",
       "      <td>Film-Noir</td>\n",
       "      <td>8.100000</td>\n",
       "    </tr>\n",
       "  </tbody>\n",
       "</table>\n",
       "</div>"
      ],
      "text/plain": [
       "      genre_1    rating\n",
       "5       Crime  8.400000\n",
       "0      Action  8.366667\n",
       "9     Mystery  8.350000\n",
       "10    Western  8.350000\n",
       "8      Horror  8.325000\n",
       "6       Drama  8.295588\n",
       "3   Biography  8.265217\n",
       "2   Animation  8.256522\n",
       "4      Comedy  8.252174\n",
       "1   Adventure  8.222727\n",
       "7   Film-Noir  8.100000"
      ]
     },
     "execution_count": 22,
     "metadata": {},
     "output_type": "execute_result"
    }
   ],
   "source": [
    "# Group the dataset by genre and calculate the mean rating for each group\n",
    "df_genre_rating = df.groupby('genre_1')['rating'].mean().reset_index()\n",
    "\n",
    "# Sort the data by rating in descending order\n",
    "df_genre_rating = df_genre_rating.sort_values('rating', ascending=False)\n",
    "\n",
    "print('The genre with the highest average rating is', df_genre_rating.iloc[0]['genre_1'])\n",
    "\n",
    "plt.figure(figsize=(10, 6))\n",
    "plt.bar(df_genre_rating['genre_1'], df_genre_rating['rating'])\n",
    "plt.xlabel('Genre')\n",
    "plt.ylabel('Average Rating')\n",
    "plt.title('Average Rating by Genre')\n",
    "plt.show()\n",
    "df_genre_rating"
   ]
  },
  {
   "cell_type": "markdown",
   "id": "1e0fde1f",
   "metadata": {},
   "source": [
    "# rating w.r.t year"
   ]
  },
  {
   "cell_type": "code",
   "execution_count": 23,
   "id": "f0d23dec",
   "metadata": {},
   "outputs": [
    {
     "data": {
      "application/vnd.plotly.v1+json": {
       "config": {
        "plotlyServerURL": "https://plot.ly"
       },
       "data": [
        {
         "hovertemplate": "year=%{x}<br>rating=%{y}<extra></extra>",
         "legendgroup": "",
         "line": {
          "color": "blue",
          "dash": "solid"
         },
         "marker": {
          "symbol": "circle"
         },
         "mode": "lines",
         "name": "",
         "orientation": "v",
         "showlegend": false,
         "type": "scatter",
         "x": [
          1921,
          1924,
          1925,
          1926,
          1927,
          1928,
          1931,
          1934,
          1936,
          1939,
          1940,
          1941,
          1942,
          1944,
          1946,
          1948,
          1949,
          1950,
          1952,
          1953,
          1954,
          1955,
          1957,
          1958,
          1959,
          1960,
          1961,
          1962,
          1963,
          1964,
          1965,
          1966,
          1967,
          1968,
          1971,
          1972,
          1973,
          1974,
          1975,
          1976,
          1977,
          1978,
          1979,
          1980,
          1981,
          1982,
          1983,
          1984,
          1985,
          1986,
          1987,
          1988,
          1989,
          1990,
          1991,
          1992,
          1993,
          1994,
          1995,
          1996,
          1997,
          1998,
          1999,
          2000,
          2001,
          2002,
          2003,
          2004,
          2005,
          2006,
          2007,
          2008,
          2009,
          2010,
          2011,
          2012,
          2013,
          2014,
          2015,
          2016,
          2017,
          2018,
          2019,
          2020,
          2021,
          2022
         ],
         "xaxis": "x",
         "y": [
          8.3,
          8.2,
          8.1,
          8.1,
          8.3,
          8.2,
          8.4,
          8.1,
          8.5,
          8.133333333333333,
          8.200000000000001,
          8.3,
          8.35,
          8.3,
          8.35,
          8.25,
          8.1,
          8.266666666666666,
          8.3,
          8.2,
          8.35,
          8.3,
          8.366666666666667,
          8.3,
          8.175,
          8.4,
          8.25,
          8.4,
          8.3,
          8.4,
          8.149999999999999,
          8.333333333333334,
          8.1,
          8.4,
          8.3,
          9.2,
          8.2,
          8.6,
          8.26,
          8.133333333333333,
          8.6,
          8.1,
          8.333333333333334,
          8.375,
          8.4,
          8.1,
          8.3,
          8.266666666666667,
          8.366666666666667,
          8.200000000000001,
          8.3,
          8.325,
          8.149999999999999,
          8.35,
          8.6,
          8.166666666666666,
          8.35,
          8.8,
          8.3125,
          8.1,
          8.34,
          8.319999999999999,
          8.466666666666667,
          8.3,
          8.4,
          8.5,
          8.333333333333334,
          8.142857142857142,
          8.2,
          8.4,
          8.18,
          8.5,
          8.233333333333333,
          8.34,
          8.24,
          8.366666666666667,
          8.125,
          8.28,
          8.125,
          8.225,
          8.200000000000001,
          8.35,
          8.299999999999999,
          8.3,
          8.5,
          8.3
         ],
         "yaxis": "y"
        }
       ],
       "layout": {
        "legend": {
         "tracegroupgap": 0
        },
        "template": {
         "data": {
          "bar": [
           {
            "error_x": {
             "color": "#2a3f5f"
            },
            "error_y": {
             "color": "#2a3f5f"
            },
            "marker": {
             "line": {
              "color": "#E5ECF6",
              "width": 0.5
             },
             "pattern": {
              "fillmode": "overlay",
              "size": 10,
              "solidity": 0.2
             }
            },
            "type": "bar"
           }
          ],
          "barpolar": [
           {
            "marker": {
             "line": {
              "color": "#E5ECF6",
              "width": 0.5
             },
             "pattern": {
              "fillmode": "overlay",
              "size": 10,
              "solidity": 0.2
             }
            },
            "type": "barpolar"
           }
          ],
          "carpet": [
           {
            "aaxis": {
             "endlinecolor": "#2a3f5f",
             "gridcolor": "white",
             "linecolor": "white",
             "minorgridcolor": "white",
             "startlinecolor": "#2a3f5f"
            },
            "baxis": {
             "endlinecolor": "#2a3f5f",
             "gridcolor": "white",
             "linecolor": "white",
             "minorgridcolor": "white",
             "startlinecolor": "#2a3f5f"
            },
            "type": "carpet"
           }
          ],
          "choropleth": [
           {
            "colorbar": {
             "outlinewidth": 0,
             "ticks": ""
            },
            "type": "choropleth"
           }
          ],
          "contour": [
           {
            "colorbar": {
             "outlinewidth": 0,
             "ticks": ""
            },
            "colorscale": [
             [
              0,
              "#0d0887"
             ],
             [
              0.1111111111111111,
              "#46039f"
             ],
             [
              0.2222222222222222,
              "#7201a8"
             ],
             [
              0.3333333333333333,
              "#9c179e"
             ],
             [
              0.4444444444444444,
              "#bd3786"
             ],
             [
              0.5555555555555556,
              "#d8576b"
             ],
             [
              0.6666666666666666,
              "#ed7953"
             ],
             [
              0.7777777777777778,
              "#fb9f3a"
             ],
             [
              0.8888888888888888,
              "#fdca26"
             ],
             [
              1,
              "#f0f921"
             ]
            ],
            "type": "contour"
           }
          ],
          "contourcarpet": [
           {
            "colorbar": {
             "outlinewidth": 0,
             "ticks": ""
            },
            "type": "contourcarpet"
           }
          ],
          "heatmap": [
           {
            "colorbar": {
             "outlinewidth": 0,
             "ticks": ""
            },
            "colorscale": [
             [
              0,
              "#0d0887"
             ],
             [
              0.1111111111111111,
              "#46039f"
             ],
             [
              0.2222222222222222,
              "#7201a8"
             ],
             [
              0.3333333333333333,
              "#9c179e"
             ],
             [
              0.4444444444444444,
              "#bd3786"
             ],
             [
              0.5555555555555556,
              "#d8576b"
             ],
             [
              0.6666666666666666,
              "#ed7953"
             ],
             [
              0.7777777777777778,
              "#fb9f3a"
             ],
             [
              0.8888888888888888,
              "#fdca26"
             ],
             [
              1,
              "#f0f921"
             ]
            ],
            "type": "heatmap"
           }
          ],
          "heatmapgl": [
           {
            "colorbar": {
             "outlinewidth": 0,
             "ticks": ""
            },
            "colorscale": [
             [
              0,
              "#0d0887"
             ],
             [
              0.1111111111111111,
              "#46039f"
             ],
             [
              0.2222222222222222,
              "#7201a8"
             ],
             [
              0.3333333333333333,
              "#9c179e"
             ],
             [
              0.4444444444444444,
              "#bd3786"
             ],
             [
              0.5555555555555556,
              "#d8576b"
             ],
             [
              0.6666666666666666,
              "#ed7953"
             ],
             [
              0.7777777777777778,
              "#fb9f3a"
             ],
             [
              0.8888888888888888,
              "#fdca26"
             ],
             [
              1,
              "#f0f921"
             ]
            ],
            "type": "heatmapgl"
           }
          ],
          "histogram": [
           {
            "marker": {
             "pattern": {
              "fillmode": "overlay",
              "size": 10,
              "solidity": 0.2
             }
            },
            "type": "histogram"
           }
          ],
          "histogram2d": [
           {
            "colorbar": {
             "outlinewidth": 0,
             "ticks": ""
            },
            "colorscale": [
             [
              0,
              "#0d0887"
             ],
             [
              0.1111111111111111,
              "#46039f"
             ],
             [
              0.2222222222222222,
              "#7201a8"
             ],
             [
              0.3333333333333333,
              "#9c179e"
             ],
             [
              0.4444444444444444,
              "#bd3786"
             ],
             [
              0.5555555555555556,
              "#d8576b"
             ],
             [
              0.6666666666666666,
              "#ed7953"
             ],
             [
              0.7777777777777778,
              "#fb9f3a"
             ],
             [
              0.8888888888888888,
              "#fdca26"
             ],
             [
              1,
              "#f0f921"
             ]
            ],
            "type": "histogram2d"
           }
          ],
          "histogram2dcontour": [
           {
            "colorbar": {
             "outlinewidth": 0,
             "ticks": ""
            },
            "colorscale": [
             [
              0,
              "#0d0887"
             ],
             [
              0.1111111111111111,
              "#46039f"
             ],
             [
              0.2222222222222222,
              "#7201a8"
             ],
             [
              0.3333333333333333,
              "#9c179e"
             ],
             [
              0.4444444444444444,
              "#bd3786"
             ],
             [
              0.5555555555555556,
              "#d8576b"
             ],
             [
              0.6666666666666666,
              "#ed7953"
             ],
             [
              0.7777777777777778,
              "#fb9f3a"
             ],
             [
              0.8888888888888888,
              "#fdca26"
             ],
             [
              1,
              "#f0f921"
             ]
            ],
            "type": "histogram2dcontour"
           }
          ],
          "mesh3d": [
           {
            "colorbar": {
             "outlinewidth": 0,
             "ticks": ""
            },
            "type": "mesh3d"
           }
          ],
          "parcoords": [
           {
            "line": {
             "colorbar": {
              "outlinewidth": 0,
              "ticks": ""
             }
            },
            "type": "parcoords"
           }
          ],
          "pie": [
           {
            "automargin": true,
            "type": "pie"
           }
          ],
          "scatter": [
           {
            "fillpattern": {
             "fillmode": "overlay",
             "size": 10,
             "solidity": 0.2
            },
            "type": "scatter"
           }
          ],
          "scatter3d": [
           {
            "line": {
             "colorbar": {
              "outlinewidth": 0,
              "ticks": ""
             }
            },
            "marker": {
             "colorbar": {
              "outlinewidth": 0,
              "ticks": ""
             }
            },
            "type": "scatter3d"
           }
          ],
          "scattercarpet": [
           {
            "marker": {
             "colorbar": {
              "outlinewidth": 0,
              "ticks": ""
             }
            },
            "type": "scattercarpet"
           }
          ],
          "scattergeo": [
           {
            "marker": {
             "colorbar": {
              "outlinewidth": 0,
              "ticks": ""
             }
            },
            "type": "scattergeo"
           }
          ],
          "scattergl": [
           {
            "marker": {
             "colorbar": {
              "outlinewidth": 0,
              "ticks": ""
             }
            },
            "type": "scattergl"
           }
          ],
          "scattermapbox": [
           {
            "marker": {
             "colorbar": {
              "outlinewidth": 0,
              "ticks": ""
             }
            },
            "type": "scattermapbox"
           }
          ],
          "scatterpolar": [
           {
            "marker": {
             "colorbar": {
              "outlinewidth": 0,
              "ticks": ""
             }
            },
            "type": "scatterpolar"
           }
          ],
          "scatterpolargl": [
           {
            "marker": {
             "colorbar": {
              "outlinewidth": 0,
              "ticks": ""
             }
            },
            "type": "scatterpolargl"
           }
          ],
          "scatterternary": [
           {
            "marker": {
             "colorbar": {
              "outlinewidth": 0,
              "ticks": ""
             }
            },
            "type": "scatterternary"
           }
          ],
          "surface": [
           {
            "colorbar": {
             "outlinewidth": 0,
             "ticks": ""
            },
            "colorscale": [
             [
              0,
              "#0d0887"
             ],
             [
              0.1111111111111111,
              "#46039f"
             ],
             [
              0.2222222222222222,
              "#7201a8"
             ],
             [
              0.3333333333333333,
              "#9c179e"
             ],
             [
              0.4444444444444444,
              "#bd3786"
             ],
             [
              0.5555555555555556,
              "#d8576b"
             ],
             [
              0.6666666666666666,
              "#ed7953"
             ],
             [
              0.7777777777777778,
              "#fb9f3a"
             ],
             [
              0.8888888888888888,
              "#fdca26"
             ],
             [
              1,
              "#f0f921"
             ]
            ],
            "type": "surface"
           }
          ],
          "table": [
           {
            "cells": {
             "fill": {
              "color": "#EBF0F8"
             },
             "line": {
              "color": "white"
             }
            },
            "header": {
             "fill": {
              "color": "#C8D4E3"
             },
             "line": {
              "color": "white"
             }
            },
            "type": "table"
           }
          ]
         },
         "layout": {
          "annotationdefaults": {
           "arrowcolor": "#2a3f5f",
           "arrowhead": 0,
           "arrowwidth": 1
          },
          "autotypenumbers": "strict",
          "coloraxis": {
           "colorbar": {
            "outlinewidth": 0,
            "ticks": ""
           }
          },
          "colorscale": {
           "diverging": [
            [
             0,
             "#8e0152"
            ],
            [
             0.1,
             "#c51b7d"
            ],
            [
             0.2,
             "#de77ae"
            ],
            [
             0.3,
             "#f1b6da"
            ],
            [
             0.4,
             "#fde0ef"
            ],
            [
             0.5,
             "#f7f7f7"
            ],
            [
             0.6,
             "#e6f5d0"
            ],
            [
             0.7,
             "#b8e186"
            ],
            [
             0.8,
             "#7fbc41"
            ],
            [
             0.9,
             "#4d9221"
            ],
            [
             1,
             "#276419"
            ]
           ],
           "sequential": [
            [
             0,
             "#0d0887"
            ],
            [
             0.1111111111111111,
             "#46039f"
            ],
            [
             0.2222222222222222,
             "#7201a8"
            ],
            [
             0.3333333333333333,
             "#9c179e"
            ],
            [
             0.4444444444444444,
             "#bd3786"
            ],
            [
             0.5555555555555556,
             "#d8576b"
            ],
            [
             0.6666666666666666,
             "#ed7953"
            ],
            [
             0.7777777777777778,
             "#fb9f3a"
            ],
            [
             0.8888888888888888,
             "#fdca26"
            ],
            [
             1,
             "#f0f921"
            ]
           ],
           "sequentialminus": [
            [
             0,
             "#0d0887"
            ],
            [
             0.1111111111111111,
             "#46039f"
            ],
            [
             0.2222222222222222,
             "#7201a8"
            ],
            [
             0.3333333333333333,
             "#9c179e"
            ],
            [
             0.4444444444444444,
             "#bd3786"
            ],
            [
             0.5555555555555556,
             "#d8576b"
            ],
            [
             0.6666666666666666,
             "#ed7953"
            ],
            [
             0.7777777777777778,
             "#fb9f3a"
            ],
            [
             0.8888888888888888,
             "#fdca26"
            ],
            [
             1,
             "#f0f921"
            ]
           ]
          },
          "colorway": [
           "#636efa",
           "#EF553B",
           "#00cc96",
           "#ab63fa",
           "#FFA15A",
           "#19d3f3",
           "#FF6692",
           "#B6E880",
           "#FF97FF",
           "#FECB52"
          ],
          "font": {
           "color": "#2a3f5f"
          },
          "geo": {
           "bgcolor": "white",
           "lakecolor": "white",
           "landcolor": "#E5ECF6",
           "showlakes": true,
           "showland": true,
           "subunitcolor": "white"
          },
          "hoverlabel": {
           "align": "left"
          },
          "hovermode": "closest",
          "mapbox": {
           "style": "light"
          },
          "paper_bgcolor": "white",
          "plot_bgcolor": "#E5ECF6",
          "polar": {
           "angularaxis": {
            "gridcolor": "white",
            "linecolor": "white",
            "ticks": ""
           },
           "bgcolor": "#E5ECF6",
           "radialaxis": {
            "gridcolor": "white",
            "linecolor": "white",
            "ticks": ""
           }
          },
          "scene": {
           "xaxis": {
            "backgroundcolor": "#E5ECF6",
            "gridcolor": "white",
            "gridwidth": 2,
            "linecolor": "white",
            "showbackground": true,
            "ticks": "",
            "zerolinecolor": "white"
           },
           "yaxis": {
            "backgroundcolor": "#E5ECF6",
            "gridcolor": "white",
            "gridwidth": 2,
            "linecolor": "white",
            "showbackground": true,
            "ticks": "",
            "zerolinecolor": "white"
           },
           "zaxis": {
            "backgroundcolor": "#E5ECF6",
            "gridcolor": "white",
            "gridwidth": 2,
            "linecolor": "white",
            "showbackground": true,
            "ticks": "",
            "zerolinecolor": "white"
           }
          },
          "shapedefaults": {
           "line": {
            "color": "#2a3f5f"
           }
          },
          "ternary": {
           "aaxis": {
            "gridcolor": "white",
            "linecolor": "white",
            "ticks": ""
           },
           "baxis": {
            "gridcolor": "white",
            "linecolor": "white",
            "ticks": ""
           },
           "bgcolor": "#E5ECF6",
           "caxis": {
            "gridcolor": "white",
            "linecolor": "white",
            "ticks": ""
           }
          },
          "title": {
           "x": 0.05
          },
          "xaxis": {
           "automargin": true,
           "gridcolor": "white",
           "linecolor": "white",
           "ticks": "",
           "title": {
            "standoff": 15
           },
           "zerolinecolor": "white",
           "zerolinewidth": 2
          },
          "yaxis": {
           "automargin": true,
           "gridcolor": "white",
           "linecolor": "white",
           "ticks": "",
           "title": {
            "standoff": 15
           },
           "zerolinecolor": "white",
           "zerolinewidth": 2
          }
         }
        },
        "title": {
         "text": "Average Rating over Time"
        },
        "xaxis": {
         "anchor": "y",
         "domain": [
          0,
          1
         ],
         "title": {
          "text": "Year"
         }
        },
        "yaxis": {
         "anchor": "x",
         "domain": [
          0,
          1
         ],
         "title": {
          "text": "Average Rating"
         }
        }
       }
      },
      "text/html": [
       "<div>                            <div id=\"487e1094-c125-4db5-99dc-e64ccfaf9afa\" class=\"plotly-graph-div\" style=\"height:525px; width:100%;\"></div>            <script type=\"text/javascript\">                require([\"plotly\"], function(Plotly) {                    window.PLOTLYENV=window.PLOTLYENV || {};                                    if (document.getElementById(\"487e1094-c125-4db5-99dc-e64ccfaf9afa\")) {                    Plotly.newPlot(                        \"487e1094-c125-4db5-99dc-e64ccfaf9afa\",                        [{\"hovertemplate\":\"year=%{x}<br>rating=%{y}<extra></extra>\",\"legendgroup\":\"\",\"line\":{\"color\":\"blue\",\"dash\":\"solid\"},\"marker\":{\"symbol\":\"circle\"},\"mode\":\"lines\",\"name\":\"\",\"orientation\":\"v\",\"showlegend\":false,\"x\":[1921,1924,1925,1926,1927,1928,1931,1934,1936,1939,1940,1941,1942,1944,1946,1948,1949,1950,1952,1953,1954,1955,1957,1958,1959,1960,1961,1962,1963,1964,1965,1966,1967,1968,1971,1972,1973,1974,1975,1976,1977,1978,1979,1980,1981,1982,1983,1984,1985,1986,1987,1988,1989,1990,1991,1992,1993,1994,1995,1996,1997,1998,1999,2000,2001,2002,2003,2004,2005,2006,2007,2008,2009,2010,2011,2012,2013,2014,2015,2016,2017,2018,2019,2020,2021,2022],\"xaxis\":\"x\",\"y\":[8.3,8.2,8.1,8.1,8.3,8.2,8.4,8.1,8.5,8.133333333333333,8.200000000000001,8.3,8.35,8.3,8.35,8.25,8.1,8.266666666666666,8.3,8.2,8.35,8.3,8.366666666666667,8.3,8.175,8.4,8.25,8.4,8.3,8.4,8.149999999999999,8.333333333333334,8.1,8.4,8.3,9.2,8.2,8.6,8.26,8.133333333333333,8.6,8.1,8.333333333333334,8.375,8.4,8.1,8.3,8.266666666666667,8.366666666666667,8.200000000000001,8.3,8.325,8.149999999999999,8.35,8.6,8.166666666666666,8.35,8.8,8.3125,8.1,8.34,8.319999999999999,8.466666666666667,8.3,8.4,8.5,8.333333333333334,8.142857142857142,8.2,8.4,8.18,8.5,8.233333333333333,8.34,8.24,8.366666666666667,8.125,8.28,8.125,8.225,8.200000000000001,8.35,8.299999999999999,8.3,8.5,8.3],\"yaxis\":\"y\",\"type\":\"scatter\"}],                        {\"template\":{\"data\":{\"histogram2dcontour\":[{\"type\":\"histogram2dcontour\",\"colorbar\":{\"outlinewidth\":0,\"ticks\":\"\"},\"colorscale\":[[0.0,\"#0d0887\"],[0.1111111111111111,\"#46039f\"],[0.2222222222222222,\"#7201a8\"],[0.3333333333333333,\"#9c179e\"],[0.4444444444444444,\"#bd3786\"],[0.5555555555555556,\"#d8576b\"],[0.6666666666666666,\"#ed7953\"],[0.7777777777777778,\"#fb9f3a\"],[0.8888888888888888,\"#fdca26\"],[1.0,\"#f0f921\"]]}],\"choropleth\":[{\"type\":\"choropleth\",\"colorbar\":{\"outlinewidth\":0,\"ticks\":\"\"}}],\"histogram2d\":[{\"type\":\"histogram2d\",\"colorbar\":{\"outlinewidth\":0,\"ticks\":\"\"},\"colorscale\":[[0.0,\"#0d0887\"],[0.1111111111111111,\"#46039f\"],[0.2222222222222222,\"#7201a8\"],[0.3333333333333333,\"#9c179e\"],[0.4444444444444444,\"#bd3786\"],[0.5555555555555556,\"#d8576b\"],[0.6666666666666666,\"#ed7953\"],[0.7777777777777778,\"#fb9f3a\"],[0.8888888888888888,\"#fdca26\"],[1.0,\"#f0f921\"]]}],\"heatmap\":[{\"type\":\"heatmap\",\"colorbar\":{\"outlinewidth\":0,\"ticks\":\"\"},\"colorscale\":[[0.0,\"#0d0887\"],[0.1111111111111111,\"#46039f\"],[0.2222222222222222,\"#7201a8\"],[0.3333333333333333,\"#9c179e\"],[0.4444444444444444,\"#bd3786\"],[0.5555555555555556,\"#d8576b\"],[0.6666666666666666,\"#ed7953\"],[0.7777777777777778,\"#fb9f3a\"],[0.8888888888888888,\"#fdca26\"],[1.0,\"#f0f921\"]]}],\"heatmapgl\":[{\"type\":\"heatmapgl\",\"colorbar\":{\"outlinewidth\":0,\"ticks\":\"\"},\"colorscale\":[[0.0,\"#0d0887\"],[0.1111111111111111,\"#46039f\"],[0.2222222222222222,\"#7201a8\"],[0.3333333333333333,\"#9c179e\"],[0.4444444444444444,\"#bd3786\"],[0.5555555555555556,\"#d8576b\"],[0.6666666666666666,\"#ed7953\"],[0.7777777777777778,\"#fb9f3a\"],[0.8888888888888888,\"#fdca26\"],[1.0,\"#f0f921\"]]}],\"contourcarpet\":[{\"type\":\"contourcarpet\",\"colorbar\":{\"outlinewidth\":0,\"ticks\":\"\"}}],\"contour\":[{\"type\":\"contour\",\"colorbar\":{\"outlinewidth\":0,\"ticks\":\"\"},\"colorscale\":[[0.0,\"#0d0887\"],[0.1111111111111111,\"#46039f\"],[0.2222222222222222,\"#7201a8\"],[0.3333333333333333,\"#9c179e\"],[0.4444444444444444,\"#bd3786\"],[0.5555555555555556,\"#d8576b\"],[0.6666666666666666,\"#ed7953\"],[0.7777777777777778,\"#fb9f3a\"],[0.8888888888888888,\"#fdca26\"],[1.0,\"#f0f921\"]]}],\"surface\":[{\"type\":\"surface\",\"colorbar\":{\"outlinewidth\":0,\"ticks\":\"\"},\"colorscale\":[[0.0,\"#0d0887\"],[0.1111111111111111,\"#46039f\"],[0.2222222222222222,\"#7201a8\"],[0.3333333333333333,\"#9c179e\"],[0.4444444444444444,\"#bd3786\"],[0.5555555555555556,\"#d8576b\"],[0.6666666666666666,\"#ed7953\"],[0.7777777777777778,\"#fb9f3a\"],[0.8888888888888888,\"#fdca26\"],[1.0,\"#f0f921\"]]}],\"mesh3d\":[{\"type\":\"mesh3d\",\"colorbar\":{\"outlinewidth\":0,\"ticks\":\"\"}}],\"scatter\":[{\"fillpattern\":{\"fillmode\":\"overlay\",\"size\":10,\"solidity\":0.2},\"type\":\"scatter\"}],\"parcoords\":[{\"type\":\"parcoords\",\"line\":{\"colorbar\":{\"outlinewidth\":0,\"ticks\":\"\"}}}],\"scatterpolargl\":[{\"type\":\"scatterpolargl\",\"marker\":{\"colorbar\":{\"outlinewidth\":0,\"ticks\":\"\"}}}],\"bar\":[{\"error_x\":{\"color\":\"#2a3f5f\"},\"error_y\":{\"color\":\"#2a3f5f\"},\"marker\":{\"line\":{\"color\":\"#E5ECF6\",\"width\":0.5},\"pattern\":{\"fillmode\":\"overlay\",\"size\":10,\"solidity\":0.2}},\"type\":\"bar\"}],\"scattergeo\":[{\"type\":\"scattergeo\",\"marker\":{\"colorbar\":{\"outlinewidth\":0,\"ticks\":\"\"}}}],\"scatterpolar\":[{\"type\":\"scatterpolar\",\"marker\":{\"colorbar\":{\"outlinewidth\":0,\"ticks\":\"\"}}}],\"histogram\":[{\"marker\":{\"pattern\":{\"fillmode\":\"overlay\",\"size\":10,\"solidity\":0.2}},\"type\":\"histogram\"}],\"scattergl\":[{\"type\":\"scattergl\",\"marker\":{\"colorbar\":{\"outlinewidth\":0,\"ticks\":\"\"}}}],\"scatter3d\":[{\"type\":\"scatter3d\",\"line\":{\"colorbar\":{\"outlinewidth\":0,\"ticks\":\"\"}},\"marker\":{\"colorbar\":{\"outlinewidth\":0,\"ticks\":\"\"}}}],\"scattermapbox\":[{\"type\":\"scattermapbox\",\"marker\":{\"colorbar\":{\"outlinewidth\":0,\"ticks\":\"\"}}}],\"scatterternary\":[{\"type\":\"scatterternary\",\"marker\":{\"colorbar\":{\"outlinewidth\":0,\"ticks\":\"\"}}}],\"scattercarpet\":[{\"type\":\"scattercarpet\",\"marker\":{\"colorbar\":{\"outlinewidth\":0,\"ticks\":\"\"}}}],\"carpet\":[{\"aaxis\":{\"endlinecolor\":\"#2a3f5f\",\"gridcolor\":\"white\",\"linecolor\":\"white\",\"minorgridcolor\":\"white\",\"startlinecolor\":\"#2a3f5f\"},\"baxis\":{\"endlinecolor\":\"#2a3f5f\",\"gridcolor\":\"white\",\"linecolor\":\"white\",\"minorgridcolor\":\"white\",\"startlinecolor\":\"#2a3f5f\"},\"type\":\"carpet\"}],\"table\":[{\"cells\":{\"fill\":{\"color\":\"#EBF0F8\"},\"line\":{\"color\":\"white\"}},\"header\":{\"fill\":{\"color\":\"#C8D4E3\"},\"line\":{\"color\":\"white\"}},\"type\":\"table\"}],\"barpolar\":[{\"marker\":{\"line\":{\"color\":\"#E5ECF6\",\"width\":0.5},\"pattern\":{\"fillmode\":\"overlay\",\"size\":10,\"solidity\":0.2}},\"type\":\"barpolar\"}],\"pie\":[{\"automargin\":true,\"type\":\"pie\"}]},\"layout\":{\"autotypenumbers\":\"strict\",\"colorway\":[\"#636efa\",\"#EF553B\",\"#00cc96\",\"#ab63fa\",\"#FFA15A\",\"#19d3f3\",\"#FF6692\",\"#B6E880\",\"#FF97FF\",\"#FECB52\"],\"font\":{\"color\":\"#2a3f5f\"},\"hovermode\":\"closest\",\"hoverlabel\":{\"align\":\"left\"},\"paper_bgcolor\":\"white\",\"plot_bgcolor\":\"#E5ECF6\",\"polar\":{\"bgcolor\":\"#E5ECF6\",\"angularaxis\":{\"gridcolor\":\"white\",\"linecolor\":\"white\",\"ticks\":\"\"},\"radialaxis\":{\"gridcolor\":\"white\",\"linecolor\":\"white\",\"ticks\":\"\"}},\"ternary\":{\"bgcolor\":\"#E5ECF6\",\"aaxis\":{\"gridcolor\":\"white\",\"linecolor\":\"white\",\"ticks\":\"\"},\"baxis\":{\"gridcolor\":\"white\",\"linecolor\":\"white\",\"ticks\":\"\"},\"caxis\":{\"gridcolor\":\"white\",\"linecolor\":\"white\",\"ticks\":\"\"}},\"coloraxis\":{\"colorbar\":{\"outlinewidth\":0,\"ticks\":\"\"}},\"colorscale\":{\"sequential\":[[0.0,\"#0d0887\"],[0.1111111111111111,\"#46039f\"],[0.2222222222222222,\"#7201a8\"],[0.3333333333333333,\"#9c179e\"],[0.4444444444444444,\"#bd3786\"],[0.5555555555555556,\"#d8576b\"],[0.6666666666666666,\"#ed7953\"],[0.7777777777777778,\"#fb9f3a\"],[0.8888888888888888,\"#fdca26\"],[1.0,\"#f0f921\"]],\"sequentialminus\":[[0.0,\"#0d0887\"],[0.1111111111111111,\"#46039f\"],[0.2222222222222222,\"#7201a8\"],[0.3333333333333333,\"#9c179e\"],[0.4444444444444444,\"#bd3786\"],[0.5555555555555556,\"#d8576b\"],[0.6666666666666666,\"#ed7953\"],[0.7777777777777778,\"#fb9f3a\"],[0.8888888888888888,\"#fdca26\"],[1.0,\"#f0f921\"]],\"diverging\":[[0,\"#8e0152\"],[0.1,\"#c51b7d\"],[0.2,\"#de77ae\"],[0.3,\"#f1b6da\"],[0.4,\"#fde0ef\"],[0.5,\"#f7f7f7\"],[0.6,\"#e6f5d0\"],[0.7,\"#b8e186\"],[0.8,\"#7fbc41\"],[0.9,\"#4d9221\"],[1,\"#276419\"]]},\"xaxis\":{\"gridcolor\":\"white\",\"linecolor\":\"white\",\"ticks\":\"\",\"title\":{\"standoff\":15},\"zerolinecolor\":\"white\",\"automargin\":true,\"zerolinewidth\":2},\"yaxis\":{\"gridcolor\":\"white\",\"linecolor\":\"white\",\"ticks\":\"\",\"title\":{\"standoff\":15},\"zerolinecolor\":\"white\",\"automargin\":true,\"zerolinewidth\":2},\"scene\":{\"xaxis\":{\"backgroundcolor\":\"#E5ECF6\",\"gridcolor\":\"white\",\"linecolor\":\"white\",\"showbackground\":true,\"ticks\":\"\",\"zerolinecolor\":\"white\",\"gridwidth\":2},\"yaxis\":{\"backgroundcolor\":\"#E5ECF6\",\"gridcolor\":\"white\",\"linecolor\":\"white\",\"showbackground\":true,\"ticks\":\"\",\"zerolinecolor\":\"white\",\"gridwidth\":2},\"zaxis\":{\"backgroundcolor\":\"#E5ECF6\",\"gridcolor\":\"white\",\"linecolor\":\"white\",\"showbackground\":true,\"ticks\":\"\",\"zerolinecolor\":\"white\",\"gridwidth\":2}},\"shapedefaults\":{\"line\":{\"color\":\"#2a3f5f\"}},\"annotationdefaults\":{\"arrowcolor\":\"#2a3f5f\",\"arrowhead\":0,\"arrowwidth\":1},\"geo\":{\"bgcolor\":\"white\",\"landcolor\":\"#E5ECF6\",\"subunitcolor\":\"white\",\"showland\":true,\"showlakes\":true,\"lakecolor\":\"white\"},\"title\":{\"x\":0.05},\"mapbox\":{\"style\":\"light\"}}},\"xaxis\":{\"anchor\":\"y\",\"domain\":[0.0,1.0],\"title\":{\"text\":\"Year\"}},\"yaxis\":{\"anchor\":\"x\",\"domain\":[0.0,1.0],\"title\":{\"text\":\"Average Rating\"}},\"legend\":{\"tracegroupgap\":0},\"title\":{\"text\":\"Average Rating over Time\"}},                        {\"responsive\": true}                    ).then(function(){\n",
       "                            \n",
       "var gd = document.getElementById('487e1094-c125-4db5-99dc-e64ccfaf9afa');\n",
       "var x = new MutationObserver(function (mutations, observer) {{\n",
       "        var display = window.getComputedStyle(gd).display;\n",
       "        if (!display || display === 'none') {{\n",
       "            console.log([gd, 'removed!']);\n",
       "            Plotly.purge(gd);\n",
       "            observer.disconnect();\n",
       "        }}\n",
       "}});\n",
       "\n",
       "// Listen for the removal of the full notebook cells\n",
       "var notebookContainer = gd.closest('#notebook-container');\n",
       "if (notebookContainer) {{\n",
       "    x.observe(notebookContainer, {childList: true});\n",
       "}}\n",
       "\n",
       "// Listen for the clearing of the current output cell\n",
       "var outputEl = gd.closest('.output');\n",
       "if (outputEl) {{\n",
       "    x.observe(outputEl, {childList: true});\n",
       "}}\n",
       "\n",
       "                        })                };                });            </script>        </div>"
      ]
     },
     "metadata": {},
     "output_type": "display_data"
    }
   ],
   "source": [
    "grouped_df = df.groupby('year')['rating'].mean().reset_index()\n",
    "\n",
    "# Create a line plot of the mean rating over time using Plotly\n",
    "fig = px.line(grouped_df, x='year', y='rating', title='Average Rating over Time', color_discrete_sequence=['blue'])\n",
    "\n",
    "# Customize the plot\n",
    "fig.update_layout(xaxis_title='Year', yaxis_title='Average Rating')\n",
    "\n",
    "# Show the plot\n",
    "fig.show()\n"
   ]
  },
  {
   "cell_type": "markdown",
   "id": "3300898c",
   "metadata": {},
   "source": [
    "# BOX OFFICE COLLECTION VS RATING USING pyplot EXPRESS"
   ]
  },
  {
   "cell_type": "code",
   "execution_count": 24,
   "id": "a0f7c89f",
   "metadata": {},
   "outputs": [
    {
     "data": {
      "application/vnd.plotly.v1+json": {
       "config": {
        "plotlyServerURL": "https://plot.ly"
       },
       "data": [
        {
         "hovertemplate": "<b>%{hovertext}</b><br><br>genre=Drama<br>rating=%{x}<br>box_office=%{marker.size}<extra></extra>",
         "hovertext": [
          "The Shawshank Redemption",
          "Fight Club",
          "One Flew Over the Cuckoo's Nest",
          "American Beauty",
          "Requiem for a Dream",
          "Capernaum",
          "The Hunt",
          "Ikiru",
          "A Separation",
          "Bicycle Thieves",
          "All About Eve",
          "There Will Be Blood",
          "Trainspotting",
          "Gran Torino",
          "Tokyo Story",
          "Network",
          "Pather Panchali",
          "The Help"
         ],
         "legendgroup": "Drama",
         "marker": {
          "color": "#636efa",
          "size": [
           28884504,
           101209702,
           109114817,
           356296601,
           7390108,
           0,
           0,
           96302,
           22926076,
           436655,
           151052,
           76182388,
           16767475,
           269958228,
           0,
           23690757,
           135342,
           216639112
          ],
          "sizemode": "area",
          "sizeref": 6998597.75,
          "symbol": "circle"
         },
         "mode": "markers",
         "name": "Drama",
         "orientation": "v",
         "showlegend": true,
         "type": "scatter",
         "x": [
          9.3,
          8.8,
          8.7,
          8.4,
          8.3,
          8.4,
          8.3,
          8.3,
          8.3,
          8.3,
          8.2,
          8.2,
          8.1,
          8.1,
          8.2,
          8.1,
          8.3,
          8.1
         ],
         "xaxis": "x",
         "y": [
          28884504,
          101209702,
          109114817,
          356296601,
          7390108,
          0,
          0,
          96302,
          22926076,
          436655,
          151052,
          76182388,
          16767475,
          269958228,
          0,
          23690757,
          135342,
          216639112
         ],
         "yaxis": "y"
        },
        {
         "hovertemplate": "<b>%{hovertext}</b><br><br>genre=Crime,Drama<br>rating=%{x}<br>box_office=%{marker.size}<extra></extra>",
         "hovertext": [
          "The Godfather",
          "The Godfather Part II",
          "12 Angry Men",
          "Pulp Fiction",
          "City of God",
          "American History X",
          "Once Upon a Time in America",
          "Scarface",
          "To Kill a Mockingbird",
          "Taxi Driver",
          "Casino",
          "La haine",
          "Cool Hand Luke",
          "The 400 Blows"
         ],
         "legendgroup": "Crime,Drama",
         "marker": {
          "color": "#EF553B",
          "size": [
           250341816,
           47961919,
           955,
           213928762,
           30680793,
           23875127,
           5473337,
           65884703,
           599146,
           28570902,
           116112375,
           0,
           67,
           127244
          ],
          "sizemode": "area",
          "sizeref": 6998597.75,
          "symbol": "circle"
         },
         "mode": "markers",
         "name": "Crime,Drama",
         "orientation": "v",
         "showlegend": true,
         "type": "scatter",
         "x": [
          9.2,
          9,
          9,
          8.9,
          8.6,
          8.5,
          8.3,
          8.3,
          8.3,
          8.2,
          8.2,
          8.1,
          8.1,
          8.1
         ],
         "xaxis": "x",
         "y": [
          250341816,
          47961919,
          955,
          213928762,
          30680793,
          23875127,
          5473337,
          65884703,
          599146,
          28570902,
          116112375,
          0,
          67,
          127244
         ],
         "yaxis": "y"
        },
        {
         "hovertemplate": "<b>%{hovertext}</b><br><br>genre=Action,Crime,Drama<br>rating=%{x}<br>box_office=%{marker.size}<extra></extra>",
         "hovertext": [
          "The Dark Knight",
          "Léon: The Professional",
          "Heat",
          "Batman Begins",
          "Kill Bill: Vol. 1"
         ],
         "legendgroup": "Action,Crime,Drama",
         "marker": {
          "color": "#00cc96",
          "size": [
           1006234167,
           19569225,
           187436818,
           373672993,
           180906076
          ],
          "sizemode": "area",
          "sizeref": 6998597.75,
          "symbol": "circle"
         },
         "mode": "markers",
         "name": "Action,Crime,Drama",
         "orientation": "v",
         "showlegend": true,
         "type": "scatter",
         "x": [
          9,
          8.5,
          8.3,
          8.2,
          8.2
         ],
         "xaxis": "x",
         "y": [
          1006234167,
          19569225,
          187436818,
          373672993,
          180906076
         ],
         "yaxis": "y"
        },
        {
         "hovertemplate": "<b>%{hovertext}</b><br><br>genre=Biography,Drama,History<br>rating=%{x}<br>box_office=%{marker.size}<extra></extra>",
         "hovertext": [
          "Schindler's List",
          "Braveheart",
          "Hamilton",
          "Downfall",
          "12 Years a Slave",
          "Hacksaw Ridge",
          "The Passion of Joan of Arc",
          "Hotel Rwanda",
          "Gandhi"
         ],
         "legendgroup": "Biography,Drama,History",
         "marker": {
          "color": "#ab63fa",
          "size": [
           322161245,
           213216216,
           0,
           92181574,
           187733202,
           180563636,
           0,
           33882243,
           52767889
          ],
          "sizemode": "area",
          "sizeref": 6998597.75,
          "symbol": "circle"
         },
         "mode": "markers",
         "name": "Biography,Drama,History",
         "orientation": "v",
         "showlegend": true,
         "type": "scatter",
         "x": [
          9,
          8.4,
          8.4,
          8.2,
          8.1,
          8.1,
          8.2,
          8.1,
          8
         ],
         "xaxis": "x",
         "y": [
          322161245,
          213216216,
          0,
          92181574,
          187733202,
          180563636,
          0,
          33882243,
          52767889
         ],
         "yaxis": "y"
        },
        {
         "hovertemplate": "<b>%{hovertext}</b><br><br>genre=Action,Adventure,Drama<br>rating=%{x}<br>box_office=%{marker.size}<extra></extra>",
         "hovertext": [
          "The Lord of the Rings: The Return of the King",
          "The Lord of the Rings: The Fellowship of the Ring",
          "The Lord of the Rings: The Two Towers",
          "Gladiator",
          "Avengers: Endgame"
         ],
         "legendgroup": "Action,Adventure,Drama",
         "marker": {
          "color": "#FFA15A",
          "size": [
           1146457748,
           898204420,
           947944270,
           503162313,
           2799439100
          ],
          "sizemode": "area",
          "sizeref": 6998597.75,
          "symbol": "circle"
         },
         "mode": "markers",
         "name": "Action,Adventure,Drama",
         "orientation": "v",
         "showlegend": true,
         "type": "scatter",
         "x": [
          9,
          8.8,
          8.8,
          8.5,
          8.4
         ],
         "xaxis": "x",
         "y": [
          1146457748,
          898204420,
          947944270,
          503162313,
          2799439100
         ],
         "yaxis": "y"
        },
        {
         "hovertemplate": "<b>%{hovertext}</b><br><br>genre=Adventure,Western<br>rating=%{x}<br>box_office=%{marker.size}<extra></extra>",
         "hovertext": [
          "The Good, the Bad and the Ugly"
         ],
         "legendgroup": "Adventure,Western",
         "marker": {
          "color": "#19d3f3",
          "size": [
           25253887
          ],
          "sizemode": "area",
          "sizeref": 6998597.75,
          "symbol": "circle"
         },
         "mode": "markers",
         "name": "Adventure,Western",
         "orientation": "v",
         "showlegend": true,
         "type": "scatter",
         "x": [
          8.8
         ],
         "xaxis": "x",
         "y": [
          25253887
         ],
         "yaxis": "y"
        },
        {
         "hovertemplate": "<b>%{hovertext}</b><br><br>genre=Drama,Romance<br>rating=%{x}<br>box_office=%{marker.size}<extra></extra>",
         "hovertext": [
          "Forrest Gump",
          "Cinema Paradiso",
          "Good Will Hunting",
          "Before Sunrise",
          "Wild Strawberries",
          "Before Sunset"
         ],
         "legendgroup": "Drama,Romance",
         "marker": {
          "color": "#FF6692",
          "size": [
           678226465,
           13019063,
           0,
           5987386,
           60418,
           0
          ],
          "sizemode": "area",
          "sizeref": 6998597.75,
          "symbol": "circle"
         },
         "mode": "markers",
         "name": "Drama,Romance",
         "orientation": "v",
         "showlegend": true,
         "type": "scatter",
         "x": [
          8.8,
          8.5,
          8.3,
          8.1,
          8.1,
          8.1
         ],
         "xaxis": "x",
         "y": [
          678226465,
          13019063,
          0,
          5987386,
          60418,
          0
         ],
         "yaxis": "y"
        },
        {
         "hovertemplate": "<b>%{hovertext}</b><br><br>genre=Action,Adventure,Sci-Fi<br>rating=%{x}<br>box_office=%{marker.size}<extra></extra>",
         "hovertext": [
          "Inception",
          "Avengers: Infinity War",
          "Aliens",
          "Jurassic Park",
          "Mad Max: Fury Road"
         ],
         "legendgroup": "Action,Adventure,Sci-Fi",
         "marker": {
          "color": "#B6E880",
          "size": [
           836848102,
           2052415039,
           131060248,
           1109802321,
           415261382
          ],
          "sizemode": "area",
          "sizeref": 6998597.75,
          "symbol": "circle"
         },
         "mode": "markers",
         "name": "Action,Adventure,Sci-Fi",
         "orientation": "v",
         "showlegend": true,
         "type": "scatter",
         "x": [
          8.8,
          8.4,
          8.4,
          8.2,
          8.1
         ],
         "xaxis": "x",
         "y": [
          836848102,
          2052415039,
          131060248,
          1109802321,
          415261382
         ],
         "yaxis": "y"
        },
        {
         "hovertemplate": "<b>%{hovertext}</b><br><br>genre=Action,Adventure,Fantasy<br>rating=%{x}<br>box_office=%{marker.size}<extra></extra>",
         "hovertext": [
          "Star Wars: Episode V - The Empire Strikes Back",
          "Star Wars: Episode IV - A New Hope",
          "Star Wars: Episode VI - Return of the Jedi",
          "Spider-Man: No Way Home",
          "Pirates of the Caribbean: The Curse of the Black Pearl"
         ],
         "legendgroup": "Action,Adventure,Fantasy",
         "marker": {
          "color": "#FF97FF",
          "size": [
           538375067,
           775398007,
           475106177,
           1921847111,
           654264015
          ],
          "sizemode": "area",
          "sizeref": 6998597.75,
          "symbol": "circle"
         },
         "mode": "markers",
         "name": "Action,Adventure,Fantasy",
         "orientation": "v",
         "showlegend": true,
         "type": "scatter",
         "x": [
          8.7,
          8.6,
          8.3,
          8.2,
          8.1
         ],
         "xaxis": "x",
         "y": [
          538375067,
          775398007,
          475106177,
          1921847111,
          654264015
         ],
         "yaxis": "y"
        },
        {
         "hovertemplate": "<b>%{hovertext}</b><br><br>genre=Action,Sci-Fi<br>rating=%{x}<br>box_office=%{marker.size}<extra></extra>",
         "hovertext": [
          "The Matrix",
          "Terminator 2: Judgment Day",
          "The Terminator"
         ],
         "legendgroup": "Action,Sci-Fi",
         "marker": {
          "color": "#FECB52",
          "size": [
           467222728,
           520881154,
           78371200
          ],
          "sizemode": "area",
          "sizeref": 6998597.75,
          "symbol": "circle"
         },
         "mode": "markers",
         "name": "Action,Sci-Fi",
         "orientation": "v",
         "showlegend": true,
         "type": "scatter",
         "x": [
          8.7,
          8.6,
          8.1
         ],
         "xaxis": "x",
         "y": [
          467222728,
          520881154,
          78371200
         ],
         "yaxis": "y"
        },
        {
         "hovertemplate": "<b>%{hovertext}</b><br><br>genre=Biography,Crime,Drama<br>rating=%{x}<br>box_office=%{marker.size}<extra></extra>",
         "hovertext": [
          "Goodfellas",
          "Catch Me If You Can",
          "In the Name of the Father",
          "Spotlight"
         ],
         "legendgroup": "Biography,Crime,Drama",
         "marker": {
          "color": "#636efa",
          "size": [
           47036784,
           0,
           0,
           98690254
          ],
          "sizemode": "area",
          "sizeref": 6998597.75,
          "symbol": "circle"
         },
         "mode": "markers",
         "name": "Biography,Crime,Drama",
         "orientation": "v",
         "showlegend": true,
         "type": "scatter",
         "x": [
          8.7,
          8.1,
          8.1,
          8.1
         ],
         "xaxis": "x",
         "y": [
          47036784,
          0,
          0,
          98690254
         ],
         "yaxis": "y"
        },
        {
         "hovertemplate": "<b>%{hovertext}</b><br><br>genre=Crime,Drama,Mystery<br>rating=%{x}<br>box_office=%{marker.size}<extra></extra>",
         "hovertext": [
          "Se7en",
          "The Usual Suspects",
          "Witness for the Prosecution",
          "High and Low",
          "L.A. Confidential",
          "Rashomon",
          "Prisoners",
          "Memories of Murder",
          "Jai Bhim"
         ],
         "legendgroup": "Crime,Drama,Mystery",
         "marker": {
          "color": "#EF553B",
          "size": [
           327333559,
           23341568,
           7693,
           0,
           126216940,
           81379,
           122126687,
           1166717,
           0
          ],
          "sizemode": "area",
          "sizeref": 6998597.75,
          "symbol": "circle"
         },
         "mode": "markers",
         "name": "Crime,Drama,Mystery",
         "orientation": "v",
         "showlegend": true,
         "type": "scatter",
         "x": [
          8.6,
          8.5,
          8.4,
          8.4,
          8.2,
          8.2,
          8.1,
          8.1,
          8.8
         ],
         "xaxis": "x",
         "y": [
          327333559,
          23341568,
          7693,
          0,
          126216940,
          81379,
          122126687,
          1166717,
          0
         ],
         "yaxis": "y"
        },
        {
         "hovertemplate": "<b>%{hovertext}</b><br><br>genre=Action,Drama<br>rating=%{x}<br>box_office=%{marker.size}<extra></extra>",
         "hovertext": [
          "Seven Samurai",
          "The Dark Knight Rises",
          "Top Gun: Maverick"
         ],
         "legendgroup": "Action,Drama",
         "marker": {
          "color": "#00cc96",
          "size": [
           346258,
           1081169825,
           1488732821
          ],
          "sizemode": "area",
          "sizeref": 6998597.75,
          "symbol": "circle"
         },
         "mode": "markers",
         "name": "Action,Drama",
         "orientation": "v",
         "showlegend": true,
         "type": "scatter",
         "x": [
          8.6,
          8.4,
          8.3
         ],
         "xaxis": "x",
         "y": [
          346258,
          1081169825,
          1488732821
         ],
         "yaxis": "y"
        },
        {
         "hovertemplate": "<b>%{hovertext}</b><br><br>genre=Drama,Family,Fantasy<br>rating=%{x}<br>box_office=%{marker.size}<extra></extra>",
         "hovertext": [
          "It's a Wonderful Life"
         ],
         "legendgroup": "Drama,Family,Fantasy",
         "marker": {
          "color": "#ab63fa",
          "size": [
           8574081
          ],
          "sizemode": "area",
          "sizeref": 6998597.75,
          "symbol": "circle"
         },
         "mode": "markers",
         "name": "Drama,Family,Fantasy",
         "orientation": "v",
         "showlegend": true,
         "type": "scatter",
         "x": [
          8.6
         ],
         "xaxis": "x",
         "y": [
          8574081
         ],
         "yaxis": "y"
        },
        {
         "hovertemplate": "<b>%{hovertext}</b><br><br>genre=Crime,Drama,Thriller<br>rating=%{x}<br>box_office=%{marker.size}<extra></extra>",
         "hovertext": [
          "The Silence of the Lambs",
          "The Departed",
          "Joker",
          "No Country for Old Men"
         ],
         "legendgroup": "Crime,Drama,Thriller",
         "marker": {
          "color": "#FFA15A",
          "size": [
           272742922,
           291480452,
           1074458282,
           171627434
          ],
          "sizemode": "area",
          "sizeref": 6998597.75,
          "symbol": "circle"
         },
         "mode": "markers",
         "name": "Crime,Drama,Thriller",
         "orientation": "v",
         "showlegend": true,
         "type": "scatter",
         "x": [
          8.6,
          8.5,
          8.4,
          8.2
         ],
         "xaxis": "x",
         "y": [
          272742922,
          291480452,
          1074458282,
          171627434
         ],
         "yaxis": "y"
        },
        {
         "hovertemplate": "<b>%{hovertext}</b><br><br>genre=Drama,War<br>rating=%{x}<br>box_office=%{marker.size}<extra></extra>",
         "hovertext": [
          "Saving Private Ryan",
          "Paths of Glory",
          "The Boat",
          "Full Metal Jacket",
          "Judgment at Nuremberg",
          "The Deer Hunter",
          "Platoon",
          "The Battle of Algiers"
         ],
         "legendgroup": "Drama,War",
         "marker": {
          "color": "#19d3f3",
          "size": [
           482349603,
           5252,
           11487676,
           46358827,
           12180,
           49074379,
           138545632,
           962002
          ],
          "sizemode": "area",
          "sizeref": 6998597.75,
          "symbol": "circle"
         },
         "mode": "markers",
         "name": "Drama,War",
         "orientation": "v",
         "showlegend": true,
         "type": "scatter",
         "x": [
          8.6,
          8.4,
          8.4,
          8.3,
          8.3,
          8.1,
          8.1,
          8.1
         ],
         "xaxis": "x",
         "y": [
          482349603,
          5252,
          11487676,
          46358827,
          12180,
          49074379,
          138545632,
          962002
         ],
         "yaxis": "y"
        },
        {
         "hovertemplate": "<b>%{hovertext}</b><br><br>genre=Adventure,Drama,Sci-Fi<br>rating=%{x}<br>box_office=%{marker.size}<extra></extra>",
         "hovertext": [
          "Interstellar"
         ],
         "legendgroup": "Adventure,Drama,Sci-Fi",
         "marker": {
          "color": "#FF6692",
          "size": [
           773867216
          ],
          "sizemode": "area",
          "sizeref": 6998597.75,
          "symbol": "circle"
         },
         "mode": "markers",
         "name": "Adventure,Drama,Sci-Fi",
         "orientation": "v",
         "showlegend": true,
         "type": "scatter",
         "x": [
          8.6
         ],
         "xaxis": "x",
         "y": [
          773867216
         ],
         "yaxis": "y"
        },
        {
         "hovertemplate": "<b>%{hovertext}</b><br><br>genre=Comedy,Drama,Romance<br>rating=%{x}<br>box_office=%{marker.size}<extra></extra>",
         "hovertext": [
          "Life Is Beautiful",
          "Modern Times",
          "City Lights",
          "The Apartment"
         ],
         "legendgroup": "Comedy,Drama,Romance",
         "marker": {
          "color": "#B6E880",
          "size": [
           230098753,
           463618,
           50419,
           18778738
          ],
          "sizemode": "area",
          "sizeref": 6998597.75,
          "symbol": "circle"
         },
         "mode": "markers",
         "name": "Comedy,Drama,Romance",
         "orientation": "v",
         "showlegend": true,
         "type": "scatter",
         "x": [
          8.6,
          8.5,
          8.5,
          8.3
         ],
         "xaxis": "x",
         "y": [
          230098753,
          463618,
          50419,
          18778738
         ],
         "yaxis": "y"
        },
        {
         "hovertemplate": "<b>%{hovertext}</b><br><br>genre=Crime,Drama,Fantasy<br>rating=%{x}<br>box_office=%{marker.size}<extra></extra>",
         "hovertext": [
          "The Green Mile"
         ],
         "legendgroup": "Crime,Drama,Fantasy",
         "marker": {
          "color": "#FF97FF",
          "size": [
           286801374
          ],
          "sizemode": "area",
          "sizeref": 6998597.75,
          "symbol": "circle"
         },
         "mode": "markers",
         "name": "Crime,Drama,Fantasy",
         "orientation": "v",
         "showlegend": true,
         "type": "scatter",
         "x": [
          8.6
         ],
         "xaxis": "x",
         "y": [
          286801374
         ],
         "yaxis": "y"
        },
        {
         "hovertemplate": "<b>%{hovertext}</b><br><br>genre=Adventure,Comedy,Sci-Fi<br>rating=%{x}<br>box_office=%{marker.size}<extra></extra>",
         "hovertext": [
          "Back to the Future"
         ],
         "legendgroup": "Adventure,Comedy,Sci-Fi",
         "marker": {
          "color": "#FECB52",
          "size": [
           383336762
          ],
          "sizemode": "area",
          "sizeref": 6998597.75,
          "symbol": "circle"
         },
         "mode": "markers",
         "name": "Adventure,Comedy,Sci-Fi",
         "orientation": "v",
         "showlegend": true,
         "type": "scatter",
         "x": [
          8.5
         ],
         "xaxis": "x",
         "y": [
          383336762
         ],
         "yaxis": "y"
        },
        {
         "hovertemplate": "<b>%{hovertext}</b><br><br>genre=Animation,Adventure,Family<br>rating=%{x}<br>box_office=%{marker.size}<extra></extra>",
         "hovertext": [
          "Spirited Away",
          "WALL·E",
          "Howl's Moving Castle"
         ],
         "legendgroup": "Animation,Adventure,Family",
         "marker": {
          "color": "#636efa",
          "size": [
           355822319,
           521311890,
           237536126
          ],
          "sizemode": "area",
          "sizeref": 6998597.75,
          "symbol": "circle"
         },
         "mode": "markers",
         "name": "Animation,Adventure,Family",
         "orientation": "v",
         "showlegend": true,
         "type": "scatter",
         "x": [
          8.6,
          8.4,
          8.2
         ],
         "xaxis": "x",
         "y": [
          355822319,
          521311890,
          237536126
         ],
         "yaxis": "y"
        },
        {
         "hovertemplate": "<b>%{hovertext}</b><br><br>genre=Biography,Drama,Music<br>rating=%{x}<br>box_office=%{marker.size}<extra></extra>",
         "hovertext": [
          "The Pianist",
          "Amadeus"
         ],
         "legendgroup": "Biography,Drama,Music",
         "marker": {
          "color": "#EF553B",
          "size": [
           120072577,
           52066791
          ],
          "sizemode": "area",
          "sizeref": 6998597.75,
          "symbol": "circle"
         },
         "mode": "markers",
         "name": "Biography,Drama,Music",
         "orientation": "v",
         "showlegend": true,
         "type": "scatter",
         "x": [
          8.5,
          8.4
         ],
         "xaxis": "x",
         "y": [
          120072577,
          52066791
         ],
         "yaxis": "y"
        },
        {
         "hovertemplate": "<b>%{hovertext}</b><br><br>genre=Horror,Mystery,Thriller<br>rating=%{x}<br>box_office=%{marker.size}<extra></extra>",
         "hovertext": [
          "Psycho"
         ],
         "legendgroup": "Horror,Mystery,Thriller",
         "marker": {
          "color": "#00cc96",
          "size": [
           32052925
          ],
          "sizemode": "area",
          "sizeref": 6998597.75,
          "symbol": "circle"
         },
         "mode": "markers",
         "name": "Horror,Mystery,Thriller",
         "orientation": "v",
         "showlegend": true,
         "type": "scatter",
         "x": [
          8.5
         ],
         "xaxis": "x",
         "y": [
          32052925
         ],
         "yaxis": "y"
        },
        {
         "hovertemplate": "<b>%{hovertext}</b><br><br>genre=Drama,Thriller<br>rating=%{x}<br>box_office=%{marker.size}<extra></extra>",
         "hovertext": [
          "Parasite",
          "Room",
          "Amores Perros",
          "Persona"
         ],
         "legendgroup": "Drama,Thriller",
         "marker": {
          "color": "#ab63fa",
          "size": [
           262676096,
           35401758,
           20908467,
           0
          ],
          "sizemode": "area",
          "sizeref": 6998597.75,
          "symbol": "circle"
         },
         "mode": "markers",
         "name": "Drama,Thriller",
         "orientation": "v",
         "showlegend": true,
         "type": "scatter",
         "x": [
          8.5,
          8.1,
          8.1,
          8.1
         ],
         "xaxis": "x",
         "y": [
          262676096,
          35401758,
          20908467,
          0
         ],
         "yaxis": "y"
        },
        {
         "hovertemplate": "<b>%{hovertext}</b><br><br>genre=Animation,Adventure,Drama<br>rating=%{x}<br>box_office=%{marker.size}<extra></extra>",
         "hovertext": [
          "The Lion King"
         ],
         "legendgroup": "Animation,Adventure,Drama",
         "marker": {
          "color": "#FFA15A",
          "size": [
           968511805
          ],
          "sizemode": "area",
          "sizeref": 6998597.75,
          "symbol": "circle"
         },
         "mode": "markers",
         "name": "Animation,Adventure,Drama",
         "orientation": "v",
         "showlegend": true,
         "type": "scatter",
         "x": [
          8.5
         ],
         "xaxis": "x",
         "y": [
          968511805
         ],
         "yaxis": "y"
        },
        {
         "hovertemplate": "<b>%{hovertext}</b><br><br>genre=Drama,Mystery,Sci-Fi<br>rating=%{x}<br>box_office=%{marker.size}<extra></extra>",
         "hovertext": [
          "The Prestige"
         ],
         "legendgroup": "Drama,Mystery,Sci-Fi",
         "marker": {
          "color": "#19d3f3",
          "size": [
           109676311
          ],
          "sizemode": "area",
          "sizeref": 6998597.75,
          "symbol": "circle"
         },
         "mode": "markers",
         "name": "Drama,Mystery,Sci-Fi",
         "orientation": "v",
         "showlegend": true,
         "type": "scatter",
         "x": [
          8.5
         ],
         "xaxis": "x",
         "y": [
          109676311
         ],
         "yaxis": "y"
        },
        {
         "hovertemplate": "<b>%{hovertext}</b><br><br>genre=Drama,Music<br>rating=%{x}<br>box_office=%{marker.size}<extra></extra>",
         "hovertext": [
          "Whiplash"
         ],
         "legendgroup": "Drama,Music",
         "marker": {
          "color": "#FF6692",
          "size": [
           49396747
          ],
          "sizemode": "area",
          "sizeref": 6998597.75,
          "symbol": "circle"
         },
         "mode": "markers",
         "name": "Drama,Music",
         "orientation": "v",
         "showlegend": true,
         "type": "scatter",
         "x": [
          8.5
         ],
         "xaxis": "x",
         "y": [
          49396747
         ],
         "yaxis": "y"
        },
        {
         "hovertemplate": "<b>%{hovertext}</b><br><br>genre=Drama,Romance,War<br>rating=%{x}<br>box_office=%{marker.size}<extra></extra>",
         "hovertext": [
          "Casablanca",
          "Gone with the Wind",
          "The Best Years of Our Lives"
         ],
         "legendgroup": "Drama,Romance,War",
         "marker": {
          "color": "#B6E880",
          "size": [
           4626532,
           402382193,
           23661347
          ],
          "sizemode": "area",
          "sizeref": 6998597.75,
          "symbol": "circle"
         },
         "mode": "markers",
         "name": "Drama,Romance,War",
         "orientation": "v",
         "showlegend": true,
         "type": "scatter",
         "x": [
          8.5,
          8.2,
          8.1
         ],
         "xaxis": "x",
         "y": [
          4626532,
          402382193,
          23661347
         ],
         "yaxis": "y"
        },
        {
         "hovertemplate": "<b>%{hovertext}</b><br><br>genre=Animation,Drama,War<br>rating=%{x}<br>box_office=%{marker.size}<extra></extra>",
         "hovertext": [
          "Grave of the Fireflies"
         ],
         "legendgroup": "Animation,Drama,War",
         "marker": {
          "color": "#FF97FF",
          "size": [
           516962
          ],
          "sizemode": "area",
          "sizeref": 6998597.75,
          "symbol": "circle"
         },
         "mode": "markers",
         "name": "Animation,Drama,War",
         "orientation": "v",
         "showlegend": true,
         "type": "scatter",
         "x": [
          8.5
         ],
         "xaxis": "x",
         "y": [
          516962
         ],
         "yaxis": "y"
        },
        {
         "hovertemplate": "<b>%{hovertext}</b><br><br>genre=Action,Drama,Mystery<br>rating=%{x}<br>box_office=%{marker.size}<extra></extra>",
         "hovertext": [
          "Harakiri",
          "Oldboy"
         ],
         "legendgroup": "Action,Drama,Mystery",
         "marker": {
          "color": "#FECB52",
          "size": [
           0,
           15421226
          ],
          "sizemode": "area",
          "sizeref": 6998597.75,
          "symbol": "circle"
         },
         "mode": "markers",
         "name": "Action,Drama,Mystery",
         "orientation": "v",
         "showlegend": true,
         "type": "scatter",
         "x": [
          8.6,
          8.4
         ],
         "xaxis": "x",
         "y": [
          0,
          15421226
         ],
         "yaxis": "y"
        },
        {
         "hovertemplate": "<b>%{hovertext}</b><br><br>genre=Biography,Comedy,Drama<br>rating=%{x}<br>box_office=%{marker.size}<extra></extra>",
         "hovertext": [
          "The Intouchables",
          "Green Book"
         ],
         "legendgroup": "Biography,Comedy,Drama",
         "marker": {
          "color": "#636efa",
          "size": [
           426588510,
           321752656
          ],
          "sizemode": "area",
          "sizeref": 6998597.75,
          "symbol": "circle"
         },
         "mode": "markers",
         "name": "Biography,Comedy,Drama",
         "orientation": "v",
         "showlegend": true,
         "type": "scatter",
         "x": [
          8.5,
          8.2
         ],
         "xaxis": "x",
         "y": [
          426588510,
          321752656
         ],
         "yaxis": "y"
        },
        {
         "hovertemplate": "<b>%{hovertext}</b><br><br>genre=Western<br>rating=%{x}<br>box_office=%{marker.size}<extra></extra>",
         "hovertext": [
          "Once Upon a Time in the West",
          "For a Few Dollars More"
         ],
         "legendgroup": "Western",
         "marker": {
          "color": "#EF553B",
          "size": [
           5435024,
           15000000
          ],
          "sizemode": "area",
          "sizeref": 6998597.75,
          "symbol": "circle"
         },
         "mode": "markers",
         "name": "Western",
         "orientation": "v",
         "showlegend": true,
         "type": "scatter",
         "x": [
          8.5,
          8.2
         ],
         "xaxis": "x",
         "y": [
          5435024,
          15000000
         ],
         "yaxis": "y"
        },
        {
         "hovertemplate": "<b>%{hovertext}</b><br><br>genre=Mystery,Thriller<br>rating=%{x}<br>box_office=%{marker.size}<extra></extra>",
         "hovertext": [
          "Rear Window",
          "Memento",
          "Shutter Island"
         ],
         "legendgroup": "Mystery,Thriller",
         "marker": {
          "color": "#00cc96",
          "size": [
           37034579,
           40047078,
           294805697
          ],
          "sizemode": "area",
          "sizeref": 6998597.75,
          "symbol": "circle"
         },
         "mode": "markers",
         "name": "Mystery,Thriller",
         "orientation": "v",
         "showlegend": true,
         "type": "scatter",
         "x": [
          8.5,
          8.4,
          8.2
         ],
         "xaxis": "x",
         "y": [
          37034579,
          40047078,
          294805697
         ],
         "yaxis": "y"
        },
        {
         "hovertemplate": "<b>%{hovertext}</b><br><br>genre=Horror,Sci-Fi<br>rating=%{x}<br>box_office=%{marker.size}<extra></extra>",
         "hovertext": [
          "Alien"
         ],
         "legendgroup": "Horror,Sci-Fi",
         "marker": {
          "color": "#ab63fa",
          "size": [
           106285522
          ],
          "sizemode": "area",
          "sizeref": 6998597.75,
          "symbol": "circle"
         },
         "mode": "markers",
         "name": "Horror,Sci-Fi",
         "orientation": "v",
         "showlegend": true,
         "type": "scatter",
         "x": [
          8.5
         ],
         "xaxis": "x",
         "y": [
          106285522
         ],
         "yaxis": "y"
        },
        {
         "hovertemplate": "<b>%{hovertext}</b><br><br>genre=Drama,Mystery,War<br>rating=%{x}<br>box_office=%{marker.size}<extra></extra>",
         "hovertext": [
          "Apocalypse Now"
         ],
         "legendgroup": "Drama,Mystery,War",
         "marker": {
          "color": "#FFA15A",
          "size": [
           104880868
          ],
          "sizemode": "area",
          "sizeref": 6998597.75,
          "symbol": "circle"
         },
         "mode": "markers",
         "name": "Drama,Mystery,War",
         "orientation": "v",
         "showlegend": true,
         "type": "scatter",
         "x": [
          8.5
         ],
         "xaxis": "x",
         "y": [
          104880868
         ],
         "yaxis": "y"
        },
        {
         "hovertemplate": "<b>%{hovertext}</b><br><br>genre=Drama,Western<br>rating=%{x}<br>box_office=%{marker.size}<extra></extra>",
         "hovertext": [
          "Django Unchained",
          "Unforgiven"
         ],
         "legendgroup": "Drama,Western",
         "marker": {
          "color": "#19d3f3",
          "size": [
           426074373,
           159167799
          ],
          "sizemode": "area",
          "sizeref": 6998597.75,
          "symbol": "circle"
         },
         "mode": "markers",
         "name": "Drama,Western",
         "orientation": "v",
         "showlegend": true,
         "type": "scatter",
         "x": [
          8.4,
          8.2
         ],
         "xaxis": "x",
         "y": [
          426074373,
          159167799
         ],
         "yaxis": "y"
        },
        {
         "hovertemplate": "<b>%{hovertext}</b><br><br>genre=Action,Adventure<br>rating=%{x}<br>box_office=%{marker.size}<extra></extra>",
         "hovertext": [
          "Indiana Jones and the Raiders of the Lost Ark",
          "Indiana Jones and the Last Crusade"
         ],
         "legendgroup": "Action,Adventure",
         "marker": {
          "color": "#FF6692",
          "size": [
           389925971,
           474171806
          ],
          "sizemode": "area",
          "sizeref": 6998597.75,
          "symbol": "circle"
         },
         "mode": "markers",
         "name": "Action,Adventure",
         "orientation": "v",
         "showlegend": true,
         "type": "scatter",
         "x": [
          8.4,
          8.2
         ],
         "xaxis": "x",
         "y": [
          389925971,
          474171806
         ],
         "yaxis": "y"
        },
        {
         "hovertemplate": "<b>%{hovertext}</b><br><br>genre=Drama,Mystery,Thriller<br>rating=%{x}<br>box_office=%{marker.size}<extra></extra>",
         "hovertext": [
          "The Lives of Others",
          "The Sixth Sense",
          "Chinatown",
          "Gone Girl"
         ],
         "legendgroup": "Drama,Mystery,Thriller",
         "marker": {
          "color": "#B6E880",
          "size": [
           77356942,
           672806432,
           29225935,
           0
          ],
          "sizemode": "area",
          "sizeref": 6998597.75,
          "symbol": "circle"
         },
         "mode": "markers",
         "name": "Drama,Mystery,Thriller",
         "orientation": "v",
         "showlegend": true,
         "type": "scatter",
         "x": [
          8.4,
          8.2,
          8.2,
          8.1
         ],
         "xaxis": "x",
         "y": [
          77356942,
          672806432,
          29225935,
          0
         ],
         "yaxis": "y"
        },
        {
         "hovertemplate": "<b>%{hovertext}</b><br><br>genre=Drama,Film-Noir<br>rating=%{x}<br>box_office=%{marker.size}<extra></extra>",
         "hovertext": [
          "Sunset Blvd."
         ],
         "legendgroup": "Drama,Film-Noir",
         "marker": {
          "color": "#FF97FF",
          "size": [
           300073
          ],
          "sizemode": "area",
          "sizeref": 6998597.75,
          "symbol": "circle"
         },
         "mode": "markers",
         "name": "Drama,Film-Noir",
         "orientation": "v",
         "showlegend": true,
         "type": "scatter",
         "x": [
          8.4
         ],
         "xaxis": "x",
         "y": [
          300073
         ],
         "yaxis": "y"
        },
        {
         "hovertemplate": "<b>%{hovertext}</b><br><br>genre=Drama,Horror<br>rating=%{x}<br>box_office=%{marker.size}<extra></extra>",
         "hovertext": [
          "The Shining"
         ],
         "legendgroup": "Drama,Horror",
         "marker": {
          "color": "#FECB52",
          "size": [
           47335804
          ],
          "sizemode": "area",
          "sizeref": 6998597.75,
          "symbol": "circle"
         },
         "mode": "markers",
         "name": "Drama,Horror",
         "orientation": "v",
         "showlegend": true,
         "type": "scatter",
         "x": [
          8.4
         ],
         "xaxis": "x",
         "y": [
          47335804
         ],
         "yaxis": "y"
        },
        {
         "hovertemplate": "<b>%{hovertext}</b><br><br>genre=Comedy,Drama,War<br>rating=%{x}<br>box_office=%{marker.size}<extra></extra>",
         "hovertext": [
          "The Great Dictator"
         ],
         "legendgroup": "Comedy,Drama,War",
         "marker": {
          "color": "#636efa",
          "size": [
           970263
          ],
          "sizemode": "area",
          "sizeref": 6998597.75,
          "symbol": "circle"
         },
         "mode": "markers",
         "name": "Comedy,Drama,War",
         "orientation": "v",
         "showlegend": true,
         "type": "scatter",
         "x": [
          8.4
         ],
         "xaxis": "x",
         "y": [
          970263
         ],
         "yaxis": "y"
        },
        {
         "hovertemplate": "<b>%{hovertext}</b><br><br>genre=Animation,Action,Adventure<br>rating=%{x}<br>box_office=%{marker.size}<extra></extra>",
         "hovertext": [
          "Spider-Man: Into the Spider-Verse",
          "Princess Mononoke",
          "How to Train Your Dragon",
          "The Incredibles",
          "The Iron Giant"
         ],
         "legendgroup": "Animation,Action,Adventure",
         "marker": {
          "color": "#EF553B",
          "size": [
           0,
           170005875,
           494879471,
           631607053,
           23335817
          ],
          "sizemode": "area",
          "sizeref": 6998597.75,
          "symbol": "circle"
         },
         "mode": "markers",
         "name": "Animation,Action,Adventure",
         "orientation": "v",
         "showlegend": true,
         "type": "scatter",
         "x": [
          8.4,
          8.4,
          8.1,
          8,
          8.1
         ],
         "xaxis": "x",
         "y": [
          0,
          170005875,
          494879471,
          631607053,
          23335817
         ],
         "yaxis": "y"
        },
        {
         "hovertemplate": "<b>%{hovertext}</b><br><br>genre=Comedy,War<br>rating=%{x}<br>box_office=%{marker.size}<extra></extra>",
         "hovertext": [
          "Dr. Strangelove or: How I Learned to Stop Worrying and Love the Bomb"
         ],
         "legendgroup": "Comedy,War",
         "marker": {
          "color": "#00cc96",
          "size": [
           9523464
          ],
          "sizemode": "area",
          "sizeref": 6998597.75,
          "symbol": "circle"
         },
         "mode": "markers",
         "name": "Comedy,War",
         "orientation": "v",
         "showlegend": true,
         "type": "scatter",
         "x": [
          8.4
         ],
         "xaxis": "x",
         "y": [
          9523464
         ],
         "yaxis": "y"
        },
        {
         "hovertemplate": "<b>%{hovertext}</b><br><br>genre=Adventure,Drama,War<br>rating=%{x}<br>box_office=%{marker.size}<extra></extra>",
         "hovertext": [
          "Inglourious Basterds",
          "The Bridge on the River Kwai",
          "Barry Lyndon"
         ],
         "legendgroup": "Adventure,Drama,War",
         "marker": {
          "color": "#ab63fa",
          "size": [
           321457747,
           27200000,
           199632
          ],
          "sizemode": "area",
          "sizeref": 6998597.75,
          "symbol": "circle"
         },
         "mode": "markers",
         "name": "Adventure,Drama,War",
         "orientation": "v",
         "showlegend": true,
         "type": "scatter",
         "x": [
          8.3,
          8.2,
          8.1
         ],
         "xaxis": "x",
         "y": [
          321457747,
          27200000,
          199632
         ],
         "yaxis": "y"
        },
        {
         "hovertemplate": "<b>%{hovertext}</b><br><br>genre=Animation,Adventure,Comedy<br>rating=%{x}<br>box_office=%{marker.size}<extra></extra>",
         "hovertext": [
          "Coco",
          "Toy Story",
          "Toy Story 3",
          "Up",
          "Finding Nemo",
          "Inside Out",
          "Klaus",
          "Monsters, Inc.",
          "Ratatouille",
          "Aladdin"
         ],
         "legendgroup": "Animation,Adventure,Comedy",
         "marker": {
          "color": "#FFA15A",
          "size": [
           814337054,
           394436586,
           1067316101,
           735099102,
           941637960,
           858848019,
           0,
           579707738,
           623726085,
           0
          ],
          "sizemode": "area",
          "sizeref": 6998597.75,
          "symbol": "circle"
         },
         "mode": "markers",
         "name": "Animation,Adventure,Comedy",
         "orientation": "v",
         "showlegend": true,
         "type": "scatter",
         "x": [
          8.4,
          8.3,
          8.3,
          8.3,
          8.2,
          8.2,
          8.2,
          8.1,
          8.1,
          8
         ],
         "xaxis": "x",
         "y": [
          814337054,
          394436586,
          1067316101,
          735099102,
          941637960,
          858848019,
          0,
          579707738,
          623726085,
          0
         ],
         "yaxis": "y"
        },
        {
         "hovertemplate": "<b>%{hovertext}</b><br><br>genre=Animation,Drama,Fantasy<br>rating=%{x}<br>box_office=%{marker.size}<extra></extra>",
         "hovertext": [
          "Your Name."
         ],
         "legendgroup": "Animation,Drama,Fantasy",
         "marker": {
          "color": "#19d3f3",
          "size": [
           0
          ],
          "sizemode": "area",
          "sizeref": 6998597.75,
          "symbol": "circle"
         },
         "mode": "markers",
         "name": "Animation,Drama,Fantasy",
         "orientation": "v",
         "showlegend": true,
         "type": "scatter",
         "x": [
          8.4
         ],
         "xaxis": "x",
         "y": [
          0
         ],
         "yaxis": "y"
        },
        {
         "hovertemplate": "<b>%{hovertext}</b><br><br>genre=Comedy,Drama<br>rating=%{x}<br>box_office=%{marker.size}<extra></extra>",
         "hovertext": [
          "3 Idiots",
          "The Truman Show",
          "Mr. Smith Goes to Washington",
          "Dead Poets Society"
         ],
         "legendgroup": "Comedy,Drama",
         "marker": {
          "color": "#FF6692",
          "size": [
           60262836,
           264118201,
           144738,
           235860116
          ],
          "sizemode": "area",
          "sizeref": 6998597.75,
          "symbol": "circle"
         },
         "mode": "markers",
         "name": "Comedy,Drama",
         "orientation": "v",
         "showlegend": true,
         "type": "scatter",
         "x": [
          8.4,
          8.2,
          8.1,
          8.1
         ],
         "xaxis": "x",
         "y": [
          60262836,
          264118201,
          144738,
          235860116
         ],
         "yaxis": "y"
        },
        {
         "hovertemplate": "<b>%{hovertext}</b><br><br>genre=Comedy,Musical,Romance<br>rating=%{x}<br>box_office=%{marker.size}<extra></extra>",
         "hovertext": [
          "Singin' in the Rain"
         ],
         "legendgroup": "Comedy,Musical,Romance",
         "marker": {
          "color": "#B6E880",
          "size": [
           2000288
          ],
          "sizemode": "area",
          "sizeref": 6998597.75,
          "symbol": "circle"
         },
         "mode": "markers",
         "name": "Comedy,Musical,Romance",
         "orientation": "v",
         "showlegend": true,
         "type": "scatter",
         "x": [
          8.3
         ],
         "xaxis": "x",
         "y": [
          2000288
         ],
         "yaxis": "y"
        },
        {
         "hovertemplate": "<b>%{hovertext}</b><br><br>genre=Drama,Romance,Sci-Fi<br>rating=%{x}<br>box_office=%{marker.size}<extra></extra>",
         "hovertext": [
          "Eternal Sunshine of the Spotless Mind"
         ],
         "legendgroup": "Drama,Romance,Sci-Fi",
         "marker": {
          "color": "#FF97FF",
          "size": [
           74036715
          ],
          "sizemode": "area",
          "sizeref": 6998597.75,
          "symbol": "circle"
         },
         "mode": "markers",
         "name": "Drama,Romance,Sci-Fi",
         "orientation": "v",
         "showlegend": true,
         "type": "scatter",
         "x": [
          8.3
         ],
         "xaxis": "x",
         "y": [
          74036715
         ],
         "yaxis": "y"
        },
        {
         "hovertemplate": "<b>%{hovertext}</b><br><br>genre=Adventure,Sci-Fi<br>rating=%{x}<br>box_office=%{marker.size}<extra></extra>",
         "hovertext": [
          "2001: A Space Odyssey"
         ],
         "legendgroup": "Adventure,Sci-Fi",
         "marker": {
          "color": "#FECB52",
          "size": [
           65889846
          ],
          "sizemode": "area",
          "sizeref": 6998597.75,
          "symbol": "circle"
         },
         "mode": "markers",
         "name": "Adventure,Sci-Fi",
         "orientation": "v",
         "showlegend": true,
         "type": "scatter",
         "x": [
          8.3
         ],
         "xaxis": "x",
         "y": [
          65889846
         ],
         "yaxis": "y"
        },
        {
         "hovertemplate": "<b>%{hovertext}</b><br><br>genre=Crime,Thriller<br>rating=%{x}<br>box_office=%{marker.size}<extra></extra>",
         "hovertext": [
          "Reservoir Dogs",
          "Dial M for Murder",
          "Fargo"
         ],
         "legendgroup": "Crime,Thriller",
         "marker": {
          "color": "#636efa",
          "size": [
           2913644,
           31207,
           60611975
          ],
          "sizemode": "area",
          "sizeref": 6998597.75,
          "symbol": "circle"
         },
         "mode": "markers",
         "name": "Crime,Thriller",
         "orientation": "v",
         "showlegend": true,
         "type": "scatter",
         "x": [
          8.3,
          8.2,
          8.1
         ],
         "xaxis": "x",
         "y": [
          2913644,
          31207,
          60611975
         ],
         "yaxis": "y"
        },
        {
         "hovertemplate": "<b>%{hovertext}</b><br><br>genre=Drama,Thriller,War<br>rating=%{x}<br>box_office=%{marker.size}<extra></extra>",
         "hovertext": [
          "Come and See"
         ],
         "legendgroup": "Drama,Thriller,War",
         "marker": {
          "color": "#EF553B",
          "size": [
           0
          ],
          "sizemode": "area",
          "sizeref": 6998597.75,
          "symbol": "circle"
         },
         "mode": "markers",
         "name": "Drama,Thriller,War",
         "orientation": "v",
         "showlegend": true,
         "type": "scatter",
         "x": [
          8.4
         ],
         "xaxis": "x",
         "y": [
          0
         ],
         "yaxis": "y"
        },
        {
         "hovertemplate": "<b>%{hovertext}</b><br><br>genre=Drama,Mystery<br>rating=%{x}<br>box_office=%{marker.size}<extra></extra>",
         "hovertext": [
          "Citizen Kane",
          "Incendies",
          "The Father"
         ],
         "legendgroup": "Drama,Mystery",
         "marker": {
          "color": "#00cc96",
          "size": [
           1645133,
           6788659,
           24427162
          ],
          "sizemode": "area",
          "sizeref": 6998597.75,
          "symbol": "circle"
         },
         "mode": "markers",
         "name": "Drama,Mystery",
         "orientation": "v",
         "showlegend": true,
         "type": "scatter",
         "x": [
          8.3,
          8.3,
          8.2
         ],
         "xaxis": "x",
         "y": [
          1645133,
          6788659,
          24427162
         ],
         "yaxis": "y"
        },
        {
         "hovertemplate": "<b>%{hovertext}</b><br><br>genre=Crime,Mystery,Thriller<br>rating=%{x}<br>box_office=%{marker.size}<extra></extra>",
         "hovertext": [
          "M"
         ],
         "legendgroup": "Crime,Mystery,Thriller",
         "marker": {
          "color": "#ab63fa",
          "size": [
           35566
          ],
          "sizemode": "area",
          "sizeref": 6998597.75,
          "symbol": "circle"
         },
         "mode": "markers",
         "name": "Crime,Mystery,Thriller",
         "orientation": "v",
         "showlegend": true,
         "type": "scatter",
         "x": [
          8.3
         ],
         "xaxis": "x",
         "y": [
          35566
         ],
         "yaxis": "y"
        },
        {
         "hovertemplate": "<b>%{hovertext}</b><br><br>genre=Adventure,Biography,Drama<br>rating=%{x}<br>box_office=%{marker.size}<extra></extra>",
         "hovertext": [
          "Lawrence of Arabia",
          "Into the Wild",
          "Dersu Uzala"
         ],
         "legendgroup": "Adventure,Biography,Drama",
         "marker": {
          "color": "#FFA15A",
          "size": [
           45720631,
           56675895,
           14480
          ],
          "sizemode": "area",
          "sizeref": 6998597.75,
          "symbol": "circle"
         },
         "mode": "markers",
         "name": "Adventure,Biography,Drama",
         "orientation": "v",
         "showlegend": true,
         "type": "scatter",
         "x": [
          8.3,
          8.1,
          8.2
         ],
         "xaxis": "x",
         "y": [
          45720631,
          56675895,
          14480
         ],
         "yaxis": "y"
        },
        {
         "hovertemplate": "<b>%{hovertext}</b><br><br>genre=Action,Adventure,Mystery<br>rating=%{x}<br>box_office=%{marker.size}<extra></extra>",
         "hovertext": [
          "North by Northwest"
         ],
         "legendgroup": "Action,Adventure,Mystery",
         "marker": {
          "color": "#19d3f3",
          "size": [
           142319
          ],
          "sizemode": "area",
          "sizeref": 6998597.75,
          "symbol": "circle"
         },
         "mode": "markers",
         "name": "Action,Adventure,Mystery",
         "orientation": "v",
         "showlegend": true,
         "type": "scatter",
         "x": [
          8.3
         ],
         "xaxis": "x",
         "y": [
          142319
         ],
         "yaxis": "y"
        },
        {
         "hovertemplate": "<b>%{hovertext}</b><br><br>genre=Mystery,Romance,Thriller<br>rating=%{x}<br>box_office=%{marker.size}<extra></extra>",
         "hovertext": [
          "Vertigo"
         ],
         "legendgroup": "Mystery,Romance,Thriller",
         "marker": {
          "color": "#FF6692",
          "size": [
           7798146
          ],
          "sizemode": "area",
          "sizeref": 6998597.75,
          "symbol": "circle"
         },
         "mode": "markers",
         "name": "Mystery,Romance,Thriller",
         "orientation": "v",
         "showlegend": true,
         "type": "scatter",
         "x": [
          8.3
         ],
         "xaxis": "x",
         "y": [
          7798146
         ],
         "yaxis": "y"
        },
        {
         "hovertemplate": "<b>%{hovertext}</b><br><br>genre=Comedy,Romance<br>rating=%{x}<br>box_office=%{marker.size}<extra></extra>",
         "hovertext": [
          "Amélie",
          "It Happened One Night"
         ],
         "legendgroup": "Comedy,Romance",
         "marker": {
          "color": "#B6E880",
          "size": [
           174122191,
           11477
          ],
          "sizemode": "area",
          "sizeref": 6998597.75,
          "symbol": "circle"
         },
         "mode": "markers",
         "name": "Comedy,Romance",
         "orientation": "v",
         "showlegend": true,
         "type": "scatter",
         "x": [
          8.3,
          8.1
         ],
         "xaxis": "x",
         "y": [
          174122191,
          11477
         ],
         "yaxis": "y"
        },
        {
         "hovertemplate": "<b>%{hovertext}</b><br><br>genre=Crime,Sci-Fi<br>rating=%{x}<br>box_office=%{marker.size}<extra></extra>",
         "hovertext": [
          "A Clockwork Orange"
         ],
         "legendgroup": "Crime,Sci-Fi",
         "marker": {
          "color": "#FF97FF",
          "size": [
           26960374
          ],
          "sizemode": "area",
          "sizeref": 6998597.75,
          "symbol": "circle"
         },
         "mode": "markers",
         "name": "Crime,Sci-Fi",
         "orientation": "v",
         "showlegend": true,
         "type": "scatter",
         "x": [
          8.3
         ],
         "xaxis": "x",
         "y": [
          26960374
         ],
         "yaxis": "y"
        },
        {
         "hovertemplate": "<b>%{hovertext}</b><br><br>genre=Crime,Drama,Film-Noir<br>rating=%{x}<br>box_office=%{marker.size}<extra></extra>",
         "hovertext": [
          "Double Indemnity"
         ],
         "legendgroup": "Crime,Drama,Film-Noir",
         "marker": {
          "color": "#FECB52",
          "size": [
           14651
          ],
          "sizemode": "area",
          "sizeref": 6998597.75,
          "symbol": "circle"
         },
         "mode": "markers",
         "name": "Crime,Drama,Film-Noir",
         "orientation": "v",
         "showlegend": true,
         "type": "scatter",
         "x": [
          8.3
         ],
         "xaxis": "x",
         "y": [
          14651
         ],
         "yaxis": "y"
        },
        {
         "hovertemplate": "<b>%{hovertext}</b><br><br>genre=Comedy,Crime,Drama<br>rating=%{x}<br>box_office=%{marker.size}<extra></extra>",
         "hovertext": [
          "The Sting",
          "Three Billboards Outside Ebbing, Missouri"
         ],
         "legendgroup": "Comedy,Crime,Drama",
         "marker": {
          "color": "#636efa",
          "size": [
           156000000,
           162861289
          ],
          "sizemode": "area",
          "sizeref": 6998597.75,
          "symbol": "circle"
         },
         "mode": "markers",
         "name": "Comedy,Crime,Drama",
         "orientation": "v",
         "showlegend": true,
         "type": "scatter",
         "x": [
          8.3,
          8.1
         ],
         "xaxis": "x",
         "y": [
          156000000,
          162861289
         ],
         "yaxis": "y"
        },
        {
         "hovertemplate": "<b>%{hovertext}</b><br><br>genre=Drama,Sci-Fi<br>rating=%{x}<br>box_office=%{marker.size}<extra></extra>",
         "hovertext": [
          "Metropolis"
         ],
         "legendgroup": "Drama,Sci-Fi",
         "marker": {
          "color": "#EF553B",
          "size": [
           1349711
          ],
          "sizemode": "area",
          "sizeref": 6998597.75,
          "symbol": "circle"
         },
         "mode": "markers",
         "name": "Drama,Sci-Fi",
         "orientation": "v",
         "showlegend": true,
         "type": "scatter",
         "x": [
          8.3
         ],
         "xaxis": "x",
         "y": [
          1349711
         ],
         "yaxis": "y"
        },
        {
         "hovertemplate": "<b>%{hovertext}</b><br><br>genre=Action,Thriller<br>rating=%{x}<br>box_office=%{marker.size}<extra></extra>",
         "hovertext": [
          "Die Hard"
         ],
         "legendgroup": "Action,Thriller",
         "marker": {
          "color": "#00cc96",
          "size": [
           141603197
          ],
          "sizemode": "area",
          "sizeref": 6998597.75,
          "symbol": "circle"
         },
         "mode": "markers",
         "name": "Action,Thriller",
         "orientation": "v",
         "showlegend": true,
         "type": "scatter",
         "x": [
          8.2
         ],
         "xaxis": "x",
         "y": [
          141603197
         ],
         "yaxis": "y"
        },
        {
         "hovertemplate": "<b>%{hovertext}</b><br><br>genre=Comedy,Crime<br>rating=%{x}<br>box_office=%{marker.size}<extra></extra>",
         "hovertext": [
          "Snatch",
          "The Big Lebowski"
         ],
         "legendgroup": "Comedy,Crime",
         "marker": {
          "color": "#ab63fa",
          "size": [
           83557872,
           46969409
          ],
          "sizemode": "area",
          "sizeref": 6998597.75,
          "symbol": "circle"
         },
         "mode": "markers",
         "name": "Comedy,Crime",
         "orientation": "v",
         "showlegend": true,
         "type": "scatter",
         "x": [
          8.2,
          8.1
         ],
         "xaxis": "x",
         "y": [
          83557872,
          46969409
         ],
         "yaxis": "y"
        },
        {
         "hovertemplate": "<b>%{hovertext}</b><br><br>genre=Drama,Family<br>rating=%{x}<br>box_office=%{marker.size}<extra></extra>",
         "hovertext": [
          "Like Stars on Earth",
          "My Father and My Son"
         ],
         "legendgroup": "Drama,Family",
         "marker": {
          "color": "#FFA15A",
          "size": [
           21897373,
           0
          ],
          "sizemode": "area",
          "sizeref": 6998597.75,
          "symbol": "circle"
         },
         "mode": "markers",
         "name": "Drama,Family",
         "orientation": "v",
         "showlegend": true,
         "type": "scatter",
         "x": [
          8.3,
          8.2
         ],
         "xaxis": "x",
         "y": [
          21897373,
          0
         ],
         "yaxis": "y"
        },
        {
         "hovertemplate": "<b>%{hovertext}</b><br><br>genre=Action,Drama,War<br>rating=%{x}<br>box_office=%{marker.size}<extra></extra>",
         "hovertext": [
          "1917",
          "Ran"
         ],
         "legendgroup": "Action,Drama,War",
         "marker": {
          "color": "#19d3f3",
          "size": [
           384479940,
           4164283
          ],
          "sizemode": "area",
          "sizeref": 6998597.75,
          "symbol": "circle"
         },
         "mode": "markers",
         "name": "Action,Drama,War",
         "orientation": "v",
         "showlegend": true,
         "type": "scatter",
         "x": [
          8.2,
          8.2
         ],
         "xaxis": "x",
         "y": [
          384479940,
          4164283
         ],
         "yaxis": "y"
        },
        {
         "hovertemplate": "<b>%{hovertext}</b><br><br>genre=Action,Biography,Drama<br>rating=%{x}<br>box_office=%{marker.size}<extra></extra>",
         "hovertext": [
          "Dangal",
          "Ford v Ferrari",
          "Rush"
         ],
         "legendgroup": "Action,Biography,Drama",
         "marker": {
          "color": "#FF6692",
          "size": [
           0,
           225508210,
           96983009
          ],
          "sizemode": "area",
          "sizeref": 6998597.75,
          "symbol": "circle"
         },
         "mode": "markers",
         "name": "Action,Biography,Drama",
         "orientation": "v",
         "showlegend": true,
         "type": "scatter",
         "x": [
          8.3,
          8.1,
          8.1
         ],
         "xaxis": "x",
         "y": [
          0,
          225508210,
          96983009
         ],
         "yaxis": "y"
        },
        {
         "hovertemplate": "<b>%{hovertext}</b><br><br>genre=Comedy,Drama,Family<br>rating=%{x}<br>box_office=%{marker.size}<extra></extra>",
         "hovertext": [
          "The Kid"
         ],
         "legendgroup": "Comedy,Drama,Family",
         "marker": {
          "color": "#B6E880",
          "size": [
           41960
          ],
          "sizemode": "area",
          "sizeref": 6998597.75,
          "symbol": "circle"
         },
         "mode": "markers",
         "name": "Comedy,Drama,Family",
         "orientation": "v",
         "showlegend": true,
         "type": "scatter",
         "x": [
          8.3
         ],
         "xaxis": "x",
         "y": [
          41960
         ],
         "yaxis": "y"
        },
        {
         "hovertemplate": "<b>%{hovertext}</b><br><br>genre=Comedy,Music,Romance<br>rating=%{x}<br>box_office=%{marker.size}<extra></extra>",
         "hovertext": [
          "Some Like It Hot"
         ],
         "legendgroup": "Comedy,Music,Romance",
         "marker": {
          "color": "#FF97FF",
          "size": [
           195088
          ],
          "sizemode": "area",
          "sizeref": 6998597.75,
          "symbol": "circle"
         },
         "mode": "markers",
         "name": "Comedy,Music,Romance",
         "orientation": "v",
         "showlegend": true,
         "type": "scatter",
         "x": [
          8.2
         ],
         "xaxis": "x",
         "y": [
          195088
         ],
         "yaxis": "y"
        },
        {
         "hovertemplate": "<b>%{hovertext}</b><br><br>genre=Biography,Comedy,Crime<br>rating=%{x}<br>box_office=%{marker.size}<extra></extra>",
         "hovertext": [
          "The Wolf of Wall Street"
         ],
         "legendgroup": "Biography,Comedy,Crime",
         "marker": {
          "color": "#FECB52",
          "size": [
           406878233
          ],
          "sizemode": "area",
          "sizeref": 6998597.75,
          "symbol": "circle"
         },
         "mode": "markers",
         "name": "Biography,Comedy,Crime",
         "orientation": "v",
         "showlegend": true,
         "type": "scatter",
         "x": [
          8.2
         ],
         "xaxis": "x",
         "y": [
          406878233
         ],
         "yaxis": "y"
        },
        {
         "hovertemplate": "<b>%{hovertext}</b><br><br>genre=Drama,Fantasy,War<br>rating=%{x}<br>box_office=%{marker.size}<extra></extra>",
         "hovertext": [
          "Pan's Labyrinth"
         ],
         "legendgroup": "Drama,Fantasy,War",
         "marker": {
          "color": "#636efa",
          "size": [
           83862032
          ],
          "sizemode": "area",
          "sizeref": 6998597.75,
          "symbol": "circle"
         },
         "mode": "markers",
         "name": "Drama,Fantasy,War",
         "orientation": "v",
         "showlegend": true,
         "type": "scatter",
         "x": [
          8.2
         ],
         "xaxis": "x",
         "y": [
          83862032
         ],
         "yaxis": "y"
        },
        {
         "hovertemplate": "<b>%{hovertext}</b><br><br>genre=Biography,Drama<br>rating=%{x}<br>box_office=%{marker.size}<extra></extra>",
         "hovertext": [
          "A Beautiful Mind",
          "The Elephant Man"
         ],
         "legendgroup": "Biography,Drama",
         "marker": {
          "color": "#EF553B",
          "size": [
           316791257,
           26023860
          ],
          "sizemode": "area",
          "sizeref": 6998597.75,
          "symbol": "circle"
         },
         "mode": "markers",
         "name": "Biography,Drama",
         "orientation": "v",
         "showlegend": true,
         "type": "scatter",
         "x": [
          8.2,
          8.2
         ],
         "xaxis": "x",
         "y": [
          316791257,
          26023860
         ],
         "yaxis": "y"
        },
        {
         "hovertemplate": "<b>%{hovertext}</b><br><br>genre=Action,Drama,Thriller<br>rating=%{x}<br>box_office=%{marker.size}<extra></extra>",
         "hovertext": [
          "Yojimbo"
         ],
         "legendgroup": "Action,Drama,Thriller",
         "marker": {
          "color": "#00cc96",
          "size": [
           46808
          ],
          "sizemode": "area",
          "sizeref": 6998597.75,
          "symbol": "circle"
         },
         "mode": "markers",
         "name": "Action,Drama,Thriller",
         "orientation": "v",
         "showlegend": true,
         "type": "scatter",
         "x": [
          8.2
         ],
         "xaxis": "x",
         "y": [
          46808
         ],
         "yaxis": "y"
        },
        {
         "hovertemplate": "<b>%{hovertext}</b><br><br>genre=Adventure,Drama,Western<br>rating=%{x}<br>box_office=%{marker.size}<extra></extra>",
         "hovertext": [
          "The Treasure of the Sierra Madre",
          "Dances with Wolves"
         ],
         "legendgroup": "Adventure,Drama,Western",
         "marker": {
          "color": "#ab63fa",
          "size": [
           5014000,
           424208848
          ],
          "sizemode": "area",
          "sizeref": 6998597.75,
          "symbol": "circle"
         },
         "mode": "markers",
         "name": "Adventure,Drama,Western",
         "orientation": "v",
         "showlegend": true,
         "type": "scatter",
         "x": [
          8.2,
          8
         ],
         "xaxis": "x",
         "y": [
          5014000,
          424208848
         ],
         "yaxis": "y"
        },
        {
         "hovertemplate": "<b>%{hovertext}</b><br><br>genre=Adventure,Comedy,Fantasy<br>rating=%{x}<br>box_office=%{marker.size}<extra></extra>",
         "hovertext": [
          "Monty Python and the Holy Grail"
         ],
         "legendgroup": "Adventure,Comedy,Fantasy",
         "marker": {
          "color": "#FFA15A",
          "size": [
           1940906
          ],
          "sizemode": "area",
          "sizeref": 6998597.75,
          "symbol": "circle"
         },
         "mode": "markers",
         "name": "Adventure,Comedy,Fantasy",
         "orientation": "v",
         "showlegend": true,
         "type": "scatter",
         "x": [
          8.2
         ],
         "xaxis": "x",
         "y": [
          1940906
         ],
         "yaxis": "y"
        },
        {
         "hovertemplate": "<b>%{hovertext}</b><br><br>genre=Adventure,Drama,History<br>rating=%{x}<br>box_office=%{marker.size}<extra></extra>",
         "hovertext": [
          "The Great Escape"
         ],
         "legendgroup": "Adventure,Drama,History",
         "marker": {
          "color": "#19d3f3",
          "size": [
           228178
          ],
          "sizemode": "area",
          "sizeref": 6998597.75,
          "symbol": "circle"
         },
         "mode": "markers",
         "name": "Adventure,Drama,History",
         "orientation": "v",
         "showlegend": true,
         "type": "scatter",
         "x": [
          8.2
         ],
         "xaxis": "x",
         "y": [
          228178
         ],
         "yaxis": "y"
        },
        {
         "hovertemplate": "<b>%{hovertext}</b><br><br>genre=Horror,Mystery,Sci-Fi<br>rating=%{x}<br>box_office=%{marker.size}<extra></extra>",
         "hovertext": [
          "The Thing"
         ],
         "legendgroup": "Horror,Mystery,Sci-Fi",
         "marker": {
          "color": "#FF6692",
          "size": [
           19632715
          ],
          "sizemode": "area",
          "sizeref": 6998597.75,
          "symbol": "circle"
         },
         "mode": "markers",
         "name": "Horror,Mystery,Sci-Fi",
         "orientation": "v",
         "showlegend": true,
         "type": "scatter",
         "x": [
          8.2
         ],
         "xaxis": "x",
         "y": [
          19632715
         ],
         "yaxis": "y"
        },
        {
         "hovertemplate": "<b>%{hovertext}</b><br><br>genre=Biography,Drama,Sport<br>rating=%{x}<br>box_office=%{marker.size}<extra></extra>",
         "hovertext": [
          "Raging Bull"
         ],
         "legendgroup": "Biography,Drama,Sport",
         "marker": {
          "color": "#B6E880",
          "size": [
           23402427
          ],
          "sizemode": "area",
          "sizeref": 6998597.75,
          "symbol": "circle"
         },
         "mode": "markers",
         "name": "Biography,Drama,Sport",
         "orientation": "v",
         "showlegend": true,
         "type": "scatter",
         "x": [
          8.2
         ],
         "xaxis": "x",
         "y": [
          23402427
         ],
         "yaxis": "y"
        },
        {
         "hovertemplate": "<b>%{hovertext}</b><br><br>genre=Action,Drama,Sci-Fi<br>rating=%{x}<br>box_office=%{marker.size}<extra></extra>",
         "hovertext": [
          "V for Vendetta",
          "Blade Runner",
          "Logan"
         ],
         "legendgroup": "Action,Drama,Sci-Fi",
         "marker": {
          "color": "#FF97FF",
          "size": [
           134686457,
           41722424,
           619179950
          ],
          "sizemode": "area",
          "sizeref": 6998597.75,
          "symbol": "circle"
         },
         "mode": "markers",
         "name": "Action,Drama,Sci-Fi",
         "orientation": "v",
         "showlegend": true,
         "type": "scatter",
         "x": [
          8.2,
          8.1,
          8.1
         ],
         "xaxis": "x",
         "y": [
          134686457,
          41722424,
          619179950
         ],
         "yaxis": "y"
        },
        {
         "hovertemplate": "<b>%{hovertext}</b><br><br>genre=Action,Comedy,Crime<br>rating=%{x}<br>box_office=%{marker.size}<extra></extra>",
         "hovertext": [
          "Lock, Stock and Two Smoking Barrels"
         ],
         "legendgroup": "Action,Comedy,Crime",
         "marker": {
          "color": "#FECB52",
          "size": [
           3753929
          ],
          "sizemode": "area",
          "sizeref": 6998597.75,
          "symbol": "circle"
         },
         "mode": "markers",
         "name": "Action,Comedy,Crime",
         "orientation": "v",
         "showlegend": true,
         "type": "scatter",
         "x": [
          8.2
         ],
         "xaxis": "x",
         "y": [
          3753929
         ],
         "yaxis": "y"
        },
        {
         "hovertemplate": "<b>%{hovertext}</b><br><br>genre=Drama,Mystery,Romance<br>rating=%{x}<br>box_office=%{marker.size}<extra></extra>",
         "hovertext": [
          "The Secret in Their Eyes"
         ],
         "legendgroup": "Drama,Mystery,Romance",
         "marker": {
          "color": "#636efa",
          "size": [
           0
          ],
          "sizemode": "area",
          "sizeref": 6998597.75,
          "symbol": "circle"
         },
         "mode": "markers",
         "name": "Drama,Mystery,Romance",
         "orientation": "v",
         "showlegend": true,
         "type": "scatter",
         "x": [
          8.2
         ],
         "xaxis": "x",
         "y": [
          0
         ],
         "yaxis": "y"
        },
        {
         "hovertemplate": "<b>%{hovertext}</b><br><br>genre=Action,Drama,Sport<br>rating=%{x}<br>box_office=%{marker.size}<extra></extra>",
         "hovertext": [
          "Warrior"
         ],
         "legendgroup": "Action,Drama,Sport",
         "marker": {
          "color": "#EF553B",
          "size": [
           23308615
          ],
          "sizemode": "area",
          "sizeref": 6998597.75,
          "symbol": "circle"
         },
         "mode": "markers",
         "name": "Action,Drama,Sport",
         "orientation": "v",
         "showlegend": true,
         "type": "scatter",
         "x": [
          8.2
         ],
         "xaxis": "x",
         "y": [
          23308615
         ],
         "yaxis": "y"
        },
        {
         "hovertemplate": "<b>%{hovertext}</b><br><br>genre=Animation,Comedy,Family<br>rating=%{x}<br>box_office=%{marker.size}<extra></extra>",
         "hovertext": [
          "My Neighbor Totoro"
         ],
         "legendgroup": "Animation,Comedy,Family",
         "marker": {
          "color": "#00cc96",
          "size": [
           0
          ],
          "sizemode": "area",
          "sizeref": 6998597.75,
          "symbol": "circle"
         },
         "mode": "markers",
         "name": "Animation,Comedy,Family",
         "orientation": "v",
         "showlegend": true,
         "type": "scatter",
         "x": [
          8.1
         ],
         "xaxis": "x",
         "y": [
          0
         ],
         "yaxis": "y"
        },
        {
         "hovertemplate": "<b>%{hovertext}</b><br><br>genre=Drama,Sport<br>rating=%{x}<br>box_office=%{marker.size}<extra></extra>",
         "hovertext": [
          "Million Dollar Baby",
          "Rocky"
         ],
         "legendgroup": "Drama,Sport",
         "marker": {
          "color": "#ab63fa",
          "size": [
           216763646,
           117250402
          ],
          "sizemode": "area",
          "sizeref": 6998597.75,
          "symbol": "circle"
         },
         "mode": "markers",
         "name": "Drama,Sport",
         "orientation": "v",
         "showlegend": true,
         "type": "scatter",
         "x": [
          8.1,
          8.1
         ],
         "xaxis": "x",
         "y": [
          216763646,
          117250402
         ],
         "yaxis": "y"
        },
        {
         "hovertemplate": "<b>%{hovertext}</b><br><br>genre=Drama,Family,Sport<br>rating=%{x}<br>box_office=%{marker.size}<extra></extra>",
         "hovertext": [
          "Children of Heaven"
         ],
         "legendgroup": "Drama,Family,Sport",
         "marker": {
          "color": "#FFA15A",
          "size": [
           0
          ],
          "sizemode": "area",
          "sizeref": 6998597.75,
          "symbol": "circle"
         },
         "mode": "markers",
         "name": "Drama,Family,Sport",
         "orientation": "v",
         "showlegend": true,
         "type": "scatter",
         "x": [
          8.2
         ],
         "xaxis": "x",
         "y": [
          0
         ],
         "yaxis": "y"
        },
        {
         "hovertemplate": "<b>%{hovertext}</b><br><br>genre=Adventure,Comedy,Drama<br>rating=%{x}<br>box_office=%{marker.size}<extra></extra>",
         "hovertext": [
          "The Gold Rush"
         ],
         "legendgroup": "Adventure,Comedy,Drama",
         "marker": {
          "color": "#19d3f3",
          "size": [
           29328
          ],
          "sizemode": "area",
          "sizeref": 6998597.75,
          "symbol": "circle"
         },
         "mode": "markers",
         "name": "Adventure,Comedy,Drama",
         "orientation": "v",
         "showlegend": true,
         "type": "scatter",
         "x": [
          8.1
         ],
         "xaxis": "x",
         "y": [
          29328
         ],
         "yaxis": "y"
        },
        {
         "hovertemplate": "<b>%{hovertext}</b><br><br>genre=Adventure,Family,Fantasy<br>rating=%{x}<br>box_office=%{marker.size}<extra></extra>",
         "hovertext": [
          "Harry Potter and the Deathly Hallows: Part 2",
          "The Wizard of Oz"
         ],
         "legendgroup": "Adventure,Family,Fantasy",
         "marker": {
          "color": "#FF6692",
          "size": [
           1342359942,
           25637669
          ],
          "sizemode": "area",
          "sizeref": 6998597.75,
          "symbol": "circle"
         },
         "mode": "markers",
         "name": "Adventure,Family,Fantasy",
         "orientation": "v",
         "showlegend": true,
         "type": "scatter",
         "x": [
          8.1,
          8.1
         ],
         "xaxis": "x",
         "y": [
          1342359942,
          25637669
         ],
         "yaxis": "y"
        },
        {
         "hovertemplate": "<b>%{hovertext}</b><br><br>genre=Adventure,Drama<br>rating=%{x}<br>box_office=%{marker.size}<extra></extra>",
         "hovertext": [
          "Ben-Hur",
          "Stand by Me"
         ],
         "legendgroup": "Adventure,Drama",
         "marker": {
          "color": "#B6E880",
          "size": [
           74437720,
           52287414
          ],
          "sizemode": "area",
          "sizeref": 6998597.75,
          "symbol": "circle"
         },
         "mode": "markers",
         "name": "Adventure,Drama",
         "orientation": "v",
         "showlegend": true,
         "type": "scatter",
         "x": [
          8.1,
          8.1
         ],
         "xaxis": "x",
         "y": [
          74437720,
          52287414
         ],
         "yaxis": "y"
        },
        {
         "hovertemplate": "<b>%{hovertext}</b><br><br>genre=Adventure,Comedy,Crime<br>rating=%{x}<br>box_office=%{marker.size}<extra></extra>",
         "hovertext": [
          "The Grand Budapest Hotel"
         ],
         "legendgroup": "Adventure,Comedy,Crime",
         "marker": {
          "color": "#FF97FF",
          "size": [
           173082189
          ],
          "sizemode": "area",
          "sizeref": 6998597.75,
          "symbol": "circle"
         },
         "mode": "markers",
         "name": "Adventure,Comedy,Crime",
         "orientation": "v",
         "showlegend": true,
         "type": "scatter",
         "x": [
          8.1
         ],
         "xaxis": "x",
         "y": [
          173082189
         ],
         "yaxis": "y"
        },
        {
         "hovertemplate": "<b>%{hovertext}</b><br><br>genre=Film-Noir,Mystery,Thriller<br>rating=%{x}<br>box_office=%{marker.size}<extra></extra>",
         "hovertext": [
          "The Third Man"
         ],
         "legendgroup": "Film-Noir,Mystery,Thriller",
         "marker": {
          "color": "#FECB52",
          "size": [
           1226507
          ],
          "sizemode": "area",
          "sizeref": 6998597.75,
          "symbol": "circle"
         },
         "mode": "markers",
         "name": "Film-Noir,Mystery,Thriller",
         "orientation": "v",
         "showlegend": true,
         "type": "scatter",
         "x": [
          8.1
         ],
         "xaxis": "x",
         "y": [
          1226507
         ],
         "yaxis": "y"
        },
        {
         "hovertemplate": "<b>%{hovertext}</b><br><br>genre=Adventure,Drama,Thriller<br>rating=%{x}<br>box_office=%{marker.size}<extra></extra>",
         "hovertext": [
          "The Wages of Fear"
         ],
         "legendgroup": "Adventure,Drama,Thriller",
         "marker": {
          "color": "#636efa",
          "size": [
           1098
          ],
          "sizemode": "area",
          "sizeref": 6998597.75,
          "symbol": "circle"
         },
         "mode": "markers",
         "name": "Adventure,Drama,Thriller",
         "orientation": "v",
         "showlegend": true,
         "type": "scatter",
         "x": [
          8.2
         ],
         "xaxis": "x",
         "y": [
          1098
         ],
         "yaxis": "y"
        },
        {
         "hovertemplate": "<b>%{hovertext}</b><br><br>genre=Action,Comedy,Romance<br>rating=%{x}<br>box_office=%{marker.size}<extra></extra>",
         "hovertext": [
          "Sherlock Jr."
         ],
         "legendgroup": "Action,Comedy,Romance",
         "marker": {
          "color": "#EF553B",
          "size": [
           0
          ],
          "sizemode": "area",
          "sizeref": 6998597.75,
          "symbol": "circle"
         },
         "mode": "markers",
         "name": "Action,Comedy,Romance",
         "orientation": "v",
         "showlegend": true,
         "type": "scatter",
         "x": [
          8.2
         ],
         "xaxis": "x",
         "y": [
          0
         ],
         "yaxis": "y"
        },
        {
         "hovertemplate": "<b>%{hovertext}</b><br><br>genre=Comedy,Drama,Thriller<br>rating=%{x}<br>box_office=%{marker.size}<extra></extra>",
         "hovertext": [
          "Wild Tales"
         ],
         "legendgroup": "Comedy,Drama,Thriller",
         "marker": {
          "color": "#00cc96",
          "size": [
           0
          ],
          "sizemode": "area",
          "sizeref": 6998597.75,
          "symbol": "circle"
         },
         "mode": "markers",
         "name": "Comedy,Drama,Thriller",
         "orientation": "v",
         "showlegend": true,
         "type": "scatter",
         "x": [
          8.1
         ],
         "xaxis": "x",
         "y": [
          0
         ],
         "yaxis": "y"
        },
        {
         "hovertemplate": "<b>%{hovertext}</b><br><br>genre=Drama,Fantasy<br>rating=%{x}<br>box_office=%{marker.size}<extra></extra>",
         "hovertext": [
          "The Seventh Seal"
         ],
         "legendgroup": "Drama,Fantasy",
         "marker": {
          "color": "#ab63fa",
          "size": [
           311212
          ],
          "sizemode": "area",
          "sizeref": 6998597.75,
          "symbol": "circle"
         },
         "mode": "markers",
         "name": "Drama,Fantasy",
         "orientation": "v",
         "showlegend": true,
         "type": "scatter",
         "x": [
          8.1
         ],
         "xaxis": "x",
         "y": [
          311212
         ],
         "yaxis": "y"
        },
        {
         "hovertemplate": "<b>%{hovertext}</b><br><br>genre=Animation,Comedy,Drama<br>rating=%{x}<br>box_office=%{marker.size}<extra></extra>",
         "hovertext": [
          "Mary and Max"
         ],
         "legendgroup": "Animation,Comedy,Drama",
         "marker": {
          "color": "#FFA15A",
          "size": [
           1740429
          ],
          "sizemode": "area",
          "sizeref": 6998597.75,
          "symbol": "circle"
         },
         "mode": "markers",
         "name": "Animation,Comedy,Drama",
         "orientation": "v",
         "showlegend": true,
         "type": "scatter",
         "x": [
          8.1
         ],
         "xaxis": "x",
         "y": [
          1740429
         ],
         "yaxis": "y"
        },
        {
         "hovertemplate": "<b>%{hovertext}</b><br><br>genre=Adventure,Thriller<br>rating=%{x}<br>box_office=%{marker.size}<extra></extra>",
         "hovertext": [
          "Jaws"
         ],
         "legendgroup": "Adventure,Thriller",
         "marker": {
          "color": "#19d3f3",
          "size": [
           476512065
          ],
          "sizemode": "area",
          "sizeref": 6998597.75,
          "symbol": "circle"
         },
         "mode": "markers",
         "name": "Adventure,Thriller",
         "orientation": "v",
         "showlegend": true,
         "type": "scatter",
         "x": [
          8.1
         ],
         "xaxis": "x",
         "y": [
          476512065
         ],
         "yaxis": "y"
        },
        {
         "hovertemplate": "<b>%{hovertext}</b><br><br>genre=Comedy,Drama,Fantasy<br>rating=%{x}<br>box_office=%{marker.size}<extra></extra>",
         "hovertext": [
          "Groundhog Day"
         ],
         "legendgroup": "Comedy,Drama,Fantasy",
         "marker": {
          "color": "#FF6692",
          "size": [
           71108591
          ],
          "sizemode": "area",
          "sizeref": 6998597.75,
          "symbol": "circle"
         },
         "mode": "markers",
         "name": "Comedy,Drama,Fantasy",
         "orientation": "v",
         "showlegend": true,
         "type": "scatter",
         "x": [
          8.1
         ],
         "xaxis": "x",
         "y": [
          71108591
         ],
         "yaxis": "y"
        },
        {
         "hovertemplate": "<b>%{hovertext}</b><br><br>genre=Horror<br>rating=%{x}<br>box_office=%{marker.size}<extra></extra>",
         "hovertext": [
          "The Exorcist"
         ],
         "legendgroup": "Horror",
         "marker": {
          "color": "#B6E880",
          "size": [
           441306145
          ],
          "sizemode": "area",
          "sizeref": 6998597.75,
          "symbol": "circle"
         },
         "mode": "markers",
         "name": "Horror",
         "orientation": "v",
         "showlegend": true,
         "type": "scatter",
         "x": [
          8.1
         ],
         "xaxis": "x",
         "y": [
          441306145
         ],
         "yaxis": "y"
        },
        {
         "hovertemplate": "<b>%{hovertext}</b><br><br>genre=Comedy,Romance,War<br>rating=%{x}<br>box_office=%{marker.size}<extra></extra>",
         "hovertext": [
          "To Be or Not to Be"
         ],
         "legendgroup": "Comedy,Romance,War",
         "marker": {
          "color": "#FF97FF",
          "size": [
           0
          ],
          "sizemode": "area",
          "sizeref": 6998597.75,
          "symbol": "circle"
         },
         "mode": "markers",
         "name": "Comedy,Romance,War",
         "orientation": "v",
         "showlegend": true,
         "type": "scatter",
         "x": [
          8.2
         ],
         "xaxis": "x",
         "y": [
          0
         ],
         "yaxis": "y"
        },
        {
         "hovertemplate": "<b>%{hovertext}</b><br><br>genre=Biography,Drama,Family<br>rating=%{x}<br>box_office=%{marker.size}<extra></extra>",
         "hovertext": [
          "Hachi: A Dog's Tale",
          "The Sound of Music"
         ],
         "legendgroup": "Biography,Drama,Family",
         "marker": {
          "color": "#FECB52",
          "size": [
           0,
           159428329
          ],
          "sizemode": "area",
          "sizeref": 6998597.75,
          "symbol": "circle"
         },
         "mode": "markers",
         "name": "Biography,Drama,Family",
         "orientation": "v",
         "showlegend": true,
         "type": "scatter",
         "x": [
          8.1,
          8.1
         ],
         "xaxis": "x",
         "y": [
          0,
          159428329
         ],
         "yaxis": "y"
        },
        {
         "hovertemplate": "<b>%{hovertext}</b><br><br>genre=Drama,Film-Noir,Mystery<br>rating=%{x}<br>box_office=%{marker.size}<extra></extra>",
         "hovertext": [
          "Rebecca"
         ],
         "legendgroup": "Drama,Film-Noir,Mystery",
         "marker": {
          "color": "#636efa",
          "size": [
           72275
          ],
          "sizemode": "area",
          "sizeref": 6998597.75,
          "symbol": "circle"
         },
         "mode": "markers",
         "name": "Drama,Film-Noir,Mystery",
         "orientation": "v",
         "showlegend": true,
         "type": "scatter",
         "x": [
          8.1
         ],
         "xaxis": "x",
         "y": [
          72275
         ],
         "yaxis": "y"
        },
        {
         "hovertemplate": "<b>%{hovertext}</b><br><br>genre=Drama,Romance,Thriller<br>rating=%{x}<br>box_office=%{marker.size}<extra></extra>",
         "hovertext": [
          "The Handmaiden"
         ],
         "legendgroup": "Drama,Romance,Thriller",
         "marker": {
          "color": "#EF553B",
          "size": [
           0
          ],
          "sizemode": "area",
          "sizeref": 6998597.75,
          "symbol": "circle"
         },
         "mode": "markers",
         "name": "Drama,Romance,Thriller",
         "orientation": "v",
         "showlegend": true,
         "type": "scatter",
         "x": [
          8.1
         ],
         "xaxis": "x",
         "y": [
          0
         ],
         "yaxis": "y"
        },
        {
         "hovertemplate": "<b>%{hovertext}</b><br><br>genre=Comedy<br>rating=%{x}<br>box_office=%{marker.size}<extra></extra>",
         "hovertext": [
          "Life of Brian"
         ],
         "legendgroup": "Comedy",
         "marker": {
          "color": "#00cc96",
          "size": [
           20745728
          ],
          "sizemode": "area",
          "sizeref": 6998597.75,
          "symbol": "circle"
         },
         "mode": "markers",
         "name": "Comedy",
         "orientation": "v",
         "showlegend": true,
         "type": "scatter",
         "x": [
          8
         ],
         "xaxis": "x",
         "y": [
          20745728
         ],
         "yaxis": "y"
        }
       ],
       "layout": {
        "legend": {
         "itemsizing": "constant",
         "title": {
          "text": "genre"
         },
         "tracegroupgap": 0
        },
        "template": {
         "data": {
          "bar": [
           {
            "error_x": {
             "color": "#2a3f5f"
            },
            "error_y": {
             "color": "#2a3f5f"
            },
            "marker": {
             "line": {
              "color": "#E5ECF6",
              "width": 0.5
             },
             "pattern": {
              "fillmode": "overlay",
              "size": 10,
              "solidity": 0.2
             }
            },
            "type": "bar"
           }
          ],
          "barpolar": [
           {
            "marker": {
             "line": {
              "color": "#E5ECF6",
              "width": 0.5
             },
             "pattern": {
              "fillmode": "overlay",
              "size": 10,
              "solidity": 0.2
             }
            },
            "type": "barpolar"
           }
          ],
          "carpet": [
           {
            "aaxis": {
             "endlinecolor": "#2a3f5f",
             "gridcolor": "white",
             "linecolor": "white",
             "minorgridcolor": "white",
             "startlinecolor": "#2a3f5f"
            },
            "baxis": {
             "endlinecolor": "#2a3f5f",
             "gridcolor": "white",
             "linecolor": "white",
             "minorgridcolor": "white",
             "startlinecolor": "#2a3f5f"
            },
            "type": "carpet"
           }
          ],
          "choropleth": [
           {
            "colorbar": {
             "outlinewidth": 0,
             "ticks": ""
            },
            "type": "choropleth"
           }
          ],
          "contour": [
           {
            "colorbar": {
             "outlinewidth": 0,
             "ticks": ""
            },
            "colorscale": [
             [
              0,
              "#0d0887"
             ],
             [
              0.1111111111111111,
              "#46039f"
             ],
             [
              0.2222222222222222,
              "#7201a8"
             ],
             [
              0.3333333333333333,
              "#9c179e"
             ],
             [
              0.4444444444444444,
              "#bd3786"
             ],
             [
              0.5555555555555556,
              "#d8576b"
             ],
             [
              0.6666666666666666,
              "#ed7953"
             ],
             [
              0.7777777777777778,
              "#fb9f3a"
             ],
             [
              0.8888888888888888,
              "#fdca26"
             ],
             [
              1,
              "#f0f921"
             ]
            ],
            "type": "contour"
           }
          ],
          "contourcarpet": [
           {
            "colorbar": {
             "outlinewidth": 0,
             "ticks": ""
            },
            "type": "contourcarpet"
           }
          ],
          "heatmap": [
           {
            "colorbar": {
             "outlinewidth": 0,
             "ticks": ""
            },
            "colorscale": [
             [
              0,
              "#0d0887"
             ],
             [
              0.1111111111111111,
              "#46039f"
             ],
             [
              0.2222222222222222,
              "#7201a8"
             ],
             [
              0.3333333333333333,
              "#9c179e"
             ],
             [
              0.4444444444444444,
              "#bd3786"
             ],
             [
              0.5555555555555556,
              "#d8576b"
             ],
             [
              0.6666666666666666,
              "#ed7953"
             ],
             [
              0.7777777777777778,
              "#fb9f3a"
             ],
             [
              0.8888888888888888,
              "#fdca26"
             ],
             [
              1,
              "#f0f921"
             ]
            ],
            "type": "heatmap"
           }
          ],
          "heatmapgl": [
           {
            "colorbar": {
             "outlinewidth": 0,
             "ticks": ""
            },
            "colorscale": [
             [
              0,
              "#0d0887"
             ],
             [
              0.1111111111111111,
              "#46039f"
             ],
             [
              0.2222222222222222,
              "#7201a8"
             ],
             [
              0.3333333333333333,
              "#9c179e"
             ],
             [
              0.4444444444444444,
              "#bd3786"
             ],
             [
              0.5555555555555556,
              "#d8576b"
             ],
             [
              0.6666666666666666,
              "#ed7953"
             ],
             [
              0.7777777777777778,
              "#fb9f3a"
             ],
             [
              0.8888888888888888,
              "#fdca26"
             ],
             [
              1,
              "#f0f921"
             ]
            ],
            "type": "heatmapgl"
           }
          ],
          "histogram": [
           {
            "marker": {
             "pattern": {
              "fillmode": "overlay",
              "size": 10,
              "solidity": 0.2
             }
            },
            "type": "histogram"
           }
          ],
          "histogram2d": [
           {
            "colorbar": {
             "outlinewidth": 0,
             "ticks": ""
            },
            "colorscale": [
             [
              0,
              "#0d0887"
             ],
             [
              0.1111111111111111,
              "#46039f"
             ],
             [
              0.2222222222222222,
              "#7201a8"
             ],
             [
              0.3333333333333333,
              "#9c179e"
             ],
             [
              0.4444444444444444,
              "#bd3786"
             ],
             [
              0.5555555555555556,
              "#d8576b"
             ],
             [
              0.6666666666666666,
              "#ed7953"
             ],
             [
              0.7777777777777778,
              "#fb9f3a"
             ],
             [
              0.8888888888888888,
              "#fdca26"
             ],
             [
              1,
              "#f0f921"
             ]
            ],
            "type": "histogram2d"
           }
          ],
          "histogram2dcontour": [
           {
            "colorbar": {
             "outlinewidth": 0,
             "ticks": ""
            },
            "colorscale": [
             [
              0,
              "#0d0887"
             ],
             [
              0.1111111111111111,
              "#46039f"
             ],
             [
              0.2222222222222222,
              "#7201a8"
             ],
             [
              0.3333333333333333,
              "#9c179e"
             ],
             [
              0.4444444444444444,
              "#bd3786"
             ],
             [
              0.5555555555555556,
              "#d8576b"
             ],
             [
              0.6666666666666666,
              "#ed7953"
             ],
             [
              0.7777777777777778,
              "#fb9f3a"
             ],
             [
              0.8888888888888888,
              "#fdca26"
             ],
             [
              1,
              "#f0f921"
             ]
            ],
            "type": "histogram2dcontour"
           }
          ],
          "mesh3d": [
           {
            "colorbar": {
             "outlinewidth": 0,
             "ticks": ""
            },
            "type": "mesh3d"
           }
          ],
          "parcoords": [
           {
            "line": {
             "colorbar": {
              "outlinewidth": 0,
              "ticks": ""
             }
            },
            "type": "parcoords"
           }
          ],
          "pie": [
           {
            "automargin": true,
            "type": "pie"
           }
          ],
          "scatter": [
           {
            "fillpattern": {
             "fillmode": "overlay",
             "size": 10,
             "solidity": 0.2
            },
            "type": "scatter"
           }
          ],
          "scatter3d": [
           {
            "line": {
             "colorbar": {
              "outlinewidth": 0,
              "ticks": ""
             }
            },
            "marker": {
             "colorbar": {
              "outlinewidth": 0,
              "ticks": ""
             }
            },
            "type": "scatter3d"
           }
          ],
          "scattercarpet": [
           {
            "marker": {
             "colorbar": {
              "outlinewidth": 0,
              "ticks": ""
             }
            },
            "type": "scattercarpet"
           }
          ],
          "scattergeo": [
           {
            "marker": {
             "colorbar": {
              "outlinewidth": 0,
              "ticks": ""
             }
            },
            "type": "scattergeo"
           }
          ],
          "scattergl": [
           {
            "marker": {
             "colorbar": {
              "outlinewidth": 0,
              "ticks": ""
             }
            },
            "type": "scattergl"
           }
          ],
          "scattermapbox": [
           {
            "marker": {
             "colorbar": {
              "outlinewidth": 0,
              "ticks": ""
             }
            },
            "type": "scattermapbox"
           }
          ],
          "scatterpolar": [
           {
            "marker": {
             "colorbar": {
              "outlinewidth": 0,
              "ticks": ""
             }
            },
            "type": "scatterpolar"
           }
          ],
          "scatterpolargl": [
           {
            "marker": {
             "colorbar": {
              "outlinewidth": 0,
              "ticks": ""
             }
            },
            "type": "scatterpolargl"
           }
          ],
          "scatterternary": [
           {
            "marker": {
             "colorbar": {
              "outlinewidth": 0,
              "ticks": ""
             }
            },
            "type": "scatterternary"
           }
          ],
          "surface": [
           {
            "colorbar": {
             "outlinewidth": 0,
             "ticks": ""
            },
            "colorscale": [
             [
              0,
              "#0d0887"
             ],
             [
              0.1111111111111111,
              "#46039f"
             ],
             [
              0.2222222222222222,
              "#7201a8"
             ],
             [
              0.3333333333333333,
              "#9c179e"
             ],
             [
              0.4444444444444444,
              "#bd3786"
             ],
             [
              0.5555555555555556,
              "#d8576b"
             ],
             [
              0.6666666666666666,
              "#ed7953"
             ],
             [
              0.7777777777777778,
              "#fb9f3a"
             ],
             [
              0.8888888888888888,
              "#fdca26"
             ],
             [
              1,
              "#f0f921"
             ]
            ],
            "type": "surface"
           }
          ],
          "table": [
           {
            "cells": {
             "fill": {
              "color": "#EBF0F8"
             },
             "line": {
              "color": "white"
             }
            },
            "header": {
             "fill": {
              "color": "#C8D4E3"
             },
             "line": {
              "color": "white"
             }
            },
            "type": "table"
           }
          ]
         },
         "layout": {
          "annotationdefaults": {
           "arrowcolor": "#2a3f5f",
           "arrowhead": 0,
           "arrowwidth": 1
          },
          "autotypenumbers": "strict",
          "coloraxis": {
           "colorbar": {
            "outlinewidth": 0,
            "ticks": ""
           }
          },
          "colorscale": {
           "diverging": [
            [
             0,
             "#8e0152"
            ],
            [
             0.1,
             "#c51b7d"
            ],
            [
             0.2,
             "#de77ae"
            ],
            [
             0.3,
             "#f1b6da"
            ],
            [
             0.4,
             "#fde0ef"
            ],
            [
             0.5,
             "#f7f7f7"
            ],
            [
             0.6,
             "#e6f5d0"
            ],
            [
             0.7,
             "#b8e186"
            ],
            [
             0.8,
             "#7fbc41"
            ],
            [
             0.9,
             "#4d9221"
            ],
            [
             1,
             "#276419"
            ]
           ],
           "sequential": [
            [
             0,
             "#0d0887"
            ],
            [
             0.1111111111111111,
             "#46039f"
            ],
            [
             0.2222222222222222,
             "#7201a8"
            ],
            [
             0.3333333333333333,
             "#9c179e"
            ],
            [
             0.4444444444444444,
             "#bd3786"
            ],
            [
             0.5555555555555556,
             "#d8576b"
            ],
            [
             0.6666666666666666,
             "#ed7953"
            ],
            [
             0.7777777777777778,
             "#fb9f3a"
            ],
            [
             0.8888888888888888,
             "#fdca26"
            ],
            [
             1,
             "#f0f921"
            ]
           ],
           "sequentialminus": [
            [
             0,
             "#0d0887"
            ],
            [
             0.1111111111111111,
             "#46039f"
            ],
            [
             0.2222222222222222,
             "#7201a8"
            ],
            [
             0.3333333333333333,
             "#9c179e"
            ],
            [
             0.4444444444444444,
             "#bd3786"
            ],
            [
             0.5555555555555556,
             "#d8576b"
            ],
            [
             0.6666666666666666,
             "#ed7953"
            ],
            [
             0.7777777777777778,
             "#fb9f3a"
            ],
            [
             0.8888888888888888,
             "#fdca26"
            ],
            [
             1,
             "#f0f921"
            ]
           ]
          },
          "colorway": [
           "#636efa",
           "#EF553B",
           "#00cc96",
           "#ab63fa",
           "#FFA15A",
           "#19d3f3",
           "#FF6692",
           "#B6E880",
           "#FF97FF",
           "#FECB52"
          ],
          "font": {
           "color": "#2a3f5f"
          },
          "geo": {
           "bgcolor": "white",
           "lakecolor": "white",
           "landcolor": "#E5ECF6",
           "showlakes": true,
           "showland": true,
           "subunitcolor": "white"
          },
          "hoverlabel": {
           "align": "left"
          },
          "hovermode": "closest",
          "mapbox": {
           "style": "light"
          },
          "paper_bgcolor": "white",
          "plot_bgcolor": "#E5ECF6",
          "polar": {
           "angularaxis": {
            "gridcolor": "white",
            "linecolor": "white",
            "ticks": ""
           },
           "bgcolor": "#E5ECF6",
           "radialaxis": {
            "gridcolor": "white",
            "linecolor": "white",
            "ticks": ""
           }
          },
          "scene": {
           "xaxis": {
            "backgroundcolor": "#E5ECF6",
            "gridcolor": "white",
            "gridwidth": 2,
            "linecolor": "white",
            "showbackground": true,
            "ticks": "",
            "zerolinecolor": "white"
           },
           "yaxis": {
            "backgroundcolor": "#E5ECF6",
            "gridcolor": "white",
            "gridwidth": 2,
            "linecolor": "white",
            "showbackground": true,
            "ticks": "",
            "zerolinecolor": "white"
           },
           "zaxis": {
            "backgroundcolor": "#E5ECF6",
            "gridcolor": "white",
            "gridwidth": 2,
            "linecolor": "white",
            "showbackground": true,
            "ticks": "",
            "zerolinecolor": "white"
           }
          },
          "shapedefaults": {
           "line": {
            "color": "#2a3f5f"
           }
          },
          "ternary": {
           "aaxis": {
            "gridcolor": "white",
            "linecolor": "white",
            "ticks": ""
           },
           "baxis": {
            "gridcolor": "white",
            "linecolor": "white",
            "ticks": ""
           },
           "bgcolor": "#E5ECF6",
           "caxis": {
            "gridcolor": "white",
            "linecolor": "white",
            "ticks": ""
           }
          },
          "title": {
           "x": 0.05
          },
          "xaxis": {
           "automargin": true,
           "gridcolor": "white",
           "linecolor": "white",
           "ticks": "",
           "title": {
            "standoff": 15
           },
           "zerolinecolor": "white",
           "zerolinewidth": 2
          },
          "yaxis": {
           "automargin": true,
           "gridcolor": "white",
           "linecolor": "white",
           "ticks": "",
           "title": {
            "standoff": 15
           },
           "zerolinecolor": "white",
           "zerolinewidth": 2
          }
         }
        },
        "title": {
         "text": "Movie Ratings vs. Box Office Revenue"
        },
        "xaxis": {
         "anchor": "y",
         "domain": [
          0,
          1
         ],
         "title": {
          "text": "rating"
         }
        },
        "yaxis": {
         "anchor": "x",
         "domain": [
          0,
          1
         ],
         "title": {
          "text": "box_office"
         }
        }
       }
      },
      "text/html": [
       "<div>                            <div id=\"cd8b659d-102e-42f6-a88e-b71b97d5e5df\" class=\"plotly-graph-div\" style=\"height:525px; width:100%;\"></div>            <script type=\"text/javascript\">                require([\"plotly\"], function(Plotly) {                    window.PLOTLYENV=window.PLOTLYENV || {};                                    if (document.getElementById(\"cd8b659d-102e-42f6-a88e-b71b97d5e5df\")) {                    Plotly.newPlot(                        \"cd8b659d-102e-42f6-a88e-b71b97d5e5df\",                        [{\"hovertemplate\":\"<b>%{hovertext}</b><br><br>genre=Drama<br>rating=%{x}<br>box_office=%{marker.size}<extra></extra>\",\"hovertext\":[\"The Shawshank Redemption\",\"Fight Club\",\"One Flew Over the Cuckoo's Nest\",\"American Beauty\",\"Requiem for a Dream\",\"Capernaum\",\"The Hunt\",\"Ikiru\",\"A Separation\",\"Bicycle Thieves\",\"All About Eve\",\"There Will Be Blood\",\"Trainspotting\",\"Gran Torino\",\"Tokyo Story\",\"Network\",\"Pather Panchali\",\"The Help\"],\"legendgroup\":\"Drama\",\"marker\":{\"color\":\"#636efa\",\"size\":[28884504.0,101209702.0,109114817.0,356296601.0,7390108.0,0.0,0.0,96302.0,22926076.0,436655.0,151052.0,76182388.0,16767475.0,269958228.0,0.0,23690757.0,135342.0,216639112.0],\"sizemode\":\"area\",\"sizeref\":6998597.75,\"symbol\":\"circle\"},\"mode\":\"markers\",\"name\":\"Drama\",\"orientation\":\"v\",\"showlegend\":true,\"x\":[9.3,8.8,8.7,8.4,8.3,8.4,8.3,8.3,8.3,8.3,8.2,8.2,8.1,8.1,8.2,8.1,8.3,8.1],\"xaxis\":\"x\",\"y\":[28884504.0,101209702.0,109114817.0,356296601.0,7390108.0,0.0,0.0,96302.0,22926076.0,436655.0,151052.0,76182388.0,16767475.0,269958228.0,0.0,23690757.0,135342.0,216639112.0],\"yaxis\":\"y\",\"type\":\"scatter\"},{\"hovertemplate\":\"<b>%{hovertext}</b><br><br>genre=Crime,Drama<br>rating=%{x}<br>box_office=%{marker.size}<extra></extra>\",\"hovertext\":[\"The Godfather\",\"The Godfather Part II\",\"12 Angry Men\",\"Pulp Fiction\",\"City of God\",\"American History X\",\"Once Upon a Time in America\",\"Scarface\",\"To Kill a Mockingbird\",\"Taxi Driver\",\"Casino\",\"La haine\",\"Cool Hand Luke\",\"The 400 Blows\"],\"legendgroup\":\"Crime,Drama\",\"marker\":{\"color\":\"#EF553B\",\"size\":[250341816.0,47961919.0,955.0,213928762.0,30680793.0,23875127.0,5473337.0,65884703.0,599146.0,28570902.0,116112375.0,0.0,67.0,127244.0],\"sizemode\":\"area\",\"sizeref\":6998597.75,\"symbol\":\"circle\"},\"mode\":\"markers\",\"name\":\"Crime,Drama\",\"orientation\":\"v\",\"showlegend\":true,\"x\":[9.2,9.0,9.0,8.9,8.6,8.5,8.3,8.3,8.3,8.2,8.2,8.1,8.1,8.1],\"xaxis\":\"x\",\"y\":[250341816.0,47961919.0,955.0,213928762.0,30680793.0,23875127.0,5473337.0,65884703.0,599146.0,28570902.0,116112375.0,0.0,67.0,127244.0],\"yaxis\":\"y\",\"type\":\"scatter\"},{\"hovertemplate\":\"<b>%{hovertext}</b><br><br>genre=Action,Crime,Drama<br>rating=%{x}<br>box_office=%{marker.size}<extra></extra>\",\"hovertext\":[\"The Dark Knight\",\"L\\u00e9on: The Professional\",\"Heat\",\"Batman Begins\",\"Kill Bill: Vol. 1\"],\"legendgroup\":\"Action,Crime,Drama\",\"marker\":{\"color\":\"#00cc96\",\"size\":[1006234167.0,19569225.0,187436818.0,373672993.0,180906076.0],\"sizemode\":\"area\",\"sizeref\":6998597.75,\"symbol\":\"circle\"},\"mode\":\"markers\",\"name\":\"Action,Crime,Drama\",\"orientation\":\"v\",\"showlegend\":true,\"x\":[9.0,8.5,8.3,8.2,8.2],\"xaxis\":\"x\",\"y\":[1006234167.0,19569225.0,187436818.0,373672993.0,180906076.0],\"yaxis\":\"y\",\"type\":\"scatter\"},{\"hovertemplate\":\"<b>%{hovertext}</b><br><br>genre=Biography,Drama,History<br>rating=%{x}<br>box_office=%{marker.size}<extra></extra>\",\"hovertext\":[\"Schindler's List\",\"Braveheart\",\"Hamilton\",\"Downfall\",\"12 Years a Slave\",\"Hacksaw Ridge\",\"The Passion of Joan of Arc\",\"Hotel Rwanda\",\"Gandhi\"],\"legendgroup\":\"Biography,Drama,History\",\"marker\":{\"color\":\"#ab63fa\",\"size\":[322161245.0,213216216.0,0.0,92181574.0,187733202.0,180563636.0,0.0,33882243.0,52767889.0],\"sizemode\":\"area\",\"sizeref\":6998597.75,\"symbol\":\"circle\"},\"mode\":\"markers\",\"name\":\"Biography,Drama,History\",\"orientation\":\"v\",\"showlegend\":true,\"x\":[9.0,8.4,8.4,8.2,8.1,8.1,8.2,8.1,8.0],\"xaxis\":\"x\",\"y\":[322161245.0,213216216.0,0.0,92181574.0,187733202.0,180563636.0,0.0,33882243.0,52767889.0],\"yaxis\":\"y\",\"type\":\"scatter\"},{\"hovertemplate\":\"<b>%{hovertext}</b><br><br>genre=Action,Adventure,Drama<br>rating=%{x}<br>box_office=%{marker.size}<extra></extra>\",\"hovertext\":[\"The Lord of the Rings: The Return of the King\",\"The Lord of the Rings: The Fellowship of the Ring\",\"The Lord of the Rings: The Two Towers\",\"Gladiator\",\"Avengers: Endgame\"],\"legendgroup\":\"Action,Adventure,Drama\",\"marker\":{\"color\":\"#FFA15A\",\"size\":[1146457748.0,898204420.0,947944270.0,503162313.0,2799439100.0],\"sizemode\":\"area\",\"sizeref\":6998597.75,\"symbol\":\"circle\"},\"mode\":\"markers\",\"name\":\"Action,Adventure,Drama\",\"orientation\":\"v\",\"showlegend\":true,\"x\":[9.0,8.8,8.8,8.5,8.4],\"xaxis\":\"x\",\"y\":[1146457748.0,898204420.0,947944270.0,503162313.0,2799439100.0],\"yaxis\":\"y\",\"type\":\"scatter\"},{\"hovertemplate\":\"<b>%{hovertext}</b><br><br>genre=Adventure,Western<br>rating=%{x}<br>box_office=%{marker.size}<extra></extra>\",\"hovertext\":[\"The Good, the Bad and the Ugly\"],\"legendgroup\":\"Adventure,Western\",\"marker\":{\"color\":\"#19d3f3\",\"size\":[25253887.0],\"sizemode\":\"area\",\"sizeref\":6998597.75,\"symbol\":\"circle\"},\"mode\":\"markers\",\"name\":\"Adventure,Western\",\"orientation\":\"v\",\"showlegend\":true,\"x\":[8.8],\"xaxis\":\"x\",\"y\":[25253887.0],\"yaxis\":\"y\",\"type\":\"scatter\"},{\"hovertemplate\":\"<b>%{hovertext}</b><br><br>genre=Drama,Romance<br>rating=%{x}<br>box_office=%{marker.size}<extra></extra>\",\"hovertext\":[\"Forrest Gump\",\"Cinema Paradiso\",\"Good Will Hunting\",\"Before Sunrise\",\"Wild Strawberries\",\"Before Sunset\"],\"legendgroup\":\"Drama,Romance\",\"marker\":{\"color\":\"#FF6692\",\"size\":[678226465.0,13019063.0,0.0,5987386.0,60418.0,0.0],\"sizemode\":\"area\",\"sizeref\":6998597.75,\"symbol\":\"circle\"},\"mode\":\"markers\",\"name\":\"Drama,Romance\",\"orientation\":\"v\",\"showlegend\":true,\"x\":[8.8,8.5,8.3,8.1,8.1,8.1],\"xaxis\":\"x\",\"y\":[678226465.0,13019063.0,0.0,5987386.0,60418.0,0.0],\"yaxis\":\"y\",\"type\":\"scatter\"},{\"hovertemplate\":\"<b>%{hovertext}</b><br><br>genre=Action,Adventure,Sci-Fi<br>rating=%{x}<br>box_office=%{marker.size}<extra></extra>\",\"hovertext\":[\"Inception\",\"Avengers: Infinity War\",\"Aliens\",\"Jurassic Park\",\"Mad Max: Fury Road\"],\"legendgroup\":\"Action,Adventure,Sci-Fi\",\"marker\":{\"color\":\"#B6E880\",\"size\":[836848102.0,2052415039.0,131060248.0,1109802321.0,415261382.0],\"sizemode\":\"area\",\"sizeref\":6998597.75,\"symbol\":\"circle\"},\"mode\":\"markers\",\"name\":\"Action,Adventure,Sci-Fi\",\"orientation\":\"v\",\"showlegend\":true,\"x\":[8.8,8.4,8.4,8.2,8.1],\"xaxis\":\"x\",\"y\":[836848102.0,2052415039.0,131060248.0,1109802321.0,415261382.0],\"yaxis\":\"y\",\"type\":\"scatter\"},{\"hovertemplate\":\"<b>%{hovertext}</b><br><br>genre=Action,Adventure,Fantasy<br>rating=%{x}<br>box_office=%{marker.size}<extra></extra>\",\"hovertext\":[\"Star Wars: Episode V - The Empire Strikes Back\",\"Star Wars: Episode IV - A New Hope\",\"Star Wars: Episode VI - Return of the Jedi\",\"Spider-Man: No Way Home\",\"Pirates of the Caribbean: The Curse of the Black Pearl\"],\"legendgroup\":\"Action,Adventure,Fantasy\",\"marker\":{\"color\":\"#FF97FF\",\"size\":[538375067.0,775398007.0,475106177.0,1921847111.0,654264015.0],\"sizemode\":\"area\",\"sizeref\":6998597.75,\"symbol\":\"circle\"},\"mode\":\"markers\",\"name\":\"Action,Adventure,Fantasy\",\"orientation\":\"v\",\"showlegend\":true,\"x\":[8.7,8.6,8.3,8.2,8.1],\"xaxis\":\"x\",\"y\":[538375067.0,775398007.0,475106177.0,1921847111.0,654264015.0],\"yaxis\":\"y\",\"type\":\"scatter\"},{\"hovertemplate\":\"<b>%{hovertext}</b><br><br>genre=Action,Sci-Fi<br>rating=%{x}<br>box_office=%{marker.size}<extra></extra>\",\"hovertext\":[\"The Matrix\",\"Terminator 2: Judgment Day\",\"The Terminator\"],\"legendgroup\":\"Action,Sci-Fi\",\"marker\":{\"color\":\"#FECB52\",\"size\":[467222728.0,520881154.0,78371200.0],\"sizemode\":\"area\",\"sizeref\":6998597.75,\"symbol\":\"circle\"},\"mode\":\"markers\",\"name\":\"Action,Sci-Fi\",\"orientation\":\"v\",\"showlegend\":true,\"x\":[8.7,8.6,8.1],\"xaxis\":\"x\",\"y\":[467222728.0,520881154.0,78371200.0],\"yaxis\":\"y\",\"type\":\"scatter\"},{\"hovertemplate\":\"<b>%{hovertext}</b><br><br>genre=Biography,Crime,Drama<br>rating=%{x}<br>box_office=%{marker.size}<extra></extra>\",\"hovertext\":[\"Goodfellas\",\"Catch Me If You Can\",\"In the Name of the Father\",\"Spotlight\"],\"legendgroup\":\"Biography,Crime,Drama\",\"marker\":{\"color\":\"#636efa\",\"size\":[47036784.0,0.0,0.0,98690254.0],\"sizemode\":\"area\",\"sizeref\":6998597.75,\"symbol\":\"circle\"},\"mode\":\"markers\",\"name\":\"Biography,Crime,Drama\",\"orientation\":\"v\",\"showlegend\":true,\"x\":[8.7,8.1,8.1,8.1],\"xaxis\":\"x\",\"y\":[47036784.0,0.0,0.0,98690254.0],\"yaxis\":\"y\",\"type\":\"scatter\"},{\"hovertemplate\":\"<b>%{hovertext}</b><br><br>genre=Crime,Drama,Mystery<br>rating=%{x}<br>box_office=%{marker.size}<extra></extra>\",\"hovertext\":[\"Se7en\",\"The Usual Suspects\",\"Witness for the Prosecution\",\"High and Low\",\"L.A. Confidential\",\"Rashomon\",\"Prisoners\",\"Memories of Murder\",\"Jai Bhim\"],\"legendgroup\":\"Crime,Drama,Mystery\",\"marker\":{\"color\":\"#EF553B\",\"size\":[327333559.0,23341568.0,7693.0,0.0,126216940.0,81379.0,122126687.0,1166717.0,0.0],\"sizemode\":\"area\",\"sizeref\":6998597.75,\"symbol\":\"circle\"},\"mode\":\"markers\",\"name\":\"Crime,Drama,Mystery\",\"orientation\":\"v\",\"showlegend\":true,\"x\":[8.6,8.5,8.4,8.4,8.2,8.2,8.1,8.1,8.8],\"xaxis\":\"x\",\"y\":[327333559.0,23341568.0,7693.0,0.0,126216940.0,81379.0,122126687.0,1166717.0,0.0],\"yaxis\":\"y\",\"type\":\"scatter\"},{\"hovertemplate\":\"<b>%{hovertext}</b><br><br>genre=Action,Drama<br>rating=%{x}<br>box_office=%{marker.size}<extra></extra>\",\"hovertext\":[\"Seven Samurai\",\"The Dark Knight Rises\",\"Top Gun: Maverick\"],\"legendgroup\":\"Action,Drama\",\"marker\":{\"color\":\"#00cc96\",\"size\":[346258.0,1081169825.0,1488732821.0],\"sizemode\":\"area\",\"sizeref\":6998597.75,\"symbol\":\"circle\"},\"mode\":\"markers\",\"name\":\"Action,Drama\",\"orientation\":\"v\",\"showlegend\":true,\"x\":[8.6,8.4,8.3],\"xaxis\":\"x\",\"y\":[346258.0,1081169825.0,1488732821.0],\"yaxis\":\"y\",\"type\":\"scatter\"},{\"hovertemplate\":\"<b>%{hovertext}</b><br><br>genre=Drama,Family,Fantasy<br>rating=%{x}<br>box_office=%{marker.size}<extra></extra>\",\"hovertext\":[\"It's a Wonderful Life\"],\"legendgroup\":\"Drama,Family,Fantasy\",\"marker\":{\"color\":\"#ab63fa\",\"size\":[8574081.0],\"sizemode\":\"area\",\"sizeref\":6998597.75,\"symbol\":\"circle\"},\"mode\":\"markers\",\"name\":\"Drama,Family,Fantasy\",\"orientation\":\"v\",\"showlegend\":true,\"x\":[8.6],\"xaxis\":\"x\",\"y\":[8574081.0],\"yaxis\":\"y\",\"type\":\"scatter\"},{\"hovertemplate\":\"<b>%{hovertext}</b><br><br>genre=Crime,Drama,Thriller<br>rating=%{x}<br>box_office=%{marker.size}<extra></extra>\",\"hovertext\":[\"The Silence of the Lambs\",\"The Departed\",\"Joker\",\"No Country for Old Men\"],\"legendgroup\":\"Crime,Drama,Thriller\",\"marker\":{\"color\":\"#FFA15A\",\"size\":[272742922.0,291480452.0,1074458282.0,171627434.0],\"sizemode\":\"area\",\"sizeref\":6998597.75,\"symbol\":\"circle\"},\"mode\":\"markers\",\"name\":\"Crime,Drama,Thriller\",\"orientation\":\"v\",\"showlegend\":true,\"x\":[8.6,8.5,8.4,8.2],\"xaxis\":\"x\",\"y\":[272742922.0,291480452.0,1074458282.0,171627434.0],\"yaxis\":\"y\",\"type\":\"scatter\"},{\"hovertemplate\":\"<b>%{hovertext}</b><br><br>genre=Drama,War<br>rating=%{x}<br>box_office=%{marker.size}<extra></extra>\",\"hovertext\":[\"Saving Private Ryan\",\"Paths of Glory\",\"The Boat\",\"Full Metal Jacket\",\"Judgment at Nuremberg\",\"The Deer Hunter\",\"Platoon\",\"The Battle of Algiers\"],\"legendgroup\":\"Drama,War\",\"marker\":{\"color\":\"#19d3f3\",\"size\":[482349603.0,5252.0,11487676.0,46358827.0,12180.0,49074379.0,138545632.0,962002.0],\"sizemode\":\"area\",\"sizeref\":6998597.75,\"symbol\":\"circle\"},\"mode\":\"markers\",\"name\":\"Drama,War\",\"orientation\":\"v\",\"showlegend\":true,\"x\":[8.6,8.4,8.4,8.3,8.3,8.1,8.1,8.1],\"xaxis\":\"x\",\"y\":[482349603.0,5252.0,11487676.0,46358827.0,12180.0,49074379.0,138545632.0,962002.0],\"yaxis\":\"y\",\"type\":\"scatter\"},{\"hovertemplate\":\"<b>%{hovertext}</b><br><br>genre=Adventure,Drama,Sci-Fi<br>rating=%{x}<br>box_office=%{marker.size}<extra></extra>\",\"hovertext\":[\"Interstellar\"],\"legendgroup\":\"Adventure,Drama,Sci-Fi\",\"marker\":{\"color\":\"#FF6692\",\"size\":[773867216.0],\"sizemode\":\"area\",\"sizeref\":6998597.75,\"symbol\":\"circle\"},\"mode\":\"markers\",\"name\":\"Adventure,Drama,Sci-Fi\",\"orientation\":\"v\",\"showlegend\":true,\"x\":[8.6],\"xaxis\":\"x\",\"y\":[773867216.0],\"yaxis\":\"y\",\"type\":\"scatter\"},{\"hovertemplate\":\"<b>%{hovertext}</b><br><br>genre=Comedy,Drama,Romance<br>rating=%{x}<br>box_office=%{marker.size}<extra></extra>\",\"hovertext\":[\"Life Is Beautiful\",\"Modern Times\",\"City Lights\",\"The Apartment\"],\"legendgroup\":\"Comedy,Drama,Romance\",\"marker\":{\"color\":\"#B6E880\",\"size\":[230098753.0,463618.0,50419.0,18778738.0],\"sizemode\":\"area\",\"sizeref\":6998597.75,\"symbol\":\"circle\"},\"mode\":\"markers\",\"name\":\"Comedy,Drama,Romance\",\"orientation\":\"v\",\"showlegend\":true,\"x\":[8.6,8.5,8.5,8.3],\"xaxis\":\"x\",\"y\":[230098753.0,463618.0,50419.0,18778738.0],\"yaxis\":\"y\",\"type\":\"scatter\"},{\"hovertemplate\":\"<b>%{hovertext}</b><br><br>genre=Crime,Drama,Fantasy<br>rating=%{x}<br>box_office=%{marker.size}<extra></extra>\",\"hovertext\":[\"The Green Mile\"],\"legendgroup\":\"Crime,Drama,Fantasy\",\"marker\":{\"color\":\"#FF97FF\",\"size\":[286801374.0],\"sizemode\":\"area\",\"sizeref\":6998597.75,\"symbol\":\"circle\"},\"mode\":\"markers\",\"name\":\"Crime,Drama,Fantasy\",\"orientation\":\"v\",\"showlegend\":true,\"x\":[8.6],\"xaxis\":\"x\",\"y\":[286801374.0],\"yaxis\":\"y\",\"type\":\"scatter\"},{\"hovertemplate\":\"<b>%{hovertext}</b><br><br>genre=Adventure,Comedy,Sci-Fi<br>rating=%{x}<br>box_office=%{marker.size}<extra></extra>\",\"hovertext\":[\"Back to the Future\"],\"legendgroup\":\"Adventure,Comedy,Sci-Fi\",\"marker\":{\"color\":\"#FECB52\",\"size\":[383336762.0],\"sizemode\":\"area\",\"sizeref\":6998597.75,\"symbol\":\"circle\"},\"mode\":\"markers\",\"name\":\"Adventure,Comedy,Sci-Fi\",\"orientation\":\"v\",\"showlegend\":true,\"x\":[8.5],\"xaxis\":\"x\",\"y\":[383336762.0],\"yaxis\":\"y\",\"type\":\"scatter\"},{\"hovertemplate\":\"<b>%{hovertext}</b><br><br>genre=Animation,Adventure,Family<br>rating=%{x}<br>box_office=%{marker.size}<extra></extra>\",\"hovertext\":[\"Spirited Away\",\"WALL\\u00b7E\",\"Howl's Moving Castle\"],\"legendgroup\":\"Animation,Adventure,Family\",\"marker\":{\"color\":\"#636efa\",\"size\":[355822319.0,521311890.0,237536126.0],\"sizemode\":\"area\",\"sizeref\":6998597.75,\"symbol\":\"circle\"},\"mode\":\"markers\",\"name\":\"Animation,Adventure,Family\",\"orientation\":\"v\",\"showlegend\":true,\"x\":[8.6,8.4,8.2],\"xaxis\":\"x\",\"y\":[355822319.0,521311890.0,237536126.0],\"yaxis\":\"y\",\"type\":\"scatter\"},{\"hovertemplate\":\"<b>%{hovertext}</b><br><br>genre=Biography,Drama,Music<br>rating=%{x}<br>box_office=%{marker.size}<extra></extra>\",\"hovertext\":[\"The Pianist\",\"Amadeus\"],\"legendgroup\":\"Biography,Drama,Music\",\"marker\":{\"color\":\"#EF553B\",\"size\":[120072577.0,52066791.0],\"sizemode\":\"area\",\"sizeref\":6998597.75,\"symbol\":\"circle\"},\"mode\":\"markers\",\"name\":\"Biography,Drama,Music\",\"orientation\":\"v\",\"showlegend\":true,\"x\":[8.5,8.4],\"xaxis\":\"x\",\"y\":[120072577.0,52066791.0],\"yaxis\":\"y\",\"type\":\"scatter\"},{\"hovertemplate\":\"<b>%{hovertext}</b><br><br>genre=Horror,Mystery,Thriller<br>rating=%{x}<br>box_office=%{marker.size}<extra></extra>\",\"hovertext\":[\"Psycho\"],\"legendgroup\":\"Horror,Mystery,Thriller\",\"marker\":{\"color\":\"#00cc96\",\"size\":[32052925.0],\"sizemode\":\"area\",\"sizeref\":6998597.75,\"symbol\":\"circle\"},\"mode\":\"markers\",\"name\":\"Horror,Mystery,Thriller\",\"orientation\":\"v\",\"showlegend\":true,\"x\":[8.5],\"xaxis\":\"x\",\"y\":[32052925.0],\"yaxis\":\"y\",\"type\":\"scatter\"},{\"hovertemplate\":\"<b>%{hovertext}</b><br><br>genre=Drama,Thriller<br>rating=%{x}<br>box_office=%{marker.size}<extra></extra>\",\"hovertext\":[\"Parasite\",\"Room\",\"Amores Perros\",\"Persona\"],\"legendgroup\":\"Drama,Thriller\",\"marker\":{\"color\":\"#ab63fa\",\"size\":[262676096.0,35401758.0,20908467.0,0.0],\"sizemode\":\"area\",\"sizeref\":6998597.75,\"symbol\":\"circle\"},\"mode\":\"markers\",\"name\":\"Drama,Thriller\",\"orientation\":\"v\",\"showlegend\":true,\"x\":[8.5,8.1,8.1,8.1],\"xaxis\":\"x\",\"y\":[262676096.0,35401758.0,20908467.0,0.0],\"yaxis\":\"y\",\"type\":\"scatter\"},{\"hovertemplate\":\"<b>%{hovertext}</b><br><br>genre=Animation,Adventure,Drama<br>rating=%{x}<br>box_office=%{marker.size}<extra></extra>\",\"hovertext\":[\"The Lion King\"],\"legendgroup\":\"Animation,Adventure,Drama\",\"marker\":{\"color\":\"#FFA15A\",\"size\":[968511805.0],\"sizemode\":\"area\",\"sizeref\":6998597.75,\"symbol\":\"circle\"},\"mode\":\"markers\",\"name\":\"Animation,Adventure,Drama\",\"orientation\":\"v\",\"showlegend\":true,\"x\":[8.5],\"xaxis\":\"x\",\"y\":[968511805.0],\"yaxis\":\"y\",\"type\":\"scatter\"},{\"hovertemplate\":\"<b>%{hovertext}</b><br><br>genre=Drama,Mystery,Sci-Fi<br>rating=%{x}<br>box_office=%{marker.size}<extra></extra>\",\"hovertext\":[\"The Prestige\"],\"legendgroup\":\"Drama,Mystery,Sci-Fi\",\"marker\":{\"color\":\"#19d3f3\",\"size\":[109676311.0],\"sizemode\":\"area\",\"sizeref\":6998597.75,\"symbol\":\"circle\"},\"mode\":\"markers\",\"name\":\"Drama,Mystery,Sci-Fi\",\"orientation\":\"v\",\"showlegend\":true,\"x\":[8.5],\"xaxis\":\"x\",\"y\":[109676311.0],\"yaxis\":\"y\",\"type\":\"scatter\"},{\"hovertemplate\":\"<b>%{hovertext}</b><br><br>genre=Drama,Music<br>rating=%{x}<br>box_office=%{marker.size}<extra></extra>\",\"hovertext\":[\"Whiplash\"],\"legendgroup\":\"Drama,Music\",\"marker\":{\"color\":\"#FF6692\",\"size\":[49396747.0],\"sizemode\":\"area\",\"sizeref\":6998597.75,\"symbol\":\"circle\"},\"mode\":\"markers\",\"name\":\"Drama,Music\",\"orientation\":\"v\",\"showlegend\":true,\"x\":[8.5],\"xaxis\":\"x\",\"y\":[49396747.0],\"yaxis\":\"y\",\"type\":\"scatter\"},{\"hovertemplate\":\"<b>%{hovertext}</b><br><br>genre=Drama,Romance,War<br>rating=%{x}<br>box_office=%{marker.size}<extra></extra>\",\"hovertext\":[\"Casablanca\",\"Gone with the Wind\",\"The Best Years of Our Lives\"],\"legendgroup\":\"Drama,Romance,War\",\"marker\":{\"color\":\"#B6E880\",\"size\":[4626532.0,402382193.0,23661347.0],\"sizemode\":\"area\",\"sizeref\":6998597.75,\"symbol\":\"circle\"},\"mode\":\"markers\",\"name\":\"Drama,Romance,War\",\"orientation\":\"v\",\"showlegend\":true,\"x\":[8.5,8.2,8.1],\"xaxis\":\"x\",\"y\":[4626532.0,402382193.0,23661347.0],\"yaxis\":\"y\",\"type\":\"scatter\"},{\"hovertemplate\":\"<b>%{hovertext}</b><br><br>genre=Animation,Drama,War<br>rating=%{x}<br>box_office=%{marker.size}<extra></extra>\",\"hovertext\":[\"Grave of the Fireflies\"],\"legendgroup\":\"Animation,Drama,War\",\"marker\":{\"color\":\"#FF97FF\",\"size\":[516962.0],\"sizemode\":\"area\",\"sizeref\":6998597.75,\"symbol\":\"circle\"},\"mode\":\"markers\",\"name\":\"Animation,Drama,War\",\"orientation\":\"v\",\"showlegend\":true,\"x\":[8.5],\"xaxis\":\"x\",\"y\":[516962.0],\"yaxis\":\"y\",\"type\":\"scatter\"},{\"hovertemplate\":\"<b>%{hovertext}</b><br><br>genre=Action,Drama,Mystery<br>rating=%{x}<br>box_office=%{marker.size}<extra></extra>\",\"hovertext\":[\"Harakiri\",\"Oldboy\"],\"legendgroup\":\"Action,Drama,Mystery\",\"marker\":{\"color\":\"#FECB52\",\"size\":[0.0,15421226.0],\"sizemode\":\"area\",\"sizeref\":6998597.75,\"symbol\":\"circle\"},\"mode\":\"markers\",\"name\":\"Action,Drama,Mystery\",\"orientation\":\"v\",\"showlegend\":true,\"x\":[8.6,8.4],\"xaxis\":\"x\",\"y\":[0.0,15421226.0],\"yaxis\":\"y\",\"type\":\"scatter\"},{\"hovertemplate\":\"<b>%{hovertext}</b><br><br>genre=Biography,Comedy,Drama<br>rating=%{x}<br>box_office=%{marker.size}<extra></extra>\",\"hovertext\":[\"The Intouchables\",\"Green Book\"],\"legendgroup\":\"Biography,Comedy,Drama\",\"marker\":{\"color\":\"#636efa\",\"size\":[426588510.0,321752656.0],\"sizemode\":\"area\",\"sizeref\":6998597.75,\"symbol\":\"circle\"},\"mode\":\"markers\",\"name\":\"Biography,Comedy,Drama\",\"orientation\":\"v\",\"showlegend\":true,\"x\":[8.5,8.2],\"xaxis\":\"x\",\"y\":[426588510.0,321752656.0],\"yaxis\":\"y\",\"type\":\"scatter\"},{\"hovertemplate\":\"<b>%{hovertext}</b><br><br>genre=Western<br>rating=%{x}<br>box_office=%{marker.size}<extra></extra>\",\"hovertext\":[\"Once Upon a Time in the West\",\"For a Few Dollars More\"],\"legendgroup\":\"Western\",\"marker\":{\"color\":\"#EF553B\",\"size\":[5435024.0,15000000.0],\"sizemode\":\"area\",\"sizeref\":6998597.75,\"symbol\":\"circle\"},\"mode\":\"markers\",\"name\":\"Western\",\"orientation\":\"v\",\"showlegend\":true,\"x\":[8.5,8.2],\"xaxis\":\"x\",\"y\":[5435024.0,15000000.0],\"yaxis\":\"y\",\"type\":\"scatter\"},{\"hovertemplate\":\"<b>%{hovertext}</b><br><br>genre=Mystery,Thriller<br>rating=%{x}<br>box_office=%{marker.size}<extra></extra>\",\"hovertext\":[\"Rear Window\",\"Memento\",\"Shutter Island\"],\"legendgroup\":\"Mystery,Thriller\",\"marker\":{\"color\":\"#00cc96\",\"size\":[37034579.0,40047078.0,294805697.0],\"sizemode\":\"area\",\"sizeref\":6998597.75,\"symbol\":\"circle\"},\"mode\":\"markers\",\"name\":\"Mystery,Thriller\",\"orientation\":\"v\",\"showlegend\":true,\"x\":[8.5,8.4,8.2],\"xaxis\":\"x\",\"y\":[37034579.0,40047078.0,294805697.0],\"yaxis\":\"y\",\"type\":\"scatter\"},{\"hovertemplate\":\"<b>%{hovertext}</b><br><br>genre=Horror,Sci-Fi<br>rating=%{x}<br>box_office=%{marker.size}<extra></extra>\",\"hovertext\":[\"Alien\"],\"legendgroup\":\"Horror,Sci-Fi\",\"marker\":{\"color\":\"#ab63fa\",\"size\":[106285522.0],\"sizemode\":\"area\",\"sizeref\":6998597.75,\"symbol\":\"circle\"},\"mode\":\"markers\",\"name\":\"Horror,Sci-Fi\",\"orientation\":\"v\",\"showlegend\":true,\"x\":[8.5],\"xaxis\":\"x\",\"y\":[106285522.0],\"yaxis\":\"y\",\"type\":\"scatter\"},{\"hovertemplate\":\"<b>%{hovertext}</b><br><br>genre=Drama,Mystery,War<br>rating=%{x}<br>box_office=%{marker.size}<extra></extra>\",\"hovertext\":[\"Apocalypse Now\"],\"legendgroup\":\"Drama,Mystery,War\",\"marker\":{\"color\":\"#FFA15A\",\"size\":[104880868.0],\"sizemode\":\"area\",\"sizeref\":6998597.75,\"symbol\":\"circle\"},\"mode\":\"markers\",\"name\":\"Drama,Mystery,War\",\"orientation\":\"v\",\"showlegend\":true,\"x\":[8.5],\"xaxis\":\"x\",\"y\":[104880868.0],\"yaxis\":\"y\",\"type\":\"scatter\"},{\"hovertemplate\":\"<b>%{hovertext}</b><br><br>genre=Drama,Western<br>rating=%{x}<br>box_office=%{marker.size}<extra></extra>\",\"hovertext\":[\"Django Unchained\",\"Unforgiven\"],\"legendgroup\":\"Drama,Western\",\"marker\":{\"color\":\"#19d3f3\",\"size\":[426074373.0,159167799.0],\"sizemode\":\"area\",\"sizeref\":6998597.75,\"symbol\":\"circle\"},\"mode\":\"markers\",\"name\":\"Drama,Western\",\"orientation\":\"v\",\"showlegend\":true,\"x\":[8.4,8.2],\"xaxis\":\"x\",\"y\":[426074373.0,159167799.0],\"yaxis\":\"y\",\"type\":\"scatter\"},{\"hovertemplate\":\"<b>%{hovertext}</b><br><br>genre=Action,Adventure<br>rating=%{x}<br>box_office=%{marker.size}<extra></extra>\",\"hovertext\":[\"Indiana Jones and the Raiders of the Lost Ark\",\"Indiana Jones and the Last Crusade\"],\"legendgroup\":\"Action,Adventure\",\"marker\":{\"color\":\"#FF6692\",\"size\":[389925971.0,474171806.0],\"sizemode\":\"area\",\"sizeref\":6998597.75,\"symbol\":\"circle\"},\"mode\":\"markers\",\"name\":\"Action,Adventure\",\"orientation\":\"v\",\"showlegend\":true,\"x\":[8.4,8.2],\"xaxis\":\"x\",\"y\":[389925971.0,474171806.0],\"yaxis\":\"y\",\"type\":\"scatter\"},{\"hovertemplate\":\"<b>%{hovertext}</b><br><br>genre=Drama,Mystery,Thriller<br>rating=%{x}<br>box_office=%{marker.size}<extra></extra>\",\"hovertext\":[\"The Lives of Others\",\"The Sixth Sense\",\"Chinatown\",\"Gone Girl\"],\"legendgroup\":\"Drama,Mystery,Thriller\",\"marker\":{\"color\":\"#B6E880\",\"size\":[77356942.0,672806432.0,29225935.0,0.0],\"sizemode\":\"area\",\"sizeref\":6998597.75,\"symbol\":\"circle\"},\"mode\":\"markers\",\"name\":\"Drama,Mystery,Thriller\",\"orientation\":\"v\",\"showlegend\":true,\"x\":[8.4,8.2,8.2,8.1],\"xaxis\":\"x\",\"y\":[77356942.0,672806432.0,29225935.0,0.0],\"yaxis\":\"y\",\"type\":\"scatter\"},{\"hovertemplate\":\"<b>%{hovertext}</b><br><br>genre=Drama,Film-Noir<br>rating=%{x}<br>box_office=%{marker.size}<extra></extra>\",\"hovertext\":[\"Sunset Blvd.\"],\"legendgroup\":\"Drama,Film-Noir\",\"marker\":{\"color\":\"#FF97FF\",\"size\":[300073.0],\"sizemode\":\"area\",\"sizeref\":6998597.75,\"symbol\":\"circle\"},\"mode\":\"markers\",\"name\":\"Drama,Film-Noir\",\"orientation\":\"v\",\"showlegend\":true,\"x\":[8.4],\"xaxis\":\"x\",\"y\":[300073.0],\"yaxis\":\"y\",\"type\":\"scatter\"},{\"hovertemplate\":\"<b>%{hovertext}</b><br><br>genre=Drama,Horror<br>rating=%{x}<br>box_office=%{marker.size}<extra></extra>\",\"hovertext\":[\"The Shining\"],\"legendgroup\":\"Drama,Horror\",\"marker\":{\"color\":\"#FECB52\",\"size\":[47335804.0],\"sizemode\":\"area\",\"sizeref\":6998597.75,\"symbol\":\"circle\"},\"mode\":\"markers\",\"name\":\"Drama,Horror\",\"orientation\":\"v\",\"showlegend\":true,\"x\":[8.4],\"xaxis\":\"x\",\"y\":[47335804.0],\"yaxis\":\"y\",\"type\":\"scatter\"},{\"hovertemplate\":\"<b>%{hovertext}</b><br><br>genre=Comedy,Drama,War<br>rating=%{x}<br>box_office=%{marker.size}<extra></extra>\",\"hovertext\":[\"The Great Dictator\"],\"legendgroup\":\"Comedy,Drama,War\",\"marker\":{\"color\":\"#636efa\",\"size\":[970263.0],\"sizemode\":\"area\",\"sizeref\":6998597.75,\"symbol\":\"circle\"},\"mode\":\"markers\",\"name\":\"Comedy,Drama,War\",\"orientation\":\"v\",\"showlegend\":true,\"x\":[8.4],\"xaxis\":\"x\",\"y\":[970263.0],\"yaxis\":\"y\",\"type\":\"scatter\"},{\"hovertemplate\":\"<b>%{hovertext}</b><br><br>genre=Animation,Action,Adventure<br>rating=%{x}<br>box_office=%{marker.size}<extra></extra>\",\"hovertext\":[\"Spider-Man: Into the Spider-Verse\",\"Princess Mononoke\",\"How to Train Your Dragon\",\"The Incredibles\",\"The Iron Giant\"],\"legendgroup\":\"Animation,Action,Adventure\",\"marker\":{\"color\":\"#EF553B\",\"size\":[0.0,170005875.0,494879471.0,631607053.0,23335817.0],\"sizemode\":\"area\",\"sizeref\":6998597.75,\"symbol\":\"circle\"},\"mode\":\"markers\",\"name\":\"Animation,Action,Adventure\",\"orientation\":\"v\",\"showlegend\":true,\"x\":[8.4,8.4,8.1,8.0,8.1],\"xaxis\":\"x\",\"y\":[0.0,170005875.0,494879471.0,631607053.0,23335817.0],\"yaxis\":\"y\",\"type\":\"scatter\"},{\"hovertemplate\":\"<b>%{hovertext}</b><br><br>genre=Comedy,War<br>rating=%{x}<br>box_office=%{marker.size}<extra></extra>\",\"hovertext\":[\"Dr. Strangelove or: How I Learned to Stop Worrying and Love the Bomb\"],\"legendgroup\":\"Comedy,War\",\"marker\":{\"color\":\"#00cc96\",\"size\":[9523464.0],\"sizemode\":\"area\",\"sizeref\":6998597.75,\"symbol\":\"circle\"},\"mode\":\"markers\",\"name\":\"Comedy,War\",\"orientation\":\"v\",\"showlegend\":true,\"x\":[8.4],\"xaxis\":\"x\",\"y\":[9523464.0],\"yaxis\":\"y\",\"type\":\"scatter\"},{\"hovertemplate\":\"<b>%{hovertext}</b><br><br>genre=Adventure,Drama,War<br>rating=%{x}<br>box_office=%{marker.size}<extra></extra>\",\"hovertext\":[\"Inglourious Basterds\",\"The Bridge on the River Kwai\",\"Barry Lyndon\"],\"legendgroup\":\"Adventure,Drama,War\",\"marker\":{\"color\":\"#ab63fa\",\"size\":[321457747.0,27200000.0,199632.0],\"sizemode\":\"area\",\"sizeref\":6998597.75,\"symbol\":\"circle\"},\"mode\":\"markers\",\"name\":\"Adventure,Drama,War\",\"orientation\":\"v\",\"showlegend\":true,\"x\":[8.3,8.2,8.1],\"xaxis\":\"x\",\"y\":[321457747.0,27200000.0,199632.0],\"yaxis\":\"y\",\"type\":\"scatter\"},{\"hovertemplate\":\"<b>%{hovertext}</b><br><br>genre=Animation,Adventure,Comedy<br>rating=%{x}<br>box_office=%{marker.size}<extra></extra>\",\"hovertext\":[\"Coco\",\"Toy Story\",\"Toy Story 3\",\"Up\",\"Finding Nemo\",\"Inside Out\",\"Klaus\",\"Monsters, Inc.\",\"Ratatouille\",\"Aladdin\"],\"legendgroup\":\"Animation,Adventure,Comedy\",\"marker\":{\"color\":\"#FFA15A\",\"size\":[814337054.0,394436586.0,1067316101.0,735099102.0,941637960.0,858848019.0,0.0,579707738.0,623726085.0,0.0],\"sizemode\":\"area\",\"sizeref\":6998597.75,\"symbol\":\"circle\"},\"mode\":\"markers\",\"name\":\"Animation,Adventure,Comedy\",\"orientation\":\"v\",\"showlegend\":true,\"x\":[8.4,8.3,8.3,8.3,8.2,8.2,8.2,8.1,8.1,8.0],\"xaxis\":\"x\",\"y\":[814337054.0,394436586.0,1067316101.0,735099102.0,941637960.0,858848019.0,0.0,579707738.0,623726085.0,0.0],\"yaxis\":\"y\",\"type\":\"scatter\"},{\"hovertemplate\":\"<b>%{hovertext}</b><br><br>genre=Animation,Drama,Fantasy<br>rating=%{x}<br>box_office=%{marker.size}<extra></extra>\",\"hovertext\":[\"Your Name.\"],\"legendgroup\":\"Animation,Drama,Fantasy\",\"marker\":{\"color\":\"#19d3f3\",\"size\":[0.0],\"sizemode\":\"area\",\"sizeref\":6998597.75,\"symbol\":\"circle\"},\"mode\":\"markers\",\"name\":\"Animation,Drama,Fantasy\",\"orientation\":\"v\",\"showlegend\":true,\"x\":[8.4],\"xaxis\":\"x\",\"y\":[0.0],\"yaxis\":\"y\",\"type\":\"scatter\"},{\"hovertemplate\":\"<b>%{hovertext}</b><br><br>genre=Comedy,Drama<br>rating=%{x}<br>box_office=%{marker.size}<extra></extra>\",\"hovertext\":[\"3 Idiots\",\"The Truman Show\",\"Mr. Smith Goes to Washington\",\"Dead Poets Society\"],\"legendgroup\":\"Comedy,Drama\",\"marker\":{\"color\":\"#FF6692\",\"size\":[60262836.0,264118201.0,144738.0,235860116.0],\"sizemode\":\"area\",\"sizeref\":6998597.75,\"symbol\":\"circle\"},\"mode\":\"markers\",\"name\":\"Comedy,Drama\",\"orientation\":\"v\",\"showlegend\":true,\"x\":[8.4,8.2,8.1,8.1],\"xaxis\":\"x\",\"y\":[60262836.0,264118201.0,144738.0,235860116.0],\"yaxis\":\"y\",\"type\":\"scatter\"},{\"hovertemplate\":\"<b>%{hovertext}</b><br><br>genre=Comedy,Musical,Romance<br>rating=%{x}<br>box_office=%{marker.size}<extra></extra>\",\"hovertext\":[\"Singin' in the Rain\"],\"legendgroup\":\"Comedy,Musical,Romance\",\"marker\":{\"color\":\"#B6E880\",\"size\":[2000288.0],\"sizemode\":\"area\",\"sizeref\":6998597.75,\"symbol\":\"circle\"},\"mode\":\"markers\",\"name\":\"Comedy,Musical,Romance\",\"orientation\":\"v\",\"showlegend\":true,\"x\":[8.3],\"xaxis\":\"x\",\"y\":[2000288.0],\"yaxis\":\"y\",\"type\":\"scatter\"},{\"hovertemplate\":\"<b>%{hovertext}</b><br><br>genre=Drama,Romance,Sci-Fi<br>rating=%{x}<br>box_office=%{marker.size}<extra></extra>\",\"hovertext\":[\"Eternal Sunshine of the Spotless Mind\"],\"legendgroup\":\"Drama,Romance,Sci-Fi\",\"marker\":{\"color\":\"#FF97FF\",\"size\":[74036715.0],\"sizemode\":\"area\",\"sizeref\":6998597.75,\"symbol\":\"circle\"},\"mode\":\"markers\",\"name\":\"Drama,Romance,Sci-Fi\",\"orientation\":\"v\",\"showlegend\":true,\"x\":[8.3],\"xaxis\":\"x\",\"y\":[74036715.0],\"yaxis\":\"y\",\"type\":\"scatter\"},{\"hovertemplate\":\"<b>%{hovertext}</b><br><br>genre=Adventure,Sci-Fi<br>rating=%{x}<br>box_office=%{marker.size}<extra></extra>\",\"hovertext\":[\"2001: A Space Odyssey\"],\"legendgroup\":\"Adventure,Sci-Fi\",\"marker\":{\"color\":\"#FECB52\",\"size\":[65889846.0],\"sizemode\":\"area\",\"sizeref\":6998597.75,\"symbol\":\"circle\"},\"mode\":\"markers\",\"name\":\"Adventure,Sci-Fi\",\"orientation\":\"v\",\"showlegend\":true,\"x\":[8.3],\"xaxis\":\"x\",\"y\":[65889846.0],\"yaxis\":\"y\",\"type\":\"scatter\"},{\"hovertemplate\":\"<b>%{hovertext}</b><br><br>genre=Crime,Thriller<br>rating=%{x}<br>box_office=%{marker.size}<extra></extra>\",\"hovertext\":[\"Reservoir Dogs\",\"Dial M for Murder\",\"Fargo\"],\"legendgroup\":\"Crime,Thriller\",\"marker\":{\"color\":\"#636efa\",\"size\":[2913644.0,31207.0,60611975.0],\"sizemode\":\"area\",\"sizeref\":6998597.75,\"symbol\":\"circle\"},\"mode\":\"markers\",\"name\":\"Crime,Thriller\",\"orientation\":\"v\",\"showlegend\":true,\"x\":[8.3,8.2,8.1],\"xaxis\":\"x\",\"y\":[2913644.0,31207.0,60611975.0],\"yaxis\":\"y\",\"type\":\"scatter\"},{\"hovertemplate\":\"<b>%{hovertext}</b><br><br>genre=Drama,Thriller,War<br>rating=%{x}<br>box_office=%{marker.size}<extra></extra>\",\"hovertext\":[\"Come and See\"],\"legendgroup\":\"Drama,Thriller,War\",\"marker\":{\"color\":\"#EF553B\",\"size\":[0.0],\"sizemode\":\"area\",\"sizeref\":6998597.75,\"symbol\":\"circle\"},\"mode\":\"markers\",\"name\":\"Drama,Thriller,War\",\"orientation\":\"v\",\"showlegend\":true,\"x\":[8.4],\"xaxis\":\"x\",\"y\":[0.0],\"yaxis\":\"y\",\"type\":\"scatter\"},{\"hovertemplate\":\"<b>%{hovertext}</b><br><br>genre=Drama,Mystery<br>rating=%{x}<br>box_office=%{marker.size}<extra></extra>\",\"hovertext\":[\"Citizen Kane\",\"Incendies\",\"The Father\"],\"legendgroup\":\"Drama,Mystery\",\"marker\":{\"color\":\"#00cc96\",\"size\":[1645133.0,6788659.0,24427162.0],\"sizemode\":\"area\",\"sizeref\":6998597.75,\"symbol\":\"circle\"},\"mode\":\"markers\",\"name\":\"Drama,Mystery\",\"orientation\":\"v\",\"showlegend\":true,\"x\":[8.3,8.3,8.2],\"xaxis\":\"x\",\"y\":[1645133.0,6788659.0,24427162.0],\"yaxis\":\"y\",\"type\":\"scatter\"},{\"hovertemplate\":\"<b>%{hovertext}</b><br><br>genre=Crime,Mystery,Thriller<br>rating=%{x}<br>box_office=%{marker.size}<extra></extra>\",\"hovertext\":[\"M\"],\"legendgroup\":\"Crime,Mystery,Thriller\",\"marker\":{\"color\":\"#ab63fa\",\"size\":[35566.0],\"sizemode\":\"area\",\"sizeref\":6998597.75,\"symbol\":\"circle\"},\"mode\":\"markers\",\"name\":\"Crime,Mystery,Thriller\",\"orientation\":\"v\",\"showlegend\":true,\"x\":[8.3],\"xaxis\":\"x\",\"y\":[35566.0],\"yaxis\":\"y\",\"type\":\"scatter\"},{\"hovertemplate\":\"<b>%{hovertext}</b><br><br>genre=Adventure,Biography,Drama<br>rating=%{x}<br>box_office=%{marker.size}<extra></extra>\",\"hovertext\":[\"Lawrence of Arabia\",\"Into the Wild\",\"Dersu Uzala\"],\"legendgroup\":\"Adventure,Biography,Drama\",\"marker\":{\"color\":\"#FFA15A\",\"size\":[45720631.0,56675895.0,14480.0],\"sizemode\":\"area\",\"sizeref\":6998597.75,\"symbol\":\"circle\"},\"mode\":\"markers\",\"name\":\"Adventure,Biography,Drama\",\"orientation\":\"v\",\"showlegend\":true,\"x\":[8.3,8.1,8.2],\"xaxis\":\"x\",\"y\":[45720631.0,56675895.0,14480.0],\"yaxis\":\"y\",\"type\":\"scatter\"},{\"hovertemplate\":\"<b>%{hovertext}</b><br><br>genre=Action,Adventure,Mystery<br>rating=%{x}<br>box_office=%{marker.size}<extra></extra>\",\"hovertext\":[\"North by Northwest\"],\"legendgroup\":\"Action,Adventure,Mystery\",\"marker\":{\"color\":\"#19d3f3\",\"size\":[142319.0],\"sizemode\":\"area\",\"sizeref\":6998597.75,\"symbol\":\"circle\"},\"mode\":\"markers\",\"name\":\"Action,Adventure,Mystery\",\"orientation\":\"v\",\"showlegend\":true,\"x\":[8.3],\"xaxis\":\"x\",\"y\":[142319.0],\"yaxis\":\"y\",\"type\":\"scatter\"},{\"hovertemplate\":\"<b>%{hovertext}</b><br><br>genre=Mystery,Romance,Thriller<br>rating=%{x}<br>box_office=%{marker.size}<extra></extra>\",\"hovertext\":[\"Vertigo\"],\"legendgroup\":\"Mystery,Romance,Thriller\",\"marker\":{\"color\":\"#FF6692\",\"size\":[7798146.0],\"sizemode\":\"area\",\"sizeref\":6998597.75,\"symbol\":\"circle\"},\"mode\":\"markers\",\"name\":\"Mystery,Romance,Thriller\",\"orientation\":\"v\",\"showlegend\":true,\"x\":[8.3],\"xaxis\":\"x\",\"y\":[7798146.0],\"yaxis\":\"y\",\"type\":\"scatter\"},{\"hovertemplate\":\"<b>%{hovertext}</b><br><br>genre=Comedy,Romance<br>rating=%{x}<br>box_office=%{marker.size}<extra></extra>\",\"hovertext\":[\"Am\\u00e9lie\",\"It Happened One Night\"],\"legendgroup\":\"Comedy,Romance\",\"marker\":{\"color\":\"#B6E880\",\"size\":[174122191.0,11477.0],\"sizemode\":\"area\",\"sizeref\":6998597.75,\"symbol\":\"circle\"},\"mode\":\"markers\",\"name\":\"Comedy,Romance\",\"orientation\":\"v\",\"showlegend\":true,\"x\":[8.3,8.1],\"xaxis\":\"x\",\"y\":[174122191.0,11477.0],\"yaxis\":\"y\",\"type\":\"scatter\"},{\"hovertemplate\":\"<b>%{hovertext}</b><br><br>genre=Crime,Sci-Fi<br>rating=%{x}<br>box_office=%{marker.size}<extra></extra>\",\"hovertext\":[\"A Clockwork Orange\"],\"legendgroup\":\"Crime,Sci-Fi\",\"marker\":{\"color\":\"#FF97FF\",\"size\":[26960374.0],\"sizemode\":\"area\",\"sizeref\":6998597.75,\"symbol\":\"circle\"},\"mode\":\"markers\",\"name\":\"Crime,Sci-Fi\",\"orientation\":\"v\",\"showlegend\":true,\"x\":[8.3],\"xaxis\":\"x\",\"y\":[26960374.0],\"yaxis\":\"y\",\"type\":\"scatter\"},{\"hovertemplate\":\"<b>%{hovertext}</b><br><br>genre=Crime,Drama,Film-Noir<br>rating=%{x}<br>box_office=%{marker.size}<extra></extra>\",\"hovertext\":[\"Double Indemnity\"],\"legendgroup\":\"Crime,Drama,Film-Noir\",\"marker\":{\"color\":\"#FECB52\",\"size\":[14651.0],\"sizemode\":\"area\",\"sizeref\":6998597.75,\"symbol\":\"circle\"},\"mode\":\"markers\",\"name\":\"Crime,Drama,Film-Noir\",\"orientation\":\"v\",\"showlegend\":true,\"x\":[8.3],\"xaxis\":\"x\",\"y\":[14651.0],\"yaxis\":\"y\",\"type\":\"scatter\"},{\"hovertemplate\":\"<b>%{hovertext}</b><br><br>genre=Comedy,Crime,Drama<br>rating=%{x}<br>box_office=%{marker.size}<extra></extra>\",\"hovertext\":[\"The Sting\",\"Three Billboards Outside Ebbing, Missouri\"],\"legendgroup\":\"Comedy,Crime,Drama\",\"marker\":{\"color\":\"#636efa\",\"size\":[156000000.0,162861289.0],\"sizemode\":\"area\",\"sizeref\":6998597.75,\"symbol\":\"circle\"},\"mode\":\"markers\",\"name\":\"Comedy,Crime,Drama\",\"orientation\":\"v\",\"showlegend\":true,\"x\":[8.3,8.1],\"xaxis\":\"x\",\"y\":[156000000.0,162861289.0],\"yaxis\":\"y\",\"type\":\"scatter\"},{\"hovertemplate\":\"<b>%{hovertext}</b><br><br>genre=Drama,Sci-Fi<br>rating=%{x}<br>box_office=%{marker.size}<extra></extra>\",\"hovertext\":[\"Metropolis\"],\"legendgroup\":\"Drama,Sci-Fi\",\"marker\":{\"color\":\"#EF553B\",\"size\":[1349711.0],\"sizemode\":\"area\",\"sizeref\":6998597.75,\"symbol\":\"circle\"},\"mode\":\"markers\",\"name\":\"Drama,Sci-Fi\",\"orientation\":\"v\",\"showlegend\":true,\"x\":[8.3],\"xaxis\":\"x\",\"y\":[1349711.0],\"yaxis\":\"y\",\"type\":\"scatter\"},{\"hovertemplate\":\"<b>%{hovertext}</b><br><br>genre=Action,Thriller<br>rating=%{x}<br>box_office=%{marker.size}<extra></extra>\",\"hovertext\":[\"Die Hard\"],\"legendgroup\":\"Action,Thriller\",\"marker\":{\"color\":\"#00cc96\",\"size\":[141603197.0],\"sizemode\":\"area\",\"sizeref\":6998597.75,\"symbol\":\"circle\"},\"mode\":\"markers\",\"name\":\"Action,Thriller\",\"orientation\":\"v\",\"showlegend\":true,\"x\":[8.2],\"xaxis\":\"x\",\"y\":[141603197.0],\"yaxis\":\"y\",\"type\":\"scatter\"},{\"hovertemplate\":\"<b>%{hovertext}</b><br><br>genre=Comedy,Crime<br>rating=%{x}<br>box_office=%{marker.size}<extra></extra>\",\"hovertext\":[\"Snatch\",\"The Big Lebowski\"],\"legendgroup\":\"Comedy,Crime\",\"marker\":{\"color\":\"#ab63fa\",\"size\":[83557872.0,46969409.0],\"sizemode\":\"area\",\"sizeref\":6998597.75,\"symbol\":\"circle\"},\"mode\":\"markers\",\"name\":\"Comedy,Crime\",\"orientation\":\"v\",\"showlegend\":true,\"x\":[8.2,8.1],\"xaxis\":\"x\",\"y\":[83557872.0,46969409.0],\"yaxis\":\"y\",\"type\":\"scatter\"},{\"hovertemplate\":\"<b>%{hovertext}</b><br><br>genre=Drama,Family<br>rating=%{x}<br>box_office=%{marker.size}<extra></extra>\",\"hovertext\":[\"Like Stars on Earth\",\"My Father and My Son\"],\"legendgroup\":\"Drama,Family\",\"marker\":{\"color\":\"#FFA15A\",\"size\":[21897373.0,0.0],\"sizemode\":\"area\",\"sizeref\":6998597.75,\"symbol\":\"circle\"},\"mode\":\"markers\",\"name\":\"Drama,Family\",\"orientation\":\"v\",\"showlegend\":true,\"x\":[8.3,8.2],\"xaxis\":\"x\",\"y\":[21897373.0,0.0],\"yaxis\":\"y\",\"type\":\"scatter\"},{\"hovertemplate\":\"<b>%{hovertext}</b><br><br>genre=Action,Drama,War<br>rating=%{x}<br>box_office=%{marker.size}<extra></extra>\",\"hovertext\":[\"1917\",\"Ran\"],\"legendgroup\":\"Action,Drama,War\",\"marker\":{\"color\":\"#19d3f3\",\"size\":[384479940.0,4164283.0],\"sizemode\":\"area\",\"sizeref\":6998597.75,\"symbol\":\"circle\"},\"mode\":\"markers\",\"name\":\"Action,Drama,War\",\"orientation\":\"v\",\"showlegend\":true,\"x\":[8.2,8.2],\"xaxis\":\"x\",\"y\":[384479940.0,4164283.0],\"yaxis\":\"y\",\"type\":\"scatter\"},{\"hovertemplate\":\"<b>%{hovertext}</b><br><br>genre=Action,Biography,Drama<br>rating=%{x}<br>box_office=%{marker.size}<extra></extra>\",\"hovertext\":[\"Dangal\",\"Ford v Ferrari\",\"Rush\"],\"legendgroup\":\"Action,Biography,Drama\",\"marker\":{\"color\":\"#FF6692\",\"size\":[0.0,225508210.0,96983009.0],\"sizemode\":\"area\",\"sizeref\":6998597.75,\"symbol\":\"circle\"},\"mode\":\"markers\",\"name\":\"Action,Biography,Drama\",\"orientation\":\"v\",\"showlegend\":true,\"x\":[8.3,8.1,8.1],\"xaxis\":\"x\",\"y\":[0.0,225508210.0,96983009.0],\"yaxis\":\"y\",\"type\":\"scatter\"},{\"hovertemplate\":\"<b>%{hovertext}</b><br><br>genre=Comedy,Drama,Family<br>rating=%{x}<br>box_office=%{marker.size}<extra></extra>\",\"hovertext\":[\"The Kid\"],\"legendgroup\":\"Comedy,Drama,Family\",\"marker\":{\"color\":\"#B6E880\",\"size\":[41960.0],\"sizemode\":\"area\",\"sizeref\":6998597.75,\"symbol\":\"circle\"},\"mode\":\"markers\",\"name\":\"Comedy,Drama,Family\",\"orientation\":\"v\",\"showlegend\":true,\"x\":[8.3],\"xaxis\":\"x\",\"y\":[41960.0],\"yaxis\":\"y\",\"type\":\"scatter\"},{\"hovertemplate\":\"<b>%{hovertext}</b><br><br>genre=Comedy,Music,Romance<br>rating=%{x}<br>box_office=%{marker.size}<extra></extra>\",\"hovertext\":[\"Some Like It Hot\"],\"legendgroup\":\"Comedy,Music,Romance\",\"marker\":{\"color\":\"#FF97FF\",\"size\":[195088.0],\"sizemode\":\"area\",\"sizeref\":6998597.75,\"symbol\":\"circle\"},\"mode\":\"markers\",\"name\":\"Comedy,Music,Romance\",\"orientation\":\"v\",\"showlegend\":true,\"x\":[8.2],\"xaxis\":\"x\",\"y\":[195088.0],\"yaxis\":\"y\",\"type\":\"scatter\"},{\"hovertemplate\":\"<b>%{hovertext}</b><br><br>genre=Biography,Comedy,Crime<br>rating=%{x}<br>box_office=%{marker.size}<extra></extra>\",\"hovertext\":[\"The Wolf of Wall Street\"],\"legendgroup\":\"Biography,Comedy,Crime\",\"marker\":{\"color\":\"#FECB52\",\"size\":[406878233.0],\"sizemode\":\"area\",\"sizeref\":6998597.75,\"symbol\":\"circle\"},\"mode\":\"markers\",\"name\":\"Biography,Comedy,Crime\",\"orientation\":\"v\",\"showlegend\":true,\"x\":[8.2],\"xaxis\":\"x\",\"y\":[406878233.0],\"yaxis\":\"y\",\"type\":\"scatter\"},{\"hovertemplate\":\"<b>%{hovertext}</b><br><br>genre=Drama,Fantasy,War<br>rating=%{x}<br>box_office=%{marker.size}<extra></extra>\",\"hovertext\":[\"Pan's Labyrinth\"],\"legendgroup\":\"Drama,Fantasy,War\",\"marker\":{\"color\":\"#636efa\",\"size\":[83862032.0],\"sizemode\":\"area\",\"sizeref\":6998597.75,\"symbol\":\"circle\"},\"mode\":\"markers\",\"name\":\"Drama,Fantasy,War\",\"orientation\":\"v\",\"showlegend\":true,\"x\":[8.2],\"xaxis\":\"x\",\"y\":[83862032.0],\"yaxis\":\"y\",\"type\":\"scatter\"},{\"hovertemplate\":\"<b>%{hovertext}</b><br><br>genre=Biography,Drama<br>rating=%{x}<br>box_office=%{marker.size}<extra></extra>\",\"hovertext\":[\"A Beautiful Mind\",\"The Elephant Man\"],\"legendgroup\":\"Biography,Drama\",\"marker\":{\"color\":\"#EF553B\",\"size\":[316791257.0,26023860.0],\"sizemode\":\"area\",\"sizeref\":6998597.75,\"symbol\":\"circle\"},\"mode\":\"markers\",\"name\":\"Biography,Drama\",\"orientation\":\"v\",\"showlegend\":true,\"x\":[8.2,8.2],\"xaxis\":\"x\",\"y\":[316791257.0,26023860.0],\"yaxis\":\"y\",\"type\":\"scatter\"},{\"hovertemplate\":\"<b>%{hovertext}</b><br><br>genre=Action,Drama,Thriller<br>rating=%{x}<br>box_office=%{marker.size}<extra></extra>\",\"hovertext\":[\"Yojimbo\"],\"legendgroup\":\"Action,Drama,Thriller\",\"marker\":{\"color\":\"#00cc96\",\"size\":[46808.0],\"sizemode\":\"area\",\"sizeref\":6998597.75,\"symbol\":\"circle\"},\"mode\":\"markers\",\"name\":\"Action,Drama,Thriller\",\"orientation\":\"v\",\"showlegend\":true,\"x\":[8.2],\"xaxis\":\"x\",\"y\":[46808.0],\"yaxis\":\"y\",\"type\":\"scatter\"},{\"hovertemplate\":\"<b>%{hovertext}</b><br><br>genre=Adventure,Drama,Western<br>rating=%{x}<br>box_office=%{marker.size}<extra></extra>\",\"hovertext\":[\"The Treasure of the Sierra Madre\",\"Dances with Wolves\"],\"legendgroup\":\"Adventure,Drama,Western\",\"marker\":{\"color\":\"#ab63fa\",\"size\":[5014000.0,424208848.0],\"sizemode\":\"area\",\"sizeref\":6998597.75,\"symbol\":\"circle\"},\"mode\":\"markers\",\"name\":\"Adventure,Drama,Western\",\"orientation\":\"v\",\"showlegend\":true,\"x\":[8.2,8.0],\"xaxis\":\"x\",\"y\":[5014000.0,424208848.0],\"yaxis\":\"y\",\"type\":\"scatter\"},{\"hovertemplate\":\"<b>%{hovertext}</b><br><br>genre=Adventure,Comedy,Fantasy<br>rating=%{x}<br>box_office=%{marker.size}<extra></extra>\",\"hovertext\":[\"Monty Python and the Holy Grail\"],\"legendgroup\":\"Adventure,Comedy,Fantasy\",\"marker\":{\"color\":\"#FFA15A\",\"size\":[1940906.0],\"sizemode\":\"area\",\"sizeref\":6998597.75,\"symbol\":\"circle\"},\"mode\":\"markers\",\"name\":\"Adventure,Comedy,Fantasy\",\"orientation\":\"v\",\"showlegend\":true,\"x\":[8.2],\"xaxis\":\"x\",\"y\":[1940906.0],\"yaxis\":\"y\",\"type\":\"scatter\"},{\"hovertemplate\":\"<b>%{hovertext}</b><br><br>genre=Adventure,Drama,History<br>rating=%{x}<br>box_office=%{marker.size}<extra></extra>\",\"hovertext\":[\"The Great Escape\"],\"legendgroup\":\"Adventure,Drama,History\",\"marker\":{\"color\":\"#19d3f3\",\"size\":[228178.0],\"sizemode\":\"area\",\"sizeref\":6998597.75,\"symbol\":\"circle\"},\"mode\":\"markers\",\"name\":\"Adventure,Drama,History\",\"orientation\":\"v\",\"showlegend\":true,\"x\":[8.2],\"xaxis\":\"x\",\"y\":[228178.0],\"yaxis\":\"y\",\"type\":\"scatter\"},{\"hovertemplate\":\"<b>%{hovertext}</b><br><br>genre=Horror,Mystery,Sci-Fi<br>rating=%{x}<br>box_office=%{marker.size}<extra></extra>\",\"hovertext\":[\"The Thing\"],\"legendgroup\":\"Horror,Mystery,Sci-Fi\",\"marker\":{\"color\":\"#FF6692\",\"size\":[19632715.0],\"sizemode\":\"area\",\"sizeref\":6998597.75,\"symbol\":\"circle\"},\"mode\":\"markers\",\"name\":\"Horror,Mystery,Sci-Fi\",\"orientation\":\"v\",\"showlegend\":true,\"x\":[8.2],\"xaxis\":\"x\",\"y\":[19632715.0],\"yaxis\":\"y\",\"type\":\"scatter\"},{\"hovertemplate\":\"<b>%{hovertext}</b><br><br>genre=Biography,Drama,Sport<br>rating=%{x}<br>box_office=%{marker.size}<extra></extra>\",\"hovertext\":[\"Raging Bull\"],\"legendgroup\":\"Biography,Drama,Sport\",\"marker\":{\"color\":\"#B6E880\",\"size\":[23402427.0],\"sizemode\":\"area\",\"sizeref\":6998597.75,\"symbol\":\"circle\"},\"mode\":\"markers\",\"name\":\"Biography,Drama,Sport\",\"orientation\":\"v\",\"showlegend\":true,\"x\":[8.2],\"xaxis\":\"x\",\"y\":[23402427.0],\"yaxis\":\"y\",\"type\":\"scatter\"},{\"hovertemplate\":\"<b>%{hovertext}</b><br><br>genre=Action,Drama,Sci-Fi<br>rating=%{x}<br>box_office=%{marker.size}<extra></extra>\",\"hovertext\":[\"V for Vendetta\",\"Blade Runner\",\"Logan\"],\"legendgroup\":\"Action,Drama,Sci-Fi\",\"marker\":{\"color\":\"#FF97FF\",\"size\":[134686457.0,41722424.0,619179950.0],\"sizemode\":\"area\",\"sizeref\":6998597.75,\"symbol\":\"circle\"},\"mode\":\"markers\",\"name\":\"Action,Drama,Sci-Fi\",\"orientation\":\"v\",\"showlegend\":true,\"x\":[8.2,8.1,8.1],\"xaxis\":\"x\",\"y\":[134686457.0,41722424.0,619179950.0],\"yaxis\":\"y\",\"type\":\"scatter\"},{\"hovertemplate\":\"<b>%{hovertext}</b><br><br>genre=Action,Comedy,Crime<br>rating=%{x}<br>box_office=%{marker.size}<extra></extra>\",\"hovertext\":[\"Lock, Stock and Two Smoking Barrels\"],\"legendgroup\":\"Action,Comedy,Crime\",\"marker\":{\"color\":\"#FECB52\",\"size\":[3753929.0],\"sizemode\":\"area\",\"sizeref\":6998597.75,\"symbol\":\"circle\"},\"mode\":\"markers\",\"name\":\"Action,Comedy,Crime\",\"orientation\":\"v\",\"showlegend\":true,\"x\":[8.2],\"xaxis\":\"x\",\"y\":[3753929.0],\"yaxis\":\"y\",\"type\":\"scatter\"},{\"hovertemplate\":\"<b>%{hovertext}</b><br><br>genre=Drama,Mystery,Romance<br>rating=%{x}<br>box_office=%{marker.size}<extra></extra>\",\"hovertext\":[\"The Secret in Their Eyes\"],\"legendgroup\":\"Drama,Mystery,Romance\",\"marker\":{\"color\":\"#636efa\",\"size\":[0.0],\"sizemode\":\"area\",\"sizeref\":6998597.75,\"symbol\":\"circle\"},\"mode\":\"markers\",\"name\":\"Drama,Mystery,Romance\",\"orientation\":\"v\",\"showlegend\":true,\"x\":[8.2],\"xaxis\":\"x\",\"y\":[0.0],\"yaxis\":\"y\",\"type\":\"scatter\"},{\"hovertemplate\":\"<b>%{hovertext}</b><br><br>genre=Action,Drama,Sport<br>rating=%{x}<br>box_office=%{marker.size}<extra></extra>\",\"hovertext\":[\"Warrior\"],\"legendgroup\":\"Action,Drama,Sport\",\"marker\":{\"color\":\"#EF553B\",\"size\":[23308615.0],\"sizemode\":\"area\",\"sizeref\":6998597.75,\"symbol\":\"circle\"},\"mode\":\"markers\",\"name\":\"Action,Drama,Sport\",\"orientation\":\"v\",\"showlegend\":true,\"x\":[8.2],\"xaxis\":\"x\",\"y\":[23308615.0],\"yaxis\":\"y\",\"type\":\"scatter\"},{\"hovertemplate\":\"<b>%{hovertext}</b><br><br>genre=Animation,Comedy,Family<br>rating=%{x}<br>box_office=%{marker.size}<extra></extra>\",\"hovertext\":[\"My Neighbor Totoro\"],\"legendgroup\":\"Animation,Comedy,Family\",\"marker\":{\"color\":\"#00cc96\",\"size\":[0.0],\"sizemode\":\"area\",\"sizeref\":6998597.75,\"symbol\":\"circle\"},\"mode\":\"markers\",\"name\":\"Animation,Comedy,Family\",\"orientation\":\"v\",\"showlegend\":true,\"x\":[8.1],\"xaxis\":\"x\",\"y\":[0.0],\"yaxis\":\"y\",\"type\":\"scatter\"},{\"hovertemplate\":\"<b>%{hovertext}</b><br><br>genre=Drama,Sport<br>rating=%{x}<br>box_office=%{marker.size}<extra></extra>\",\"hovertext\":[\"Million Dollar Baby\",\"Rocky\"],\"legendgroup\":\"Drama,Sport\",\"marker\":{\"color\":\"#ab63fa\",\"size\":[216763646.0,117250402.0],\"sizemode\":\"area\",\"sizeref\":6998597.75,\"symbol\":\"circle\"},\"mode\":\"markers\",\"name\":\"Drama,Sport\",\"orientation\":\"v\",\"showlegend\":true,\"x\":[8.1,8.1],\"xaxis\":\"x\",\"y\":[216763646.0,117250402.0],\"yaxis\":\"y\",\"type\":\"scatter\"},{\"hovertemplate\":\"<b>%{hovertext}</b><br><br>genre=Drama,Family,Sport<br>rating=%{x}<br>box_office=%{marker.size}<extra></extra>\",\"hovertext\":[\"Children of Heaven\"],\"legendgroup\":\"Drama,Family,Sport\",\"marker\":{\"color\":\"#FFA15A\",\"size\":[0.0],\"sizemode\":\"area\",\"sizeref\":6998597.75,\"symbol\":\"circle\"},\"mode\":\"markers\",\"name\":\"Drama,Family,Sport\",\"orientation\":\"v\",\"showlegend\":true,\"x\":[8.2],\"xaxis\":\"x\",\"y\":[0.0],\"yaxis\":\"y\",\"type\":\"scatter\"},{\"hovertemplate\":\"<b>%{hovertext}</b><br><br>genre=Adventure,Comedy,Drama<br>rating=%{x}<br>box_office=%{marker.size}<extra></extra>\",\"hovertext\":[\"The Gold Rush\"],\"legendgroup\":\"Adventure,Comedy,Drama\",\"marker\":{\"color\":\"#19d3f3\",\"size\":[29328.0],\"sizemode\":\"area\",\"sizeref\":6998597.75,\"symbol\":\"circle\"},\"mode\":\"markers\",\"name\":\"Adventure,Comedy,Drama\",\"orientation\":\"v\",\"showlegend\":true,\"x\":[8.1],\"xaxis\":\"x\",\"y\":[29328.0],\"yaxis\":\"y\",\"type\":\"scatter\"},{\"hovertemplate\":\"<b>%{hovertext}</b><br><br>genre=Adventure,Family,Fantasy<br>rating=%{x}<br>box_office=%{marker.size}<extra></extra>\",\"hovertext\":[\"Harry Potter and the Deathly Hallows: Part 2\",\"The Wizard of Oz\"],\"legendgroup\":\"Adventure,Family,Fantasy\",\"marker\":{\"color\":\"#FF6692\",\"size\":[1342359942.0,25637669.0],\"sizemode\":\"area\",\"sizeref\":6998597.75,\"symbol\":\"circle\"},\"mode\":\"markers\",\"name\":\"Adventure,Family,Fantasy\",\"orientation\":\"v\",\"showlegend\":true,\"x\":[8.1,8.1],\"xaxis\":\"x\",\"y\":[1342359942.0,25637669.0],\"yaxis\":\"y\",\"type\":\"scatter\"},{\"hovertemplate\":\"<b>%{hovertext}</b><br><br>genre=Adventure,Drama<br>rating=%{x}<br>box_office=%{marker.size}<extra></extra>\",\"hovertext\":[\"Ben-Hur\",\"Stand by Me\"],\"legendgroup\":\"Adventure,Drama\",\"marker\":{\"color\":\"#B6E880\",\"size\":[74437720.0,52287414.0],\"sizemode\":\"area\",\"sizeref\":6998597.75,\"symbol\":\"circle\"},\"mode\":\"markers\",\"name\":\"Adventure,Drama\",\"orientation\":\"v\",\"showlegend\":true,\"x\":[8.1,8.1],\"xaxis\":\"x\",\"y\":[74437720.0,52287414.0],\"yaxis\":\"y\",\"type\":\"scatter\"},{\"hovertemplate\":\"<b>%{hovertext}</b><br><br>genre=Adventure,Comedy,Crime<br>rating=%{x}<br>box_office=%{marker.size}<extra></extra>\",\"hovertext\":[\"The Grand Budapest Hotel\"],\"legendgroup\":\"Adventure,Comedy,Crime\",\"marker\":{\"color\":\"#FF97FF\",\"size\":[173082189.0],\"sizemode\":\"area\",\"sizeref\":6998597.75,\"symbol\":\"circle\"},\"mode\":\"markers\",\"name\":\"Adventure,Comedy,Crime\",\"orientation\":\"v\",\"showlegend\":true,\"x\":[8.1],\"xaxis\":\"x\",\"y\":[173082189.0],\"yaxis\":\"y\",\"type\":\"scatter\"},{\"hovertemplate\":\"<b>%{hovertext}</b><br><br>genre=Film-Noir,Mystery,Thriller<br>rating=%{x}<br>box_office=%{marker.size}<extra></extra>\",\"hovertext\":[\"The Third Man\"],\"legendgroup\":\"Film-Noir,Mystery,Thriller\",\"marker\":{\"color\":\"#FECB52\",\"size\":[1226507.0],\"sizemode\":\"area\",\"sizeref\":6998597.75,\"symbol\":\"circle\"},\"mode\":\"markers\",\"name\":\"Film-Noir,Mystery,Thriller\",\"orientation\":\"v\",\"showlegend\":true,\"x\":[8.1],\"xaxis\":\"x\",\"y\":[1226507.0],\"yaxis\":\"y\",\"type\":\"scatter\"},{\"hovertemplate\":\"<b>%{hovertext}</b><br><br>genre=Adventure,Drama,Thriller<br>rating=%{x}<br>box_office=%{marker.size}<extra></extra>\",\"hovertext\":[\"The Wages of Fear\"],\"legendgroup\":\"Adventure,Drama,Thriller\",\"marker\":{\"color\":\"#636efa\",\"size\":[1098.0],\"sizemode\":\"area\",\"sizeref\":6998597.75,\"symbol\":\"circle\"},\"mode\":\"markers\",\"name\":\"Adventure,Drama,Thriller\",\"orientation\":\"v\",\"showlegend\":true,\"x\":[8.2],\"xaxis\":\"x\",\"y\":[1098.0],\"yaxis\":\"y\",\"type\":\"scatter\"},{\"hovertemplate\":\"<b>%{hovertext}</b><br><br>genre=Action,Comedy,Romance<br>rating=%{x}<br>box_office=%{marker.size}<extra></extra>\",\"hovertext\":[\"Sherlock Jr.\"],\"legendgroup\":\"Action,Comedy,Romance\",\"marker\":{\"color\":\"#EF553B\",\"size\":[0.0],\"sizemode\":\"area\",\"sizeref\":6998597.75,\"symbol\":\"circle\"},\"mode\":\"markers\",\"name\":\"Action,Comedy,Romance\",\"orientation\":\"v\",\"showlegend\":true,\"x\":[8.2],\"xaxis\":\"x\",\"y\":[0.0],\"yaxis\":\"y\",\"type\":\"scatter\"},{\"hovertemplate\":\"<b>%{hovertext}</b><br><br>genre=Comedy,Drama,Thriller<br>rating=%{x}<br>box_office=%{marker.size}<extra></extra>\",\"hovertext\":[\"Wild Tales\"],\"legendgroup\":\"Comedy,Drama,Thriller\",\"marker\":{\"color\":\"#00cc96\",\"size\":[0.0],\"sizemode\":\"area\",\"sizeref\":6998597.75,\"symbol\":\"circle\"},\"mode\":\"markers\",\"name\":\"Comedy,Drama,Thriller\",\"orientation\":\"v\",\"showlegend\":true,\"x\":[8.1],\"xaxis\":\"x\",\"y\":[0.0],\"yaxis\":\"y\",\"type\":\"scatter\"},{\"hovertemplate\":\"<b>%{hovertext}</b><br><br>genre=Drama,Fantasy<br>rating=%{x}<br>box_office=%{marker.size}<extra></extra>\",\"hovertext\":[\"The Seventh Seal\"],\"legendgroup\":\"Drama,Fantasy\",\"marker\":{\"color\":\"#ab63fa\",\"size\":[311212.0],\"sizemode\":\"area\",\"sizeref\":6998597.75,\"symbol\":\"circle\"},\"mode\":\"markers\",\"name\":\"Drama,Fantasy\",\"orientation\":\"v\",\"showlegend\":true,\"x\":[8.1],\"xaxis\":\"x\",\"y\":[311212.0],\"yaxis\":\"y\",\"type\":\"scatter\"},{\"hovertemplate\":\"<b>%{hovertext}</b><br><br>genre=Animation,Comedy,Drama<br>rating=%{x}<br>box_office=%{marker.size}<extra></extra>\",\"hovertext\":[\"Mary and Max\"],\"legendgroup\":\"Animation,Comedy,Drama\",\"marker\":{\"color\":\"#FFA15A\",\"size\":[1740429.0],\"sizemode\":\"area\",\"sizeref\":6998597.75,\"symbol\":\"circle\"},\"mode\":\"markers\",\"name\":\"Animation,Comedy,Drama\",\"orientation\":\"v\",\"showlegend\":true,\"x\":[8.1],\"xaxis\":\"x\",\"y\":[1740429.0],\"yaxis\":\"y\",\"type\":\"scatter\"},{\"hovertemplate\":\"<b>%{hovertext}</b><br><br>genre=Adventure,Thriller<br>rating=%{x}<br>box_office=%{marker.size}<extra></extra>\",\"hovertext\":[\"Jaws\"],\"legendgroup\":\"Adventure,Thriller\",\"marker\":{\"color\":\"#19d3f3\",\"size\":[476512065.0],\"sizemode\":\"area\",\"sizeref\":6998597.75,\"symbol\":\"circle\"},\"mode\":\"markers\",\"name\":\"Adventure,Thriller\",\"orientation\":\"v\",\"showlegend\":true,\"x\":[8.1],\"xaxis\":\"x\",\"y\":[476512065.0],\"yaxis\":\"y\",\"type\":\"scatter\"},{\"hovertemplate\":\"<b>%{hovertext}</b><br><br>genre=Comedy,Drama,Fantasy<br>rating=%{x}<br>box_office=%{marker.size}<extra></extra>\",\"hovertext\":[\"Groundhog Day\"],\"legendgroup\":\"Comedy,Drama,Fantasy\",\"marker\":{\"color\":\"#FF6692\",\"size\":[71108591.0],\"sizemode\":\"area\",\"sizeref\":6998597.75,\"symbol\":\"circle\"},\"mode\":\"markers\",\"name\":\"Comedy,Drama,Fantasy\",\"orientation\":\"v\",\"showlegend\":true,\"x\":[8.1],\"xaxis\":\"x\",\"y\":[71108591.0],\"yaxis\":\"y\",\"type\":\"scatter\"},{\"hovertemplate\":\"<b>%{hovertext}</b><br><br>genre=Horror<br>rating=%{x}<br>box_office=%{marker.size}<extra></extra>\",\"hovertext\":[\"The Exorcist\"],\"legendgroup\":\"Horror\",\"marker\":{\"color\":\"#B6E880\",\"size\":[441306145.0],\"sizemode\":\"area\",\"sizeref\":6998597.75,\"symbol\":\"circle\"},\"mode\":\"markers\",\"name\":\"Horror\",\"orientation\":\"v\",\"showlegend\":true,\"x\":[8.1],\"xaxis\":\"x\",\"y\":[441306145.0],\"yaxis\":\"y\",\"type\":\"scatter\"},{\"hovertemplate\":\"<b>%{hovertext}</b><br><br>genre=Comedy,Romance,War<br>rating=%{x}<br>box_office=%{marker.size}<extra></extra>\",\"hovertext\":[\"To Be or Not to Be\"],\"legendgroup\":\"Comedy,Romance,War\",\"marker\":{\"color\":\"#FF97FF\",\"size\":[0.0],\"sizemode\":\"area\",\"sizeref\":6998597.75,\"symbol\":\"circle\"},\"mode\":\"markers\",\"name\":\"Comedy,Romance,War\",\"orientation\":\"v\",\"showlegend\":true,\"x\":[8.2],\"xaxis\":\"x\",\"y\":[0.0],\"yaxis\":\"y\",\"type\":\"scatter\"},{\"hovertemplate\":\"<b>%{hovertext}</b><br><br>genre=Biography,Drama,Family<br>rating=%{x}<br>box_office=%{marker.size}<extra></extra>\",\"hovertext\":[\"Hachi: A Dog's Tale\",\"The Sound of Music\"],\"legendgroup\":\"Biography,Drama,Family\",\"marker\":{\"color\":\"#FECB52\",\"size\":[0.0,159428329.0],\"sizemode\":\"area\",\"sizeref\":6998597.75,\"symbol\":\"circle\"},\"mode\":\"markers\",\"name\":\"Biography,Drama,Family\",\"orientation\":\"v\",\"showlegend\":true,\"x\":[8.1,8.1],\"xaxis\":\"x\",\"y\":[0.0,159428329.0],\"yaxis\":\"y\",\"type\":\"scatter\"},{\"hovertemplate\":\"<b>%{hovertext}</b><br><br>genre=Drama,Film-Noir,Mystery<br>rating=%{x}<br>box_office=%{marker.size}<extra></extra>\",\"hovertext\":[\"Rebecca\"],\"legendgroup\":\"Drama,Film-Noir,Mystery\",\"marker\":{\"color\":\"#636efa\",\"size\":[72275.0],\"sizemode\":\"area\",\"sizeref\":6998597.75,\"symbol\":\"circle\"},\"mode\":\"markers\",\"name\":\"Drama,Film-Noir,Mystery\",\"orientation\":\"v\",\"showlegend\":true,\"x\":[8.1],\"xaxis\":\"x\",\"y\":[72275.0],\"yaxis\":\"y\",\"type\":\"scatter\"},{\"hovertemplate\":\"<b>%{hovertext}</b><br><br>genre=Drama,Romance,Thriller<br>rating=%{x}<br>box_office=%{marker.size}<extra></extra>\",\"hovertext\":[\"The Handmaiden\"],\"legendgroup\":\"Drama,Romance,Thriller\",\"marker\":{\"color\":\"#EF553B\",\"size\":[0.0],\"sizemode\":\"area\",\"sizeref\":6998597.75,\"symbol\":\"circle\"},\"mode\":\"markers\",\"name\":\"Drama,Romance,Thriller\",\"orientation\":\"v\",\"showlegend\":true,\"x\":[8.1],\"xaxis\":\"x\",\"y\":[0.0],\"yaxis\":\"y\",\"type\":\"scatter\"},{\"hovertemplate\":\"<b>%{hovertext}</b><br><br>genre=Comedy<br>rating=%{x}<br>box_office=%{marker.size}<extra></extra>\",\"hovertext\":[\"Life of Brian\"],\"legendgroup\":\"Comedy\",\"marker\":{\"color\":\"#00cc96\",\"size\":[20745728.0],\"sizemode\":\"area\",\"sizeref\":6998597.75,\"symbol\":\"circle\"},\"mode\":\"markers\",\"name\":\"Comedy\",\"orientation\":\"v\",\"showlegend\":true,\"x\":[8.0],\"xaxis\":\"x\",\"y\":[20745728.0],\"yaxis\":\"y\",\"type\":\"scatter\"}],                        {\"template\":{\"data\":{\"histogram2dcontour\":[{\"type\":\"histogram2dcontour\",\"colorbar\":{\"outlinewidth\":0,\"ticks\":\"\"},\"colorscale\":[[0.0,\"#0d0887\"],[0.1111111111111111,\"#46039f\"],[0.2222222222222222,\"#7201a8\"],[0.3333333333333333,\"#9c179e\"],[0.4444444444444444,\"#bd3786\"],[0.5555555555555556,\"#d8576b\"],[0.6666666666666666,\"#ed7953\"],[0.7777777777777778,\"#fb9f3a\"],[0.8888888888888888,\"#fdca26\"],[1.0,\"#f0f921\"]]}],\"choropleth\":[{\"type\":\"choropleth\",\"colorbar\":{\"outlinewidth\":0,\"ticks\":\"\"}}],\"histogram2d\":[{\"type\":\"histogram2d\",\"colorbar\":{\"outlinewidth\":0,\"ticks\":\"\"},\"colorscale\":[[0.0,\"#0d0887\"],[0.1111111111111111,\"#46039f\"],[0.2222222222222222,\"#7201a8\"],[0.3333333333333333,\"#9c179e\"],[0.4444444444444444,\"#bd3786\"],[0.5555555555555556,\"#d8576b\"],[0.6666666666666666,\"#ed7953\"],[0.7777777777777778,\"#fb9f3a\"],[0.8888888888888888,\"#fdca26\"],[1.0,\"#f0f921\"]]}],\"heatmap\":[{\"type\":\"heatmap\",\"colorbar\":{\"outlinewidth\":0,\"ticks\":\"\"},\"colorscale\":[[0.0,\"#0d0887\"],[0.1111111111111111,\"#46039f\"],[0.2222222222222222,\"#7201a8\"],[0.3333333333333333,\"#9c179e\"],[0.4444444444444444,\"#bd3786\"],[0.5555555555555556,\"#d8576b\"],[0.6666666666666666,\"#ed7953\"],[0.7777777777777778,\"#fb9f3a\"],[0.8888888888888888,\"#fdca26\"],[1.0,\"#f0f921\"]]}],\"heatmapgl\":[{\"type\":\"heatmapgl\",\"colorbar\":{\"outlinewidth\":0,\"ticks\":\"\"},\"colorscale\":[[0.0,\"#0d0887\"],[0.1111111111111111,\"#46039f\"],[0.2222222222222222,\"#7201a8\"],[0.3333333333333333,\"#9c179e\"],[0.4444444444444444,\"#bd3786\"],[0.5555555555555556,\"#d8576b\"],[0.6666666666666666,\"#ed7953\"],[0.7777777777777778,\"#fb9f3a\"],[0.8888888888888888,\"#fdca26\"],[1.0,\"#f0f921\"]]}],\"contourcarpet\":[{\"type\":\"contourcarpet\",\"colorbar\":{\"outlinewidth\":0,\"ticks\":\"\"}}],\"contour\":[{\"type\":\"contour\",\"colorbar\":{\"outlinewidth\":0,\"ticks\":\"\"},\"colorscale\":[[0.0,\"#0d0887\"],[0.1111111111111111,\"#46039f\"],[0.2222222222222222,\"#7201a8\"],[0.3333333333333333,\"#9c179e\"],[0.4444444444444444,\"#bd3786\"],[0.5555555555555556,\"#d8576b\"],[0.6666666666666666,\"#ed7953\"],[0.7777777777777778,\"#fb9f3a\"],[0.8888888888888888,\"#fdca26\"],[1.0,\"#f0f921\"]]}],\"surface\":[{\"type\":\"surface\",\"colorbar\":{\"outlinewidth\":0,\"ticks\":\"\"},\"colorscale\":[[0.0,\"#0d0887\"],[0.1111111111111111,\"#46039f\"],[0.2222222222222222,\"#7201a8\"],[0.3333333333333333,\"#9c179e\"],[0.4444444444444444,\"#bd3786\"],[0.5555555555555556,\"#d8576b\"],[0.6666666666666666,\"#ed7953\"],[0.7777777777777778,\"#fb9f3a\"],[0.8888888888888888,\"#fdca26\"],[1.0,\"#f0f921\"]]}],\"mesh3d\":[{\"type\":\"mesh3d\",\"colorbar\":{\"outlinewidth\":0,\"ticks\":\"\"}}],\"scatter\":[{\"fillpattern\":{\"fillmode\":\"overlay\",\"size\":10,\"solidity\":0.2},\"type\":\"scatter\"}],\"parcoords\":[{\"type\":\"parcoords\",\"line\":{\"colorbar\":{\"outlinewidth\":0,\"ticks\":\"\"}}}],\"scatterpolargl\":[{\"type\":\"scatterpolargl\",\"marker\":{\"colorbar\":{\"outlinewidth\":0,\"ticks\":\"\"}}}],\"bar\":[{\"error_x\":{\"color\":\"#2a3f5f\"},\"error_y\":{\"color\":\"#2a3f5f\"},\"marker\":{\"line\":{\"color\":\"#E5ECF6\",\"width\":0.5},\"pattern\":{\"fillmode\":\"overlay\",\"size\":10,\"solidity\":0.2}},\"type\":\"bar\"}],\"scattergeo\":[{\"type\":\"scattergeo\",\"marker\":{\"colorbar\":{\"outlinewidth\":0,\"ticks\":\"\"}}}],\"scatterpolar\":[{\"type\":\"scatterpolar\",\"marker\":{\"colorbar\":{\"outlinewidth\":0,\"ticks\":\"\"}}}],\"histogram\":[{\"marker\":{\"pattern\":{\"fillmode\":\"overlay\",\"size\":10,\"solidity\":0.2}},\"type\":\"histogram\"}],\"scattergl\":[{\"type\":\"scattergl\",\"marker\":{\"colorbar\":{\"outlinewidth\":0,\"ticks\":\"\"}}}],\"scatter3d\":[{\"type\":\"scatter3d\",\"line\":{\"colorbar\":{\"outlinewidth\":0,\"ticks\":\"\"}},\"marker\":{\"colorbar\":{\"outlinewidth\":0,\"ticks\":\"\"}}}],\"scattermapbox\":[{\"type\":\"scattermapbox\",\"marker\":{\"colorbar\":{\"outlinewidth\":0,\"ticks\":\"\"}}}],\"scatterternary\":[{\"type\":\"scatterternary\",\"marker\":{\"colorbar\":{\"outlinewidth\":0,\"ticks\":\"\"}}}],\"scattercarpet\":[{\"type\":\"scattercarpet\",\"marker\":{\"colorbar\":{\"outlinewidth\":0,\"ticks\":\"\"}}}],\"carpet\":[{\"aaxis\":{\"endlinecolor\":\"#2a3f5f\",\"gridcolor\":\"white\",\"linecolor\":\"white\",\"minorgridcolor\":\"white\",\"startlinecolor\":\"#2a3f5f\"},\"baxis\":{\"endlinecolor\":\"#2a3f5f\",\"gridcolor\":\"white\",\"linecolor\":\"white\",\"minorgridcolor\":\"white\",\"startlinecolor\":\"#2a3f5f\"},\"type\":\"carpet\"}],\"table\":[{\"cells\":{\"fill\":{\"color\":\"#EBF0F8\"},\"line\":{\"color\":\"white\"}},\"header\":{\"fill\":{\"color\":\"#C8D4E3\"},\"line\":{\"color\":\"white\"}},\"type\":\"table\"}],\"barpolar\":[{\"marker\":{\"line\":{\"color\":\"#E5ECF6\",\"width\":0.5},\"pattern\":{\"fillmode\":\"overlay\",\"size\":10,\"solidity\":0.2}},\"type\":\"barpolar\"}],\"pie\":[{\"automargin\":true,\"type\":\"pie\"}]},\"layout\":{\"autotypenumbers\":\"strict\",\"colorway\":[\"#636efa\",\"#EF553B\",\"#00cc96\",\"#ab63fa\",\"#FFA15A\",\"#19d3f3\",\"#FF6692\",\"#B6E880\",\"#FF97FF\",\"#FECB52\"],\"font\":{\"color\":\"#2a3f5f\"},\"hovermode\":\"closest\",\"hoverlabel\":{\"align\":\"left\"},\"paper_bgcolor\":\"white\",\"plot_bgcolor\":\"#E5ECF6\",\"polar\":{\"bgcolor\":\"#E5ECF6\",\"angularaxis\":{\"gridcolor\":\"white\",\"linecolor\":\"white\",\"ticks\":\"\"},\"radialaxis\":{\"gridcolor\":\"white\",\"linecolor\":\"white\",\"ticks\":\"\"}},\"ternary\":{\"bgcolor\":\"#E5ECF6\",\"aaxis\":{\"gridcolor\":\"white\",\"linecolor\":\"white\",\"ticks\":\"\"},\"baxis\":{\"gridcolor\":\"white\",\"linecolor\":\"white\",\"ticks\":\"\"},\"caxis\":{\"gridcolor\":\"white\",\"linecolor\":\"white\",\"ticks\":\"\"}},\"coloraxis\":{\"colorbar\":{\"outlinewidth\":0,\"ticks\":\"\"}},\"colorscale\":{\"sequential\":[[0.0,\"#0d0887\"],[0.1111111111111111,\"#46039f\"],[0.2222222222222222,\"#7201a8\"],[0.3333333333333333,\"#9c179e\"],[0.4444444444444444,\"#bd3786\"],[0.5555555555555556,\"#d8576b\"],[0.6666666666666666,\"#ed7953\"],[0.7777777777777778,\"#fb9f3a\"],[0.8888888888888888,\"#fdca26\"],[1.0,\"#f0f921\"]],\"sequentialminus\":[[0.0,\"#0d0887\"],[0.1111111111111111,\"#46039f\"],[0.2222222222222222,\"#7201a8\"],[0.3333333333333333,\"#9c179e\"],[0.4444444444444444,\"#bd3786\"],[0.5555555555555556,\"#d8576b\"],[0.6666666666666666,\"#ed7953\"],[0.7777777777777778,\"#fb9f3a\"],[0.8888888888888888,\"#fdca26\"],[1.0,\"#f0f921\"]],\"diverging\":[[0,\"#8e0152\"],[0.1,\"#c51b7d\"],[0.2,\"#de77ae\"],[0.3,\"#f1b6da\"],[0.4,\"#fde0ef\"],[0.5,\"#f7f7f7\"],[0.6,\"#e6f5d0\"],[0.7,\"#b8e186\"],[0.8,\"#7fbc41\"],[0.9,\"#4d9221\"],[1,\"#276419\"]]},\"xaxis\":{\"gridcolor\":\"white\",\"linecolor\":\"white\",\"ticks\":\"\",\"title\":{\"standoff\":15},\"zerolinecolor\":\"white\",\"automargin\":true,\"zerolinewidth\":2},\"yaxis\":{\"gridcolor\":\"white\",\"linecolor\":\"white\",\"ticks\":\"\",\"title\":{\"standoff\":15},\"zerolinecolor\":\"white\",\"automargin\":true,\"zerolinewidth\":2},\"scene\":{\"xaxis\":{\"backgroundcolor\":\"#E5ECF6\",\"gridcolor\":\"white\",\"linecolor\":\"white\",\"showbackground\":true,\"ticks\":\"\",\"zerolinecolor\":\"white\",\"gridwidth\":2},\"yaxis\":{\"backgroundcolor\":\"#E5ECF6\",\"gridcolor\":\"white\",\"linecolor\":\"white\",\"showbackground\":true,\"ticks\":\"\",\"zerolinecolor\":\"white\",\"gridwidth\":2},\"zaxis\":{\"backgroundcolor\":\"#E5ECF6\",\"gridcolor\":\"white\",\"linecolor\":\"white\",\"showbackground\":true,\"ticks\":\"\",\"zerolinecolor\":\"white\",\"gridwidth\":2}},\"shapedefaults\":{\"line\":{\"color\":\"#2a3f5f\"}},\"annotationdefaults\":{\"arrowcolor\":\"#2a3f5f\",\"arrowhead\":0,\"arrowwidth\":1},\"geo\":{\"bgcolor\":\"white\",\"landcolor\":\"#E5ECF6\",\"subunitcolor\":\"white\",\"showland\":true,\"showlakes\":true,\"lakecolor\":\"white\"},\"title\":{\"x\":0.05},\"mapbox\":{\"style\":\"light\"}}},\"xaxis\":{\"anchor\":\"y\",\"domain\":[0.0,1.0],\"title\":{\"text\":\"rating\"}},\"yaxis\":{\"anchor\":\"x\",\"domain\":[0.0,1.0],\"title\":{\"text\":\"box_office\"}},\"legend\":{\"title\":{\"text\":\"genre\"},\"tracegroupgap\":0,\"itemsizing\":\"constant\"},\"title\":{\"text\":\"Movie Ratings vs. Box Office Revenue\"}},                        {\"responsive\": true}                    ).then(function(){\n",
       "                            \n",
       "var gd = document.getElementById('cd8b659d-102e-42f6-a88e-b71b97d5e5df');\n",
       "var x = new MutationObserver(function (mutations, observer) {{\n",
       "        var display = window.getComputedStyle(gd).display;\n",
       "        if (!display || display === 'none') {{\n",
       "            console.log([gd, 'removed!']);\n",
       "            Plotly.purge(gd);\n",
       "            observer.disconnect();\n",
       "        }}\n",
       "}});\n",
       "\n",
       "// Listen for the removal of the full notebook cells\n",
       "var notebookContainer = gd.closest('#notebook-container');\n",
       "if (notebookContainer) {{\n",
       "    x.observe(notebookContainer, {childList: true});\n",
       "}}\n",
       "\n",
       "// Listen for the clearing of the current output cell\n",
       "var outputEl = gd.closest('.output');\n",
       "if (outputEl) {{\n",
       "    x.observe(outputEl, {childList: true});\n",
       "}}\n",
       "\n",
       "                        })                };                });            </script>        </div>"
      ]
     },
     "metadata": {},
     "output_type": "display_data"
    }
   ],
   "source": [
    "df['box_office'] =  pd.to_numeric(df['box_office'],errors='coerce')\n",
    "df=df.dropna(subset=['box_office'])\n",
    "fig = px.scatter(df, x='rating', y='box_office', color='genre', size='box_office', hover_name='name', title='Movie Ratings vs. Box Office Revenue')\n",
    "fig.show()"
   ]
  },
  {
   "cell_type": "markdown",
   "id": "6a96e0c2",
   "metadata": {},
   "source": [
    "# GRAPH FOR DIRECTORS (user input)"
   ]
  },
  {
   "cell_type": "code",
   "execution_count": 49,
   "id": "c164c9a0",
   "metadata": {},
   "outputs": [
    {
     "name": "stdout",
     "output_type": "stream",
     "text": [
      "Enter the director name: Christopher Nolan\n"
     ]
    },
    {
     "data": {
      "application/vnd.plotly.v1+json": {
       "config": {
        "plotlyServerURL": "https://plot.ly"
       },
       "data": [
        {
         "alignmentgroup": "True",
         "hovertemplate": "name=%{x}<br>rating=%{marker.color}<extra></extra>",
         "legendgroup": "",
         "marker": {
          "color": [
           9,
           8.8,
           8.6,
           8.5,
           8.4,
           8.4,
           8.2
          ],
          "coloraxis": "coloraxis",
          "pattern": {
           "shape": ""
          }
         },
         "name": "",
         "offsetgroup": "",
         "orientation": "v",
         "showlegend": false,
         "textposition": "auto",
         "type": "bar",
         "x": [
          "The Dark Knight",
          "Inception",
          "Interstellar",
          "The Prestige",
          "Memento",
          "The Dark Knight Rises",
          "Batman Begins"
         ],
         "xaxis": "x",
         "y": [
          9,
          8.8,
          8.6,
          8.5,
          8.4,
          8.4,
          8.2
         ],
         "yaxis": "y"
        }
       ],
       "layout": {
        "barmode": "relative",
        "coloraxis": {
         "colorbar": {
          "title": {
           "text": "rating"
          }
         },
         "colorscale": [
          [
           0,
           "#000004"
          ],
          [
           0.1111111111111111,
           "#1b0c41"
          ],
          [
           0.2222222222222222,
           "#4a0c6b"
          ],
          [
           0.3333333333333333,
           "#781c6d"
          ],
          [
           0.4444444444444444,
           "#a52c60"
          ],
          [
           0.5555555555555556,
           "#cf4446"
          ],
          [
           0.6666666666666666,
           "#ed6925"
          ],
          [
           0.7777777777777778,
           "#fb9b06"
          ],
          [
           0.8888888888888888,
           "#f7d13d"
          ],
          [
           1,
           "#fcffa4"
          ]
         ]
        },
        "legend": {
         "tracegroupgap": 0
        },
        "template": {
         "data": {
          "bar": [
           {
            "error_x": {
             "color": "#2a3f5f"
            },
            "error_y": {
             "color": "#2a3f5f"
            },
            "marker": {
             "line": {
              "color": "#E5ECF6",
              "width": 0.5
             },
             "pattern": {
              "fillmode": "overlay",
              "size": 10,
              "solidity": 0.2
             }
            },
            "type": "bar"
           }
          ],
          "barpolar": [
           {
            "marker": {
             "line": {
              "color": "#E5ECF6",
              "width": 0.5
             },
             "pattern": {
              "fillmode": "overlay",
              "size": 10,
              "solidity": 0.2
             }
            },
            "type": "barpolar"
           }
          ],
          "carpet": [
           {
            "aaxis": {
             "endlinecolor": "#2a3f5f",
             "gridcolor": "white",
             "linecolor": "white",
             "minorgridcolor": "white",
             "startlinecolor": "#2a3f5f"
            },
            "baxis": {
             "endlinecolor": "#2a3f5f",
             "gridcolor": "white",
             "linecolor": "white",
             "minorgridcolor": "white",
             "startlinecolor": "#2a3f5f"
            },
            "type": "carpet"
           }
          ],
          "choropleth": [
           {
            "colorbar": {
             "outlinewidth": 0,
             "ticks": ""
            },
            "type": "choropleth"
           }
          ],
          "contour": [
           {
            "colorbar": {
             "outlinewidth": 0,
             "ticks": ""
            },
            "colorscale": [
             [
              0,
              "#0d0887"
             ],
             [
              0.1111111111111111,
              "#46039f"
             ],
             [
              0.2222222222222222,
              "#7201a8"
             ],
             [
              0.3333333333333333,
              "#9c179e"
             ],
             [
              0.4444444444444444,
              "#bd3786"
             ],
             [
              0.5555555555555556,
              "#d8576b"
             ],
             [
              0.6666666666666666,
              "#ed7953"
             ],
             [
              0.7777777777777778,
              "#fb9f3a"
             ],
             [
              0.8888888888888888,
              "#fdca26"
             ],
             [
              1,
              "#f0f921"
             ]
            ],
            "type": "contour"
           }
          ],
          "contourcarpet": [
           {
            "colorbar": {
             "outlinewidth": 0,
             "ticks": ""
            },
            "type": "contourcarpet"
           }
          ],
          "heatmap": [
           {
            "colorbar": {
             "outlinewidth": 0,
             "ticks": ""
            },
            "colorscale": [
             [
              0,
              "#0d0887"
             ],
             [
              0.1111111111111111,
              "#46039f"
             ],
             [
              0.2222222222222222,
              "#7201a8"
             ],
             [
              0.3333333333333333,
              "#9c179e"
             ],
             [
              0.4444444444444444,
              "#bd3786"
             ],
             [
              0.5555555555555556,
              "#d8576b"
             ],
             [
              0.6666666666666666,
              "#ed7953"
             ],
             [
              0.7777777777777778,
              "#fb9f3a"
             ],
             [
              0.8888888888888888,
              "#fdca26"
             ],
             [
              1,
              "#f0f921"
             ]
            ],
            "type": "heatmap"
           }
          ],
          "heatmapgl": [
           {
            "colorbar": {
             "outlinewidth": 0,
             "ticks": ""
            },
            "colorscale": [
             [
              0,
              "#0d0887"
             ],
             [
              0.1111111111111111,
              "#46039f"
             ],
             [
              0.2222222222222222,
              "#7201a8"
             ],
             [
              0.3333333333333333,
              "#9c179e"
             ],
             [
              0.4444444444444444,
              "#bd3786"
             ],
             [
              0.5555555555555556,
              "#d8576b"
             ],
             [
              0.6666666666666666,
              "#ed7953"
             ],
             [
              0.7777777777777778,
              "#fb9f3a"
             ],
             [
              0.8888888888888888,
              "#fdca26"
             ],
             [
              1,
              "#f0f921"
             ]
            ],
            "type": "heatmapgl"
           }
          ],
          "histogram": [
           {
            "marker": {
             "pattern": {
              "fillmode": "overlay",
              "size": 10,
              "solidity": 0.2
             }
            },
            "type": "histogram"
           }
          ],
          "histogram2d": [
           {
            "colorbar": {
             "outlinewidth": 0,
             "ticks": ""
            },
            "colorscale": [
             [
              0,
              "#0d0887"
             ],
             [
              0.1111111111111111,
              "#46039f"
             ],
             [
              0.2222222222222222,
              "#7201a8"
             ],
             [
              0.3333333333333333,
              "#9c179e"
             ],
             [
              0.4444444444444444,
              "#bd3786"
             ],
             [
              0.5555555555555556,
              "#d8576b"
             ],
             [
              0.6666666666666666,
              "#ed7953"
             ],
             [
              0.7777777777777778,
              "#fb9f3a"
             ],
             [
              0.8888888888888888,
              "#fdca26"
             ],
             [
              1,
              "#f0f921"
             ]
            ],
            "type": "histogram2d"
           }
          ],
          "histogram2dcontour": [
           {
            "colorbar": {
             "outlinewidth": 0,
             "ticks": ""
            },
            "colorscale": [
             [
              0,
              "#0d0887"
             ],
             [
              0.1111111111111111,
              "#46039f"
             ],
             [
              0.2222222222222222,
              "#7201a8"
             ],
             [
              0.3333333333333333,
              "#9c179e"
             ],
             [
              0.4444444444444444,
              "#bd3786"
             ],
             [
              0.5555555555555556,
              "#d8576b"
             ],
             [
              0.6666666666666666,
              "#ed7953"
             ],
             [
              0.7777777777777778,
              "#fb9f3a"
             ],
             [
              0.8888888888888888,
              "#fdca26"
             ],
             [
              1,
              "#f0f921"
             ]
            ],
            "type": "histogram2dcontour"
           }
          ],
          "mesh3d": [
           {
            "colorbar": {
             "outlinewidth": 0,
             "ticks": ""
            },
            "type": "mesh3d"
           }
          ],
          "parcoords": [
           {
            "line": {
             "colorbar": {
              "outlinewidth": 0,
              "ticks": ""
             }
            },
            "type": "parcoords"
           }
          ],
          "pie": [
           {
            "automargin": true,
            "type": "pie"
           }
          ],
          "scatter": [
           {
            "fillpattern": {
             "fillmode": "overlay",
             "size": 10,
             "solidity": 0.2
            },
            "type": "scatter"
           }
          ],
          "scatter3d": [
           {
            "line": {
             "colorbar": {
              "outlinewidth": 0,
              "ticks": ""
             }
            },
            "marker": {
             "colorbar": {
              "outlinewidth": 0,
              "ticks": ""
             }
            },
            "type": "scatter3d"
           }
          ],
          "scattercarpet": [
           {
            "marker": {
             "colorbar": {
              "outlinewidth": 0,
              "ticks": ""
             }
            },
            "type": "scattercarpet"
           }
          ],
          "scattergeo": [
           {
            "marker": {
             "colorbar": {
              "outlinewidth": 0,
              "ticks": ""
             }
            },
            "type": "scattergeo"
           }
          ],
          "scattergl": [
           {
            "marker": {
             "colorbar": {
              "outlinewidth": 0,
              "ticks": ""
             }
            },
            "type": "scattergl"
           }
          ],
          "scattermapbox": [
           {
            "marker": {
             "colorbar": {
              "outlinewidth": 0,
              "ticks": ""
             }
            },
            "type": "scattermapbox"
           }
          ],
          "scatterpolar": [
           {
            "marker": {
             "colorbar": {
              "outlinewidth": 0,
              "ticks": ""
             }
            },
            "type": "scatterpolar"
           }
          ],
          "scatterpolargl": [
           {
            "marker": {
             "colorbar": {
              "outlinewidth": 0,
              "ticks": ""
             }
            },
            "type": "scatterpolargl"
           }
          ],
          "scatterternary": [
           {
            "marker": {
             "colorbar": {
              "outlinewidth": 0,
              "ticks": ""
             }
            },
            "type": "scatterternary"
           }
          ],
          "surface": [
           {
            "colorbar": {
             "outlinewidth": 0,
             "ticks": ""
            },
            "colorscale": [
             [
              0,
              "#0d0887"
             ],
             [
              0.1111111111111111,
              "#46039f"
             ],
             [
              0.2222222222222222,
              "#7201a8"
             ],
             [
              0.3333333333333333,
              "#9c179e"
             ],
             [
              0.4444444444444444,
              "#bd3786"
             ],
             [
              0.5555555555555556,
              "#d8576b"
             ],
             [
              0.6666666666666666,
              "#ed7953"
             ],
             [
              0.7777777777777778,
              "#fb9f3a"
             ],
             [
              0.8888888888888888,
              "#fdca26"
             ],
             [
              1,
              "#f0f921"
             ]
            ],
            "type": "surface"
           }
          ],
          "table": [
           {
            "cells": {
             "fill": {
              "color": "#EBF0F8"
             },
             "line": {
              "color": "white"
             }
            },
            "header": {
             "fill": {
              "color": "#C8D4E3"
             },
             "line": {
              "color": "white"
             }
            },
            "type": "table"
           }
          ]
         },
         "layout": {
          "annotationdefaults": {
           "arrowcolor": "#2a3f5f",
           "arrowhead": 0,
           "arrowwidth": 1
          },
          "autotypenumbers": "strict",
          "coloraxis": {
           "colorbar": {
            "outlinewidth": 0,
            "ticks": ""
           }
          },
          "colorscale": {
           "diverging": [
            [
             0,
             "#8e0152"
            ],
            [
             0.1,
             "#c51b7d"
            ],
            [
             0.2,
             "#de77ae"
            ],
            [
             0.3,
             "#f1b6da"
            ],
            [
             0.4,
             "#fde0ef"
            ],
            [
             0.5,
             "#f7f7f7"
            ],
            [
             0.6,
             "#e6f5d0"
            ],
            [
             0.7,
             "#b8e186"
            ],
            [
             0.8,
             "#7fbc41"
            ],
            [
             0.9,
             "#4d9221"
            ],
            [
             1,
             "#276419"
            ]
           ],
           "sequential": [
            [
             0,
             "#0d0887"
            ],
            [
             0.1111111111111111,
             "#46039f"
            ],
            [
             0.2222222222222222,
             "#7201a8"
            ],
            [
             0.3333333333333333,
             "#9c179e"
            ],
            [
             0.4444444444444444,
             "#bd3786"
            ],
            [
             0.5555555555555556,
             "#d8576b"
            ],
            [
             0.6666666666666666,
             "#ed7953"
            ],
            [
             0.7777777777777778,
             "#fb9f3a"
            ],
            [
             0.8888888888888888,
             "#fdca26"
            ],
            [
             1,
             "#f0f921"
            ]
           ],
           "sequentialminus": [
            [
             0,
             "#0d0887"
            ],
            [
             0.1111111111111111,
             "#46039f"
            ],
            [
             0.2222222222222222,
             "#7201a8"
            ],
            [
             0.3333333333333333,
             "#9c179e"
            ],
            [
             0.4444444444444444,
             "#bd3786"
            ],
            [
             0.5555555555555556,
             "#d8576b"
            ],
            [
             0.6666666666666666,
             "#ed7953"
            ],
            [
             0.7777777777777778,
             "#fb9f3a"
            ],
            [
             0.8888888888888888,
             "#fdca26"
            ],
            [
             1,
             "#f0f921"
            ]
           ]
          },
          "colorway": [
           "#636efa",
           "#EF553B",
           "#00cc96",
           "#ab63fa",
           "#FFA15A",
           "#19d3f3",
           "#FF6692",
           "#B6E880",
           "#FF97FF",
           "#FECB52"
          ],
          "font": {
           "color": "#2a3f5f"
          },
          "geo": {
           "bgcolor": "white",
           "lakecolor": "white",
           "landcolor": "#E5ECF6",
           "showlakes": true,
           "showland": true,
           "subunitcolor": "white"
          },
          "hoverlabel": {
           "align": "left"
          },
          "hovermode": "closest",
          "mapbox": {
           "style": "light"
          },
          "paper_bgcolor": "white",
          "plot_bgcolor": "#E5ECF6",
          "polar": {
           "angularaxis": {
            "gridcolor": "white",
            "linecolor": "white",
            "ticks": ""
           },
           "bgcolor": "#E5ECF6",
           "radialaxis": {
            "gridcolor": "white",
            "linecolor": "white",
            "ticks": ""
           }
          },
          "scene": {
           "xaxis": {
            "backgroundcolor": "#E5ECF6",
            "gridcolor": "white",
            "gridwidth": 2,
            "linecolor": "white",
            "showbackground": true,
            "ticks": "",
            "zerolinecolor": "white"
           },
           "yaxis": {
            "backgroundcolor": "#E5ECF6",
            "gridcolor": "white",
            "gridwidth": 2,
            "linecolor": "white",
            "showbackground": true,
            "ticks": "",
            "zerolinecolor": "white"
           },
           "zaxis": {
            "backgroundcolor": "#E5ECF6",
            "gridcolor": "white",
            "gridwidth": 2,
            "linecolor": "white",
            "showbackground": true,
            "ticks": "",
            "zerolinecolor": "white"
           }
          },
          "shapedefaults": {
           "line": {
            "color": "#2a3f5f"
           }
          },
          "ternary": {
           "aaxis": {
            "gridcolor": "white",
            "linecolor": "white",
            "ticks": ""
           },
           "baxis": {
            "gridcolor": "white",
            "linecolor": "white",
            "ticks": ""
           },
           "bgcolor": "#E5ECF6",
           "caxis": {
            "gridcolor": "white",
            "linecolor": "white",
            "ticks": ""
           }
          },
          "title": {
           "x": 0.05
          },
          "xaxis": {
           "automargin": true,
           "gridcolor": "white",
           "linecolor": "white",
           "ticks": "",
           "title": {
            "standoff": 15
           },
           "zerolinecolor": "white",
           "zerolinewidth": 2
          },
          "yaxis": {
           "automargin": true,
           "gridcolor": "white",
           "linecolor": "white",
           "ticks": "",
           "title": {
            "standoff": 15
           },
           "zerolinecolor": "white",
           "zerolinewidth": 2
          }
         }
        },
        "title": {
         "text": "Top Christopher Nolan Movies on IMDB"
        },
        "xaxis": {
         "anchor": "y",
         "domain": [
          0,
          1
         ],
         "title": {
          "text": "name"
         }
        },
        "yaxis": {
         "anchor": "x",
         "domain": [
          0,
          1
         ],
         "title": {
          "text": "rating"
         }
        }
       }
      },
      "text/html": [
       "<div>                            <div id=\"3a15a28f-9998-4383-8807-eb7e7fd414b3\" class=\"plotly-graph-div\" style=\"height:525px; width:100%;\"></div>            <script type=\"text/javascript\">                require([\"plotly\"], function(Plotly) {                    window.PLOTLYENV=window.PLOTLYENV || {};                                    if (document.getElementById(\"3a15a28f-9998-4383-8807-eb7e7fd414b3\")) {                    Plotly.newPlot(                        \"3a15a28f-9998-4383-8807-eb7e7fd414b3\",                        [{\"alignmentgroup\":\"True\",\"hovertemplate\":\"name=%{x}<br>rating=%{marker.color}<extra></extra>\",\"legendgroup\":\"\",\"marker\":{\"color\":[9.0,8.8,8.6,8.5,8.4,8.4,8.2],\"coloraxis\":\"coloraxis\",\"pattern\":{\"shape\":\"\"}},\"name\":\"\",\"offsetgroup\":\"\",\"orientation\":\"v\",\"showlegend\":false,\"textposition\":\"auto\",\"x\":[\"The Dark Knight\",\"Inception\",\"Interstellar\",\"The Prestige\",\"Memento\",\"The Dark Knight Rises\",\"Batman Begins\"],\"xaxis\":\"x\",\"y\":[9.0,8.8,8.6,8.5,8.4,8.4,8.2],\"yaxis\":\"y\",\"type\":\"bar\"}],                        {\"template\":{\"data\":{\"histogram2dcontour\":[{\"type\":\"histogram2dcontour\",\"colorbar\":{\"outlinewidth\":0,\"ticks\":\"\"},\"colorscale\":[[0.0,\"#0d0887\"],[0.1111111111111111,\"#46039f\"],[0.2222222222222222,\"#7201a8\"],[0.3333333333333333,\"#9c179e\"],[0.4444444444444444,\"#bd3786\"],[0.5555555555555556,\"#d8576b\"],[0.6666666666666666,\"#ed7953\"],[0.7777777777777778,\"#fb9f3a\"],[0.8888888888888888,\"#fdca26\"],[1.0,\"#f0f921\"]]}],\"choropleth\":[{\"type\":\"choropleth\",\"colorbar\":{\"outlinewidth\":0,\"ticks\":\"\"}}],\"histogram2d\":[{\"type\":\"histogram2d\",\"colorbar\":{\"outlinewidth\":0,\"ticks\":\"\"},\"colorscale\":[[0.0,\"#0d0887\"],[0.1111111111111111,\"#46039f\"],[0.2222222222222222,\"#7201a8\"],[0.3333333333333333,\"#9c179e\"],[0.4444444444444444,\"#bd3786\"],[0.5555555555555556,\"#d8576b\"],[0.6666666666666666,\"#ed7953\"],[0.7777777777777778,\"#fb9f3a\"],[0.8888888888888888,\"#fdca26\"],[1.0,\"#f0f921\"]]}],\"heatmap\":[{\"type\":\"heatmap\",\"colorbar\":{\"outlinewidth\":0,\"ticks\":\"\"},\"colorscale\":[[0.0,\"#0d0887\"],[0.1111111111111111,\"#46039f\"],[0.2222222222222222,\"#7201a8\"],[0.3333333333333333,\"#9c179e\"],[0.4444444444444444,\"#bd3786\"],[0.5555555555555556,\"#d8576b\"],[0.6666666666666666,\"#ed7953\"],[0.7777777777777778,\"#fb9f3a\"],[0.8888888888888888,\"#fdca26\"],[1.0,\"#f0f921\"]]}],\"heatmapgl\":[{\"type\":\"heatmapgl\",\"colorbar\":{\"outlinewidth\":0,\"ticks\":\"\"},\"colorscale\":[[0.0,\"#0d0887\"],[0.1111111111111111,\"#46039f\"],[0.2222222222222222,\"#7201a8\"],[0.3333333333333333,\"#9c179e\"],[0.4444444444444444,\"#bd3786\"],[0.5555555555555556,\"#d8576b\"],[0.6666666666666666,\"#ed7953\"],[0.7777777777777778,\"#fb9f3a\"],[0.8888888888888888,\"#fdca26\"],[1.0,\"#f0f921\"]]}],\"contourcarpet\":[{\"type\":\"contourcarpet\",\"colorbar\":{\"outlinewidth\":0,\"ticks\":\"\"}}],\"contour\":[{\"type\":\"contour\",\"colorbar\":{\"outlinewidth\":0,\"ticks\":\"\"},\"colorscale\":[[0.0,\"#0d0887\"],[0.1111111111111111,\"#46039f\"],[0.2222222222222222,\"#7201a8\"],[0.3333333333333333,\"#9c179e\"],[0.4444444444444444,\"#bd3786\"],[0.5555555555555556,\"#d8576b\"],[0.6666666666666666,\"#ed7953\"],[0.7777777777777778,\"#fb9f3a\"],[0.8888888888888888,\"#fdca26\"],[1.0,\"#f0f921\"]]}],\"surface\":[{\"type\":\"surface\",\"colorbar\":{\"outlinewidth\":0,\"ticks\":\"\"},\"colorscale\":[[0.0,\"#0d0887\"],[0.1111111111111111,\"#46039f\"],[0.2222222222222222,\"#7201a8\"],[0.3333333333333333,\"#9c179e\"],[0.4444444444444444,\"#bd3786\"],[0.5555555555555556,\"#d8576b\"],[0.6666666666666666,\"#ed7953\"],[0.7777777777777778,\"#fb9f3a\"],[0.8888888888888888,\"#fdca26\"],[1.0,\"#f0f921\"]]}],\"mesh3d\":[{\"type\":\"mesh3d\",\"colorbar\":{\"outlinewidth\":0,\"ticks\":\"\"}}],\"scatter\":[{\"fillpattern\":{\"fillmode\":\"overlay\",\"size\":10,\"solidity\":0.2},\"type\":\"scatter\"}],\"parcoords\":[{\"type\":\"parcoords\",\"line\":{\"colorbar\":{\"outlinewidth\":0,\"ticks\":\"\"}}}],\"scatterpolargl\":[{\"type\":\"scatterpolargl\",\"marker\":{\"colorbar\":{\"outlinewidth\":0,\"ticks\":\"\"}}}],\"bar\":[{\"error_x\":{\"color\":\"#2a3f5f\"},\"error_y\":{\"color\":\"#2a3f5f\"},\"marker\":{\"line\":{\"color\":\"#E5ECF6\",\"width\":0.5},\"pattern\":{\"fillmode\":\"overlay\",\"size\":10,\"solidity\":0.2}},\"type\":\"bar\"}],\"scattergeo\":[{\"type\":\"scattergeo\",\"marker\":{\"colorbar\":{\"outlinewidth\":0,\"ticks\":\"\"}}}],\"scatterpolar\":[{\"type\":\"scatterpolar\",\"marker\":{\"colorbar\":{\"outlinewidth\":0,\"ticks\":\"\"}}}],\"histogram\":[{\"marker\":{\"pattern\":{\"fillmode\":\"overlay\",\"size\":10,\"solidity\":0.2}},\"type\":\"histogram\"}],\"scattergl\":[{\"type\":\"scattergl\",\"marker\":{\"colorbar\":{\"outlinewidth\":0,\"ticks\":\"\"}}}],\"scatter3d\":[{\"type\":\"scatter3d\",\"line\":{\"colorbar\":{\"outlinewidth\":0,\"ticks\":\"\"}},\"marker\":{\"colorbar\":{\"outlinewidth\":0,\"ticks\":\"\"}}}],\"scattermapbox\":[{\"type\":\"scattermapbox\",\"marker\":{\"colorbar\":{\"outlinewidth\":0,\"ticks\":\"\"}}}],\"scatterternary\":[{\"type\":\"scatterternary\",\"marker\":{\"colorbar\":{\"outlinewidth\":0,\"ticks\":\"\"}}}],\"scattercarpet\":[{\"type\":\"scattercarpet\",\"marker\":{\"colorbar\":{\"outlinewidth\":0,\"ticks\":\"\"}}}],\"carpet\":[{\"aaxis\":{\"endlinecolor\":\"#2a3f5f\",\"gridcolor\":\"white\",\"linecolor\":\"white\",\"minorgridcolor\":\"white\",\"startlinecolor\":\"#2a3f5f\"},\"baxis\":{\"endlinecolor\":\"#2a3f5f\",\"gridcolor\":\"white\",\"linecolor\":\"white\",\"minorgridcolor\":\"white\",\"startlinecolor\":\"#2a3f5f\"},\"type\":\"carpet\"}],\"table\":[{\"cells\":{\"fill\":{\"color\":\"#EBF0F8\"},\"line\":{\"color\":\"white\"}},\"header\":{\"fill\":{\"color\":\"#C8D4E3\"},\"line\":{\"color\":\"white\"}},\"type\":\"table\"}],\"barpolar\":[{\"marker\":{\"line\":{\"color\":\"#E5ECF6\",\"width\":0.5},\"pattern\":{\"fillmode\":\"overlay\",\"size\":10,\"solidity\":0.2}},\"type\":\"barpolar\"}],\"pie\":[{\"automargin\":true,\"type\":\"pie\"}]},\"layout\":{\"autotypenumbers\":\"strict\",\"colorway\":[\"#636efa\",\"#EF553B\",\"#00cc96\",\"#ab63fa\",\"#FFA15A\",\"#19d3f3\",\"#FF6692\",\"#B6E880\",\"#FF97FF\",\"#FECB52\"],\"font\":{\"color\":\"#2a3f5f\"},\"hovermode\":\"closest\",\"hoverlabel\":{\"align\":\"left\"},\"paper_bgcolor\":\"white\",\"plot_bgcolor\":\"#E5ECF6\",\"polar\":{\"bgcolor\":\"#E5ECF6\",\"angularaxis\":{\"gridcolor\":\"white\",\"linecolor\":\"white\",\"ticks\":\"\"},\"radialaxis\":{\"gridcolor\":\"white\",\"linecolor\":\"white\",\"ticks\":\"\"}},\"ternary\":{\"bgcolor\":\"#E5ECF6\",\"aaxis\":{\"gridcolor\":\"white\",\"linecolor\":\"white\",\"ticks\":\"\"},\"baxis\":{\"gridcolor\":\"white\",\"linecolor\":\"white\",\"ticks\":\"\"},\"caxis\":{\"gridcolor\":\"white\",\"linecolor\":\"white\",\"ticks\":\"\"}},\"coloraxis\":{\"colorbar\":{\"outlinewidth\":0,\"ticks\":\"\"}},\"colorscale\":{\"sequential\":[[0.0,\"#0d0887\"],[0.1111111111111111,\"#46039f\"],[0.2222222222222222,\"#7201a8\"],[0.3333333333333333,\"#9c179e\"],[0.4444444444444444,\"#bd3786\"],[0.5555555555555556,\"#d8576b\"],[0.6666666666666666,\"#ed7953\"],[0.7777777777777778,\"#fb9f3a\"],[0.8888888888888888,\"#fdca26\"],[1.0,\"#f0f921\"]],\"sequentialminus\":[[0.0,\"#0d0887\"],[0.1111111111111111,\"#46039f\"],[0.2222222222222222,\"#7201a8\"],[0.3333333333333333,\"#9c179e\"],[0.4444444444444444,\"#bd3786\"],[0.5555555555555556,\"#d8576b\"],[0.6666666666666666,\"#ed7953\"],[0.7777777777777778,\"#fb9f3a\"],[0.8888888888888888,\"#fdca26\"],[1.0,\"#f0f921\"]],\"diverging\":[[0,\"#8e0152\"],[0.1,\"#c51b7d\"],[0.2,\"#de77ae\"],[0.3,\"#f1b6da\"],[0.4,\"#fde0ef\"],[0.5,\"#f7f7f7\"],[0.6,\"#e6f5d0\"],[0.7,\"#b8e186\"],[0.8,\"#7fbc41\"],[0.9,\"#4d9221\"],[1,\"#276419\"]]},\"xaxis\":{\"gridcolor\":\"white\",\"linecolor\":\"white\",\"ticks\":\"\",\"title\":{\"standoff\":15},\"zerolinecolor\":\"white\",\"automargin\":true,\"zerolinewidth\":2},\"yaxis\":{\"gridcolor\":\"white\",\"linecolor\":\"white\",\"ticks\":\"\",\"title\":{\"standoff\":15},\"zerolinecolor\":\"white\",\"automargin\":true,\"zerolinewidth\":2},\"scene\":{\"xaxis\":{\"backgroundcolor\":\"#E5ECF6\",\"gridcolor\":\"white\",\"linecolor\":\"white\",\"showbackground\":true,\"ticks\":\"\",\"zerolinecolor\":\"white\",\"gridwidth\":2},\"yaxis\":{\"backgroundcolor\":\"#E5ECF6\",\"gridcolor\":\"white\",\"linecolor\":\"white\",\"showbackground\":true,\"ticks\":\"\",\"zerolinecolor\":\"white\",\"gridwidth\":2},\"zaxis\":{\"backgroundcolor\":\"#E5ECF6\",\"gridcolor\":\"white\",\"linecolor\":\"white\",\"showbackground\":true,\"ticks\":\"\",\"zerolinecolor\":\"white\",\"gridwidth\":2}},\"shapedefaults\":{\"line\":{\"color\":\"#2a3f5f\"}},\"annotationdefaults\":{\"arrowcolor\":\"#2a3f5f\",\"arrowhead\":0,\"arrowwidth\":1},\"geo\":{\"bgcolor\":\"white\",\"landcolor\":\"#E5ECF6\",\"subunitcolor\":\"white\",\"showland\":true,\"showlakes\":true,\"lakecolor\":\"white\"},\"title\":{\"x\":0.05},\"mapbox\":{\"style\":\"light\"}}},\"xaxis\":{\"anchor\":\"y\",\"domain\":[0.0,1.0],\"title\":{\"text\":\"name\"}},\"yaxis\":{\"anchor\":\"x\",\"domain\":[0.0,1.0],\"title\":{\"text\":\"rating\"}},\"coloraxis\":{\"colorbar\":{\"title\":{\"text\":\"rating\"}},\"colorscale\":[[0.0,\"#000004\"],[0.1111111111111111,\"#1b0c41\"],[0.2222222222222222,\"#4a0c6b\"],[0.3333333333333333,\"#781c6d\"],[0.4444444444444444,\"#a52c60\"],[0.5555555555555556,\"#cf4446\"],[0.6666666666666666,\"#ed6925\"],[0.7777777777777778,\"#fb9b06\"],[0.8888888888888888,\"#f7d13d\"],[1.0,\"#fcffa4\"]]},\"legend\":{\"tracegroupgap\":0},\"title\":{\"text\":\"Top Christopher Nolan Movies on IMDB\"},\"barmode\":\"relative\"},                        {\"responsive\": true}                    ).then(function(){\n",
       "                            \n",
       "var gd = document.getElementById('3a15a28f-9998-4383-8807-eb7e7fd414b3');\n",
       "var x = new MutationObserver(function (mutations, observer) {{\n",
       "        var display = window.getComputedStyle(gd).display;\n",
       "        if (!display || display === 'none') {{\n",
       "            console.log([gd, 'removed!']);\n",
       "            Plotly.purge(gd);\n",
       "            observer.disconnect();\n",
       "        }}\n",
       "}});\n",
       "\n",
       "// Listen for the removal of the full notebook cells\n",
       "var notebookContainer = gd.closest('#notebook-container');\n",
       "if (notebookContainer) {{\n",
       "    x.observe(notebookContainer, {childList: true});\n",
       "}}\n",
       "\n",
       "// Listen for the clearing of the current output cell\n",
       "var outputEl = gd.closest('.output');\n",
       "if (outputEl) {{\n",
       "    x.observe(outputEl, {childList: true});\n",
       "}}\n",
       "\n",
       "                        })                };                });            </script>        </div>"
      ]
     },
     "metadata": {},
     "output_type": "display_data"
    }
   ],
   "source": [
    "director = input(\"Enter the director name: \")\n",
    "dir_movie = df[df['directors']==director]\n",
    "fig = px.bar(dir_movie, x='name', y='rating', color='rating',\n",
    "             color_continuous_scale='Inferno', title=f'Top {director} Movies on IMDB')\n",
    "fig.show()"
   ]
  },
  {
   "cell_type": "markdown",
   "id": "ebb0f20a",
   "metadata": {},
   "source": [
    "# GRAPH FOR WRITERS (user input)"
   ]
  },
  {
   "cell_type": "code",
   "execution_count": 27,
   "id": "3b77e847",
   "metadata": {},
   "outputs": [
    {
     "name": "stdout",
     "output_type": "stream",
     "text": [
      "Enter the writer name: Jonathan Nolan\n"
     ]
    },
    {
     "data": {
      "application/vnd.plotly.v1+json": {
       "config": {
        "plotlyServerURL": "https://plot.ly"
       },
       "data": [
        {
         "alignmentgroup": "True",
         "hovertemplate": "name=%{x}<br>rating=%{marker.color}<extra></extra>",
         "legendgroup": "",
         "marker": {
          "color": [
           9,
           8.6,
           8.5,
           8.4,
           8.4
          ],
          "coloraxis": "coloraxis",
          "pattern": {
           "shape": ""
          }
         },
         "name": "",
         "offsetgroup": "",
         "orientation": "v",
         "showlegend": false,
         "textposition": "auto",
         "type": "bar",
         "x": [
          "The Dark Knight",
          "Interstellar",
          "The Prestige",
          "Memento",
          "The Dark Knight Rises"
         ],
         "xaxis": "x",
         "y": [
          9,
          8.6,
          8.5,
          8.4,
          8.4
         ],
         "yaxis": "y"
        }
       ],
       "layout": {
        "barmode": "relative",
        "coloraxis": {
         "colorbar": {
          "title": {
           "text": "rating"
          }
         },
         "colorscale": [
          [
           0,
           "#000004"
          ],
          [
           0.1111111111111111,
           "#1b0c41"
          ],
          [
           0.2222222222222222,
           "#4a0c6b"
          ],
          [
           0.3333333333333333,
           "#781c6d"
          ],
          [
           0.4444444444444444,
           "#a52c60"
          ],
          [
           0.5555555555555556,
           "#cf4446"
          ],
          [
           0.6666666666666666,
           "#ed6925"
          ],
          [
           0.7777777777777778,
           "#fb9b06"
          ],
          [
           0.8888888888888888,
           "#f7d13d"
          ],
          [
           1,
           "#fcffa4"
          ]
         ]
        },
        "legend": {
         "tracegroupgap": 0
        },
        "template": {
         "data": {
          "bar": [
           {
            "error_x": {
             "color": "#2a3f5f"
            },
            "error_y": {
             "color": "#2a3f5f"
            },
            "marker": {
             "line": {
              "color": "#E5ECF6",
              "width": 0.5
             },
             "pattern": {
              "fillmode": "overlay",
              "size": 10,
              "solidity": 0.2
             }
            },
            "type": "bar"
           }
          ],
          "barpolar": [
           {
            "marker": {
             "line": {
              "color": "#E5ECF6",
              "width": 0.5
             },
             "pattern": {
              "fillmode": "overlay",
              "size": 10,
              "solidity": 0.2
             }
            },
            "type": "barpolar"
           }
          ],
          "carpet": [
           {
            "aaxis": {
             "endlinecolor": "#2a3f5f",
             "gridcolor": "white",
             "linecolor": "white",
             "minorgridcolor": "white",
             "startlinecolor": "#2a3f5f"
            },
            "baxis": {
             "endlinecolor": "#2a3f5f",
             "gridcolor": "white",
             "linecolor": "white",
             "minorgridcolor": "white",
             "startlinecolor": "#2a3f5f"
            },
            "type": "carpet"
           }
          ],
          "choropleth": [
           {
            "colorbar": {
             "outlinewidth": 0,
             "ticks": ""
            },
            "type": "choropleth"
           }
          ],
          "contour": [
           {
            "colorbar": {
             "outlinewidth": 0,
             "ticks": ""
            },
            "colorscale": [
             [
              0,
              "#0d0887"
             ],
             [
              0.1111111111111111,
              "#46039f"
             ],
             [
              0.2222222222222222,
              "#7201a8"
             ],
             [
              0.3333333333333333,
              "#9c179e"
             ],
             [
              0.4444444444444444,
              "#bd3786"
             ],
             [
              0.5555555555555556,
              "#d8576b"
             ],
             [
              0.6666666666666666,
              "#ed7953"
             ],
             [
              0.7777777777777778,
              "#fb9f3a"
             ],
             [
              0.8888888888888888,
              "#fdca26"
             ],
             [
              1,
              "#f0f921"
             ]
            ],
            "type": "contour"
           }
          ],
          "contourcarpet": [
           {
            "colorbar": {
             "outlinewidth": 0,
             "ticks": ""
            },
            "type": "contourcarpet"
           }
          ],
          "heatmap": [
           {
            "colorbar": {
             "outlinewidth": 0,
             "ticks": ""
            },
            "colorscale": [
             [
              0,
              "#0d0887"
             ],
             [
              0.1111111111111111,
              "#46039f"
             ],
             [
              0.2222222222222222,
              "#7201a8"
             ],
             [
              0.3333333333333333,
              "#9c179e"
             ],
             [
              0.4444444444444444,
              "#bd3786"
             ],
             [
              0.5555555555555556,
              "#d8576b"
             ],
             [
              0.6666666666666666,
              "#ed7953"
             ],
             [
              0.7777777777777778,
              "#fb9f3a"
             ],
             [
              0.8888888888888888,
              "#fdca26"
             ],
             [
              1,
              "#f0f921"
             ]
            ],
            "type": "heatmap"
           }
          ],
          "heatmapgl": [
           {
            "colorbar": {
             "outlinewidth": 0,
             "ticks": ""
            },
            "colorscale": [
             [
              0,
              "#0d0887"
             ],
             [
              0.1111111111111111,
              "#46039f"
             ],
             [
              0.2222222222222222,
              "#7201a8"
             ],
             [
              0.3333333333333333,
              "#9c179e"
             ],
             [
              0.4444444444444444,
              "#bd3786"
             ],
             [
              0.5555555555555556,
              "#d8576b"
             ],
             [
              0.6666666666666666,
              "#ed7953"
             ],
             [
              0.7777777777777778,
              "#fb9f3a"
             ],
             [
              0.8888888888888888,
              "#fdca26"
             ],
             [
              1,
              "#f0f921"
             ]
            ],
            "type": "heatmapgl"
           }
          ],
          "histogram": [
           {
            "marker": {
             "pattern": {
              "fillmode": "overlay",
              "size": 10,
              "solidity": 0.2
             }
            },
            "type": "histogram"
           }
          ],
          "histogram2d": [
           {
            "colorbar": {
             "outlinewidth": 0,
             "ticks": ""
            },
            "colorscale": [
             [
              0,
              "#0d0887"
             ],
             [
              0.1111111111111111,
              "#46039f"
             ],
             [
              0.2222222222222222,
              "#7201a8"
             ],
             [
              0.3333333333333333,
              "#9c179e"
             ],
             [
              0.4444444444444444,
              "#bd3786"
             ],
             [
              0.5555555555555556,
              "#d8576b"
             ],
             [
              0.6666666666666666,
              "#ed7953"
             ],
             [
              0.7777777777777778,
              "#fb9f3a"
             ],
             [
              0.8888888888888888,
              "#fdca26"
             ],
             [
              1,
              "#f0f921"
             ]
            ],
            "type": "histogram2d"
           }
          ],
          "histogram2dcontour": [
           {
            "colorbar": {
             "outlinewidth": 0,
             "ticks": ""
            },
            "colorscale": [
             [
              0,
              "#0d0887"
             ],
             [
              0.1111111111111111,
              "#46039f"
             ],
             [
              0.2222222222222222,
              "#7201a8"
             ],
             [
              0.3333333333333333,
              "#9c179e"
             ],
             [
              0.4444444444444444,
              "#bd3786"
             ],
             [
              0.5555555555555556,
              "#d8576b"
             ],
             [
              0.6666666666666666,
              "#ed7953"
             ],
             [
              0.7777777777777778,
              "#fb9f3a"
             ],
             [
              0.8888888888888888,
              "#fdca26"
             ],
             [
              1,
              "#f0f921"
             ]
            ],
            "type": "histogram2dcontour"
           }
          ],
          "mesh3d": [
           {
            "colorbar": {
             "outlinewidth": 0,
             "ticks": ""
            },
            "type": "mesh3d"
           }
          ],
          "parcoords": [
           {
            "line": {
             "colorbar": {
              "outlinewidth": 0,
              "ticks": ""
             }
            },
            "type": "parcoords"
           }
          ],
          "pie": [
           {
            "automargin": true,
            "type": "pie"
           }
          ],
          "scatter": [
           {
            "fillpattern": {
             "fillmode": "overlay",
             "size": 10,
             "solidity": 0.2
            },
            "type": "scatter"
           }
          ],
          "scatter3d": [
           {
            "line": {
             "colorbar": {
              "outlinewidth": 0,
              "ticks": ""
             }
            },
            "marker": {
             "colorbar": {
              "outlinewidth": 0,
              "ticks": ""
             }
            },
            "type": "scatter3d"
           }
          ],
          "scattercarpet": [
           {
            "marker": {
             "colorbar": {
              "outlinewidth": 0,
              "ticks": ""
             }
            },
            "type": "scattercarpet"
           }
          ],
          "scattergeo": [
           {
            "marker": {
             "colorbar": {
              "outlinewidth": 0,
              "ticks": ""
             }
            },
            "type": "scattergeo"
           }
          ],
          "scattergl": [
           {
            "marker": {
             "colorbar": {
              "outlinewidth": 0,
              "ticks": ""
             }
            },
            "type": "scattergl"
           }
          ],
          "scattermapbox": [
           {
            "marker": {
             "colorbar": {
              "outlinewidth": 0,
              "ticks": ""
             }
            },
            "type": "scattermapbox"
           }
          ],
          "scatterpolar": [
           {
            "marker": {
             "colorbar": {
              "outlinewidth": 0,
              "ticks": ""
             }
            },
            "type": "scatterpolar"
           }
          ],
          "scatterpolargl": [
           {
            "marker": {
             "colorbar": {
              "outlinewidth": 0,
              "ticks": ""
             }
            },
            "type": "scatterpolargl"
           }
          ],
          "scatterternary": [
           {
            "marker": {
             "colorbar": {
              "outlinewidth": 0,
              "ticks": ""
             }
            },
            "type": "scatterternary"
           }
          ],
          "surface": [
           {
            "colorbar": {
             "outlinewidth": 0,
             "ticks": ""
            },
            "colorscale": [
             [
              0,
              "#0d0887"
             ],
             [
              0.1111111111111111,
              "#46039f"
             ],
             [
              0.2222222222222222,
              "#7201a8"
             ],
             [
              0.3333333333333333,
              "#9c179e"
             ],
             [
              0.4444444444444444,
              "#bd3786"
             ],
             [
              0.5555555555555556,
              "#d8576b"
             ],
             [
              0.6666666666666666,
              "#ed7953"
             ],
             [
              0.7777777777777778,
              "#fb9f3a"
             ],
             [
              0.8888888888888888,
              "#fdca26"
             ],
             [
              1,
              "#f0f921"
             ]
            ],
            "type": "surface"
           }
          ],
          "table": [
           {
            "cells": {
             "fill": {
              "color": "#EBF0F8"
             },
             "line": {
              "color": "white"
             }
            },
            "header": {
             "fill": {
              "color": "#C8D4E3"
             },
             "line": {
              "color": "white"
             }
            },
            "type": "table"
           }
          ]
         },
         "layout": {
          "annotationdefaults": {
           "arrowcolor": "#2a3f5f",
           "arrowhead": 0,
           "arrowwidth": 1
          },
          "autotypenumbers": "strict",
          "coloraxis": {
           "colorbar": {
            "outlinewidth": 0,
            "ticks": ""
           }
          },
          "colorscale": {
           "diverging": [
            [
             0,
             "#8e0152"
            ],
            [
             0.1,
             "#c51b7d"
            ],
            [
             0.2,
             "#de77ae"
            ],
            [
             0.3,
             "#f1b6da"
            ],
            [
             0.4,
             "#fde0ef"
            ],
            [
             0.5,
             "#f7f7f7"
            ],
            [
             0.6,
             "#e6f5d0"
            ],
            [
             0.7,
             "#b8e186"
            ],
            [
             0.8,
             "#7fbc41"
            ],
            [
             0.9,
             "#4d9221"
            ],
            [
             1,
             "#276419"
            ]
           ],
           "sequential": [
            [
             0,
             "#0d0887"
            ],
            [
             0.1111111111111111,
             "#46039f"
            ],
            [
             0.2222222222222222,
             "#7201a8"
            ],
            [
             0.3333333333333333,
             "#9c179e"
            ],
            [
             0.4444444444444444,
             "#bd3786"
            ],
            [
             0.5555555555555556,
             "#d8576b"
            ],
            [
             0.6666666666666666,
             "#ed7953"
            ],
            [
             0.7777777777777778,
             "#fb9f3a"
            ],
            [
             0.8888888888888888,
             "#fdca26"
            ],
            [
             1,
             "#f0f921"
            ]
           ],
           "sequentialminus": [
            [
             0,
             "#0d0887"
            ],
            [
             0.1111111111111111,
             "#46039f"
            ],
            [
             0.2222222222222222,
             "#7201a8"
            ],
            [
             0.3333333333333333,
             "#9c179e"
            ],
            [
             0.4444444444444444,
             "#bd3786"
            ],
            [
             0.5555555555555556,
             "#d8576b"
            ],
            [
             0.6666666666666666,
             "#ed7953"
            ],
            [
             0.7777777777777778,
             "#fb9f3a"
            ],
            [
             0.8888888888888888,
             "#fdca26"
            ],
            [
             1,
             "#f0f921"
            ]
           ]
          },
          "colorway": [
           "#636efa",
           "#EF553B",
           "#00cc96",
           "#ab63fa",
           "#FFA15A",
           "#19d3f3",
           "#FF6692",
           "#B6E880",
           "#FF97FF",
           "#FECB52"
          ],
          "font": {
           "color": "#2a3f5f"
          },
          "geo": {
           "bgcolor": "white",
           "lakecolor": "white",
           "landcolor": "#E5ECF6",
           "showlakes": true,
           "showland": true,
           "subunitcolor": "white"
          },
          "hoverlabel": {
           "align": "left"
          },
          "hovermode": "closest",
          "mapbox": {
           "style": "light"
          },
          "paper_bgcolor": "white",
          "plot_bgcolor": "#E5ECF6",
          "polar": {
           "angularaxis": {
            "gridcolor": "white",
            "linecolor": "white",
            "ticks": ""
           },
           "bgcolor": "#E5ECF6",
           "radialaxis": {
            "gridcolor": "white",
            "linecolor": "white",
            "ticks": ""
           }
          },
          "scene": {
           "xaxis": {
            "backgroundcolor": "#E5ECF6",
            "gridcolor": "white",
            "gridwidth": 2,
            "linecolor": "white",
            "showbackground": true,
            "ticks": "",
            "zerolinecolor": "white"
           },
           "yaxis": {
            "backgroundcolor": "#E5ECF6",
            "gridcolor": "white",
            "gridwidth": 2,
            "linecolor": "white",
            "showbackground": true,
            "ticks": "",
            "zerolinecolor": "white"
           },
           "zaxis": {
            "backgroundcolor": "#E5ECF6",
            "gridcolor": "white",
            "gridwidth": 2,
            "linecolor": "white",
            "showbackground": true,
            "ticks": "",
            "zerolinecolor": "white"
           }
          },
          "shapedefaults": {
           "line": {
            "color": "#2a3f5f"
           }
          },
          "ternary": {
           "aaxis": {
            "gridcolor": "white",
            "linecolor": "white",
            "ticks": ""
           },
           "baxis": {
            "gridcolor": "white",
            "linecolor": "white",
            "ticks": ""
           },
           "bgcolor": "#E5ECF6",
           "caxis": {
            "gridcolor": "white",
            "linecolor": "white",
            "ticks": ""
           }
          },
          "title": {
           "x": 0.05
          },
          "xaxis": {
           "automargin": true,
           "gridcolor": "white",
           "linecolor": "white",
           "ticks": "",
           "title": {
            "standoff": 15
           },
           "zerolinecolor": "white",
           "zerolinewidth": 2
          },
          "yaxis": {
           "automargin": true,
           "gridcolor": "white",
           "linecolor": "white",
           "ticks": "",
           "title": {
            "standoff": 15
           },
           "zerolinecolor": "white",
           "zerolinewidth": 2
          }
         }
        },
        "title": {
         "text": "Top Movies for Jonathan Nolan"
        },
        "xaxis": {
         "anchor": "y",
         "domain": [
          0,
          1
         ],
         "title": {
          "text": "name"
         }
        },
        "yaxis": {
         "anchor": "x",
         "domain": [
          0,
          1
         ],
         "title": {
          "text": "rating"
         }
        }
       }
      },
      "text/html": [
       "<div>                            <div id=\"fee2179d-4e1a-4377-9e03-fb22930a5577\" class=\"plotly-graph-div\" style=\"height:525px; width:100%;\"></div>            <script type=\"text/javascript\">                require([\"plotly\"], function(Plotly) {                    window.PLOTLYENV=window.PLOTLYENV || {};                                    if (document.getElementById(\"fee2179d-4e1a-4377-9e03-fb22930a5577\")) {                    Plotly.newPlot(                        \"fee2179d-4e1a-4377-9e03-fb22930a5577\",                        [{\"alignmentgroup\":\"True\",\"hovertemplate\":\"name=%{x}<br>rating=%{marker.color}<extra></extra>\",\"legendgroup\":\"\",\"marker\":{\"color\":[9.0,8.6,8.5,8.4,8.4],\"coloraxis\":\"coloraxis\",\"pattern\":{\"shape\":\"\"}},\"name\":\"\",\"offsetgroup\":\"\",\"orientation\":\"v\",\"showlegend\":false,\"textposition\":\"auto\",\"x\":[\"The Dark Knight\",\"Interstellar\",\"The Prestige\",\"Memento\",\"The Dark Knight Rises\"],\"xaxis\":\"x\",\"y\":[9.0,8.6,8.5,8.4,8.4],\"yaxis\":\"y\",\"type\":\"bar\"}],                        {\"template\":{\"data\":{\"histogram2dcontour\":[{\"type\":\"histogram2dcontour\",\"colorbar\":{\"outlinewidth\":0,\"ticks\":\"\"},\"colorscale\":[[0.0,\"#0d0887\"],[0.1111111111111111,\"#46039f\"],[0.2222222222222222,\"#7201a8\"],[0.3333333333333333,\"#9c179e\"],[0.4444444444444444,\"#bd3786\"],[0.5555555555555556,\"#d8576b\"],[0.6666666666666666,\"#ed7953\"],[0.7777777777777778,\"#fb9f3a\"],[0.8888888888888888,\"#fdca26\"],[1.0,\"#f0f921\"]]}],\"choropleth\":[{\"type\":\"choropleth\",\"colorbar\":{\"outlinewidth\":0,\"ticks\":\"\"}}],\"histogram2d\":[{\"type\":\"histogram2d\",\"colorbar\":{\"outlinewidth\":0,\"ticks\":\"\"},\"colorscale\":[[0.0,\"#0d0887\"],[0.1111111111111111,\"#46039f\"],[0.2222222222222222,\"#7201a8\"],[0.3333333333333333,\"#9c179e\"],[0.4444444444444444,\"#bd3786\"],[0.5555555555555556,\"#d8576b\"],[0.6666666666666666,\"#ed7953\"],[0.7777777777777778,\"#fb9f3a\"],[0.8888888888888888,\"#fdca26\"],[1.0,\"#f0f921\"]]}],\"heatmap\":[{\"type\":\"heatmap\",\"colorbar\":{\"outlinewidth\":0,\"ticks\":\"\"},\"colorscale\":[[0.0,\"#0d0887\"],[0.1111111111111111,\"#46039f\"],[0.2222222222222222,\"#7201a8\"],[0.3333333333333333,\"#9c179e\"],[0.4444444444444444,\"#bd3786\"],[0.5555555555555556,\"#d8576b\"],[0.6666666666666666,\"#ed7953\"],[0.7777777777777778,\"#fb9f3a\"],[0.8888888888888888,\"#fdca26\"],[1.0,\"#f0f921\"]]}],\"heatmapgl\":[{\"type\":\"heatmapgl\",\"colorbar\":{\"outlinewidth\":0,\"ticks\":\"\"},\"colorscale\":[[0.0,\"#0d0887\"],[0.1111111111111111,\"#46039f\"],[0.2222222222222222,\"#7201a8\"],[0.3333333333333333,\"#9c179e\"],[0.4444444444444444,\"#bd3786\"],[0.5555555555555556,\"#d8576b\"],[0.6666666666666666,\"#ed7953\"],[0.7777777777777778,\"#fb9f3a\"],[0.8888888888888888,\"#fdca26\"],[1.0,\"#f0f921\"]]}],\"contourcarpet\":[{\"type\":\"contourcarpet\",\"colorbar\":{\"outlinewidth\":0,\"ticks\":\"\"}}],\"contour\":[{\"type\":\"contour\",\"colorbar\":{\"outlinewidth\":0,\"ticks\":\"\"},\"colorscale\":[[0.0,\"#0d0887\"],[0.1111111111111111,\"#46039f\"],[0.2222222222222222,\"#7201a8\"],[0.3333333333333333,\"#9c179e\"],[0.4444444444444444,\"#bd3786\"],[0.5555555555555556,\"#d8576b\"],[0.6666666666666666,\"#ed7953\"],[0.7777777777777778,\"#fb9f3a\"],[0.8888888888888888,\"#fdca26\"],[1.0,\"#f0f921\"]]}],\"surface\":[{\"type\":\"surface\",\"colorbar\":{\"outlinewidth\":0,\"ticks\":\"\"},\"colorscale\":[[0.0,\"#0d0887\"],[0.1111111111111111,\"#46039f\"],[0.2222222222222222,\"#7201a8\"],[0.3333333333333333,\"#9c179e\"],[0.4444444444444444,\"#bd3786\"],[0.5555555555555556,\"#d8576b\"],[0.6666666666666666,\"#ed7953\"],[0.7777777777777778,\"#fb9f3a\"],[0.8888888888888888,\"#fdca26\"],[1.0,\"#f0f921\"]]}],\"mesh3d\":[{\"type\":\"mesh3d\",\"colorbar\":{\"outlinewidth\":0,\"ticks\":\"\"}}],\"scatter\":[{\"fillpattern\":{\"fillmode\":\"overlay\",\"size\":10,\"solidity\":0.2},\"type\":\"scatter\"}],\"parcoords\":[{\"type\":\"parcoords\",\"line\":{\"colorbar\":{\"outlinewidth\":0,\"ticks\":\"\"}}}],\"scatterpolargl\":[{\"type\":\"scatterpolargl\",\"marker\":{\"colorbar\":{\"outlinewidth\":0,\"ticks\":\"\"}}}],\"bar\":[{\"error_x\":{\"color\":\"#2a3f5f\"},\"error_y\":{\"color\":\"#2a3f5f\"},\"marker\":{\"line\":{\"color\":\"#E5ECF6\",\"width\":0.5},\"pattern\":{\"fillmode\":\"overlay\",\"size\":10,\"solidity\":0.2}},\"type\":\"bar\"}],\"scattergeo\":[{\"type\":\"scattergeo\",\"marker\":{\"colorbar\":{\"outlinewidth\":0,\"ticks\":\"\"}}}],\"scatterpolar\":[{\"type\":\"scatterpolar\",\"marker\":{\"colorbar\":{\"outlinewidth\":0,\"ticks\":\"\"}}}],\"histogram\":[{\"marker\":{\"pattern\":{\"fillmode\":\"overlay\",\"size\":10,\"solidity\":0.2}},\"type\":\"histogram\"}],\"scattergl\":[{\"type\":\"scattergl\",\"marker\":{\"colorbar\":{\"outlinewidth\":0,\"ticks\":\"\"}}}],\"scatter3d\":[{\"type\":\"scatter3d\",\"line\":{\"colorbar\":{\"outlinewidth\":0,\"ticks\":\"\"}},\"marker\":{\"colorbar\":{\"outlinewidth\":0,\"ticks\":\"\"}}}],\"scattermapbox\":[{\"type\":\"scattermapbox\",\"marker\":{\"colorbar\":{\"outlinewidth\":0,\"ticks\":\"\"}}}],\"scatterternary\":[{\"type\":\"scatterternary\",\"marker\":{\"colorbar\":{\"outlinewidth\":0,\"ticks\":\"\"}}}],\"scattercarpet\":[{\"type\":\"scattercarpet\",\"marker\":{\"colorbar\":{\"outlinewidth\":0,\"ticks\":\"\"}}}],\"carpet\":[{\"aaxis\":{\"endlinecolor\":\"#2a3f5f\",\"gridcolor\":\"white\",\"linecolor\":\"white\",\"minorgridcolor\":\"white\",\"startlinecolor\":\"#2a3f5f\"},\"baxis\":{\"endlinecolor\":\"#2a3f5f\",\"gridcolor\":\"white\",\"linecolor\":\"white\",\"minorgridcolor\":\"white\",\"startlinecolor\":\"#2a3f5f\"},\"type\":\"carpet\"}],\"table\":[{\"cells\":{\"fill\":{\"color\":\"#EBF0F8\"},\"line\":{\"color\":\"white\"}},\"header\":{\"fill\":{\"color\":\"#C8D4E3\"},\"line\":{\"color\":\"white\"}},\"type\":\"table\"}],\"barpolar\":[{\"marker\":{\"line\":{\"color\":\"#E5ECF6\",\"width\":0.5},\"pattern\":{\"fillmode\":\"overlay\",\"size\":10,\"solidity\":0.2}},\"type\":\"barpolar\"}],\"pie\":[{\"automargin\":true,\"type\":\"pie\"}]},\"layout\":{\"autotypenumbers\":\"strict\",\"colorway\":[\"#636efa\",\"#EF553B\",\"#00cc96\",\"#ab63fa\",\"#FFA15A\",\"#19d3f3\",\"#FF6692\",\"#B6E880\",\"#FF97FF\",\"#FECB52\"],\"font\":{\"color\":\"#2a3f5f\"},\"hovermode\":\"closest\",\"hoverlabel\":{\"align\":\"left\"},\"paper_bgcolor\":\"white\",\"plot_bgcolor\":\"#E5ECF6\",\"polar\":{\"bgcolor\":\"#E5ECF6\",\"angularaxis\":{\"gridcolor\":\"white\",\"linecolor\":\"white\",\"ticks\":\"\"},\"radialaxis\":{\"gridcolor\":\"white\",\"linecolor\":\"white\",\"ticks\":\"\"}},\"ternary\":{\"bgcolor\":\"#E5ECF6\",\"aaxis\":{\"gridcolor\":\"white\",\"linecolor\":\"white\",\"ticks\":\"\"},\"baxis\":{\"gridcolor\":\"white\",\"linecolor\":\"white\",\"ticks\":\"\"},\"caxis\":{\"gridcolor\":\"white\",\"linecolor\":\"white\",\"ticks\":\"\"}},\"coloraxis\":{\"colorbar\":{\"outlinewidth\":0,\"ticks\":\"\"}},\"colorscale\":{\"sequential\":[[0.0,\"#0d0887\"],[0.1111111111111111,\"#46039f\"],[0.2222222222222222,\"#7201a8\"],[0.3333333333333333,\"#9c179e\"],[0.4444444444444444,\"#bd3786\"],[0.5555555555555556,\"#d8576b\"],[0.6666666666666666,\"#ed7953\"],[0.7777777777777778,\"#fb9f3a\"],[0.8888888888888888,\"#fdca26\"],[1.0,\"#f0f921\"]],\"sequentialminus\":[[0.0,\"#0d0887\"],[0.1111111111111111,\"#46039f\"],[0.2222222222222222,\"#7201a8\"],[0.3333333333333333,\"#9c179e\"],[0.4444444444444444,\"#bd3786\"],[0.5555555555555556,\"#d8576b\"],[0.6666666666666666,\"#ed7953\"],[0.7777777777777778,\"#fb9f3a\"],[0.8888888888888888,\"#fdca26\"],[1.0,\"#f0f921\"]],\"diverging\":[[0,\"#8e0152\"],[0.1,\"#c51b7d\"],[0.2,\"#de77ae\"],[0.3,\"#f1b6da\"],[0.4,\"#fde0ef\"],[0.5,\"#f7f7f7\"],[0.6,\"#e6f5d0\"],[0.7,\"#b8e186\"],[0.8,\"#7fbc41\"],[0.9,\"#4d9221\"],[1,\"#276419\"]]},\"xaxis\":{\"gridcolor\":\"white\",\"linecolor\":\"white\",\"ticks\":\"\",\"title\":{\"standoff\":15},\"zerolinecolor\":\"white\",\"automargin\":true,\"zerolinewidth\":2},\"yaxis\":{\"gridcolor\":\"white\",\"linecolor\":\"white\",\"ticks\":\"\",\"title\":{\"standoff\":15},\"zerolinecolor\":\"white\",\"automargin\":true,\"zerolinewidth\":2},\"scene\":{\"xaxis\":{\"backgroundcolor\":\"#E5ECF6\",\"gridcolor\":\"white\",\"linecolor\":\"white\",\"showbackground\":true,\"ticks\":\"\",\"zerolinecolor\":\"white\",\"gridwidth\":2},\"yaxis\":{\"backgroundcolor\":\"#E5ECF6\",\"gridcolor\":\"white\",\"linecolor\":\"white\",\"showbackground\":true,\"ticks\":\"\",\"zerolinecolor\":\"white\",\"gridwidth\":2},\"zaxis\":{\"backgroundcolor\":\"#E5ECF6\",\"gridcolor\":\"white\",\"linecolor\":\"white\",\"showbackground\":true,\"ticks\":\"\",\"zerolinecolor\":\"white\",\"gridwidth\":2}},\"shapedefaults\":{\"line\":{\"color\":\"#2a3f5f\"}},\"annotationdefaults\":{\"arrowcolor\":\"#2a3f5f\",\"arrowhead\":0,\"arrowwidth\":1},\"geo\":{\"bgcolor\":\"white\",\"landcolor\":\"#E5ECF6\",\"subunitcolor\":\"white\",\"showland\":true,\"showlakes\":true,\"lakecolor\":\"white\"},\"title\":{\"x\":0.05},\"mapbox\":{\"style\":\"light\"}}},\"xaxis\":{\"anchor\":\"y\",\"domain\":[0.0,1.0],\"title\":{\"text\":\"name\"}},\"yaxis\":{\"anchor\":\"x\",\"domain\":[0.0,1.0],\"title\":{\"text\":\"rating\"}},\"coloraxis\":{\"colorbar\":{\"title\":{\"text\":\"rating\"}},\"colorscale\":[[0.0,\"#000004\"],[0.1111111111111111,\"#1b0c41\"],[0.2222222222222222,\"#4a0c6b\"],[0.3333333333333333,\"#781c6d\"],[0.4444444444444444,\"#a52c60\"],[0.5555555555555556,\"#cf4446\"],[0.6666666666666666,\"#ed6925\"],[0.7777777777777778,\"#fb9b06\"],[0.8888888888888888,\"#f7d13d\"],[1.0,\"#fcffa4\"]]},\"legend\":{\"tracegroupgap\":0},\"title\":{\"text\":\"Top Movies for Jonathan Nolan\"},\"barmode\":\"relative\"},                        {\"responsive\": true}                    ).then(function(){\n",
       "                            \n",
       "var gd = document.getElementById('fee2179d-4e1a-4377-9e03-fb22930a5577');\n",
       "var x = new MutationObserver(function (mutations, observer) {{\n",
       "        var display = window.getComputedStyle(gd).display;\n",
       "        if (!display || display === 'none') {{\n",
       "            console.log([gd, 'removed!']);\n",
       "            Plotly.purge(gd);\n",
       "            observer.disconnect();\n",
       "        }}\n",
       "}});\n",
       "\n",
       "// Listen for the removal of the full notebook cells\n",
       "var notebookContainer = gd.closest('#notebook-container');\n",
       "if (notebookContainer) {{\n",
       "    x.observe(notebookContainer, {childList: true});\n",
       "}}\n",
       "\n",
       "// Listen for the clearing of the current output cell\n",
       "var outputEl = gd.closest('.output');\n",
       "if (outputEl) {{\n",
       "    x.observe(outputEl, {childList: true});\n",
       "}}\n",
       "\n",
       "                        })                };                });            </script>        </div>"
      ]
     },
     "metadata": {},
     "output_type": "display_data"
    }
   ],
   "source": [
    "writer = input(\"Enter the writer name: \")\n",
    "# Split the writers column and create a new dataframe\n",
    "df_writers = df['writers'].str.split(',', expand=True).stack().reset_index(level=1, drop=True).rename('writer')\n",
    "df_new = df.drop('writers', axis=1).join(df_writers)\n",
    "\n",
    "# # Filter the dataframe based on the writer name\n",
    "writer_movies = df_new[df_new['writer'].str.contains(writer, case=False)]\n",
    "\n",
    "# # Group the movies by name and calculate the average rating\n",
    "avg_ratings = writer_movies.groupby('name')['rating'].mean().reset_index()\n",
    "\n",
    "# # Sort the movies by rating in descending order and take top 10\n",
    "top_movies = avg_ratings.sort_values('rating', ascending=False).head(10)\n",
    "\n",
    "# Plot the bar graph using Plotly Express\n",
    "fig = px.bar(top_movies, x='name', y='rating', color='rating', \n",
    "             color_continuous_scale='Inferno', title=f'Top Movies for {writer}')\n",
    "fig.show()"
   ]
  },
  {
   "cell_type": "markdown",
   "id": "9714e983",
   "metadata": {},
   "source": [
    "# SEARCH THE MOVIE BY YOUR FAVOURITE CAST NAME"
   ]
  },
  {
   "cell_type": "code",
   "execution_count": 29,
   "id": "d730c3cd",
   "metadata": {},
   "outputs": [
    {
     "name": "stdout",
     "output_type": "stream",
     "text": [
      "Enter the cast name: \n"
     ]
    },
    {
     "data": {
      "text/html": [
       "<div>\n",
       "<style scoped>\n",
       "    .dataframe tbody tr th:only-of-type {\n",
       "        vertical-align: middle;\n",
       "    }\n",
       "\n",
       "    .dataframe tbody tr th {\n",
       "        vertical-align: top;\n",
       "    }\n",
       "\n",
       "    .dataframe thead th {\n",
       "        text-align: right;\n",
       "    }\n",
       "</style>\n",
       "<table border=\"1\" class=\"dataframe\">\n",
       "  <thead>\n",
       "    <tr style=\"text-align: right;\">\n",
       "      <th></th>\n",
       "      <th>rank</th>\n",
       "      <th>name</th>\n",
       "      <th>year</th>\n",
       "      <th>rating</th>\n",
       "      <th>genre</th>\n",
       "      <th>certificate</th>\n",
       "      <th>run_time</th>\n",
       "      <th>tagline</th>\n",
       "      <th>budget</th>\n",
       "      <th>box_office</th>\n",
       "      <th>casts</th>\n",
       "      <th>directors</th>\n",
       "      <th>writers</th>\n",
       "      <th>genre_1</th>\n",
       "      <th>genre_2</th>\n",
       "      <th>genre_3</th>\n",
       "    </tr>\n",
       "  </thead>\n",
       "  <tbody>\n",
       "    <tr>\n",
       "      <th>0</th>\n",
       "      <td>1</td>\n",
       "      <td>The Shawshank Redemption</td>\n",
       "      <td>1994</td>\n",
       "      <td>9.3</td>\n",
       "      <td>Drama</td>\n",
       "      <td>R</td>\n",
       "      <td>2h 22m</td>\n",
       "      <td>Fear can hold you prisoner. Hope can set you f...</td>\n",
       "      <td>25000000</td>\n",
       "      <td>2.888450e+07</td>\n",
       "      <td>Tim Robbins,Morgan Freeman,Bob Gunton,William ...</td>\n",
       "      <td>Frank Darabont</td>\n",
       "      <td>Stephen King,Frank Darabont</td>\n",
       "      <td>Drama</td>\n",
       "      <td>None</td>\n",
       "      <td>None</td>\n",
       "    </tr>\n",
       "    <tr>\n",
       "      <th>1</th>\n",
       "      <td>2</td>\n",
       "      <td>The Godfather</td>\n",
       "      <td>1972</td>\n",
       "      <td>9.2</td>\n",
       "      <td>Crime,Drama</td>\n",
       "      <td>R</td>\n",
       "      <td>2h 55m</td>\n",
       "      <td>An offer you can't refuse.</td>\n",
       "      <td>6000000</td>\n",
       "      <td>2.503418e+08</td>\n",
       "      <td>Marlon Brando,Al Pacino,James Caan,Diane Keato...</td>\n",
       "      <td>Francis Ford Coppola</td>\n",
       "      <td>Mario Puzo,Francis Ford Coppola</td>\n",
       "      <td>Crime</td>\n",
       "      <td>Drama</td>\n",
       "      <td>None</td>\n",
       "    </tr>\n",
       "    <tr>\n",
       "      <th>2</th>\n",
       "      <td>3</td>\n",
       "      <td>The Dark Knight</td>\n",
       "      <td>2008</td>\n",
       "      <td>9.0</td>\n",
       "      <td>Action,Crime,Drama</td>\n",
       "      <td>PG-13</td>\n",
       "      <td>2h 32m</td>\n",
       "      <td>Why So Serious?</td>\n",
       "      <td>185000000</td>\n",
       "      <td>1.006234e+09</td>\n",
       "      <td>Christian Bale,Heath Ledger,Aaron Eckhart,Mich...</td>\n",
       "      <td>Christopher Nolan</td>\n",
       "      <td>Jonathan Nolan,Christopher Nolan,David S. Goyer</td>\n",
       "      <td>Action</td>\n",
       "      <td>Crime</td>\n",
       "      <td>Drama</td>\n",
       "    </tr>\n",
       "    <tr>\n",
       "      <th>3</th>\n",
       "      <td>4</td>\n",
       "      <td>The Godfather Part II</td>\n",
       "      <td>1974</td>\n",
       "      <td>9.0</td>\n",
       "      <td>Crime,Drama</td>\n",
       "      <td>R</td>\n",
       "      <td>3h 22m</td>\n",
       "      <td>All the power on earth can't change destiny.</td>\n",
       "      <td>13000000</td>\n",
       "      <td>4.796192e+07</td>\n",
       "      <td>Al Pacino,Robert De Niro,Robert Duvall,Diane K...</td>\n",
       "      <td>Francis Ford Coppola</td>\n",
       "      <td>Francis Ford Coppola,Mario Puzo</td>\n",
       "      <td>Crime</td>\n",
       "      <td>Drama</td>\n",
       "      <td>None</td>\n",
       "    </tr>\n",
       "    <tr>\n",
       "      <th>4</th>\n",
       "      <td>5</td>\n",
       "      <td>12 Angry Men</td>\n",
       "      <td>1957</td>\n",
       "      <td>9.0</td>\n",
       "      <td>Crime,Drama</td>\n",
       "      <td>Approved</td>\n",
       "      <td>1h 36m</td>\n",
       "      <td>Life Is In Their Hands -- Death Is On Their Mi...</td>\n",
       "      <td>350000</td>\n",
       "      <td>9.550000e+02</td>\n",
       "      <td>Henry Fonda,Lee J. Cobb,Martin Balsam,John Fie...</td>\n",
       "      <td>Sidney Lumet</td>\n",
       "      <td>Reginald Rose</td>\n",
       "      <td>Crime</td>\n",
       "      <td>Drama</td>\n",
       "      <td>None</td>\n",
       "    </tr>\n",
       "    <tr>\n",
       "      <th>...</th>\n",
       "      <td>...</td>\n",
       "      <td>...</td>\n",
       "      <td>...</td>\n",
       "      <td>...</td>\n",
       "      <td>...</td>\n",
       "      <td>...</td>\n",
       "      <td>...</td>\n",
       "      <td>...</td>\n",
       "      <td>...</td>\n",
       "      <td>...</td>\n",
       "      <td>...</td>\n",
       "      <td>...</td>\n",
       "      <td>...</td>\n",
       "      <td>...</td>\n",
       "      <td>...</td>\n",
       "      <td>...</td>\n",
       "    </tr>\n",
       "    <tr>\n",
       "      <th>245</th>\n",
       "      <td>246</td>\n",
       "      <td>The Help</td>\n",
       "      <td>2011</td>\n",
       "      <td>8.1</td>\n",
       "      <td>Drama</td>\n",
       "      <td>PG-13</td>\n",
       "      <td>2h 26m</td>\n",
       "      <td>Change begins with a whisper.</td>\n",
       "      <td>25000000</td>\n",
       "      <td>2.166391e+08</td>\n",
       "      <td>Viola Davis,Emma Stone,Octavia Spencer,Bryce D...</td>\n",
       "      <td>Tate Taylor</td>\n",
       "      <td>Tate Taylor,Kathryn Stockett</td>\n",
       "      <td>Drama</td>\n",
       "      <td>None</td>\n",
       "      <td>None</td>\n",
       "    </tr>\n",
       "    <tr>\n",
       "      <th>246</th>\n",
       "      <td>247</td>\n",
       "      <td>Dersu Uzala</td>\n",
       "      <td>1975</td>\n",
       "      <td>8.2</td>\n",
       "      <td>Adventure,Biography,Drama</td>\n",
       "      <td>G</td>\n",
       "      <td>2h 22m</td>\n",
       "      <td>There is man and beast at nature's mercy. Ther...</td>\n",
       "      <td>4000000</td>\n",
       "      <td>1.448000e+04</td>\n",
       "      <td>Maksim Munzuk,Yuriy Solomin,Mikhail Bychkov,Vl...</td>\n",
       "      <td>Akira Kurosawa</td>\n",
       "      <td>Akira Kurosawa,Yuriy Nagibin,Vladimir Arsenev</td>\n",
       "      <td>Adventure</td>\n",
       "      <td>Biography</td>\n",
       "      <td>Drama</td>\n",
       "    </tr>\n",
       "    <tr>\n",
       "      <th>247</th>\n",
       "      <td>248</td>\n",
       "      <td>Aladdin</td>\n",
       "      <td>1992</td>\n",
       "      <td>8.0</td>\n",
       "      <td>Animation,Adventure,Comedy</td>\n",
       "      <td>G</td>\n",
       "      <td>1h 30m</td>\n",
       "      <td>Wish granted! (DVD re-release)</td>\n",
       "      <td>Not Available</td>\n",
       "      <td>0.000000e+00</td>\n",
       "      <td>Scott Weinger,Robin Williams,Linda Larkin,Jona...</td>\n",
       "      <td>Ron Clements,John Musker</td>\n",
       "      <td>Ron Clements,John Musker,Ted Elliott</td>\n",
       "      <td>Animation</td>\n",
       "      <td>Adventure</td>\n",
       "      <td>Comedy</td>\n",
       "    </tr>\n",
       "    <tr>\n",
       "      <th>248</th>\n",
       "      <td>249</td>\n",
       "      <td>Gandhi</td>\n",
       "      <td>1982</td>\n",
       "      <td>8.0</td>\n",
       "      <td>Biography,Drama,History</td>\n",
       "      <td>PG</td>\n",
       "      <td>3h 11m</td>\n",
       "      <td>His Triumph Changed The World Forever.</td>\n",
       "      <td>22000000</td>\n",
       "      <td>5.276789e+07</td>\n",
       "      <td>Ben Kingsley,John Gielgud,Rohini Hattangadi,Ro...</td>\n",
       "      <td>Richard Attenborough</td>\n",
       "      <td>John Briley</td>\n",
       "      <td>Biography</td>\n",
       "      <td>Drama</td>\n",
       "      <td>History</td>\n",
       "    </tr>\n",
       "    <tr>\n",
       "      <th>249</th>\n",
       "      <td>250</td>\n",
       "      <td>Dances with Wolves</td>\n",
       "      <td>1990</td>\n",
       "      <td>8.0</td>\n",
       "      <td>Adventure,Drama,Western</td>\n",
       "      <td>PG-13</td>\n",
       "      <td>3h 1m</td>\n",
       "      <td>Inside everyone is a frontier waiting to be di...</td>\n",
       "      <td>22000000</td>\n",
       "      <td>4.242088e+08</td>\n",
       "      <td>Kevin Costner,Mary McDonnell,Graham Greene,Rod...</td>\n",
       "      <td>Kevin Costner</td>\n",
       "      <td>Michael Blake</td>\n",
       "      <td>Adventure</td>\n",
       "      <td>Drama</td>\n",
       "      <td>Western</td>\n",
       "    </tr>\n",
       "  </tbody>\n",
       "</table>\n",
       "<p>247 rows × 16 columns</p>\n",
       "</div>"
      ],
      "text/plain": [
       "     rank                      name  year  rating                       genre  \\\n",
       "0       1  The Shawshank Redemption  1994     9.3                       Drama   \n",
       "1       2             The Godfather  1972     9.2                 Crime,Drama   \n",
       "2       3           The Dark Knight  2008     9.0          Action,Crime,Drama   \n",
       "3       4     The Godfather Part II  1974     9.0                 Crime,Drama   \n",
       "4       5              12 Angry Men  1957     9.0                 Crime,Drama   \n",
       "..    ...                       ...   ...     ...                         ...   \n",
       "245   246                  The Help  2011     8.1                       Drama   \n",
       "246   247               Dersu Uzala  1975     8.2   Adventure,Biography,Drama   \n",
       "247   248                   Aladdin  1992     8.0  Animation,Adventure,Comedy   \n",
       "248   249                    Gandhi  1982     8.0     Biography,Drama,History   \n",
       "249   250        Dances with Wolves  1990     8.0     Adventure,Drama,Western   \n",
       "\n",
       "    certificate run_time                                            tagline  \\\n",
       "0             R   2h 22m  Fear can hold you prisoner. Hope can set you f...   \n",
       "1             R   2h 55m                         An offer you can't refuse.   \n",
       "2         PG-13   2h 32m                                    Why So Serious?   \n",
       "3             R   3h 22m       All the power on earth can't change destiny.   \n",
       "4      Approved   1h 36m  Life Is In Their Hands -- Death Is On Their Mi...   \n",
       "..          ...      ...                                                ...   \n",
       "245       PG-13   2h 26m                      Change begins with a whisper.   \n",
       "246           G   2h 22m  There is man and beast at nature's mercy. Ther...   \n",
       "247           G   1h 30m                     Wish granted! (DVD re-release)   \n",
       "248          PG   3h 11m             His Triumph Changed The World Forever.   \n",
       "249       PG-13    3h 1m  Inside everyone is a frontier waiting to be di...   \n",
       "\n",
       "            budget    box_office  \\\n",
       "0         25000000  2.888450e+07   \n",
       "1          6000000  2.503418e+08   \n",
       "2        185000000  1.006234e+09   \n",
       "3         13000000  4.796192e+07   \n",
       "4           350000  9.550000e+02   \n",
       "..             ...           ...   \n",
       "245       25000000  2.166391e+08   \n",
       "246        4000000  1.448000e+04   \n",
       "247  Not Available  0.000000e+00   \n",
       "248       22000000  5.276789e+07   \n",
       "249       22000000  4.242088e+08   \n",
       "\n",
       "                                                 casts  \\\n",
       "0    Tim Robbins,Morgan Freeman,Bob Gunton,William ...   \n",
       "1    Marlon Brando,Al Pacino,James Caan,Diane Keato...   \n",
       "2    Christian Bale,Heath Ledger,Aaron Eckhart,Mich...   \n",
       "3    Al Pacino,Robert De Niro,Robert Duvall,Diane K...   \n",
       "4    Henry Fonda,Lee J. Cobb,Martin Balsam,John Fie...   \n",
       "..                                                 ...   \n",
       "245  Viola Davis,Emma Stone,Octavia Spencer,Bryce D...   \n",
       "246  Maksim Munzuk,Yuriy Solomin,Mikhail Bychkov,Vl...   \n",
       "247  Scott Weinger,Robin Williams,Linda Larkin,Jona...   \n",
       "248  Ben Kingsley,John Gielgud,Rohini Hattangadi,Ro...   \n",
       "249  Kevin Costner,Mary McDonnell,Graham Greene,Rod...   \n",
       "\n",
       "                    directors  \\\n",
       "0              Frank Darabont   \n",
       "1        Francis Ford Coppola   \n",
       "2           Christopher Nolan   \n",
       "3        Francis Ford Coppola   \n",
       "4                Sidney Lumet   \n",
       "..                        ...   \n",
       "245               Tate Taylor   \n",
       "246            Akira Kurosawa   \n",
       "247  Ron Clements,John Musker   \n",
       "248      Richard Attenborough   \n",
       "249             Kevin Costner   \n",
       "\n",
       "                                             writers    genre_1    genre_2  \\\n",
       "0                        Stephen King,Frank Darabont      Drama       None   \n",
       "1                    Mario Puzo,Francis Ford Coppola      Crime      Drama   \n",
       "2    Jonathan Nolan,Christopher Nolan,David S. Goyer     Action      Crime   \n",
       "3                    Francis Ford Coppola,Mario Puzo      Crime      Drama   \n",
       "4                                      Reginald Rose      Crime      Drama   \n",
       "..                                               ...        ...        ...   \n",
       "245                     Tate Taylor,Kathryn Stockett      Drama       None   \n",
       "246    Akira Kurosawa,Yuriy Nagibin,Vladimir Arsenev  Adventure  Biography   \n",
       "247             Ron Clements,John Musker,Ted Elliott  Animation  Adventure   \n",
       "248                                      John Briley  Biography      Drama   \n",
       "249                                    Michael Blake  Adventure      Drama   \n",
       "\n",
       "     genre_3  \n",
       "0       None  \n",
       "1       None  \n",
       "2      Drama  \n",
       "3       None  \n",
       "4       None  \n",
       "..       ...  \n",
       "245     None  \n",
       "246    Drama  \n",
       "247   Comedy  \n",
       "248  History  \n",
       "249  Western  \n",
       "\n",
       "[247 rows x 16 columns]"
      ]
     },
     "execution_count": 29,
     "metadata": {},
     "output_type": "execute_result"
    }
   ],
   "source": [
    "cast = input(\"Enter the cast name: \")\n",
    "cast_movie = df[df['casts'].str.contains(cast)]\n",
    "cast_movie"
   ]
  },
  {
   "cell_type": "markdown",
   "id": "696f8316",
   "metadata": {},
   "source": [
    ">> PART 3"
   ]
  },
  {
   "cell_type": "markdown",
   "id": "cfd7da5c",
   "metadata": {},
   "source": [
    "# CONTENT BASED FILTERING"
   ]
  },
  {
   "cell_type": "markdown",
   "id": "cefe229d",
   "metadata": {},
   "source": [
    "-- when model looks at the content of the shows and movies you've watched and recommends similar content based on what you seem to like."
   ]
  },
  {
   "cell_type": "markdown",
   "id": "1ea24fcd",
   "metadata": {},
   "source": [
    "### Term Frequency-Inverse Document Frequency"
   ]
  },
  {
   "cell_type": "markdown",
   "id": "a8a65223",
   "metadata": {},
   "source": [
    "It is a numerical statistic that quantifies the significance of a word in a corpus or collection of documents.Used in information retrieval, text mining, and user modelling searches, it is frequently employed as a weighting factor. To account for the fact that certain words are used more frequently than others overall, the tf-idf value rises according to the number of times a word appears in the document and is offset by the number of documents in the corpus that contain the term. One of the most well-liked term-weighting methods is tf-idf."
   ]
  },
  {
   "cell_type": "markdown",
   "id": "8ca5d24c",
   "metadata": {},
   "source": [
    "The first part, \"term frequency,\" simply measures how often a word appears in a document. So if a document mentions the word \"ok\" 5 times, its term frequency for \"ok\" is 5.\n",
    "\n",
    "The second part, \"inverse document frequency,\" measures how rare a word is across all documents in the corpus. It's calculated by dividing the total number of documents in the corpus by the number of documents that contain the word, and then taking the logarithm of that ratio. This means that words that appear in many documents (like \"the\" or \"and\") will have a low IDF score, while words that appear in relatively few documents (like \"pangolin\" or \"quokka\") will have a high IDF score."
   ]
  },
  {
   "cell_type": "markdown",
   "id": "bb6ed89e",
   "metadata": {},
   "source": [
    "We simply multiply the term frequency by the inverse document frequency.\n",
    "This implies that terms that often occur in a document but infrequently in the corpus as a whole will have a high TF-IDF score, whereas words that are prevalent across many documents would have a low score.\n",
    "\n",
    "##### TF-IDF scores can help us identify important words or phrases in a document or corpus."
   ]
  },
  {
   "cell_type": "markdown",
   "id": "58c13de8",
   "metadata": {},
   "source": [
    "## terminologies\n",
    "\n",
    "#### - tf(t,d) = count of t in d / number of words in d\n",
    "#### - df(t) = occurrence of t in documents\n",
    "#### - idf(t) = N/df or idf(t) = log(N/(df + 1))\n",
    "\n",
    "### tf-idf(t, d) = tf(t, d) * log(N/(df + 1))\n"
   ]
  },
  {
   "cell_type": "code",
   "execution_count": 54,
   "id": "c5278990",
   "metadata": {},
   "outputs": [],
   "source": [
    "from sklearn.feature_extraction.text import TfidfVectorizer\n",
    "from sklearn.metrics.pairwise import cosine_similarity"
   ]
  },
  {
   "attachments": {
    "1_R1NmayfziRv8QKKUw4dt_w.webp": {
     "image/webp": "[encoded data removed]"
    }
   },
   "cell_type": "markdown",
   "id": "605e16a5",
   "metadata": {},
   "source": [
    "# removing stopwords which are mentioned below:\n",
    "\n",
    "![1_R1NmayfziRv8QKKUw4dt_w.webp](attachment:1_R1NmayfziRv8QKKUw4dt_w.webp)"
   ]
  },
  {
   "cell_type": "code",
   "execution_count": 55,
   "id": "73b9b1a5",
   "metadata": {},
   "outputs": [],
   "source": [
    "tfidf = TfidfVectorizer(stop_words='english')"
   ]
  },
  {
   "cell_type": "markdown",
   "id": "c7ec443c",
   "metadata": {},
   "source": [
    "# Construct the required TF-IDF matrix by fitting and transforming the data"
   ]
  },
  {
   "cell_type": "code",
   "execution_count": 56,
   "id": "3c928f5e",
   "metadata": {},
   "outputs": [
    {
     "data": {
      "text/html": [
       "<div>\n",
       "<style scoped>\n",
       "    .dataframe tbody tr th:only-of-type {\n",
       "        vertical-align: middle;\n",
       "    }\n",
       "\n",
       "    .dataframe tbody tr th {\n",
       "        vertical-align: top;\n",
       "    }\n",
       "\n",
       "    .dataframe thead th {\n",
       "        text-align: right;\n",
       "    }\n",
       "</style>\n",
       "<table border=\"1\" class=\"dataframe\">\n",
       "  <thead>\n",
       "    <tr style=\"text-align: right;\">\n",
       "      <th></th>\n",
       "      <th>1000</th>\n",
       "      <th>142</th>\n",
       "      <th>15</th>\n",
       "      <th>1925</th>\n",
       "      <th>1927</th>\n",
       "      <th>1931</th>\n",
       "      <th>1938</th>\n",
       "      <th>1940</th>\n",
       "      <th>1944</th>\n",
       "      <th>1945</th>\n",
       "      <th>...</th>\n",
       "      <th>worlds</th>\n",
       "      <th>worse</th>\n",
       "      <th>writer</th>\n",
       "      <th>written</th>\n",
       "      <th>wrongly</th>\n",
       "      <th>year</th>\n",
       "      <th>years</th>\n",
       "      <th>young</th>\n",
       "      <th>youth</th>\n",
       "      <th>zealand</th>\n",
       "    </tr>\n",
       "  </thead>\n",
       "  <tbody>\n",
       "    <tr>\n",
       "      <th>0</th>\n",
       "      <td>0.0</td>\n",
       "      <td>0.0</td>\n",
       "      <td>0.0</td>\n",
       "      <td>0.0</td>\n",
       "      <td>0.0</td>\n",
       "      <td>0.0</td>\n",
       "      <td>0.0</td>\n",
       "      <td>0.0</td>\n",
       "      <td>0.0</td>\n",
       "      <td>0.0</td>\n",
       "      <td>...</td>\n",
       "      <td>0.0</td>\n",
       "      <td>0.0</td>\n",
       "      <td>0.0</td>\n",
       "      <td>0.0</td>\n",
       "      <td>0.0</td>\n",
       "      <td>0.0</td>\n",
       "      <td>0.0</td>\n",
       "      <td>0.0</td>\n",
       "      <td>0.0</td>\n",
       "      <td>0.0</td>\n",
       "    </tr>\n",
       "    <tr>\n",
       "      <th>1</th>\n",
       "      <td>0.0</td>\n",
       "      <td>0.0</td>\n",
       "      <td>0.0</td>\n",
       "      <td>0.0</td>\n",
       "      <td>0.0</td>\n",
       "      <td>0.0</td>\n",
       "      <td>0.0</td>\n",
       "      <td>0.0</td>\n",
       "      <td>0.0</td>\n",
       "      <td>0.0</td>\n",
       "      <td>...</td>\n",
       "      <td>0.0</td>\n",
       "      <td>0.0</td>\n",
       "      <td>0.0</td>\n",
       "      <td>0.0</td>\n",
       "      <td>0.0</td>\n",
       "      <td>0.0</td>\n",
       "      <td>0.0</td>\n",
       "      <td>0.0</td>\n",
       "      <td>0.0</td>\n",
       "      <td>0.0</td>\n",
       "    </tr>\n",
       "    <tr>\n",
       "      <th>2</th>\n",
       "      <td>0.0</td>\n",
       "      <td>0.0</td>\n",
       "      <td>0.0</td>\n",
       "      <td>0.0</td>\n",
       "      <td>0.0</td>\n",
       "      <td>0.0</td>\n",
       "      <td>0.0</td>\n",
       "      <td>0.0</td>\n",
       "      <td>0.0</td>\n",
       "      <td>0.0</td>\n",
       "      <td>...</td>\n",
       "      <td>0.0</td>\n",
       "      <td>0.0</td>\n",
       "      <td>0.0</td>\n",
       "      <td>0.0</td>\n",
       "      <td>0.0</td>\n",
       "      <td>0.0</td>\n",
       "      <td>0.0</td>\n",
       "      <td>0.0</td>\n",
       "      <td>0.0</td>\n",
       "      <td>0.0</td>\n",
       "    </tr>\n",
       "    <tr>\n",
       "      <th>3</th>\n",
       "      <td>0.0</td>\n",
       "      <td>0.0</td>\n",
       "      <td>0.0</td>\n",
       "      <td>0.0</td>\n",
       "      <td>0.0</td>\n",
       "      <td>0.0</td>\n",
       "      <td>0.0</td>\n",
       "      <td>0.0</td>\n",
       "      <td>0.0</td>\n",
       "      <td>0.0</td>\n",
       "      <td>...</td>\n",
       "      <td>0.0</td>\n",
       "      <td>0.0</td>\n",
       "      <td>0.0</td>\n",
       "      <td>0.0</td>\n",
       "      <td>0.0</td>\n",
       "      <td>0.0</td>\n",
       "      <td>0.0</td>\n",
       "      <td>0.0</td>\n",
       "      <td>0.0</td>\n",
       "      <td>0.0</td>\n",
       "    </tr>\n",
       "    <tr>\n",
       "      <th>4</th>\n",
       "      <td>0.0</td>\n",
       "      <td>0.0</td>\n",
       "      <td>0.0</td>\n",
       "      <td>0.0</td>\n",
       "      <td>0.0</td>\n",
       "      <td>0.0</td>\n",
       "      <td>0.0</td>\n",
       "      <td>0.0</td>\n",
       "      <td>0.0</td>\n",
       "      <td>0.0</td>\n",
       "      <td>...</td>\n",
       "      <td>0.0</td>\n",
       "      <td>0.0</td>\n",
       "      <td>0.0</td>\n",
       "      <td>0.0</td>\n",
       "      <td>0.0</td>\n",
       "      <td>0.0</td>\n",
       "      <td>0.0</td>\n",
       "      <td>0.0</td>\n",
       "      <td>0.0</td>\n",
       "      <td>0.0</td>\n",
       "    </tr>\n",
       "  </tbody>\n",
       "</table>\n",
       "<p>5 rows × 843 columns</p>\n",
       "</div>"
      ],
      "text/plain": [
       "   1000  142   15  1925  1927  1931  1938  1940  1944  1945  ...  worlds  \\\n",
       "0   0.0  0.0  0.0   0.0   0.0   0.0   0.0   0.0   0.0   0.0  ...     0.0   \n",
       "1   0.0  0.0  0.0   0.0   0.0   0.0   0.0   0.0   0.0   0.0  ...     0.0   \n",
       "2   0.0  0.0  0.0   0.0   0.0   0.0   0.0   0.0   0.0   0.0  ...     0.0   \n",
       "3   0.0  0.0  0.0   0.0   0.0   0.0   0.0   0.0   0.0   0.0  ...     0.0   \n",
       "4   0.0  0.0  0.0   0.0   0.0   0.0   0.0   0.0   0.0   0.0  ...     0.0   \n",
       "\n",
       "   worse  writer  written  wrongly  year  years  young  youth  zealand  \n",
       "0    0.0     0.0      0.0      0.0   0.0    0.0    0.0    0.0      0.0  \n",
       "1    0.0     0.0      0.0      0.0   0.0    0.0    0.0    0.0      0.0  \n",
       "2    0.0     0.0      0.0      0.0   0.0    0.0    0.0    0.0      0.0  \n",
       "3    0.0     0.0      0.0      0.0   0.0    0.0    0.0    0.0      0.0  \n",
       "4    0.0     0.0      0.0      0.0   0.0    0.0    0.0    0.0      0.0  \n",
       "\n",
       "[5 rows x 843 columns]"
      ]
     },
     "execution_count": 56,
     "metadata": {},
     "output_type": "execute_result"
    }
   ],
   "source": [
    "tfidf_mat =  tfidf.fit_transform(df['tagline'])\n",
    "tfidf_df = pd.DataFrame(tfidf_mat.toarray(), columns=tfidf.get_feature_names_out())\n",
    "tfidf_df.head()"
   ]
  },
  {
   "cell_type": "markdown",
   "id": "94dcf4c8",
   "metadata": {},
   "source": [
    "#  Cosine similarity"
   ]
  },
  {
   "cell_type": "markdown",
   "id": "e4f7ef5f",
   "metadata": {},
   "source": [
    "- We're making use of Cosine similarity. Cosine similarity is a measure of similarity between two non-zero vectors defined in an inner product space in data analysis. Cosine similarity is defined as the cosine of the angle between the vectors, or the dot product of the vectors divided by the product of their lengths."
   ]
  },
  {
   "cell_type": "code",
   "execution_count": 57,
   "id": "804e5cb0",
   "metadata": {},
   "outputs": [],
   "source": [
    "from sklearn.metrics.pairwise import linear_kernel"
   ]
  },
  {
   "cell_type": "markdown",
   "id": "674577e4",
   "metadata": {},
   "source": [
    "## Compute cosine similarity matrix"
   ]
  },
  {
   "cell_type": "code",
   "execution_count": 58,
   "id": "77a3100b",
   "metadata": {},
   "outputs": [],
   "source": [
    "cosine_similarity = linear_kernel(tfidf_mat, tfidf_mat)"
   ]
  },
  {
   "cell_type": "markdown",
   "id": "81b727b7",
   "metadata": {},
   "source": [
    "# create index for each movie name"
   ]
  },
  {
   "cell_type": "code",
   "execution_count": 59,
   "id": "7d1cb996",
   "metadata": {},
   "outputs": [
    {
     "data": {
      "text/plain": [
       "name\n",
       "The Shawshank Redemption                             0\n",
       "The Godfather                                        1\n",
       "The Dark Knight                                      2\n",
       "The Godfather Part II                                3\n",
       "12 Angry Men                                         4\n",
       "Schindler's List                                     5\n",
       "The Lord of the Rings: The Return of the King        6\n",
       "Pulp Fiction                                         7\n",
       "The Lord of the Rings: The Fellowship of the Ring    8\n",
       "The Good, the Bad and the Ugly                       9\n",
       "dtype: int64"
      ]
     },
     "execution_count": 59,
     "metadata": {},
     "output_type": "execute_result"
    }
   ],
   "source": [
    "index = pd.Series(df.index, index=df['name']).drop_duplicates()\n",
    "index.head(10)"
   ]
  },
  {
   "cell_type": "markdown",
   "id": "902fef15",
   "metadata": {},
   "source": [
    "# recommendations system using tagline (just one column)"
   ]
  },
  {
   "cell_type": "code",
   "execution_count": 60,
   "id": "f7311cfa",
   "metadata": {},
   "outputs": [],
   "source": [
    "def recommendation(movie_name, cosine_similarity=cosine_similarity):\n",
    "    \n",
    "    movie_index = index[movie_name]\n",
    "    # Get the pairwsie similarity scores of all movies with that movie\n",
    "    similarity_score = list(enumerate(cosine_similarity[movie_index]))\n",
    "    \n",
    "    # Sort the movies based on the similarity scores\n",
    "    similarity_score = sorted(similarity_score,key=lambda x: x[1],reverse=True)\n",
    "    \n",
    "    # Get the scores of the 10 most similar movies\n",
    "    similarity_score = similarity_score[1:11]\n",
    "    \n",
    "    movie_indices = [i[0] for i in similarity_score]\n",
    "    \n",
    "    # Return the top 10 most similar movies\n",
    "    return df['name'].iloc[movie_indices]\n"
   ]
  },
  {
   "cell_type": "code",
   "execution_count": 61,
   "id": "de8a326e",
   "metadata": {},
   "outputs": [
    {
     "name": "stdout",
     "output_type": "stream",
     "text": [
      "Enter your recent watched movie: Avengers: Infinity War\n"
     ]
    },
    {
     "data": {
      "text/plain": [
       "65                    Spider-Man: Into the Spider-Verse\n",
       "5                                      Schindler's List\n",
       "0                              The Shawshank Redemption\n",
       "1                                         The Godfather\n",
       "2                                       The Dark Knight\n",
       "3                                 The Godfather Part II\n",
       "4                                          12 Angry Men\n",
       "6         The Lord of the Rings: The Return of the King\n",
       "7                                          Pulp Fiction\n",
       "8     The Lord of the Rings: The Fellowship of the Ring\n",
       "Name: name, dtype: object"
      ]
     },
     "execution_count": 61,
     "metadata": {},
     "output_type": "execute_result"
    }
   ],
   "source": [
    "movie_r = input(\"Enter your recent watched movie: \")\n",
    "recommendation(movie_r)\n",
    "# Avengers: Infinity War -->> problem here\n",
    "# City of God"
   ]
  },
  {
   "cell_type": "markdown",
   "id": "2816693a",
   "metadata": {},
   "source": [
    "# Count Vectorizer"
   ]
  },
  {
   "cell_type": "markdown",
   "id": "e8dd0ae9",
   "metadata": {},
   "source": [
    "### here we've used only one column to predict/ recomend which is not very accurate or preferable to use\n",
    "### let's use more column for recommendations."
   ]
  },
  {
   "cell_type": "markdown",
   "id": "36065e4a",
   "metadata": {},
   "source": [
    "## using below attributes:\n",
    "1) Name\n",
    "\n",
    "2) Cast\n",
    "\n",
    "3) Director\n",
    "\n",
    "4) Genre\n",
    "\n",
    "5) Tagline"
   ]
  },
  {
   "cell_type": "code",
   "execution_count": 40,
   "id": "b3d53218",
   "metadata": {},
   "outputs": [],
   "source": [
    "df_new = df.fillna('')"
   ]
  },
  {
   "cell_type": "code",
   "execution_count": 41,
   "id": "8e94a000",
   "metadata": {},
   "outputs": [],
   "source": [
    "# using that mentioned 5 features for recommendation\n",
    "\n",
    "features = ['name','cast','directors','genre','tagline']\n",
    "def combined(five):\n",
    "    return five['name'] + five['casts'] + five['directors'] + five['genre'] + five['tagline']    "
   ]
  },
  {
   "cell_type": "code",
   "execution_count": 62,
   "id": "9151066c",
   "metadata": {},
   "outputs": [
    {
     "name": "stdout",
     "output_type": "stream",
     "text": [
      "The Shawshank RedemptionTim Robbins,Morgan Freeman,Bob Gunton,William Sadler,Clancy Brown,Gil Bellows,Mark Rolston,James Whitmore,Jeffrey DeMunn,Larry Brandenburg,Neil Giuntoli,Brian Libby,David Proval,Joseph Ragno,Jude Ciccolella,Paul McCrane,Renee Blaine,Scott MannFrank DarabontDramaFear can hold you prisoner. Hope can set you free.\n"
     ]
    },
    {
     "data": {
      "text/html": [
       "<div>\n",
       "<style scoped>\n",
       "    .dataframe tbody tr th:only-of-type {\n",
       "        vertical-align: middle;\n",
       "    }\n",
       "\n",
       "    .dataframe tbody tr th {\n",
       "        vertical-align: top;\n",
       "    }\n",
       "\n",
       "    .dataframe thead th {\n",
       "        text-align: right;\n",
       "    }\n",
       "</style>\n",
       "<table border=\"1\" class=\"dataframe\">\n",
       "  <thead>\n",
       "    <tr style=\"text-align: right;\">\n",
       "      <th></th>\n",
       "      <th>index</th>\n",
       "      <th>rank</th>\n",
       "      <th>name</th>\n",
       "      <th>year</th>\n",
       "      <th>rating</th>\n",
       "      <th>genre</th>\n",
       "      <th>certificate</th>\n",
       "      <th>run_time</th>\n",
       "      <th>tagline</th>\n",
       "      <th>budget</th>\n",
       "      <th>box_office</th>\n",
       "      <th>casts</th>\n",
       "      <th>directors</th>\n",
       "      <th>writers</th>\n",
       "      <th>genre_1</th>\n",
       "      <th>genre_2</th>\n",
       "      <th>genre_3</th>\n",
       "      <th>combine_features</th>\n",
       "    </tr>\n",
       "  </thead>\n",
       "  <tbody>\n",
       "    <tr>\n",
       "      <th>0</th>\n",
       "      <td>0</td>\n",
       "      <td>1</td>\n",
       "      <td>The Shawshank Redemption</td>\n",
       "      <td>1994</td>\n",
       "      <td>9.3</td>\n",
       "      <td>Drama</td>\n",
       "      <td>R</td>\n",
       "      <td>2h 22m</td>\n",
       "      <td>Fear can hold you prisoner. Hope can set you f...</td>\n",
       "      <td>25000000</td>\n",
       "      <td>2.888450e+07</td>\n",
       "      <td>Tim Robbins,Morgan Freeman,Bob Gunton,William ...</td>\n",
       "      <td>Frank Darabont</td>\n",
       "      <td>Stephen King,Frank Darabont</td>\n",
       "      <td>Drama</td>\n",
       "      <td></td>\n",
       "      <td></td>\n",
       "      <td>The Shawshank RedemptionTim Robbins,Morgan Fre...</td>\n",
       "    </tr>\n",
       "    <tr>\n",
       "      <th>1</th>\n",
       "      <td>1</td>\n",
       "      <td>2</td>\n",
       "      <td>The Godfather</td>\n",
       "      <td>1972</td>\n",
       "      <td>9.2</td>\n",
       "      <td>Crime,Drama</td>\n",
       "      <td>R</td>\n",
       "      <td>2h 55m</td>\n",
       "      <td>An offer you can't refuse.</td>\n",
       "      <td>6000000</td>\n",
       "      <td>2.503418e+08</td>\n",
       "      <td>Marlon Brando,Al Pacino,James Caan,Diane Keato...</td>\n",
       "      <td>Francis Ford Coppola</td>\n",
       "      <td>Mario Puzo,Francis Ford Coppola</td>\n",
       "      <td>Crime</td>\n",
       "      <td>Drama</td>\n",
       "      <td></td>\n",
       "      <td>The GodfatherMarlon Brando,Al Pacino,James Caa...</td>\n",
       "    </tr>\n",
       "    <tr>\n",
       "      <th>2</th>\n",
       "      <td>2</td>\n",
       "      <td>3</td>\n",
       "      <td>The Dark Knight</td>\n",
       "      <td>2008</td>\n",
       "      <td>9.0</td>\n",
       "      <td>Action,Crime,Drama</td>\n",
       "      <td>PG-13</td>\n",
       "      <td>2h 32m</td>\n",
       "      <td>Why So Serious?</td>\n",
       "      <td>185000000</td>\n",
       "      <td>1.006234e+09</td>\n",
       "      <td>Christian Bale,Heath Ledger,Aaron Eckhart,Mich...</td>\n",
       "      <td>Christopher Nolan</td>\n",
       "      <td>Jonathan Nolan,Christopher Nolan,David S. Goyer</td>\n",
       "      <td>Action</td>\n",
       "      <td>Crime</td>\n",
       "      <td>Drama</td>\n",
       "      <td>The Dark KnightChristian Bale,Heath Ledger,Aar...</td>\n",
       "    </tr>\n",
       "    <tr>\n",
       "      <th>3</th>\n",
       "      <td>3</td>\n",
       "      <td>4</td>\n",
       "      <td>The Godfather Part II</td>\n",
       "      <td>1974</td>\n",
       "      <td>9.0</td>\n",
       "      <td>Crime,Drama</td>\n",
       "      <td>R</td>\n",
       "      <td>3h 22m</td>\n",
       "      <td>All the power on earth can't change destiny.</td>\n",
       "      <td>13000000</td>\n",
       "      <td>4.796192e+07</td>\n",
       "      <td>Al Pacino,Robert De Niro,Robert Duvall,Diane K...</td>\n",
       "      <td>Francis Ford Coppola</td>\n",
       "      <td>Francis Ford Coppola,Mario Puzo</td>\n",
       "      <td>Crime</td>\n",
       "      <td>Drama</td>\n",
       "      <td></td>\n",
       "      <td>The Godfather Part IIAl Pacino,Robert De Niro,...</td>\n",
       "    </tr>\n",
       "    <tr>\n",
       "      <th>4</th>\n",
       "      <td>4</td>\n",
       "      <td>5</td>\n",
       "      <td>12 Angry Men</td>\n",
       "      <td>1957</td>\n",
       "      <td>9.0</td>\n",
       "      <td>Crime,Drama</td>\n",
       "      <td>Approved</td>\n",
       "      <td>1h 36m</td>\n",
       "      <td>Life Is In Their Hands -- Death Is On Their Mi...</td>\n",
       "      <td>350000</td>\n",
       "      <td>9.550000e+02</td>\n",
       "      <td>Henry Fonda,Lee J. Cobb,Martin Balsam,John Fie...</td>\n",
       "      <td>Sidney Lumet</td>\n",
       "      <td>Reginald Rose</td>\n",
       "      <td>Crime</td>\n",
       "      <td>Drama</td>\n",
       "      <td></td>\n",
       "      <td>12 Angry MenHenry Fonda,Lee J. Cobb,Martin Bal...</td>\n",
       "    </tr>\n",
       "  </tbody>\n",
       "</table>\n",
       "</div>"
      ],
      "text/plain": [
       "   index  rank                      name  year  rating               genre  \\\n",
       "0      0     1  The Shawshank Redemption  1994     9.3               Drama   \n",
       "1      1     2             The Godfather  1972     9.2         Crime,Drama   \n",
       "2      2     3           The Dark Knight  2008     9.0  Action,Crime,Drama   \n",
       "3      3     4     The Godfather Part II  1974     9.0         Crime,Drama   \n",
       "4      4     5              12 Angry Men  1957     9.0         Crime,Drama   \n",
       "\n",
       "  certificate run_time                                            tagline  \\\n",
       "0           R   2h 22m  Fear can hold you prisoner. Hope can set you f...   \n",
       "1           R   2h 55m                         An offer you can't refuse.   \n",
       "2       PG-13   2h 32m                                    Why So Serious?   \n",
       "3           R   3h 22m       All the power on earth can't change destiny.   \n",
       "4    Approved   1h 36m  Life Is In Their Hands -- Death Is On Their Mi...   \n",
       "\n",
       "      budget    box_office                                              casts  \\\n",
       "0   25000000  2.888450e+07  Tim Robbins,Morgan Freeman,Bob Gunton,William ...   \n",
       "1    6000000  2.503418e+08  Marlon Brando,Al Pacino,James Caan,Diane Keato...   \n",
       "2  185000000  1.006234e+09  Christian Bale,Heath Ledger,Aaron Eckhart,Mich...   \n",
       "3   13000000  4.796192e+07  Al Pacino,Robert De Niro,Robert Duvall,Diane K...   \n",
       "4     350000  9.550000e+02  Henry Fonda,Lee J. Cobb,Martin Balsam,John Fie...   \n",
       "\n",
       "              directors                                          writers  \\\n",
       "0        Frank Darabont                      Stephen King,Frank Darabont   \n",
       "1  Francis Ford Coppola                  Mario Puzo,Francis Ford Coppola   \n",
       "2     Christopher Nolan  Jonathan Nolan,Christopher Nolan,David S. Goyer   \n",
       "3  Francis Ford Coppola                  Francis Ford Coppola,Mario Puzo   \n",
       "4          Sidney Lumet                                    Reginald Rose   \n",
       "\n",
       "  genre_1 genre_2 genre_3                                   combine_features  \n",
       "0   Drama                  The Shawshank RedemptionTim Robbins,Morgan Fre...  \n",
       "1   Crime   Drama          The GodfatherMarlon Brando,Al Pacino,James Caa...  \n",
       "2  Action   Crime   Drama  The Dark KnightChristian Bale,Heath Ledger,Aar...  \n",
       "3   Crime   Drama          The Godfather Part IIAl Pacino,Robert De Niro,...  \n",
       "4   Crime   Drama          12 Angry MenHenry Fonda,Lee J. Cobb,Martin Bal...  "
      ]
     },
     "execution_count": 62,
     "metadata": {},
     "output_type": "execute_result"
    }
   ],
   "source": [
    "df_new['combine_features'] = df_new.apply(combined,axis=1)\n",
    "print(df_new['combine_features'][0])\n",
    "df_new.head()"
   ]
  },
  {
   "cell_type": "code",
   "execution_count": 63,
   "id": "dfd484c5",
   "metadata": {},
   "outputs": [],
   "source": [
    "from sklearn.feature_extraction.text import CountVectorizer\n",
    "from sklearn.metrics.pairwise import cosine_similarity"
   ]
  },
  {
   "cell_type": "markdown",
   "id": "0ae06ffd",
   "metadata": {},
   "source": [
    "# CREATING COUNTVECTORIZER AND COSINE SIMILARITY MATRIX"
   ]
  },
  {
   "cell_type": "code",
   "execution_count": 64,
   "id": "bb2ea26f",
   "metadata": {},
   "outputs": [],
   "source": [
    "cnt = CountVectorizer(stop_words='english')\n",
    "cnt_matrix = cnt.fit_transform(df_new['combine_features'])\n",
    "\n",
    "cosine_similarity_cnt = cosine_similarity(cnt_matrix,cnt_matrix)"
   ]
  },
  {
   "cell_type": "markdown",
   "id": "386ca995",
   "metadata": {},
   "source": [
    "# CREATE INDEX FOR MOVIE NAME"
   ]
  },
  {
   "cell_type": "code",
   "execution_count": 65,
   "id": "091451b6",
   "metadata": {},
   "outputs": [
    {
     "data": {
      "text/plain": [
       "name\n",
       "The Shawshank Redemption                             0\n",
       "The Godfather                                        1\n",
       "The Dark Knight                                      2\n",
       "The Godfather Part II                                3\n",
       "12 Angry Men                                         4\n",
       "Schindler's List                                     5\n",
       "The Lord of the Rings: The Return of the King        6\n",
       "Pulp Fiction                                         7\n",
       "The Lord of the Rings: The Fellowship of the Ring    8\n",
       "The Good, the Bad and the Ugly                       9\n",
       "dtype: int64"
      ]
     },
     "execution_count": 65,
     "metadata": {},
     "output_type": "execute_result"
    }
   ],
   "source": [
    "df_new = df_new.reset_index()\n",
    "index = pd.Series(df_new.index, index=df_new['name'])\n",
    "index.head(10)"
   ]
  },
  {
   "cell_type": "markdown",
   "id": "bc56e470",
   "metadata": {},
   "source": [
    "# RECOMMENDATION SYSTEM"
   ]
  },
  {
   "cell_type": "code",
   "execution_count": 66,
   "id": "34963703",
   "metadata": {},
   "outputs": [],
   "source": [
    "def recommendations(movie_name, cosine_similarity=cosine_similarity):\n",
    "    \n",
    "    movie_index = index[movie_name]\n",
    "    # Get the pairwsie similarity scores of all movies with that movie\n",
    "    similarity_score = list(enumerate(cosine_similarity[movie_index]))\n",
    "    \n",
    "    # Sort the movies based on the similarity scores\n",
    "    similarity_score = sorted(similarity_score,key=lambda x: x[1],reverse=True)\n",
    "    \n",
    "    # Get the scores of the 10 most similar movies\n",
    "    similarity_score = similarity_score[1:11]\n",
    "    \n",
    "    movie_indices = [i[0] for i in similarity_score]\n",
    "    print(\"Your recommendations are:\\n \")\n",
    "    # Return the top 10 most similar movies\n",
    "    return df['name'].iloc[movie_indices]"
   ]
  },
  {
   "cell_type": "markdown",
   "id": "951e5748",
   "metadata": {},
   "source": [
    "# GUI"
   ]
  },
  {
   "cell_type": "code",
   "execution_count": 67,
   "id": "97045b5b",
   "metadata": {},
   "outputs": [
    {
     "name": "stdout",
     "output_type": "stream",
     "text": [
      "Your recommendations are:\n",
      " \n"
     ]
    }
   ],
   "source": [
    "import tkinter as tk \n",
    "\n",
    "def display_GUI():\n",
    "    # get the user input from the entry box\n",
    "    movie_name = entry.get()\n",
    "    \n",
    "    # get the movie recommendations\n",
    "    recommendations_list = recommendations(movie_name,cosine_similarity_cnt) \n",
    "    \n",
    "    # clear any previous recommendations on the GUI\n",
    "    for widget in frame.winfo_children():\n",
    "        widget.destroy()\n",
    "    \n",
    "    \n",
    "    # display the movie recommendations on the GUI\n",
    "    for i, name in enumerate(recommendations_list):\n",
    "        label = tk.Label(frame, text=f\"{i+1}. {name}\",bg='#F5F5DC')\n",
    "        label.pack()\n",
    "        \n",
    "# create the GUI\n",
    "root = tk.Tk()\n",
    "\n",
    "\n",
    "root.title(\"Movie Recommendation System\")\n",
    "\n",
    "\n",
    "root.geometry('600x500')\n",
    "root.configure(bg='#3EB489')\n",
    "\n",
    "# create the entry box and button\n",
    "entry = tk.Entry(root, width=50)\n",
    "entry.pack(pady=10)\n",
    "\n",
    "button = tk.Button(root, text=\"Get Recommendations\", command=display_GUI)\n",
    "button.pack()\n",
    "# create the frame to display movie recommendations\n",
    "frame = tk.Frame(root,bg='#F5F5DC')\n",
    "frame.pack(pady=50)\n",
    "\n",
    "\n",
    "# run the GUI\n",
    "root.mainloop()"
   ]
  },
  {
   "cell_type": "code",
   "execution_count": null,
   "id": "abc1791d",
   "metadata": {},
   "outputs": [],
   "source": []
  },
  {
   "cell_type": "code",
   "execution_count": null,
   "id": "ea8c7a22",
   "metadata": {},
   "outputs": [],
   "source": []
  }
 ],
 "metadata": {
  "kernelspec": {
   "display_name": "Python 3 (ipykernel)",
   "language": "python",
   "name": "python3"
  },
  "language_info": {
   "codemirror_mode": {
    "name": "ipython",
    "version": 3
   },
   "file_extension": ".py",
   "mimetype": "text/x-python",
   "name": "python",
   "nbconvert_exporter": "python",
   "pygments_lexer": "ipython3",
   "version": "3.9.13"
  }
 },
 "nbformat": 4,
 "nbformat_minor": 5
}
